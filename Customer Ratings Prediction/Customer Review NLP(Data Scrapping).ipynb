{
 "cells": [
  {
   "cell_type": "markdown",
   "metadata": {},
   "source": [
    "### Importing Selenium Libraries"
   ]
  },
  {
   "cell_type": "code",
   "execution_count": 1,
   "metadata": {},
   "outputs": [],
   "source": [
    "#import all the required libraries\n",
    "import pandas as pd\n",
    "import selenium\n",
    "from selenium import webdriver\n",
    "import time\n",
    "from selenium.common.exceptions import StaleElementReferenceException, NoSuchElementException"
   ]
  },
  {
   "cell_type": "markdown",
   "metadata": {},
   "source": [
    "### Importing Beautiful Soup Libraries"
   ]
  },
  {
   "cell_type": "code",
   "execution_count": 2,
   "metadata": {},
   "outputs": [],
   "source": [
    "# Importing all the libraries for beautiful soup\n",
    "import requests\n",
    "import bs4\n",
    "import lxml"
   ]
  },
  {
   "cell_type": "markdown",
   "metadata": {},
   "source": [
    "#### Code to display row and column border"
   ]
  },
  {
   "cell_type": "code",
   "execution_count": 3,
   "metadata": {},
   "outputs": [
    {
     "data": {
      "text/html": [
       "<style type=\"text/css\">\n",
       "table.dataframe td, table.dataframe th {\n",
       "    border: 1px  black solid !important;\n",
       "  color: black !important;\n",
       "}\n",
       "</style>\n"
      ],
      "text/plain": [
       "<IPython.core.display.HTML object>"
      ]
     },
     "metadata": {},
     "output_type": "display_data"
    }
   ],
   "source": [
    "%%HTML\n",
    "<style type=\"text/css\">\n",
    "table.dataframe td, table.dataframe th {\n",
    "    border: 1px  black solid !important;\n",
    "  color: black !important;\n",
    "}\n",
    "</style>"
   ]
  },
  {
   "cell_type": "code",
   "execution_count": 4,
   "metadata": {},
   "outputs": [],
   "source": [
    "# Executing the chromedriver.exe file\n",
    "driver = webdriver.Chrome(r\"C:\\Users\\charl\\Desktop\\Study\\DataTrained\\Internship\\Selenium\\driver\\chromedriver.exe\")                                       "
   ]
  },
  {
   "cell_type": "code",
   "execution_count": 5,
   "metadata": {},
   "outputs": [],
   "source": [
    "# URL of the website \n",
    "url = \"https://www.amazon.in/\""
   ]
  },
  {
   "cell_type": "code",
   "execution_count": 6,
   "metadata": {},
   "outputs": [],
   "source": [
    "# Using get method to proceed to the website\n",
    "driver.get(url)"
   ]
  },
  {
   "cell_type": "code",
   "execution_count": 7,
   "metadata": {},
   "outputs": [],
   "source": [
    "# targeting the search text box\n",
    "sesrch_query = driver.find_element_by_id(\"twotabsearchtextbox\")"
   ]
  },
  {
   "cell_type": "code",
   "execution_count": 8,
   "metadata": {},
   "outputs": [],
   "source": [
    "# searching Laptops\n",
    "sesrch_query.send_keys(\"Laptops\")"
   ]
  },
  {
   "cell_type": "code",
   "execution_count": 14,
   "metadata": {},
   "outputs": [],
   "source": [
    "search_btn = driver.find_element_by_id(\"nav-search-submit-button\")"
   ]
  },
  {
   "cell_type": "code",
   "execution_count": 15,
   "metadata": {},
   "outputs": [],
   "source": [
    "search_btn.click()"
   ]
  },
  {
   "cell_type": "markdown",
   "metadata": {},
   "source": [
    "## Amazon Laptops"
   ]
  },
  {
   "cell_type": "code",
   "execution_count": 16,
   "metadata": {},
   "outputs": [],
   "source": [
    "# Collecting url's\n",
    "urls = []\n",
    "\n",
    "base_url = \"https://www.amazon.in/s?k=Laptops&page={}&qid=1627376894&ref=sr_pg_{}\"\n",
    "\n",
    "for i in range(2,5):\n",
    "    \n",
    "    driver.get(base_url.format(i,i))\n",
    "    \n",
    "    for url in driver.find_elements_by_xpath(\"//h2[@class='a-size-mini a-spacing-none a-color-base s-line-clamp-2']//a\"):\n",
    "        \n",
    "        urls.append(url.get_attribute(\"href\"))"
   ]
  },
  {
   "cell_type": "code",
   "execution_count": 20,
   "metadata": {},
   "outputs": [],
   "source": [
    "Reviewes_5 = []\n",
    "\n",
    "for link in urls:\n",
    "    \n",
    "    driver.get(link)\n",
    "    \n",
    "    try:\n",
    "        \n",
    "        cust_rev_5 = driver.find_element_by_css_selector('#histogramTable > tbody > tr:nth-child(1) > td.aok-nowrap > span.a-size-base > a')\n",
    "    \n",
    "        rev_5 = cust_rev_5.get_attribute(\"href\")\n",
    "    \n",
    "        driver.get(rev_5)\n",
    "        \n",
    "        for i in driver.find_elements_by_xpath(\"//span[@class='a-size-base review-text review-text-content']\"):\n",
    "            \n",
    "            Reviewes_5.append(i.text)\n",
    "            \n",
    "            \n",
    "    except NoSuchElementException:\n",
    "        \n",
    "        Reviewes_5.append(\"-\")"
   ]
  },
  {
   "cell_type": "code",
   "execution_count": 23,
   "metadata": {},
   "outputs": [],
   "source": [
    "Reviewes_4 = []\n",
    "\n",
    "Reviewes_3 = []\n",
    "\n",
    "Reviewes_2 = []\n",
    "\n",
    "Reviewes_1 = []\n",
    "\n",
    "\n",
    "for link in urls:\n",
    "    \n",
    "    driver.get(link)\n",
    "    \n",
    "    try:\n",
    "        \n",
    "        cust_rev_4 = driver.find_element_by_css_selector('#histogramTable > tbody > tr:nth-child(2) > td.aok-nowrap > span.a-size-base > a')\n",
    "    \n",
    "        rev_4 = cust_rev_4.get_attribute(\"href\")\n",
    "    \n",
    "        driver.get(rev_4)\n",
    "        \n",
    "        \n",
    "        for i in driver.find_elements_by_xpath(\"//span[@class='a-size-base review-text review-text-content']\"):\n",
    "            \n",
    "            Reviewes_4.append(i.text)\n",
    "            \n",
    "            \n",
    "    except NoSuchElementException:\n",
    "        \n",
    "        Reviewes_4.append(\"-\")\n",
    "        \n",
    "        \n",
    "    try:\n",
    "        \n",
    "        cust_rev_3 = driver.find_element_by_css_selector('#histogramTable > tbody > tr:nth-child(3) > td.aok-nowrap > span.a-size-base > a')\n",
    "    \n",
    "        rev_3 = cust_rev_3.get_attribute(\"href\")\n",
    "    \n",
    "        driver.get(rev_3)\n",
    "        \n",
    "        \n",
    "        for i in driver.find_elements_by_xpath(\"//span[@class='a-size-base review-text review-text-content']\"):\n",
    "            \n",
    "            Reviewes_3.append(i.text)\n",
    "            \n",
    "            \n",
    "    except NoSuchElementException:\n",
    "        \n",
    "        Reviewes_3.append(\"-\")\n",
    "        \n",
    "        \n",
    "    \n",
    "    try:\n",
    "        \n",
    "        cust_rev_2 = driver.find_element_by_css_selector('#histogramTable > tbody > tr:nth-child(4) > td.aok-nowrap > span.a-size-base > a')\n",
    "    \n",
    "        rev_2 = cust_rev_2.get_attribute(\"href\")\n",
    "    \n",
    "        driver.get(rev_2)\n",
    "        \n",
    "        \n",
    "        for i in driver.find_elements_by_xpath(\"//span[@class='a-size-base review-text review-text-content']\"):\n",
    "            \n",
    "            Reviewes_2.append(i.text)\n",
    "            \n",
    "            \n",
    "    except NoSuchElementException:\n",
    "        \n",
    "        Reviewes_2.append(\"-\")\n",
    "        \n",
    "    \n",
    "    try:\n",
    "        \n",
    "        cust_rev_1 = driver.find_element_by_css_selector('#histogramTable > tbody > tr:nth-child(5) > td.aok-nowrap > span.a-size-base > a')\n",
    "    \n",
    "        rev_1 = cust_rev_1.get_attribute(\"href\")\n",
    "    \n",
    "        driver.get(rev_1)\n",
    "        \n",
    "        \n",
    "        for i in driver.find_elements_by_xpath(\"//span[@class='a-size-base review-text review-text-content']\"):\n",
    "            \n",
    "            Reviewes_1.append(i.text)\n",
    "            \n",
    "            \n",
    "    except NoSuchElementException:\n",
    "        \n",
    "        Reviewes_1.append(\"-\")"
   ]
  },
  {
   "cell_type": "code",
   "execution_count": 29,
   "metadata": {},
   "outputs": [],
   "source": [
    "R_1 = Reviewes_1[:90]\n",
    "R_2 = Reviewes_2[:90]\n",
    "R_3 = Reviewes_3[:90]\n",
    "R_4 = Reviewes_4[:90]\n",
    "R_5 = Reviewes_5[:90]"
   ]
  },
  {
   "cell_type": "code",
   "execution_count": 36,
   "metadata": {},
   "outputs": [],
   "source": [
    "import pandas as pd"
   ]
  },
  {
   "cell_type": "code",
   "execution_count": 37,
   "metadata": {},
   "outputs": [],
   "source": [
    "df1_Lap = pd.DataFrame(R_1,columns=[\"Review\"]) "
   ]
  },
  {
   "cell_type": "code",
   "execution_count": 39,
   "metadata": {},
   "outputs": [],
   "source": [
    "df1_Lap[\"Rating\"] = 1"
   ]
  },
  {
   "cell_type": "code",
   "execution_count": 40,
   "metadata": {},
   "outputs": [
    {
     "data": {
      "text/html": [
       "<div>\n",
       "<style scoped>\n",
       "    .dataframe tbody tr th:only-of-type {\n",
       "        vertical-align: middle;\n",
       "    }\n",
       "\n",
       "    .dataframe tbody tr th {\n",
       "        vertical-align: top;\n",
       "    }\n",
       "\n",
       "    .dataframe thead th {\n",
       "        text-align: right;\n",
       "    }\n",
       "</style>\n",
       "<table border=\"1\" class=\"dataframe\">\n",
       "  <thead>\n",
       "    <tr style=\"text-align: right;\">\n",
       "      <th></th>\n",
       "      <th>Review</th>\n",
       "      <th>Rating</th>\n",
       "    </tr>\n",
       "  </thead>\n",
       "  <tbody>\n",
       "    <tr>\n",
       "      <th>0</th>\n",
       "      <td>The product promised a lot of features which m...</td>\n",
       "      <td>1</td>\n",
       "    </tr>\n",
       "    <tr>\n",
       "      <th>1</th>\n",
       "      <td>I already have a Asus Vivibook bought two year...</td>\n",
       "      <td>1</td>\n",
       "    </tr>\n",
       "    <tr>\n",
       "      <th>2</th>\n",
       "      <td>The battery backup is not even 50% of what's m...</td>\n",
       "      <td>1</td>\n",
       "    </tr>\n",
       "    <tr>\n",
       "      <th>3</th>\n",
       "      <td>Its been 30 days I bought this. Dead slow proc...</td>\n",
       "      <td>1</td>\n",
       "    </tr>\n",
       "    <tr>\n",
       "      <th>4</th>\n",
       "      <td>Bettery backup is low low standby</td>\n",
       "      <td>1</td>\n",
       "    </tr>\n",
       "  </tbody>\n",
       "</table>\n",
       "</div>"
      ],
      "text/plain": [
       "                                              Review  Rating\n",
       "0  The product promised a lot of features which m...       1\n",
       "1  I already have a Asus Vivibook bought two year...       1\n",
       "2  The battery backup is not even 50% of what's m...       1\n",
       "3  Its been 30 days I bought this. Dead slow proc...       1\n",
       "4                  Bettery backup is low low standby       1"
      ]
     },
     "execution_count": 40,
     "metadata": {},
     "output_type": "execute_result"
    }
   ],
   "source": [
    "df1_Lap.head()"
   ]
  },
  {
   "cell_type": "code",
   "execution_count": 41,
   "metadata": {},
   "outputs": [],
   "source": [
    "df2_Lap = pd.DataFrame(R_2,columns=[\"Review\"]) \n",
    "df2_Lap[\"Rating\"] = 2"
   ]
  },
  {
   "cell_type": "code",
   "execution_count": 42,
   "metadata": {},
   "outputs": [
    {
     "data": {
      "text/html": [
       "<div>\n",
       "<style scoped>\n",
       "    .dataframe tbody tr th:only-of-type {\n",
       "        vertical-align: middle;\n",
       "    }\n",
       "\n",
       "    .dataframe tbody tr th {\n",
       "        vertical-align: top;\n",
       "    }\n",
       "\n",
       "    .dataframe thead th {\n",
       "        text-align: right;\n",
       "    }\n",
       "</style>\n",
       "<table border=\"1\" class=\"dataframe\">\n",
       "  <thead>\n",
       "    <tr style=\"text-align: right;\">\n",
       "      <th></th>\n",
       "      <th>Review</th>\n",
       "      <th>Rating</th>\n",
       "    </tr>\n",
       "  </thead>\n",
       "  <tbody>\n",
       "    <tr>\n",
       "      <th>0</th>\n",
       "      <td>Just got it yesterday but aready i can see a l...</td>\n",
       "      <td>2</td>\n",
       "    </tr>\n",
       "    <tr>\n",
       "      <th>1</th>\n",
       "      <td>Might as well but a celeron processor based la...</td>\n",
       "      <td>2</td>\n",
       "    </tr>\n",
       "    <tr>\n",
       "      <th>2</th>\n",
       "      <td>It has a clockspeed of only 1GHz,so i would su...</td>\n",
       "      <td>2</td>\n",
       "    </tr>\n",
       "    <tr>\n",
       "      <th>3</th>\n",
       "      <td>Don't waste your Money guys. This laptop is ju...</td>\n",
       "      <td>2</td>\n",
       "    </tr>\n",
       "    <tr>\n",
       "      <th>4</th>\n",
       "      <td>It hangs a lot</td>\n",
       "      <td>2</td>\n",
       "    </tr>\n",
       "  </tbody>\n",
       "</table>\n",
       "</div>"
      ],
      "text/plain": [
       "                                              Review  Rating\n",
       "0  Just got it yesterday but aready i can see a l...       2\n",
       "1  Might as well but a celeron processor based la...       2\n",
       "2  It has a clockspeed of only 1GHz,so i would su...       2\n",
       "3  Don't waste your Money guys. This laptop is ju...       2\n",
       "4                                     It hangs a lot       2"
      ]
     },
     "execution_count": 42,
     "metadata": {},
     "output_type": "execute_result"
    }
   ],
   "source": [
    "df2_Lap.head()"
   ]
  },
  {
   "cell_type": "code",
   "execution_count": 43,
   "metadata": {},
   "outputs": [],
   "source": [
    "df3_Lap = pd.DataFrame(R_3,columns=[\"Review\"]) \n",
    "df3_Lap[\"Rating\"] = 3"
   ]
  },
  {
   "cell_type": "code",
   "execution_count": 44,
   "metadata": {},
   "outputs": [
    {
     "data": {
      "text/html": [
       "<div>\n",
       "<style scoped>\n",
       "    .dataframe tbody tr th:only-of-type {\n",
       "        vertical-align: middle;\n",
       "    }\n",
       "\n",
       "    .dataframe tbody tr th {\n",
       "        vertical-align: top;\n",
       "    }\n",
       "\n",
       "    .dataframe thead th {\n",
       "        text-align: right;\n",
       "    }\n",
       "</style>\n",
       "<table border=\"1\" class=\"dataframe\">\n",
       "  <thead>\n",
       "    <tr style=\"text-align: right;\">\n",
       "      <th></th>\n",
       "      <th>Review</th>\n",
       "      <th>Rating</th>\n",
       "    </tr>\n",
       "  </thead>\n",
       "  <tbody>\n",
       "    <tr>\n",
       "      <th>0</th>\n",
       "      <td>The laptop looks nice and sleek but is too slo...</td>\n",
       "      <td>3</td>\n",
       "    </tr>\n",
       "    <tr>\n",
       "      <th>1</th>\n",
       "      <td>I gave rate after 18 days it's performance is ...</td>\n",
       "      <td>3</td>\n",
       "    </tr>\n",
       "    <tr>\n",
       "      <th>2</th>\n",
       "      <td>Very slow processor take long to respond in op...</td>\n",
       "      <td>3</td>\n",
       "    </tr>\n",
       "    <tr>\n",
       "      <th>3</th>\n",
       "      <td>Battery charging still approx 3-4 hrs</td>\n",
       "      <td>3</td>\n",
       "    </tr>\n",
       "    <tr>\n",
       "      <th>4</th>\n",
       "      <td>Speaker volume is very low . The audio is not ...</td>\n",
       "      <td>3</td>\n",
       "    </tr>\n",
       "  </tbody>\n",
       "</table>\n",
       "</div>"
      ],
      "text/plain": [
       "                                              Review  Rating\n",
       "0  The laptop looks nice and sleek but is too slo...       3\n",
       "1  I gave rate after 18 days it's performance is ...       3\n",
       "2  Very slow processor take long to respond in op...       3\n",
       "3              Battery charging still approx 3-4 hrs       3\n",
       "4  Speaker volume is very low . The audio is not ...       3"
      ]
     },
     "execution_count": 44,
     "metadata": {},
     "output_type": "execute_result"
    }
   ],
   "source": [
    "df3_Lap.head()"
   ]
  },
  {
   "cell_type": "code",
   "execution_count": 45,
   "metadata": {},
   "outputs": [],
   "source": [
    "df4_Lap = pd.DataFrame(R_4,columns=[\"Review\"]) \n",
    "df4_Lap[\"Rating\"] = 4"
   ]
  },
  {
   "cell_type": "code",
   "execution_count": 46,
   "metadata": {},
   "outputs": [
    {
     "data": {
      "text/html": [
       "<div>\n",
       "<style scoped>\n",
       "    .dataframe tbody tr th:only-of-type {\n",
       "        vertical-align: middle;\n",
       "    }\n",
       "\n",
       "    .dataframe tbody tr th {\n",
       "        vertical-align: top;\n",
       "    }\n",
       "\n",
       "    .dataframe thead th {\n",
       "        text-align: right;\n",
       "    }\n",
       "</style>\n",
       "<table border=\"1\" class=\"dataframe\">\n",
       "  <thead>\n",
       "    <tr style=\"text-align: right;\">\n",
       "      <th></th>\n",
       "      <th>Review</th>\n",
       "      <th>Rating</th>\n",
       "    </tr>\n",
       "  </thead>\n",
       "  <tbody>\n",
       "    <tr>\n",
       "      <th>0</th>\n",
       "      <td>PROS:Best in its class.\\nBoots in lightening 5...</td>\n",
       "      <td>4</td>\n",
       "    </tr>\n",
       "    <tr>\n",
       "      <th>1</th>\n",
       "      <td>The product is nice but the only thing annoyin...</td>\n",
       "      <td>4</td>\n",
       "    </tr>\n",
       "    <tr>\n",
       "      <th>2</th>\n",
       "      <td>Asus bodybuilding quality is better 🖤</td>\n",
       "      <td>4</td>\n",
       "    </tr>\n",
       "    <tr>\n",
       "      <th>3</th>\n",
       "      <td>The laptop is quite nice and it is more than t...</td>\n",
       "      <td>4</td>\n",
       "    </tr>\n",
       "    <tr>\n",
       "      <th>4</th>\n",
       "      <td>Satisfied with the purchase\\nIt is suitable fo...</td>\n",
       "      <td>4</td>\n",
       "    </tr>\n",
       "  </tbody>\n",
       "</table>\n",
       "</div>"
      ],
      "text/plain": [
       "                                              Review  Rating\n",
       "0  PROS:Best in its class.\\nBoots in lightening 5...       4\n",
       "1  The product is nice but the only thing annoyin...       4\n",
       "2              Asus bodybuilding quality is better 🖤       4\n",
       "3  The laptop is quite nice and it is more than t...       4\n",
       "4  Satisfied with the purchase\\nIt is suitable fo...       4"
      ]
     },
     "execution_count": 46,
     "metadata": {},
     "output_type": "execute_result"
    }
   ],
   "source": [
    "df4_Lap.head()"
   ]
  },
  {
   "cell_type": "code",
   "execution_count": 47,
   "metadata": {},
   "outputs": [],
   "source": [
    "df5_Lap = pd.DataFrame(R_5,columns=[\"Review\"]) \n",
    "df5_Lap[\"Rating\"] = 5"
   ]
  },
  {
   "cell_type": "code",
   "execution_count": 48,
   "metadata": {},
   "outputs": [
    {
     "data": {
      "text/html": [
       "<div>\n",
       "<style scoped>\n",
       "    .dataframe tbody tr th:only-of-type {\n",
       "        vertical-align: middle;\n",
       "    }\n",
       "\n",
       "    .dataframe tbody tr th {\n",
       "        vertical-align: top;\n",
       "    }\n",
       "\n",
       "    .dataframe thead th {\n",
       "        text-align: right;\n",
       "    }\n",
       "</style>\n",
       "<table border=\"1\" class=\"dataframe\">\n",
       "  <thead>\n",
       "    <tr style=\"text-align: right;\">\n",
       "      <th></th>\n",
       "      <th>Review</th>\n",
       "      <th>Rating</th>\n",
       "    </tr>\n",
       "  </thead>\n",
       "  <tbody>\n",
       "    <tr>\n",
       "      <th>0</th>\n",
       "      <td>Good laptop for day to day work .. i5 with 512...</td>\n",
       "      <td>5</td>\n",
       "    </tr>\n",
       "    <tr>\n",
       "      <th>1</th>\n",
       "      <td>Pros- good screen\\nBest configurations\\nFinger...</td>\n",
       "      <td>5</td>\n",
       "    </tr>\n",
       "    <tr>\n",
       "      <th>2</th>\n",
       "      <td>Likes:\\nBest laptop under 50k budget.\\nLight w...</td>\n",
       "      <td>5</td>\n",
       "    </tr>\n",
       "    <tr>\n",
       "      <th>3</th>\n",
       "      <td>Got an amazing deal in Amazon, elegant looking...</td>\n",
       "      <td>5</td>\n",
       "    </tr>\n",
       "    <tr>\n",
       "      <th>4</th>\n",
       "      <td>pros\\n1. Intel i5\\n2. looks bazel\\n3. config\\n...</td>\n",
       "      <td>5</td>\n",
       "    </tr>\n",
       "  </tbody>\n",
       "</table>\n",
       "</div>"
      ],
      "text/plain": [
       "                                              Review  Rating\n",
       "0  Good laptop for day to day work .. i5 with 512...       5\n",
       "1  Pros- good screen\\nBest configurations\\nFinger...       5\n",
       "2  Likes:\\nBest laptop under 50k budget.\\nLight w...       5\n",
       "3  Got an amazing deal in Amazon, elegant looking...       5\n",
       "4  pros\\n1. Intel i5\\n2. looks bazel\\n3. config\\n...       5"
      ]
     },
     "execution_count": 48,
     "metadata": {},
     "output_type": "execute_result"
    }
   ],
   "source": [
    "df5_Lap.head()"
   ]
  },
  {
   "cell_type": "code",
   "execution_count": 49,
   "metadata": {},
   "outputs": [],
   "source": [
    "df_final_lap = pd.concat([df1_Lap,df2_Lap,df3_Lap,df4_Lap,df5_Lap])"
   ]
  },
  {
   "cell_type": "code",
   "execution_count": 50,
   "metadata": {},
   "outputs": [
    {
     "data": {
      "text/html": [
       "<div>\n",
       "<style scoped>\n",
       "    .dataframe tbody tr th:only-of-type {\n",
       "        vertical-align: middle;\n",
       "    }\n",
       "\n",
       "    .dataframe tbody tr th {\n",
       "        vertical-align: top;\n",
       "    }\n",
       "\n",
       "    .dataframe thead th {\n",
       "        text-align: right;\n",
       "    }\n",
       "</style>\n",
       "<table border=\"1\" class=\"dataframe\">\n",
       "  <thead>\n",
       "    <tr style=\"text-align: right;\">\n",
       "      <th></th>\n",
       "      <th>Review</th>\n",
       "      <th>Rating</th>\n",
       "    </tr>\n",
       "  </thead>\n",
       "  <tbody>\n",
       "    <tr>\n",
       "      <th>0</th>\n",
       "      <td>The product promised a lot of features which m...</td>\n",
       "      <td>1</td>\n",
       "    </tr>\n",
       "    <tr>\n",
       "      <th>1</th>\n",
       "      <td>I already have a Asus Vivibook bought two year...</td>\n",
       "      <td>1</td>\n",
       "    </tr>\n",
       "    <tr>\n",
       "      <th>2</th>\n",
       "      <td>The battery backup is not even 50% of what's m...</td>\n",
       "      <td>1</td>\n",
       "    </tr>\n",
       "    <tr>\n",
       "      <th>3</th>\n",
       "      <td>Its been 30 days I bought this. Dead slow proc...</td>\n",
       "      <td>1</td>\n",
       "    </tr>\n",
       "    <tr>\n",
       "      <th>4</th>\n",
       "      <td>Bettery backup is low low standby</td>\n",
       "      <td>1</td>\n",
       "    </tr>\n",
       "  </tbody>\n",
       "</table>\n",
       "</div>"
      ],
      "text/plain": [
       "                                              Review  Rating\n",
       "0  The product promised a lot of features which m...       1\n",
       "1  I already have a Asus Vivibook bought two year...       1\n",
       "2  The battery backup is not even 50% of what's m...       1\n",
       "3  Its been 30 days I bought this. Dead slow proc...       1\n",
       "4                  Bettery backup is low low standby       1"
      ]
     },
     "execution_count": 50,
     "metadata": {},
     "output_type": "execute_result"
    }
   ],
   "source": [
    "df_final_lap.head()"
   ]
  },
  {
   "cell_type": "code",
   "execution_count": 51,
   "metadata": {},
   "outputs": [
    {
     "data": {
      "text/plain": [
       "(450, 2)"
      ]
     },
     "execution_count": 51,
     "metadata": {},
     "output_type": "execute_result"
    }
   ],
   "source": [
    "df_final_lap.shape"
   ]
  },
  {
   "cell_type": "code",
   "execution_count": 52,
   "metadata": {},
   "outputs": [
    {
     "data": {
      "text/plain": [
       "5    90\n",
       "4    90\n",
       "3    90\n",
       "2    90\n",
       "1    90\n",
       "Name: Rating, dtype: int64"
      ]
     },
     "execution_count": 52,
     "metadata": {},
     "output_type": "execute_result"
    }
   ],
   "source": [
    "df_final_lap[\"Rating\"].value_counts()"
   ]
  },
  {
   "cell_type": "code",
   "execution_count": 58,
   "metadata": {},
   "outputs": [
    {
     "data": {
      "text/html": [
       "<div>\n",
       "<style scoped>\n",
       "    .dataframe tbody tr th:only-of-type {\n",
       "        vertical-align: middle;\n",
       "    }\n",
       "\n",
       "    .dataframe tbody tr th {\n",
       "        vertical-align: top;\n",
       "    }\n",
       "\n",
       "    .dataframe thead th {\n",
       "        text-align: right;\n",
       "    }\n",
       "</style>\n",
       "<table border=\"1\" class=\"dataframe\">\n",
       "  <thead>\n",
       "    <tr style=\"text-align: right;\">\n",
       "      <th></th>\n",
       "      <th>Review</th>\n",
       "      <th>Rating</th>\n",
       "    </tr>\n",
       "  </thead>\n",
       "  <tbody>\n",
       "    <tr>\n",
       "      <th>0</th>\n",
       "      <td>The product promised a lot of features which m...</td>\n",
       "      <td>1</td>\n",
       "    </tr>\n",
       "    <tr>\n",
       "      <th>1</th>\n",
       "      <td>I already have a Asus Vivibook bought two year...</td>\n",
       "      <td>1</td>\n",
       "    </tr>\n",
       "    <tr>\n",
       "      <th>2</th>\n",
       "      <td>The battery backup is not even 50% of what's m...</td>\n",
       "      <td>1</td>\n",
       "    </tr>\n",
       "    <tr>\n",
       "      <th>3</th>\n",
       "      <td>Its been 30 days I bought this. Dead slow proc...</td>\n",
       "      <td>1</td>\n",
       "    </tr>\n",
       "    <tr>\n",
       "      <th>4</th>\n",
       "      <td>Bettery backup is low low standby</td>\n",
       "      <td>1</td>\n",
       "    </tr>\n",
       "  </tbody>\n",
       "</table>\n",
       "</div>"
      ],
      "text/plain": [
       "                                              Review  Rating\n",
       "0  The product promised a lot of features which m...       1\n",
       "1  I already have a Asus Vivibook bought two year...       1\n",
       "2  The battery backup is not even 50% of what's m...       1\n",
       "3  Its been 30 days I bought this. Dead slow proc...       1\n",
       "4                  Bettery backup is low low standby       1"
      ]
     },
     "execution_count": 58,
     "metadata": {},
     "output_type": "execute_result"
    }
   ],
   "source": [
    "df_final_lap.head()"
   ]
  },
  {
   "cell_type": "code",
   "execution_count": 59,
   "metadata": {},
   "outputs": [],
   "source": [
    "df_final_lap.to_csv(\"Amazon_Laptop_reviewes\")"
   ]
  },
  {
   "cell_type": "markdown",
   "metadata": {},
   "source": [
    "## Amazon Phones"
   ]
  },
  {
   "cell_type": "code",
   "execution_count": 60,
   "metadata": {},
   "outputs": [],
   "source": [
    "# URL of the website \n",
    "url = \"https://www.amazon.in/\""
   ]
  },
  {
   "cell_type": "code",
   "execution_count": 61,
   "metadata": {},
   "outputs": [],
   "source": [
    "driver.get(url)"
   ]
  },
  {
   "cell_type": "code",
   "execution_count": 62,
   "metadata": {},
   "outputs": [],
   "source": [
    "# targeting the search text box\n",
    "sesrch_query = driver.find_element_by_id(\"twotabsearchtextbox\")"
   ]
  },
  {
   "cell_type": "code",
   "execution_count": 63,
   "metadata": {},
   "outputs": [],
   "source": [
    "# searching Laptops\n",
    "sesrch_query.send_keys(\"Phones\")"
   ]
  },
  {
   "cell_type": "code",
   "execution_count": 64,
   "metadata": {},
   "outputs": [],
   "source": [
    "search_btn = driver.find_element_by_id(\"nav-search-submit-button\")"
   ]
  },
  {
   "cell_type": "code",
   "execution_count": 65,
   "metadata": {},
   "outputs": [],
   "source": [
    "search_btn.click()"
   ]
  },
  {
   "cell_type": "code",
   "execution_count": 68,
   "metadata": {},
   "outputs": [],
   "source": [
    "# Collecting url's for first 3 pages\n",
    "urls = []\n",
    "\n",
    "base_url = \"https://www.amazon.in/s?k=Phones&page={}&qid=1627381120&ref=sr_pg_{}\"\n",
    "\n",
    "for i in range(2,3):\n",
    "    \n",
    "    driver.get(base_url.format(i,i))\n",
    "    \n",
    "    for url in driver.find_elements_by_xpath(\"//h2[@class='a-size-mini a-spacing-none a-color-base s-line-clamp-2']//a\"):\n",
    "        \n",
    "        urls.append(url.get_attribute(\"href\"))"
   ]
  },
  {
   "cell_type": "code",
   "execution_count": 69,
   "metadata": {},
   "outputs": [
    {
     "data": {
      "text/plain": [
       "22"
      ]
     },
     "execution_count": 69,
     "metadata": {},
     "output_type": "execute_result"
    }
   ],
   "source": [
    "len(urls)"
   ]
  },
  {
   "cell_type": "code",
   "execution_count": 70,
   "metadata": {},
   "outputs": [],
   "source": [
    "Reviewes_5 = []\n",
    "\n",
    "for link in urls:\n",
    "    \n",
    "    driver.get(link)\n",
    "    \n",
    "    try:\n",
    "        \n",
    "        cust_rev_5 = driver.find_element_by_css_selector('#histogramTable > tbody > tr:nth-child(1) > td.aok-nowrap > span.a-size-base > a')\n",
    "    \n",
    "        rev_5 = cust_rev_5.get_attribute(\"href\")\n",
    "    \n",
    "        driver.get(rev_5)\n",
    "        \n",
    "        for i in driver.find_elements_by_xpath(\"//span[@class='a-size-base review-text review-text-content']\"):\n",
    "            \n",
    "            Reviewes_5.append(i.text)\n",
    "            \n",
    "            \n",
    "    except NoSuchElementException:\n",
    "        \n",
    "        Reviewes_5.append(\"-\")"
   ]
  },
  {
   "cell_type": "code",
   "execution_count": 73,
   "metadata": {},
   "outputs": [],
   "source": [
    "Reviewes_4 = []\n",
    "\n",
    "Reviewes_3 = []\n",
    "\n",
    "Reviewes_2 = []\n",
    "\n",
    "Reviewes_1 = []\n",
    "\n",
    "\n",
    "for link in urls:\n",
    "    \n",
    "    driver.get(link)\n",
    "    \n",
    "    try:\n",
    "        \n",
    "        cust_rev_4 = driver.find_element_by_css_selector('#histogramTable > tbody > tr:nth-child(2) > td.aok-nowrap > span.a-size-base > a')\n",
    "    \n",
    "        rev_4 = cust_rev_4.get_attribute(\"href\")\n",
    "    \n",
    "        driver.get(rev_4)\n",
    "        \n",
    "        \n",
    "        for i in driver.find_elements_by_xpath(\"//span[@class='a-size-base review-text review-text-content']\"):\n",
    "            \n",
    "            Reviewes_4.append(i.text)\n",
    "            \n",
    "            \n",
    "    except NoSuchElementException:\n",
    "        \n",
    "        Reviewes_4.append(\"-\")\n",
    "        \n",
    "        \n",
    "    try:\n",
    "        \n",
    "        cust_rev_3 = driver.find_element_by_css_selector('#histogramTable > tbody > tr:nth-child(3) > td.aok-nowrap > span.a-size-base > a')\n",
    "    \n",
    "        rev_3 = cust_rev_3.get_attribute(\"href\")\n",
    "    \n",
    "        driver.get(rev_3)\n",
    "        \n",
    "        \n",
    "        for i in driver.find_elements_by_xpath(\"//span[@class='a-size-base review-text review-text-content']\"):\n",
    "            \n",
    "            Reviewes_3.append(i.text)\n",
    "            \n",
    "            \n",
    "    except NoSuchElementException:\n",
    "        \n",
    "        Reviewes_3.append(\"-\")\n",
    "        \n",
    "        \n",
    "    \n",
    "    try:\n",
    "        \n",
    "        cust_rev_2 = driver.find_element_by_css_selector('#histogramTable > tbody > tr:nth-child(4) > td.aok-nowrap > span.a-size-base > a')\n",
    "    \n",
    "        rev_2 = cust_rev_2.get_attribute(\"href\")\n",
    "    \n",
    "        driver.get(rev_2)\n",
    "        \n",
    "        \n",
    "        for i in driver.find_elements_by_xpath(\"//span[@class='a-size-base review-text review-text-content']\"):\n",
    "            \n",
    "            Reviewes_2.append(i.text)\n",
    "            \n",
    "            \n",
    "    except NoSuchElementException:\n",
    "        \n",
    "        Reviewes_2.append(\"-\")\n",
    "        \n",
    "    \n",
    "    try:\n",
    "        \n",
    "        cust_rev_1 = driver.find_element_by_css_selector('#histogramTable > tbody > tr:nth-child(5) > td.aok-nowrap > span.a-size-base > a')\n",
    "    \n",
    "        rev_1 = cust_rev_1.get_attribute(\"href\")\n",
    "    \n",
    "        driver.get(rev_1)\n",
    "        \n",
    "        \n",
    "        for i in driver.find_elements_by_xpath(\"//span[@class='a-size-base review-text review-text-content']\"):\n",
    "            \n",
    "            Reviewes_1.append(i.text)\n",
    "            \n",
    "            \n",
    "    except NoSuchElementException:\n",
    "        \n",
    "        Reviewes_1.append(\"-\")"
   ]
  },
  {
   "cell_type": "code",
   "execution_count": 79,
   "metadata": {},
   "outputs": [],
   "source": [
    "R_1 = Reviewes_1[:90]\n",
    "R_2 = Reviewes_2[:90]\n",
    "R_3 = Reviewes_3[:90]\n",
    "R_4 = Reviewes_4[:90]\n",
    "R_5 = Reviewes_5[:90]"
   ]
  },
  {
   "cell_type": "code",
   "execution_count": 80,
   "metadata": {},
   "outputs": [],
   "source": [
    "df1_ph = pd.DataFrame(R_1,columns=[\"Review\"]) \n",
    "df1_ph[\"Rating\"] = 1\n",
    "\n",
    "df2_ph = pd.DataFrame(R_2,columns=[\"Review\"]) \n",
    "df2_ph[\"Rating\"] = 2\n",
    "\n",
    "df3_ph = pd.DataFrame(R_3,columns=[\"Review\"]) \n",
    "df3_ph[\"Rating\"] = 3\n",
    "\n",
    "df4_ph = pd.DataFrame(R_4,columns=[\"Review\"]) \n",
    "df4_ph[\"Rating\"] = 4\n",
    "\n",
    "df5_ph = pd.DataFrame(R_5,columns=[\"Review\"]) \n",
    "df5_ph[\"Rating\"] = 5"
   ]
  },
  {
   "cell_type": "code",
   "execution_count": 86,
   "metadata": {},
   "outputs": [],
   "source": [
    "df_final_phone = pd.concat([df1_ph,df2_ph,df3_ph,df4_ph,df5_ph])"
   ]
  },
  {
   "cell_type": "code",
   "execution_count": 87,
   "metadata": {},
   "outputs": [
    {
     "data": {
      "text/html": [
       "<div>\n",
       "<style scoped>\n",
       "    .dataframe tbody tr th:only-of-type {\n",
       "        vertical-align: middle;\n",
       "    }\n",
       "\n",
       "    .dataframe tbody tr th {\n",
       "        vertical-align: top;\n",
       "    }\n",
       "\n",
       "    .dataframe thead th {\n",
       "        text-align: right;\n",
       "    }\n",
       "</style>\n",
       "<table border=\"1\" class=\"dataframe\">\n",
       "  <thead>\n",
       "    <tr style=\"text-align: right;\">\n",
       "      <th></th>\n",
       "      <th>Review</th>\n",
       "      <th>Rating</th>\n",
       "    </tr>\n",
       "  </thead>\n",
       "  <tbody>\n",
       "    <tr>\n",
       "      <th>0</th>\n",
       "      <td>Battery Issue.... Phone is Heating during Char...</td>\n",
       "      <td>1</td>\n",
       "    </tr>\n",
       "    <tr>\n",
       "      <th>1</th>\n",
       "      <td>Facing heating issue while using camera app an...</td>\n",
       "      <td>1</td>\n",
       "    </tr>\n",
       "    <tr>\n",
       "      <th>2</th>\n",
       "      <td>Hi\\nPlease consider this message with a seriou...</td>\n",
       "      <td>1</td>\n",
       "    </tr>\n",
       "    <tr>\n",
       "      <th>3</th>\n",
       "      <td>Within 10 minutes of usage. It’s felt like ove...</td>\n",
       "      <td>1</td>\n",
       "    </tr>\n",
       "    <tr>\n",
       "      <th>4</th>\n",
       "      <td>I don't why no reviewer is speaking about it. ...</td>\n",
       "      <td>1</td>\n",
       "    </tr>\n",
       "  </tbody>\n",
       "</table>\n",
       "</div>"
      ],
      "text/plain": [
       "                                              Review  Rating\n",
       "0  Battery Issue.... Phone is Heating during Char...       1\n",
       "1  Facing heating issue while using camera app an...       1\n",
       "2  Hi\\nPlease consider this message with a seriou...       1\n",
       "3  Within 10 minutes of usage. It’s felt like ove...       1\n",
       "4  I don't why no reviewer is speaking about it. ...       1"
      ]
     },
     "execution_count": 87,
     "metadata": {},
     "output_type": "execute_result"
    }
   ],
   "source": [
    "df_final_phone.head()"
   ]
  },
  {
   "cell_type": "code",
   "execution_count": 88,
   "metadata": {},
   "outputs": [
    {
     "data": {
      "text/plain": [
       "(450, 2)"
      ]
     },
     "execution_count": 88,
     "metadata": {},
     "output_type": "execute_result"
    }
   ],
   "source": [
    "df_final_phone.shape"
   ]
  },
  {
   "cell_type": "code",
   "execution_count": 89,
   "metadata": {},
   "outputs": [],
   "source": [
    "df_final_phone.to_csv(\"Amazon_Phone_reviewes\")"
   ]
  },
  {
   "cell_type": "markdown",
   "metadata": {},
   "source": [
    "## Amazon Headphones"
   ]
  },
  {
   "cell_type": "code",
   "execution_count": 90,
   "metadata": {},
   "outputs": [],
   "source": [
    "# URL of the website \n",
    "url = \"https://www.amazon.in/\""
   ]
  },
  {
   "cell_type": "code",
   "execution_count": 91,
   "metadata": {},
   "outputs": [],
   "source": [
    "driver.get(url)"
   ]
  },
  {
   "cell_type": "code",
   "execution_count": 92,
   "metadata": {},
   "outputs": [],
   "source": [
    "# targeting the search text box\n",
    "sesrch_query = driver.find_element_by_id(\"twotabsearchtextbox\")"
   ]
  },
  {
   "cell_type": "code",
   "execution_count": 93,
   "metadata": {},
   "outputs": [],
   "source": [
    "# searching Headphones\n",
    "sesrch_query.send_keys(\"Headphones\")"
   ]
  },
  {
   "cell_type": "code",
   "execution_count": 94,
   "metadata": {},
   "outputs": [],
   "source": [
    "search_btn = driver.find_element_by_id(\"nav-search-submit-button\")"
   ]
  },
  {
   "cell_type": "code",
   "execution_count": 95,
   "metadata": {},
   "outputs": [],
   "source": [
    "search_btn.click()"
   ]
  },
  {
   "cell_type": "code",
   "execution_count": 96,
   "metadata": {},
   "outputs": [],
   "source": [
    "urls = []\n",
    "\n",
    "base_url = \"https://www.amazon.in/s?k=Headphones&page={}&qid=1627383536&ref=sr_pg_{}\"\n",
    "\n",
    "for i in range(2,3):\n",
    "    \n",
    "    driver.get(base_url.format(i,i))\n",
    "    \n",
    "    for url in driver.find_elements_by_xpath(\"//h2[@class='a-size-mini a-spacing-none a-color-base s-line-clamp-2']//a\"):\n",
    "        \n",
    "        urls.append(url.get_attribute(\"href\"))"
   ]
  },
  {
   "cell_type": "code",
   "execution_count": 101,
   "metadata": {},
   "outputs": [
    {
     "data": {
      "text/plain": [
       "22"
      ]
     },
     "execution_count": 101,
     "metadata": {},
     "output_type": "execute_result"
    }
   ],
   "source": [
    "len(urls)"
   ]
  },
  {
   "cell_type": "code",
   "execution_count": 103,
   "metadata": {},
   "outputs": [],
   "source": [
    "Reviewes_5 = []\n",
    "\n",
    "for link in urls:\n",
    "    \n",
    "    driver.get(link)\n",
    "    \n",
    "    try:\n",
    "        \n",
    "        cust_rev_5 = driver.find_element_by_css_selector('#histogramTable > tbody > tr:nth-child(1) > td.aok-nowrap > span.a-size-base > a')\n",
    "    \n",
    "        rev_5 = cust_rev_5.get_attribute(\"href\")\n",
    "    \n",
    "        driver.get(rev_5)\n",
    "        \n",
    "        for i in driver.find_elements_by_xpath(\"//span[@class='a-size-base review-text review-text-content']\"):\n",
    "            \n",
    "            Reviewes_5.append(i.text)\n",
    "            \n",
    "            \n",
    "    except NoSuchElementException:\n",
    "        \n",
    "        Reviewes_5.append(\"-\")"
   ]
  },
  {
   "cell_type": "code",
   "execution_count": 106,
   "metadata": {},
   "outputs": [],
   "source": [
    "Reviewes_4 = []\n",
    "\n",
    "Reviewes_3 = []\n",
    "\n",
    "Reviewes_2 = []\n",
    "\n",
    "Reviewes_1 = []\n",
    "\n",
    "\n",
    "for link in urls:\n",
    "    \n",
    "    driver.get(link)\n",
    "    \n",
    "    try:\n",
    "        \n",
    "        cust_rev_4 = driver.find_element_by_css_selector('#histogramTable > tbody > tr:nth-child(2) > td.aok-nowrap > span.a-size-base > a')\n",
    "    \n",
    "        rev_4 = cust_rev_4.get_attribute(\"href\")\n",
    "    \n",
    "        driver.get(rev_4)\n",
    "        \n",
    "        \n",
    "        for i in driver.find_elements_by_xpath(\"//span[@class='a-size-base review-text review-text-content']\"):\n",
    "            \n",
    "            Reviewes_4.append(i.text)\n",
    "            \n",
    "            \n",
    "    except NoSuchElementException:\n",
    "        \n",
    "        Reviewes_4.append(\"-\")\n",
    "        \n",
    "        \n",
    "    try:\n",
    "        \n",
    "        cust_rev_3 = driver.find_element_by_css_selector('#histogramTable > tbody > tr:nth-child(3) > td.aok-nowrap > span.a-size-base > a')\n",
    "    \n",
    "        rev_3 = cust_rev_3.get_attribute(\"href\")\n",
    "    \n",
    "        driver.get(rev_3)\n",
    "        \n",
    "        \n",
    "        for i in driver.find_elements_by_xpath(\"//span[@class='a-size-base review-text review-text-content']\"):\n",
    "            \n",
    "            Reviewes_3.append(i.text)\n",
    "            \n",
    "            \n",
    "    except NoSuchElementException:\n",
    "        \n",
    "        Reviewes_3.append(\"-\")\n",
    "        \n",
    "        \n",
    "    \n",
    "    try:\n",
    "        \n",
    "        cust_rev_2 = driver.find_element_by_css_selector('#histogramTable > tbody > tr:nth-child(4) > td.aok-nowrap > span.a-size-base > a')\n",
    "    \n",
    "        rev_2 = cust_rev_2.get_attribute(\"href\")\n",
    "    \n",
    "        driver.get(rev_2)\n",
    "        \n",
    "        \n",
    "        for i in driver.find_elements_by_xpath(\"//span[@class='a-size-base review-text review-text-content']\"):\n",
    "            \n",
    "            Reviewes_2.append(i.text)\n",
    "            \n",
    "            \n",
    "    except NoSuchElementException:\n",
    "        \n",
    "        Reviewes_2.append(\"-\")\n",
    "        \n",
    "    \n",
    "    try:\n",
    "        \n",
    "        cust_rev_1 = driver.find_element_by_css_selector('#histogramTable > tbody > tr:nth-child(5) > td.aok-nowrap > span.a-size-base > a')\n",
    "    \n",
    "        rev_1 = cust_rev_1.get_attribute(\"href\")\n",
    "    \n",
    "        driver.get(rev_1)\n",
    "        \n",
    "        \n",
    "        for i in driver.find_elements_by_xpath(\"//span[@class='a-size-base review-text review-text-content']\"):\n",
    "            \n",
    "            Reviewes_1.append(i.text)\n",
    "            \n",
    "            \n",
    "    except NoSuchElementException:\n",
    "        \n",
    "        Reviewes_1.append(\"-\")"
   ]
  },
  {
   "cell_type": "code",
   "execution_count": 118,
   "metadata": {},
   "outputs": [],
   "source": [
    "R_1 = Reviewes_1[:90]\n",
    "R_2 = Reviewes_2[:90]\n",
    "R_3 = Reviewes_3[:90]\n",
    "R_4 = Reviewes_4[:90]\n",
    "R_5 = Reviewes_5[:90]"
   ]
  },
  {
   "cell_type": "code",
   "execution_count": 119,
   "metadata": {},
   "outputs": [],
   "source": [
    "df1_hp = pd.DataFrame(R_1,columns=[\"Review\"]) \n",
    "df1_hp[\"Rating\"] = 1\n",
    "\n",
    "df2_hp = pd.DataFrame(R_2,columns=[\"Review\"]) \n",
    "df2_hp[\"Rating\"] = 2\n",
    "\n",
    "df3_hp = pd.DataFrame(R_3,columns=[\"Review\"]) \n",
    "df3_hp[\"Rating\"] = 3\n",
    "\n",
    "df4_hp = pd.DataFrame(R_4,columns=[\"Review\"]) \n",
    "df4_hp[\"Rating\"] = 4\n",
    "\n",
    "df5_hp = pd.DataFrame(R_5,columns=[\"Review\"]) \n",
    "df5_hp[\"Rating\"] = 5"
   ]
  },
  {
   "cell_type": "code",
   "execution_count": 120,
   "metadata": {},
   "outputs": [],
   "source": [
    "df_final_headP = pd.concat([df1_hp,df2_hp,df3_hp,df4_hp,df5_hp])"
   ]
  },
  {
   "cell_type": "code",
   "execution_count": 121,
   "metadata": {},
   "outputs": [
    {
     "data": {
      "text/html": [
       "<div>\n",
       "<style scoped>\n",
       "    .dataframe tbody tr th:only-of-type {\n",
       "        vertical-align: middle;\n",
       "    }\n",
       "\n",
       "    .dataframe tbody tr th {\n",
       "        vertical-align: top;\n",
       "    }\n",
       "\n",
       "    .dataframe thead th {\n",
       "        text-align: right;\n",
       "    }\n",
       "</style>\n",
       "<table border=\"1\" class=\"dataframe\">\n",
       "  <thead>\n",
       "    <tr style=\"text-align: right;\">\n",
       "      <th></th>\n",
       "      <th>Review</th>\n",
       "      <th>Rating</th>\n",
       "    </tr>\n",
       "  </thead>\n",
       "  <tbody>\n",
       "    <tr>\n",
       "      <th>0</th>\n",
       "      <td>The Build quality is very poor, Never purchase...</td>\n",
       "      <td>1</td>\n",
       "    </tr>\n",
       "    <tr>\n",
       "      <th>1</th>\n",
       "      <td>Had a good review but now\\nUpdate : after 1mon...</td>\n",
       "      <td>1</td>\n",
       "    </tr>\n",
       "    <tr>\n",
       "      <th>2</th>\n",
       "      <td>-at this price range sound is well maintained ...</td>\n",
       "      <td>1</td>\n",
       "    </tr>\n",
       "    <tr>\n",
       "      <th>3</th>\n",
       "      <td>The headphone stopped working after 15 days.po...</td>\n",
       "      <td>1</td>\n",
       "    </tr>\n",
       "    <tr>\n",
       "      <th>4</th>\n",
       "      <td>don't buy boat products.\\nBoat is buying a low...</td>\n",
       "      <td>1</td>\n",
       "    </tr>\n",
       "  </tbody>\n",
       "</table>\n",
       "</div>"
      ],
      "text/plain": [
       "                                              Review  Rating\n",
       "0  The Build quality is very poor, Never purchase...       1\n",
       "1  Had a good review but now\\nUpdate : after 1mon...       1\n",
       "2  -at this price range sound is well maintained ...       1\n",
       "3  The headphone stopped working after 15 days.po...       1\n",
       "4  don't buy boat products.\\nBoat is buying a low...       1"
      ]
     },
     "execution_count": 121,
     "metadata": {},
     "output_type": "execute_result"
    }
   ],
   "source": [
    "df_final_headP.head()"
   ]
  },
  {
   "cell_type": "code",
   "execution_count": 122,
   "metadata": {},
   "outputs": [
    {
     "data": {
      "text/plain": [
       "5    90\n",
       "4    90\n",
       "3    90\n",
       "2    90\n",
       "1    90\n",
       "Name: Rating, dtype: int64"
      ]
     },
     "execution_count": 122,
     "metadata": {},
     "output_type": "execute_result"
    }
   ],
   "source": [
    "df_final_headP[\"Rating\"].value_counts()"
   ]
  },
  {
   "cell_type": "code",
   "execution_count": 123,
   "metadata": {},
   "outputs": [
    {
     "data": {
      "text/plain": [
       "(450, 2)"
      ]
     },
     "execution_count": 123,
     "metadata": {},
     "output_type": "execute_result"
    }
   ],
   "source": [
    "df_final_headP.shape"
   ]
  },
  {
   "cell_type": "code",
   "execution_count": 132,
   "metadata": {},
   "outputs": [],
   "source": [
    "df_final_headP.to_csv(\"Amazon_headphone_reviews\")"
   ]
  },
  {
   "cell_type": "code",
   "execution_count": 133,
   "metadata": {},
   "outputs": [
    {
     "data": {
      "text/html": [
       "<div>\n",
       "<style scoped>\n",
       "    .dataframe tbody tr th:only-of-type {\n",
       "        vertical-align: middle;\n",
       "    }\n",
       "\n",
       "    .dataframe tbody tr th {\n",
       "        vertical-align: top;\n",
       "    }\n",
       "\n",
       "    .dataframe thead th {\n",
       "        text-align: right;\n",
       "    }\n",
       "</style>\n",
       "<table border=\"1\" class=\"dataframe\">\n",
       "  <thead>\n",
       "    <tr style=\"text-align: right;\">\n",
       "      <th></th>\n",
       "      <th>Review</th>\n",
       "      <th>Rating</th>\n",
       "    </tr>\n",
       "  </thead>\n",
       "  <tbody>\n",
       "    <tr>\n",
       "      <th>0</th>\n",
       "      <td>The Build quality is very poor, Never purchase...</td>\n",
       "      <td>1</td>\n",
       "    </tr>\n",
       "    <tr>\n",
       "      <th>1</th>\n",
       "      <td>Had a good review but now\\nUpdate : after 1mon...</td>\n",
       "      <td>1</td>\n",
       "    </tr>\n",
       "    <tr>\n",
       "      <th>2</th>\n",
       "      <td>-at this price range sound is well maintained ...</td>\n",
       "      <td>1</td>\n",
       "    </tr>\n",
       "    <tr>\n",
       "      <th>3</th>\n",
       "      <td>The headphone stopped working after 15 days.po...</td>\n",
       "      <td>1</td>\n",
       "    </tr>\n",
       "    <tr>\n",
       "      <th>4</th>\n",
       "      <td>don't buy boat products.\\nBoat is buying a low...</td>\n",
       "      <td>1</td>\n",
       "    </tr>\n",
       "  </tbody>\n",
       "</table>\n",
       "</div>"
      ],
      "text/plain": [
       "                                              Review  Rating\n",
       "0  The Build quality is very poor, Never purchase...       1\n",
       "1  Had a good review but now\\nUpdate : after 1mon...       1\n",
       "2  -at this price range sound is well maintained ...       1\n",
       "3  The headphone stopped working after 15 days.po...       1\n",
       "4  don't buy boat products.\\nBoat is buying a low...       1"
      ]
     },
     "execution_count": 133,
     "metadata": {},
     "output_type": "execute_result"
    }
   ],
   "source": [
    "df_final_headP.head()"
   ]
  },
  {
   "cell_type": "markdown",
   "metadata": {},
   "source": [
    "## Amazon smart watches"
   ]
  },
  {
   "cell_type": "code",
   "execution_count": 124,
   "metadata": {},
   "outputs": [],
   "source": [
    "# URL of the website \n",
    "url = \"https://www.amazon.in/\""
   ]
  },
  {
   "cell_type": "code",
   "execution_count": 125,
   "metadata": {},
   "outputs": [],
   "source": [
    "driver.get(url)"
   ]
  },
  {
   "cell_type": "code",
   "execution_count": 126,
   "metadata": {},
   "outputs": [],
   "source": [
    "# targeting the search text box\n",
    "sesrch_query = driver.find_element_by_id(\"twotabsearchtextbox\")"
   ]
  },
  {
   "cell_type": "code",
   "execution_count": 127,
   "metadata": {},
   "outputs": [],
   "source": [
    "# searching Laptops\n",
    "sesrch_query.send_keys(\"Smart Watches\")"
   ]
  },
  {
   "cell_type": "code",
   "execution_count": 128,
   "metadata": {},
   "outputs": [],
   "source": [
    "search_btn = driver.find_element_by_id(\"nav-search-submit-button\")"
   ]
  },
  {
   "cell_type": "code",
   "execution_count": 129,
   "metadata": {},
   "outputs": [],
   "source": [
    "search_btn.click()"
   ]
  },
  {
   "cell_type": "code",
   "execution_count": 130,
   "metadata": {},
   "outputs": [],
   "source": [
    "# Collecting url's for first 3 pages\n",
    "urls = []\n",
    "\n",
    "base_url = \"https://www.amazon.in/s?k=Smart+Watches&page={}&qid=1627386215&ref=sr_pg_{}\"\n",
    "\n",
    "for i in range(2,3):\n",
    "    \n",
    "    driver.get(base_url.format(i,i))\n",
    "    \n",
    "    for url in driver.find_elements_by_xpath(\"//h2[@class='a-size-mini a-spacing-none a-color-base s-line-clamp-2']//a\"):\n",
    "        \n",
    "        urls.append(url.get_attribute(\"href\"))"
   ]
  },
  {
   "cell_type": "code",
   "execution_count": 134,
   "metadata": {},
   "outputs": [],
   "source": [
    "Reviewes_5 = []\n",
    "\n",
    "for link in urls:\n",
    "    \n",
    "    driver.get(link)\n",
    "    \n",
    "    try:\n",
    "        \n",
    "        cust_rev_5 = driver.find_element_by_css_selector('#histogramTable > tbody > tr:nth-child(1) > td.aok-nowrap > span.a-size-base > a')\n",
    "    \n",
    "        rev_5 = cust_rev_5.get_attribute(\"href\")\n",
    "    \n",
    "        driver.get(rev_5)\n",
    "        \n",
    "        for i in driver.find_elements_by_xpath(\"//span[@class='a-size-base review-text review-text-content']\"):\n",
    "            \n",
    "            Reviewes_5.append(i.text)\n",
    "            \n",
    "            \n",
    "    except NoSuchElementException:\n",
    "        \n",
    "        Reviewes_5.append(\"-\")"
   ]
  },
  {
   "cell_type": "code",
   "execution_count": 136,
   "metadata": {},
   "outputs": [
    {
     "data": {
      "text/plain": [
       "111"
      ]
     },
     "execution_count": 136,
     "metadata": {},
     "output_type": "execute_result"
    }
   ],
   "source": [
    "len(Reviewes_5)"
   ]
  },
  {
   "cell_type": "code",
   "execution_count": 137,
   "metadata": {},
   "outputs": [],
   "source": [
    "Reviewes_4 = []\n",
    "\n",
    "Reviewes_3 = []\n",
    "\n",
    "Reviewes_2 = []\n",
    "\n",
    "Reviewes_1 = []\n",
    "\n",
    "\n",
    "for link in urls:\n",
    "    \n",
    "    driver.get(link)\n",
    "    \n",
    "    try:\n",
    "        \n",
    "        cust_rev_4 = driver.find_element_by_css_selector('#histogramTable > tbody > tr:nth-child(2) > td.aok-nowrap > span.a-size-base > a')\n",
    "    \n",
    "        rev_4 = cust_rev_4.get_attribute(\"href\")\n",
    "    \n",
    "        driver.get(rev_4)\n",
    "        \n",
    "        \n",
    "        for i in driver.find_elements_by_xpath(\"//span[@class='a-size-base review-text review-text-content']\"):\n",
    "            \n",
    "            Reviewes_4.append(i.text)\n",
    "            \n",
    "            \n",
    "    except NoSuchElementException:\n",
    "        \n",
    "        Reviewes_4.append(\"-\")\n",
    "        \n",
    "        \n",
    "    try:\n",
    "        \n",
    "        cust_rev_3 = driver.find_element_by_css_selector('#histogramTable > tbody > tr:nth-child(3) > td.aok-nowrap > span.a-size-base > a')\n",
    "    \n",
    "        rev_3 = cust_rev_3.get_attribute(\"href\")\n",
    "    \n",
    "        driver.get(rev_3)\n",
    "        \n",
    "        \n",
    "        for i in driver.find_elements_by_xpath(\"//span[@class='a-size-base review-text review-text-content']\"):\n",
    "            \n",
    "            Reviewes_3.append(i.text)\n",
    "            \n",
    "            \n",
    "    except NoSuchElementException:\n",
    "        \n",
    "        Reviewes_3.append(\"-\")\n",
    "        \n",
    "        \n",
    "    \n",
    "    try:\n",
    "        \n",
    "        cust_rev_2 = driver.find_element_by_css_selector('#histogramTable > tbody > tr:nth-child(4) > td.aok-nowrap > span.a-size-base > a')\n",
    "    \n",
    "        rev_2 = cust_rev_2.get_attribute(\"href\")\n",
    "    \n",
    "        driver.get(rev_2)\n",
    "        \n",
    "        \n",
    "        for i in driver.find_elements_by_xpath(\"//span[@class='a-size-base review-text review-text-content']\"):\n",
    "            \n",
    "            Reviewes_2.append(i.text)\n",
    "            \n",
    "            \n",
    "    except NoSuchElementException:\n",
    "        \n",
    "        Reviewes_2.append(\"-\")\n",
    "        \n",
    "    \n",
    "    try:\n",
    "        \n",
    "        cust_rev_1 = driver.find_element_by_css_selector('#histogramTable > tbody > tr:nth-child(5) > td.aok-nowrap > span.a-size-base > a')\n",
    "    \n",
    "        rev_1 = cust_rev_1.get_attribute(\"href\")\n",
    "    \n",
    "        driver.get(rev_1)\n",
    "        \n",
    "        \n",
    "        for i in driver.find_elements_by_xpath(\"//span[@class='a-size-base review-text review-text-content']\"):\n",
    "            \n",
    "            Reviewes_1.append(i.text)\n",
    "            \n",
    "            \n",
    "    except NoSuchElementException:\n",
    "        \n",
    "        Reviewes_1.append(\"-\")"
   ]
  },
  {
   "cell_type": "code",
   "execution_count": 148,
   "metadata": {},
   "outputs": [],
   "source": [
    "R_1 = Reviewes_1[:90]\n",
    "R_2 = Reviewes_2[:90]\n",
    "R_3 = Reviewes_3[:90]\n",
    "R_4 = Reviewes_4[:90]\n",
    "R_5 = Reviewes_5[:90]"
   ]
  },
  {
   "cell_type": "code",
   "execution_count": 149,
   "metadata": {},
   "outputs": [],
   "source": [
    "df1_sw = pd.DataFrame(R_1,columns=[\"Review\"]) \n",
    "df1_sw[\"Rating\"] = 1\n",
    "\n",
    "df2_sw = pd.DataFrame(R_2,columns=[\"Review\"]) \n",
    "df2_sw[\"Rating\"] = 2\n",
    "\n",
    "df3_sw = pd.DataFrame(R_3,columns=[\"Review\"]) \n",
    "df3_sw[\"Rating\"] = 3\n",
    "\n",
    "df4_sw = pd.DataFrame(R_4,columns=[\"Review\"]) \n",
    "df4_sw[\"Rating\"] = 4\n",
    "\n",
    "df5_sw = pd.DataFrame(R_5,columns=[\"Review\"]) \n",
    "df5_sw[\"Rating\"] = 5"
   ]
  },
  {
   "cell_type": "code",
   "execution_count": 150,
   "metadata": {},
   "outputs": [],
   "source": [
    "df_final_smartW = pd.concat([df1_sw,df2_sw,df3_sw,df4_sw,df5_sw])"
   ]
  },
  {
   "cell_type": "code",
   "execution_count": 151,
   "metadata": {},
   "outputs": [
    {
     "data": {
      "text/html": [
       "<div>\n",
       "<style scoped>\n",
       "    .dataframe tbody tr th:only-of-type {\n",
       "        vertical-align: middle;\n",
       "    }\n",
       "\n",
       "    .dataframe tbody tr th {\n",
       "        vertical-align: top;\n",
       "    }\n",
       "\n",
       "    .dataframe thead th {\n",
       "        text-align: right;\n",
       "    }\n",
       "</style>\n",
       "<table border=\"1\" class=\"dataframe\">\n",
       "  <thead>\n",
       "    <tr style=\"text-align: right;\">\n",
       "      <th></th>\n",
       "      <th>Review</th>\n",
       "      <th>Rating</th>\n",
       "    </tr>\n",
       "  </thead>\n",
       "  <tbody>\n",
       "    <tr>\n",
       "      <th>0</th>\n",
       "      <td>-</td>\n",
       "      <td>1</td>\n",
       "    </tr>\n",
       "    <tr>\n",
       "      <th>1</th>\n",
       "      <td>I was excited about this watch and purchased i...</td>\n",
       "      <td>1</td>\n",
       "    </tr>\n",
       "    <tr>\n",
       "      <th>2</th>\n",
       "      <td>You will find that touch is hanging a lot at t...</td>\n",
       "      <td>1</td>\n",
       "    </tr>\n",
       "    <tr>\n",
       "      <th>3</th>\n",
       "      <td>Noise app is not getting downloaded to my mobi...</td>\n",
       "      <td>1</td>\n",
       "    </tr>\n",
       "    <tr>\n",
       "      <th>4</th>\n",
       "      <td>Colour fit ultra doesn’t update firmware after...</td>\n",
       "      <td>1</td>\n",
       "    </tr>\n",
       "  </tbody>\n",
       "</table>\n",
       "</div>"
      ],
      "text/plain": [
       "                                              Review  Rating\n",
       "0                                                  -       1\n",
       "1  I was excited about this watch and purchased i...       1\n",
       "2  You will find that touch is hanging a lot at t...       1\n",
       "3  Noise app is not getting downloaded to my mobi...       1\n",
       "4  Colour fit ultra doesn’t update firmware after...       1"
      ]
     },
     "execution_count": 151,
     "metadata": {},
     "output_type": "execute_result"
    }
   ],
   "source": [
    "df_final_smartW.head()"
   ]
  },
  {
   "cell_type": "code",
   "execution_count": 152,
   "metadata": {},
   "outputs": [
    {
     "data": {
      "text/plain": [
       "Review    0\n",
       "Rating    0\n",
       "dtype: int64"
      ]
     },
     "execution_count": 152,
     "metadata": {},
     "output_type": "execute_result"
    }
   ],
   "source": [
    "df_final_smartW.isnull().sum()"
   ]
  },
  {
   "cell_type": "code",
   "execution_count": 153,
   "metadata": {},
   "outputs": [
    {
     "data": {
      "text/plain": [
       "(450, 2)"
      ]
     },
     "execution_count": 153,
     "metadata": {},
     "output_type": "execute_result"
    }
   ],
   "source": [
    "df_final_smartW.shape"
   ]
  },
  {
   "cell_type": "code",
   "execution_count": 154,
   "metadata": {},
   "outputs": [],
   "source": [
    "df_final_smartW.to_csv(\"Amazon_Smart_Watch\")"
   ]
  },
  {
   "cell_type": "markdown",
   "metadata": {},
   "source": [
    "## Amazon Professional Cameras"
   ]
  },
  {
   "cell_type": "code",
   "execution_count": 155,
   "metadata": {},
   "outputs": [],
   "source": [
    "# URL of the website \n",
    "url = \"https://www.amazon.in/\""
   ]
  },
  {
   "cell_type": "code",
   "execution_count": 156,
   "metadata": {},
   "outputs": [],
   "source": [
    "driver.get(url)"
   ]
  },
  {
   "cell_type": "code",
   "execution_count": 157,
   "metadata": {},
   "outputs": [],
   "source": [
    "# targeting the search text box\n",
    "sesrch_query = driver.find_element_by_id(\"twotabsearchtextbox\")"
   ]
  },
  {
   "cell_type": "code",
   "execution_count": 158,
   "metadata": {},
   "outputs": [],
   "source": [
    "# searching Laptops\n",
    "sesrch_query.send_keys(\"Professional Cameras\")"
   ]
  },
  {
   "cell_type": "code",
   "execution_count": 159,
   "metadata": {},
   "outputs": [],
   "source": [
    "search_btn = driver.find_element_by_id(\"nav-search-submit-button\")"
   ]
  },
  {
   "cell_type": "code",
   "execution_count": 160,
   "metadata": {},
   "outputs": [],
   "source": [
    "search_btn.click()"
   ]
  },
  {
   "cell_type": "code",
   "execution_count": 161,
   "metadata": {},
   "outputs": [],
   "source": [
    "# Collecting url's for first 3 pages\n",
    "urls = []\n",
    "\n",
    "base_url = \"https://www.amazon.in/s?k=Professional+Cameras&page={}&qid=1627387637&ref=sr_pg_{}\"\n",
    "\n",
    "for i in range(2,3):\n",
    "    \n",
    "    driver.get(base_url.format(i,i))\n",
    "    \n",
    "    for url in driver.find_elements_by_xpath(\"//h2[@class='a-size-mini a-spacing-none a-color-base s-line-clamp-2']//a\"):\n",
    "        \n",
    "        urls.append(url.get_attribute(\"href\"))"
   ]
  },
  {
   "cell_type": "code",
   "execution_count": 163,
   "metadata": {},
   "outputs": [
    {
     "data": {
      "text/plain": [
       "22"
      ]
     },
     "execution_count": 163,
     "metadata": {},
     "output_type": "execute_result"
    }
   ],
   "source": [
    "len(urls)"
   ]
  },
  {
   "cell_type": "code",
   "execution_count": 164,
   "metadata": {},
   "outputs": [],
   "source": [
    "Reviewes_5 = []\n",
    "\n",
    "for link in urls:\n",
    "    \n",
    "    driver.get(link)\n",
    "    \n",
    "    try:\n",
    "        \n",
    "        cust_rev_5 = driver.find_element_by_css_selector('#histogramTable > tbody > tr:nth-child(1) > td.aok-nowrap > span.a-size-base > a')\n",
    "    \n",
    "        rev_5 = cust_rev_5.get_attribute(\"href\")\n",
    "    \n",
    "        driver.get(rev_5)\n",
    "        \n",
    "        for i in driver.find_elements_by_xpath(\"//span[@class='a-size-base review-text review-text-content']\"):\n",
    "            \n",
    "            Reviewes_5.append(i.text)\n",
    "            \n",
    "            \n",
    "    except NoSuchElementException:\n",
    "        \n",
    "        Reviewes_5.append(\"-\")"
   ]
  },
  {
   "cell_type": "code",
   "execution_count": 166,
   "metadata": {},
   "outputs": [
    {
     "data": {
      "text/plain": [
       "134"
      ]
     },
     "execution_count": 166,
     "metadata": {},
     "output_type": "execute_result"
    }
   ],
   "source": [
    "len(Reviewes_5)"
   ]
  },
  {
   "cell_type": "code",
   "execution_count": 167,
   "metadata": {},
   "outputs": [],
   "source": [
    "Reviewes_4 = []\n",
    "\n",
    "Reviewes_3 = []\n",
    "\n",
    "Reviewes_2 = []\n",
    "\n",
    "Reviewes_1 = []\n",
    "\n",
    "\n",
    "for link in urls:\n",
    "    \n",
    "    driver.get(link)\n",
    "    \n",
    "    try:\n",
    "        \n",
    "        cust_rev_4 = driver.find_element_by_css_selector('#histogramTable > tbody > tr:nth-child(2) > td.aok-nowrap > span.a-size-base > a')\n",
    "    \n",
    "        rev_4 = cust_rev_4.get_attribute(\"href\")\n",
    "    \n",
    "        driver.get(rev_4)\n",
    "        \n",
    "        \n",
    "        for i in driver.find_elements_by_xpath(\"//span[@class='a-size-base review-text review-text-content']\"):\n",
    "            \n",
    "            Reviewes_4.append(i.text)\n",
    "            \n",
    "            \n",
    "    except NoSuchElementException:\n",
    "        \n",
    "        Reviewes_4.append(\"-\")\n",
    "        \n",
    "        \n",
    "    try:\n",
    "        \n",
    "        cust_rev_3 = driver.find_element_by_css_selector('#histogramTable > tbody > tr:nth-child(3) > td.aok-nowrap > span.a-size-base > a')\n",
    "    \n",
    "        rev_3 = cust_rev_3.get_attribute(\"href\")\n",
    "    \n",
    "        driver.get(rev_3)\n",
    "        \n",
    "        \n",
    "        for i in driver.find_elements_by_xpath(\"//span[@class='a-size-base review-text review-text-content']\"):\n",
    "            \n",
    "            Reviewes_3.append(i.text)\n",
    "            \n",
    "            \n",
    "    except NoSuchElementException:\n",
    "        \n",
    "        Reviewes_3.append(\"-\")\n",
    "        \n",
    "        \n",
    "    \n",
    "    try:\n",
    "        \n",
    "        cust_rev_2 = driver.find_element_by_css_selector('#histogramTable > tbody > tr:nth-child(4) > td.aok-nowrap > span.a-size-base > a')\n",
    "    \n",
    "        rev_2 = cust_rev_2.get_attribute(\"href\")\n",
    "    \n",
    "        driver.get(rev_2)\n",
    "        \n",
    "        \n",
    "        for i in driver.find_elements_by_xpath(\"//span[@class='a-size-base review-text review-text-content']\"):\n",
    "            \n",
    "            Reviewes_2.append(i.text)\n",
    "            \n",
    "            \n",
    "    except NoSuchElementException:\n",
    "        \n",
    "        Reviewes_2.append(\"-\")\n",
    "        \n",
    "    \n",
    "    try:\n",
    "        \n",
    "        cust_rev_1 = driver.find_element_by_css_selector('#histogramTable > tbody > tr:nth-child(5) > td.aok-nowrap > span.a-size-base > a')\n",
    "    \n",
    "        rev_1 = cust_rev_1.get_attribute(\"href\")\n",
    "    \n",
    "        driver.get(rev_1)\n",
    "        \n",
    "        \n",
    "        for i in driver.find_elements_by_xpath(\"//span[@class='a-size-base review-text review-text-content']\"):\n",
    "            \n",
    "            Reviewes_1.append(i.text)\n",
    "            \n",
    "            \n",
    "    except NoSuchElementException:\n",
    "        \n",
    "        Reviewes_1.append(\"-\")"
   ]
  },
  {
   "cell_type": "code",
   "execution_count": 178,
   "metadata": {},
   "outputs": [],
   "source": [
    "R_1 = Reviewes_1[:90]\n",
    "R_2 = Reviewes_2[:90]\n",
    "R_3 = Reviewes_3[:90]\n",
    "R_4 = Reviewes_4[:90]\n",
    "R_5 = Reviewes_5[:90]"
   ]
  },
  {
   "cell_type": "code",
   "execution_count": 179,
   "metadata": {},
   "outputs": [],
   "source": [
    "df1_cam = pd.DataFrame(R_1,columns=[\"Review\"]) \n",
    "df1_cam[\"Rating\"] = 1\n",
    "\n",
    "df2_cam = pd.DataFrame(R_2,columns=[\"Review\"]) \n",
    "df2_cam[\"Rating\"] = 2\n",
    "\n",
    "df3_cam = pd.DataFrame(R_3,columns=[\"Review\"]) \n",
    "df3_cam[\"Rating\"] = 3\n",
    "\n",
    "df4_cam = pd.DataFrame(R_4,columns=[\"Review\"]) \n",
    "df4_cam[\"Rating\"] = 4\n",
    "\n",
    "df5_cam = pd.DataFrame(R_5,columns=[\"Review\"]) \n",
    "df5_cam[\"Rating\"] = 5"
   ]
  },
  {
   "cell_type": "code",
   "execution_count": 180,
   "metadata": {},
   "outputs": [],
   "source": [
    "df_final_camera = pd.concat([df1_cam,df2_cam,df3_cam,df4_cam,df5_cam])"
   ]
  },
  {
   "cell_type": "code",
   "execution_count": 181,
   "metadata": {},
   "outputs": [
    {
     "data": {
      "text/html": [
       "<div>\n",
       "<style scoped>\n",
       "    .dataframe tbody tr th:only-of-type {\n",
       "        vertical-align: middle;\n",
       "    }\n",
       "\n",
       "    .dataframe tbody tr th {\n",
       "        vertical-align: top;\n",
       "    }\n",
       "\n",
       "    .dataframe thead th {\n",
       "        text-align: right;\n",
       "    }\n",
       "</style>\n",
       "<table border=\"1\" class=\"dataframe\">\n",
       "  <thead>\n",
       "    <tr style=\"text-align: right;\">\n",
       "      <th></th>\n",
       "      <th>Review</th>\n",
       "      <th>Rating</th>\n",
       "    </tr>\n",
       "  </thead>\n",
       "  <tbody>\n",
       "    <tr>\n",
       "      <th>0</th>\n",
       "      <td>I am a Canon user and very disappointed to rea...</td>\n",
       "      <td>1</td>\n",
       "    </tr>\n",
       "    <tr>\n",
       "      <th>1</th>\n",
       "      <td>The lens pouches are too narrow to fit the len...</td>\n",
       "      <td>1</td>\n",
       "    </tr>\n",
       "    <tr>\n",
       "      <th>2</th>\n",
       "      <td>Product very loose in rigidness, should have b...</td>\n",
       "      <td>1</td>\n",
       "    </tr>\n",
       "    <tr>\n",
       "      <th>3</th>\n",
       "      <td>Poor quality</td>\n",
       "      <td>1</td>\n",
       "    </tr>\n",
       "    <tr>\n",
       "      <th>4</th>\n",
       "      <td>This product does not allow to accommodate 70 ...</td>\n",
       "      <td>1</td>\n",
       "    </tr>\n",
       "  </tbody>\n",
       "</table>\n",
       "</div>"
      ],
      "text/plain": [
       "                                              Review  Rating\n",
       "0  I am a Canon user and very disappointed to rea...       1\n",
       "1  The lens pouches are too narrow to fit the len...       1\n",
       "2  Product very loose in rigidness, should have b...       1\n",
       "3                                       Poor quality       1\n",
       "4  This product does not allow to accommodate 70 ...       1"
      ]
     },
     "execution_count": 181,
     "metadata": {},
     "output_type": "execute_result"
    }
   ],
   "source": [
    "df_final_camera.head()"
   ]
  },
  {
   "cell_type": "code",
   "execution_count": 182,
   "metadata": {},
   "outputs": [
    {
     "data": {
      "text/plain": [
       "(450, 2)"
      ]
     },
     "execution_count": 182,
     "metadata": {},
     "output_type": "execute_result"
    }
   ],
   "source": [
    "df_final_camera.shape"
   ]
  },
  {
   "cell_type": "code",
   "execution_count": 183,
   "metadata": {},
   "outputs": [],
   "source": [
    "df_final_camera.to_csv(\"Amazon_Camera_reviewes\")"
   ]
  },
  {
   "cell_type": "markdown",
   "metadata": {},
   "source": [
    "## Amazon Printers"
   ]
  },
  {
   "cell_type": "code",
   "execution_count": 184,
   "metadata": {},
   "outputs": [],
   "source": [
    "# URL of the website \n",
    "url = \"https://www.amazon.in/\""
   ]
  },
  {
   "cell_type": "code",
   "execution_count": 185,
   "metadata": {},
   "outputs": [],
   "source": [
    "driver.get(url)"
   ]
  },
  {
   "cell_type": "code",
   "execution_count": 186,
   "metadata": {},
   "outputs": [],
   "source": [
    "# targeting the search text box\n",
    "sesrch_query = driver.find_element_by_id(\"twotabsearchtextbox\")"
   ]
  },
  {
   "cell_type": "code",
   "execution_count": 187,
   "metadata": {},
   "outputs": [],
   "source": [
    "# searching Laptops\n",
    "sesrch_query.send_keys(\"Printers\")"
   ]
  },
  {
   "cell_type": "code",
   "execution_count": 188,
   "metadata": {},
   "outputs": [],
   "source": [
    "search_btn = driver.find_element_by_id(\"nav-search-submit-button\")"
   ]
  },
  {
   "cell_type": "code",
   "execution_count": 189,
   "metadata": {},
   "outputs": [],
   "source": [
    "search_btn.click()"
   ]
  },
  {
   "cell_type": "code",
   "execution_count": 190,
   "metadata": {},
   "outputs": [],
   "source": [
    "# Collecting url's for first 3 pages\n",
    "urls = []\n",
    "\n",
    "base_url = \"https://www.amazon.in/s?k=Printers&page={}&qid=1627388771&ref=sr_pg_{}\"\n",
    "\n",
    "for i in range(2,3):\n",
    "    \n",
    "    driver.get(base_url.format(i,i))\n",
    "    \n",
    "    for url in driver.find_elements_by_xpath(\"//h2[@class='a-size-mini a-spacing-none a-color-base s-line-clamp-2']//a\"):\n",
    "        \n",
    "        urls.append(url.get_attribute(\"href\"))"
   ]
  },
  {
   "cell_type": "code",
   "execution_count": 192,
   "metadata": {},
   "outputs": [
    {
     "data": {
      "text/plain": [
       "22"
      ]
     },
     "execution_count": 192,
     "metadata": {},
     "output_type": "execute_result"
    }
   ],
   "source": [
    "len(urls)"
   ]
  },
  {
   "cell_type": "code",
   "execution_count": 193,
   "metadata": {},
   "outputs": [],
   "source": [
    "Reviewes_5 = []\n",
    "\n",
    "for link in urls:\n",
    "    \n",
    "    driver.get(link)\n",
    "    \n",
    "    try:\n",
    "        \n",
    "        cust_rev_5 = driver.find_element_by_css_selector('#histogramTable > tbody > tr:nth-child(1) > td.aok-nowrap > span.a-size-base > a')\n",
    "    \n",
    "        rev_5 = cust_rev_5.get_attribute(\"href\")\n",
    "    \n",
    "        driver.get(rev_5)\n",
    "        \n",
    "        for i in driver.find_elements_by_xpath(\"//span[@class='a-size-base review-text review-text-content']\"):\n",
    "            \n",
    "            Reviewes_5.append(i.text)\n",
    "            \n",
    "            \n",
    "    except NoSuchElementException:\n",
    "        \n",
    "        Reviewes_5.append(\"-\")"
   ]
  },
  {
   "cell_type": "code",
   "execution_count": 195,
   "metadata": {},
   "outputs": [
    {
     "data": {
      "text/plain": [
       "183"
      ]
     },
     "execution_count": 195,
     "metadata": {},
     "output_type": "execute_result"
    }
   ],
   "source": [
    "len(Reviewes_5)"
   ]
  },
  {
   "cell_type": "code",
   "execution_count": 196,
   "metadata": {},
   "outputs": [],
   "source": [
    "Reviewes_4 = []\n",
    "\n",
    "Reviewes_3 = []\n",
    "\n",
    "Reviewes_2 = []\n",
    "\n",
    "Reviewes_1 = []\n",
    "\n",
    "\n",
    "for link in urls:\n",
    "    \n",
    "    driver.get(link)\n",
    "    \n",
    "    try:\n",
    "        \n",
    "        cust_rev_4 = driver.find_element_by_css_selector('#histogramTable > tbody > tr:nth-child(2) > td.aok-nowrap > span.a-size-base > a')\n",
    "    \n",
    "        rev_4 = cust_rev_4.get_attribute(\"href\")\n",
    "    \n",
    "        driver.get(rev_4)\n",
    "        \n",
    "        \n",
    "        for i in driver.find_elements_by_xpath(\"//span[@class='a-size-base review-text review-text-content']\"):\n",
    "            \n",
    "            Reviewes_4.append(i.text)\n",
    "            \n",
    "            \n",
    "    except NoSuchElementException:\n",
    "        \n",
    "        Reviewes_4.append(\"-\")\n",
    "        \n",
    "        \n",
    "    try:\n",
    "        \n",
    "        cust_rev_3 = driver.find_element_by_css_selector('#histogramTable > tbody > tr:nth-child(3) > td.aok-nowrap > span.a-size-base > a')\n",
    "    \n",
    "        rev_3 = cust_rev_3.get_attribute(\"href\")\n",
    "    \n",
    "        driver.get(rev_3)\n",
    "        \n",
    "        \n",
    "        for i in driver.find_elements_by_xpath(\"//span[@class='a-size-base review-text review-text-content']\"):\n",
    "            \n",
    "            Reviewes_3.append(i.text)\n",
    "            \n",
    "            \n",
    "    except NoSuchElementException:\n",
    "        \n",
    "        Reviewes_3.append(\"-\")\n",
    "        \n",
    "        \n",
    "    \n",
    "    try:\n",
    "        \n",
    "        cust_rev_2 = driver.find_element_by_css_selector('#histogramTable > tbody > tr:nth-child(4) > td.aok-nowrap > span.a-size-base > a')\n",
    "    \n",
    "        rev_2 = cust_rev_2.get_attribute(\"href\")\n",
    "    \n",
    "        driver.get(rev_2)\n",
    "        \n",
    "        \n",
    "        for i in driver.find_elements_by_xpath(\"//span[@class='a-size-base review-text review-text-content']\"):\n",
    "            \n",
    "            Reviewes_2.append(i.text)\n",
    "            \n",
    "            \n",
    "    except NoSuchElementException:\n",
    "        \n",
    "        Reviewes_2.append(\"-\")\n",
    "        \n",
    "    \n",
    "    try:\n",
    "        \n",
    "        cust_rev_1 = driver.find_element_by_css_selector('#histogramTable > tbody > tr:nth-child(5) > td.aok-nowrap > span.a-size-base > a')\n",
    "    \n",
    "        rev_1 = cust_rev_1.get_attribute(\"href\")\n",
    "    \n",
    "        driver.get(rev_1)\n",
    "        \n",
    "        \n",
    "        for i in driver.find_elements_by_xpath(\"//span[@class='a-size-base review-text review-text-content']\"):\n",
    "            \n",
    "            Reviewes_1.append(i.text)\n",
    "            \n",
    "            \n",
    "    except NoSuchElementException:\n",
    "        \n",
    "        Reviewes_1.append(\"-\")"
   ]
  },
  {
   "cell_type": "code",
   "execution_count": 206,
   "metadata": {},
   "outputs": [],
   "source": [
    "R_1 = Reviewes_1[:90]\n",
    "R_2 = Reviewes_2[:90]\n",
    "R_3 = Reviewes_3[:90]\n",
    "R_4 = Reviewes_4[:90]\n",
    "R_5 = Reviewes_5[:90]"
   ]
  },
  {
   "cell_type": "code",
   "execution_count": 207,
   "metadata": {},
   "outputs": [],
   "source": [
    "df1_print = pd.DataFrame(R_1,columns=[\"Review\"]) \n",
    "df1_print[\"Rating\"] = 1\n",
    "\n",
    "df2_print = pd.DataFrame(R_2,columns=[\"Review\"]) \n",
    "df2_print[\"Rating\"] = 2\n",
    "\n",
    "df3_print = pd.DataFrame(R_3,columns=[\"Review\"]) \n",
    "df3_print[\"Rating\"] = 3\n",
    "\n",
    "df4_print = pd.DataFrame(R_4,columns=[\"Review\"]) \n",
    "df4_print[\"Rating\"] = 4\n",
    "\n",
    "df5_print = pd.DataFrame(R_5,columns=[\"Review\"]) \n",
    "df5_print[\"Rating\"] = 5"
   ]
  },
  {
   "cell_type": "code",
   "execution_count": 208,
   "metadata": {},
   "outputs": [],
   "source": [
    "df_final_printer = pd.concat([df1_print,df2_print,df3_print,df4_print,df5_print])"
   ]
  },
  {
   "cell_type": "code",
   "execution_count": 209,
   "metadata": {},
   "outputs": [
    {
     "data": {
      "text/html": [
       "<div>\n",
       "<style scoped>\n",
       "    .dataframe tbody tr th:only-of-type {\n",
       "        vertical-align: middle;\n",
       "    }\n",
       "\n",
       "    .dataframe tbody tr th {\n",
       "        vertical-align: top;\n",
       "    }\n",
       "\n",
       "    .dataframe thead th {\n",
       "        text-align: right;\n",
       "    }\n",
       "</style>\n",
       "<table border=\"1\" class=\"dataframe\">\n",
       "  <thead>\n",
       "    <tr style=\"text-align: right;\">\n",
       "      <th></th>\n",
       "      <th>Review</th>\n",
       "      <th>Rating</th>\n",
       "    </tr>\n",
       "  </thead>\n",
       "  <tbody>\n",
       "    <tr>\n",
       "      <th>0</th>\n",
       "      <td>I received it this way</td>\n",
       "      <td>1</td>\n",
       "    </tr>\n",
       "    <tr>\n",
       "      <th>1</th>\n",
       "      <td>It was a very bad experience faced with the Ca...</td>\n",
       "      <td>1</td>\n",
       "    </tr>\n",
       "    <tr>\n",
       "      <th>2</th>\n",
       "      <td>Damaged product</td>\n",
       "      <td>1</td>\n",
       "    </tr>\n",
       "    <tr>\n",
       "      <th>3</th>\n",
       "      <td>No colour options, not suitable for my require...</td>\n",
       "      <td>1</td>\n",
       "    </tr>\n",
       "    <tr>\n",
       "      <th>4</th>\n",
       "      <td>Installing problem</td>\n",
       "      <td>1</td>\n",
       "    </tr>\n",
       "  </tbody>\n",
       "</table>\n",
       "</div>"
      ],
      "text/plain": [
       "                                              Review  Rating\n",
       "0                             I received it this way       1\n",
       "1  It was a very bad experience faced with the Ca...       1\n",
       "2                                    Damaged product       1\n",
       "3  No colour options, not suitable for my require...       1\n",
       "4                                 Installing problem       1"
      ]
     },
     "execution_count": 209,
     "metadata": {},
     "output_type": "execute_result"
    }
   ],
   "source": [
    "df_final_printer.head()"
   ]
  },
  {
   "cell_type": "code",
   "execution_count": 210,
   "metadata": {},
   "outputs": [
    {
     "data": {
      "text/plain": [
       "Review    0\n",
       "Rating    0\n",
       "dtype: int64"
      ]
     },
     "execution_count": 210,
     "metadata": {},
     "output_type": "execute_result"
    }
   ],
   "source": [
    "df_final_printer.isnull().sum()"
   ]
  },
  {
   "cell_type": "code",
   "execution_count": 211,
   "metadata": {},
   "outputs": [
    {
     "data": {
      "text/plain": [
       "(450, 2)"
      ]
     },
     "execution_count": 211,
     "metadata": {},
     "output_type": "execute_result"
    }
   ],
   "source": [
    "df_final_printer.shape"
   ]
  },
  {
   "cell_type": "code",
   "execution_count": 212,
   "metadata": {},
   "outputs": [],
   "source": [
    "df_final_printer.to_csv(\"Amazon_Printer_reviewes\")"
   ]
  },
  {
   "cell_type": "markdown",
   "metadata": {},
   "source": [
    "## Amazon Monitors"
   ]
  },
  {
   "cell_type": "code",
   "execution_count": 213,
   "metadata": {},
   "outputs": [],
   "source": [
    "# URL of the website \n",
    "url = \"https://www.amazon.in/\""
   ]
  },
  {
   "cell_type": "code",
   "execution_count": 214,
   "metadata": {},
   "outputs": [],
   "source": [
    "driver.get(url)"
   ]
  },
  {
   "cell_type": "code",
   "execution_count": 215,
   "metadata": {},
   "outputs": [],
   "source": [
    "# targeting the search text box\n",
    "sesrch_query = driver.find_element_by_id(\"twotabsearchtextbox\")"
   ]
  },
  {
   "cell_type": "code",
   "execution_count": 216,
   "metadata": {},
   "outputs": [],
   "source": [
    "# searching Laptops\n",
    "sesrch_query.send_keys(\"Computer Monitors\")"
   ]
  },
  {
   "cell_type": "code",
   "execution_count": 217,
   "metadata": {},
   "outputs": [],
   "source": [
    "search_btn = driver.find_element_by_id(\"nav-search-submit-button\")"
   ]
  },
  {
   "cell_type": "code",
   "execution_count": 218,
   "metadata": {},
   "outputs": [],
   "source": [
    "search_btn.click()"
   ]
  },
  {
   "cell_type": "code",
   "execution_count": 219,
   "metadata": {},
   "outputs": [],
   "source": [
    "# Collecting url's for first 3 pages\n",
    "urls = []\n",
    "\n",
    "base_url = \"https://www.amazon.in/s?k=Computer+Monitors&page={}&qid=1627389980&ref=sr_pg_{}\"\n",
    "\n",
    "for i in range(2,3):\n",
    "    \n",
    "    driver.get(base_url.format(i,i))\n",
    "    \n",
    "    for url in driver.find_elements_by_xpath(\"//h2[@class='a-size-mini a-spacing-none a-color-base s-line-clamp-2']//a\"):\n",
    "        \n",
    "        urls.append(url.get_attribute(\"href\"))"
   ]
  },
  {
   "cell_type": "code",
   "execution_count": 220,
   "metadata": {},
   "outputs": [
    {
     "data": {
      "text/plain": [
       "22"
      ]
     },
     "execution_count": 220,
     "metadata": {},
     "output_type": "execute_result"
    }
   ],
   "source": [
    "len(urls)"
   ]
  },
  {
   "cell_type": "code",
   "execution_count": 222,
   "metadata": {},
   "outputs": [],
   "source": [
    "Reviewes_5 = []\n",
    "\n",
    "for link in urls:\n",
    "    \n",
    "    driver.get(link)\n",
    "    \n",
    "    try:\n",
    "        \n",
    "        cust_rev_5 = driver.find_element_by_css_selector('#histogramTable > tbody > tr:nth-child(1) > td.aok-nowrap > span.a-size-base > a')\n",
    "    \n",
    "        rev_5 = cust_rev_5.get_attribute(\"href\")\n",
    "    \n",
    "        driver.get(rev_5)\n",
    "        \n",
    "        for i in driver.find_elements_by_xpath(\"//span[@class='a-size-base review-text review-text-content']\"):\n",
    "            \n",
    "            Reviewes_5.append(i.text)\n",
    "            \n",
    "            \n",
    "    except NoSuchElementException:\n",
    "        \n",
    "        Reviewes_5.append(\"-\")"
   ]
  },
  {
   "cell_type": "code",
   "execution_count": 224,
   "metadata": {},
   "outputs": [
    {
     "data": {
      "text/plain": [
       "145"
      ]
     },
     "execution_count": 224,
     "metadata": {},
     "output_type": "execute_result"
    }
   ],
   "source": [
    "len(Reviewes_5)"
   ]
  },
  {
   "cell_type": "code",
   "execution_count": 225,
   "metadata": {},
   "outputs": [],
   "source": [
    "Reviewes_4 = []\n",
    "\n",
    "Reviewes_3 = []\n",
    "\n",
    "Reviewes_2 = []\n",
    "\n",
    "Reviewes_1 = []\n",
    "\n",
    "\n",
    "for link in urls:\n",
    "    \n",
    "    driver.get(link)\n",
    "    \n",
    "    try:\n",
    "        \n",
    "        cust_rev_4 = driver.find_element_by_css_selector('#histogramTable > tbody > tr:nth-child(2) > td.aok-nowrap > span.a-size-base > a')\n",
    "    \n",
    "        rev_4 = cust_rev_4.get_attribute(\"href\")\n",
    "    \n",
    "        driver.get(rev_4)\n",
    "        \n",
    "        \n",
    "        for i in driver.find_elements_by_xpath(\"//span[@class='a-size-base review-text review-text-content']\"):\n",
    "            \n",
    "            Reviewes_4.append(i.text)\n",
    "            \n",
    "            \n",
    "    except NoSuchElementException:\n",
    "        \n",
    "        Reviewes_4.append(\"-\")\n",
    "        \n",
    "        \n",
    "    try:\n",
    "        \n",
    "        cust_rev_3 = driver.find_element_by_css_selector('#histogramTable > tbody > tr:nth-child(3) > td.aok-nowrap > span.a-size-base > a')\n",
    "    \n",
    "        rev_3 = cust_rev_3.get_attribute(\"href\")\n",
    "    \n",
    "        driver.get(rev_3)\n",
    "        \n",
    "        \n",
    "        for i in driver.find_elements_by_xpath(\"//span[@class='a-size-base review-text review-text-content']\"):\n",
    "            \n",
    "            Reviewes_3.append(i.text)\n",
    "            \n",
    "            \n",
    "    except NoSuchElementException:\n",
    "        \n",
    "        Reviewes_3.append(\"-\")\n",
    "        \n",
    "        \n",
    "    \n",
    "    try:\n",
    "        \n",
    "        cust_rev_2 = driver.find_element_by_css_selector('#histogramTable > tbody > tr:nth-child(4) > td.aok-nowrap > span.a-size-base > a')\n",
    "    \n",
    "        rev_2 = cust_rev_2.get_attribute(\"href\")\n",
    "    \n",
    "        driver.get(rev_2)\n",
    "        \n",
    "        \n",
    "        for i in driver.find_elements_by_xpath(\"//span[@class='a-size-base review-text review-text-content']\"):\n",
    "            \n",
    "            Reviewes_2.append(i.text)\n",
    "            \n",
    "            \n",
    "    except NoSuchElementException:\n",
    "        \n",
    "        Reviewes_2.append(\"-\")\n",
    "        \n",
    "    \n",
    "    try:\n",
    "        \n",
    "        cust_rev_1 = driver.find_element_by_css_selector('#histogramTable > tbody > tr:nth-child(5) > td.aok-nowrap > span.a-size-base > a')\n",
    "    \n",
    "        rev_1 = cust_rev_1.get_attribute(\"href\")\n",
    "    \n",
    "        driver.get(rev_1)\n",
    "        \n",
    "        \n",
    "        for i in driver.find_elements_by_xpath(\"//span[@class='a-size-base review-text review-text-content']\"):\n",
    "            \n",
    "            Reviewes_1.append(i.text)\n",
    "            \n",
    "            \n",
    "    except NoSuchElementException:\n",
    "        \n",
    "        Reviewes_1.append(\"-\")"
   ]
  },
  {
   "cell_type": "code",
   "execution_count": 235,
   "metadata": {},
   "outputs": [],
   "source": [
    "R_1 = Reviewes_1[:90]\n",
    "R_2 = Reviewes_2[:90]\n",
    "R_3 = Reviewes_3[:90]\n",
    "R_4 = Reviewes_4[:90]\n",
    "R_5 = Reviewes_5[:90]"
   ]
  },
  {
   "cell_type": "code",
   "execution_count": 236,
   "metadata": {},
   "outputs": [],
   "source": [
    "df1_mon = pd.DataFrame(R_1,columns=[\"Review\"]) \n",
    "df1_mon[\"Rating\"] = 1\n",
    "\n",
    "df2_mon = pd.DataFrame(R_2,columns=[\"Review\"]) \n",
    "df2_mon[\"Rating\"] = 2\n",
    "\n",
    "df3_mon = pd.DataFrame(R_3,columns=[\"Review\"]) \n",
    "df3_mon[\"Rating\"] = 3\n",
    "\n",
    "df4_mon = pd.DataFrame(R_4,columns=[\"Review\"]) \n",
    "df4_mon[\"Rating\"] = 4\n",
    "\n",
    "df5_mon = pd.DataFrame(R_5,columns=[\"Review\"]) \n",
    "df5_mon[\"Rating\"] = 5"
   ]
  },
  {
   "cell_type": "code",
   "execution_count": 237,
   "metadata": {},
   "outputs": [],
   "source": [
    "df_final_monitor = pd.concat([df1_mon,df2_mon,df3_mon,df4_mon,df5_mon])"
   ]
  },
  {
   "cell_type": "code",
   "execution_count": 238,
   "metadata": {},
   "outputs": [
    {
     "data": {
      "text/html": [
       "<div>\n",
       "<style scoped>\n",
       "    .dataframe tbody tr th:only-of-type {\n",
       "        vertical-align: middle;\n",
       "    }\n",
       "\n",
       "    .dataframe tbody tr th {\n",
       "        vertical-align: top;\n",
       "    }\n",
       "\n",
       "    .dataframe thead th {\n",
       "        text-align: right;\n",
       "    }\n",
       "</style>\n",
       "<table border=\"1\" class=\"dataframe\">\n",
       "  <thead>\n",
       "    <tr style=\"text-align: right;\">\n",
       "      <th></th>\n",
       "      <th>Review</th>\n",
       "      <th>Rating</th>\n",
       "    </tr>\n",
       "  </thead>\n",
       "  <tbody>\n",
       "    <tr>\n",
       "      <th>0</th>\n",
       "      <td>-</td>\n",
       "      <td>1</td>\n",
       "    </tr>\n",
       "    <tr>\n",
       "      <th>1</th>\n",
       "      <td>Received the monitor today and I'm very impres...</td>\n",
       "      <td>1</td>\n",
       "    </tr>\n",
       "    <tr>\n",
       "      <th>2</th>\n",
       "      <td>Looking at the specs I ordered without any sec...</td>\n",
       "      <td>1</td>\n",
       "    </tr>\n",
       "    <tr>\n",
       "      <th>3</th>\n",
       "      <td>It seems I've got a bad piece. There is backli...</td>\n",
       "      <td>1</td>\n",
       "    </tr>\n",
       "    <tr>\n",
       "      <th>4</th>\n",
       "      <td>After using one year:\\nThe monitor developed b...</td>\n",
       "      <td>1</td>\n",
       "    </tr>\n",
       "  </tbody>\n",
       "</table>\n",
       "</div>"
      ],
      "text/plain": [
       "                                              Review  Rating\n",
       "0                                                  -       1\n",
       "1  Received the monitor today and I'm very impres...       1\n",
       "2  Looking at the specs I ordered without any sec...       1\n",
       "3  It seems I've got a bad piece. There is backli...       1\n",
       "4  After using one year:\\nThe monitor developed b...       1"
      ]
     },
     "execution_count": 238,
     "metadata": {},
     "output_type": "execute_result"
    }
   ],
   "source": [
    "df_final_monitor.head()"
   ]
  },
  {
   "cell_type": "code",
   "execution_count": 239,
   "metadata": {},
   "outputs": [
    {
     "data": {
      "text/plain": [
       "(450, 2)"
      ]
     },
     "execution_count": 239,
     "metadata": {},
     "output_type": "execute_result"
    }
   ],
   "source": [
    "df_final_monitor.shape"
   ]
  },
  {
   "cell_type": "code",
   "execution_count": 240,
   "metadata": {},
   "outputs": [],
   "source": [
    "df_final_monitor.to_csv(\"Amazon Monitor Review\")"
   ]
  },
  {
   "cell_type": "markdown",
   "metadata": {},
   "source": [
    "## Amazon Home theater"
   ]
  },
  {
   "cell_type": "code",
   "execution_count": 241,
   "metadata": {},
   "outputs": [],
   "source": [
    "# URL of the website \n",
    "url = \"https://www.amazon.in/\""
   ]
  },
  {
   "cell_type": "code",
   "execution_count": 242,
   "metadata": {},
   "outputs": [],
   "source": [
    "driver.get(url)"
   ]
  },
  {
   "cell_type": "code",
   "execution_count": 243,
   "metadata": {},
   "outputs": [],
   "source": [
    "# targeting the search text box\n",
    "sesrch_query = driver.find_element_by_id(\"twotabsearchtextbox\")"
   ]
  },
  {
   "cell_type": "code",
   "execution_count": 244,
   "metadata": {},
   "outputs": [],
   "source": [
    "# searching Laptops\n",
    "sesrch_query.send_keys(\"Home Theater\")"
   ]
  },
  {
   "cell_type": "code",
   "execution_count": 245,
   "metadata": {},
   "outputs": [],
   "source": [
    "search_btn = driver.find_element_by_id(\"nav-search-submit-button\")"
   ]
  },
  {
   "cell_type": "code",
   "execution_count": 246,
   "metadata": {},
   "outputs": [],
   "source": [
    "search_btn.click()"
   ]
  },
  {
   "cell_type": "code",
   "execution_count": 247,
   "metadata": {},
   "outputs": [],
   "source": [
    "# Collecting url's for first 3 pages\n",
    "urls = []\n",
    "\n",
    "base_url = \"https://www.amazon.in/s?k=Home+Theater&page={}&qid=1627391077&ref=sr_pg_{}\"\n",
    "\n",
    "for i in range(2,3):\n",
    "    \n",
    "    driver.get(base_url.format(i,i))\n",
    "    \n",
    "    for url in driver.find_elements_by_xpath(\"//h2[@class='a-size-mini a-spacing-none a-color-base s-line-clamp-2']//a\"):\n",
    "        \n",
    "        urls.append(url.get_attribute(\"href\"))"
   ]
  },
  {
   "cell_type": "code",
   "execution_count": 248,
   "metadata": {},
   "outputs": [
    {
     "data": {
      "text/plain": [
       "22"
      ]
     },
     "execution_count": 248,
     "metadata": {},
     "output_type": "execute_result"
    }
   ],
   "source": [
    "len(urls)"
   ]
  },
  {
   "cell_type": "code",
   "execution_count": 250,
   "metadata": {},
   "outputs": [],
   "source": [
    "Reviewes_5 = []\n",
    "\n",
    "for link in urls:\n",
    "    \n",
    "    driver.get(link)\n",
    "    \n",
    "    try:\n",
    "        \n",
    "        cust_rev_5 = driver.find_element_by_css_selector('#histogramTable > tbody > tr:nth-child(1) > td.aok-nowrap > span.a-size-base > a')\n",
    "    \n",
    "        rev_5 = cust_rev_5.get_attribute(\"href\")\n",
    "    \n",
    "        driver.get(rev_5)\n",
    "        \n",
    "        for i in driver.find_elements_by_xpath(\"//span[@class='a-size-base review-text review-text-content']\"):\n",
    "            \n",
    "            Reviewes_5.append(i.text)\n",
    "            \n",
    "            \n",
    "    except NoSuchElementException:\n",
    "        \n",
    "        Reviewes_5.append(\"-\")"
   ]
  },
  {
   "cell_type": "code",
   "execution_count": 253,
   "metadata": {},
   "outputs": [],
   "source": [
    "Reviewes_4 = []\n",
    "\n",
    "Reviewes_3 = []\n",
    "\n",
    "Reviewes_2 = []\n",
    "\n",
    "Reviewes_1 = []\n",
    "\n",
    "\n",
    "for link in urls:\n",
    "    \n",
    "    driver.get(link)\n",
    "    \n",
    "    try:\n",
    "        \n",
    "        cust_rev_4 = driver.find_element_by_css_selector('#histogramTable > tbody > tr:nth-child(2) > td.aok-nowrap > span.a-size-base > a')\n",
    "    \n",
    "        rev_4 = cust_rev_4.get_attribute(\"href\")\n",
    "    \n",
    "        driver.get(rev_4)\n",
    "        \n",
    "        \n",
    "        for i in driver.find_elements_by_xpath(\"//span[@class='a-size-base review-text review-text-content']\"):\n",
    "            \n",
    "            Reviewes_4.append(i.text)\n",
    "            \n",
    "            \n",
    "    except NoSuchElementException:\n",
    "        \n",
    "        Reviewes_4.append(\"-\")\n",
    "        \n",
    "        \n",
    "    try:\n",
    "        \n",
    "        cust_rev_3 = driver.find_element_by_css_selector('#histogramTable > tbody > tr:nth-child(3) > td.aok-nowrap > span.a-size-base > a')\n",
    "    \n",
    "        rev_3 = cust_rev_3.get_attribute(\"href\")\n",
    "    \n",
    "        driver.get(rev_3)\n",
    "        \n",
    "        \n",
    "        for i in driver.find_elements_by_xpath(\"//span[@class='a-size-base review-text review-text-content']\"):\n",
    "            \n",
    "            Reviewes_3.append(i.text)\n",
    "            \n",
    "            \n",
    "    except NoSuchElementException:\n",
    "        \n",
    "        Reviewes_3.append(\"-\")\n",
    "        \n",
    "        \n",
    "    \n",
    "    try:\n",
    "        \n",
    "        cust_rev_2 = driver.find_element_by_css_selector('#histogramTable > tbody > tr:nth-child(4) > td.aok-nowrap > span.a-size-base > a')\n",
    "    \n",
    "        rev_2 = cust_rev_2.get_attribute(\"href\")\n",
    "    \n",
    "        driver.get(rev_2)\n",
    "        \n",
    "        \n",
    "        for i in driver.find_elements_by_xpath(\"//span[@class='a-size-base review-text review-text-content']\"):\n",
    "            \n",
    "            Reviewes_2.append(i.text)\n",
    "            \n",
    "            \n",
    "    except NoSuchElementException:\n",
    "        \n",
    "        Reviewes_2.append(\"-\")\n",
    "        \n",
    "    \n",
    "    try:\n",
    "        \n",
    "        cust_rev_1 = driver.find_element_by_css_selector('#histogramTable > tbody > tr:nth-child(5) > td.aok-nowrap > span.a-size-base > a')\n",
    "    \n",
    "        rev_1 = cust_rev_1.get_attribute(\"href\")\n",
    "    \n",
    "        driver.get(rev_1)\n",
    "        \n",
    "        \n",
    "        for i in driver.find_elements_by_xpath(\"//span[@class='a-size-base review-text review-text-content']\"):\n",
    "            \n",
    "            Reviewes_1.append(i.text)\n",
    "            \n",
    "            \n",
    "    except NoSuchElementException:\n",
    "        \n",
    "        Reviewes_1.append(\"-\")"
   ]
  },
  {
   "cell_type": "code",
   "execution_count": 267,
   "metadata": {},
   "outputs": [],
   "source": [
    "R_1 = Reviewes_1[:90]\n",
    "R_2 = Reviewes_2[:90]\n",
    "R_3 = Reviewes_3[:90]\n",
    "R_4 = Reviewes_4[:90]\n",
    "R_5 = Reviewes_5[:90]"
   ]
  },
  {
   "cell_type": "code",
   "execution_count": 268,
   "metadata": {},
   "outputs": [],
   "source": [
    "df1_ht = pd.DataFrame(R_1,columns=[\"Review\"]) \n",
    "df1_ht[\"Rating\"] = 1\n",
    "\n",
    "df2_ht = pd.DataFrame(R_2,columns=[\"Review\"]) \n",
    "df2_ht[\"Rating\"] = 2\n",
    "\n",
    "df3_ht = pd.DataFrame(R_3,columns=[\"Review\"]) \n",
    "df3_ht[\"Rating\"] = 3\n",
    "\n",
    "df4_ht = pd.DataFrame(R_4,columns=[\"Review\"]) \n",
    "df4_ht[\"Rating\"] = 4\n",
    "\n",
    "df5_ht = pd.DataFrame(R_5,columns=[\"Review\"]) \n",
    "df5_ht[\"Rating\"] = 5\n",
    "\n",
    "\n",
    "df_final_home = pd.concat([df1_ht,df2_ht,df3_ht,df4_ht,df5_ht])"
   ]
  },
  {
   "cell_type": "code",
   "execution_count": 269,
   "metadata": {},
   "outputs": [
    {
     "data": {
      "text/html": [
       "<div>\n",
       "<style scoped>\n",
       "    .dataframe tbody tr th:only-of-type {\n",
       "        vertical-align: middle;\n",
       "    }\n",
       "\n",
       "    .dataframe tbody tr th {\n",
       "        vertical-align: top;\n",
       "    }\n",
       "\n",
       "    .dataframe thead th {\n",
       "        text-align: right;\n",
       "    }\n",
       "</style>\n",
       "<table border=\"1\" class=\"dataframe\">\n",
       "  <thead>\n",
       "    <tr style=\"text-align: right;\">\n",
       "      <th></th>\n",
       "      <th>Review</th>\n",
       "      <th>Rating</th>\n",
       "    </tr>\n",
       "  </thead>\n",
       "  <tbody>\n",
       "    <tr>\n",
       "      <th>0</th>\n",
       "      <td>Very Bad Sound System</td>\n",
       "      <td>1</td>\n",
       "    </tr>\n",
       "    <tr>\n",
       "      <th>1</th>\n",
       "      <td>I get this product wrong there is the manufact...</td>\n",
       "      <td>1</td>\n",
       "    </tr>\n",
       "    <tr>\n",
       "      <th>2</th>\n",
       "      <td>This is a waste product. Waste of money.cheap ...</td>\n",
       "      <td>1</td>\n",
       "    </tr>\n",
       "    <tr>\n",
       "      <th>3</th>\n",
       "      <td>Dear team,\\nMy product is not good the product...</td>\n",
       "      <td>1</td>\n",
       "    </tr>\n",
       "    <tr>\n",
       "      <th>4</th>\n",
       "      <td>Worst Build Quality. NO Good Finish. Remote al...</td>\n",
       "      <td>1</td>\n",
       "    </tr>\n",
       "  </tbody>\n",
       "</table>\n",
       "</div>"
      ],
      "text/plain": [
       "                                              Review  Rating\n",
       "0                              Very Bad Sound System       1\n",
       "1  I get this product wrong there is the manufact...       1\n",
       "2  This is a waste product. Waste of money.cheap ...       1\n",
       "3  Dear team,\\nMy product is not good the product...       1\n",
       "4  Worst Build Quality. NO Good Finish. Remote al...       1"
      ]
     },
     "execution_count": 269,
     "metadata": {},
     "output_type": "execute_result"
    }
   ],
   "source": [
    "df_final_home.head()"
   ]
  },
  {
   "cell_type": "code",
   "execution_count": 270,
   "metadata": {},
   "outputs": [
    {
     "data": {
      "text/plain": [
       "(423, 2)"
      ]
     },
     "execution_count": 270,
     "metadata": {},
     "output_type": "execute_result"
    }
   ],
   "source": [
    "df_final_home.shape"
   ]
  },
  {
   "cell_type": "code",
   "execution_count": 271,
   "metadata": {},
   "outputs": [],
   "source": [
    "df_final_home.to_csv(\"Amazom_Home_theter\")"
   ]
  },
  {
   "cell_type": "markdown",
   "metadata": {},
   "source": [
    "## Amazon Router"
   ]
  },
  {
   "cell_type": "code",
   "execution_count": 272,
   "metadata": {},
   "outputs": [],
   "source": [
    "# URL of the website \n",
    "url = \"https://www.amazon.in/\""
   ]
  },
  {
   "cell_type": "code",
   "execution_count": 273,
   "metadata": {},
   "outputs": [],
   "source": [
    "driver.get(url)"
   ]
  },
  {
   "cell_type": "code",
   "execution_count": 274,
   "metadata": {},
   "outputs": [],
   "source": [
    "# targeting the search text box\n",
    "sesrch_query = driver.find_element_by_id(\"twotabsearchtextbox\")"
   ]
  },
  {
   "cell_type": "code",
   "execution_count": 275,
   "metadata": {},
   "outputs": [],
   "source": [
    "# searching Laptops\n",
    "sesrch_query.send_keys(\"Routers\")"
   ]
  },
  {
   "cell_type": "code",
   "execution_count": 276,
   "metadata": {},
   "outputs": [],
   "source": [
    "search_btn = driver.find_element_by_id(\"nav-search-submit-button\")"
   ]
  },
  {
   "cell_type": "code",
   "execution_count": 277,
   "metadata": {},
   "outputs": [],
   "source": [
    "search_btn.click()"
   ]
  },
  {
   "cell_type": "code",
   "execution_count": 278,
   "metadata": {},
   "outputs": [],
   "source": [
    "# Collecting url's for first 3 pages\n",
    "urls = []\n",
    "\n",
    "base_url = \"https://www.amazon.in/s?k=Routers&page={}&qid=1627392126&ref=sr_pg_{}\"\n",
    "\n",
    "for i in range(2,3):\n",
    "    \n",
    "    driver.get(base_url.format(i,i))\n",
    "    \n",
    "    for url in driver.find_elements_by_xpath(\"//h2[@class='a-size-mini a-spacing-none a-color-base s-line-clamp-2']//a\"):\n",
    "        \n",
    "        urls.append(url.get_attribute(\"href\"))"
   ]
  },
  {
   "cell_type": "code",
   "execution_count": 279,
   "metadata": {},
   "outputs": [
    {
     "data": {
      "text/plain": [
       "22"
      ]
     },
     "execution_count": 279,
     "metadata": {},
     "output_type": "execute_result"
    }
   ],
   "source": [
    "len(urls)"
   ]
  },
  {
   "cell_type": "code",
   "execution_count": 280,
   "metadata": {},
   "outputs": [],
   "source": [
    "Reviewes_5 = []\n",
    "\n",
    "for link in urls:\n",
    "    \n",
    "    driver.get(link)\n",
    "    \n",
    "    try:\n",
    "        \n",
    "        cust_rev_5 = driver.find_element_by_css_selector('#histogramTable > tbody > tr:nth-child(1) > td.aok-nowrap > span.a-size-base > a')\n",
    "    \n",
    "        rev_5 = cust_rev_5.get_attribute(\"href\")\n",
    "    \n",
    "        driver.get(rev_5)\n",
    "        \n",
    "        for i in driver.find_elements_by_xpath(\"//span[@class='a-size-base review-text review-text-content']\"):\n",
    "            \n",
    "            Reviewes_5.append(i.text)\n",
    "            \n",
    "            \n",
    "    except NoSuchElementException:\n",
    "        \n",
    "        Reviewes_5.append(\"-\")"
   ]
  },
  {
   "cell_type": "code",
   "execution_count": 283,
   "metadata": {},
   "outputs": [],
   "source": [
    "Reviewes_4 = []\n",
    "\n",
    "Reviewes_3 = []\n",
    "\n",
    "Reviewes_2 = []\n",
    "\n",
    "Reviewes_1 = []\n",
    "\n",
    "\n",
    "for link in urls:\n",
    "    \n",
    "    driver.get(link)\n",
    "    \n",
    "    try:\n",
    "        \n",
    "        cust_rev_4 = driver.find_element_by_css_selector('#histogramTable > tbody > tr:nth-child(2) > td.aok-nowrap > span.a-size-base > a')\n",
    "    \n",
    "        rev_4 = cust_rev_4.get_attribute(\"href\")\n",
    "    \n",
    "        driver.get(rev_4)\n",
    "        \n",
    "        \n",
    "        for i in driver.find_elements_by_xpath(\"//span[@class='a-size-base review-text review-text-content']\"):\n",
    "            \n",
    "            Reviewes_4.append(i.text)\n",
    "            \n",
    "            \n",
    "    except NoSuchElementException:\n",
    "        \n",
    "        Reviewes_4.append(\"-\")\n",
    "        \n",
    "        \n",
    "    try:\n",
    "        \n",
    "        cust_rev_3 = driver.find_element_by_css_selector('#histogramTable > tbody > tr:nth-child(3) > td.aok-nowrap > span.a-size-base > a')\n",
    "    \n",
    "        rev_3 = cust_rev_3.get_attribute(\"href\")\n",
    "    \n",
    "        driver.get(rev_3)\n",
    "        \n",
    "        \n",
    "        for i in driver.find_elements_by_xpath(\"//span[@class='a-size-base review-text review-text-content']\"):\n",
    "            \n",
    "            Reviewes_3.append(i.text)\n",
    "            \n",
    "            \n",
    "    except NoSuchElementException:\n",
    "        \n",
    "        Reviewes_3.append(\"-\")\n",
    "        \n",
    "        \n",
    "    \n",
    "    try:\n",
    "        \n",
    "        cust_rev_2 = driver.find_element_by_css_selector('#histogramTable > tbody > tr:nth-child(4) > td.aok-nowrap > span.a-size-base > a')\n",
    "    \n",
    "        rev_2 = cust_rev_2.get_attribute(\"href\")\n",
    "    \n",
    "        driver.get(rev_2)\n",
    "        \n",
    "        \n",
    "        for i in driver.find_elements_by_xpath(\"//span[@class='a-size-base review-text review-text-content']\"):\n",
    "            \n",
    "            Reviewes_2.append(i.text)\n",
    "            \n",
    "            \n",
    "    except NoSuchElementException:\n",
    "        \n",
    "        Reviewes_2.append(\"-\")\n",
    "        \n",
    "    \n",
    "    try:\n",
    "        \n",
    "        cust_rev_1 = driver.find_element_by_css_selector('#histogramTable > tbody > tr:nth-child(5) > td.aok-nowrap > span.a-size-base > a')\n",
    "    \n",
    "        rev_1 = cust_rev_1.get_attribute(\"href\")\n",
    "    \n",
    "        driver.get(rev_1)\n",
    "        \n",
    "        \n",
    "        for i in driver.find_elements_by_xpath(\"//span[@class='a-size-base review-text review-text-content']\"):\n",
    "            \n",
    "            Reviewes_1.append(i.text)\n",
    "            \n",
    "            \n",
    "    except NoSuchElementException:\n",
    "        \n",
    "        Reviewes_1.append(\"-\")"
   ]
  },
  {
   "cell_type": "code",
   "execution_count": 290,
   "metadata": {},
   "outputs": [],
   "source": [
    "R_1 = Reviewes_1[:90]\n",
    "R_2 = Reviewes_2[:90]\n",
    "R_3 = Reviewes_3[:90]\n",
    "R_4 = Reviewes_4[:90]\n",
    "R_5 = Reviewes_5[:90]"
   ]
  },
  {
   "cell_type": "code",
   "execution_count": 291,
   "metadata": {},
   "outputs": [],
   "source": [
    "df1_rout = pd.DataFrame(R_1,columns=[\"Review\"]) \n",
    "df1_rout[\"Rating\"] = 1\n",
    "\n",
    "df2_rout = pd.DataFrame(R_2,columns=[\"Review\"]) \n",
    "df2_rout[\"Rating\"] = 2\n",
    "\n",
    "df3_rout = pd.DataFrame(R_3,columns=[\"Review\"]) \n",
    "df3_rout[\"Rating\"] = 3\n",
    "\n",
    "df4_rout = pd.DataFrame(R_4,columns=[\"Review\"]) \n",
    "df4_rout[\"Rating\"] = 4\n",
    "\n",
    "df5_rout = pd.DataFrame(R_5,columns=[\"Review\"]) \n",
    "df5_rout[\"Rating\"] = 5\n",
    "\n",
    "\n",
    "df_final_router = pd.concat([df1_rout,df2_rout,df3_rout,df4_rout,df5_rout])"
   ]
  },
  {
   "cell_type": "code",
   "execution_count": 292,
   "metadata": {},
   "outputs": [
    {
     "data": {
      "text/html": [
       "<div>\n",
       "<style scoped>\n",
       "    .dataframe tbody tr th:only-of-type {\n",
       "        vertical-align: middle;\n",
       "    }\n",
       "\n",
       "    .dataframe tbody tr th {\n",
       "        vertical-align: top;\n",
       "    }\n",
       "\n",
       "    .dataframe thead th {\n",
       "        text-align: right;\n",
       "    }\n",
       "</style>\n",
       "<table border=\"1\" class=\"dataframe\">\n",
       "  <thead>\n",
       "    <tr style=\"text-align: right;\">\n",
       "      <th></th>\n",
       "      <th>Review</th>\n",
       "      <th>Rating</th>\n",
       "    </tr>\n",
       "  </thead>\n",
       "  <tbody>\n",
       "    <tr>\n",
       "      <th>0</th>\n",
       "      <td>-</td>\n",
       "      <td>1</td>\n",
       "    </tr>\n",
       "    <tr>\n",
       "      <th>1</th>\n",
       "      <td>Amazon has delivered an used/returned product....</td>\n",
       "      <td>1</td>\n",
       "    </tr>\n",
       "    <tr>\n",
       "      <th>2</th>\n",
       "      <td>It is not even giving the coverage of 15 feet ...</td>\n",
       "      <td>1</td>\n",
       "    </tr>\n",
       "    <tr>\n",
       "      <th>3</th>\n",
       "      <td>Ordered RV340 on 6th Jan 2021. It's dead on 18...</td>\n",
       "      <td>1</td>\n",
       "    </tr>\n",
       "    <tr>\n",
       "      <th>4</th>\n",
       "      <td>Absolutely no support from Cisco to set it up\\...</td>\n",
       "      <td>1</td>\n",
       "    </tr>\n",
       "  </tbody>\n",
       "</table>\n",
       "</div>"
      ],
      "text/plain": [
       "                                              Review  Rating\n",
       "0                                                  -       1\n",
       "1  Amazon has delivered an used/returned product....       1\n",
       "2  It is not even giving the coverage of 15 feet ...       1\n",
       "3  Ordered RV340 on 6th Jan 2021. It's dead on 18...       1\n",
       "4  Absolutely no support from Cisco to set it up\\...       1"
      ]
     },
     "execution_count": 292,
     "metadata": {},
     "output_type": "execute_result"
    }
   ],
   "source": [
    "df_final_router.head()"
   ]
  },
  {
   "cell_type": "code",
   "execution_count": 293,
   "metadata": {},
   "outputs": [
    {
     "data": {
      "text/plain": [
       "(450, 2)"
      ]
     },
     "execution_count": 293,
     "metadata": {},
     "output_type": "execute_result"
    }
   ],
   "source": [
    "df_final_router.shape"
   ]
  },
  {
   "cell_type": "code",
   "execution_count": 294,
   "metadata": {},
   "outputs": [],
   "source": [
    "df_final_router.to_csv(\"Router Reviewes\")"
   ]
  },
  {
   "cell_type": "code",
   "execution_count": 5,
   "metadata": {},
   "outputs": [],
   "source": [
    "import pandas as pd"
   ]
  },
  {
   "cell_type": "code",
   "execution_count": 24,
   "metadata": {},
   "outputs": [],
   "source": [
    "df1 = pd.read_csv(\"Amazon_Laptop_reviewes\")\n",
    "df2 = pd.read_csv(\"Amazon_Phone_reviewes\")\n",
    "df3 = pd.read_csv(\"Amazon_headphone_reviews\")\n",
    "df4 = pd.read_csv(\"Amazon_Smart_Watch\")\n",
    "df5 = pd.read_csv(\"Amazon_Camera_reviewes\")\n",
    "df6 = pd.read_csv(\"Amazon_Printer_reviewes\")\n",
    "df7 = pd.read_csv(\"Amazon Monitor Review\")\n",
    "df8 = pd.read_csv(\"Amazom_Home_theter\")\n",
    "df9 = pd.read_csv(\"Router Reviewes\")"
   ]
  },
  {
   "cell_type": "code",
   "execution_count": 25,
   "metadata": {},
   "outputs": [],
   "source": [
    "df_Amazon_reviewes = pd.concat([df1,df2,df3,df4,df5,df6,df7,df8,df9])"
   ]
  },
  {
   "cell_type": "code",
   "execution_count": 26,
   "metadata": {},
   "outputs": [
    {
     "data": {
      "text/html": [
       "<div>\n",
       "<style scoped>\n",
       "    .dataframe tbody tr th:only-of-type {\n",
       "        vertical-align: middle;\n",
       "    }\n",
       "\n",
       "    .dataframe tbody tr th {\n",
       "        vertical-align: top;\n",
       "    }\n",
       "\n",
       "    .dataframe thead th {\n",
       "        text-align: right;\n",
       "    }\n",
       "</style>\n",
       "<table border=\"1\" class=\"dataframe\">\n",
       "  <thead>\n",
       "    <tr style=\"text-align: right;\">\n",
       "      <th></th>\n",
       "      <th>Unnamed: 0</th>\n",
       "      <th>Review</th>\n",
       "      <th>Rating</th>\n",
       "    </tr>\n",
       "  </thead>\n",
       "  <tbody>\n",
       "    <tr>\n",
       "      <th>0</th>\n",
       "      <td>0</td>\n",
       "      <td>The product promised a lot of features which m...</td>\n",
       "      <td>1</td>\n",
       "    </tr>\n",
       "    <tr>\n",
       "      <th>1</th>\n",
       "      <td>1</td>\n",
       "      <td>I already have a Asus Vivibook bought two year...</td>\n",
       "      <td>1</td>\n",
       "    </tr>\n",
       "    <tr>\n",
       "      <th>2</th>\n",
       "      <td>2</td>\n",
       "      <td>The battery backup is not even 50% of what's m...</td>\n",
       "      <td>1</td>\n",
       "    </tr>\n",
       "    <tr>\n",
       "      <th>3</th>\n",
       "      <td>3</td>\n",
       "      <td>Its been 30 days I bought this. Dead slow proc...</td>\n",
       "      <td>1</td>\n",
       "    </tr>\n",
       "    <tr>\n",
       "      <th>4</th>\n",
       "      <td>4</td>\n",
       "      <td>Bettery backup is low low standby</td>\n",
       "      <td>1</td>\n",
       "    </tr>\n",
       "  </tbody>\n",
       "</table>\n",
       "</div>"
      ],
      "text/plain": [
       "   Unnamed: 0                                             Review  Rating\n",
       "0           0  The product promised a lot of features which m...       1\n",
       "1           1  I already have a Asus Vivibook bought two year...       1\n",
       "2           2  The battery backup is not even 50% of what's m...       1\n",
       "3           3  Its been 30 days I bought this. Dead slow proc...       1\n",
       "4           4                  Bettery backup is low low standby       1"
      ]
     },
     "execution_count": 26,
     "metadata": {},
     "output_type": "execute_result"
    }
   ],
   "source": [
    "df_Amazon_reviewes.head()"
   ]
  },
  {
   "cell_type": "code",
   "execution_count": 27,
   "metadata": {},
   "outputs": [],
   "source": [
    "df_Amazon_reviewes = df_Amazon_reviewes.drop(\"Unnamed: 0\",axis=1)"
   ]
  },
  {
   "cell_type": "code",
   "execution_count": 28,
   "metadata": {},
   "outputs": [
    {
     "data": {
      "text/html": [
       "<div>\n",
       "<style scoped>\n",
       "    .dataframe tbody tr th:only-of-type {\n",
       "        vertical-align: middle;\n",
       "    }\n",
       "\n",
       "    .dataframe tbody tr th {\n",
       "        vertical-align: top;\n",
       "    }\n",
       "\n",
       "    .dataframe thead th {\n",
       "        text-align: right;\n",
       "    }\n",
       "</style>\n",
       "<table border=\"1\" class=\"dataframe\">\n",
       "  <thead>\n",
       "    <tr style=\"text-align: right;\">\n",
       "      <th></th>\n",
       "      <th>Review</th>\n",
       "      <th>Rating</th>\n",
       "    </tr>\n",
       "  </thead>\n",
       "  <tbody>\n",
       "    <tr>\n",
       "      <th>0</th>\n",
       "      <td>The product promised a lot of features which m...</td>\n",
       "      <td>1</td>\n",
       "    </tr>\n",
       "    <tr>\n",
       "      <th>1</th>\n",
       "      <td>I already have a Asus Vivibook bought two year...</td>\n",
       "      <td>1</td>\n",
       "    </tr>\n",
       "    <tr>\n",
       "      <th>2</th>\n",
       "      <td>The battery backup is not even 50% of what's m...</td>\n",
       "      <td>1</td>\n",
       "    </tr>\n",
       "    <tr>\n",
       "      <th>3</th>\n",
       "      <td>Its been 30 days I bought this. Dead slow proc...</td>\n",
       "      <td>1</td>\n",
       "    </tr>\n",
       "    <tr>\n",
       "      <th>4</th>\n",
       "      <td>Bettery backup is low low standby</td>\n",
       "      <td>1</td>\n",
       "    </tr>\n",
       "  </tbody>\n",
       "</table>\n",
       "</div>"
      ],
      "text/plain": [
       "                                              Review  Rating\n",
       "0  The product promised a lot of features which m...       1\n",
       "1  I already have a Asus Vivibook bought two year...       1\n",
       "2  The battery backup is not even 50% of what's m...       1\n",
       "3  Its been 30 days I bought this. Dead slow proc...       1\n",
       "4                  Bettery backup is low low standby       1"
      ]
     },
     "execution_count": 28,
     "metadata": {},
     "output_type": "execute_result"
    }
   ],
   "source": [
    "df_Amazon_reviewes.head()"
   ]
  },
  {
   "cell_type": "code",
   "execution_count": 29,
   "metadata": {},
   "outputs": [],
   "source": [
    "df_Amazon_reviewes = df_Amazon_reviewes.sample(frac=1).reset_index(drop=True)"
   ]
  },
  {
   "cell_type": "code",
   "execution_count": 30,
   "metadata": {},
   "outputs": [
    {
     "data": {
      "text/html": [
       "<div>\n",
       "<style scoped>\n",
       "    .dataframe tbody tr th:only-of-type {\n",
       "        vertical-align: middle;\n",
       "    }\n",
       "\n",
       "    .dataframe tbody tr th {\n",
       "        vertical-align: top;\n",
       "    }\n",
       "\n",
       "    .dataframe thead th {\n",
       "        text-align: right;\n",
       "    }\n",
       "</style>\n",
       "<table border=\"1\" class=\"dataframe\">\n",
       "  <thead>\n",
       "    <tr style=\"text-align: right;\">\n",
       "      <th></th>\n",
       "      <th>Review</th>\n",
       "      <th>Rating</th>\n",
       "    </tr>\n",
       "  </thead>\n",
       "  <tbody>\n",
       "    <tr>\n",
       "      <th>0</th>\n",
       "      <td>Best product. You can buy this product .\\nOnly...</td>\n",
       "      <td>4</td>\n",
       "    </tr>\n",
       "    <tr>\n",
       "      <th>1</th>\n",
       "      <td>WARNING\\n\\nTo anyone thinking of buying an Ace...</td>\n",
       "      <td>2</td>\n",
       "    </tr>\n",
       "    <tr>\n",
       "      <th>2</th>\n",
       "      <td>Crop sensor gives you additional distance from...</td>\n",
       "      <td>4</td>\n",
       "    </tr>\n",
       "    <tr>\n",
       "      <th>3</th>\n",
       "      <td>What I like:\\n- Cheap price\\n- Somewhat good w...</td>\n",
       "      <td>5</td>\n",
       "    </tr>\n",
       "    <tr>\n",
       "      <th>4</th>\n",
       "      <td>Havent been able to connect the printer to wif...</td>\n",
       "      <td>1</td>\n",
       "    </tr>\n",
       "  </tbody>\n",
       "</table>\n",
       "</div>"
      ],
      "text/plain": [
       "                                              Review  Rating\n",
       "0  Best product. You can buy this product .\\nOnly...       4\n",
       "1  WARNING\\n\\nTo anyone thinking of buying an Ace...       2\n",
       "2  Crop sensor gives you additional distance from...       4\n",
       "3  What I like:\\n- Cheap price\\n- Somewhat good w...       5\n",
       "4  Havent been able to connect the printer to wif...       1"
      ]
     },
     "execution_count": 30,
     "metadata": {},
     "output_type": "execute_result"
    }
   ],
   "source": [
    "df_Amazon_reviewes.head()"
   ]
  },
  {
   "cell_type": "code",
   "execution_count": 31,
   "metadata": {},
   "outputs": [
    {
     "data": {
      "text/plain": [
       "(4023, 2)"
      ]
     },
     "execution_count": 31,
     "metadata": {},
     "output_type": "execute_result"
    }
   ],
   "source": [
    "df_Amazon_reviewes.shape"
   ]
  },
  {
   "cell_type": "code",
   "execution_count": 32,
   "metadata": {},
   "outputs": [
    {
     "data": {
      "text/plain": [
       "5    810\n",
       "1    810\n",
       "4    810\n",
       "3    800\n",
       "2    793\n",
       "Name: Rating, dtype: int64"
      ]
     },
     "execution_count": 32,
     "metadata": {},
     "output_type": "execute_result"
    }
   ],
   "source": [
    "df_Amazon_reviewes[\"Rating\"].value_counts()"
   ]
  },
  {
   "cell_type": "code",
   "execution_count": 33,
   "metadata": {},
   "outputs": [],
   "source": [
    "df_Amazon_reviewes.to_csv(\"Final_Amazon_Reviewes\")"
   ]
  },
  {
   "cell_type": "markdown",
   "metadata": {},
   "source": [
    "## Flipkart Reviewes"
   ]
  },
  {
   "cell_type": "code",
   "execution_count": 149,
   "metadata": {},
   "outputs": [],
   "source": [
    "# URL of the website \n",
    "url = \"https://www.flipkart.com/\""
   ]
  },
  {
   "cell_type": "code",
   "execution_count": 150,
   "metadata": {},
   "outputs": [],
   "source": [
    "driver.get(url)"
   ]
  },
  {
   "cell_type": "code",
   "execution_count": 151,
   "metadata": {},
   "outputs": [],
   "source": [
    "#cross_mark = driver.find_element_by_css_selector(\"body > div._2Sn47c > div > div > button\")"
   ]
  },
  {
   "cell_type": "code",
   "execution_count": 152,
   "metadata": {},
   "outputs": [],
   "source": [
    "#cross_mark.click()"
   ]
  },
  {
   "cell_type": "code",
   "execution_count": 153,
   "metadata": {},
   "outputs": [],
   "source": [
    "# targeting the search text box\n",
    "search_query = driver.find_element_by_class_name(\"_3704LK\")"
   ]
  },
  {
   "cell_type": "code",
   "execution_count": 154,
   "metadata": {},
   "outputs": [],
   "source": [
    "# searching Laptops\n",
    "search_query.send_keys(\"Laptops\")"
   ]
  },
  {
   "cell_type": "code",
   "execution_count": 155,
   "metadata": {},
   "outputs": [],
   "source": [
    "search_btn = driver.find_element_by_css_selector(\"#container > div > div._1kfTjk > div._1rH5Jn > div._2Xfa2_ > div._1cmsER > form > div > button\")"
   ]
  },
  {
   "cell_type": "code",
   "execution_count": 156,
   "metadata": {},
   "outputs": [],
   "source": [
    "search_btn.click()"
   ]
  },
  {
   "cell_type": "code",
   "execution_count": 157,
   "metadata": {},
   "outputs": [],
   "source": [
    "popularity = driver.find_element_by_css_selector(\"#container > div > div._36fx1h._6t1WkM._3HqJxg > div._1YokD2._2GoDe3 > div:nth-child(2) > div._1YokD2._2GoDe3.col-12-12 > div > div > div._5THWM1 > div:nth-child(3)\")"
   ]
  },
  {
   "cell_type": "code",
   "execution_count": 158,
   "metadata": {},
   "outputs": [],
   "source": [
    "popularity.click()"
   ]
  },
  {
   "cell_type": "code",
   "execution_count": 171,
   "metadata": {},
   "outputs": [],
   "source": [
    "# Collecting url's for first 3 pages\n",
    "urls = []\n",
    "\n",
    "base_url = \"https://www.flipkart.com/search?q=Laptops&otracker=search&otracker1=search&marketplace=FLIPKART&as-show=on&as=off&as-pos=1&as-type=HISTORY&as-backfill=on&sort=popularity&page={}\"\n",
    "\n",
    "for i in range(2,9):\n",
    "    \n",
    "    driver.get(base_url.format(i))\n",
    "    \n",
    "    for url in driver.find_elements_by_xpath(\"//div[@class='_2kHMtA']//a\"):\n",
    "        \n",
    "        urls.append(url.get_attribute(\"href\"))"
   ]
  },
  {
   "cell_type": "code",
   "execution_count": 172,
   "metadata": {},
   "outputs": [
    {
     "data": {
      "text/plain": [
       "168"
      ]
     },
     "execution_count": 172,
     "metadata": {},
     "output_type": "execute_result"
    }
   ],
   "source": [
    "len(urls)"
   ]
  },
  {
   "cell_type": "code",
   "execution_count": 173,
   "metadata": {},
   "outputs": [],
   "source": [
    "Reviewes = []\n",
    "\n",
    "for link in urls:\n",
    "    \n",
    "    \n",
    "    driver.get(link)\n",
    "    \n",
    "    \n",
    "    try:\n",
    "        \n",
    "        link_1 = driver.find_element_by_css_selector(\"#container > div > div._2c7YLP.UtUXW0._6t1WkM._3HqJxg > div._1YokD2._2GoDe3 > div._1YokD2._3Mn1Gg.col-8-12 > div._1YokD2._3Mn1Gg > div:nth-child(7) > div > a\")\n",
    "        \n",
    "        link_h = link_1.get_attribute(\"href\")\n",
    "        \n",
    "        driver.get(link_h)\n",
    "        \n",
    "        for i in driver.find_elements_by_xpath(\"//div[@class='col _2wzgFH K0kLPL']\"):\n",
    "            \n",
    "            \n",
    "            Reviewes.append(i.text)\n",
    "            \n",
    "    except NoSuchElementException:\n",
    "        \n",
    "        Reviewes.append(\"-\")"
   ]
  },
  {
   "cell_type": "code",
   "execution_count": 174,
   "metadata": {},
   "outputs": [
    {
     "data": {
      "text/plain": [
       "534"
      ]
     },
     "execution_count": 174,
     "metadata": {},
     "output_type": "execute_result"
    }
   ],
   "source": [
    "len(Reviewes)"
   ]
  },
  {
   "cell_type": "code",
   "execution_count": 175,
   "metadata": {},
   "outputs": [],
   "source": [
    "df_r = pd.DataFrame(Reviewes,columns=[\"Reviewes\"])"
   ]
  },
  {
   "cell_type": "code",
   "execution_count": 207,
   "metadata": {},
   "outputs": [
    {
     "data": {
      "text/html": [
       "<div>\n",
       "<style scoped>\n",
       "    .dataframe tbody tr th:only-of-type {\n",
       "        vertical-align: middle;\n",
       "    }\n",
       "\n",
       "    .dataframe tbody tr th {\n",
       "        vertical-align: top;\n",
       "    }\n",
       "\n",
       "    .dataframe thead th {\n",
       "        text-align: right;\n",
       "    }\n",
       "</style>\n",
       "<table border=\"1\" class=\"dataframe\">\n",
       "  <thead>\n",
       "    <tr style=\"text-align: right;\">\n",
       "      <th></th>\n",
       "      <th>Reviewes</th>\n",
       "      <th>Ratings</th>\n",
       "    </tr>\n",
       "  </thead>\n",
       "  <tbody>\n",
       "    <tr>\n",
       "      <th>0</th>\n",
       "      <td>-</td>\n",
       "      <td>-</td>\n",
       "    </tr>\n",
       "    <tr>\n",
       "      <th>1</th>\n",
       "      <td>-</td>\n",
       "      <td>-</td>\n",
       "    </tr>\n",
       "    <tr>\n",
       "      <th>2</th>\n",
       "      <td>-</td>\n",
       "      <td>-</td>\n",
       "    </tr>\n",
       "    <tr>\n",
       "      <th>3</th>\n",
       "      <td>5\\nMust buy!\\nIts an absolute beast if u know ...</td>\n",
       "      <td>5</td>\n",
       "    </tr>\n",
       "    <tr>\n",
       "      <th>4</th>\n",
       "      <td>5\\nSimply awesome\\nThis is the best laptop in ...</td>\n",
       "      <td>5</td>\n",
       "    </tr>\n",
       "  </tbody>\n",
       "</table>\n",
       "</div>"
      ],
      "text/plain": [
       "                                            Reviewes Ratings\n",
       "0                                                  -       -\n",
       "1                                                  -       -\n",
       "2                                                  -       -\n",
       "3  5\\nMust buy!\\nIts an absolute beast if u know ...       5\n",
       "4  5\\nSimply awesome\\nThis is the best laptop in ...       5"
      ]
     },
     "execution_count": 207,
     "metadata": {},
     "output_type": "execute_result"
    }
   ],
   "source": [
    "df_r.head()"
   ]
  },
  {
   "cell_type": "code",
   "execution_count": 208,
   "metadata": {},
   "outputs": [],
   "source": [
    "df_r[\"Ratings\"] = df_r[\"Reviewes\"].str.split().str[0]"
   ]
  },
  {
   "cell_type": "code",
   "execution_count": 209,
   "metadata": {},
   "outputs": [
    {
     "data": {
      "text/html": [
       "<div>\n",
       "<style scoped>\n",
       "    .dataframe tbody tr th:only-of-type {\n",
       "        vertical-align: middle;\n",
       "    }\n",
       "\n",
       "    .dataframe tbody tr th {\n",
       "        vertical-align: top;\n",
       "    }\n",
       "\n",
       "    .dataframe thead th {\n",
       "        text-align: right;\n",
       "    }\n",
       "</style>\n",
       "<table border=\"1\" class=\"dataframe\">\n",
       "  <thead>\n",
       "    <tr style=\"text-align: right;\">\n",
       "      <th></th>\n",
       "      <th>Reviewes</th>\n",
       "      <th>Ratings</th>\n",
       "    </tr>\n",
       "  </thead>\n",
       "  <tbody>\n",
       "    <tr>\n",
       "      <th>0</th>\n",
       "      <td>-</td>\n",
       "      <td>-</td>\n",
       "    </tr>\n",
       "    <tr>\n",
       "      <th>1</th>\n",
       "      <td>-</td>\n",
       "      <td>-</td>\n",
       "    </tr>\n",
       "    <tr>\n",
       "      <th>2</th>\n",
       "      <td>-</td>\n",
       "      <td>-</td>\n",
       "    </tr>\n",
       "    <tr>\n",
       "      <th>3</th>\n",
       "      <td>5\\nMust buy!\\nIts an absolute beast if u know ...</td>\n",
       "      <td>5</td>\n",
       "    </tr>\n",
       "    <tr>\n",
       "      <th>4</th>\n",
       "      <td>5\\nSimply awesome\\nThis is the best laptop in ...</td>\n",
       "      <td>5</td>\n",
       "    </tr>\n",
       "  </tbody>\n",
       "</table>\n",
       "</div>"
      ],
      "text/plain": [
       "                                            Reviewes Ratings\n",
       "0                                                  -       -\n",
       "1                                                  -       -\n",
       "2                                                  -       -\n",
       "3  5\\nMust buy!\\nIts an absolute beast if u know ...       5\n",
       "4  5\\nSimply awesome\\nThis is the best laptop in ...       5"
      ]
     },
     "execution_count": 209,
     "metadata": {},
     "output_type": "execute_result"
    }
   ],
   "source": [
    "df_r.head()"
   ]
  },
  {
   "cell_type": "code",
   "execution_count": 210,
   "metadata": {},
   "outputs": [
    {
     "data": {
      "text/plain": [
       "5    247\n",
       "-    125\n",
       "4    118\n",
       "1     23\n",
       "2     12\n",
       "3      9\n",
       "Name: Ratings, dtype: int64"
      ]
     },
     "execution_count": 210,
     "metadata": {},
     "output_type": "execute_result"
    }
   ],
   "source": [
    "df_r[\"Ratings\"].value_counts()"
   ]
  },
  {
   "cell_type": "code",
   "execution_count": 211,
   "metadata": {},
   "outputs": [],
   "source": [
    "df_R5 = df_r[df_r[\"Ratings\"] == \"5\"]"
   ]
  },
  {
   "cell_type": "code",
   "execution_count": 212,
   "metadata": {},
   "outputs": [],
   "source": [
    "df_R5 = df_R5[:90]"
   ]
  },
  {
   "cell_type": "code",
   "execution_count": 214,
   "metadata": {},
   "outputs": [
    {
     "data": {
      "text/html": [
       "<div>\n",
       "<style scoped>\n",
       "    .dataframe tbody tr th:only-of-type {\n",
       "        vertical-align: middle;\n",
       "    }\n",
       "\n",
       "    .dataframe tbody tr th {\n",
       "        vertical-align: top;\n",
       "    }\n",
       "\n",
       "    .dataframe thead th {\n",
       "        text-align: right;\n",
       "    }\n",
       "</style>\n",
       "<table border=\"1\" class=\"dataframe\">\n",
       "  <thead>\n",
       "    <tr style=\"text-align: right;\">\n",
       "      <th></th>\n",
       "      <th>Reviewes</th>\n",
       "      <th>Ratings</th>\n",
       "    </tr>\n",
       "  </thead>\n",
       "  <tbody>\n",
       "    <tr>\n",
       "      <th>3</th>\n",
       "      <td>5\\nMust buy!\\nIts an absolute beast if u know ...</td>\n",
       "      <td>5</td>\n",
       "    </tr>\n",
       "    <tr>\n",
       "      <th>4</th>\n",
       "      <td>5\\nSimply awesome\\nThis is the best laptop in ...</td>\n",
       "      <td>5</td>\n",
       "    </tr>\n",
       "    <tr>\n",
       "      <th>5</th>\n",
       "      <td>5\\nMust buy!\\nGood product as used of now.... ...</td>\n",
       "      <td>5</td>\n",
       "    </tr>\n",
       "    <tr>\n",
       "      <th>6</th>\n",
       "      <td>5\\nTerrific\\nAWESOME LAPTOP. It supports many ...</td>\n",
       "      <td>5</td>\n",
       "    </tr>\n",
       "    <tr>\n",
       "      <th>10</th>\n",
       "      <td>5\\nClassy product\\nIt's good gameing laptop in...</td>\n",
       "      <td>5</td>\n",
       "    </tr>\n",
       "  </tbody>\n",
       "</table>\n",
       "</div>"
      ],
      "text/plain": [
       "                                             Reviewes Ratings\n",
       "3   5\\nMust buy!\\nIts an absolute beast if u know ...       5\n",
       "4   5\\nSimply awesome\\nThis is the best laptop in ...       5\n",
       "5   5\\nMust buy!\\nGood product as used of now.... ...       5\n",
       "6   5\\nTerrific\\nAWESOME LAPTOP. It supports many ...       5\n",
       "10  5\\nClassy product\\nIt's good gameing laptop in...       5"
      ]
     },
     "execution_count": 214,
     "metadata": {},
     "output_type": "execute_result"
    }
   ],
   "source": [
    "df_R5.head()"
   ]
  },
  {
   "cell_type": "code",
   "execution_count": 219,
   "metadata": {},
   "outputs": [],
   "source": [
    "import re"
   ]
  },
  {
   "cell_type": "code",
   "execution_count": 232,
   "metadata": {},
   "outputs": [],
   "source": [
    "# Removing brackets \n",
    "\n",
    "def remove_sq_brackets(text):\n",
    "    \n",
    "    return re.sub('4\\n', '',text)"
   ]
  },
  {
   "cell_type": "code",
   "execution_count": 221,
   "metadata": {},
   "outputs": [],
   "source": [
    "df_R5[\"Reviewes\"] = df_R5[\"Reviewes\"].apply(remove_sq_brackets)"
   ]
  },
  {
   "cell_type": "code",
   "execution_count": 222,
   "metadata": {},
   "outputs": [
    {
     "data": {
      "text/html": [
       "<div>\n",
       "<style scoped>\n",
       "    .dataframe tbody tr th:only-of-type {\n",
       "        vertical-align: middle;\n",
       "    }\n",
       "\n",
       "    .dataframe tbody tr th {\n",
       "        vertical-align: top;\n",
       "    }\n",
       "\n",
       "    .dataframe thead th {\n",
       "        text-align: right;\n",
       "    }\n",
       "</style>\n",
       "<table border=\"1\" class=\"dataframe\">\n",
       "  <thead>\n",
       "    <tr style=\"text-align: right;\">\n",
       "      <th></th>\n",
       "      <th>Reviewes</th>\n",
       "      <th>Ratings</th>\n",
       "    </tr>\n",
       "  </thead>\n",
       "  <tbody>\n",
       "    <tr>\n",
       "      <th>3</th>\n",
       "      <td>Must buy!\\nIts an absolute beast if u know wha...</td>\n",
       "      <td>5</td>\n",
       "    </tr>\n",
       "    <tr>\n",
       "      <th>4</th>\n",
       "      <td>Simply awesome\\nThis is the best laptop in thi...</td>\n",
       "      <td>5</td>\n",
       "    </tr>\n",
       "    <tr>\n",
       "      <th>5</th>\n",
       "      <td>Must buy!\\nGood product as used of now.... Eve...</td>\n",
       "      <td>5</td>\n",
       "    </tr>\n",
       "    <tr>\n",
       "      <th>6</th>\n",
       "      <td>Terrific\\nAWESOME LAPTOP. It supports many hig...</td>\n",
       "      <td>5</td>\n",
       "    </tr>\n",
       "    <tr>\n",
       "      <th>10</th>\n",
       "      <td>Classy product\\nIt's good gameing laptop in th...</td>\n",
       "      <td>5</td>\n",
       "    </tr>\n",
       "  </tbody>\n",
       "</table>\n",
       "</div>"
      ],
      "text/plain": [
       "                                             Reviewes Ratings\n",
       "3   Must buy!\\nIts an absolute beast if u know wha...       5\n",
       "4   Simply awesome\\nThis is the best laptop in thi...       5\n",
       "5   Must buy!\\nGood product as used of now.... Eve...       5\n",
       "6   Terrific\\nAWESOME LAPTOP. It supports many hig...       5\n",
       "10  Classy product\\nIt's good gameing laptop in th...       5"
      ]
     },
     "execution_count": 222,
     "metadata": {},
     "output_type": "execute_result"
    }
   ],
   "source": [
    "df_R5.head()"
   ]
  },
  {
   "cell_type": "code",
   "execution_count": 224,
   "metadata": {},
   "outputs": [
    {
     "data": {
      "text/plain": [
       "(90, 2)"
      ]
     },
     "execution_count": 224,
     "metadata": {},
     "output_type": "execute_result"
    }
   ],
   "source": [
    "df_R5.shape"
   ]
  },
  {
   "cell_type": "code",
   "execution_count": 225,
   "metadata": {},
   "outputs": [],
   "source": [
    "df_R4 = df_r[df_r[\"Ratings\"] == \"4\"]"
   ]
  },
  {
   "cell_type": "code",
   "execution_count": 227,
   "metadata": {},
   "outputs": [],
   "source": [
    "df_R4 = df_R4[:90]"
   ]
  },
  {
   "cell_type": "code",
   "execution_count": 228,
   "metadata": {},
   "outputs": [
    {
     "data": {
      "text/html": [
       "<div>\n",
       "<style scoped>\n",
       "    .dataframe tbody tr th:only-of-type {\n",
       "        vertical-align: middle;\n",
       "    }\n",
       "\n",
       "    .dataframe tbody tr th {\n",
       "        vertical-align: top;\n",
       "    }\n",
       "\n",
       "    .dataframe thead th {\n",
       "        text-align: right;\n",
       "    }\n",
       "</style>\n",
       "<table border=\"1\" class=\"dataframe\">\n",
       "  <thead>\n",
       "    <tr style=\"text-align: right;\">\n",
       "      <th></th>\n",
       "      <th>Reviewes</th>\n",
       "      <th>Ratings</th>\n",
       "    </tr>\n",
       "  </thead>\n",
       "  <tbody>\n",
       "    <tr>\n",
       "      <th>7</th>\n",
       "      <td>4\\nValue-for-money\\nFor that price... it's exc...</td>\n",
       "      <td>4</td>\n",
       "    </tr>\n",
       "    <tr>\n",
       "      <th>8</th>\n",
       "      <td>4\\nNice product\\nRAM upgrade is must do becaus...</td>\n",
       "      <td>4</td>\n",
       "    </tr>\n",
       "    <tr>\n",
       "      <th>9</th>\n",
       "      <td>4\\nVery Good\\nFor the peoples who R going to b...</td>\n",
       "      <td>4</td>\n",
       "    </tr>\n",
       "    <tr>\n",
       "      <th>11</th>\n",
       "      <td>4\\nGood choice\\nBest laptop in this price rang...</td>\n",
       "      <td>4</td>\n",
       "    </tr>\n",
       "    <tr>\n",
       "      <th>12</th>\n",
       "      <td>4\\nValue-for-money\\nThe AMD APU is a disappoin...</td>\n",
       "      <td>4</td>\n",
       "    </tr>\n",
       "  </tbody>\n",
       "</table>\n",
       "</div>"
      ],
      "text/plain": [
       "                                             Reviewes Ratings\n",
       "7   4\\nValue-for-money\\nFor that price... it's exc...       4\n",
       "8   4\\nNice product\\nRAM upgrade is must do becaus...       4\n",
       "9   4\\nVery Good\\nFor the peoples who R going to b...       4\n",
       "11  4\\nGood choice\\nBest laptop in this price rang...       4\n",
       "12  4\\nValue-for-money\\nThe AMD APU is a disappoin...       4"
      ]
     },
     "execution_count": 228,
     "metadata": {},
     "output_type": "execute_result"
    }
   ],
   "source": [
    "df_R4.head()"
   ]
  },
  {
   "cell_type": "code",
   "execution_count": 229,
   "metadata": {},
   "outputs": [
    {
     "data": {
      "text/plain": [
       "(90, 2)"
      ]
     },
     "execution_count": 229,
     "metadata": {},
     "output_type": "execute_result"
    }
   ],
   "source": [
    "df_R4.shape"
   ]
  },
  {
   "cell_type": "code",
   "execution_count": 233,
   "metadata": {},
   "outputs": [],
   "source": [
    "df_R4[\"Reviewes\"] = df_R4[\"Reviewes\"].apply(remove_sq_brackets)"
   ]
  },
  {
   "cell_type": "code",
   "execution_count": 234,
   "metadata": {},
   "outputs": [
    {
     "data": {
      "text/html": [
       "<div>\n",
       "<style scoped>\n",
       "    .dataframe tbody tr th:only-of-type {\n",
       "        vertical-align: middle;\n",
       "    }\n",
       "\n",
       "    .dataframe tbody tr th {\n",
       "        vertical-align: top;\n",
       "    }\n",
       "\n",
       "    .dataframe thead th {\n",
       "        text-align: right;\n",
       "    }\n",
       "</style>\n",
       "<table border=\"1\" class=\"dataframe\">\n",
       "  <thead>\n",
       "    <tr style=\"text-align: right;\">\n",
       "      <th></th>\n",
       "      <th>Reviewes</th>\n",
       "      <th>Ratings</th>\n",
       "    </tr>\n",
       "  </thead>\n",
       "  <tbody>\n",
       "    <tr>\n",
       "      <th>7</th>\n",
       "      <td>Value-for-money\\nFor that price... it's except...</td>\n",
       "      <td>4</td>\n",
       "    </tr>\n",
       "    <tr>\n",
       "      <th>8</th>\n",
       "      <td>Nice product\\nRAM upgrade is must do because t...</td>\n",
       "      <td>4</td>\n",
       "    </tr>\n",
       "    <tr>\n",
       "      <th>9</th>\n",
       "      <td>Very Good\\nFor the peoples who R going to buy ...</td>\n",
       "      <td>4</td>\n",
       "    </tr>\n",
       "    <tr>\n",
       "      <th>11</th>\n",
       "      <td>Good choice\\nBest laptop in this price range.....</td>\n",
       "      <td>4</td>\n",
       "    </tr>\n",
       "    <tr>\n",
       "      <th>12</th>\n",
       "      <td>Value-for-money\\nThe AMD APU is a disappointme...</td>\n",
       "      <td>4</td>\n",
       "    </tr>\n",
       "  </tbody>\n",
       "</table>\n",
       "</div>"
      ],
      "text/plain": [
       "                                             Reviewes Ratings\n",
       "7   Value-for-money\\nFor that price... it's except...       4\n",
       "8   Nice product\\nRAM upgrade is must do because t...       4\n",
       "9   Very Good\\nFor the peoples who R going to buy ...       4\n",
       "11  Good choice\\nBest laptop in this price range.....       4\n",
       "12  Value-for-money\\nThe AMD APU is a disappointme...       4"
      ]
     },
     "execution_count": 234,
     "metadata": {},
     "output_type": "execute_result"
    }
   ],
   "source": [
    "df_R4.head()"
   ]
  },
  {
   "cell_type": "code",
   "execution_count": 236,
   "metadata": {},
   "outputs": [],
   "source": [
    "df_R3 = df_r[df_r[\"Ratings\"] == \"3\"]"
   ]
  },
  {
   "cell_type": "code",
   "execution_count": 237,
   "metadata": {},
   "outputs": [
    {
     "data": {
      "text/html": [
       "<div>\n",
       "<style scoped>\n",
       "    .dataframe tbody tr th:only-of-type {\n",
       "        vertical-align: middle;\n",
       "    }\n",
       "\n",
       "    .dataframe tbody tr th {\n",
       "        vertical-align: top;\n",
       "    }\n",
       "\n",
       "    .dataframe thead th {\n",
       "        text-align: right;\n",
       "    }\n",
       "</style>\n",
       "<table border=\"1\" class=\"dataframe\">\n",
       "  <thead>\n",
       "    <tr style=\"text-align: right;\">\n",
       "      <th></th>\n",
       "      <th>Reviewes</th>\n",
       "      <th>Ratings</th>\n",
       "    </tr>\n",
       "  </thead>\n",
       "  <tbody>\n",
       "    <tr>\n",
       "      <th>22</th>\n",
       "      <td>3\\nDecent product\\nGood performance but very p...</td>\n",
       "      <td>3</td>\n",
       "    </tr>\n",
       "    <tr>\n",
       "      <th>48</th>\n",
       "      <td>3\\nDoes the job\\nI am writing this after using...</td>\n",
       "      <td>3</td>\n",
       "    </tr>\n",
       "    <tr>\n",
       "      <th>122</th>\n",
       "      <td>3\\nFair\\nFirst thing if you look for performan...</td>\n",
       "      <td>3</td>\n",
       "    </tr>\n",
       "    <tr>\n",
       "      <th>176</th>\n",
       "      <td>3\\nDecent product\\nGood performance but very p...</td>\n",
       "      <td>3</td>\n",
       "    </tr>\n",
       "    <tr>\n",
       "      <th>212</th>\n",
       "      <td>3\\nDoes the job\\nI am writing this after using...</td>\n",
       "      <td>3</td>\n",
       "    </tr>\n",
       "  </tbody>\n",
       "</table>\n",
       "</div>"
      ],
      "text/plain": [
       "                                              Reviewes Ratings\n",
       "22   3\\nDecent product\\nGood performance but very p...       3\n",
       "48   3\\nDoes the job\\nI am writing this after using...       3\n",
       "122  3\\nFair\\nFirst thing if you look for performan...       3\n",
       "176  3\\nDecent product\\nGood performance but very p...       3\n",
       "212  3\\nDoes the job\\nI am writing this after using...       3"
      ]
     },
     "execution_count": 237,
     "metadata": {},
     "output_type": "execute_result"
    }
   ],
   "source": [
    "df_R3.head()"
   ]
  },
  {
   "cell_type": "code",
   "execution_count": 238,
   "metadata": {},
   "outputs": [
    {
     "data": {
      "text/plain": [
       "(9, 2)"
      ]
     },
     "execution_count": 238,
     "metadata": {},
     "output_type": "execute_result"
    }
   ],
   "source": [
    "# Need 81 more ratings\n",
    "df_R3.shape"
   ]
  },
  {
   "cell_type": "code",
   "execution_count": 239,
   "metadata": {},
   "outputs": [],
   "source": [
    "df_R2 = df_r[df_r[\"Ratings\"] == \"2\"]"
   ]
  },
  {
   "cell_type": "code",
   "execution_count": 240,
   "metadata": {},
   "outputs": [
    {
     "data": {
      "text/html": [
       "<div>\n",
       "<style scoped>\n",
       "    .dataframe tbody tr th:only-of-type {\n",
       "        vertical-align: middle;\n",
       "    }\n",
       "\n",
       "    .dataframe tbody tr th {\n",
       "        vertical-align: top;\n",
       "    }\n",
       "\n",
       "    .dataframe thead th {\n",
       "        text-align: right;\n",
       "    }\n",
       "</style>\n",
       "<table border=\"1\" class=\"dataframe\">\n",
       "  <thead>\n",
       "    <tr style=\"text-align: right;\">\n",
       "      <th></th>\n",
       "      <th>Reviewes</th>\n",
       "      <th>Ratings</th>\n",
       "    </tr>\n",
       "  </thead>\n",
       "  <tbody>\n",
       "    <tr>\n",
       "      <th>20</th>\n",
       "      <td>2\\nHigh-pitched sound like hard disk failing/f...</td>\n",
       "      <td>2</td>\n",
       "    </tr>\n",
       "    <tr>\n",
       "      <th>51</th>\n",
       "      <td>2\\nCould be way better\\nI PURCHASED LAPTOP 1 M...</td>\n",
       "      <td>2</td>\n",
       "    </tr>\n",
       "    <tr>\n",
       "      <th>63</th>\n",
       "      <td>2\\nNot good\\nThis laptop has very baf battery ...</td>\n",
       "      <td>2</td>\n",
       "    </tr>\n",
       "    <tr>\n",
       "      <th>141</th>\n",
       "      <td>2\\nCould be way better\\nI PURCHASED LAPTOP 1 M...</td>\n",
       "      <td>2</td>\n",
       "    </tr>\n",
       "    <tr>\n",
       "      <th>174</th>\n",
       "      <td>2\\nHigh-pitched sound like hard disk failing/f...</td>\n",
       "      <td>2</td>\n",
       "    </tr>\n",
       "  </tbody>\n",
       "</table>\n",
       "</div>"
      ],
      "text/plain": [
       "                                              Reviewes Ratings\n",
       "20   2\\nHigh-pitched sound like hard disk failing/f...       2\n",
       "51   2\\nCould be way better\\nI PURCHASED LAPTOP 1 M...       2\n",
       "63   2\\nNot good\\nThis laptop has very baf battery ...       2\n",
       "141  2\\nCould be way better\\nI PURCHASED LAPTOP 1 M...       2\n",
       "174  2\\nHigh-pitched sound like hard disk failing/f...       2"
      ]
     },
     "execution_count": 240,
     "metadata": {},
     "output_type": "execute_result"
    }
   ],
   "source": [
    "df_R2.head()"
   ]
  },
  {
   "cell_type": "code",
   "execution_count": 241,
   "metadata": {},
   "outputs": [
    {
     "data": {
      "text/plain": [
       "(12, 2)"
      ]
     },
     "execution_count": 241,
     "metadata": {},
     "output_type": "execute_result"
    }
   ],
   "source": [
    "# 78 more 2 ratings\n",
    "df_R2.shape"
   ]
  },
  {
   "cell_type": "code",
   "execution_count": 242,
   "metadata": {},
   "outputs": [],
   "source": [
    "df_R1 = df_r[df_r[\"Ratings\"] == \"1\"]"
   ]
  },
  {
   "cell_type": "code",
   "execution_count": 244,
   "metadata": {},
   "outputs": [
    {
     "data": {
      "text/plain": [
       "(23, 2)"
      ]
     },
     "execution_count": 244,
     "metadata": {},
     "output_type": "execute_result"
    }
   ],
   "source": [
    "# 67 more 1 ratings\n",
    "df_R1.shape"
   ]
  },
  {
   "cell_type": "code",
   "execution_count": 255,
   "metadata": {},
   "outputs": [],
   "source": [
    "df_Laptops_FK = pd.concat([df_R1,df_R2,df_R3,df_R4,df_R5]) "
   ]
  },
  {
   "cell_type": "code",
   "execution_count": 256,
   "metadata": {},
   "outputs": [
    {
     "data": {
      "text/html": [
       "<div>\n",
       "<style scoped>\n",
       "    .dataframe tbody tr th:only-of-type {\n",
       "        vertical-align: middle;\n",
       "    }\n",
       "\n",
       "    .dataframe tbody tr th {\n",
       "        vertical-align: top;\n",
       "    }\n",
       "\n",
       "    .dataframe thead th {\n",
       "        text-align: right;\n",
       "    }\n",
       "</style>\n",
       "<table border=\"1\" class=\"dataframe\">\n",
       "  <thead>\n",
       "    <tr style=\"text-align: right;\">\n",
       "      <th></th>\n",
       "      <th>Reviewes</th>\n",
       "      <th>Ratings</th>\n",
       "    </tr>\n",
       "  </thead>\n",
       "  <tbody>\n",
       "    <tr>\n",
       "      <th>36</th>\n",
       "      <td>1\\nUseless product\\nDelivery was good, but the...</td>\n",
       "      <td>1</td>\n",
       "    </tr>\n",
       "    <tr>\n",
       "      <th>37</th>\n",
       "      <td>1\\nUnsatisfactory\\nIt's keyboard start creatin...</td>\n",
       "      <td>1</td>\n",
       "    </tr>\n",
       "    <tr>\n",
       "      <th>56</th>\n",
       "      <td>1\\nWorthless\\nFirst i thought it would reach m...</td>\n",
       "      <td>1</td>\n",
       "    </tr>\n",
       "    <tr>\n",
       "      <th>105</th>\n",
       "      <td>1\\nUseless product\\nDelivery was good, but the...</td>\n",
       "      <td>1</td>\n",
       "    </tr>\n",
       "    <tr>\n",
       "      <th>106</th>\n",
       "      <td>1\\nUnsatisfactory\\nIt's keyboard start creatin...</td>\n",
       "      <td>1</td>\n",
       "    </tr>\n",
       "  </tbody>\n",
       "</table>\n",
       "</div>"
      ],
      "text/plain": [
       "                                              Reviewes Ratings\n",
       "36   1\\nUseless product\\nDelivery was good, but the...       1\n",
       "37   1\\nUnsatisfactory\\nIt's keyboard start creatin...       1\n",
       "56   1\\nWorthless\\nFirst i thought it would reach m...       1\n",
       "105  1\\nUseless product\\nDelivery was good, but the...       1\n",
       "106  1\\nUnsatisfactory\\nIt's keyboard start creatin...       1"
      ]
     },
     "execution_count": 256,
     "metadata": {},
     "output_type": "execute_result"
    }
   ],
   "source": [
    "df_Laptops_FK.head()"
   ]
  },
  {
   "cell_type": "code",
   "execution_count": 258,
   "metadata": {},
   "outputs": [
    {
     "data": {
      "text/plain": [
       "5    90\n",
       "4    90\n",
       "1    23\n",
       "2    12\n",
       "3     9\n",
       "Name: Ratings, dtype: int64"
      ]
     },
     "execution_count": 258,
     "metadata": {},
     "output_type": "execute_result"
    }
   ],
   "source": [
    "df_Laptops_FK[\"Ratings\"].value_counts()"
   ]
  },
  {
   "cell_type": "code",
   "execution_count": 259,
   "metadata": {},
   "outputs": [],
   "source": [
    "df_Laptops_FK.to_csv(\"Flipkart_Laptops\")"
   ]
  },
  {
   "cell_type": "markdown",
   "metadata": {},
   "source": [
    "### Flipkart Phones"
   ]
  },
  {
   "cell_type": "code",
   "execution_count": 245,
   "metadata": {},
   "outputs": [],
   "source": [
    "# URL of the website \n",
    "url = \"https://www.flipkart.com/\""
   ]
  },
  {
   "cell_type": "code",
   "execution_count": 246,
   "metadata": {},
   "outputs": [],
   "source": [
    "driver.get(url)"
   ]
  },
  {
   "cell_type": "code",
   "execution_count": 247,
   "metadata": {},
   "outputs": [],
   "source": [
    "# targeting the search text box\n",
    "search_query = driver.find_element_by_class_name(\"_3704LK\")"
   ]
  },
  {
   "cell_type": "code",
   "execution_count": 248,
   "metadata": {},
   "outputs": [],
   "source": [
    "# searching Laptops\n",
    "search_query.send_keys(\"Phones\")"
   ]
  },
  {
   "cell_type": "code",
   "execution_count": 249,
   "metadata": {},
   "outputs": [],
   "source": [
    "search_btn = driver.find_element_by_css_selector(\"#container > div > div._1kfTjk > div._1rH5Jn > div._2Xfa2_ > div._1cmsER > form > div > button\")"
   ]
  },
  {
   "cell_type": "code",
   "execution_count": 250,
   "metadata": {},
   "outputs": [],
   "source": [
    "search_btn.click()"
   ]
  },
  {
   "cell_type": "code",
   "execution_count": 251,
   "metadata": {},
   "outputs": [],
   "source": [
    "popularity = driver.find_element_by_css_selector(\"#container > div > div._36fx1h._6t1WkM._3HqJxg > div._1YokD2._2GoDe3 > div:nth-child(2) > div._1YokD2._2GoDe3.col-12-12 > div > div > div._5THWM1 > div:nth-child(3)\")"
   ]
  },
  {
   "cell_type": "code",
   "execution_count": 252,
   "metadata": {},
   "outputs": [],
   "source": [
    "popularity.click()"
   ]
  },
  {
   "cell_type": "code",
   "execution_count": 253,
   "metadata": {},
   "outputs": [],
   "source": [
    "# Collecting url's for first 3 pages\n",
    "urls = []\n",
    "\n",
    "base_url = \"https://www.flipkart.com/search?q=Phones&otracker=search&otracker1=search&marketplace=FLIPKART&as-show=on&as=off&sort=popularity&page={}\"\n",
    "\n",
    "for i in range(2,4):\n",
    "    \n",
    "    driver.get(base_url.format(i))\n",
    "    \n",
    "    for url in driver.find_elements_by_xpath(\"//div[@class='_2kHMtA']//a\"):\n",
    "        \n",
    "        urls.append(url.get_attribute(\"href\"))"
   ]
  },
  {
   "cell_type": "code",
   "execution_count": 254,
   "metadata": {},
   "outputs": [
    {
     "data": {
      "text/plain": [
       "48"
      ]
     },
     "execution_count": 254,
     "metadata": {},
     "output_type": "execute_result"
    }
   ],
   "source": [
    "len(urls)"
   ]
  },
  {
   "cell_type": "code",
   "execution_count": 260,
   "metadata": {},
   "outputs": [],
   "source": [
    "Reviewes = []\n",
    "\n",
    "for link in urls:\n",
    "    \n",
    "    \n",
    "    driver.get(link)\n",
    "    \n",
    "    \n",
    "    try:\n",
    "        \n",
    "        link_1 = driver.find_element_by_css_selector(\"#container > div > div._2c7YLP.UtUXW0._6t1WkM._3HqJxg > div._1YokD2._2GoDe3 > div._1YokD2._3Mn1Gg.col-8-12 > div._1YokD2._3Mn1Gg > div:nth-child(7) > div > a\")\n",
    "        \n",
    "        link_h = link_1.get_attribute(\"href\")\n",
    "        \n",
    "        driver.get(link_h)\n",
    "        \n",
    "        for i in driver.find_elements_by_xpath(\"//div[@class='col _2wzgFH K0kLPL']\"):\n",
    "            \n",
    "            \n",
    "            Reviewes.append(i.text)\n",
    "            \n",
    "    except NoSuchElementException:\n",
    "        \n",
    "        Reviewes.append(\"-\")"
   ]
  },
  {
   "cell_type": "code",
   "execution_count": 262,
   "metadata": {},
   "outputs": [
    {
     "data": {
      "text/plain": [
       "354"
      ]
     },
     "execution_count": 262,
     "metadata": {},
     "output_type": "execute_result"
    }
   ],
   "source": [
    "len(Reviewes)"
   ]
  },
  {
   "cell_type": "code",
   "execution_count": 263,
   "metadata": {},
   "outputs": [],
   "source": [
    "df_ph = pd.DataFrame(Reviewes,columns=[\"Reviewes\"])"
   ]
  },
  {
   "cell_type": "code",
   "execution_count": 267,
   "metadata": {},
   "outputs": [
    {
     "data": {
      "text/html": [
       "<div>\n",
       "<style scoped>\n",
       "    .dataframe tbody tr th:only-of-type {\n",
       "        vertical-align: middle;\n",
       "    }\n",
       "\n",
       "    .dataframe tbody tr th {\n",
       "        vertical-align: top;\n",
       "    }\n",
       "\n",
       "    .dataframe thead th {\n",
       "        text-align: right;\n",
       "    }\n",
       "</style>\n",
       "<table border=\"1\" class=\"dataframe\">\n",
       "  <thead>\n",
       "    <tr style=\"text-align: right;\">\n",
       "      <th></th>\n",
       "      <th>Reviewes</th>\n",
       "      <th>Ratings</th>\n",
       "    </tr>\n",
       "  </thead>\n",
       "  <tbody>\n",
       "    <tr>\n",
       "      <th>0</th>\n",
       "      <td>4\\nNice product\\nThe phone is good enough in t...</td>\n",
       "      <td>4</td>\n",
       "    </tr>\n",
       "    <tr>\n",
       "      <th>1</th>\n",
       "      <td>5\\nWonderful\\nBest budget smartphone with Real...</td>\n",
       "      <td>5</td>\n",
       "    </tr>\n",
       "    <tr>\n",
       "      <th>2</th>\n",
       "      <td>4\\nNice product\\nVery good performance gift fr...</td>\n",
       "      <td>4</td>\n",
       "    </tr>\n",
       "    <tr>\n",
       "      <th>3</th>\n",
       "      <td>5\\nExcellent\\nI purchased this phone for my mo...</td>\n",
       "      <td>5</td>\n",
       "    </tr>\n",
       "    <tr>\n",
       "      <th>4</th>\n",
       "      <td>5\\nWonderful\\nBest phone in this price range.\\...</td>\n",
       "      <td>5</td>\n",
       "    </tr>\n",
       "  </tbody>\n",
       "</table>\n",
       "</div>"
      ],
      "text/plain": [
       "                                            Reviewes Ratings\n",
       "0  4\\nNice product\\nThe phone is good enough in t...       4\n",
       "1  5\\nWonderful\\nBest budget smartphone with Real...       5\n",
       "2  4\\nNice product\\nVery good performance gift fr...       4\n",
       "3  5\\nExcellent\\nI purchased this phone for my mo...       5\n",
       "4  5\\nWonderful\\nBest phone in this price range.\\...       5"
      ]
     },
     "execution_count": 267,
     "metadata": {},
     "output_type": "execute_result"
    }
   ],
   "source": [
    "df_ph.head()"
   ]
  },
  {
   "cell_type": "code",
   "execution_count": 269,
   "metadata": {},
   "outputs": [],
   "source": [
    "df_R1 = df_ph[df_ph[\"Ratings\"] == \"5\"]"
   ]
  },
  {
   "cell_type": "code",
   "execution_count": 270,
   "metadata": {},
   "outputs": [],
   "source": [
    "df_R1 = df_R1[:90]"
   ]
  },
  {
   "cell_type": "code",
   "execution_count": 273,
   "metadata": {},
   "outputs": [],
   "source": [
    "df_R2 = df_ph[df_ph[\"Ratings\"] == \"4\"]\n",
    "\n",
    "df_R3 = df_ph[df_ph[\"Ratings\"] == \"3\"]\n",
    "\n",
    "df_R4 = df_ph[df_ph[\"Ratings\"] == \"2\"]\n",
    "\n",
    "df_R5 = df_ph[df_ph[\"Ratings\"] == \"1\"]"
   ]
  },
  {
   "cell_type": "code",
   "execution_count": 279,
   "metadata": {},
   "outputs": [
    {
     "data": {
      "text/plain": [
       "(3, 2)"
      ]
     },
     "execution_count": 279,
     "metadata": {},
     "output_type": "execute_result"
    }
   ],
   "source": [
    "df_R5.shape"
   ]
  },
  {
   "cell_type": "code",
   "execution_count": 280,
   "metadata": {},
   "outputs": [],
   "source": [
    "df_phones_FK = pd.concat([df_R1,df_R2,df_R3,df_R4,df_R5]) "
   ]
  },
  {
   "cell_type": "code",
   "execution_count": 284,
   "metadata": {},
   "outputs": [],
   "source": [
    "df_phones_FK.to_csv(\"Flipkart Phones Reviewes\")"
   ]
  },
  {
   "cell_type": "markdown",
   "metadata": {},
   "source": [
    "### Flipkart Headphones"
   ]
  },
  {
   "cell_type": "code",
   "execution_count": 285,
   "metadata": {},
   "outputs": [],
   "source": [
    "# URL of the website \n",
    "url = \"https://www.flipkart.com/\""
   ]
  },
  {
   "cell_type": "code",
   "execution_count": 286,
   "metadata": {},
   "outputs": [],
   "source": [
    "driver.get(url)"
   ]
  },
  {
   "cell_type": "code",
   "execution_count": 287,
   "metadata": {},
   "outputs": [],
   "source": [
    "#cross_mark = driver.find_element_by_css_selector(\"body > div._2Sn47c > div > div > button\")"
   ]
  },
  {
   "cell_type": "code",
   "execution_count": 288,
   "metadata": {},
   "outputs": [],
   "source": [
    "# targeting the search text box\n",
    "search_query = driver.find_element_by_class_name(\"_3704LK\")"
   ]
  },
  {
   "cell_type": "code",
   "execution_count": 289,
   "metadata": {},
   "outputs": [],
   "source": [
    "# searching Laptops\n",
    "search_query.send_keys(\"Headphones\")"
   ]
  },
  {
   "cell_type": "code",
   "execution_count": 290,
   "metadata": {},
   "outputs": [],
   "source": [
    "search_btn = driver.find_element_by_css_selector(\"#container > div > div._1kfTjk > div._1rH5Jn > div._2Xfa2_ > div._1cmsER > form > div > button\")"
   ]
  },
  {
   "cell_type": "code",
   "execution_count": 291,
   "metadata": {},
   "outputs": [],
   "source": [
    "search_btn.click()"
   ]
  },
  {
   "cell_type": "code",
   "execution_count": 292,
   "metadata": {},
   "outputs": [],
   "source": [
    "popularity = driver.find_element_by_css_selector(\"#container > div > div._36fx1h._6t1WkM._3HqJxg > div._1YokD2._2GoDe3 > div:nth-child(2) > div._1YokD2._2GoDe3.col-12-12 > div > div > div._5THWM1 > div:nth-child(3)\")"
   ]
  },
  {
   "cell_type": "code",
   "execution_count": 293,
   "metadata": {},
   "outputs": [],
   "source": [
    "popularity.click()"
   ]
  },
  {
   "cell_type": "code",
   "execution_count": 304,
   "metadata": {},
   "outputs": [],
   "source": [
    "# Collecting url's for first 3 pages\n",
    "urls = []\n",
    "\n",
    "base_url = \"https://www.flipkart.com/search?q=Headphones&otracker=search&otracker1=search&marketplace=FLIPKART&as-show=on&as=off&sort=popularity&page={}\"\n",
    "\n",
    "for i in range(2,4):\n",
    "    \n",
    "    driver.get(base_url.format(i))\n",
    "    \n",
    "    for url in driver.find_elements_by_xpath(\"//a[@class='_2rpwqI']\"):\n",
    "        \n",
    "        urls.append(url.get_attribute(\"href\"))"
   ]
  },
  {
   "cell_type": "code",
   "execution_count": 305,
   "metadata": {},
   "outputs": [
    {
     "data": {
      "text/plain": [
       "80"
      ]
     },
     "execution_count": 305,
     "metadata": {},
     "output_type": "execute_result"
    }
   ],
   "source": [
    "len(urls)"
   ]
  },
  {
   "cell_type": "code",
   "execution_count": 306,
   "metadata": {},
   "outputs": [],
   "source": [
    "Reviewes = []\n",
    "\n",
    "for link in urls:\n",
    "    \n",
    "    \n",
    "    driver.get(link)\n",
    "    \n",
    "    \n",
    "    try:\n",
    "        \n",
    "        link_1 = driver.find_element_by_css_selector(\"#container > div > div._2c7YLP.UtUXW0._6t1WkM._3HqJxg > div._1YokD2._2GoDe3 > div._1YokD2._3Mn1Gg.col-8-12 > div._1YokD2._3Mn1Gg > div:nth-child(7) > div > a\")\n",
    "        \n",
    "        link_h = link_1.get_attribute(\"href\")\n",
    "        \n",
    "        driver.get(link_h)\n",
    "        \n",
    "        for i in driver.find_elements_by_xpath(\"//div[@class='col _2wzgFH K0kLPL']\"):\n",
    "            \n",
    "            \n",
    "            Reviewes.append(i.text)\n",
    "            \n",
    "    except NoSuchElementException:\n",
    "        \n",
    "        Reviewes.append(\"-\")"
   ]
  },
  {
   "cell_type": "code",
   "execution_count": 308,
   "metadata": {},
   "outputs": [],
   "source": [
    "df_hp = pd.DataFrame(Reviewes,columns=[\"Reviewes\"])"
   ]
  },
  {
   "cell_type": "code",
   "execution_count": 309,
   "metadata": {},
   "outputs": [
    {
     "data": {
      "text/html": [
       "<div>\n",
       "<style scoped>\n",
       "    .dataframe tbody tr th:only-of-type {\n",
       "        vertical-align: middle;\n",
       "    }\n",
       "\n",
       "    .dataframe tbody tr th {\n",
       "        vertical-align: top;\n",
       "    }\n",
       "\n",
       "    .dataframe thead th {\n",
       "        text-align: right;\n",
       "    }\n",
       "</style>\n",
       "<table border=\"1\" class=\"dataframe\">\n",
       "  <thead>\n",
       "    <tr style=\"text-align: right;\">\n",
       "      <th></th>\n",
       "      <th>Reviewes</th>\n",
       "    </tr>\n",
       "  </thead>\n",
       "  <tbody>\n",
       "    <tr>\n",
       "      <th>0</th>\n",
       "      <td>5\\nTerrific\\nThis is my 1st wireless earphones...</td>\n",
       "    </tr>\n",
       "    <tr>\n",
       "      <th>1</th>\n",
       "      <td>5\\nWonderful\\nWhy this is a good choice ?\\n- T...</td>\n",
       "    </tr>\n",
       "    <tr>\n",
       "      <th>2</th>\n",
       "      <td>4\\nValue-for-money\\nReview after 2 months use....</td>\n",
       "    </tr>\n",
       "    <tr>\n",
       "      <th>3</th>\n",
       "      <td>5\\nSuper!\\nOmggggggg,🔥🔥🔥 this airpods more tha...</td>\n",
       "    </tr>\n",
       "    <tr>\n",
       "      <th>4</th>\n",
       "      <td>5\\nHighly recommended\\nI'm using boat from las...</td>\n",
       "    </tr>\n",
       "  </tbody>\n",
       "</table>\n",
       "</div>"
      ],
      "text/plain": [
       "                                            Reviewes\n",
       "0  5\\nTerrific\\nThis is my 1st wireless earphones...\n",
       "1  5\\nWonderful\\nWhy this is a good choice ?\\n- T...\n",
       "2  4\\nValue-for-money\\nReview after 2 months use....\n",
       "3  5\\nSuper!\\nOmggggggg,🔥🔥🔥 this airpods more tha...\n",
       "4  5\\nHighly recommended\\nI'm using boat from las..."
      ]
     },
     "execution_count": 309,
     "metadata": {},
     "output_type": "execute_result"
    }
   ],
   "source": [
    "df_hp.head()"
   ]
  },
  {
   "cell_type": "code",
   "execution_count": 311,
   "metadata": {},
   "outputs": [],
   "source": [
    "df_hp[\"Ratings\"] = df_hp[\"Reviewes\"].str.split().str[0]"
   ]
  },
  {
   "cell_type": "code",
   "execution_count": 312,
   "metadata": {},
   "outputs": [
    {
     "data": {
      "text/html": [
       "<div>\n",
       "<style scoped>\n",
       "    .dataframe tbody tr th:only-of-type {\n",
       "        vertical-align: middle;\n",
       "    }\n",
       "\n",
       "    .dataframe tbody tr th {\n",
       "        vertical-align: top;\n",
       "    }\n",
       "\n",
       "    .dataframe thead th {\n",
       "        text-align: right;\n",
       "    }\n",
       "</style>\n",
       "<table border=\"1\" class=\"dataframe\">\n",
       "  <thead>\n",
       "    <tr style=\"text-align: right;\">\n",
       "      <th></th>\n",
       "      <th>Reviewes</th>\n",
       "      <th>Ratings</th>\n",
       "    </tr>\n",
       "  </thead>\n",
       "  <tbody>\n",
       "    <tr>\n",
       "      <th>0</th>\n",
       "      <td>5\\nTerrific\\nThis is my 1st wireless earphones...</td>\n",
       "      <td>5</td>\n",
       "    </tr>\n",
       "    <tr>\n",
       "      <th>1</th>\n",
       "      <td>5\\nWonderful\\nWhy this is a good choice ?\\n- T...</td>\n",
       "      <td>5</td>\n",
       "    </tr>\n",
       "    <tr>\n",
       "      <th>2</th>\n",
       "      <td>4\\nValue-for-money\\nReview after 2 months use....</td>\n",
       "      <td>4</td>\n",
       "    </tr>\n",
       "    <tr>\n",
       "      <th>3</th>\n",
       "      <td>5\\nSuper!\\nOmggggggg,🔥🔥🔥 this airpods more tha...</td>\n",
       "      <td>5</td>\n",
       "    </tr>\n",
       "    <tr>\n",
       "      <th>4</th>\n",
       "      <td>5\\nHighly recommended\\nI'm using boat from las...</td>\n",
       "      <td>5</td>\n",
       "    </tr>\n",
       "  </tbody>\n",
       "</table>\n",
       "</div>"
      ],
      "text/plain": [
       "                                            Reviewes Ratings\n",
       "0  5\\nTerrific\\nThis is my 1st wireless earphones...       5\n",
       "1  5\\nWonderful\\nWhy this is a good choice ?\\n- T...       5\n",
       "2  4\\nValue-for-money\\nReview after 2 months use....       4\n",
       "3  5\\nSuper!\\nOmggggggg,🔥🔥🔥 this airpods more tha...       5\n",
       "4  5\\nHighly recommended\\nI'm using boat from las...       5"
      ]
     },
     "execution_count": 312,
     "metadata": {},
     "output_type": "execute_result"
    }
   ],
   "source": [
    "df_hp.head()"
   ]
  },
  {
   "cell_type": "code",
   "execution_count": 314,
   "metadata": {},
   "outputs": [
    {
     "data": {
      "text/plain": [
       "5    239\n",
       "4     90\n",
       "-     41\n",
       "3     20\n",
       "1     14\n",
       "2      7\n",
       "Name: Ratings, dtype: int64"
      ]
     },
     "execution_count": 314,
     "metadata": {},
     "output_type": "execute_result"
    }
   ],
   "source": [
    "df_hp[\"Ratings\"].value_counts()"
   ]
  },
  {
   "cell_type": "code",
   "execution_count": 315,
   "metadata": {},
   "outputs": [],
   "source": [
    "df_R1 = df_hp[df_hp[\"Ratings\"] == \"5\"]\n",
    "\n",
    "df_R1 = df_R1[:90]\n",
    "\n",
    "df_R2 = df_hp[df_hp[\"Ratings\"] == \"4\"]\n",
    "\n",
    "df_R3 = df_hp[df_hp[\"Ratings\"] == \"3\"]\n",
    "\n",
    "df_R4 = df_hp[df_hp[\"Ratings\"] == \"2\"]\n",
    "\n",
    "df_R5 = df_hp[df_hp[\"Ratings\"] == \"1\"]"
   ]
  },
  {
   "cell_type": "code",
   "execution_count": 318,
   "metadata": {},
   "outputs": [],
   "source": [
    "df_headphones_FK = pd.concat([df_R1,df_R2,df_R3,df_R4,df_R5]) "
   ]
  },
  {
   "cell_type": "code",
   "execution_count": 321,
   "metadata": {},
   "outputs": [],
   "source": [
    "df_headphones_FK.to_csv(\"Flipkart Headphones Reviewes\")"
   ]
  },
  {
   "cell_type": "markdown",
   "metadata": {},
   "source": [
    "## Flipkart smart watches"
   ]
  },
  {
   "cell_type": "code",
   "execution_count": 324,
   "metadata": {},
   "outputs": [],
   "source": [
    "# URL of the website \n",
    "url = \"https://www.flipkart.com/\""
   ]
  },
  {
   "cell_type": "code",
   "execution_count": 325,
   "metadata": {},
   "outputs": [],
   "source": [
    "driver.get(url)"
   ]
  },
  {
   "cell_type": "code",
   "execution_count": 326,
   "metadata": {},
   "outputs": [],
   "source": [
    "# targeting the search text box\n",
    "search_query = driver.find_element_by_class_name(\"_3704LK\")"
   ]
  },
  {
   "cell_type": "code",
   "execution_count": 327,
   "metadata": {},
   "outputs": [],
   "source": [
    "# searching Laptops\n",
    "search_query.send_keys(\"Smart Watch\")"
   ]
  },
  {
   "cell_type": "code",
   "execution_count": 328,
   "metadata": {},
   "outputs": [],
   "source": [
    "search_btn = driver.find_element_by_css_selector(\"#container > div > div._1kfTjk > div._1rH5Jn > div._2Xfa2_ > div._1cmsER > form > div > button\")"
   ]
  },
  {
   "cell_type": "code",
   "execution_count": 329,
   "metadata": {},
   "outputs": [],
   "source": [
    "search_btn.click()"
   ]
  },
  {
   "cell_type": "code",
   "execution_count": 330,
   "metadata": {},
   "outputs": [],
   "source": [
    "popularity = driver.find_element_by_css_selector(\"#container > div > div._36fx1h._6t1WkM._3HqJxg > div._1YokD2._2GoDe3 > div:nth-child(2) > div._1YokD2._2GoDe3.col-12-12 > div > div > div._5THWM1 > div:nth-child(3)\")"
   ]
  },
  {
   "cell_type": "code",
   "execution_count": 331,
   "metadata": {},
   "outputs": [],
   "source": [
    "popularity.click()"
   ]
  },
  {
   "cell_type": "code",
   "execution_count": 341,
   "metadata": {},
   "outputs": [],
   "source": [
    "# Collecting url's for first 3 pages\n",
    "urls = []\n",
    "\n",
    "base_url = \"https://www.flipkart.com/search?q=Smart+Watch&otracker=search&otracker1=search&marketplace=FLIPKART&as-show=on&as=off&sort=popularity&page={}\"\n",
    "\n",
    "for i in range(2,9):\n",
    "    \n",
    "    driver.get(base_url.format(i))\n",
    "    \n",
    "    for url in driver.find_elements_by_xpath(\"//a[@class='_1fQZEK']\"):\n",
    "        \n",
    "        urls.append(url.get_attribute(\"href\"))"
   ]
  },
  {
   "cell_type": "code",
   "execution_count": 342,
   "metadata": {},
   "outputs": [
    {
     "data": {
      "text/plain": [
       "144"
      ]
     },
     "execution_count": 342,
     "metadata": {},
     "output_type": "execute_result"
    }
   ],
   "source": [
    "len(urls)"
   ]
  },
  {
   "cell_type": "code",
   "execution_count": 343,
   "metadata": {},
   "outputs": [],
   "source": [
    "Reviewes = []\n",
    "\n",
    "for link in urls:\n",
    "    \n",
    "    \n",
    "    driver.get(link)\n",
    "    \n",
    "    \n",
    "    try:\n",
    "        \n",
    "        link_1 = driver.find_element_by_css_selector(\"#container > div > div._2c7YLP.UtUXW0._6t1WkM._3HqJxg > div._1YokD2._2GoDe3 > div._1YokD2._3Mn1Gg.col-8-12 > div._1YokD2._3Mn1Gg > div:nth-child(7) > div > a\")\n",
    "        \n",
    "        link_h = link_1.get_attribute(\"href\")\n",
    "        \n",
    "        driver.get(link_h)\n",
    "        \n",
    "        for i in driver.find_elements_by_xpath(\"//div[@class='col _2wzgFH K0kLPL']\"):\n",
    "            \n",
    "            \n",
    "            Reviewes.append(i.text)\n",
    "            \n",
    "    except NoSuchElementException:\n",
    "        \n",
    "        Reviewes.append(\"-\")"
   ]
  },
  {
   "cell_type": "code",
   "execution_count": 344,
   "metadata": {},
   "outputs": [
    {
     "data": {
      "text/plain": [
       "315"
      ]
     },
     "execution_count": 344,
     "metadata": {},
     "output_type": "execute_result"
    }
   ],
   "source": [
    "len(Reviewes)"
   ]
  },
  {
   "cell_type": "code",
   "execution_count": 345,
   "metadata": {},
   "outputs": [],
   "source": [
    "df_sw = pd.DataFrame(Reviewes,columns=[\"Reviewes\"])"
   ]
  },
  {
   "cell_type": "code",
   "execution_count": 348,
   "metadata": {},
   "outputs": [],
   "source": [
    "df_sw[\"Ratings\"] = df_sw[\"Reviewes\"].str.split().str[0]"
   ]
  },
  {
   "cell_type": "code",
   "execution_count": 350,
   "metadata": {},
   "outputs": [
    {
     "data": {
      "text/plain": [
       "-    125\n",
       "5    120\n",
       "4     56\n",
       "3      8\n",
       "2      4\n",
       "1      2\n",
       "Name: Ratings, dtype: int64"
      ]
     },
     "execution_count": 350,
     "metadata": {},
     "output_type": "execute_result"
    }
   ],
   "source": [
    "df_sw[\"Ratings\"].value_counts()"
   ]
  },
  {
   "cell_type": "code",
   "execution_count": 351,
   "metadata": {},
   "outputs": [],
   "source": [
    "df_R1 = df_sw[df_sw[\"Ratings\"] == \"5\"]\n",
    "\n",
    "df_R1 = df_R1[:90]\n",
    "\n",
    "df_R2 = df_sw[df_sw[\"Ratings\"] == \"4\"]\n",
    "\n",
    "df_R3 = df_sw[df_sw[\"Ratings\"] == \"3\"]\n",
    "\n",
    "df_R4 = df_sw[df_sw[\"Ratings\"] == \"2\"]\n",
    "\n",
    "df_R5 = df_sw[df_sw[\"Ratings\"] == \"1\"]"
   ]
  },
  {
   "cell_type": "code",
   "execution_count": 354,
   "metadata": {},
   "outputs": [],
   "source": [
    "df_smartWatches_FK = pd.concat([df_R1,df_R2,df_R3,df_R4,df_R5]) "
   ]
  },
  {
   "cell_type": "code",
   "execution_count": 355,
   "metadata": {},
   "outputs": [
    {
     "data": {
      "text/plain": [
       "(160, 2)"
      ]
     },
     "execution_count": 355,
     "metadata": {},
     "output_type": "execute_result"
    }
   ],
   "source": [
    "df_smartWatches_FK.shape"
   ]
  },
  {
   "cell_type": "code",
   "execution_count": 357,
   "metadata": {},
   "outputs": [],
   "source": [
    "df_smartWatches_FK.to_csv(\"FlipKart SW Reviewes\")"
   ]
  },
  {
   "cell_type": "markdown",
   "metadata": {},
   "source": [
    "## Flipkart Professional Cameras"
   ]
  },
  {
   "cell_type": "code",
   "execution_count": 394,
   "metadata": {},
   "outputs": [],
   "source": [
    "# URL of the website \n",
    "url = \"https://www.flipkart.com/\""
   ]
  },
  {
   "cell_type": "code",
   "execution_count": 395,
   "metadata": {},
   "outputs": [],
   "source": [
    "driver.get(url)"
   ]
  },
  {
   "cell_type": "code",
   "execution_count": 396,
   "metadata": {},
   "outputs": [],
   "source": [
    "#cross_mark = driver.find_element_by_css_selector(\"body > div._2Sn47c > div > div > button\")"
   ]
  },
  {
   "cell_type": "code",
   "execution_count": 397,
   "metadata": {},
   "outputs": [],
   "source": [
    "# targeting the search text box\n",
    "search_query = driver.find_element_by_class_name(\"_3704LK\")"
   ]
  },
  {
   "cell_type": "code",
   "execution_count": 398,
   "metadata": {},
   "outputs": [],
   "source": [
    "# searching Laptops\n",
    "search_query.send_keys(\"Cameras\")"
   ]
  },
  {
   "cell_type": "code",
   "execution_count": 399,
   "metadata": {},
   "outputs": [],
   "source": [
    "search_btn = driver.find_element_by_css_selector(\"#container > div > div._1kfTjk > div._1rH5Jn > div._2Xfa2_ > div._1cmsER > form > div > button\")"
   ]
  },
  {
   "cell_type": "code",
   "execution_count": 400,
   "metadata": {},
   "outputs": [],
   "source": [
    "search_btn.click()"
   ]
  },
  {
   "cell_type": "code",
   "execution_count": 402,
   "metadata": {},
   "outputs": [],
   "source": [
    "# Collecting url's for first 3 pages\n",
    "urls = []\n",
    "\n",
    "base_url = \"https://www.flipkart.com/search?q=Cameras&otracker=search&otracker1=search&marketplace=FLIPKART&as-show=on&as=off&page={}\"\n",
    "\n",
    "for i in range(1,4):\n",
    "    \n",
    "    driver.get(base_url.format(i))\n",
    "    \n",
    "    for url in driver.find_elements_by_xpath(\"//a[@class='s1Q9rs']\"):\n",
    "        \n",
    "        urls.append(url.get_attribute(\"href\"))"
   ]
  },
  {
   "cell_type": "code",
   "execution_count": 407,
   "metadata": {},
   "outputs": [],
   "source": [
    "Reviewes = []\n",
    "\n",
    "for link in urls:\n",
    "    \n",
    "    \n",
    "    driver.get(link)\n",
    "    \n",
    "    \n",
    "    try:\n",
    "        \n",
    "        link_1 = driver.find_element_by_css_selector(\"#container > div > div._2c7YLP.UtUXW0._6t1WkM._3HqJxg > div._1YokD2._2GoDe3 > div._1YokD2._3Mn1Gg.col-8-12 > div._1YokD2._3Mn1Gg > div:nth-child(7) > div > a\")\n",
    "        \n",
    "        link_h = link_1.get_attribute(\"href\")\n",
    "        \n",
    "        driver.get(link_h)\n",
    "        \n",
    "        for i in driver.find_elements_by_xpath(\"//div[@class='col _2wzgFH K0kLPL']\"):\n",
    "            \n",
    "            \n",
    "            Reviewes.append(i.text)\n",
    "            \n",
    "    except NoSuchElementException:\n",
    "        \n",
    "        Reviewes.append(\"-\")"
   ]
  },
  {
   "cell_type": "code",
   "execution_count": 410,
   "metadata": {},
   "outputs": [],
   "source": [
    "df_cam = pd.DataFrame(Reviewes,columns=[\"Reviewes\"])"
   ]
  },
  {
   "cell_type": "code",
   "execution_count": 413,
   "metadata": {},
   "outputs": [],
   "source": [
    "df_cam[\"Ratings\"]=df_cam[\"Reviewes\"].str.split().str[0]"
   ]
  },
  {
   "cell_type": "code",
   "execution_count": 415,
   "metadata": {},
   "outputs": [
    {
     "data": {
      "text/plain": [
       "-    115\n",
       "5     38\n",
       "4     11\n",
       "3      1\n",
       "Name: Ratings, dtype: int64"
      ]
     },
     "execution_count": 415,
     "metadata": {},
     "output_type": "execute_result"
    }
   ],
   "source": [
    "df_cam[\"Ratings\"].value_counts()"
   ]
  },
  {
   "cell_type": "code",
   "execution_count": 416,
   "metadata": {},
   "outputs": [],
   "source": [
    "df_R1 = df_cam[df_cam[\"Ratings\"] == \"5\"]\n",
    "\n",
    "df_R2 = df_cam[df_cam[\"Ratings\"] == \"4\"]\n",
    "\n",
    "df_R3 = df_cam[df_cam[\"Ratings\"] == \"3\"]"
   ]
  },
  {
   "cell_type": "code",
   "execution_count": 417,
   "metadata": {},
   "outputs": [],
   "source": [
    "df_camera_FK = pd.concat([df_R1,df_R2,df_R3]) "
   ]
  },
  {
   "cell_type": "code",
   "execution_count": 418,
   "metadata": {},
   "outputs": [
    {
     "data": {
      "text/html": [
       "<div>\n",
       "<style scoped>\n",
       "    .dataframe tbody tr th:only-of-type {\n",
       "        vertical-align: middle;\n",
       "    }\n",
       "\n",
       "    .dataframe tbody tr th {\n",
       "        vertical-align: top;\n",
       "    }\n",
       "\n",
       "    .dataframe thead th {\n",
       "        text-align: right;\n",
       "    }\n",
       "</style>\n",
       "<table border=\"1\" class=\"dataframe\">\n",
       "  <thead>\n",
       "    <tr style=\"text-align: right;\">\n",
       "      <th></th>\n",
       "      <th>Reviewes</th>\n",
       "      <th>Ratings</th>\n",
       "    </tr>\n",
       "  </thead>\n",
       "  <tbody>\n",
       "    <tr>\n",
       "      <th>1</th>\n",
       "      <td>5\\nExcellent\\nproduct really great . I am tota...</td>\n",
       "      <td>5</td>\n",
       "    </tr>\n",
       "    <tr>\n",
       "      <th>3</th>\n",
       "      <td>5\\nJust wow!\\nWorth more than the amount. Best...</td>\n",
       "      <td>5</td>\n",
       "    </tr>\n",
       "    <tr>\n",
       "      <th>5</th>\n",
       "      <td>5\\nBest in the market!\\nproduct is very good a...</td>\n",
       "      <td>5</td>\n",
       "    </tr>\n",
       "    <tr>\n",
       "      <th>6</th>\n",
       "      <td>5\\nBrilliant\\nAwsm . I'm not a professional bu...</td>\n",
       "      <td>5</td>\n",
       "    </tr>\n",
       "    <tr>\n",
       "      <th>7</th>\n",
       "      <td>5\\nSuper!\\nVerry Nice and for My Opinion is gr...</td>\n",
       "      <td>5</td>\n",
       "    </tr>\n",
       "  </tbody>\n",
       "</table>\n",
       "</div>"
      ],
      "text/plain": [
       "                                            Reviewes Ratings\n",
       "1  5\\nExcellent\\nproduct really great . I am tota...       5\n",
       "3  5\\nJust wow!\\nWorth more than the amount. Best...       5\n",
       "5  5\\nBest in the market!\\nproduct is very good a...       5\n",
       "6  5\\nBrilliant\\nAwsm . I'm not a professional bu...       5\n",
       "7  5\\nSuper!\\nVerry Nice and for My Opinion is gr...       5"
      ]
     },
     "execution_count": 418,
     "metadata": {},
     "output_type": "execute_result"
    }
   ],
   "source": [
    "df_camera_FK.head()"
   ]
  },
  {
   "cell_type": "code",
   "execution_count": 419,
   "metadata": {},
   "outputs": [],
   "source": [
    "df_camera_FK.to_csv(\"Flipkart Camera Review\")"
   ]
  },
  {
   "cell_type": "markdown",
   "metadata": {},
   "source": [
    "## Flipkart Printers"
   ]
  },
  {
   "cell_type": "code",
   "execution_count": 420,
   "metadata": {},
   "outputs": [],
   "source": [
    "# URL of the website \n",
    "url = \"https://www.flipkart.com/\""
   ]
  },
  {
   "cell_type": "code",
   "execution_count": 421,
   "metadata": {},
   "outputs": [],
   "source": [
    "driver.get(url)"
   ]
  },
  {
   "cell_type": "code",
   "execution_count": 422,
   "metadata": {},
   "outputs": [],
   "source": [
    "# targeting the search text box\n",
    "search_query = driver.find_element_by_class_name(\"_3704LK\")\n"
   ]
  },
  {
   "cell_type": "code",
   "execution_count": 423,
   "metadata": {},
   "outputs": [],
   "source": [
    "# searching Laptops\n",
    "search_query.send_keys(\"Printers\")"
   ]
  },
  {
   "cell_type": "code",
   "execution_count": 424,
   "metadata": {},
   "outputs": [],
   "source": [
    "search_btn = driver.find_element_by_css_selector(\"#container > div > div._1kfTjk > div._1rH5Jn > div._2Xfa2_ > div._1cmsER > form > div > button\")\n"
   ]
  },
  {
   "cell_type": "code",
   "execution_count": 425,
   "metadata": {},
   "outputs": [],
   "source": [
    "search_btn.click()"
   ]
  },
  {
   "cell_type": "code",
   "execution_count": 427,
   "metadata": {},
   "outputs": [],
   "source": [
    "# Collecting url's for first 3 pages\n",
    "urls = []\n",
    "\n",
    "base_url = \"https://www.flipkart.com/search?q=Printers&otracker=search&otracker1=search&marketplace=FLIPKART&as-show=on&as=off&page={}\"\n",
    "\n",
    "for i in range(1,3):\n",
    "    \n",
    "    driver.get(base_url.format(i))\n",
    "    \n",
    "    for url in driver.find_elements_by_xpath(\"//a[@class='s1Q9rs']\"):\n",
    "        \n",
    "        urls.append(url.get_attribute(\"href\"))"
   ]
  },
  {
   "cell_type": "code",
   "execution_count": 429,
   "metadata": {},
   "outputs": [],
   "source": [
    "Reviewes = []\n",
    "\n",
    "for link in urls:\n",
    "    \n",
    "    \n",
    "    driver.get(link)\n",
    "    \n",
    "    \n",
    "    try:\n",
    "        \n",
    "        link_1 = driver.find_element_by_css_selector(\"#container > div > div._2c7YLP.UtUXW0._6t1WkM._3HqJxg > div._1YokD2._2GoDe3 > div._1YokD2._3Mn1Gg.col-8-12 > div._1YokD2._3Mn1Gg > div:nth-child(7) > div > a\")\n",
    "        \n",
    "        link_h = link_1.get_attribute(\"href\")\n",
    "        \n",
    "        driver.get(link_h)\n",
    "        \n",
    "        for i in driver.find_elements_by_xpath(\"//div[@class='col _2wzgFH K0kLPL']\"):\n",
    "            \n",
    "            \n",
    "            Reviewes.append(i.text)\n",
    "            \n",
    "    except NoSuchElementException:\n",
    "        \n",
    "        Reviewes.append(\"-\")"
   ]
  },
  {
   "cell_type": "code",
   "execution_count": 432,
   "metadata": {},
   "outputs": [],
   "source": [
    "df_printers = pd.DataFrame(Reviewes,columns=[\"Reviewes\"])"
   ]
  },
  {
   "cell_type": "code",
   "execution_count": 434,
   "metadata": {},
   "outputs": [],
   "source": [
    "df_printers[\"Ratings\"] = df_printers[\"Reviewes\"].str.split().str[0]"
   ]
  },
  {
   "cell_type": "code",
   "execution_count": 435,
   "metadata": {},
   "outputs": [
    {
     "data": {
      "text/html": [
       "<div>\n",
       "<style scoped>\n",
       "    .dataframe tbody tr th:only-of-type {\n",
       "        vertical-align: middle;\n",
       "    }\n",
       "\n",
       "    .dataframe tbody tr th {\n",
       "        vertical-align: top;\n",
       "    }\n",
       "\n",
       "    .dataframe thead th {\n",
       "        text-align: right;\n",
       "    }\n",
       "</style>\n",
       "<table border=\"1\" class=\"dataframe\">\n",
       "  <thead>\n",
       "    <tr style=\"text-align: right;\">\n",
       "      <th></th>\n",
       "      <th>Reviewes</th>\n",
       "      <th>Ratings</th>\n",
       "    </tr>\n",
       "  </thead>\n",
       "  <tbody>\n",
       "    <tr>\n",
       "      <th>0</th>\n",
       "      <td>-</td>\n",
       "      <td>-</td>\n",
       "    </tr>\n",
       "    <tr>\n",
       "      <th>1</th>\n",
       "      <td>-</td>\n",
       "      <td>-</td>\n",
       "    </tr>\n",
       "    <tr>\n",
       "      <th>2</th>\n",
       "      <td>-</td>\n",
       "      <td>-</td>\n",
       "    </tr>\n",
       "    <tr>\n",
       "      <th>3</th>\n",
       "      <td>4\\nPretty good\\nPlease Don't Install It On You...</td>\n",
       "      <td>4</td>\n",
       "    </tr>\n",
       "    <tr>\n",
       "      <th>4</th>\n",
       "      <td>5\\nMind-blowing purchase\\nExcellent delivery, ...</td>\n",
       "      <td>5</td>\n",
       "    </tr>\n",
       "  </tbody>\n",
       "</table>\n",
       "</div>"
      ],
      "text/plain": [
       "                                            Reviewes Ratings\n",
       "0                                                  -       -\n",
       "1                                                  -       -\n",
       "2                                                  -       -\n",
       "3  4\\nPretty good\\nPlease Don't Install It On You...       4\n",
       "4  5\\nMind-blowing purchase\\nExcellent delivery, ...       5"
      ]
     },
     "execution_count": 435,
     "metadata": {},
     "output_type": "execute_result"
    }
   ],
   "source": [
    "df_printers.head()"
   ]
  },
  {
   "cell_type": "code",
   "execution_count": 437,
   "metadata": {},
   "outputs": [],
   "source": [
    "df_R1 = df_printers[df_printers[\"Ratings\"] == \"5\"]\n",
    "\n",
    "df_R1 = df_R1[:90]\n",
    "\n",
    "df_R2 = df_printers[df_printers[\"Ratings\"] == \"4\"]\n",
    "\n",
    "df_R3 = df_printers[df_printers[\"Ratings\"] == \"3\"]\n",
    "\n",
    "df_R4 = df_printers[df_printers[\"Ratings\"] == \"2\"]\n",
    "\n",
    "df_R5 = df_printers[df_printers[\"Ratings\"] == \"1\"]"
   ]
  },
  {
   "cell_type": "code",
   "execution_count": 444,
   "metadata": {},
   "outputs": [],
   "source": [
    "df_printers_FK = pd.concat([df_R1,df_R2,df_R3,df_R4,df_R5]) "
   ]
  },
  {
   "cell_type": "code",
   "execution_count": 446,
   "metadata": {},
   "outputs": [],
   "source": [
    "df_printers_FK.to_csv(\"Flipkart Printer Reviewes\")"
   ]
  },
  {
   "cell_type": "markdown",
   "metadata": {},
   "source": [
    "## Flipkart Monitors"
   ]
  },
  {
   "cell_type": "code",
   "execution_count": 452,
   "metadata": {},
   "outputs": [],
   "source": [
    "# URL of the website \n",
    "url = \"https://www.flipkart.com/\""
   ]
  },
  {
   "cell_type": "code",
   "execution_count": 453,
   "metadata": {},
   "outputs": [],
   "source": [
    "driver.get(url)"
   ]
  },
  {
   "cell_type": "code",
   "execution_count": 454,
   "metadata": {},
   "outputs": [],
   "source": [
    "# targeting the search text box\n",
    "search_query = driver.find_element_by_class_name(\"_3704LK\")"
   ]
  },
  {
   "cell_type": "code",
   "execution_count": 455,
   "metadata": {},
   "outputs": [],
   "source": [
    "# searching Laptops\n",
    "search_query.send_keys(\"Monitors\")"
   ]
  },
  {
   "cell_type": "code",
   "execution_count": 456,
   "metadata": {},
   "outputs": [],
   "source": [
    "search_btn = driver.find_element_by_css_selector(\"#container > div > div._1kfTjk > div._1rH5Jn > div._2Xfa2_ > div._1cmsER > form > div > button\")\n",
    "\n",
    "search_btn.click()"
   ]
  },
  {
   "cell_type": "code",
   "execution_count": 457,
   "metadata": {},
   "outputs": [],
   "source": [
    "# Collecting url's for first 3 pages\n",
    "urls = []\n",
    "\n",
    "base_url = \"https://www.flipkart.com/search?q=Monitors&otracker=search&otracker1=search&marketplace=FLIPKART&as-show=on&as=off&page={}\"\n",
    "\n",
    "for i in range(1,3):\n",
    "    \n",
    "    driver.get(base_url.format(i))\n",
    "    \n",
    "    for url in driver.find_elements_by_xpath(\"//a[@class='_1fQZEK']\"):\n",
    "        \n",
    "        urls.append(url.get_attribute(\"href\"))"
   ]
  },
  {
   "cell_type": "code",
   "execution_count": 463,
   "metadata": {},
   "outputs": [],
   "source": [
    "Reviewes = []\n",
    "\n",
    "for link in urls:\n",
    "    \n",
    "    \n",
    "    driver.get(link)\n",
    "    \n",
    "    \n",
    "    try:\n",
    "        \n",
    "        link_1 = driver.find_element_by_css_selector(\"#container > div > div._2c7YLP.UtUXW0._6t1WkM._3HqJxg > div._1YokD2._2GoDe3 > div._1YokD2._3Mn1Gg.col-8-12 > div._1YokD2._3Mn1Gg > div:nth-child(5) > div > a\")\n",
    "        \n",
    "        link_h = link_1.get_attribute(\"href\")\n",
    "        \n",
    "        driver.get(link_h)\n",
    "        \n",
    "        for i in driver.find_elements_by_xpath(\"//div[@class='col _2wzgFH K0kLPL']\"):\n",
    "            \n",
    "            \n",
    "            Reviewes.append(i.text)\n",
    "            \n",
    "    except NoSuchElementException:\n",
    "        \n",
    "        Reviewes.append(\"-\")"
   ]
  },
  {
   "cell_type": "code",
   "execution_count": 467,
   "metadata": {},
   "outputs": [],
   "source": [
    "df_mon = pd.DataFrame(Reviewes,columns=[\"Reviewes\"])"
   ]
  },
  {
   "cell_type": "code",
   "execution_count": 469,
   "metadata": {},
   "outputs": [],
   "source": [
    "df_mon[\"Ratings\"] = df_mon[\"Reviewes\"].str.split().str[0]"
   ]
  },
  {
   "cell_type": "code",
   "execution_count": 472,
   "metadata": {},
   "outputs": [],
   "source": [
    "df_R1 = df_mon[df_mon[\"Ratings\"] == \"5\"]\n",
    "\n",
    "df_R1 = df_R1[:90]\n",
    "\n",
    "df_R2 = df_mon[df_mon[\"Ratings\"] == \"4\"]\n",
    "\n",
    "df_R3 = df_mon[df_mon[\"Ratings\"] == \"3\"]\n",
    "\n",
    "df_R4 = df_mon[df_mon[\"Ratings\"] == \"2\"]\n",
    "\n",
    "df_R5 = df_mon[df_mon[\"Ratings\"] == \"1\"]"
   ]
  },
  {
   "cell_type": "code",
   "execution_count": 474,
   "metadata": {},
   "outputs": [],
   "source": [
    "df_moniters_FK = pd.concat([df_R1,df_R2,df_R3,df_R4,df_R5]) "
   ]
  },
  {
   "cell_type": "code",
   "execution_count": 475,
   "metadata": {},
   "outputs": [],
   "source": [
    "df_moniters_FK.to_csv(\"Flipkart Monitor Reviewes\")"
   ]
  },
  {
   "cell_type": "markdown",
   "metadata": {},
   "source": [
    "## FLipkart Home theater"
   ]
  },
  {
   "cell_type": "code",
   "execution_count": 476,
   "metadata": {},
   "outputs": [],
   "source": [
    "# URL of the website \n",
    "url = \"https://www.flipkart.com/\""
   ]
  },
  {
   "cell_type": "code",
   "execution_count": 477,
   "metadata": {},
   "outputs": [],
   "source": [
    "driver.get(url)"
   ]
  },
  {
   "cell_type": "code",
   "execution_count": 478,
   "metadata": {},
   "outputs": [],
   "source": [
    "# targeting the search text box\n",
    "search_query = driver.find_element_by_class_name(\"_3704LK\")"
   ]
  },
  {
   "cell_type": "code",
   "execution_count": 479,
   "metadata": {},
   "outputs": [],
   "source": [
    "# searching Laptops\n",
    "search_query.send_keys(\"Home theater\")"
   ]
  },
  {
   "cell_type": "code",
   "execution_count": 480,
   "metadata": {},
   "outputs": [],
   "source": [
    "search_btn = driver.find_element_by_css_selector(\"#container > div > div._1kfTjk > div._1rH5Jn > div._2Xfa2_ > div._1cmsER > form > div > button\")\n",
    "\n",
    "search_btn.click()"
   ]
  },
  {
   "cell_type": "code",
   "execution_count": 481,
   "metadata": {},
   "outputs": [],
   "source": [
    "# Collecting url's for first 3 pages\n",
    "urls = []\n",
    "\n",
    "base_url = \"https://www.flipkart.com/search?q=Home+theater&otracker=search&otracker1=search&marketplace=FLIPKART&as-show=on&as=off&page={}\"\n",
    "\n",
    "for i in range(1,3):\n",
    "    \n",
    "    driver.get(base_url.format(i))\n",
    "    \n",
    "    for url in driver.find_elements_by_xpath(\"//a[@class='_2rpwqI']\"):\n",
    "        \n",
    "        urls.append(url.get_attribute(\"href\"))"
   ]
  },
  {
   "cell_type": "code",
   "execution_count": 484,
   "metadata": {},
   "outputs": [],
   "source": [
    "Reviewes = []\n",
    "\n",
    "for link in urls:\n",
    "    \n",
    "    \n",
    "    driver.get(link)\n",
    "    \n",
    "    \n",
    "    try:\n",
    "        \n",
    "        link_1 = driver.find_element_by_css_selector(\"#container > div > div._2c7YLP.UtUXW0._6t1WkM._3HqJxg > div._1YokD2._2GoDe3 > div._1YokD2._3Mn1Gg.col-8-12 > div._1YokD2._3Mn1Gg > div:nth-child(5) > div > a\")\n",
    "        \n",
    "        link_h = link_1.get_attribute(\"href\")\n",
    "        \n",
    "        driver.get(link_h)\n",
    "        \n",
    "        for i in driver.find_elements_by_xpath(\"//div[@class='col _2wzgFH K0kLPL']\"):\n",
    "            \n",
    "            \n",
    "            Reviewes.append(i.text)\n",
    "            \n",
    "    except NoSuchElementException:\n",
    "        \n",
    "        Reviewes.append(\"-\")"
   ]
  },
  {
   "cell_type": "code",
   "execution_count": 490,
   "metadata": {},
   "outputs": [],
   "source": [
    "df_ht = pd.DataFrame(Reviewes,columns=[\"Reviewes\"])"
   ]
  },
  {
   "cell_type": "code",
   "execution_count": 495,
   "metadata": {},
   "outputs": [],
   "source": [
    "df_ht[\"Ratings\"] = df_ht[\"Reviewes\"].str.split().str[0]"
   ]
  },
  {
   "cell_type": "code",
   "execution_count": 496,
   "metadata": {},
   "outputs": [
    {
     "data": {
      "text/html": [
       "<div>\n",
       "<style scoped>\n",
       "    .dataframe tbody tr th:only-of-type {\n",
       "        vertical-align: middle;\n",
       "    }\n",
       "\n",
       "    .dataframe tbody tr th {\n",
       "        vertical-align: top;\n",
       "    }\n",
       "\n",
       "    .dataframe thead th {\n",
       "        text-align: right;\n",
       "    }\n",
       "</style>\n",
       "<table border=\"1\" class=\"dataframe\">\n",
       "  <thead>\n",
       "    <tr style=\"text-align: right;\">\n",
       "      <th></th>\n",
       "      <th>Reviewes</th>\n",
       "      <th>Ratings</th>\n",
       "    </tr>\n",
       "  </thead>\n",
       "  <tbody>\n",
       "    <tr>\n",
       "      <th>0</th>\n",
       "      <td>5\\nSuper!\\nNice\\nFlipkart Customer\\nCertified ...</td>\n",
       "      <td>5</td>\n",
       "    </tr>\n",
       "    <tr>\n",
       "      <th>1</th>\n",
       "      <td>5\\nSimply awesome\\nsuper product\\nSaravana Kum...</td>\n",
       "      <td>5</td>\n",
       "    </tr>\n",
       "    <tr>\n",
       "      <th>2</th>\n",
       "      <td>5\\nHighly recommended\\nGood product\\nFlipkart ...</td>\n",
       "      <td>5</td>\n",
       "    </tr>\n",
       "    <tr>\n",
       "      <th>3</th>\n",
       "      <td>3\\nNice\\nNice\\nNaresh Javaji\\nCertified Buyer,...</td>\n",
       "      <td>3</td>\n",
       "    </tr>\n",
       "    <tr>\n",
       "      <th>4</th>\n",
       "      <td>5\\nClassy product\\nvery good sound and design\\...</td>\n",
       "      <td>5</td>\n",
       "    </tr>\n",
       "  </tbody>\n",
       "</table>\n",
       "</div>"
      ],
      "text/plain": [
       "                                            Reviewes Ratings\n",
       "0  5\\nSuper!\\nNice\\nFlipkart Customer\\nCertified ...       5\n",
       "1  5\\nSimply awesome\\nsuper product\\nSaravana Kum...       5\n",
       "2  5\\nHighly recommended\\nGood product\\nFlipkart ...       5\n",
       "3  3\\nNice\\nNice\\nNaresh Javaji\\nCertified Buyer,...       3\n",
       "4  5\\nClassy product\\nvery good sound and design\\...       5"
      ]
     },
     "execution_count": 496,
     "metadata": {},
     "output_type": "execute_result"
    }
   ],
   "source": [
    "df_ht.head()"
   ]
  },
  {
   "cell_type": "code",
   "execution_count": 498,
   "metadata": {},
   "outputs": [],
   "source": [
    "df_R1 = df_ht[df_ht[\"Ratings\"] == \"5\"]\n",
    "\n",
    "df_R1 = df_R1[:90]\n",
    "\n",
    "df_R2 = df_ht[df_ht[\"Ratings\"] == \"4\"]\n",
    "\n",
    "df_R3 = df_ht[df_ht[\"Ratings\"] == \"3\"]\n",
    "\n",
    "df_R4 = df_ht[df_ht[\"Ratings\"] == \"2\"]\n",
    "\n",
    "df_R5 = df_ht[df_ht[\"Ratings\"] == \"1\"]"
   ]
  },
  {
   "cell_type": "code",
   "execution_count": 500,
   "metadata": {},
   "outputs": [],
   "source": [
    "df_HomeThe_FK = pd.concat([df_R1,df_R2,df_R3,df_R4,df_R5]) "
   ]
  },
  {
   "cell_type": "code",
   "execution_count": 501,
   "metadata": {},
   "outputs": [],
   "source": [
    "df_HomeThe_FK.to_csv(\"Flipkart Home Reviewes\")"
   ]
  },
  {
   "cell_type": "markdown",
   "metadata": {},
   "source": [
    "### Flipkart Routers"
   ]
  },
  {
   "cell_type": "code",
   "execution_count": 5,
   "metadata": {},
   "outputs": [],
   "source": [
    "# URL of the website \n",
    "url = \"https://www.flipkart.com/\""
   ]
  },
  {
   "cell_type": "code",
   "execution_count": 6,
   "metadata": {},
   "outputs": [],
   "source": [
    "driver.get(url)"
   ]
  },
  {
   "cell_type": "code",
   "execution_count": 7,
   "metadata": {},
   "outputs": [],
   "source": [
    "# targeting the search text box\n",
    "search_query = driver.find_element_by_class_name(\"_3704LK\")"
   ]
  },
  {
   "cell_type": "code",
   "execution_count": 8,
   "metadata": {},
   "outputs": [],
   "source": [
    "# searching Laptops\n",
    "search_query.send_keys(\"Routers\")"
   ]
  },
  {
   "cell_type": "code",
   "execution_count": 9,
   "metadata": {},
   "outputs": [],
   "source": [
    "search_btn = driver.find_element_by_css_selector(\"#container > div > div._1kfTjk > div._1rH5Jn > div._2Xfa2_ > div._1cmsER > form > div > button\")\n",
    "\n",
    "search_btn.click()"
   ]
  },
  {
   "cell_type": "code",
   "execution_count": 10,
   "metadata": {},
   "outputs": [],
   "source": [
    "# Collecting url's for first 3 pages\n",
    "urls = []\n",
    "\n",
    "base_url = \"https://www.flipkart.com/search?q=Routers&otracker=search&otracker1=search&marketplace=FLIPKART&as-show=on&as=off&page={}\"\n",
    "\n",
    "for i in range(1,3):\n",
    "    \n",
    "    driver.get(base_url.format(i))\n",
    "    \n",
    "    for url in driver.find_elements_by_xpath(\"//a[@class='s1Q9rs']\"):\n",
    "        \n",
    "        urls.append(url.get_attribute(\"href\"))"
   ]
  },
  {
   "cell_type": "code",
   "execution_count": 12,
   "metadata": {},
   "outputs": [
    {
     "data": {
      "text/plain": [
       "80"
      ]
     },
     "execution_count": 12,
     "metadata": {},
     "output_type": "execute_result"
    }
   ],
   "source": [
    "len(urls)"
   ]
  },
  {
   "cell_type": "code",
   "execution_count": 13,
   "metadata": {},
   "outputs": [],
   "source": [
    "Reviewes = []\n",
    "\n",
    "for link in urls:\n",
    "    \n",
    "    \n",
    "    driver.get(link)\n",
    "    \n",
    "    \n",
    "    try:\n",
    "        \n",
    "        link_1 = driver.find_element_by_css_selector(\"#container > div > div._2c7YLP.UtUXW0._6t1WkM._3HqJxg > div._1YokD2._2GoDe3 > div._1YokD2._3Mn1Gg.col-8-12 > div._1YokD2._3Mn1Gg > div:nth-child(5) > div > a\")\n",
    "        \n",
    "        link_h = link_1.get_attribute(\"href\")\n",
    "        \n",
    "        driver.get(link_h)\n",
    "        \n",
    "        for i in driver.find_elements_by_xpath(\"//div[@class='col _2wzgFH K0kLPL']\"):\n",
    "            \n",
    "            \n",
    "            Reviewes.append(i.text)\n",
    "            \n",
    "    except NoSuchElementException:\n",
    "        \n",
    "        Reviewes.append(\"-\")"
   ]
  },
  {
   "cell_type": "code",
   "execution_count": 16,
   "metadata": {},
   "outputs": [],
   "source": [
    "df_router = pd.DataFrame(Reviewes,columns=[\"Reviewes\"])"
   ]
  },
  {
   "cell_type": "code",
   "execution_count": 20,
   "metadata": {},
   "outputs": [
    {
     "data": {
      "text/html": [
       "<div>\n",
       "<style scoped>\n",
       "    .dataframe tbody tr th:only-of-type {\n",
       "        vertical-align: middle;\n",
       "    }\n",
       "\n",
       "    .dataframe tbody tr th {\n",
       "        vertical-align: top;\n",
       "    }\n",
       "\n",
       "    .dataframe thead th {\n",
       "        text-align: right;\n",
       "    }\n",
       "</style>\n",
       "<table border=\"1\" class=\"dataframe\">\n",
       "  <thead>\n",
       "    <tr style=\"text-align: right;\">\n",
       "      <th></th>\n",
       "      <th>Reviewes</th>\n",
       "      <th>Ratings</th>\n",
       "    </tr>\n",
       "  </thead>\n",
       "  <tbody>\n",
       "    <tr>\n",
       "      <th>0</th>\n",
       "      <td>-</td>\n",
       "      <td>-</td>\n",
       "    </tr>\n",
       "    <tr>\n",
       "      <th>1</th>\n",
       "      <td>-</td>\n",
       "      <td>-</td>\n",
       "    </tr>\n",
       "    <tr>\n",
       "      <th>2</th>\n",
       "      <td>-</td>\n",
       "      <td>-</td>\n",
       "    </tr>\n",
       "    <tr>\n",
       "      <th>3</th>\n",
       "      <td>4\\nGood quality product\\nThis router it seems ...</td>\n",
       "      <td>4</td>\n",
       "    </tr>\n",
       "    <tr>\n",
       "      <th>4</th>\n",
       "      <td>5\\nAwesome\\nWonderful experience so far.This p...</td>\n",
       "      <td>5</td>\n",
       "    </tr>\n",
       "  </tbody>\n",
       "</table>\n",
       "</div>"
      ],
      "text/plain": [
       "                                            Reviewes Ratings\n",
       "0                                                  -       -\n",
       "1                                                  -       -\n",
       "2                                                  -       -\n",
       "3  4\\nGood quality product\\nThis router it seems ...       4\n",
       "4  5\\nAwesome\\nWonderful experience so far.This p...       5"
      ]
     },
     "execution_count": 20,
     "metadata": {},
     "output_type": "execute_result"
    }
   ],
   "source": [
    "df_router.head()"
   ]
  },
  {
   "cell_type": "code",
   "execution_count": 22,
   "metadata": {},
   "outputs": [],
   "source": [
    "df_R1 = df_router[df_router[\"Ratings\"] == \"5\"]\n",
    "\n",
    "df_R2 = df_router[df_router[\"Ratings\"] == \"4\"]\n",
    "\n",
    "df_R3 = df_router[df_router[\"Ratings\"] == \"3\"]\n",
    "\n",
    "df_R4 = df_router[df_router[\"Ratings\"] == \"2\"]\n",
    "\n",
    "df_R5 = df_router[df_router[\"Ratings\"] == \"1\"]"
   ]
  },
  {
   "cell_type": "code",
   "execution_count": 23,
   "metadata": {},
   "outputs": [],
   "source": [
    "df_Routers_FK = pd.concat([df_R1,df_R2,df_R3,df_R4,df_R5]) "
   ]
  },
  {
   "cell_type": "code",
   "execution_count": 24,
   "metadata": {},
   "outputs": [
    {
     "data": {
      "text/html": [
       "<div>\n",
       "<style scoped>\n",
       "    .dataframe tbody tr th:only-of-type {\n",
       "        vertical-align: middle;\n",
       "    }\n",
       "\n",
       "    .dataframe tbody tr th {\n",
       "        vertical-align: top;\n",
       "    }\n",
       "\n",
       "    .dataframe thead th {\n",
       "        text-align: right;\n",
       "    }\n",
       "</style>\n",
       "<table border=\"1\" class=\"dataframe\">\n",
       "  <thead>\n",
       "    <tr style=\"text-align: right;\">\n",
       "      <th></th>\n",
       "      <th>Reviewes</th>\n",
       "      <th>Ratings</th>\n",
       "    </tr>\n",
       "  </thead>\n",
       "  <tbody>\n",
       "    <tr>\n",
       "      <th>4</th>\n",
       "      <td>5\\nAwesome\\nWonderful experience so far.This p...</td>\n",
       "      <td>5</td>\n",
       "    </tr>\n",
       "    <tr>\n",
       "      <th>5</th>\n",
       "      <td>5\\nAwesome\\nI am a streamer as well as a gamer...</td>\n",
       "      <td>5</td>\n",
       "    </tr>\n",
       "    <tr>\n",
       "      <th>7</th>\n",
       "      <td>5\\nJust wow!\\nExcellent router. Using it for a...</td>\n",
       "      <td>5</td>\n",
       "    </tr>\n",
       "    <tr>\n",
       "      <th>8</th>\n",
       "      <td>5\\nGo for it !!\\nWorks great. The ranges of bo...</td>\n",
       "      <td>5</td>\n",
       "    </tr>\n",
       "    <tr>\n",
       "      <th>9</th>\n",
       "      <td>5\\nMust buy!\\nReally good product, very nice r...</td>\n",
       "      <td>5</td>\n",
       "    </tr>\n",
       "  </tbody>\n",
       "</table>\n",
       "</div>"
      ],
      "text/plain": [
       "                                            Reviewes Ratings\n",
       "4  5\\nAwesome\\nWonderful experience so far.This p...       5\n",
       "5  5\\nAwesome\\nI am a streamer as well as a gamer...       5\n",
       "7  5\\nJust wow!\\nExcellent router. Using it for a...       5\n",
       "8  5\\nGo for it !!\\nWorks great. The ranges of bo...       5\n",
       "9  5\\nMust buy!\\nReally good product, very nice r...       5"
      ]
     },
     "execution_count": 24,
     "metadata": {},
     "output_type": "execute_result"
    }
   ],
   "source": [
    "df_Routers_FK.head()"
   ]
  },
  {
   "cell_type": "code",
   "execution_count": 26,
   "metadata": {},
   "outputs": [],
   "source": [
    "df_Routers_FK.to_csv(\"Flipkart Router Reviewes\")"
   ]
  },
  {
   "cell_type": "code",
   "execution_count": 27,
   "metadata": {},
   "outputs": [],
   "source": [
    "df1 = pd.read_csv(\"Flipkart_Laptops\")\n",
    "df2 = pd.read_csv(\"Flipkart Phones Reviewes\")\n",
    "df3 = pd.read_csv(\"Flipkart Headphones Reviewes\")\n",
    "df4 = pd.read_csv(\"FlipKart SW Reviewes\")\n",
    "df5 = pd.read_csv(\"Flipkart Camera Review\")\n",
    "df6 = pd.read_csv(\"Flipkart Printer Reviewes\")\n",
    "df7 = pd.read_csv(\"Flipkart Monitor Reviewes\")\n",
    "df8 = pd.read_csv(\"Flipkart Home Reviewes\")\n",
    "df9 = pd.read_csv(\"Flipkart Router Reviewes\")"
   ]
  },
  {
   "cell_type": "code",
   "execution_count": 28,
   "metadata": {},
   "outputs": [],
   "source": [
    "df_FK_final = pd.concat([df1,df2,df3,df4,df5,df6,df7,df8,df9])"
   ]
  },
  {
   "cell_type": "code",
   "execution_count": 29,
   "metadata": {},
   "outputs": [
    {
     "data": {
      "text/html": [
       "<div>\n",
       "<style scoped>\n",
       "    .dataframe tbody tr th:only-of-type {\n",
       "        vertical-align: middle;\n",
       "    }\n",
       "\n",
       "    .dataframe tbody tr th {\n",
       "        vertical-align: top;\n",
       "    }\n",
       "\n",
       "    .dataframe thead th {\n",
       "        text-align: right;\n",
       "    }\n",
       "</style>\n",
       "<table border=\"1\" class=\"dataframe\">\n",
       "  <thead>\n",
       "    <tr style=\"text-align: right;\">\n",
       "      <th></th>\n",
       "      <th>Unnamed: 0</th>\n",
       "      <th>Reviewes</th>\n",
       "      <th>Ratings</th>\n",
       "    </tr>\n",
       "  </thead>\n",
       "  <tbody>\n",
       "    <tr>\n",
       "      <th>0</th>\n",
       "      <td>36</td>\n",
       "      <td>1\\nUseless product\\nDelivery was good, but the...</td>\n",
       "      <td>1</td>\n",
       "    </tr>\n",
       "    <tr>\n",
       "      <th>1</th>\n",
       "      <td>37</td>\n",
       "      <td>1\\nUnsatisfactory\\nIt's keyboard start creatin...</td>\n",
       "      <td>1</td>\n",
       "    </tr>\n",
       "    <tr>\n",
       "      <th>2</th>\n",
       "      <td>56</td>\n",
       "      <td>1\\nWorthless\\nFirst i thought it would reach m...</td>\n",
       "      <td>1</td>\n",
       "    </tr>\n",
       "    <tr>\n",
       "      <th>3</th>\n",
       "      <td>105</td>\n",
       "      <td>1\\nUseless product\\nDelivery was good, but the...</td>\n",
       "      <td>1</td>\n",
       "    </tr>\n",
       "    <tr>\n",
       "      <th>4</th>\n",
       "      <td>106</td>\n",
       "      <td>1\\nUnsatisfactory\\nIt's keyboard start creatin...</td>\n",
       "      <td>1</td>\n",
       "    </tr>\n",
       "  </tbody>\n",
       "</table>\n",
       "</div>"
      ],
      "text/plain": [
       "   Unnamed: 0                                           Reviewes  Ratings\n",
       "0          36  1\\nUseless product\\nDelivery was good, but the...        1\n",
       "1          37  1\\nUnsatisfactory\\nIt's keyboard start creatin...        1\n",
       "2          56  1\\nWorthless\\nFirst i thought it would reach m...        1\n",
       "3         105  1\\nUseless product\\nDelivery was good, but the...        1\n",
       "4         106  1\\nUnsatisfactory\\nIt's keyboard start creatin...        1"
      ]
     },
     "execution_count": 29,
     "metadata": {},
     "output_type": "execute_result"
    }
   ],
   "source": [
    "df_FK_final.head()"
   ]
  },
  {
   "cell_type": "code",
   "execution_count": 30,
   "metadata": {},
   "outputs": [],
   "source": [
    "df_FK_final = df_FK_final.drop(\"Unnamed: 0\",axis=1)"
   ]
  },
  {
   "cell_type": "code",
   "execution_count": 33,
   "metadata": {},
   "outputs": [
    {
     "data": {
      "text/html": [
       "<div>\n",
       "<style scoped>\n",
       "    .dataframe tbody tr th:only-of-type {\n",
       "        vertical-align: middle;\n",
       "    }\n",
       "\n",
       "    .dataframe tbody tr th {\n",
       "        vertical-align: top;\n",
       "    }\n",
       "\n",
       "    .dataframe thead th {\n",
       "        text-align: right;\n",
       "    }\n",
       "</style>\n",
       "<table border=\"1\" class=\"dataframe\">\n",
       "  <thead>\n",
       "    <tr style=\"text-align: right;\">\n",
       "      <th></th>\n",
       "      <th>Reviewes</th>\n",
       "      <th>Ratings</th>\n",
       "    </tr>\n",
       "  </thead>\n",
       "  <tbody>\n",
       "    <tr>\n",
       "      <th>0</th>\n",
       "      <td>1\\nUseless product\\nDelivery was good, but the...</td>\n",
       "      <td>1</td>\n",
       "    </tr>\n",
       "    <tr>\n",
       "      <th>1</th>\n",
       "      <td>1\\nUnsatisfactory\\nIt's keyboard start creatin...</td>\n",
       "      <td>1</td>\n",
       "    </tr>\n",
       "    <tr>\n",
       "      <th>2</th>\n",
       "      <td>1\\nWorthless\\nFirst i thought it would reach m...</td>\n",
       "      <td>1</td>\n",
       "    </tr>\n",
       "    <tr>\n",
       "      <th>3</th>\n",
       "      <td>1\\nUseless product\\nDelivery was good, but the...</td>\n",
       "      <td>1</td>\n",
       "    </tr>\n",
       "    <tr>\n",
       "      <th>4</th>\n",
       "      <td>1\\nUnsatisfactory\\nIt's keyboard start creatin...</td>\n",
       "      <td>1</td>\n",
       "    </tr>\n",
       "  </tbody>\n",
       "</table>\n",
       "</div>"
      ],
      "text/plain": [
       "                                            Reviewes  Ratings\n",
       "0  1\\nUseless product\\nDelivery was good, but the...        1\n",
       "1  1\\nUnsatisfactory\\nIt's keyboard start creatin...        1\n",
       "2  1\\nWorthless\\nFirst i thought it would reach m...        1\n",
       "3  1\\nUseless product\\nDelivery was good, but the...        1\n",
       "4  1\\nUnsatisfactory\\nIt's keyboard start creatin...        1"
      ]
     },
     "execution_count": 33,
     "metadata": {},
     "output_type": "execute_result"
    }
   ],
   "source": [
    "df_FK_final.head()"
   ]
  },
  {
   "cell_type": "code",
   "execution_count": 34,
   "metadata": {},
   "outputs": [],
   "source": [
    "df_Flipkart_reviewes = df_FK_final.sample(frac=1).reset_index(drop=True)"
   ]
  },
  {
   "cell_type": "code",
   "execution_count": 35,
   "metadata": {},
   "outputs": [
    {
     "data": {
      "text/html": [
       "<div>\n",
       "<style scoped>\n",
       "    .dataframe tbody tr th:only-of-type {\n",
       "        vertical-align: middle;\n",
       "    }\n",
       "\n",
       "    .dataframe tbody tr th {\n",
       "        vertical-align: top;\n",
       "    }\n",
       "\n",
       "    .dataframe thead th {\n",
       "        text-align: right;\n",
       "    }\n",
       "</style>\n",
       "<table border=\"1\" class=\"dataframe\">\n",
       "  <thead>\n",
       "    <tr style=\"text-align: right;\">\n",
       "      <th></th>\n",
       "      <th>Reviewes</th>\n",
       "      <th>Ratings</th>\n",
       "    </tr>\n",
       "  </thead>\n",
       "  <tbody>\n",
       "    <tr>\n",
       "      <th>0</th>\n",
       "      <td>4\\nWonderful\\nBought it for 799 from flipkart....</td>\n",
       "      <td>4</td>\n",
       "    </tr>\n",
       "    <tr>\n",
       "      <th>1</th>\n",
       "      <td>4\\nGood quality product\\nA good camera for pho...</td>\n",
       "      <td>4</td>\n",
       "    </tr>\n",
       "    <tr>\n",
       "      <th>2</th>\n",
       "      <td>4\\nVery Good\\nIt was a Xmas gift for my fiance...</td>\n",
       "      <td>4</td>\n",
       "    </tr>\n",
       "    <tr>\n",
       "      <th>3</th>\n",
       "      <td>3\\nGood\\nInk cartridge provided with it could ...</td>\n",
       "      <td>3</td>\n",
       "    </tr>\n",
       "    <tr>\n",
       "      <th>4</th>\n",
       "      <td>5\\nSimply awesome\\nThis product is excellent s...</td>\n",
       "      <td>5</td>\n",
       "    </tr>\n",
       "  </tbody>\n",
       "</table>\n",
       "</div>"
      ],
      "text/plain": [
       "                                            Reviewes  Ratings\n",
       "0  4\\nWonderful\\nBought it for 799 from flipkart....        4\n",
       "1  4\\nGood quality product\\nA good camera for pho...        4\n",
       "2  4\\nVery Good\\nIt was a Xmas gift for my fiance...        4\n",
       "3  3\\nGood\\nInk cartridge provided with it could ...        3\n",
       "4  5\\nSimply awesome\\nThis product is excellent s...        5"
      ]
     },
     "execution_count": 35,
     "metadata": {},
     "output_type": "execute_result"
    }
   ],
   "source": [
    "df_Flipkart_reviewes.head()"
   ]
  },
  {
   "cell_type": "code",
   "execution_count": 36,
   "metadata": {},
   "outputs": [
    {
     "data": {
      "text/plain": [
       "5    726\n",
       "4    454\n",
       "3    100\n",
       "1     97\n",
       "2     51\n",
       "Name: Ratings, dtype: int64"
      ]
     },
     "execution_count": 36,
     "metadata": {},
     "output_type": "execute_result"
    }
   ],
   "source": [
    "df_Flipkart_reviewes[\"Ratings\"].value_counts()"
   ]
  },
  {
   "cell_type": "code",
   "execution_count": 37,
   "metadata": {},
   "outputs": [],
   "source": [
    "df_Flipkart_reviewes.to_csv(\"Final Flipkart Reviewes\")"
   ]
  },
  {
   "cell_type": "code",
   "execution_count": 86,
   "metadata": {},
   "outputs": [],
   "source": [
    "df1 = pd.read_csv(\"Final_Amazon_Reviewes\")\n",
    "df2 = pd.read_csv(\"Final Flipkart Reviewes\")"
   ]
  },
  {
   "cell_type": "code",
   "execution_count": 96,
   "metadata": {},
   "outputs": [],
   "source": [
    "df2.rename(columns = {'Reviewes':'Review','Ratings':'Rating'}, inplace = True)"
   ]
  },
  {
   "cell_type": "code",
   "execution_count": 99,
   "metadata": {},
   "outputs": [],
   "source": [
    "Final = pd.concat([df1,df2])"
   ]
  },
  {
   "cell_type": "code",
   "execution_count": 100,
   "metadata": {},
   "outputs": [
    {
     "data": {
      "text/html": [
       "<div>\n",
       "<style scoped>\n",
       "    .dataframe tbody tr th:only-of-type {\n",
       "        vertical-align: middle;\n",
       "    }\n",
       "\n",
       "    .dataframe tbody tr th {\n",
       "        vertical-align: top;\n",
       "    }\n",
       "\n",
       "    .dataframe thead th {\n",
       "        text-align: right;\n",
       "    }\n",
       "</style>\n",
       "<table border=\"1\" class=\"dataframe\">\n",
       "  <thead>\n",
       "    <tr style=\"text-align: right;\">\n",
       "      <th></th>\n",
       "      <th>Unnamed: 0</th>\n",
       "      <th>Review</th>\n",
       "      <th>Rating</th>\n",
       "    </tr>\n",
       "  </thead>\n",
       "  <tbody>\n",
       "    <tr>\n",
       "      <th>0</th>\n",
       "      <td>0</td>\n",
       "      <td>Best product. You can buy this product .\\nOnly...</td>\n",
       "      <td>4</td>\n",
       "    </tr>\n",
       "    <tr>\n",
       "      <th>1</th>\n",
       "      <td>1</td>\n",
       "      <td>WARNING\\n\\nTo anyone thinking of buying an Ace...</td>\n",
       "      <td>2</td>\n",
       "    </tr>\n",
       "    <tr>\n",
       "      <th>2</th>\n",
       "      <td>2</td>\n",
       "      <td>Crop sensor gives you additional distance from...</td>\n",
       "      <td>4</td>\n",
       "    </tr>\n",
       "    <tr>\n",
       "      <th>3</th>\n",
       "      <td>3</td>\n",
       "      <td>What I like:\\n- Cheap price\\n- Somewhat good w...</td>\n",
       "      <td>5</td>\n",
       "    </tr>\n",
       "    <tr>\n",
       "      <th>4</th>\n",
       "      <td>4</td>\n",
       "      <td>Havent been able to connect the printer to wif...</td>\n",
       "      <td>1</td>\n",
       "    </tr>\n",
       "  </tbody>\n",
       "</table>\n",
       "</div>"
      ],
      "text/plain": [
       "   Unnamed: 0                                             Review  Rating\n",
       "0           0  Best product. You can buy this product .\\nOnly...       4\n",
       "1           1  WARNING\\n\\nTo anyone thinking of buying an Ace...       2\n",
       "2           2  Crop sensor gives you additional distance from...       4\n",
       "3           3  What I like:\\n- Cheap price\\n- Somewhat good w...       5\n",
       "4           4  Havent been able to connect the printer to wif...       1"
      ]
     },
     "execution_count": 100,
     "metadata": {},
     "output_type": "execute_result"
    }
   ],
   "source": [
    "Final.head()"
   ]
  },
  {
   "cell_type": "code",
   "execution_count": 101,
   "metadata": {},
   "outputs": [],
   "source": [
    "Final = Final.drop(\"Unnamed: 0\",axis=1)"
   ]
  },
  {
   "cell_type": "code",
   "execution_count": 105,
   "metadata": {},
   "outputs": [
    {
     "data": {
      "text/html": [
       "<div>\n",
       "<style scoped>\n",
       "    .dataframe tbody tr th:only-of-type {\n",
       "        vertical-align: middle;\n",
       "    }\n",
       "\n",
       "    .dataframe tbody tr th {\n",
       "        vertical-align: top;\n",
       "    }\n",
       "\n",
       "    .dataframe thead th {\n",
       "        text-align: right;\n",
       "    }\n",
       "</style>\n",
       "<table border=\"1\" class=\"dataframe\">\n",
       "  <thead>\n",
       "    <tr style=\"text-align: right;\">\n",
       "      <th></th>\n",
       "      <th>Review</th>\n",
       "      <th>Rating</th>\n",
       "    </tr>\n",
       "  </thead>\n",
       "  <tbody>\n",
       "    <tr>\n",
       "      <th>0</th>\n",
       "      <td>Best product. You can buy this product .\\nOnly...</td>\n",
       "      <td>4</td>\n",
       "    </tr>\n",
       "    <tr>\n",
       "      <th>1</th>\n",
       "      <td>WARNING\\n\\nTo anyone thinking of buying an Ace...</td>\n",
       "      <td>2</td>\n",
       "    </tr>\n",
       "    <tr>\n",
       "      <th>2</th>\n",
       "      <td>Crop sensor gives you additional distance from...</td>\n",
       "      <td>4</td>\n",
       "    </tr>\n",
       "    <tr>\n",
       "      <th>3</th>\n",
       "      <td>What I like:\\n- Cheap price\\n- Somewhat good w...</td>\n",
       "      <td>5</td>\n",
       "    </tr>\n",
       "    <tr>\n",
       "      <th>4</th>\n",
       "      <td>Havent been able to connect the printer to wif...</td>\n",
       "      <td>1</td>\n",
       "    </tr>\n",
       "  </tbody>\n",
       "</table>\n",
       "</div>"
      ],
      "text/plain": [
       "                                              Review  Rating\n",
       "0  Best product. You can buy this product .\\nOnly...       4\n",
       "1  WARNING\\n\\nTo anyone thinking of buying an Ace...       2\n",
       "2  Crop sensor gives you additional distance from...       4\n",
       "3  What I like:\\n- Cheap price\\n- Somewhat good w...       5\n",
       "4  Havent been able to connect the printer to wif...       1"
      ]
     },
     "execution_count": 105,
     "metadata": {},
     "output_type": "execute_result"
    }
   ],
   "source": [
    "Final.head()"
   ]
  },
  {
   "cell_type": "code",
   "execution_count": 106,
   "metadata": {},
   "outputs": [
    {
     "data": {
      "text/plain": [
       "5    1536\n",
       "4    1264\n",
       "1     907\n",
       "3     900\n",
       "2     844\n",
       "Name: Rating, dtype: int64"
      ]
     },
     "execution_count": 106,
     "metadata": {},
     "output_type": "execute_result"
    }
   ],
   "source": [
    "Final[\"Rating\"].value_counts()"
   ]
  },
  {
   "cell_type": "code",
   "execution_count": 107,
   "metadata": {},
   "outputs": [],
   "source": [
    "Final.to_csv(\"Final_Reviewes_AMFK\")"
   ]
  },
  {
   "cell_type": "code",
   "execution_count": 111,
   "metadata": {},
   "outputs": [],
   "source": [
    "# URL of the website \n",
    "url = \"https://www.amazon.in/\""
   ]
  },
  {
   "cell_type": "code",
   "execution_count": 112,
   "metadata": {},
   "outputs": [],
   "source": [
    "driver.get(url)"
   ]
  },
  {
   "cell_type": "code",
   "execution_count": 113,
   "metadata": {},
   "outputs": [],
   "source": [
    "# targeting the search text box\n",
    "sesrch_query = driver.find_element_by_id(\"twotabsearchtextbox\")"
   ]
  },
  {
   "cell_type": "code",
   "execution_count": 114,
   "metadata": {},
   "outputs": [],
   "source": [
    "# searching Laptops\n",
    "sesrch_query.send_keys(\"Laptops\")"
   ]
  },
  {
   "cell_type": "code",
   "execution_count": 115,
   "metadata": {},
   "outputs": [],
   "source": [
    "search_btn = driver.find_element_by_id(\"nav-search-submit-button\")\n",
    "\n",
    "search_btn.click()"
   ]
  },
  {
   "cell_type": "code",
   "execution_count": 116,
   "metadata": {},
   "outputs": [],
   "source": [
    "# Collecting url's for first 3 pages\n",
    "urls = []\n",
    "\n",
    "base_url = \"https://www.amazon.in/s?k=Laptops&page={}&qid=1627535792&ref=sr_pg_{}\"\n",
    "\n",
    "for i in range(4,14):\n",
    "    \n",
    "    driver.get(base_url.format(i,i))\n",
    "    \n",
    "    for url in driver.find_elements_by_xpath(\"//h2[@class='a-size-mini a-spacing-none a-color-base s-line-clamp-2']//a\"):\n",
    "        \n",
    "        urls.append(url.get_attribute(\"href\"))"
   ]
  },
  {
   "cell_type": "code",
   "execution_count": 118,
   "metadata": {},
   "outputs": [],
   "source": [
    "Reviewes_5 = []\n",
    "\n",
    "for link in urls:\n",
    "    \n",
    "    driver.get(link)\n",
    "    \n",
    "    try:\n",
    "        \n",
    "        cust_rev_5 = driver.find_element_by_css_selector('#histogramTable > tbody > tr:nth-child(1) > td.aok-nowrap > span.a-size-base > a')\n",
    "    \n",
    "        rev_5 = cust_rev_5.get_attribute(\"href\")\n",
    "    \n",
    "        driver.get(rev_5)\n",
    "        \n",
    "        for i in driver.find_elements_by_xpath(\"//span[@class='a-size-base review-text review-text-content']\"):\n",
    "            \n",
    "            Reviewes_5.append(i.text)\n",
    "            \n",
    "            \n",
    "    except NoSuchElementException:\n",
    "        \n",
    "        Reviewes_5.append(\"-\")"
   ]
  },
  {
   "cell_type": "code",
   "execution_count": 120,
   "metadata": {},
   "outputs": [
    {
     "data": {
      "text/plain": [
       "773"
      ]
     },
     "execution_count": 120,
     "metadata": {},
     "output_type": "execute_result"
    }
   ],
   "source": [
    "Reviewes_5"
   ]
  },
  {
   "cell_type": "code",
   "execution_count": 143,
   "metadata": {},
   "outputs": [],
   "source": [
    "df_lap_Remaining = pd.DataFrame(Reviewes_5,columns=[\"Review\"])"
   ]
  },
  {
   "cell_type": "code",
   "execution_count": 144,
   "metadata": {},
   "outputs": [
    {
     "data": {
      "text/html": [
       "<div>\n",
       "<style scoped>\n",
       "    .dataframe tbody tr th:only-of-type {\n",
       "        vertical-align: middle;\n",
       "    }\n",
       "\n",
       "    .dataframe tbody tr th {\n",
       "        vertical-align: top;\n",
       "    }\n",
       "\n",
       "    .dataframe thead th {\n",
       "        text-align: right;\n",
       "    }\n",
       "</style>\n",
       "<table border=\"1\" class=\"dataframe\">\n",
       "  <thead>\n",
       "    <tr style=\"text-align: right;\">\n",
       "      <th></th>\n",
       "      <th>Review</th>\n",
       "    </tr>\n",
       "  </thead>\n",
       "  <tbody>\n",
       "    <tr>\n",
       "      <th>0</th>\n",
       "      <td>-</td>\n",
       "    </tr>\n",
       "    <tr>\n",
       "      <th>1</th>\n",
       "      <td>-</td>\n",
       "    </tr>\n",
       "    <tr>\n",
       "      <th>2</th>\n",
       "      <td>Looks are good and its slim\\nAnd charges reall...</td>\n",
       "    </tr>\n",
       "    <tr>\n",
       "      <th>3</th>\n",
       "      <td>Good product</td>\n",
       "    </tr>\n",
       "    <tr>\n",
       "      <th>4</th>\n",
       "      <td>over the performance, it works like a charm fo...</td>\n",
       "    </tr>\n",
       "  </tbody>\n",
       "</table>\n",
       "</div>"
      ],
      "text/plain": [
       "                                              Review\n",
       "0                                                  -\n",
       "1                                                  -\n",
       "2  Looks are good and its slim\\nAnd charges reall...\n",
       "3                                       Good product\n",
       "4  over the performance, it works like a charm fo..."
      ]
     },
     "execution_count": 144,
     "metadata": {},
     "output_type": "execute_result"
    }
   ],
   "source": [
    "df_lap_Remaining.head()"
   ]
  },
  {
   "cell_type": "code",
   "execution_count": 147,
   "metadata": {},
   "outputs": [],
   "source": [
    "Reviewes_5_f = []\n",
    "\n",
    "for i in Reviewes_5:\n",
    "    \n",
    "    if i != \"-\":\n",
    "        \n",
    "        Reviewes_5_f.append(i)\n",
    "        \n",
    "    else:\n",
    "        pass"
   ]
  },
  {
   "cell_type": "code",
   "execution_count": 150,
   "metadata": {},
   "outputs": [],
   "source": [
    "Reviewes_5_f = Reviewes_5_f[:275]"
   ]
  },
  {
   "cell_type": "code",
   "execution_count": 151,
   "metadata": {},
   "outputs": [
    {
     "data": {
      "text/plain": [
       "275"
      ]
     },
     "execution_count": 151,
     "metadata": {},
     "output_type": "execute_result"
    }
   ],
   "source": [
    "len(Reviewes_5_f)"
   ]
  },
  {
   "cell_type": "code",
   "execution_count": 152,
   "metadata": {},
   "outputs": [],
   "source": [
    "Laptop_275 = pd.DataFrame(Reviewes_5_f,columns=[\"Review\"])"
   ]
  },
  {
   "cell_type": "code",
   "execution_count": 154,
   "metadata": {},
   "outputs": [],
   "source": [
    "Laptop_275[\"Rating\"] = 5"
   ]
  },
  {
   "cell_type": "code",
   "execution_count": 155,
   "metadata": {},
   "outputs": [
    {
     "data": {
      "text/html": [
       "<div>\n",
       "<style scoped>\n",
       "    .dataframe tbody tr th:only-of-type {\n",
       "        vertical-align: middle;\n",
       "    }\n",
       "\n",
       "    .dataframe tbody tr th {\n",
       "        vertical-align: top;\n",
       "    }\n",
       "\n",
       "    .dataframe thead th {\n",
       "        text-align: right;\n",
       "    }\n",
       "</style>\n",
       "<table border=\"1\" class=\"dataframe\">\n",
       "  <thead>\n",
       "    <tr style=\"text-align: right;\">\n",
       "      <th></th>\n",
       "      <th>Review</th>\n",
       "      <th>Rating</th>\n",
       "    </tr>\n",
       "  </thead>\n",
       "  <tbody>\n",
       "    <tr>\n",
       "      <th>0</th>\n",
       "      <td>Looks are good and its slim\\nAnd charges reall...</td>\n",
       "      <td>5</td>\n",
       "    </tr>\n",
       "    <tr>\n",
       "      <th>1</th>\n",
       "      <td>Good product</td>\n",
       "      <td>5</td>\n",
       "    </tr>\n",
       "    <tr>\n",
       "      <th>2</th>\n",
       "      <td>over the performance, it works like a charm fo...</td>\n",
       "      <td>5</td>\n",
       "    </tr>\n",
       "    <tr>\n",
       "      <th>3</th>\n",
       "      <td>Simply superb... didn't find any issues\\nJust ...</td>\n",
       "      <td>5</td>\n",
       "    </tr>\n",
       "    <tr>\n",
       "      <th>4</th>\n",
       "      <td>Good delivery great product</td>\n",
       "      <td>5</td>\n",
       "    </tr>\n",
       "  </tbody>\n",
       "</table>\n",
       "</div>"
      ],
      "text/plain": [
       "                                              Review  Rating\n",
       "0  Looks are good and its slim\\nAnd charges reall...       5\n",
       "1                                       Good product       5\n",
       "2  over the performance, it works like a charm fo...       5\n",
       "3  Simply superb... didn't find any issues\\nJust ...       5\n",
       "4                        Good delivery great product       5"
      ]
     },
     "execution_count": 155,
     "metadata": {},
     "output_type": "execute_result"
    }
   ],
   "source": [
    "Laptop_275.head()"
   ]
  },
  {
   "cell_type": "code",
   "execution_count": 156,
   "metadata": {},
   "outputs": [],
   "source": [
    "Laptop_275.to_csv(\"Laptop_275\")"
   ]
  },
  {
   "cell_type": "markdown",
   "metadata": {},
   "source": [
    "### Phones"
   ]
  },
  {
   "cell_type": "code",
   "execution_count": 157,
   "metadata": {},
   "outputs": [],
   "source": [
    "# URL of the website \n",
    "url = \"https://www.amazon.in/\""
   ]
  },
  {
   "cell_type": "code",
   "execution_count": 158,
   "metadata": {},
   "outputs": [],
   "source": [
    "driver.get(url)"
   ]
  },
  {
   "cell_type": "code",
   "execution_count": 159,
   "metadata": {},
   "outputs": [],
   "source": [
    "# targeting the search text box\n",
    "sesrch_query = driver.find_element_by_id(\"twotabsearchtextbox\")"
   ]
  },
  {
   "cell_type": "code",
   "execution_count": 160,
   "metadata": {},
   "outputs": [],
   "source": [
    "# searching Laptops\n",
    "sesrch_query.send_keys(\"Phones\")"
   ]
  },
  {
   "cell_type": "code",
   "execution_count": 161,
   "metadata": {},
   "outputs": [],
   "source": [
    "search_btn = driver.find_element_by_id(\"nav-search-submit-button\")"
   ]
  },
  {
   "cell_type": "code",
   "execution_count": 162,
   "metadata": {},
   "outputs": [],
   "source": [
    "search_btn.click()"
   ]
  },
  {
   "cell_type": "code",
   "execution_count": 163,
   "metadata": {},
   "outputs": [],
   "source": [
    "# Collecting url's for first 3 pages\n",
    "urls = []\n",
    "\n",
    "base_url = \"https://www.amazon.in/s?k=Phones&page={}&qid=1627538914&ref=sr_pg_{}\"\n",
    "\n",
    "for i in range(4,12):\n",
    "    \n",
    "    driver.get(base_url.format(i,i))\n",
    "    \n",
    "    for url in driver.find_elements_by_xpath(\"//h2[@class='a-size-mini a-spacing-none a-color-base s-line-clamp-2']//a\"):\n",
    "        \n",
    "        urls.append(url.get_attribute(\"href\"))"
   ]
  },
  {
   "cell_type": "code",
   "execution_count": 169,
   "metadata": {},
   "outputs": [],
   "source": [
    "Reviewes_5_f = []\n",
    "\n",
    "for i in Reviewes_5:\n",
    "    \n",
    "    if i != \"-\":\n",
    "        \n",
    "        Reviewes_5_f.append(i)\n",
    "        \n",
    "    else:\n",
    "        \n",
    "        pass"
   ]
  },
  {
   "cell_type": "code",
   "execution_count": 172,
   "metadata": {},
   "outputs": [],
   "source": [
    "Reviewes_5_f = Reviewes_5_f[:275]"
   ]
  },
  {
   "cell_type": "code",
   "execution_count": 173,
   "metadata": {},
   "outputs": [],
   "source": [
    "Phones_275 = pd.DataFrame(Reviewes_5_f,columns=[\"Review\"])"
   ]
  },
  {
   "cell_type": "code",
   "execution_count": 175,
   "metadata": {},
   "outputs": [],
   "source": [
    "Phones_275[\"Rating\"] = 5"
   ]
  },
  {
   "cell_type": "code",
   "execution_count": 176,
   "metadata": {},
   "outputs": [
    {
     "data": {
      "text/html": [
       "<div>\n",
       "<style scoped>\n",
       "    .dataframe tbody tr th:only-of-type {\n",
       "        vertical-align: middle;\n",
       "    }\n",
       "\n",
       "    .dataframe tbody tr th {\n",
       "        vertical-align: top;\n",
       "    }\n",
       "\n",
       "    .dataframe thead th {\n",
       "        text-align: right;\n",
       "    }\n",
       "</style>\n",
       "<table border=\"1\" class=\"dataframe\">\n",
       "  <thead>\n",
       "    <tr style=\"text-align: right;\">\n",
       "      <th></th>\n",
       "      <th>Review</th>\n",
       "      <th>Rating</th>\n",
       "    </tr>\n",
       "  </thead>\n",
       "  <tbody>\n",
       "    <tr>\n",
       "      <th>0</th>\n",
       "      <td>It's been 75 days of continuous usage of this ...</td>\n",
       "      <td>5</td>\n",
       "    </tr>\n",
       "    <tr>\n",
       "      <th>1</th>\n",
       "      <td>Great phone with killer performance due to pow...</td>\n",
       "      <td>5</td>\n",
       "    </tr>\n",
       "    <tr>\n",
       "      <th>2</th>\n",
       "      <td>Nice smartphone\\nPros\\n1. excellent display.ve...</td>\n",
       "      <td>5</td>\n",
       "    </tr>\n",
       "    <tr>\n",
       "      <th>3</th>\n",
       "      <td>Best phone for 30000rs\\n1)Screen is top notch ...</td>\n",
       "      <td>5</td>\n",
       "    </tr>\n",
       "    <tr>\n",
       "      <th>4</th>\n",
       "      <td>This is my first Xiaomi device and I have to s...</td>\n",
       "      <td>5</td>\n",
       "    </tr>\n",
       "  </tbody>\n",
       "</table>\n",
       "</div>"
      ],
      "text/plain": [
       "                                              Review  Rating\n",
       "0  It's been 75 days of continuous usage of this ...       5\n",
       "1  Great phone with killer performance due to pow...       5\n",
       "2  Nice smartphone\\nPros\\n1. excellent display.ve...       5\n",
       "3  Best phone for 30000rs\\n1)Screen is top notch ...       5\n",
       "4  This is my first Xiaomi device and I have to s...       5"
      ]
     },
     "execution_count": 176,
     "metadata": {},
     "output_type": "execute_result"
    }
   ],
   "source": [
    "Phones_275.head()"
   ]
  },
  {
   "cell_type": "code",
   "execution_count": 177,
   "metadata": {},
   "outputs": [],
   "source": [
    "Phones_275.to_csv(\"Phones_275\")"
   ]
  },
  {
   "cell_type": "markdown",
   "metadata": {},
   "source": [
    "## Headphones"
   ]
  },
  {
   "cell_type": "code",
   "execution_count": 178,
   "metadata": {},
   "outputs": [],
   "source": [
    "# URL of the website \n",
    "url = \"https://www.amazon.in/\""
   ]
  },
  {
   "cell_type": "code",
   "execution_count": 179,
   "metadata": {},
   "outputs": [],
   "source": [
    "driver.get(url)"
   ]
  },
  {
   "cell_type": "code",
   "execution_count": 180,
   "metadata": {},
   "outputs": [],
   "source": [
    "# targeting the search text box\n",
    "sesrch_query = driver.find_element_by_id(\"twotabsearchtextbox\")"
   ]
  },
  {
   "cell_type": "code",
   "execution_count": 181,
   "metadata": {},
   "outputs": [],
   "source": [
    "# searching Laptops\n",
    "sesrch_query.send_keys(\"Headphones\")"
   ]
  },
  {
   "cell_type": "code",
   "execution_count": 182,
   "metadata": {},
   "outputs": [],
   "source": [
    "search_btn = driver.find_element_by_id(\"nav-search-submit-button\")\n",
    "\n",
    "search_btn.click()"
   ]
  },
  {
   "cell_type": "code",
   "execution_count": 185,
   "metadata": {},
   "outputs": [],
   "source": [
    "# Collecting url's for first 3 pages\n",
    "urls = []\n",
    "\n",
    "base_url = \"https://www.amazon.in/s?k=Headphones&page={}&qid=1627540311&ref=sr_pg_{}\"\n",
    "\n",
    "for i in range(4,10):\n",
    "    \n",
    "    driver.get(base_url.format(i,i))\n",
    "    \n",
    "    for url in driver.find_elements_by_xpath(\"//h2[@class='a-size-mini a-spacing-none a-color-base s-line-clamp-2']//a\"):\n",
    "        \n",
    "        urls.append(url.get_attribute(\"href\"))"
   ]
  },
  {
   "cell_type": "code",
   "execution_count": 187,
   "metadata": {},
   "outputs": [],
   "source": [
    "Reviewes_5 = []\n",
    "\n",
    "for link in urls:\n",
    "    \n",
    "    driver.get(link)\n",
    "    \n",
    "    try:\n",
    "        \n",
    "        cust_rev_5 = driver.find_element_by_css_selector('#histogramTable > tbody > tr:nth-child(1) > td.aok-nowrap > span.a-size-base > a')\n",
    "    \n",
    "        rev_5 = cust_rev_5.get_attribute(\"href\")\n",
    "    \n",
    "        driver.get(rev_5)\n",
    "        \n",
    "        for i in driver.find_elements_by_xpath(\"//span[@class='a-size-base review-text review-text-content']\"):\n",
    "            \n",
    "            Reviewes_5.append(i.text)\n",
    "            \n",
    "            \n",
    "    except NoSuchElementException:\n",
    "        \n",
    "        Reviewes_5.append(\"-\")"
   ]
  },
  {
   "cell_type": "code",
   "execution_count": 189,
   "metadata": {},
   "outputs": [],
   "source": [
    "Reviewes_5_f = []\n",
    "\n",
    "for i in Reviewes_5:\n",
    "    \n",
    "    if i != \"-\":\n",
    "        \n",
    "        Reviewes_5_f.append(i)\n",
    "        \n",
    "    else:\n",
    "        \n",
    "        pass"
   ]
  },
  {
   "cell_type": "code",
   "execution_count": 192,
   "metadata": {},
   "outputs": [],
   "source": [
    "Reviewes_5_f = Reviewes_5_f[:275]"
   ]
  },
  {
   "cell_type": "code",
   "execution_count": 193,
   "metadata": {},
   "outputs": [],
   "source": [
    "Headphones_275 = pd.DataFrame(Reviewes_5_f,columns=[\"Review\"])"
   ]
  },
  {
   "cell_type": "code",
   "execution_count": 194,
   "metadata": {},
   "outputs": [],
   "source": [
    "Headphones_275[\"Rating\"] = 5"
   ]
  },
  {
   "cell_type": "code",
   "execution_count": 195,
   "metadata": {},
   "outputs": [
    {
     "data": {
      "text/html": [
       "<div>\n",
       "<style scoped>\n",
       "    .dataframe tbody tr th:only-of-type {\n",
       "        vertical-align: middle;\n",
       "    }\n",
       "\n",
       "    .dataframe tbody tr th {\n",
       "        vertical-align: top;\n",
       "    }\n",
       "\n",
       "    .dataframe thead th {\n",
       "        text-align: right;\n",
       "    }\n",
       "</style>\n",
       "<table border=\"1\" class=\"dataframe\">\n",
       "  <thead>\n",
       "    <tr style=\"text-align: right;\">\n",
       "      <th></th>\n",
       "      <th>Review</th>\n",
       "      <th>Rating</th>\n",
       "    </tr>\n",
       "  </thead>\n",
       "  <tbody>\n",
       "    <tr>\n",
       "      <th>0</th>\n",
       "      <td>First of all Thank You Harman for launching an...</td>\n",
       "      <td>5</td>\n",
       "    </tr>\n",
       "    <tr>\n",
       "      <th>1</th>\n",
       "      <td>Would I recommend this product to others? Defi...</td>\n",
       "      <td>5</td>\n",
       "    </tr>\n",
       "    <tr>\n",
       "      <th>2</th>\n",
       "      <td>Hi all,\\n\\nAfter a week rough usage i am shari...</td>\n",
       "      <td>5</td>\n",
       "    </tr>\n",
       "    <tr>\n",
       "      <th>3</th>\n",
       "      <td>This product is better than its old counterpar...</td>\n",
       "      <td>5</td>\n",
       "    </tr>\n",
       "    <tr>\n",
       "      <th>4</th>\n",
       "      <td>I am impressed with sound quality of Infinity ...</td>\n",
       "      <td>5</td>\n",
       "    </tr>\n",
       "  </tbody>\n",
       "</table>\n",
       "</div>"
      ],
      "text/plain": [
       "                                              Review  Rating\n",
       "0  First of all Thank You Harman for launching an...       5\n",
       "1  Would I recommend this product to others? Defi...       5\n",
       "2  Hi all,\\n\\nAfter a week rough usage i am shari...       5\n",
       "3  This product is better than its old counterpar...       5\n",
       "4  I am impressed with sound quality of Infinity ...       5"
      ]
     },
     "execution_count": 195,
     "metadata": {},
     "output_type": "execute_result"
    }
   ],
   "source": [
    "Headphones_275.head()"
   ]
  },
  {
   "cell_type": "code",
   "execution_count": 196,
   "metadata": {},
   "outputs": [],
   "source": [
    "Headphones_275.to_csv(\"Headphones_275\")"
   ]
  },
  {
   "cell_type": "markdown",
   "metadata": {},
   "source": [
    "### smart watches"
   ]
  },
  {
   "cell_type": "code",
   "execution_count": 198,
   "metadata": {},
   "outputs": [],
   "source": [
    "# URL of the website \n",
    "url = \"https://www.amazon.in/\""
   ]
  },
  {
   "cell_type": "code",
   "execution_count": 199,
   "metadata": {},
   "outputs": [],
   "source": [
    "driver.get(url)"
   ]
  },
  {
   "cell_type": "code",
   "execution_count": 200,
   "metadata": {},
   "outputs": [],
   "source": [
    "# targeting the search text box\n",
    "sesrch_query = driver.find_element_by_id(\"twotabsearchtextbox\")"
   ]
  },
  {
   "cell_type": "code",
   "execution_count": 201,
   "metadata": {},
   "outputs": [],
   "source": [
    "# searching Laptops\n",
    "sesrch_query.send_keys(\"Smart Watches\")"
   ]
  },
  {
   "cell_type": "code",
   "execution_count": 202,
   "metadata": {},
   "outputs": [],
   "source": [
    "search_btn = driver.find_element_by_id(\"nav-search-submit-button\")\n",
    "\n",
    "search_btn.click()"
   ]
  },
  {
   "cell_type": "code",
   "execution_count": 203,
   "metadata": {},
   "outputs": [],
   "source": [
    "# Collecting url's for first 3 pages\n",
    "urls = []\n",
    "\n",
    "base_url = \"https://www.amazon.in/s?k=Smart+Watches&page={}&qid=1627550329&ref=sr_pg_{}\"\n",
    "\n",
    "for i in range(4,10):\n",
    "    \n",
    "    driver.get(base_url.format(i,i))\n",
    "    \n",
    "    for url in driver.find_elements_by_xpath(\"//h2[@class='a-size-mini a-spacing-none a-color-base s-line-clamp-2']//a\"):\n",
    "        \n",
    "        urls.append(url.get_attribute(\"href\"))\n"
   ]
  },
  {
   "cell_type": "code",
   "execution_count": 206,
   "metadata": {},
   "outputs": [],
   "source": [
    "Reviewes_5 = []\n",
    "\n",
    "for link in urls:\n",
    "    \n",
    "    driver.get(link)\n",
    "    \n",
    "    try:\n",
    "        \n",
    "        cust_rev_5 = driver.find_element_by_css_selector('#histogramTable > tbody > tr:nth-child(1) > td.aok-nowrap > span.a-size-base > a')\n",
    "    \n",
    "        rev_5 = cust_rev_5.get_attribute(\"href\")\n",
    "    \n",
    "        driver.get(rev_5)\n",
    "        \n",
    "        for i in driver.find_elements_by_xpath(\"//span[@class='a-size-base review-text review-text-content']\"):\n",
    "            \n",
    "            Reviewes_5.append(i.text)\n",
    "            \n",
    "            \n",
    "    except NoSuchElementException:\n",
    "        \n",
    "        Reviewes_5.append(\"-\")"
   ]
  },
  {
   "cell_type": "code",
   "execution_count": 209,
   "metadata": {},
   "outputs": [],
   "source": [
    "Reviewes_5_f = []\n",
    "\n",
    "for i in Reviewes_5:\n",
    "    \n",
    "    if i != \"-\":\n",
    "        \n",
    "        Reviewes_5_f.append(i)\n",
    "        \n",
    "    else:\n",
    "        \n",
    "        pass"
   ]
  },
  {
   "cell_type": "code",
   "execution_count": 210,
   "metadata": {},
   "outputs": [
    {
     "data": {
      "text/plain": [
       "887"
      ]
     },
     "execution_count": 210,
     "metadata": {},
     "output_type": "execute_result"
    }
   ],
   "source": [
    "len(Reviewes_5_f)"
   ]
  },
  {
   "cell_type": "code",
   "execution_count": 211,
   "metadata": {},
   "outputs": [],
   "source": [
    "Reviewes_5_f = Reviewes_5_f[:275]"
   ]
  },
  {
   "cell_type": "code",
   "execution_count": 212,
   "metadata": {},
   "outputs": [],
   "source": [
    "Smart_Watches_275 = pd.DataFrame(Reviewes_5_f,columns=[\"Review\"])"
   ]
  },
  {
   "cell_type": "code",
   "execution_count": 213,
   "metadata": {},
   "outputs": [],
   "source": [
    "Smart_Watches_275[\"Rating\"] = 5"
   ]
  },
  {
   "cell_type": "code",
   "execution_count": 215,
   "metadata": {},
   "outputs": [
    {
     "data": {
      "text/html": [
       "<div>\n",
       "<style scoped>\n",
       "    .dataframe tbody tr th:only-of-type {\n",
       "        vertical-align: middle;\n",
       "    }\n",
       "\n",
       "    .dataframe tbody tr th {\n",
       "        vertical-align: top;\n",
       "    }\n",
       "\n",
       "    .dataframe thead th {\n",
       "        text-align: right;\n",
       "    }\n",
       "</style>\n",
       "<table border=\"1\" class=\"dataframe\">\n",
       "  <thead>\n",
       "    <tr style=\"text-align: right;\">\n",
       "      <th></th>\n",
       "      <th>Review</th>\n",
       "      <th>Rating</th>\n",
       "    </tr>\n",
       "  </thead>\n",
       "  <tbody>\n",
       "    <tr>\n",
       "      <th>0</th>\n",
       "      <td>Pros:\\n1. Design looks premium\\n2. Display Qua...</td>\n",
       "      <td>5</td>\n",
       "    </tr>\n",
       "    <tr>\n",
       "      <th>1</th>\n",
       "      <td>The Mi Watch Revolve does of lot of things rig...</td>\n",
       "      <td>5</td>\n",
       "    </tr>\n",
       "    <tr>\n",
       "      <th>2</th>\n",
       "      <td>5-day usage review:\\nFirst up, DO NOT BUY this...</td>\n",
       "      <td>5</td>\n",
       "    </tr>\n",
       "    <tr>\n",
       "      <th>3</th>\n",
       "      <td>Loved Design and AMOLED Display, Sleep monitor...</td>\n",
       "      <td>5</td>\n",
       "    </tr>\n",
       "    <tr>\n",
       "      <th>4</th>\n",
       "      <td>I ordered the midnight black version. The firs...</td>\n",
       "      <td>5</td>\n",
       "    </tr>\n",
       "  </tbody>\n",
       "</table>\n",
       "</div>"
      ],
      "text/plain": [
       "                                              Review  Rating\n",
       "0  Pros:\\n1. Design looks premium\\n2. Display Qua...       5\n",
       "1  The Mi Watch Revolve does of lot of things rig...       5\n",
       "2  5-day usage review:\\nFirst up, DO NOT BUY this...       5\n",
       "3  Loved Design and AMOLED Display, Sleep monitor...       5\n",
       "4  I ordered the midnight black version. The firs...       5"
      ]
     },
     "execution_count": 215,
     "metadata": {},
     "output_type": "execute_result"
    }
   ],
   "source": [
    "Smart_Watches_275.head()"
   ]
  },
  {
   "cell_type": "code",
   "execution_count": 216,
   "metadata": {},
   "outputs": [
    {
     "data": {
      "text/plain": [
       "(275, 2)"
      ]
     },
     "execution_count": 216,
     "metadata": {},
     "output_type": "execute_result"
    }
   ],
   "source": [
    "Smart_Watches_275.shape"
   ]
  },
  {
   "cell_type": "code",
   "execution_count": 217,
   "metadata": {},
   "outputs": [],
   "source": [
    "Smart_Watches_275.to_csv(\"Smart_Watches_275\")"
   ]
  },
  {
   "cell_type": "markdown",
   "metadata": {},
   "source": [
    "## Professional Cameras"
   ]
  },
  {
   "cell_type": "code",
   "execution_count": 119,
   "metadata": {},
   "outputs": [],
   "source": [
    "# URL of the website \n",
    "url = \"https://www.amazon.in/\""
   ]
  },
  {
   "cell_type": "code",
   "execution_count": 120,
   "metadata": {},
   "outputs": [],
   "source": [
    "driver.get(url)"
   ]
  },
  {
   "cell_type": "code",
   "execution_count": 121,
   "metadata": {},
   "outputs": [],
   "source": [
    "# targeting the search text box\n",
    "sesrch_query = driver.find_element_by_id(\"twotabsearchtextbox\")"
   ]
  },
  {
   "cell_type": "code",
   "execution_count": 122,
   "metadata": {},
   "outputs": [],
   "source": [
    "# searching Laptops\n",
    "sesrch_query.send_keys(\"cameras dslr\")"
   ]
  },
  {
   "cell_type": "code",
   "execution_count": 123,
   "metadata": {},
   "outputs": [],
   "source": [
    "search_btn = driver.find_element_by_id(\"nav-search-submit-button\")\n",
    "\n",
    "search_btn.click()"
   ]
  },
  {
   "cell_type": "code",
   "execution_count": 124,
   "metadata": {},
   "outputs": [],
   "source": [
    "# Collecting url's for first 3 pages\n",
    "urls = []\n",
    "\n",
    "base_url = \"https://www.amazon.in/s?k=cameras+dslr&page={}&qid=1627552049&ref=sr_pg_{}\"\n",
    "\n",
    "for i in range(4,9):\n",
    "    \n",
    "    driver.get(base_url.format(i,i))\n",
    "    \n",
    "    for url in driver.find_elements_by_xpath(\"//h2[@class='a-size-mini a-spacing-none a-color-base s-line-clamp-2']//a\"):\n",
    "        \n",
    "        urls.append(url.get_attribute(\"href\"))"
   ]
  },
  {
   "cell_type": "code",
   "execution_count": 126,
   "metadata": {},
   "outputs": [],
   "source": [
    "Reviewes_5 = []\n",
    "\n",
    "for link in urls:\n",
    "    \n",
    "    driver.get(link)\n",
    "    \n",
    "    try:\n",
    "        \n",
    "        cust_rev_5 = driver.find_element_by_css_selector('#histogramTable > tbody > tr:nth-child(1) > td.aok-nowrap > span.a-size-base > a')\n",
    "    \n",
    "        rev_5 = cust_rev_5.get_attribute(\"href\")\n",
    "    \n",
    "        driver.get(rev_5)\n",
    "        \n",
    "        for i in driver.find_elements_by_xpath(\"//span[@class='a-size-base review-text review-text-content']\"):\n",
    "            \n",
    "            Reviewes_5.append(i.text)\n",
    "            \n",
    "            \n",
    "    except NoSuchElementException:\n",
    "        \n",
    "        Reviewes_5.append(\"-\")"
   ]
  },
  {
   "cell_type": "code",
   "execution_count": 127,
   "metadata": {},
   "outputs": [],
   "source": [
    "Reviewes_5_f = []\n",
    "\n",
    "for i in Reviewes_5:\n",
    "    \n",
    "    if i != \"-\":\n",
    "        \n",
    "        Reviewes_5_f.append(i)\n",
    "        \n",
    "    else:\n",
    "        \n",
    "        pass"
   ]
  },
  {
   "cell_type": "code",
   "execution_count": 128,
   "metadata": {},
   "outputs": [
    {
     "data": {
      "text/plain": [
       "504"
      ]
     },
     "execution_count": 128,
     "metadata": {},
     "output_type": "execute_result"
    }
   ],
   "source": [
    "len(Reviewes_5_f)"
   ]
  },
  {
   "cell_type": "code",
   "execution_count": 129,
   "metadata": {},
   "outputs": [],
   "source": [
    "Reviewes_5_f = Reviewes_5_f[:275]"
   ]
  },
  {
   "cell_type": "code",
   "execution_count": 130,
   "metadata": {},
   "outputs": [],
   "source": [
    "Cameras_275 = pd.DataFrame(Reviewes_5_f,columns=[\"Review\"])"
   ]
  },
  {
   "cell_type": "code",
   "execution_count": 131,
   "metadata": {},
   "outputs": [],
   "source": [
    "Cameras_275[\"Rating\"] = 5"
   ]
  },
  {
   "cell_type": "code",
   "execution_count": 132,
   "metadata": {},
   "outputs": [
    {
     "data": {
      "text/html": [
       "<div>\n",
       "<style scoped>\n",
       "    .dataframe tbody tr th:only-of-type {\n",
       "        vertical-align: middle;\n",
       "    }\n",
       "\n",
       "    .dataframe tbody tr th {\n",
       "        vertical-align: top;\n",
       "    }\n",
       "\n",
       "    .dataframe thead th {\n",
       "        text-align: right;\n",
       "    }\n",
       "</style>\n",
       "<table border=\"1\" class=\"dataframe\">\n",
       "  <thead>\n",
       "    <tr style=\"text-align: right;\">\n",
       "      <th></th>\n",
       "      <th>Review</th>\n",
       "      <th>Rating</th>\n",
       "    </tr>\n",
       "  </thead>\n",
       "  <tbody>\n",
       "    <tr>\n",
       "      <th>0</th>\n",
       "      <td>Awesome camera</td>\n",
       "      <td>5</td>\n",
       "    </tr>\n",
       "    <tr>\n",
       "      <th>1</th>\n",
       "      <td>I was using Canon 60D before this and just got...</td>\n",
       "      <td>5</td>\n",
       "    </tr>\n",
       "    <tr>\n",
       "      <th>2</th>\n",
       "      <td>Good for quick focus. Good picture not that mu...</td>\n",
       "      <td>5</td>\n",
       "    </tr>\n",
       "    <tr>\n",
       "      <th>3</th>\n",
       "      <td>Still the best in 2020 at this price range. So...</td>\n",
       "      <td>5</td>\n",
       "    </tr>\n",
       "    <tr>\n",
       "      <th>4</th>\n",
       "      <td>Its a Woooww.. Wonderful product.. I bought wi...</td>\n",
       "      <td>5</td>\n",
       "    </tr>\n",
       "  </tbody>\n",
       "</table>\n",
       "</div>"
      ],
      "text/plain": [
       "                                              Review  Rating\n",
       "0                                     Awesome camera       5\n",
       "1  I was using Canon 60D before this and just got...       5\n",
       "2  Good for quick focus. Good picture not that mu...       5\n",
       "3  Still the best in 2020 at this price range. So...       5\n",
       "4  Its a Woooww.. Wonderful product.. I bought wi...       5"
      ]
     },
     "execution_count": 132,
     "metadata": {},
     "output_type": "execute_result"
    }
   ],
   "source": [
    "Cameras_275.head()"
   ]
  },
  {
   "cell_type": "code",
   "execution_count": 133,
   "metadata": {},
   "outputs": [],
   "source": [
    "Cameras_275.to_csv(\"Cameras_275\")"
   ]
  },
  {
   "cell_type": "markdown",
   "metadata": {},
   "source": [
    "### Printers"
   ]
  },
  {
   "cell_type": "code",
   "execution_count": 233,
   "metadata": {},
   "outputs": [],
   "source": [
    "# URL of the website \n",
    "url = \"https://www.amazon.in/\""
   ]
  },
  {
   "cell_type": "code",
   "execution_count": 234,
   "metadata": {},
   "outputs": [],
   "source": [
    "driver.get(url)"
   ]
  },
  {
   "cell_type": "code",
   "execution_count": 235,
   "metadata": {},
   "outputs": [],
   "source": [
    "# targeting the search text box\n",
    "sesrch_query = driver.find_element_by_id(\"twotabsearchtextbox\")"
   ]
  },
  {
   "cell_type": "code",
   "execution_count": 236,
   "metadata": {},
   "outputs": [],
   "source": [
    "# searching Laptops\n",
    "sesrch_query.send_keys(\"Printers\")"
   ]
  },
  {
   "cell_type": "code",
   "execution_count": 237,
   "metadata": {},
   "outputs": [],
   "source": [
    "search_btn = driver.find_element_by_id(\"nav-search-submit-button\")\n",
    "\n",
    "search_btn.click()"
   ]
  },
  {
   "cell_type": "code",
   "execution_count": 238,
   "metadata": {},
   "outputs": [],
   "source": [
    "# Collecting url's for first 3 pages\n",
    "urls = []\n",
    "\n",
    "base_url = \"https://www.amazon.in/s?k=Printers&page={}&qid=1627553112&ref=sr_pg_{}\"\n",
    "\n",
    "for i in range(4,10):\n",
    "    \n",
    "    driver.get(base_url.format(i,i))\n",
    "    \n",
    "    for url in driver.find_elements_by_xpath(\"//h2[@class='a-size-mini a-spacing-none a-color-base s-line-clamp-2']//a\"):\n",
    "        \n",
    "        urls.append(url.get_attribute(\"href\"))"
   ]
  },
  {
   "cell_type": "code",
   "execution_count": 240,
   "metadata": {},
   "outputs": [],
   "source": [
    "Reviewes_5 = []\n",
    "\n",
    "for link in urls:\n",
    "    \n",
    "    driver.get(link)\n",
    "    \n",
    "    try:\n",
    "        \n",
    "        cust_rev_5 = driver.find_element_by_css_selector('#histogramTable > tbody > tr:nth-child(1) > td.aok-nowrap > span.a-size-base > a')\n",
    "    \n",
    "        rev_5 = cust_rev_5.get_attribute(\"href\")\n",
    "    \n",
    "        driver.get(rev_5)\n",
    "        \n",
    "        for i in driver.find_elements_by_xpath(\"//span[@class='a-size-base review-text review-text-content']\"):\n",
    "            \n",
    "            Reviewes_5.append(i.text)\n",
    "            \n",
    "            \n",
    "    except NoSuchElementException:\n",
    "        \n",
    "        Reviewes_5.append(\"-\")"
   ]
  },
  {
   "cell_type": "code",
   "execution_count": 242,
   "metadata": {},
   "outputs": [],
   "source": [
    "Reviewes_5_f = []\n",
    "\n",
    "for i in Reviewes_5:\n",
    "    \n",
    "    if i != \"-\":\n",
    "        \n",
    "        Reviewes_5_f.append(i)\n",
    "        \n",
    "    else:\n",
    "        \n",
    "        pass"
   ]
  },
  {
   "cell_type": "code",
   "execution_count": 244,
   "metadata": {},
   "outputs": [],
   "source": [
    "Reviewes_5_f = Reviewes_5_f[:275]"
   ]
  },
  {
   "cell_type": "code",
   "execution_count": 245,
   "metadata": {},
   "outputs": [],
   "source": [
    "Printers_275 = pd.DataFrame(Reviewes_5_f,columns=[\"Review\"])"
   ]
  },
  {
   "cell_type": "code",
   "execution_count": 246,
   "metadata": {},
   "outputs": [],
   "source": [
    "Printers_275[\"Rating\"] = 5"
   ]
  },
  {
   "cell_type": "code",
   "execution_count": 248,
   "metadata": {},
   "outputs": [
    {
     "data": {
      "text/plain": [
       "(275, 2)"
      ]
     },
     "execution_count": 248,
     "metadata": {},
     "output_type": "execute_result"
    }
   ],
   "source": [
    "Printers_275.shape"
   ]
  },
  {
   "cell_type": "code",
   "execution_count": 249,
   "metadata": {},
   "outputs": [],
   "source": [
    "Printers_275.to_csv(\"Printers_275\")"
   ]
  },
  {
   "cell_type": "markdown",
   "metadata": {},
   "source": [
    "### Monitors"
   ]
  },
  {
   "cell_type": "code",
   "execution_count": 134,
   "metadata": {},
   "outputs": [],
   "source": [
    "# URL of the website \n",
    "url = \"https://www.amazon.in/\""
   ]
  },
  {
   "cell_type": "code",
   "execution_count": 135,
   "metadata": {},
   "outputs": [],
   "source": [
    "driver.get(url)"
   ]
  },
  {
   "cell_type": "code",
   "execution_count": 136,
   "metadata": {},
   "outputs": [],
   "source": [
    "# targeting the search text box\n",
    "sesrch_query = driver.find_element_by_id(\"twotabsearchtextbox\")"
   ]
  },
  {
   "cell_type": "code",
   "execution_count": 137,
   "metadata": {},
   "outputs": [],
   "source": [
    "# searching Laptops\n",
    "sesrch_query.send_keys(\"Monitors\")"
   ]
  },
  {
   "cell_type": "code",
   "execution_count": 138,
   "metadata": {},
   "outputs": [],
   "source": [
    "search_btn = driver.find_element_by_id(\"nav-search-submit-button\")\n",
    "\n",
    "search_btn.click()"
   ]
  },
  {
   "cell_type": "code",
   "execution_count": 139,
   "metadata": {},
   "outputs": [],
   "source": [
    "# Collecting url's for first 3 pages\n",
    "urls = []\n",
    "\n",
    "base_url = \"https://www.amazon.in/s?k=Monitors&page={}&qid=1627555553&ref=sr_pg_{}\"\n",
    "\n",
    "for i in range(4,10):\n",
    "    \n",
    "    driver.get(base_url.format(i,i))\n",
    "    \n",
    "    for url in driver.find_elements_by_xpath(\"//h2[@class='a-size-mini a-spacing-none a-color-base s-line-clamp-2']//a\"):\n",
    "        \n",
    "        urls.append(url.get_attribute(\"href\"))"
   ]
  },
  {
   "cell_type": "code",
   "execution_count": 140,
   "metadata": {},
   "outputs": [
    {
     "data": {
      "text/plain": [
       "99"
      ]
     },
     "execution_count": 140,
     "metadata": {},
     "output_type": "execute_result"
    }
   ],
   "source": [
    "len(urls)"
   ]
  },
  {
   "cell_type": "code",
   "execution_count": 141,
   "metadata": {},
   "outputs": [],
   "source": [
    "Reviewes_5 = []\n",
    "\n",
    "for link in urls:\n",
    "    \n",
    "    driver.get(link)\n",
    "    \n",
    "    try:\n",
    "        \n",
    "        cust_rev_5 = driver.find_element_by_css_selector('#histogramTable > tbody > tr:nth-child(1) > td.aok-nowrap > span.a-size-base > a')\n",
    "    \n",
    "        rev_5 = cust_rev_5.get_attribute(\"href\")\n",
    "    \n",
    "        driver.get(rev_5)\n",
    "        \n",
    "        for i in driver.find_elements_by_xpath(\"//span[@class='a-size-base review-text review-text-content']\"):\n",
    "            \n",
    "            Reviewes_5.append(i.text)\n",
    "            \n",
    "            \n",
    "    except NoSuchElementException:\n",
    "        \n",
    "        Reviewes_5.append(\"-\")"
   ]
  },
  {
   "cell_type": "code",
   "execution_count": 144,
   "metadata": {},
   "outputs": [],
   "source": [
    "Reviewes_5_f = []\n",
    "\n",
    "for i in Reviewes_5:\n",
    "    \n",
    "    if i != \"-\":\n",
    "        \n",
    "        Reviewes_5_f.append(i)\n",
    "        \n",
    "    else:\n",
    "        \n",
    "        pass"
   ]
  },
  {
   "cell_type": "code",
   "execution_count": 145,
   "metadata": {},
   "outputs": [
    {
     "data": {
      "text/plain": [
       "704"
      ]
     },
     "execution_count": 145,
     "metadata": {},
     "output_type": "execute_result"
    }
   ],
   "source": [
    "len(Reviewes_5_f)"
   ]
  },
  {
   "cell_type": "code",
   "execution_count": 146,
   "metadata": {},
   "outputs": [],
   "source": [
    "Reviewes_5_f = Reviewes_5_f[:275]"
   ]
  },
  {
   "cell_type": "code",
   "execution_count": 147,
   "metadata": {},
   "outputs": [],
   "source": [
    "Monitors_275 = pd.DataFrame(Reviewes_5_f,columns=[\"Review\"])"
   ]
  },
  {
   "cell_type": "code",
   "execution_count": 148,
   "metadata": {},
   "outputs": [],
   "source": [
    "Monitors_275[\"Rating\"] = 5"
   ]
  },
  {
   "cell_type": "code",
   "execution_count": 149,
   "metadata": {},
   "outputs": [
    {
     "data": {
      "text/html": [
       "<div>\n",
       "<style scoped>\n",
       "    .dataframe tbody tr th:only-of-type {\n",
       "        vertical-align: middle;\n",
       "    }\n",
       "\n",
       "    .dataframe tbody tr th {\n",
       "        vertical-align: top;\n",
       "    }\n",
       "\n",
       "    .dataframe thead th {\n",
       "        text-align: right;\n",
       "    }\n",
       "</style>\n",
       "<table border=\"1\" class=\"dataframe\">\n",
       "  <thead>\n",
       "    <tr style=\"text-align: right;\">\n",
       "      <th></th>\n",
       "      <th>Review</th>\n",
       "      <th>Rating</th>\n",
       "    </tr>\n",
       "  </thead>\n",
       "  <tbody>\n",
       "    <tr>\n",
       "      <th>0</th>\n",
       "      <td>Serves the purpose... Can keep my gaming keybo...</td>\n",
       "      <td>5</td>\n",
       "    </tr>\n",
       "    <tr>\n",
       "      <th>1</th>\n",
       "      <td>I found the best desk organiser cum cpu riser....</td>\n",
       "      <td>5</td>\n",
       "    </tr>\n",
       "    <tr>\n",
       "      <th>2</th>\n",
       "      <td>A beautiful product. The built quality is real...</td>\n",
       "      <td>5</td>\n",
       "    </tr>\n",
       "    <tr>\n",
       "      <th>3</th>\n",
       "      <td>For the price that this usually sells for, the...</td>\n",
       "      <td>5</td>\n",
       "    </tr>\n",
       "    <tr>\n",
       "      <th>4</th>\n",
       "      <td>The product is simply superb. Great build qual...</td>\n",
       "      <td>5</td>\n",
       "    </tr>\n",
       "  </tbody>\n",
       "</table>\n",
       "</div>"
      ],
      "text/plain": [
       "                                              Review  Rating\n",
       "0  Serves the purpose... Can keep my gaming keybo...       5\n",
       "1  I found the best desk organiser cum cpu riser....       5\n",
       "2  A beautiful product. The built quality is real...       5\n",
       "3  For the price that this usually sells for, the...       5\n",
       "4  The product is simply superb. Great build qual...       5"
      ]
     },
     "execution_count": 149,
     "metadata": {},
     "output_type": "execute_result"
    }
   ],
   "source": [
    "Monitors_275.head()"
   ]
  },
  {
   "cell_type": "code",
   "execution_count": 150,
   "metadata": {},
   "outputs": [],
   "source": [
    "Monitors_275.to_csv(\"Monitors_275\")"
   ]
  },
  {
   "cell_type": "markdown",
   "metadata": {},
   "source": [
    "## Home theater"
   ]
  },
  {
   "cell_type": "code",
   "execution_count": 267,
   "metadata": {},
   "outputs": [],
   "source": [
    "# URL of the website \n",
    "url = \"https://www.amazon.in/\""
   ]
  },
  {
   "cell_type": "code",
   "execution_count": 268,
   "metadata": {},
   "outputs": [],
   "source": [
    "driver.get(url)"
   ]
  },
  {
   "cell_type": "code",
   "execution_count": 269,
   "metadata": {},
   "outputs": [],
   "source": [
    "# targeting the search text box\n",
    "sesrch_query = driver.find_element_by_id(\"twotabsearchtextbox\")"
   ]
  },
  {
   "cell_type": "code",
   "execution_count": 270,
   "metadata": {},
   "outputs": [],
   "source": [
    "# searching Laptops\n",
    "sesrch_query.send_keys(\"Home theater\")"
   ]
  },
  {
   "cell_type": "code",
   "execution_count": 271,
   "metadata": {},
   "outputs": [],
   "source": [
    "search_btn = driver.find_element_by_id(\"nav-search-submit-button\")\n",
    "\n",
    "search_btn.click()"
   ]
  },
  {
   "cell_type": "code",
   "execution_count": 272,
   "metadata": {},
   "outputs": [],
   "source": [
    "# Collecting url's for first 3 pages\n",
    "urls = []\n",
    "\n",
    "base_url = \"https://www.amazon.in/s?k=Home+theater&page={}&qid=1627557299&ref=sr_pg_{}\"\n",
    "\n",
    "for i in range(4,9):\n",
    "    \n",
    "    driver.get(base_url.format(i,i))\n",
    "    \n",
    "    for url in driver.find_elements_by_xpath(\"//h2[@class='a-size-mini a-spacing-none a-color-base s-line-clamp-2']//a\"):\n",
    "        \n",
    "        urls.append(url.get_attribute(\"href\"))"
   ]
  },
  {
   "cell_type": "code",
   "execution_count": 274,
   "metadata": {},
   "outputs": [],
   "source": [
    "Reviewes_5 = []\n",
    "\n",
    "for link in urls:\n",
    "    \n",
    "    driver.get(link)\n",
    "    \n",
    "    try:\n",
    "        \n",
    "        cust_rev_5 = driver.find_element_by_css_selector('#histogramTable > tbody > tr:nth-child(1) > td.aok-nowrap > span.a-size-base > a')\n",
    "    \n",
    "        rev_5 = cust_rev_5.get_attribute(\"href\")\n",
    "    \n",
    "        driver.get(rev_5)\n",
    "        \n",
    "        for i in driver.find_elements_by_xpath(\"//span[@class='a-size-base review-text review-text-content']\"):\n",
    "            \n",
    "            Reviewes_5.append(i.text)\n",
    "            \n",
    "            \n",
    "    except NoSuchElementException:\n",
    "        \n",
    "        Reviewes_5.append(\"-\")"
   ]
  },
  {
   "cell_type": "code",
   "execution_count": 277,
   "metadata": {},
   "outputs": [],
   "source": [
    "Reviewes_5_f = []\n",
    "\n",
    "for i in Reviewes_5:\n",
    "    \n",
    "    if i != \"-\":\n",
    "        \n",
    "        Reviewes_5_f.append(i)\n",
    "        \n",
    "    else:\n",
    "        \n",
    "        pass"
   ]
  },
  {
   "cell_type": "code",
   "execution_count": 279,
   "metadata": {},
   "outputs": [],
   "source": [
    "Home_275 = pd.DataFrame(Reviewes_5_f,columns=[\"Review\"])"
   ]
  },
  {
   "cell_type": "code",
   "execution_count": 280,
   "metadata": {},
   "outputs": [],
   "source": [
    "Home_275[\"Rating\"] = 5"
   ]
  },
  {
   "cell_type": "code",
   "execution_count": 281,
   "metadata": {},
   "outputs": [
    {
     "data": {
      "text/html": [
       "<div>\n",
       "<style scoped>\n",
       "    .dataframe tbody tr th:only-of-type {\n",
       "        vertical-align: middle;\n",
       "    }\n",
       "\n",
       "    .dataframe tbody tr th {\n",
       "        vertical-align: top;\n",
       "    }\n",
       "\n",
       "    .dataframe thead th {\n",
       "        text-align: right;\n",
       "    }\n",
       "</style>\n",
       "<table border=\"1\" class=\"dataframe\">\n",
       "  <thead>\n",
       "    <tr style=\"text-align: right;\">\n",
       "      <th></th>\n",
       "      <th>Review</th>\n",
       "      <th>Rating</th>\n",
       "    </tr>\n",
       "  </thead>\n",
       "  <tbody>\n",
       "    <tr>\n",
       "      <th>0</th>\n",
       "      <td>2nd time buy it. Bass very good\\nLast time cos...</td>\n",
       "      <td>5</td>\n",
       "    </tr>\n",
       "    <tr>\n",
       "      <th>1</th>\n",
       "      <td>Awesome sound quality and bass value for money..</td>\n",
       "      <td>5</td>\n",
       "    </tr>\n",
       "    <tr>\n",
       "      <th>2</th>\n",
       "      <td>Nice product.. worth for 💰</td>\n",
       "      <td>5</td>\n",
       "    </tr>\n",
       "    <tr>\n",
       "      <th>3</th>\n",
       "      <td>Zebronics has always been making supremely goo...</td>\n",
       "      <td>5</td>\n",
       "    </tr>\n",
       "    <tr>\n",
       "      <th>4</th>\n",
       "      <td>Haven't used the remote yet but it is perfect ...</td>\n",
       "      <td>5</td>\n",
       "    </tr>\n",
       "  </tbody>\n",
       "</table>\n",
       "</div>"
      ],
      "text/plain": [
       "                                              Review  Rating\n",
       "0  2nd time buy it. Bass very good\\nLast time cos...       5\n",
       "1   Awesome sound quality and bass value for money..       5\n",
       "2                         Nice product.. worth for 💰       5\n",
       "3  Zebronics has always been making supremely goo...       5\n",
       "4  Haven't used the remote yet but it is perfect ...       5"
      ]
     },
     "execution_count": 281,
     "metadata": {},
     "output_type": "execute_result"
    }
   ],
   "source": [
    "Home_275.head()"
   ]
  },
  {
   "cell_type": "code",
   "execution_count": 282,
   "metadata": {},
   "outputs": [],
   "source": [
    "Home_275.to_csv(\"Home_275\")"
   ]
  },
  {
   "cell_type": "markdown",
   "metadata": {},
   "source": [
    "## Routers"
   ]
  },
  {
   "cell_type": "code",
   "execution_count": 283,
   "metadata": {},
   "outputs": [],
   "source": [
    "# URL of the website \n",
    "url = \"https://www.amazon.in/\""
   ]
  },
  {
   "cell_type": "code",
   "execution_count": 284,
   "metadata": {},
   "outputs": [],
   "source": [
    "driver.get(url)"
   ]
  },
  {
   "cell_type": "code",
   "execution_count": 285,
   "metadata": {},
   "outputs": [],
   "source": [
    "# targeting the search text box\n",
    "sesrch_query = driver.find_element_by_id(\"twotabsearchtextbox\")"
   ]
  },
  {
   "cell_type": "code",
   "execution_count": 286,
   "metadata": {},
   "outputs": [],
   "source": [
    "# searching Laptops\n",
    "sesrch_query.send_keys(\"Routers\")"
   ]
  },
  {
   "cell_type": "code",
   "execution_count": 287,
   "metadata": {},
   "outputs": [],
   "source": [
    "search_btn = driver.find_element_by_id(\"nav-search-submit-button\")\n",
    "\n",
    "search_btn.click()"
   ]
  },
  {
   "cell_type": "code",
   "execution_count": 291,
   "metadata": {},
   "outputs": [],
   "source": [
    "# Collecting url's for first 3 pages\n",
    "urls = []\n",
    "\n",
    "base_url = \"https://www.amazon.in/s?k=Routers&page={}&qid=1627558471&ref=sr_pg_{}\"\n",
    "\n",
    "for i in range(4,9):\n",
    "    \n",
    "    driver.get(base_url.format(i,i))\n",
    "    \n",
    "    for url in driver.find_elements_by_xpath(\"//h2[@class='a-size-mini a-spacing-none a-color-base s-line-clamp-2']//a\"):\n",
    "        \n",
    "        urls.append(url.get_attribute(\"href\"))"
   ]
  },
  {
   "cell_type": "code",
   "execution_count": 293,
   "metadata": {},
   "outputs": [],
   "source": [
    "Reviewes_5 = []\n",
    "\n",
    "for link in urls:\n",
    "    \n",
    "    driver.get(link)\n",
    "    \n",
    "    try:\n",
    "        \n",
    "        cust_rev_5 = driver.find_element_by_css_selector('#histogramTable > tbody > tr:nth-child(1) > td.aok-nowrap > span.a-size-base > a')\n",
    "    \n",
    "        rev_5 = cust_rev_5.get_attribute(\"href\")\n",
    "    \n",
    "        driver.get(rev_5)\n",
    "        \n",
    "        for i in driver.find_elements_by_xpath(\"//span[@class='a-size-base review-text review-text-content']\"):\n",
    "            \n",
    "            Reviewes_5.append(i.text)\n",
    "            \n",
    "            \n",
    "    except NoSuchElementException:\n",
    "        \n",
    "        Reviewes_5.append(\"-\")"
   ]
  },
  {
   "cell_type": "code",
   "execution_count": 295,
   "metadata": {},
   "outputs": [
    {
     "data": {
      "text/plain": [
       "619"
      ]
     },
     "execution_count": 295,
     "metadata": {},
     "output_type": "execute_result"
    }
   ],
   "source": [
    "Reviewes_5_f = []\n",
    "\n",
    "for i in Reviewes_5:\n",
    "    \n",
    "    if i != \"-\":\n",
    "        \n",
    "        Reviewes_5_f.append(i)\n",
    "        \n",
    "    else:\n",
    "        \n",
    "        pass"
   ]
  },
  {
   "cell_type": "code",
   "execution_count": 302,
   "metadata": {},
   "outputs": [],
   "source": [
    "Reviewes_5  = Reviewes_5[:275]"
   ]
  },
  {
   "cell_type": "code",
   "execution_count": 304,
   "metadata": {},
   "outputs": [],
   "source": [
    "Reviewes_5 = pd.DataFrame(Reviewes_5,columns=[\"Review\"])"
   ]
  },
  {
   "cell_type": "code",
   "execution_count": 306,
   "metadata": {},
   "outputs": [],
   "source": [
    "Reviewes_5[\"Rating\"] = 5"
   ]
  },
  {
   "cell_type": "code",
   "execution_count": 308,
   "metadata": {},
   "outputs": [],
   "source": [
    "Router_275 = Reviewes_5"
   ]
  },
  {
   "cell_type": "code",
   "execution_count": 310,
   "metadata": {},
   "outputs": [
    {
     "data": {
      "text/plain": [
       "(275, 2)"
      ]
     },
     "execution_count": 310,
     "metadata": {},
     "output_type": "execute_result"
    }
   ],
   "source": [
    "Router_275.shape"
   ]
  },
  {
   "cell_type": "code",
   "execution_count": 311,
   "metadata": {},
   "outputs": [],
   "source": [
    "Router_275.to_csv(\"Router_275\")"
   ]
  },
  {
   "cell_type": "markdown",
   "metadata": {},
   "source": [
    "## 4 Ratings"
   ]
  },
  {
   "cell_type": "code",
   "execution_count": 312,
   "metadata": {},
   "outputs": [],
   "source": [
    "# URL of the website \n",
    "url = \"https://www.amazon.in/\"\n",
    "\n",
    "driver.get(url)"
   ]
  },
  {
   "cell_type": "code",
   "execution_count": 313,
   "metadata": {},
   "outputs": [],
   "source": [
    "# targeting the search text box\n",
    "sesrch_query = driver.find_element_by_id(\"twotabsearchtextbox\")"
   ]
  },
  {
   "cell_type": "code",
   "execution_count": 314,
   "metadata": {},
   "outputs": [],
   "source": [
    "# searching Laptops\n",
    "sesrch_query.send_keys(\"Laptops\")"
   ]
  },
  {
   "cell_type": "code",
   "execution_count": 315,
   "metadata": {},
   "outputs": [],
   "source": [
    "search_btn = driver.find_element_by_id(\"nav-search-submit-button\")\n",
    "\n",
    "search_btn.click()"
   ]
  },
  {
   "cell_type": "code",
   "execution_count": 318,
   "metadata": {},
   "outputs": [],
   "source": [
    "# Collecting url's for first 3 pages\n",
    "urls = []\n",
    "\n",
    "base_url = \"https://www.amazon.in/s?k=Laptops&page={}&qid=1627559975&ref=sr_pg_{}\"\n",
    "\n",
    "for i in range(4,10):\n",
    "    \n",
    "    driver.get(base_url.format(i,i))\n",
    "    \n",
    "    for url in driver.find_elements_by_xpath(\"//h2[@class='a-size-mini a-spacing-none a-color-base s-line-clamp-2']//a\"):\n",
    "        \n",
    "        urls.append(url.get_attribute(\"href\"))"
   ]
  },
  {
   "cell_type": "code",
   "execution_count": 320,
   "metadata": {},
   "outputs": [],
   "source": [
    "Reviewes_4 = []\n",
    "\n",
    "for link in urls:\n",
    "    \n",
    "    driver.get(link)\n",
    "    \n",
    "    try:\n",
    "        \n",
    "        cust_rev_5 = driver.find_element_by_css_selector('#histogramTable > tbody > tr:nth-child(2) > td.aok-nowrap > span.a-size-base > a')\n",
    "    \n",
    "        rev_5 = cust_rev_5.get_attribute(\"href\")\n",
    "    \n",
    "        driver.get(rev_5)\n",
    "        \n",
    "        for i in driver.find_elements_by_xpath(\"//span[@class='a-size-base review-text review-text-content']\"):\n",
    "            \n",
    "            Reviewes_4.append(i.text)\n",
    "            \n",
    "            \n",
    "    except NoSuchElementException:\n",
    "        \n",
    "        Reviewes_4.append(\"-\")"
   ]
  },
  {
   "cell_type": "code",
   "execution_count": 322,
   "metadata": {},
   "outputs": [
    {
     "data": {
      "text/plain": [
       "503"
      ]
     },
     "execution_count": 322,
     "metadata": {},
     "output_type": "execute_result"
    }
   ],
   "source": [
    "len(Reviewes_4)"
   ]
  },
  {
   "cell_type": "code",
   "execution_count": 326,
   "metadata": {},
   "outputs": [],
   "source": [
    "Reviewes_4_f = []\n",
    "\n",
    "for i in Reviewes_4:\n",
    "    \n",
    "    if i != \"-\":\n",
    "        \n",
    "        Reviewes_4_f.append(i)\n",
    "        \n",
    "    else:\n",
    "        \n",
    "        pass"
   ]
  },
  {
   "cell_type": "code",
   "execution_count": 328,
   "metadata": {},
   "outputs": [],
   "source": [
    "Reviewes_4_f = Reviewes_4_f[:305]"
   ]
  },
  {
   "cell_type": "code",
   "execution_count": 330,
   "metadata": {},
   "outputs": [],
   "source": [
    "Laptop_305 = pd.DataFrame(Reviewes_4_f,columns=[\"Review\"]) "
   ]
  },
  {
   "cell_type": "code",
   "execution_count": 331,
   "metadata": {},
   "outputs": [],
   "source": [
    "Laptop_305[\"Rating\"] = 4"
   ]
  },
  {
   "cell_type": "code",
   "execution_count": 332,
   "metadata": {},
   "outputs": [
    {
     "data": {
      "text/html": [
       "<div>\n",
       "<style scoped>\n",
       "    .dataframe tbody tr th:only-of-type {\n",
       "        vertical-align: middle;\n",
       "    }\n",
       "\n",
       "    .dataframe tbody tr th {\n",
       "        vertical-align: top;\n",
       "    }\n",
       "\n",
       "    .dataframe thead th {\n",
       "        text-align: right;\n",
       "    }\n",
       "</style>\n",
       "<table border=\"1\" class=\"dataframe\">\n",
       "  <thead>\n",
       "    <tr style=\"text-align: right;\">\n",
       "      <th></th>\n",
       "      <th>Review</th>\n",
       "      <th>Rating</th>\n",
       "    </tr>\n",
       "  </thead>\n",
       "  <tbody>\n",
       "    <tr>\n",
       "      <th>0</th>\n",
       "      <td>With-in two weeks keyboard backlight not worki...</td>\n",
       "      <td>4</td>\n",
       "    </tr>\n",
       "    <tr>\n",
       "      <th>1</th>\n",
       "      <td>Looks yummy very light. Has USB charging port ...</td>\n",
       "      <td>4</td>\n",
       "    </tr>\n",
       "    <tr>\n",
       "      <th>2</th>\n",
       "      <td>Battery Life 4/5\\nSound 3/5\\nSpeed 5/5\\nGaming...</td>\n",
       "      <td>4</td>\n",
       "    </tr>\n",
       "    <tr>\n",
       "      <th>3</th>\n",
       "      <td>Good Configurations with 11th Gen, Core i7.\\nN...</td>\n",
       "      <td>4</td>\n",
       "    </tr>\n",
       "    <tr>\n",
       "      <th>4</th>\n",
       "      <td>the machine is super fast. 16GB LPDDR4X ram is...</td>\n",
       "      <td>4</td>\n",
       "    </tr>\n",
       "  </tbody>\n",
       "</table>\n",
       "</div>"
      ],
      "text/plain": [
       "                                              Review  Rating\n",
       "0  With-in two weeks keyboard backlight not worki...       4\n",
       "1  Looks yummy very light. Has USB charging port ...       4\n",
       "2  Battery Life 4/5\\nSound 3/5\\nSpeed 5/5\\nGaming...       4\n",
       "3  Good Configurations with 11th Gen, Core i7.\\nN...       4\n",
       "4  the machine is super fast. 16GB LPDDR4X ram is...       4"
      ]
     },
     "execution_count": 332,
     "metadata": {},
     "output_type": "execute_result"
    }
   ],
   "source": [
    "Laptop_305.head()"
   ]
  },
  {
   "cell_type": "code",
   "execution_count": 333,
   "metadata": {},
   "outputs": [],
   "source": [
    "Laptop_305.to_csv(\"Laptop_305\")"
   ]
  },
  {
   "cell_type": "markdown",
   "metadata": {},
   "source": [
    "## 4 Star phones "
   ]
  },
  {
   "cell_type": "code",
   "execution_count": 334,
   "metadata": {},
   "outputs": [],
   "source": [
    "# URL of the website \n",
    "url = \"https://www.amazon.in/\"\n",
    "\n",
    "driver.get(url)"
   ]
  },
  {
   "cell_type": "code",
   "execution_count": 335,
   "metadata": {},
   "outputs": [],
   "source": [
    "# targeting the search text box\n",
    "sesrch_query = driver.find_element_by_id(\"twotabsearchtextbox\")"
   ]
  },
  {
   "cell_type": "code",
   "execution_count": 336,
   "metadata": {},
   "outputs": [],
   "source": [
    "# searching Laptops\n",
    "sesrch_query.send_keys(\"Phones\")"
   ]
  },
  {
   "cell_type": "code",
   "execution_count": 337,
   "metadata": {},
   "outputs": [],
   "source": [
    "search_btn = driver.find_element_by_id(\"nav-search-submit-button\")\n",
    "\n",
    "search_btn.click()"
   ]
  },
  {
   "cell_type": "code",
   "execution_count": 338,
   "metadata": {},
   "outputs": [],
   "source": [
    "# Collecting url's for first 3 pages\n",
    "urls = []\n",
    "\n",
    "base_url = \"https://www.amazon.in/s?k=Phones&page={}&qid=1627561976&ref=sr_pg_{}\"\n",
    "\n",
    "for i in range(4,10):\n",
    "    \n",
    "    driver.get(base_url.format(i,i))\n",
    "    \n",
    "    for url in driver.find_elements_by_xpath(\"//h2[@class='a-size-mini a-spacing-none a-color-base s-line-clamp-2']//a\"):\n",
    "        \n",
    "        urls.append(url.get_attribute(\"href\"))"
   ]
  },
  {
   "cell_type": "code",
   "execution_count": 341,
   "metadata": {},
   "outputs": [],
   "source": [
    "Reviewes_4 = []\n",
    "\n",
    "for link in urls:\n",
    "    \n",
    "    driver.get(link)\n",
    "    \n",
    "    try:\n",
    "        \n",
    "        cust_rev_5 = driver.find_element_by_css_selector('#histogramTable > tbody > tr:nth-child(2) > td.aok-nowrap > span.a-size-base > a')\n",
    "    \n",
    "        rev_5 = cust_rev_5.get_attribute(\"href\")\n",
    "    \n",
    "        driver.get(rev_5)\n",
    "        \n",
    "        for i in driver.find_elements_by_xpath(\"//span[@class='a-size-base review-text review-text-content']\"):\n",
    "            \n",
    "            Reviewes_4.append(i.text)\n",
    "            \n",
    "            \n",
    "    except NoSuchElementException:\n",
    "        \n",
    "        Reviewes_4.append(\"-\")"
   ]
  },
  {
   "cell_type": "code",
   "execution_count": 343,
   "metadata": {},
   "outputs": [],
   "source": [
    "Reviewes_4_f = []\n",
    "\n",
    "for i in Reviewes_4:\n",
    "    \n",
    "    if i != \"-\":\n",
    "        \n",
    "        Reviewes_4_f.append(i)\n",
    "        \n",
    "    else:\n",
    "        \n",
    "        pass"
   ]
  },
  {
   "cell_type": "code",
   "execution_count": 346,
   "metadata": {},
   "outputs": [],
   "source": [
    "Reviewes_4_f = Reviewes_4_f[:305]"
   ]
  },
  {
   "cell_type": "code",
   "execution_count": 347,
   "metadata": {},
   "outputs": [],
   "source": [
    "Phones_305 = pd.DataFrame(Reviewes_4_f,columns=[\"Review\"]) "
   ]
  },
  {
   "cell_type": "code",
   "execution_count": 350,
   "metadata": {},
   "outputs": [],
   "source": [
    "Phones_305[\"Rating\"] = 4"
   ]
  },
  {
   "cell_type": "code",
   "execution_count": 351,
   "metadata": {},
   "outputs": [
    {
     "data": {
      "text/html": [
       "<div>\n",
       "<style scoped>\n",
       "    .dataframe tbody tr th:only-of-type {\n",
       "        vertical-align: middle;\n",
       "    }\n",
       "\n",
       "    .dataframe tbody tr th {\n",
       "        vertical-align: top;\n",
       "    }\n",
       "\n",
       "    .dataframe thead th {\n",
       "        text-align: right;\n",
       "    }\n",
       "</style>\n",
       "<table border=\"1\" class=\"dataframe\">\n",
       "  <thead>\n",
       "    <tr style=\"text-align: right;\">\n",
       "      <th></th>\n",
       "      <th>Review</th>\n",
       "      <th>Rating</th>\n",
       "    </tr>\n",
       "  </thead>\n",
       "  <tbody>\n",
       "    <tr>\n",
       "      <th>0</th>\n",
       "      <td>Worth for money . It's already one year no tro...</td>\n",
       "      <td>4</td>\n",
       "    </tr>\n",
       "    <tr>\n",
       "      <th>1</th>\n",
       "      <td>Pros:\\nStock android\\nDecent battery life\\nGoo...</td>\n",
       "      <td>4</td>\n",
       "    </tr>\n",
       "    <tr>\n",
       "      <th>2</th>\n",
       "      <td>Good phone\\nGifted to my maids kid who is havi...</td>\n",
       "      <td>4</td>\n",
       "    </tr>\n",
       "    <tr>\n",
       "      <th>3</th>\n",
       "      <td>Good one ..expecteed one ...😍 Thank You Amazon...</td>\n",
       "      <td>4</td>\n",
       "    </tr>\n",
       "    <tr>\n",
       "      <th>4</th>\n",
       "      <td>I like NOKIA company but this product is not i...</td>\n",
       "      <td>4</td>\n",
       "    </tr>\n",
       "  </tbody>\n",
       "</table>\n",
       "</div>"
      ],
      "text/plain": [
       "                                              Review  Rating\n",
       "0  Worth for money . It's already one year no tro...       4\n",
       "1  Pros:\\nStock android\\nDecent battery life\\nGoo...       4\n",
       "2  Good phone\\nGifted to my maids kid who is havi...       4\n",
       "3  Good one ..expecteed one ...😍 Thank You Amazon...       4\n",
       "4  I like NOKIA company but this product is not i...       4"
      ]
     },
     "execution_count": 351,
     "metadata": {},
     "output_type": "execute_result"
    }
   ],
   "source": [
    "Phones_305.head()"
   ]
  },
  {
   "cell_type": "code",
   "execution_count": 352,
   "metadata": {},
   "outputs": [],
   "source": [
    "Phones_305.to_csv(\"Phones_305\")"
   ]
  },
  {
   "cell_type": "markdown",
   "metadata": {},
   "source": [
    "### Headphones"
   ]
  },
  {
   "cell_type": "code",
   "execution_count": 151,
   "metadata": {},
   "outputs": [],
   "source": [
    "# URL of the website \n",
    "url = \"https://www.amazon.in/\""
   ]
  },
  {
   "cell_type": "code",
   "execution_count": 152,
   "metadata": {},
   "outputs": [],
   "source": [
    "driver.get(url)"
   ]
  },
  {
   "cell_type": "code",
   "execution_count": 153,
   "metadata": {},
   "outputs": [],
   "source": [
    "# targeting the search text box\n",
    "sesrch_query = driver.find_element_by_id(\"twotabsearchtextbox\")"
   ]
  },
  {
   "cell_type": "code",
   "execution_count": 154,
   "metadata": {},
   "outputs": [],
   "source": [
    "# searching Laptops\n",
    "sesrch_query.send_keys(\"Headphones\")"
   ]
  },
  {
   "cell_type": "code",
   "execution_count": 155,
   "metadata": {},
   "outputs": [],
   "source": [
    "search_btn = driver.find_element_by_id(\"nav-search-submit-button\")\n",
    "\n",
    "search_btn.click()"
   ]
  },
  {
   "cell_type": "code",
   "execution_count": 156,
   "metadata": {},
   "outputs": [],
   "source": [
    "# Collecting url's for first 3 pages\n",
    "urls = []\n",
    "\n",
    "base_url = \"https://www.amazon.in/s?k=Headphones&page={}&qid=1627613787&ref=sr_pg_{}\"\n",
    "\n",
    "for i in range(4,10):\n",
    "    \n",
    "    driver.get(base_url.format(i,i))\n",
    "    \n",
    "    for url in driver.find_elements_by_xpath(\"//h2[@class='a-size-mini a-spacing-none a-color-base s-line-clamp-2']//a\"):\n",
    "        \n",
    "        urls.append(url.get_attribute(\"href\"))"
   ]
  },
  {
   "cell_type": "code",
   "execution_count": 157,
   "metadata": {},
   "outputs": [
    {
     "data": {
      "text/plain": [
       "126"
      ]
     },
     "execution_count": 157,
     "metadata": {},
     "output_type": "execute_result"
    }
   ],
   "source": [
    "len(urls)"
   ]
  },
  {
   "cell_type": "code",
   "execution_count": 158,
   "metadata": {},
   "outputs": [],
   "source": [
    "Reviewes_4 = []\n",
    "\n",
    "for link in urls:\n",
    "    \n",
    "    driver.get(link)\n",
    "    \n",
    "    try:\n",
    "        \n",
    "        cust_rev_5 = driver.find_element_by_css_selector('#histogramTable > tbody > tr:nth-child(2) > td.aok-nowrap > span.a-size-base > a')\n",
    "    \n",
    "        rev_5 = cust_rev_5.get_attribute(\"href\")\n",
    "    \n",
    "        driver.get(rev_5)\n",
    "        \n",
    "        for i in driver.find_elements_by_xpath(\"//span[@class='a-size-base review-text review-text-content']\"):\n",
    "            \n",
    "            Reviewes_4.append(i.text)\n",
    "            \n",
    "            \n",
    "    except NoSuchElementException:\n",
    "        \n",
    "        Reviewes_4.append(\"-\")"
   ]
  },
  {
   "cell_type": "code",
   "execution_count": 159,
   "metadata": {},
   "outputs": [
    {
     "data": {
      "text/plain": [
       "856"
      ]
     },
     "execution_count": 159,
     "metadata": {},
     "output_type": "execute_result"
    }
   ],
   "source": [
    "len(Reviewes_4)"
   ]
  },
  {
   "cell_type": "code",
   "execution_count": 160,
   "metadata": {},
   "outputs": [],
   "source": [
    "Reviewes_4_f = []\n",
    "\n",
    "for i in Reviewes_4:\n",
    "    \n",
    "    if i != \"-\":\n",
    "        \n",
    "        Reviewes_4_f.append(i)\n",
    "        \n",
    "    else:\n",
    "        \n",
    "        pass"
   ]
  },
  {
   "cell_type": "code",
   "execution_count": 161,
   "metadata": {},
   "outputs": [],
   "source": [
    "Reviewes_4_f = Reviewes_4_f[:305]"
   ]
  },
  {
   "cell_type": "code",
   "execution_count": 162,
   "metadata": {},
   "outputs": [],
   "source": [
    "Headphones_305 = pd.DataFrame(Reviewes_4_f,columns=[\"Review\"])"
   ]
  },
  {
   "cell_type": "code",
   "execution_count": 163,
   "metadata": {},
   "outputs": [],
   "source": [
    "Headphones_305[\"Rating\"] = 4"
   ]
  },
  {
   "cell_type": "code",
   "execution_count": 164,
   "metadata": {},
   "outputs": [
    {
     "data": {
      "text/html": [
       "<div>\n",
       "<style scoped>\n",
       "    .dataframe tbody tr th:only-of-type {\n",
       "        vertical-align: middle;\n",
       "    }\n",
       "\n",
       "    .dataframe tbody tr th {\n",
       "        vertical-align: top;\n",
       "    }\n",
       "\n",
       "    .dataframe thead th {\n",
       "        text-align: right;\n",
       "    }\n",
       "</style>\n",
       "<table border=\"1\" class=\"dataframe\">\n",
       "  <thead>\n",
       "    <tr style=\"text-align: right;\">\n",
       "      <th></th>\n",
       "      <th>Review</th>\n",
       "      <th>Rating</th>\n",
       "    </tr>\n",
       "  </thead>\n",
       "  <tbody>\n",
       "    <tr>\n",
       "      <th>0</th>\n",
       "      <td>decent looking , good bass ear buds. Good qual...</td>\n",
       "      <td>4</td>\n",
       "    </tr>\n",
       "    <tr>\n",
       "      <th>1</th>\n",
       "      <td>👍very good bass quality.\\nAt this price its mo...</td>\n",
       "      <td>4</td>\n",
       "    </tr>\n",
       "    <tr>\n",
       "      <th>2</th>\n",
       "      <td>Good for the price</td>\n",
       "      <td>4</td>\n",
       "    </tr>\n",
       "    <tr>\n",
       "      <th>3</th>\n",
       "      <td>Good connectivity, Good sound.\\n\\nOnly negativ...</td>\n",
       "      <td>4</td>\n",
       "    </tr>\n",
       "    <tr>\n",
       "      <th>4</th>\n",
       "      <td>a bit cheap build quality and bad trebble and ...</td>\n",
       "      <td>4</td>\n",
       "    </tr>\n",
       "  </tbody>\n",
       "</table>\n",
       "</div>"
      ],
      "text/plain": [
       "                                              Review  Rating\n",
       "0  decent looking , good bass ear buds. Good qual...       4\n",
       "1  👍very good bass quality.\\nAt this price its mo...       4\n",
       "2                                 Good for the price       4\n",
       "3  Good connectivity, Good sound.\\n\\nOnly negativ...       4\n",
       "4  a bit cheap build quality and bad trebble and ...       4"
      ]
     },
     "execution_count": 164,
     "metadata": {},
     "output_type": "execute_result"
    }
   ],
   "source": [
    "Headphones_305.head()"
   ]
  },
  {
   "cell_type": "code",
   "execution_count": 165,
   "metadata": {},
   "outputs": [],
   "source": [
    "Headphones_305.to_csv(\"Headphones_305\")"
   ]
  },
  {
   "cell_type": "markdown",
   "metadata": {},
   "source": [
    "## Smart Watches"
   ]
  },
  {
   "cell_type": "code",
   "execution_count": 25,
   "metadata": {},
   "outputs": [],
   "source": [
    "# URL of the website \n",
    "url = \"https://www.amazon.in/\"\n",
    "\n",
    "driver.get(url)"
   ]
  },
  {
   "cell_type": "code",
   "execution_count": 26,
   "metadata": {},
   "outputs": [],
   "source": [
    "# targeting the search text box\n",
    "sesrch_query = driver.find_element_by_id(\"twotabsearchtextbox\")"
   ]
  },
  {
   "cell_type": "code",
   "execution_count": 27,
   "metadata": {},
   "outputs": [],
   "source": [
    "# searching Laptops\n",
    "sesrch_query.send_keys(\"Smart Watches\")"
   ]
  },
  {
   "cell_type": "code",
   "execution_count": 28,
   "metadata": {},
   "outputs": [],
   "source": [
    "search_btn = driver.find_element_by_id(\"nav-search-submit-button\")\n",
    "\n",
    "search_btn.click()"
   ]
  },
  {
   "cell_type": "code",
   "execution_count": 29,
   "metadata": {},
   "outputs": [],
   "source": [
    "# Collecting url's for first 3 pages\n",
    "urls = []\n",
    "\n",
    "base_url = \"https://www.amazon.in/s?k=Smart+Watches&page={}&qid=1627615887&ref=sr_pg_{}\"\n",
    "\n",
    "for i in range(4,8):\n",
    "    \n",
    "    driver.get(base_url.format(i,i))\n",
    "    \n",
    "    for url in driver.find_elements_by_xpath(\"//h2[@class='a-size-mini a-spacing-none a-color-base s-line-clamp-2']//a\"):\n",
    "        \n",
    "        urls.append(url.get_attribute(\"href\"))"
   ]
  },
  {
   "cell_type": "code",
   "execution_count": 32,
   "metadata": {},
   "outputs": [],
   "source": [
    "Reviewes_4 = []\n",
    "\n",
    "for link in urls:\n",
    "    \n",
    "    driver.get(link)\n",
    "    \n",
    "    try:\n",
    "        \n",
    "        cust_rev_5 = driver.find_element_by_css_selector('#histogramTable > tbody > tr:nth-child(2) > td.aok-nowrap > span.a-size-base > a')\n",
    "    \n",
    "        rev_5 = cust_rev_5.get_attribute(\"href\")\n",
    "    \n",
    "        driver.get(rev_5)\n",
    "        \n",
    "        for i in driver.find_elements_by_xpath(\"//span[@class='a-size-base review-text review-text-content']\"):\n",
    "            \n",
    "            Reviewes_4.append(i.text)\n",
    "            \n",
    "            \n",
    "    except NoSuchElementException:\n",
    "        \n",
    "        Reviewes_4.append(\"-\")"
   ]
  },
  {
   "cell_type": "code",
   "execution_count": 35,
   "metadata": {},
   "outputs": [],
   "source": [
    "Reviewes_4_f = []\n",
    "\n",
    "for i in Reviewes_4:\n",
    "    \n",
    "    if i != \"-\":\n",
    "        \n",
    "        Reviewes_4_f.append(i)\n",
    "        \n",
    "    else:\n",
    "        \n",
    "        pass"
   ]
  },
  {
   "cell_type": "code",
   "execution_count": 37,
   "metadata": {},
   "outputs": [],
   "source": [
    "Reviewes_4_f = Reviewes_4_f[:305]"
   ]
  },
  {
   "cell_type": "code",
   "execution_count": 38,
   "metadata": {},
   "outputs": [],
   "source": [
    "smartWatches_305 = pd.DataFrame(Reviewes_4_f,columns=[\"Review\"]) "
   ]
  },
  {
   "cell_type": "code",
   "execution_count": 39,
   "metadata": {},
   "outputs": [],
   "source": [
    "smartWatches_305[\"Rating\"] = 4"
   ]
  },
  {
   "cell_type": "code",
   "execution_count": 40,
   "metadata": {},
   "outputs": [
    {
     "data": {
      "text/html": [
       "<div>\n",
       "<style scoped>\n",
       "    .dataframe tbody tr th:only-of-type {\n",
       "        vertical-align: middle;\n",
       "    }\n",
       "\n",
       "    .dataframe tbody tr th {\n",
       "        vertical-align: top;\n",
       "    }\n",
       "\n",
       "    .dataframe thead th {\n",
       "        text-align: right;\n",
       "    }\n",
       "</style>\n",
       "<table border=\"1\" class=\"dataframe\">\n",
       "  <thead>\n",
       "    <tr style=\"text-align: right;\">\n",
       "      <th></th>\n",
       "      <th>Review</th>\n",
       "      <th>Rating</th>\n",
       "    </tr>\n",
       "  </thead>\n",
       "  <tbody>\n",
       "    <tr>\n",
       "      <th>0</th>\n",
       "      <td>So, unlike most of the people, I am writing th...</td>\n",
       "      <td>4</td>\n",
       "    </tr>\n",
       "    <tr>\n",
       "      <th>1</th>\n",
       "      <td>Fully satisfied with this product, keeping in ...</td>\n",
       "      <td>4</td>\n",
       "    </tr>\n",
       "    <tr>\n",
       "      <th>2</th>\n",
       "      <td>If you are looking for budget good smart watch...</td>\n",
       "      <td>4</td>\n",
       "    </tr>\n",
       "    <tr>\n",
       "      <th>3</th>\n",
       "      <td>Reviewing after 15 days of use,\\nIts a good sm...</td>\n",
       "      <td>4</td>\n",
       "    </tr>\n",
       "    <tr>\n",
       "      <th>4</th>\n",
       "      <td>I didn't get the charging dock, only the charg...</td>\n",
       "      <td>4</td>\n",
       "    </tr>\n",
       "  </tbody>\n",
       "</table>\n",
       "</div>"
      ],
      "text/plain": [
       "                                              Review  Rating\n",
       "0  So, unlike most of the people, I am writing th...       4\n",
       "1  Fully satisfied with this product, keeping in ...       4\n",
       "2  If you are looking for budget good smart watch...       4\n",
       "3  Reviewing after 15 days of use,\\nIts a good sm...       4\n",
       "4  I didn't get the charging dock, only the charg...       4"
      ]
     },
     "execution_count": 40,
     "metadata": {},
     "output_type": "execute_result"
    }
   ],
   "source": [
    "smartWatches_305.head()"
   ]
  },
  {
   "cell_type": "code",
   "execution_count": 41,
   "metadata": {},
   "outputs": [],
   "source": [
    "smartWatches_305.to_csv(\"smartWatches_305\")"
   ]
  },
  {
   "cell_type": "markdown",
   "metadata": {},
   "source": [
    "### Cameras"
   ]
  },
  {
   "cell_type": "code",
   "execution_count": 42,
   "metadata": {},
   "outputs": [],
   "source": [
    "# URL of the website \n",
    "url = \"https://www.amazon.in/\"\n",
    "\n",
    "driver.get(url)"
   ]
  },
  {
   "cell_type": "code",
   "execution_count": 43,
   "metadata": {},
   "outputs": [],
   "source": [
    "# targeting the search text box\n",
    "sesrch_query = driver.find_element_by_id(\"twotabsearchtextbox\")"
   ]
  },
  {
   "cell_type": "code",
   "execution_count": 44,
   "metadata": {},
   "outputs": [],
   "source": [
    "# searching Laptops\n",
    "sesrch_query.send_keys(\"Cameras Dslr\")"
   ]
  },
  {
   "cell_type": "code",
   "execution_count": 45,
   "metadata": {},
   "outputs": [],
   "source": [
    "search_btn = driver.find_element_by_id(\"nav-search-submit-button\")\n",
    "\n",
    "search_btn.click()"
   ]
  },
  {
   "cell_type": "code",
   "execution_count": 46,
   "metadata": {},
   "outputs": [],
   "source": [
    "# Collecting url's for first 3 pages\n",
    "urls = []\n",
    "\n",
    "base_url = \"https://www.amazon.in/s?k=Cameras+Dslr&page=2&qid=1627617166&ref=sr_pg_2\"\n",
    "\n",
    "for i in range(4,8):\n",
    "    \n",
    "    driver.get(base_url.format(i,i))\n",
    "    \n",
    "    for url in driver.find_elements_by_xpath(\"//h2[@class='a-size-mini a-spacing-none a-color-base s-line-clamp-2']//a\"):\n",
    "        \n",
    "        urls.append(url.get_attribute(\"href\"))"
   ]
  },
  {
   "cell_type": "code",
   "execution_count": 50,
   "metadata": {},
   "outputs": [],
   "source": [
    "Reviewes_4 = []\n",
    "\n",
    "for link in urls:\n",
    "    \n",
    "    driver.get(link)\n",
    "    \n",
    "    try:\n",
    "        \n",
    "        cust_rev_5 = driver.find_element_by_css_selector('#histogramTable > tbody > tr:nth-child(2) > td.aok-nowrap > span.a-size-base > a')\n",
    "    \n",
    "        rev_5 = cust_rev_5.get_attribute(\"href\")\n",
    "    \n",
    "        driver.get(rev_5)\n",
    "        \n",
    "        for i in driver.find_elements_by_xpath(\"//span[@class='a-size-base review-text review-text-content']\"):\n",
    "            \n",
    "            Reviewes_4.append(i.text)\n",
    "            \n",
    "            \n",
    "    except NoSuchElementException:\n",
    "        \n",
    "        Reviewes_4.append(\"-\")"
   ]
  },
  {
   "cell_type": "code",
   "execution_count": 52,
   "metadata": {},
   "outputs": [],
   "source": [
    "Reviewes_4_f = []\n",
    "\n",
    "for i in Reviewes_4:\n",
    "    \n",
    "    if i != \"-\":\n",
    "        \n",
    "        Reviewes_4_f.append(i)\n",
    "        \n",
    "    else:\n",
    "        \n",
    "        pass"
   ]
  },
  {
   "cell_type": "code",
   "execution_count": 54,
   "metadata": {},
   "outputs": [],
   "source": [
    "Reviewes_4_f = Reviewes_4_f[:305]"
   ]
  },
  {
   "cell_type": "code",
   "execution_count": 55,
   "metadata": {},
   "outputs": [],
   "source": [
    "Cameras_305 = pd.DataFrame(Reviewes_4_f,columns=[\"Review\"]) "
   ]
  },
  {
   "cell_type": "code",
   "execution_count": 56,
   "metadata": {},
   "outputs": [],
   "source": [
    "Cameras_305[\"Rating\"] = 4"
   ]
  },
  {
   "cell_type": "code",
   "execution_count": 57,
   "metadata": {},
   "outputs": [
    {
     "data": {
      "text/html": [
       "<div>\n",
       "<style scoped>\n",
       "    .dataframe tbody tr th:only-of-type {\n",
       "        vertical-align: middle;\n",
       "    }\n",
       "\n",
       "    .dataframe tbody tr th {\n",
       "        vertical-align: top;\n",
       "    }\n",
       "\n",
       "    .dataframe thead th {\n",
       "        text-align: right;\n",
       "    }\n",
       "</style>\n",
       "<table border=\"1\" class=\"dataframe\">\n",
       "  <thead>\n",
       "    <tr style=\"text-align: right;\">\n",
       "      <th></th>\n",
       "      <th>Review</th>\n",
       "      <th>Rating</th>\n",
       "    </tr>\n",
       "  </thead>\n",
       "  <tbody>\n",
       "    <tr>\n",
       "      <th>0</th>\n",
       "      <td>I was sceptical about the product because no o...</td>\n",
       "      <td>4</td>\n",
       "    </tr>\n",
       "    <tr>\n",
       "      <th>1</th>\n",
       "      <td>The picture sheets are for fancy purposes but ...</td>\n",
       "      <td>4</td>\n",
       "    </tr>\n",
       "    <tr>\n",
       "      <th>2</th>\n",
       "      <td>Thank god I got the film which will expire on ...</td>\n",
       "      <td>4</td>\n",
       "    </tr>\n",
       "    <tr>\n",
       "      <th>3</th>\n",
       "      <td>As of now it is easy to use and a good buy, bt...</td>\n",
       "      <td>4</td>\n",
       "    </tr>\n",
       "    <tr>\n",
       "      <th>4</th>\n",
       "      <td>Picture size is petit and does the job well. P...</td>\n",
       "      <td>4</td>\n",
       "    </tr>\n",
       "  </tbody>\n",
       "</table>\n",
       "</div>"
      ],
      "text/plain": [
       "                                              Review  Rating\n",
       "0  I was sceptical about the product because no o...       4\n",
       "1  The picture sheets are for fancy purposes but ...       4\n",
       "2  Thank god I got the film which will expire on ...       4\n",
       "3  As of now it is easy to use and a good buy, bt...       4\n",
       "4  Picture size is petit and does the job well. P...       4"
      ]
     },
     "execution_count": 57,
     "metadata": {},
     "output_type": "execute_result"
    }
   ],
   "source": [
    "Cameras_305.head()"
   ]
  },
  {
   "cell_type": "code",
   "execution_count": 58,
   "metadata": {},
   "outputs": [],
   "source": [
    "Cameras_305.to_csv(\"Cameras_305\")"
   ]
  },
  {
   "cell_type": "markdown",
   "metadata": {},
   "source": [
    "## Printers"
   ]
  },
  {
   "cell_type": "code",
   "execution_count": 59,
   "metadata": {},
   "outputs": [],
   "source": [
    "# URL of the website \n",
    "url = \"https://www.amazon.in/\"\n",
    "\n",
    "driver.get(url)"
   ]
  },
  {
   "cell_type": "code",
   "execution_count": 60,
   "metadata": {},
   "outputs": [],
   "source": [
    "# targeting the search text box\n",
    "sesrch_query = driver.find_element_by_id(\"twotabsearchtextbox\")\n",
    "\n",
    "\n",
    "# searching Laptops\n",
    "sesrch_query.send_keys(\"Printers\")"
   ]
  },
  {
   "cell_type": "code",
   "execution_count": 61,
   "metadata": {},
   "outputs": [],
   "source": [
    "search_btn = driver.find_element_by_id(\"nav-search-submit-button\")\n",
    "\n",
    "search_btn.click()"
   ]
  },
  {
   "cell_type": "code",
   "execution_count": 67,
   "metadata": {},
   "outputs": [],
   "source": [
    "# Collecting url's for first 3 pages\n",
    "urls = []\n",
    "\n",
    "base_url = \"https://www.amazon.in/s?k=Printers&page={}&qid=1627618328&ref=sr_pg_{}\"\n",
    "\n",
    "for i in range(4,12):\n",
    "    \n",
    "    driver.get(base_url.format(i,i))\n",
    "    \n",
    "    for url in driver.find_elements_by_xpath(\"//h2[@class='a-size-mini a-spacing-none a-color-base s-line-clamp-2']//a\"):\n",
    "        \n",
    "        urls.append(url.get_attribute(\"href\"))"
   ]
  },
  {
   "cell_type": "code",
   "execution_count": 69,
   "metadata": {},
   "outputs": [],
   "source": [
    "Reviewes_4 = []\n",
    "\n",
    "for link in urls:\n",
    "    \n",
    "    driver.get(link)\n",
    "    \n",
    "    try:\n",
    "        \n",
    "        cust_rev_5 = driver.find_element_by_css_selector('#histogramTable > tbody > tr:nth-child(2) > td.aok-nowrap > span.a-size-base > a')\n",
    "    \n",
    "        rev_5 = cust_rev_5.get_attribute(\"href\")\n",
    "    \n",
    "        driver.get(rev_5)\n",
    "        \n",
    "        for i in driver.find_elements_by_xpath(\"//span[@class='a-size-base review-text review-text-content']\"):\n",
    "            \n",
    "            Reviewes_4.append(i.text)\n",
    "            \n",
    "            \n",
    "    except NoSuchElementException:\n",
    "        \n",
    "        Reviewes_4.append(\"-\")"
   ]
  },
  {
   "cell_type": "code",
   "execution_count": 71,
   "metadata": {},
   "outputs": [],
   "source": [
    "Reviewes_4_f = []\n",
    "\n",
    "for i in Reviewes_4:\n",
    "    \n",
    "    if i != \"-\":\n",
    "        \n",
    "        Reviewes_4_f.append(i)\n",
    "        \n",
    "    else:\n",
    "        \n",
    "        pass"
   ]
  },
  {
   "cell_type": "code",
   "execution_count": 73,
   "metadata": {},
   "outputs": [],
   "source": [
    "Reviewes_4_f = Reviewes_4_f[:305]"
   ]
  },
  {
   "cell_type": "code",
   "execution_count": 74,
   "metadata": {},
   "outputs": [],
   "source": [
    "Printers_305 = pd.DataFrame(Reviewes_4_f,columns=[\"Review\"])"
   ]
  },
  {
   "cell_type": "code",
   "execution_count": 75,
   "metadata": {},
   "outputs": [],
   "source": [
    "Printers_305[\"Rating\"] = 4"
   ]
  },
  {
   "cell_type": "code",
   "execution_count": 76,
   "metadata": {},
   "outputs": [
    {
     "data": {
      "text/html": [
       "<div>\n",
       "<style scoped>\n",
       "    .dataframe tbody tr th:only-of-type {\n",
       "        vertical-align: middle;\n",
       "    }\n",
       "\n",
       "    .dataframe tbody tr th {\n",
       "        vertical-align: top;\n",
       "    }\n",
       "\n",
       "    .dataframe thead th {\n",
       "        text-align: right;\n",
       "    }\n",
       "</style>\n",
       "<table border=\"1\" class=\"dataframe\">\n",
       "  <thead>\n",
       "    <tr style=\"text-align: right;\">\n",
       "      <th></th>\n",
       "      <th>Review</th>\n",
       "      <th>Rating</th>\n",
       "    </tr>\n",
       "  </thead>\n",
       "  <tbody>\n",
       "    <tr>\n",
       "      <th>0</th>\n",
       "      <td>Doesn't comes with WiFi or usb, Bought by mist...</td>\n",
       "      <td>4</td>\n",
       "    </tr>\n",
       "    <tr>\n",
       "      <th>1</th>\n",
       "      <td>Best Multifunction printer very easy to use\\nG...</td>\n",
       "      <td>4</td>\n",
       "    </tr>\n",
       "    <tr>\n",
       "      <th>2</th>\n",
       "      <td>Its good buy, however, with every print, my on...</td>\n",
       "      <td>4</td>\n",
       "    </tr>\n",
       "    <tr>\n",
       "      <th>3</th>\n",
       "      <td>It is very useful. It is easy to print. I love it</td>\n",
       "      <td>4</td>\n",
       "    </tr>\n",
       "    <tr>\n",
       "      <th>4</th>\n",
       "      <td>I bought this printer recently and I found thi...</td>\n",
       "      <td>4</td>\n",
       "    </tr>\n",
       "  </tbody>\n",
       "</table>\n",
       "</div>"
      ],
      "text/plain": [
       "                                              Review  Rating\n",
       "0  Doesn't comes with WiFi or usb, Bought by mist...       4\n",
       "1  Best Multifunction printer very easy to use\\nG...       4\n",
       "2  Its good buy, however, with every print, my on...       4\n",
       "3  It is very useful. It is easy to print. I love it       4\n",
       "4  I bought this printer recently and I found thi...       4"
      ]
     },
     "execution_count": 76,
     "metadata": {},
     "output_type": "execute_result"
    }
   ],
   "source": [
    "Printers_305.head()"
   ]
  },
  {
   "cell_type": "code",
   "execution_count": 77,
   "metadata": {},
   "outputs": [],
   "source": [
    "Printers_305.to_csv(\"Printers_305\")"
   ]
  },
  {
   "cell_type": "markdown",
   "metadata": {},
   "source": [
    "### Moniters"
   ]
  },
  {
   "cell_type": "code",
   "execution_count": 78,
   "metadata": {},
   "outputs": [],
   "source": [
    "# URL of the website \n",
    "url = \"https://www.amazon.in/\"\n",
    "\n",
    "driver.get(url)"
   ]
  },
  {
   "cell_type": "code",
   "execution_count": 79,
   "metadata": {},
   "outputs": [],
   "source": [
    "# targeting the search text box\n",
    "sesrch_query = driver.find_element_by_id(\"twotabsearchtextbox\")\n",
    "\n",
    "\n",
    "# searching Laptops\n",
    "sesrch_query.send_keys(\"Moniters\")"
   ]
  },
  {
   "cell_type": "code",
   "execution_count": 80,
   "metadata": {},
   "outputs": [],
   "source": [
    "search_btn = driver.find_element_by_id(\"nav-search-submit-button\")\n",
    "\n",
    "search_btn.click()"
   ]
  },
  {
   "cell_type": "code",
   "execution_count": 81,
   "metadata": {},
   "outputs": [],
   "source": [
    "# Collecting url's for first 3 pages\n",
    "urls = []\n",
    "\n",
    "base_url = \"https://www.amazon.in/s?k=monitors&page={}&qid=1627621089&ref=sr_pg_{}\"\n",
    "\n",
    "for i in range(4,10):\n",
    "    \n",
    "    driver.get(base_url.format(i,i))\n",
    "    \n",
    "    for url in driver.find_elements_by_xpath(\"//h2[@class='a-size-mini a-spacing-none a-color-base s-line-clamp-2']//a\"):\n",
    "        \n",
    "        urls.append(url.get_attribute(\"href\"))"
   ]
  },
  {
   "cell_type": "code",
   "execution_count": 83,
   "metadata": {},
   "outputs": [],
   "source": [
    "Reviewes_4 = []\n",
    "\n",
    "for link in urls:\n",
    "    \n",
    "    driver.get(link)\n",
    "    \n",
    "    try:\n",
    "        \n",
    "        cust_rev_5 = driver.find_element_by_css_selector('#histogramTable > tbody > tr:nth-child(2) > td.aok-nowrap > span.a-size-base > a')\n",
    "    \n",
    "        rev_5 = cust_rev_5.get_attribute(\"href\")\n",
    "    \n",
    "        driver.get(rev_5)\n",
    "        \n",
    "        for i in driver.find_elements_by_xpath(\"//span[@class='a-size-base review-text review-text-content']\"):\n",
    "            \n",
    "            Reviewes_4.append(i.text)\n",
    "            \n",
    "            \n",
    "    except NoSuchElementException:\n",
    "        \n",
    "        Reviewes_4.append(\"-\")"
   ]
  },
  {
   "cell_type": "code",
   "execution_count": 85,
   "metadata": {},
   "outputs": [],
   "source": [
    "Reviewes_4_f = []\n",
    "\n",
    "for i in Reviewes_4:\n",
    "    \n",
    "    if i != \"-\":\n",
    "        \n",
    "        Reviewes_4_f.append(i)\n",
    "        \n",
    "    else:\n",
    "        \n",
    "        pass"
   ]
  },
  {
   "cell_type": "code",
   "execution_count": 87,
   "metadata": {},
   "outputs": [],
   "source": [
    "Reviewes_4_f = Reviewes_4_f[:305]"
   ]
  },
  {
   "cell_type": "code",
   "execution_count": 88,
   "metadata": {},
   "outputs": [],
   "source": [
    "Monitors_305 = pd.DataFrame(Reviewes_4_f,columns=[\"Review\"]) "
   ]
  },
  {
   "cell_type": "code",
   "execution_count": 89,
   "metadata": {},
   "outputs": [],
   "source": [
    "Monitors_305[\"Rating\"] = 4"
   ]
  },
  {
   "cell_type": "code",
   "execution_count": 90,
   "metadata": {},
   "outputs": [
    {
     "data": {
      "text/html": [
       "<div>\n",
       "<style scoped>\n",
       "    .dataframe tbody tr th:only-of-type {\n",
       "        vertical-align: middle;\n",
       "    }\n",
       "\n",
       "    .dataframe tbody tr th {\n",
       "        vertical-align: top;\n",
       "    }\n",
       "\n",
       "    .dataframe thead th {\n",
       "        text-align: right;\n",
       "    }\n",
       "</style>\n",
       "<table border=\"1\" class=\"dataframe\">\n",
       "  <thead>\n",
       "    <tr style=\"text-align: right;\">\n",
       "      <th></th>\n",
       "      <th>Review</th>\n",
       "      <th>Rating</th>\n",
       "    </tr>\n",
       "  </thead>\n",
       "  <tbody>\n",
       "    <tr>\n",
       "      <th>0</th>\n",
       "      <td>Let me start by saying this first: This is a g...</td>\n",
       "      <td>4</td>\n",
       "    </tr>\n",
       "    <tr>\n",
       "      <th>1</th>\n",
       "      <td>Packaging was good. Delivery was quick. Make s...</td>\n",
       "      <td>4</td>\n",
       "    </tr>\n",
       "    <tr>\n",
       "      <th>2</th>\n",
       "      <td>The monitor is really good and even the IPS gl...</td>\n",
       "      <td>4</td>\n",
       "    </tr>\n",
       "    <tr>\n",
       "      <th>3</th>\n",
       "      <td>Great Monitor...got this at 22999/- on great i...</td>\n",
       "      <td>4</td>\n",
       "    </tr>\n",
       "    <tr>\n",
       "      <th>4</th>\n",
       "      <td>I'm using this with a Ryzen 3700x and Geforce ...</td>\n",
       "      <td>4</td>\n",
       "    </tr>\n",
       "  </tbody>\n",
       "</table>\n",
       "</div>"
      ],
      "text/plain": [
       "                                              Review  Rating\n",
       "0  Let me start by saying this first: This is a g...       4\n",
       "1  Packaging was good. Delivery was quick. Make s...       4\n",
       "2  The monitor is really good and even the IPS gl...       4\n",
       "3  Great Monitor...got this at 22999/- on great i...       4\n",
       "4  I'm using this with a Ryzen 3700x and Geforce ...       4"
      ]
     },
     "execution_count": 90,
     "metadata": {},
     "output_type": "execute_result"
    }
   ],
   "source": [
    "Monitors_305.head()"
   ]
  },
  {
   "cell_type": "code",
   "execution_count": 91,
   "metadata": {},
   "outputs": [],
   "source": [
    "Monitors_305.to_csv(\"Monitors_305\")"
   ]
  },
  {
   "cell_type": "markdown",
   "metadata": {},
   "source": [
    "### Home theater"
   ]
  },
  {
   "cell_type": "code",
   "execution_count": 92,
   "metadata": {},
   "outputs": [],
   "source": [
    "# URL of the website \n",
    "url = \"https://www.amazon.in/\"\n",
    "\n",
    "driver.get(url)"
   ]
  },
  {
   "cell_type": "code",
   "execution_count": 93,
   "metadata": {},
   "outputs": [],
   "source": [
    "\n",
    "# targeting the search text box\n",
    "sesrch_query = driver.find_element_by_id(\"twotabsearchtextbox\")\n",
    "\n",
    "\n",
    "# searching Laptops\n",
    "sesrch_query.send_keys(\"Home theater\")"
   ]
  },
  {
   "cell_type": "code",
   "execution_count": 94,
   "metadata": {},
   "outputs": [],
   "source": [
    "search_btn = driver.find_element_by_id(\"nav-search-submit-button\")\n",
    "\n",
    "search_btn.click()"
   ]
  },
  {
   "cell_type": "code",
   "execution_count": 95,
   "metadata": {},
   "outputs": [],
   "source": [
    "# Collecting url's for first 3 pages\n",
    "urls = []\n",
    "\n",
    "base_url = \"https://www.amazon.in/s?k=Home+theater&page={}&qid=1627622771&ref=sr_pg_{}\"\n",
    "\n",
    "for i in range(4,12):\n",
    "    \n",
    "    driver.get(base_url.format(i,i))\n",
    "    \n",
    "    for url in driver.find_elements_by_xpath(\"//h2[@class='a-size-mini a-spacing-none a-color-base s-line-clamp-2']//a\"):\n",
    "        \n",
    "        urls.append(url.get_attribute(\"href\"))"
   ]
  },
  {
   "cell_type": "code",
   "execution_count": 97,
   "metadata": {},
   "outputs": [],
   "source": [
    "Reviewes_4 = []\n",
    "\n",
    "for link in urls:\n",
    "    \n",
    "    driver.get(link)\n",
    "    \n",
    "    try:\n",
    "        \n",
    "        cust_rev_5 = driver.find_element_by_css_selector('#histogramTable > tbody > tr:nth-child(2) > td.aok-nowrap > span.a-size-base > a')\n",
    "    \n",
    "        rev_5 = cust_rev_5.get_attribute(\"href\")\n",
    "    \n",
    "        driver.get(rev_5)\n",
    "        \n",
    "        for i in driver.find_elements_by_xpath(\"//span[@class='a-size-base review-text review-text-content']\"):\n",
    "            \n",
    "            Reviewes_4.append(i.text)\n",
    "            \n",
    "            \n",
    "    except NoSuchElementException:\n",
    "        \n",
    "        Reviewes_4.append(\"-\")"
   ]
  },
  {
   "cell_type": "code",
   "execution_count": 99,
   "metadata": {},
   "outputs": [],
   "source": [
    "Reviewes_4_f = []\n",
    "\n",
    "for i in Reviewes_4:\n",
    "    \n",
    "    if i != \"-\":\n",
    "        \n",
    "        Reviewes_4_f.append(i)\n",
    "        \n",
    "    else:\n",
    "        \n",
    "        pass"
   ]
  },
  {
   "cell_type": "code",
   "execution_count": 101,
   "metadata": {},
   "outputs": [],
   "source": [
    "Reviewes_4_f = Reviewes_4_f[:305]"
   ]
  },
  {
   "cell_type": "code",
   "execution_count": 102,
   "metadata": {},
   "outputs": [],
   "source": [
    "Home_theater_305 = pd.DataFrame(Reviewes_4_f,columns=[\"Review\"])"
   ]
  },
  {
   "cell_type": "code",
   "execution_count": 103,
   "metadata": {},
   "outputs": [],
   "source": [
    "Home_theater_305[\"Rating\"] = 4"
   ]
  },
  {
   "cell_type": "code",
   "execution_count": 104,
   "metadata": {},
   "outputs": [
    {
     "data": {
      "text/html": [
       "<div>\n",
       "<style scoped>\n",
       "    .dataframe tbody tr th:only-of-type {\n",
       "        vertical-align: middle;\n",
       "    }\n",
       "\n",
       "    .dataframe tbody tr th {\n",
       "        vertical-align: top;\n",
       "    }\n",
       "\n",
       "    .dataframe thead th {\n",
       "        text-align: right;\n",
       "    }\n",
       "</style>\n",
       "<table border=\"1\" class=\"dataframe\">\n",
       "  <thead>\n",
       "    <tr style=\"text-align: right;\">\n",
       "      <th></th>\n",
       "      <th>Review</th>\n",
       "      <th>Rating</th>\n",
       "    </tr>\n",
       "  </thead>\n",
       "  <tbody>\n",
       "    <tr>\n",
       "      <th>0</th>\n",
       "      <td>Value for money .. good bass &amp; good sound clar...</td>\n",
       "      <td>4</td>\n",
       "    </tr>\n",
       "    <tr>\n",
       "      <th>1</th>\n",
       "      <td>Your browser does not support HTML5 video.\\n S...</td>\n",
       "      <td>4</td>\n",
       "    </tr>\n",
       "    <tr>\n",
       "      <th>2</th>\n",
       "      <td>Good product but packing and delivery can be i...</td>\n",
       "      <td>4</td>\n",
       "    </tr>\n",
       "    <tr>\n",
       "      <th>3</th>\n",
       "      <td>Good product</td>\n",
       "      <td>4</td>\n",
       "    </tr>\n",
       "    <tr>\n",
       "      <th>4</th>\n",
       "      <td>Good</td>\n",
       "      <td>4</td>\n",
       "    </tr>\n",
       "  </tbody>\n",
       "</table>\n",
       "</div>"
      ],
      "text/plain": [
       "                                              Review  Rating\n",
       "0  Value for money .. good bass & good sound clar...       4\n",
       "1  Your browser does not support HTML5 video.\\n S...       4\n",
       "2  Good product but packing and delivery can be i...       4\n",
       "3                                       Good product       4\n",
       "4                                               Good       4"
      ]
     },
     "execution_count": 104,
     "metadata": {},
     "output_type": "execute_result"
    }
   ],
   "source": [
    "Home_theater_305.head()"
   ]
  },
  {
   "cell_type": "code",
   "execution_count": 105,
   "metadata": {},
   "outputs": [],
   "source": [
    "Home_theater_305.to_csv(\"Home_theater_305\")"
   ]
  },
  {
   "cell_type": "markdown",
   "metadata": {},
   "source": [
    "### Routers"
   ]
  },
  {
   "cell_type": "code",
   "execution_count": 106,
   "metadata": {},
   "outputs": [],
   "source": [
    "# URL of the website \n",
    "url = \"https://www.amazon.in/\"\n",
    "\n",
    "driver.get(url)"
   ]
  },
  {
   "cell_type": "code",
   "execution_count": 107,
   "metadata": {},
   "outputs": [],
   "source": [
    "# targeting the search text box\n",
    "sesrch_query = driver.find_element_by_id(\"twotabsearchtextbox\")\n",
    "\n",
    "\n",
    "# searching Laptops\n",
    "sesrch_query.send_keys(\"Routers\")"
   ]
  },
  {
   "cell_type": "code",
   "execution_count": 108,
   "metadata": {},
   "outputs": [],
   "source": [
    "search_btn = driver.find_element_by_id(\"nav-search-submit-button\")\n",
    "\n",
    "search_btn.click()"
   ]
  },
  {
   "cell_type": "code",
   "execution_count": 109,
   "metadata": {},
   "outputs": [],
   "source": [
    "# Collecting url's for first 3 pages\n",
    "urls = []\n",
    "\n",
    "base_url = \"https://www.amazon.in/s?k=Routers&page={}&qid=1627624427&ref=sr_pg_{}\"\n",
    "\n",
    "for i in range(4,12):\n",
    "    \n",
    "    driver.get(base_url.format(i,i))\n",
    "    \n",
    "    for url in driver.find_elements_by_xpath(\"//h2[@class='a-size-mini a-spacing-none a-color-base s-line-clamp-2']//a\"):\n",
    "        \n",
    "        urls.append(url.get_attribute(\"href\"))"
   ]
  },
  {
   "cell_type": "code",
   "execution_count": 111,
   "metadata": {},
   "outputs": [],
   "source": [
    "Reviewes_4 = []\n",
    "\n",
    "for link in urls:\n",
    "    \n",
    "    driver.get(link)\n",
    "    \n",
    "    try:\n",
    "        \n",
    "        cust_rev_5 = driver.find_element_by_css_selector('#histogramTable > tbody > tr:nth-child(2) > td.aok-nowrap > span.a-size-base > a')\n",
    "    \n",
    "        rev_5 = cust_rev_5.get_attribute(\"href\")\n",
    "    \n",
    "        driver.get(rev_5)\n",
    "        \n",
    "        for i in driver.find_elements_by_xpath(\"//span[@class='a-size-base review-text review-text-content']\"):\n",
    "            \n",
    "            Reviewes_4.append(i.text)\n",
    "            \n",
    "            \n",
    "    except NoSuchElementException:\n",
    "        \n",
    "        Reviewes_4.append(\"-\")"
   ]
  },
  {
   "cell_type": "code",
   "execution_count": 113,
   "metadata": {},
   "outputs": [],
   "source": [
    "Reviewes_4_f = []\n",
    "\n",
    "for i in Reviewes_4:\n",
    "    \n",
    "    if i != \"-\":\n",
    "        \n",
    "        Reviewes_4_f.append(i)\n",
    "        \n",
    "    else:\n",
    "        \n",
    "        pass"
   ]
  },
  {
   "cell_type": "code",
   "execution_count": 116,
   "metadata": {},
   "outputs": [],
   "source": [
    "Reviewes_4_f = Reviewes_4_f[:305]\n",
    "\n",
    "Router_305 = pd.DataFrame(Reviewes_4_f,columns=[\"Review\"]) \n",
    "\n",
    "Router_305[\"Rating\"] = 4"
   ]
  },
  {
   "cell_type": "code",
   "execution_count": 117,
   "metadata": {},
   "outputs": [
    {
     "data": {
      "text/html": [
       "<div>\n",
       "<style scoped>\n",
       "    .dataframe tbody tr th:only-of-type {\n",
       "        vertical-align: middle;\n",
       "    }\n",
       "\n",
       "    .dataframe tbody tr th {\n",
       "        vertical-align: top;\n",
       "    }\n",
       "\n",
       "    .dataframe thead th {\n",
       "        text-align: right;\n",
       "    }\n",
       "</style>\n",
       "<table border=\"1\" class=\"dataframe\">\n",
       "  <thead>\n",
       "    <tr style=\"text-align: right;\">\n",
       "      <th></th>\n",
       "      <th>Review</th>\n",
       "      <th>Rating</th>\n",
       "    </tr>\n",
       "  </thead>\n",
       "  <tbody>\n",
       "    <tr>\n",
       "      <th>0</th>\n",
       "      <td>UPDATE - Though helpful, CISCO support could n...</td>\n",
       "      <td>4</td>\n",
       "    </tr>\n",
       "    <tr>\n",
       "      <th>1</th>\n",
       "      <td>UPDATE - Though helpful, CISCO support could n...</td>\n",
       "      <td>4</td>\n",
       "    </tr>\n",
       "    <tr>\n",
       "      <th>2</th>\n",
       "      <td>Best 4G VOLTE router as per price. I got it fo...</td>\n",
       "      <td>4</td>\n",
       "    </tr>\n",
       "    <tr>\n",
       "      <th>3</th>\n",
       "      <td>Probably the most econonmical wifi router with...</td>\n",
       "      <td>4</td>\n",
       "    </tr>\n",
       "    <tr>\n",
       "      <th>4</th>\n",
       "      <td>I received this product today and found out th...</td>\n",
       "      <td>4</td>\n",
       "    </tr>\n",
       "  </tbody>\n",
       "</table>\n",
       "</div>"
      ],
      "text/plain": [
       "                                              Review  Rating\n",
       "0  UPDATE - Though helpful, CISCO support could n...       4\n",
       "1  UPDATE - Though helpful, CISCO support could n...       4\n",
       "2  Best 4G VOLTE router as per price. I got it fo...       4\n",
       "3  Probably the most econonmical wifi router with...       4\n",
       "4  I received this product today and found out th...       4"
      ]
     },
     "execution_count": 117,
     "metadata": {},
     "output_type": "execute_result"
    }
   ],
   "source": [
    "Router_305.head()"
   ]
  },
  {
   "cell_type": "code",
   "execution_count": 118,
   "metadata": {},
   "outputs": [],
   "source": [
    "Router_305.to_csv(\"Router_305\")"
   ]
  },
  {
   "cell_type": "markdown",
   "metadata": {},
   "source": [
    "### 3 Star"
   ]
  },
  {
   "cell_type": "code",
   "execution_count": 204,
   "metadata": {},
   "outputs": [],
   "source": [
    "# URL of the website \n",
    "url = \"https://www.amazon.in/\"\n",
    "\n",
    "driver.get(url)"
   ]
  },
  {
   "cell_type": "code",
   "execution_count": 205,
   "metadata": {},
   "outputs": [],
   "source": [
    "# targeting the search text box\n",
    "sesrch_query = driver.find_element_by_id(\"twotabsearchtextbox\")"
   ]
  },
  {
   "cell_type": "code",
   "execution_count": 206,
   "metadata": {},
   "outputs": [],
   "source": [
    "# searching Laptops\n",
    "sesrch_query.send_keys(\"Laptops\")"
   ]
  },
  {
   "cell_type": "code",
   "execution_count": 207,
   "metadata": {},
   "outputs": [],
   "source": [
    "search_btn = driver.find_element_by_id(\"nav-search-submit-button\")\n",
    "\n",
    "search_btn.click()"
   ]
  },
  {
   "cell_type": "markdown",
   "metadata": {},
   "source": [
    "## LAptop"
   ]
  },
  {
   "cell_type": "code",
   "execution_count": 208,
   "metadata": {},
   "outputs": [],
   "source": [
    "# Collecting url's for first 3 pages\n",
    "urls = []\n",
    "\n",
    "base_url = \"https://www.amazon.in/s?k=Laptops&page={}&qid=1627559975&ref=sr_pg_{}\"\n",
    "\n",
    "for i in range(4,12):\n",
    "    \n",
    "    driver.get(base_url.format(i,i))\n",
    "    \n",
    "    for url in driver.find_elements_by_xpath(\"//h2[@class='a-size-mini a-spacing-none a-color-base s-line-clamp-2']//a\"):\n",
    "        \n",
    "        urls.append(url.get_attribute(\"href\"))"
   ]
  },
  {
   "cell_type": "code",
   "execution_count": 209,
   "metadata": {},
   "outputs": [],
   "source": [
    "Reviewes_3 = []\n",
    "\n",
    "for link in urls:\n",
    "    \n",
    "    driver.get(link)\n",
    "    \n",
    "    try:\n",
    "        \n",
    "        cust_rev_5 = driver.find_element_by_css_selector('#histogramTable > tbody > tr:nth-child(3) > td.aok-nowrap > span.a-size-base > a')\n",
    "    \n",
    "        rev_5 = cust_rev_5.get_attribute(\"href\")\n",
    "    \n",
    "        driver.get(rev_5)\n",
    "        \n",
    "        for i in driver.find_elements_by_xpath(\"//span[@class='a-size-base review-text review-text-content']\"):\n",
    "            \n",
    "            Reviewes_3.append(i.text)\n",
    "            \n",
    "            \n",
    "    except NoSuchElementException:\n",
    "        \n",
    "        Reviewes_3.append(\"-\")"
   ]
  },
  {
   "cell_type": "code",
   "execution_count": 210,
   "metadata": {},
   "outputs": [],
   "source": [
    "Reviewes_3_f = []\n",
    "\n",
    "for i in Reviewes_3:\n",
    "    \n",
    "    if i != \"-\":\n",
    "        \n",
    "        Reviewes_3_f.append(i)\n",
    "        \n",
    "    else:\n",
    "        \n",
    "        pass"
   ]
  },
  {
   "cell_type": "code",
   "execution_count": 211,
   "metadata": {},
   "outputs": [],
   "source": [
    "Laptop_345 = pd.DataFrame(Reviewes_3_f,columns=[\"Review\"]) "
   ]
  },
  {
   "cell_type": "code",
   "execution_count": 212,
   "metadata": {},
   "outputs": [],
   "source": [
    "Laptop_345[\"Rating\"] = 3"
   ]
  },
  {
   "cell_type": "code",
   "execution_count": 213,
   "metadata": {},
   "outputs": [
    {
     "data": {
      "text/html": [
       "<div>\n",
       "<style scoped>\n",
       "    .dataframe tbody tr th:only-of-type {\n",
       "        vertical-align: middle;\n",
       "    }\n",
       "\n",
       "    .dataframe tbody tr th {\n",
       "        vertical-align: top;\n",
       "    }\n",
       "\n",
       "    .dataframe thead th {\n",
       "        text-align: right;\n",
       "    }\n",
       "</style>\n",
       "<table border=\"1\" class=\"dataframe\">\n",
       "  <thead>\n",
       "    <tr style=\"text-align: right;\">\n",
       "      <th></th>\n",
       "      <th>Review</th>\n",
       "      <th>Rating</th>\n",
       "    </tr>\n",
       "  </thead>\n",
       "  <tbody>\n",
       "    <tr>\n",
       "      <th>0</th>\n",
       "      <td>A good internal specifications product with lo...</td>\n",
       "      <td>3</td>\n",
       "    </tr>\n",
       "    <tr>\n",
       "      <th>1</th>\n",
       "      <td>I like the laptop except the Webcam. It perfor...</td>\n",
       "      <td>3</td>\n",
       "    </tr>\n",
       "    <tr>\n",
       "      <th>2</th>\n",
       "      <td>I like the look good\\nBut battery 🔋 very fast ...</td>\n",
       "      <td>3</td>\n",
       "    </tr>\n",
       "    <tr>\n",
       "      <th>3</th>\n",
       "      <td>Don't buy it , it's not good for gaming becaus...</td>\n",
       "      <td>3</td>\n",
       "    </tr>\n",
       "    <tr>\n",
       "      <th>4</th>\n",
       "      <td>Good for price- warranty given was only 9month...</td>\n",
       "      <td>3</td>\n",
       "    </tr>\n",
       "  </tbody>\n",
       "</table>\n",
       "</div>"
      ],
      "text/plain": [
       "                                              Review  Rating\n",
       "0  A good internal specifications product with lo...       3\n",
       "1  I like the laptop except the Webcam. It perfor...       3\n",
       "2  I like the look good\\nBut battery 🔋 very fast ...       3\n",
       "3  Don't buy it , it's not good for gaming becaus...       3\n",
       "4  Good for price- warranty given was only 9month...       3"
      ]
     },
     "execution_count": 213,
     "metadata": {},
     "output_type": "execute_result"
    }
   ],
   "source": [
    "Laptop_345.head()"
   ]
  },
  {
   "cell_type": "code",
   "execution_count": 214,
   "metadata": {},
   "outputs": [],
   "source": [
    "Laptop_345.to_csv(\"Laptop_345_3star\")"
   ]
  },
  {
   "cell_type": "markdown",
   "metadata": {},
   "source": [
    "## Phones"
   ]
  },
  {
   "cell_type": "code",
   "execution_count": 215,
   "metadata": {},
   "outputs": [],
   "source": [
    "# URL of the website \n",
    "url = \"https://www.amazon.in/\"\n",
    "\n",
    "driver.get(url)"
   ]
  },
  {
   "cell_type": "code",
   "execution_count": 216,
   "metadata": {},
   "outputs": [],
   "source": [
    "# targeting the search text box\n",
    "sesrch_query = driver.find_element_by_id(\"twotabsearchtextbox\")\n",
    "\n",
    "\n",
    "# searching Laptops\n",
    "sesrch_query.send_keys(\"Phones\")"
   ]
  },
  {
   "cell_type": "code",
   "execution_count": 217,
   "metadata": {},
   "outputs": [],
   "source": [
    "search_btn = driver.find_element_by_id(\"nav-search-submit-button\")\n",
    "\n",
    "search_btn.click()"
   ]
  },
  {
   "cell_type": "code",
   "execution_count": 218,
   "metadata": {},
   "outputs": [],
   "source": [
    "# Collecting url's for first 3 pages\n",
    "urls = []\n",
    "\n",
    "base_url = \"https://www.amazon.in/s?k=Phones&page={}&qid=1627641927&ref=sr_pg_{}\"\n",
    "\n",
    "for i in range(4,14):\n",
    "    \n",
    "    driver.get(base_url.format(i,i))\n",
    "    \n",
    "    for url in driver.find_elements_by_xpath(\"//h2[@class='a-size-mini a-spacing-none a-color-base s-line-clamp-2']//a\"):\n",
    "        \n",
    "        urls.append(url.get_attribute(\"href\"))"
   ]
  },
  {
   "cell_type": "code",
   "execution_count": 219,
   "metadata": {},
   "outputs": [],
   "source": [
    "Reviewes_3 = []\n",
    "\n",
    "for link in urls:\n",
    "    \n",
    "    driver.get(link)\n",
    "    \n",
    "    try:\n",
    "        \n",
    "        cust_rev_5 = driver.find_element_by_css_selector('#histogramTable > tbody > tr:nth-child(3) > td.aok-nowrap > span.a-size-base > a')\n",
    "    \n",
    "        rev_5 = cust_rev_5.get_attribute(\"href\")\n",
    "    \n",
    "        driver.get(rev_5)\n",
    "        \n",
    "        for i in driver.find_elements_by_xpath(\"//span[@class='a-size-base review-text review-text-content']\"):\n",
    "            \n",
    "            Reviewes_3.append(i.text)\n",
    "            \n",
    "            \n",
    "    except NoSuchElementException:\n",
    "        \n",
    "        Reviewes_3.append(\"-\")"
   ]
  },
  {
   "cell_type": "code",
   "execution_count": 220,
   "metadata": {},
   "outputs": [],
   "source": [
    "Reviewes_3_f = []\n",
    "\n",
    "for i in Reviewes_3:\n",
    "    \n",
    "    if i != \"-\":\n",
    "        \n",
    "        Reviewes_3_f.append(i)\n",
    "        \n",
    "    else:\n",
    "        \n",
    "        pass"
   ]
  },
  {
   "cell_type": "code",
   "execution_count": 221,
   "metadata": {},
   "outputs": [
    {
     "data": {
      "text/plain": [
       "882"
      ]
     },
     "execution_count": 221,
     "metadata": {},
     "output_type": "execute_result"
    }
   ],
   "source": [
    "len(Reviewes_3_f)"
   ]
  },
  {
   "cell_type": "code",
   "execution_count": 222,
   "metadata": {},
   "outputs": [],
   "source": [
    "Reviewes_3_f = Reviewes_3_f[:367]"
   ]
  },
  {
   "cell_type": "code",
   "execution_count": 223,
   "metadata": {},
   "outputs": [],
   "source": [
    "Phones_345 = pd.DataFrame(Reviewes_3_f,columns=[\"Review\"])"
   ]
  },
  {
   "cell_type": "code",
   "execution_count": 224,
   "metadata": {},
   "outputs": [],
   "source": [
    "Phones_345[\"Rating\"] = 3"
   ]
  },
  {
   "cell_type": "code",
   "execution_count": 225,
   "metadata": {},
   "outputs": [
    {
     "data": {
      "text/html": [
       "<div>\n",
       "<style scoped>\n",
       "    .dataframe tbody tr th:only-of-type {\n",
       "        vertical-align: middle;\n",
       "    }\n",
       "\n",
       "    .dataframe tbody tr th {\n",
       "        vertical-align: top;\n",
       "    }\n",
       "\n",
       "    .dataframe thead th {\n",
       "        text-align: right;\n",
       "    }\n",
       "</style>\n",
       "<table border=\"1\" class=\"dataframe\">\n",
       "  <thead>\n",
       "    <tr style=\"text-align: right;\">\n",
       "      <th></th>\n",
       "      <th>Review</th>\n",
       "      <th>Rating</th>\n",
       "    </tr>\n",
       "  </thead>\n",
       "  <tbody>\n",
       "    <tr>\n",
       "      <th>0</th>\n",
       "      <td>It charges very slowly, though they claim that...</td>\n",
       "      <td>3</td>\n",
       "    </tr>\n",
       "    <tr>\n",
       "      <th>1</th>\n",
       "      <td>Phone wait is very light very slim the camera ...</td>\n",
       "      <td>3</td>\n",
       "    </tr>\n",
       "    <tr>\n",
       "      <th>2</th>\n",
       "      <td>Not a worth product to its price. Camera strug...</td>\n",
       "      <td>3</td>\n",
       "    </tr>\n",
       "    <tr>\n",
       "      <th>3</th>\n",
       "      <td>Not display network speed &amp; do not display opt...</td>\n",
       "      <td>3</td>\n",
       "    </tr>\n",
       "    <tr>\n",
       "      <th>4</th>\n",
       "      <td>Does not meet expectations. I have used v11 pr...</td>\n",
       "      <td>3</td>\n",
       "    </tr>\n",
       "  </tbody>\n",
       "</table>\n",
       "</div>"
      ],
      "text/plain": [
       "                                              Review  Rating\n",
       "0  It charges very slowly, though they claim that...       3\n",
       "1  Phone wait is very light very slim the camera ...       3\n",
       "2  Not a worth product to its price. Camera strug...       3\n",
       "3  Not display network speed & do not display opt...       3\n",
       "4  Does not meet expectations. I have used v11 pr...       3"
      ]
     },
     "execution_count": 225,
     "metadata": {},
     "output_type": "execute_result"
    }
   ],
   "source": [
    "Phones_345.head()"
   ]
  },
  {
   "cell_type": "code",
   "execution_count": 226,
   "metadata": {},
   "outputs": [],
   "source": [
    "Phones_345.to_csv(\"Phones_345_3star\")"
   ]
  },
  {
   "cell_type": "markdown",
   "metadata": {},
   "source": [
    "### Headphones"
   ]
  },
  {
   "cell_type": "code",
   "execution_count": 227,
   "metadata": {},
   "outputs": [],
   "source": [
    "# URL of the website \n",
    "url = \"https://www.amazon.in/\"\n",
    "\n",
    "driver.get(url)"
   ]
  },
  {
   "cell_type": "code",
   "execution_count": 228,
   "metadata": {},
   "outputs": [],
   "source": [
    "# targeting the search text box\n",
    "sesrch_query = driver.find_element_by_id(\"twotabsearchtextbox\")\n",
    "\n",
    "\n",
    "# searching Laptops\n",
    "sesrch_query.send_keys(\"Headphones\")"
   ]
  },
  {
   "cell_type": "code",
   "execution_count": 229,
   "metadata": {},
   "outputs": [],
   "source": [
    "search_btn = driver.find_element_by_id(\"nav-search-submit-button\")\n",
    "\n",
    "search_btn.click()"
   ]
  },
  {
   "cell_type": "code",
   "execution_count": 230,
   "metadata": {},
   "outputs": [],
   "source": [
    "# Collecting url's for first 3 pages\n",
    "urls = []\n",
    "\n",
    "base_url = \"https://www.amazon.in/s?k=Headphones&page={}&qid=1627644269&ref=sr_pg_{}\"\n",
    "\n",
    "for i in range(4,14):\n",
    "    \n",
    "    driver.get(base_url.format(i,i))\n",
    "    \n",
    "    for url in driver.find_elements_by_xpath(\"//h2[@class='a-size-mini a-spacing-none a-color-base s-line-clamp-2']//a\"):\n",
    "        \n",
    "        urls.append(url.get_attribute(\"href\"))"
   ]
  },
  {
   "cell_type": "code",
   "execution_count": 231,
   "metadata": {},
   "outputs": [],
   "source": [
    "Reviewes_3 = []\n",
    "\n",
    "for link in urls:\n",
    "    \n",
    "    driver.get(link)\n",
    "    \n",
    "    try:\n",
    "        \n",
    "        cust_rev_5 = driver.find_element_by_css_selector('#histogramTable > tbody > tr:nth-child(3) > td.aok-nowrap > span.a-size-base > a')\n",
    "    \n",
    "        rev_5 = cust_rev_5.get_attribute(\"href\")\n",
    "    \n",
    "        driver.get(rev_5)\n",
    "        \n",
    "        for i in driver.find_elements_by_xpath(\"//span[@class='a-size-base review-text review-text-content']\"):\n",
    "            \n",
    "            Reviewes_3.append(i.text)\n",
    "            \n",
    "            \n",
    "    except NoSuchElementException:\n",
    "        \n",
    "        Reviewes_3.append(\"-\")"
   ]
  },
  {
   "cell_type": "code",
   "execution_count": 232,
   "metadata": {},
   "outputs": [],
   "source": [
    "Reviewes_3_f = []\n",
    "\n",
    "for i in Reviewes_3:\n",
    "    \n",
    "    if i != \"-\":\n",
    "        \n",
    "        Reviewes_3_f.append(i)\n",
    "        \n",
    "    else:\n",
    "        \n",
    "        pass"
   ]
  },
  {
   "cell_type": "code",
   "execution_count": 233,
   "metadata": {},
   "outputs": [],
   "source": [
    "Reviewes_3_f = Reviewes_3_f[:345]"
   ]
  },
  {
   "cell_type": "code",
   "execution_count": 234,
   "metadata": {},
   "outputs": [],
   "source": [
    "Headphones_345 = pd.DataFrame(Reviewes_3_f,columns=[\"Review\"]) \n",
    "\n",
    "Headphones_345[\"Rating\"] = 3"
   ]
  },
  {
   "cell_type": "code",
   "execution_count": 235,
   "metadata": {},
   "outputs": [
    {
     "data": {
      "text/html": [
       "<div>\n",
       "<style scoped>\n",
       "    .dataframe tbody tr th:only-of-type {\n",
       "        vertical-align: middle;\n",
       "    }\n",
       "\n",
       "    .dataframe tbody tr th {\n",
       "        vertical-align: top;\n",
       "    }\n",
       "\n",
       "    .dataframe thead th {\n",
       "        text-align: right;\n",
       "    }\n",
       "</style>\n",
       "<table border=\"1\" class=\"dataframe\">\n",
       "  <thead>\n",
       "    <tr style=\"text-align: right;\">\n",
       "      <th></th>\n",
       "      <th>Review</th>\n",
       "      <th>Rating</th>\n",
       "    </tr>\n",
       "  </thead>\n",
       "  <tbody>\n",
       "    <tr>\n",
       "      <th>0</th>\n",
       "      <td>Good but not the best in segment.\\nPros:\\nLigh...</td>\n",
       "      <td>3</td>\n",
       "    </tr>\n",
       "    <tr>\n",
       "      <th>1</th>\n",
       "      <td>I like the look of the earbuds. Sound quality ...</td>\n",
       "      <td>3</td>\n",
       "    </tr>\n",
       "    <tr>\n",
       "      <th>2</th>\n",
       "      <td>I've been using this over a week. Battery life...</td>\n",
       "      <td>3</td>\n",
       "    </tr>\n",
       "    <tr>\n",
       "      <th>3</th>\n",
       "      <td>I purchased this for MS Teams call purposes, h...</td>\n",
       "      <td>3</td>\n",
       "    </tr>\n",
       "    <tr>\n",
       "      <th>4</th>\n",
       "      <td>Noice cancellation is pathetic.. Even when you...</td>\n",
       "      <td>3</td>\n",
       "    </tr>\n",
       "  </tbody>\n",
       "</table>\n",
       "</div>"
      ],
      "text/plain": [
       "                                              Review  Rating\n",
       "0  Good but not the best in segment.\\nPros:\\nLigh...       3\n",
       "1  I like the look of the earbuds. Sound quality ...       3\n",
       "2  I've been using this over a week. Battery life...       3\n",
       "3  I purchased this for MS Teams call purposes, h...       3\n",
       "4  Noice cancellation is pathetic.. Even when you...       3"
      ]
     },
     "execution_count": 235,
     "metadata": {},
     "output_type": "execute_result"
    }
   ],
   "source": [
    "Headphones_345.head()"
   ]
  },
  {
   "cell_type": "code",
   "execution_count": 236,
   "metadata": {},
   "outputs": [],
   "source": [
    "Headphones_345.to_csv(\"Headphones_345_3star\")"
   ]
  },
  {
   "cell_type": "markdown",
   "metadata": {},
   "source": [
    "### Smart watches"
   ]
  },
  {
   "cell_type": "code",
   "execution_count": 5,
   "metadata": {},
   "outputs": [],
   "source": [
    "# URL of the website \n",
    "url = \"https://www.amazon.in/\"\n",
    "\n",
    "driver.get(url)"
   ]
  },
  {
   "cell_type": "code",
   "execution_count": 6,
   "metadata": {},
   "outputs": [],
   "source": [
    "# targeting the search text box\n",
    "sesrch_query = driver.find_element_by_id(\"twotabsearchtextbox\")\n",
    "\n",
    "\n",
    "# searching Laptops\n",
    "sesrch_query.send_keys(\"Smart Watches\")"
   ]
  },
  {
   "cell_type": "code",
   "execution_count": 7,
   "metadata": {},
   "outputs": [],
   "source": [
    "search_btn = driver.find_element_by_id(\"nav-search-submit-button\")\n",
    "\n",
    "search_btn.click()"
   ]
  },
  {
   "cell_type": "code",
   "execution_count": 8,
   "metadata": {},
   "outputs": [],
   "source": [
    "# Collecting url's for first 3 pages\n",
    "urls = []\n",
    "\n",
    "base_url = \"https://www.amazon.in/s?k=Smart+Watches&page={}&qid=1627646545&ref=sr_pg_{}\"\n",
    "\n",
    "for i in range(4,12):\n",
    "    \n",
    "    driver.get(base_url.format(i,i))\n",
    "    \n",
    "    for url in driver.find_elements_by_xpath(\"//h2[@class='a-size-mini a-spacing-none a-color-base s-line-clamp-2']//a\"):\n",
    "        \n",
    "        urls.append(url.get_attribute(\"href\"))"
   ]
  },
  {
   "cell_type": "code",
   "execution_count": 9,
   "metadata": {},
   "outputs": [],
   "source": [
    "Reviewes_3 = []\n",
    "\n",
    "for link in urls:\n",
    "    \n",
    "    driver.get(link)\n",
    "    \n",
    "    try:\n",
    "        \n",
    "        cust_rev_5 = driver.find_element_by_css_selector('#histogramTable > tbody > tr:nth-child(3) > td.aok-nowrap > span.a-size-base > a')\n",
    "    \n",
    "        rev_5 = cust_rev_5.get_attribute(\"href\")\n",
    "    \n",
    "        driver.get(rev_5)\n",
    "        \n",
    "        for i in driver.find_elements_by_xpath(\"//span[@class='a-size-base review-text review-text-content']\"):\n",
    "            \n",
    "            Reviewes_3.append(i.text)\n",
    "            \n",
    "            \n",
    "    except NoSuchElementException:\n",
    "        \n",
    "        Reviewes_3.append(\"-\")"
   ]
  },
  {
   "cell_type": "code",
   "execution_count": 10,
   "metadata": {},
   "outputs": [],
   "source": [
    "Reviewes_3_f = []\n",
    "\n",
    "for i in Reviewes_3:\n",
    "    \n",
    "    if i != \"-\":\n",
    "        \n",
    "        Reviewes_3_f.append(i)\n",
    "        \n",
    "    else:\n",
    "        \n",
    "        pass"
   ]
  },
  {
   "cell_type": "code",
   "execution_count": 11,
   "metadata": {},
   "outputs": [],
   "source": [
    "Reviewes_3_f = Reviewes_3_f[:345]\n",
    "\n",
    "Smart_Watches_345 = pd.DataFrame(Reviewes_3_f,columns=[\"Review\"]) \n",
    "\n",
    "Smart_Watches_345[\"Rating\"] = 3"
   ]
  },
  {
   "cell_type": "code",
   "execution_count": 12,
   "metadata": {},
   "outputs": [
    {
     "data": {
      "text/html": [
       "<div>\n",
       "<style scoped>\n",
       "    .dataframe tbody tr th:only-of-type {\n",
       "        vertical-align: middle;\n",
       "    }\n",
       "\n",
       "    .dataframe tbody tr th {\n",
       "        vertical-align: top;\n",
       "    }\n",
       "\n",
       "    .dataframe thead th {\n",
       "        text-align: right;\n",
       "    }\n",
       "</style>\n",
       "<table border=\"1\" class=\"dataframe\">\n",
       "  <thead>\n",
       "    <tr style=\"text-align: right;\">\n",
       "      <th></th>\n",
       "      <th>Review</th>\n",
       "      <th>Rating</th>\n",
       "    </tr>\n",
       "  </thead>\n",
       "  <tbody>\n",
       "    <tr>\n",
       "      <th>0</th>\n",
       "      <td>Packing of plastic found damaged ,placed it on...</td>\n",
       "      <td>3</td>\n",
       "    </tr>\n",
       "    <tr>\n",
       "      <th>1</th>\n",
       "      <td>I bought this for my mom in order to help trac...</td>\n",
       "      <td>3</td>\n",
       "    </tr>\n",
       "    <tr>\n",
       "      <th>2</th>\n",
       "      <td>Nice product but need to improve like redmi band</td>\n",
       "      <td>3</td>\n",
       "    </tr>\n",
       "    <tr>\n",
       "      <th>3</th>\n",
       "      <td>Ordinary smart watch with all basic features. ...</td>\n",
       "      <td>3</td>\n",
       "    </tr>\n",
       "    <tr>\n",
       "      <th>4</th>\n",
       "      <td>Pros:\\nDesign looks good\\nBattery stands good\\...</td>\n",
       "      <td>3</td>\n",
       "    </tr>\n",
       "  </tbody>\n",
       "</table>\n",
       "</div>"
      ],
      "text/plain": [
       "                                              Review  Rating\n",
       "0  Packing of plastic found damaged ,placed it on...       3\n",
       "1  I bought this for my mom in order to help trac...       3\n",
       "2   Nice product but need to improve like redmi band       3\n",
       "3  Ordinary smart watch with all basic features. ...       3\n",
       "4  Pros:\\nDesign looks good\\nBattery stands good\\...       3"
      ]
     },
     "execution_count": 12,
     "metadata": {},
     "output_type": "execute_result"
    }
   ],
   "source": [
    "Smart_Watches_345.head()"
   ]
  },
  {
   "cell_type": "code",
   "execution_count": 13,
   "metadata": {},
   "outputs": [],
   "source": [
    "Smart_Watches_345.to_csv(\"Smart_Watches_345_3star\")"
   ]
  },
  {
   "cell_type": "markdown",
   "metadata": {},
   "source": [
    "## Professional Cameras"
   ]
  },
  {
   "cell_type": "code",
   "execution_count": 14,
   "metadata": {},
   "outputs": [],
   "source": [
    "# URL of the website \n",
    "url = \"https://www.amazon.in/\"\n",
    "\n",
    "driver.get(url)"
   ]
  },
  {
   "cell_type": "code",
   "execution_count": 15,
   "metadata": {},
   "outputs": [],
   "source": [
    "# targeting the search text box\n",
    "sesrch_query = driver.find_element_by_id(\"twotabsearchtextbox\")\n",
    "\n",
    "# searching Laptops\n",
    "sesrch_query.send_keys(\"Cameras dslr\")"
   ]
  },
  {
   "cell_type": "code",
   "execution_count": 16,
   "metadata": {},
   "outputs": [],
   "source": [
    "search_btn = driver.find_element_by_id(\"nav-search-submit-button\")\n",
    "\n",
    "search_btn.click()"
   ]
  },
  {
   "cell_type": "code",
   "execution_count": 17,
   "metadata": {},
   "outputs": [],
   "source": [
    "# Collecting url's for first 3 pages\n",
    "urls = []\n",
    "\n",
    "base_url = \"https://www.amazon.in/s?k=Cameras+dslr&page={}&qid=1627648550&ref=sr_pg_{}\"\n",
    "\n",
    "for i in range(4,12):\n",
    "    \n",
    "    driver.get(base_url.format(i,i))\n",
    "    \n",
    "    for url in driver.find_elements_by_xpath(\"//h2[@class='a-size-mini a-spacing-none a-color-base s-line-clamp-2']//a\"):\n",
    "        \n",
    "        urls.append(url.get_attribute(\"href\"))"
   ]
  },
  {
   "cell_type": "code",
   "execution_count": 18,
   "metadata": {},
   "outputs": [],
   "source": [
    "Reviewes_3 = []\n",
    "\n",
    "for link in urls:\n",
    "    \n",
    "    driver.get(link)\n",
    "    \n",
    "    try:\n",
    "        \n",
    "        cust_rev_5 = driver.find_element_by_css_selector('#histogramTable > tbody > tr:nth-child(3) > td.aok-nowrap > span.a-size-base > a')\n",
    "    \n",
    "        rev_5 = cust_rev_5.get_attribute(\"href\")\n",
    "    \n",
    "        driver.get(rev_5)\n",
    "        \n",
    "        for i in driver.find_elements_by_xpath(\"//span[@class='a-size-base review-text review-text-content']\"):\n",
    "            \n",
    "            Reviewes_3.append(i.text)\n",
    "            \n",
    "            \n",
    "    except NoSuchElementException:\n",
    "        \n",
    "        Reviewes_3.append(\"-\")"
   ]
  },
  {
   "cell_type": "code",
   "execution_count": 19,
   "metadata": {},
   "outputs": [],
   "source": [
    "Reviewes_3_f = []\n",
    "\n",
    "for i in Reviewes_3:\n",
    "    \n",
    "    if i != \"-\":\n",
    "        \n",
    "        Reviewes_3_f.append(i)\n",
    "        \n",
    "    else:\n",
    "        \n",
    "        pass"
   ]
  },
  {
   "cell_type": "code",
   "execution_count": 20,
   "metadata": {},
   "outputs": [
    {
     "data": {
      "text/plain": [
       "366"
      ]
     },
     "execution_count": 20,
     "metadata": {},
     "output_type": "execute_result"
    }
   ],
   "source": [
    "len(Reviewes_3_f)"
   ]
  },
  {
   "cell_type": "code",
   "execution_count": 21,
   "metadata": {},
   "outputs": [],
   "source": [
    "Reviewes_3_f = Reviewes_3_f[:345]\n",
    "\n",
    "Camera_345 = pd.DataFrame(Reviewes_3_f,columns=[\"Review\"]) \n",
    "\n",
    "Camera_345[\"Rating\"] = 3"
   ]
  },
  {
   "cell_type": "code",
   "execution_count": 22,
   "metadata": {},
   "outputs": [
    {
     "data": {
      "text/html": [
       "<div>\n",
       "<style scoped>\n",
       "    .dataframe tbody tr th:only-of-type {\n",
       "        vertical-align: middle;\n",
       "    }\n",
       "\n",
       "    .dataframe tbody tr th {\n",
       "        vertical-align: top;\n",
       "    }\n",
       "\n",
       "    .dataframe thead th {\n",
       "        text-align: right;\n",
       "    }\n",
       "</style>\n",
       "<table border=\"1\" class=\"dataframe\">\n",
       "  <thead>\n",
       "    <tr style=\"text-align: right;\">\n",
       "      <th></th>\n",
       "      <th>Review</th>\n",
       "      <th>Rating</th>\n",
       "    </tr>\n",
       "  </thead>\n",
       "  <tbody>\n",
       "    <tr>\n",
       "      <th>0</th>\n",
       "      <td>Vry expensive</td>\n",
       "      <td>3</td>\n",
       "    </tr>\n",
       "    <tr>\n",
       "      <th>1</th>\n",
       "      <td>Very very costly film!! Such an expensive one!...</td>\n",
       "      <td>3</td>\n",
       "    </tr>\n",
       "    <tr>\n",
       "      <th>2</th>\n",
       "      <td>The papers are nice and useful.\\nEasy to use.</td>\n",
       "      <td>3</td>\n",
       "    </tr>\n",
       "    <tr>\n",
       "      <th>3</th>\n",
       "      <td>Too pricey</td>\n",
       "      <td>3</td>\n",
       "    </tr>\n",
       "    <tr>\n",
       "      <th>4</th>\n",
       "      <td>The product is good, kids love it, gamificatio...</td>\n",
       "      <td>3</td>\n",
       "    </tr>\n",
       "  </tbody>\n",
       "</table>\n",
       "</div>"
      ],
      "text/plain": [
       "                                              Review  Rating\n",
       "0                                      Vry expensive       3\n",
       "1  Very very costly film!! Such an expensive one!...       3\n",
       "2      The papers are nice and useful.\\nEasy to use.       3\n",
       "3                                         Too pricey       3\n",
       "4  The product is good, kids love it, gamificatio...       3"
      ]
     },
     "execution_count": 22,
     "metadata": {},
     "output_type": "execute_result"
    }
   ],
   "source": [
    "Camera_345.head()"
   ]
  },
  {
   "cell_type": "code",
   "execution_count": 23,
   "metadata": {},
   "outputs": [],
   "source": [
    "Camera_345.to_csv(\"Camera_345_3Star\")"
   ]
  },
  {
   "cell_type": "markdown",
   "metadata": {},
   "source": [
    "### Printers"
   ]
  },
  {
   "cell_type": "code",
   "execution_count": 24,
   "metadata": {},
   "outputs": [],
   "source": [
    "# URL of the website \n",
    "url = \"https://www.amazon.in/\"\n",
    "\n",
    "driver.get(url)"
   ]
  },
  {
   "cell_type": "code",
   "execution_count": 25,
   "metadata": {},
   "outputs": [],
   "source": [
    "# targeting the search text box\n",
    "sesrch_query = driver.find_element_by_id(\"twotabsearchtextbox\")\n",
    "\n",
    "# searching Laptops\n",
    "sesrch_query.send_keys(\"Printers\")"
   ]
  },
  {
   "cell_type": "code",
   "execution_count": 26,
   "metadata": {},
   "outputs": [],
   "source": [
    "search_btn = driver.find_element_by_id(\"nav-search-submit-button\")\n",
    "\n",
    "search_btn.click()"
   ]
  },
  {
   "cell_type": "code",
   "execution_count": 27,
   "metadata": {},
   "outputs": [],
   "source": [
    "# Collecting url's for first 3 pages\n",
    "urls = []\n",
    "\n",
    "base_url = \"https://www.amazon.in/s?k=Printers&page={}&qid=1627650575&ref=sr_pg_{}\"\n",
    "\n",
    "for i in range(4,15):\n",
    "    \n",
    "    driver.get(base_url.format(i,i))\n",
    "    \n",
    "    for url in driver.find_elements_by_xpath(\"//h2[@class='a-size-mini a-spacing-none a-color-base s-line-clamp-2']//a\"):\n",
    "        \n",
    "        urls.append(url.get_attribute(\"href\"))"
   ]
  },
  {
   "cell_type": "code",
   "execution_count": 28,
   "metadata": {},
   "outputs": [],
   "source": [
    "Reviewes_3 = []\n",
    "\n",
    "for link in urls:\n",
    "    \n",
    "    driver.get(link)\n",
    "    \n",
    "    try:\n",
    "        \n",
    "        cust_rev_5 = driver.find_element_by_css_selector('#histogramTable > tbody > tr:nth-child(3) > td.aok-nowrap > span.a-size-base > a')\n",
    "    \n",
    "        rev_5 = cust_rev_5.get_attribute(\"href\")\n",
    "    \n",
    "        driver.get(rev_5)\n",
    "        \n",
    "        for i in driver.find_elements_by_xpath(\"//span[@class='a-size-base review-text review-text-content']\"):\n",
    "            \n",
    "            Reviewes_3.append(i.text)\n",
    "            \n",
    "            \n",
    "    except NoSuchElementException:\n",
    "        \n",
    "        Reviewes_3.append(\"-\")"
   ]
  },
  {
   "cell_type": "code",
   "execution_count": 29,
   "metadata": {},
   "outputs": [],
   "source": [
    "Reviewes_3_f = []\n",
    "\n",
    "for i in Reviewes_3:\n",
    "    \n",
    "    if i != \"-\":\n",
    "        \n",
    "        Reviewes_3_f.append(i)\n",
    "        \n",
    "    else:\n",
    "        \n",
    "        pass"
   ]
  },
  {
   "cell_type": "code",
   "execution_count": 30,
   "metadata": {},
   "outputs": [],
   "source": [
    "Reviewes_3_f = Reviewes_3_f[:345]\n",
    "\n",
    "Printers_345 = pd.DataFrame(Reviewes_3_f,columns=[\"Review\"]) \n",
    "\n",
    "Printers_345[\"Rating\"] = 3"
   ]
  },
  {
   "cell_type": "code",
   "execution_count": 31,
   "metadata": {},
   "outputs": [
    {
     "data": {
      "text/html": [
       "<div>\n",
       "<style scoped>\n",
       "    .dataframe tbody tr th:only-of-type {\n",
       "        vertical-align: middle;\n",
       "    }\n",
       "\n",
       "    .dataframe tbody tr th {\n",
       "        vertical-align: top;\n",
       "    }\n",
       "\n",
       "    .dataframe thead th {\n",
       "        text-align: right;\n",
       "    }\n",
       "</style>\n",
       "<table border=\"1\" class=\"dataframe\">\n",
       "  <thead>\n",
       "    <tr style=\"text-align: right;\">\n",
       "      <th></th>\n",
       "      <th>Review</th>\n",
       "      <th>Rating</th>\n",
       "    </tr>\n",
       "  </thead>\n",
       "  <tbody>\n",
       "    <tr>\n",
       "      <th>0</th>\n",
       "      <td>Photo printing poor quality</td>\n",
       "      <td>3</td>\n",
       "    </tr>\n",
       "    <tr>\n",
       "      <th>1</th>\n",
       "      <td>look for the ink supply first</td>\n",
       "      <td>3</td>\n",
       "    </tr>\n",
       "    <tr>\n",
       "      <th>2</th>\n",
       "      <td>No Garden Image like G3000 which I always foun...</td>\n",
       "      <td>3</td>\n",
       "    </tr>\n",
       "    <tr>\n",
       "      <th>3</th>\n",
       "      <td>Product is good but its not yielding as many p...</td>\n",
       "      <td>3</td>\n",
       "    </tr>\n",
       "    <tr>\n",
       "      <th>4</th>\n",
       "      <td>Tldr: Printer is good, the software isn't grea...</td>\n",
       "      <td>3</td>\n",
       "    </tr>\n",
       "  </tbody>\n",
       "</table>\n",
       "</div>"
      ],
      "text/plain": [
       "                                              Review  Rating\n",
       "0                        Photo printing poor quality       3\n",
       "1                      look for the ink supply first       3\n",
       "2  No Garden Image like G3000 which I always foun...       3\n",
       "3  Product is good but its not yielding as many p...       3\n",
       "4  Tldr: Printer is good, the software isn't grea...       3"
      ]
     },
     "execution_count": 31,
     "metadata": {},
     "output_type": "execute_result"
    }
   ],
   "source": [
    "Printers_345.head()"
   ]
  },
  {
   "cell_type": "code",
   "execution_count": 32,
   "metadata": {},
   "outputs": [],
   "source": [
    "Printers_345.to_csv(\"Printers_345_3Star\")"
   ]
  },
  {
   "cell_type": "markdown",
   "metadata": {},
   "source": [
    "### Monitors"
   ]
  },
  {
   "cell_type": "code",
   "execution_count": 33,
   "metadata": {},
   "outputs": [],
   "source": [
    "# URL of the website \n",
    "url = \"https://www.amazon.in/\"\n",
    "\n",
    "driver.get(url)"
   ]
  },
  {
   "cell_type": "code",
   "execution_count": 34,
   "metadata": {},
   "outputs": [],
   "source": [
    "# targeting the search text box\n",
    "sesrch_query = driver.find_element_by_id(\"twotabsearchtextbox\")\n",
    "\n",
    "\n",
    "# searching Laptops\n",
    "sesrch_query.send_keys(\"Monitors\")"
   ]
  },
  {
   "cell_type": "code",
   "execution_count": 35,
   "metadata": {},
   "outputs": [],
   "source": [
    "search_btn = driver.find_element_by_id(\"nav-search-submit-button\")\n",
    "\n",
    "search_btn.click()"
   ]
  },
  {
   "cell_type": "code",
   "execution_count": 36,
   "metadata": {},
   "outputs": [],
   "source": [
    "# Collecting url's for first 3 pages\n",
    "urls = []\n",
    "\n",
    "base_url = \"https://www.amazon.in/s?k=Monitors&page={}&qid=1627704017&ref=sr_pg_{}\"\n",
    "\n",
    "for i in range(4,14):\n",
    "    \n",
    "    driver.get(base_url.format(i,i))\n",
    "    \n",
    "    for url in driver.find_elements_by_xpath(\"//h2[@class='a-size-mini a-spacing-none a-color-base s-line-clamp-2']//a\"):\n",
    "        \n",
    "        urls.append(url.get_attribute(\"href\"))"
   ]
  },
  {
   "cell_type": "code",
   "execution_count": 37,
   "metadata": {},
   "outputs": [],
   "source": [
    "Reviewes_3 = []\n",
    "\n",
    "for link in urls:\n",
    "    \n",
    "    driver.get(link)\n",
    "    \n",
    "    try:\n",
    "        \n",
    "        cust_rev_5 = driver.find_element_by_css_selector('#histogramTable > tbody > tr:nth-child(3) > td.aok-nowrap > span.a-size-base > a')\n",
    "    \n",
    "        rev_5 = cust_rev_5.get_attribute(\"href\")\n",
    "    \n",
    "        driver.get(rev_5)\n",
    "        \n",
    "        for i in driver.find_elements_by_xpath(\"//span[@class='a-size-base review-text review-text-content']\"):\n",
    "            \n",
    "            Reviewes_3.append(i.text)\n",
    "            \n",
    "            \n",
    "    except NoSuchElementException:\n",
    "        \n",
    "        Reviewes_3.append(\"-\")"
   ]
  },
  {
   "cell_type": "code",
   "execution_count": 38,
   "metadata": {},
   "outputs": [],
   "source": [
    "Reviewes_3_f = []\n",
    "\n",
    "for i in Reviewes_3:\n",
    "    \n",
    "    if i != \"-\":\n",
    "        \n",
    "        Reviewes_3_f.append(i)\n",
    "        \n",
    "    else:\n",
    "        \n",
    "        pass"
   ]
  },
  {
   "cell_type": "code",
   "execution_count": 39,
   "metadata": {},
   "outputs": [],
   "source": [
    "Reviewes_3_f = Reviewes_3_f[:350]\n",
    "\n",
    "Monitors_345 = pd.DataFrame(Reviewes_3_f,columns=[\"Review\"]) \n",
    "\n",
    "Monitors_345[\"Rating\"] = 3"
   ]
  },
  {
   "cell_type": "code",
   "execution_count": 40,
   "metadata": {},
   "outputs": [
    {
     "data": {
      "text/html": [
       "<div>\n",
       "<style scoped>\n",
       "    .dataframe tbody tr th:only-of-type {\n",
       "        vertical-align: middle;\n",
       "    }\n",
       "\n",
       "    .dataframe tbody tr th {\n",
       "        vertical-align: top;\n",
       "    }\n",
       "\n",
       "    .dataframe thead th {\n",
       "        text-align: right;\n",
       "    }\n",
       "</style>\n",
       "<table border=\"1\" class=\"dataframe\">\n",
       "  <thead>\n",
       "    <tr style=\"text-align: right;\">\n",
       "      <th></th>\n",
       "      <th>Review</th>\n",
       "      <th>Rating</th>\n",
       "    </tr>\n",
       "  </thead>\n",
       "  <tbody>\n",
       "    <tr>\n",
       "      <th>0</th>\n",
       "      <td>Product is ok if it is priced reasaonably near...</td>\n",
       "      <td>3</td>\n",
       "    </tr>\n",
       "    <tr>\n",
       "      <th>1</th>\n",
       "      <td>I would have rated this 3.5 because i think 3 ...</td>\n",
       "      <td>3</td>\n",
       "    </tr>\n",
       "    <tr>\n",
       "      <th>2</th>\n",
       "      <td>Good for the price. I got it for less than £12...</td>\n",
       "      <td>3</td>\n",
       "    </tr>\n",
       "    <tr>\n",
       "      <th>3</th>\n",
       "      <td>linea ok ,video ok ,prezzo onesto , ma non con...</td>\n",
       "      <td>3</td>\n",
       "    </tr>\n",
       "    <tr>\n",
       "      <th>4</th>\n",
       "      <td>Power cable does not match with adapter</td>\n",
       "      <td>3</td>\n",
       "    </tr>\n",
       "  </tbody>\n",
       "</table>\n",
       "</div>"
      ],
      "text/plain": [
       "                                              Review  Rating\n",
       "0  Product is ok if it is priced reasaonably near...       3\n",
       "1  I would have rated this 3.5 because i think 3 ...       3\n",
       "2  Good for the price. I got it for less than £12...       3\n",
       "3  linea ok ,video ok ,prezzo onesto , ma non con...       3\n",
       "4            Power cable does not match with adapter       3"
      ]
     },
     "execution_count": 40,
     "metadata": {},
     "output_type": "execute_result"
    }
   ],
   "source": [
    "Monitors_345.head()"
   ]
  },
  {
   "cell_type": "code",
   "execution_count": 41,
   "metadata": {},
   "outputs": [],
   "source": [
    "Monitors_345.to_csv(\"Monitors_345_3Star\")"
   ]
  },
  {
   "cell_type": "markdown",
   "metadata": {},
   "source": [
    "### Home theater"
   ]
  },
  {
   "cell_type": "code",
   "execution_count": 42,
   "metadata": {},
   "outputs": [],
   "source": [
    "# URL of the website \n",
    "url = \"https://www.amazon.in/\"\n",
    "\n",
    "driver.get(url)"
   ]
  },
  {
   "cell_type": "code",
   "execution_count": 43,
   "metadata": {},
   "outputs": [],
   "source": [
    "# targeting the search text box\n",
    "sesrch_query = driver.find_element_by_id(\"twotabsearchtextbox\")\n",
    "\n",
    "\n",
    "# searching Laptops\n",
    "sesrch_query.send_keys(\"Home Theater\")"
   ]
  },
  {
   "cell_type": "code",
   "execution_count": 44,
   "metadata": {},
   "outputs": [],
   "source": [
    "search_btn = driver.find_element_by_id(\"nav-search-submit-button\")\n",
    "\n",
    "search_btn.click()"
   ]
  },
  {
   "cell_type": "code",
   "execution_count": 45,
   "metadata": {},
   "outputs": [],
   "source": [
    "# Collecting url's for first 3 pages\n",
    "urls = []\n",
    "\n",
    "base_url = \"https://www.amazon.in/s?k=Home+Theater&page={}&qid=1627706371&ref=sr_pg_{}\"\n",
    "\n",
    "for i in range(4,12):\n",
    "    \n",
    "    driver.get(base_url.format(i,i))\n",
    "    \n",
    "    for url in driver.find_elements_by_xpath(\"//h2[@class='a-size-mini a-spacing-none a-color-base s-line-clamp-2']//a\"):\n",
    "        \n",
    "        urls.append(url.get_attribute(\"href\"))"
   ]
  },
  {
   "cell_type": "code",
   "execution_count": 46,
   "metadata": {},
   "outputs": [],
   "source": [
    "Reviewes_3 = []\n",
    "\n",
    "for link in urls:\n",
    "    \n",
    "    driver.get(link)\n",
    "    \n",
    "    try:\n",
    "        \n",
    "        cust_rev_5 = driver.find_element_by_css_selector('#histogramTable > tbody > tr:nth-child(3) > td.aok-nowrap > span.a-size-base > a')\n",
    "    \n",
    "        rev_5 = cust_rev_5.get_attribute(\"href\")\n",
    "    \n",
    "        driver.get(rev_5)\n",
    "        \n",
    "        for i in driver.find_elements_by_xpath(\"//span[@class='a-size-base review-text review-text-content']\"):\n",
    "            \n",
    "            Reviewes_3.append(i.text)\n",
    "            \n",
    "            \n",
    "    except NoSuchElementException:\n",
    "        \n",
    "        Reviewes_3.append(\"-\")"
   ]
  },
  {
   "cell_type": "code",
   "execution_count": 47,
   "metadata": {},
   "outputs": [],
   "source": [
    "Reviewes_3_f = []\n",
    "\n",
    "for i in Reviewes_3:\n",
    "    \n",
    "    if i != \"-\":\n",
    "        \n",
    "        Reviewes_3_f.append(i)\n",
    "        \n",
    "    else:\n",
    "        \n",
    "        pass"
   ]
  },
  {
   "cell_type": "code",
   "execution_count": 48,
   "metadata": {},
   "outputs": [],
   "source": [
    "Reviewes_3_f = Reviewes_3_f[:345]\n",
    "\n",
    "Home_345 = pd.DataFrame(Reviewes_3_f,columns=[\"Review\"]) \n",
    "\n",
    "Home_345[\"Rating\"] = 3"
   ]
  },
  {
   "cell_type": "code",
   "execution_count": 49,
   "metadata": {},
   "outputs": [
    {
     "data": {
      "text/html": [
       "<div>\n",
       "<style scoped>\n",
       "    .dataframe tbody tr th:only-of-type {\n",
       "        vertical-align: middle;\n",
       "    }\n",
       "\n",
       "    .dataframe tbody tr th {\n",
       "        vertical-align: top;\n",
       "    }\n",
       "\n",
       "    .dataframe thead th {\n",
       "        text-align: right;\n",
       "    }\n",
       "</style>\n",
       "<table border=\"1\" class=\"dataframe\">\n",
       "  <thead>\n",
       "    <tr style=\"text-align: right;\">\n",
       "      <th></th>\n",
       "      <th>Review</th>\n",
       "      <th>Rating</th>\n",
       "    </tr>\n",
       "  </thead>\n",
       "  <tbody>\n",
       "    <tr>\n",
       "      <th>0</th>\n",
       "      <td>The product is magnificent in this price range...</td>\n",
       "      <td>3</td>\n",
       "    </tr>\n",
       "    <tr>\n",
       "      <th>1</th>\n",
       "      <td>It's a average good produce for the price, sou...</td>\n",
       "      <td>3</td>\n",
       "    </tr>\n",
       "    <tr>\n",
       "      <th>2</th>\n",
       "      <td>sound quality is really good , got a physicall...</td>\n",
       "      <td>3</td>\n",
       "    </tr>\n",
       "    <tr>\n",
       "      <th>3</th>\n",
       "      <td>Overall looks are ok. The bass is far too heav...</td>\n",
       "      <td>3</td>\n",
       "    </tr>\n",
       "    <tr>\n",
       "      <th>4</th>\n",
       "      <td>Good speakers. But when playing music through ...</td>\n",
       "      <td>3</td>\n",
       "    </tr>\n",
       "  </tbody>\n",
       "</table>\n",
       "</div>"
      ],
      "text/plain": [
       "                                              Review  Rating\n",
       "0  The product is magnificent in this price range...       3\n",
       "1  It's a average good produce for the price, sou...       3\n",
       "2  sound quality is really good , got a physicall...       3\n",
       "3  Overall looks are ok. The bass is far too heav...       3\n",
       "4  Good speakers. But when playing music through ...       3"
      ]
     },
     "execution_count": 49,
     "metadata": {},
     "output_type": "execute_result"
    }
   ],
   "source": [
    "Home_345.head()"
   ]
  },
  {
   "cell_type": "code",
   "execution_count": 50,
   "metadata": {},
   "outputs": [],
   "source": [
    "Home_345.to_csv(\"Home_345_3Star\")"
   ]
  },
  {
   "cell_type": "markdown",
   "metadata": {},
   "source": [
    "### Router"
   ]
  },
  {
   "cell_type": "code",
   "execution_count": 51,
   "metadata": {},
   "outputs": [],
   "source": [
    "# URL of the website \n",
    "url = \"https://www.amazon.in/\"\n",
    "\n",
    "driver.get(url)"
   ]
  },
  {
   "cell_type": "code",
   "execution_count": 52,
   "metadata": {},
   "outputs": [],
   "source": [
    "# targeting the search text box\n",
    "sesrch_query = driver.find_element_by_id(\"twotabsearchtextbox\")\n",
    "\n",
    "\n",
    "# searching Laptops\n",
    "sesrch_query.send_keys(\"Routers\")"
   ]
  },
  {
   "cell_type": "code",
   "execution_count": 53,
   "metadata": {},
   "outputs": [],
   "source": [
    "search_btn = driver.find_element_by_id(\"nav-search-submit-button\")\n",
    "\n",
    "search_btn.click()"
   ]
  },
  {
   "cell_type": "code",
   "execution_count": 54,
   "metadata": {},
   "outputs": [],
   "source": [
    "# Collecting url's for first 3 pages\n",
    "urls = []\n",
    "\n",
    "base_url = \"https://www.amazon.in/s?k=Routers&page={}&qid=1627708534&ref=sr_pg_{}\"\n",
    "\n",
    "for i in range(4,12):\n",
    "    \n",
    "    driver.get(base_url.format(i,i))\n",
    "    \n",
    "    for url in driver.find_elements_by_xpath(\"//h2[@class='a-size-mini a-spacing-none a-color-base s-line-clamp-2']//a\"):\n",
    "        \n",
    "        urls.append(url.get_attribute(\"href\"))"
   ]
  },
  {
   "cell_type": "code",
   "execution_count": 55,
   "metadata": {},
   "outputs": [],
   "source": [
    "Reviewes_3 = []\n",
    "\n",
    "for link in urls:\n",
    "    \n",
    "    driver.get(link)\n",
    "    \n",
    "    try:\n",
    "        \n",
    "        cust_rev_5 = driver.find_element_by_css_selector('#histogramTable > tbody > tr:nth-child(3) > td.aok-nowrap > span.a-size-base > a')\n",
    "    \n",
    "        rev_5 = cust_rev_5.get_attribute(\"href\")\n",
    "    \n",
    "        driver.get(rev_5)\n",
    "        \n",
    "        for i in driver.find_elements_by_xpath(\"//span[@class='a-size-base review-text review-text-content']\"):\n",
    "            \n",
    "            Reviewes_3.append(i.text)\n",
    "            \n",
    "            \n",
    "    except NoSuchElementException:\n",
    "        \n",
    "        Reviewes_3.append(\"-\")"
   ]
  },
  {
   "cell_type": "code",
   "execution_count": 56,
   "metadata": {},
   "outputs": [],
   "source": [
    "Reviewes_3_f = []\n",
    "\n",
    "for i in Reviewes_3:\n",
    "    \n",
    "    if i != \"-\":\n",
    "        \n",
    "        Reviewes_3_f.append(i)\n",
    "        \n",
    "    else:\n",
    "        \n",
    "        pass"
   ]
  },
  {
   "cell_type": "code",
   "execution_count": 57,
   "metadata": {},
   "outputs": [],
   "source": [
    "Reviewes_3_f = Reviewes_3_f[:345]\n",
    "\n",
    "Routers_345 = pd.DataFrame(Reviewes_3_f,columns=[\"Review\"]) \n",
    "\n",
    "Routers_345[\"Rating\"] = 3"
   ]
  },
  {
   "cell_type": "code",
   "execution_count": 58,
   "metadata": {},
   "outputs": [
    {
     "data": {
      "text/html": [
       "<div>\n",
       "<style scoped>\n",
       "    .dataframe tbody tr th:only-of-type {\n",
       "        vertical-align: middle;\n",
       "    }\n",
       "\n",
       "    .dataframe tbody tr th {\n",
       "        vertical-align: top;\n",
       "    }\n",
       "\n",
       "    .dataframe thead th {\n",
       "        text-align: right;\n",
       "    }\n",
       "</style>\n",
       "<table border=\"1\" class=\"dataframe\">\n",
       "  <thead>\n",
       "    <tr style=\"text-align: right;\">\n",
       "      <th></th>\n",
       "      <th>Review</th>\n",
       "      <th>Rating</th>\n",
       "    </tr>\n",
       "  </thead>\n",
       "  <tbody>\n",
       "    <tr>\n",
       "      <th>0</th>\n",
       "      <td>Hey everyone. So the wifi is cool and yes it d...</td>\n",
       "      <td>3</td>\n",
       "    </tr>\n",
       "    <tr>\n",
       "      <th>1</th>\n",
       "      <td>Using it for a few months now in a 3BHK 1100Sq...</td>\n",
       "      <td>3</td>\n",
       "    </tr>\n",
       "    <tr>\n",
       "      <th>2</th>\n",
       "      <td>Very poor wifi coverage on both the bands.\\nTw...</td>\n",
       "      <td>3</td>\n",
       "    </tr>\n",
       "    <tr>\n",
       "      <th>3</th>\n",
       "      <td>Dont get fooled by the number of antennas it h...</td>\n",
       "      <td>3</td>\n",
       "    </tr>\n",
       "    <tr>\n",
       "      <th>4</th>\n",
       "      <td>Easily the most popular router out there but i...</td>\n",
       "      <td>3</td>\n",
       "    </tr>\n",
       "  </tbody>\n",
       "</table>\n",
       "</div>"
      ],
      "text/plain": [
       "                                              Review  Rating\n",
       "0  Hey everyone. So the wifi is cool and yes it d...       3\n",
       "1  Using it for a few months now in a 3BHK 1100Sq...       3\n",
       "2  Very poor wifi coverage on both the bands.\\nTw...       3\n",
       "3  Dont get fooled by the number of antennas it h...       3\n",
       "4  Easily the most popular router out there but i...       3"
      ]
     },
     "execution_count": 58,
     "metadata": {},
     "output_type": "execute_result"
    }
   ],
   "source": [
    "Routers_345.head()"
   ]
  },
  {
   "cell_type": "code",
   "execution_count": 59,
   "metadata": {},
   "outputs": [],
   "source": [
    "Routers_345.to_csv(\"Routers_345_3Star\")"
   ]
  },
  {
   "cell_type": "markdown",
   "metadata": {},
   "source": [
    "## 2 Star"
   ]
  },
  {
   "cell_type": "code",
   "execution_count": 69,
   "metadata": {},
   "outputs": [],
   "source": [
    "# URL of the website \n",
    "url = \"https://www.amazon.in/\"\n",
    "\n",
    "driver.get(url)"
   ]
  },
  {
   "cell_type": "code",
   "execution_count": 70,
   "metadata": {},
   "outputs": [],
   "source": [
    "# targeting the search text box\n",
    "sesrch_query = driver.find_element_by_id(\"twotabsearchtextbox\")\n",
    "\n",
    "\n",
    "# searching Laptops\n",
    "sesrch_query.send_keys(\"Laptops\")"
   ]
  },
  {
   "cell_type": "code",
   "execution_count": 71,
   "metadata": {},
   "outputs": [],
   "source": [
    "search_btn = driver.find_element_by_id(\"nav-search-submit-button\")\n",
    "\n",
    "search_btn.click()"
   ]
  },
  {
   "cell_type": "code",
   "execution_count": 72,
   "metadata": {},
   "outputs": [],
   "source": [
    "# Collecting url's for first 3 pages\n",
    "urls = []\n",
    "\n",
    "base_url = \"https://www.amazon.in/s?k=Laptops&page={}&qid=1627559975&ref=sr_pg_{}\"\n",
    "\n",
    "for i in range(4,14):\n",
    "    \n",
    "    driver.get(base_url.format(i,i))\n",
    "    \n",
    "    for url in driver.find_elements_by_xpath(\"//h2[@class='a-size-mini a-spacing-none a-color-base s-line-clamp-2']//a\"):\n",
    "        \n",
    "        urls.append(url.get_attribute(\"href\"))"
   ]
  },
  {
   "cell_type": "code",
   "execution_count": 74,
   "metadata": {},
   "outputs": [],
   "source": [
    "Reviewes_2 = []\n",
    "\n",
    "for link in urls:\n",
    "    \n",
    "    driver.get(link)\n",
    "    \n",
    "    try:\n",
    "        \n",
    "        cust_rev_5 = driver.find_element_by_css_selector('#histogramTable > tbody > tr:nth-child(4) > td.aok-nowrap > span.a-size-base > a')\n",
    "    \n",
    "        rev_5 = cust_rev_5.get_attribute(\"href\")\n",
    "    \n",
    "        driver.get(rev_5)\n",
    "        \n",
    "        for i in driver.find_elements_by_xpath(\"//span[@class='a-size-base review-text review-text-content']\"):\n",
    "            \n",
    "            Reviewes_2.append(i.text)\n",
    "            \n",
    "            \n",
    "    except NoSuchElementException:\n",
    "        \n",
    "        Reviewes_2.append(\"-\")"
   ]
  },
  {
   "cell_type": "code",
   "execution_count": 76,
   "metadata": {},
   "outputs": [],
   "source": [
    "Reviewes_2_f = []\n",
    "\n",
    "for i in Reviewes_2:\n",
    "    \n",
    "    if i != \"-\":\n",
    "        \n",
    "        Reviewes_2_f.append(i)\n",
    "        \n",
    "    else:\n",
    "        \n",
    "        pass"
   ]
  },
  {
   "cell_type": "code",
   "execution_count": 78,
   "metadata": {},
   "outputs": [],
   "source": [
    "Reviewes_2_f = Reviewes_2_f[:350]\n",
    "\n",
    "Laptop_350 = pd.DataFrame(Reviewes_2_f,columns=[\"Review\"]) \n",
    "\n",
    "Laptop_350[\"Rating\"] = 2"
   ]
  },
  {
   "cell_type": "code",
   "execution_count": 81,
   "metadata": {},
   "outputs": [],
   "source": [
    "Laptop_350.to_csv(\"Laptop_350\")"
   ]
  },
  {
   "cell_type": "markdown",
   "metadata": {},
   "source": [
    "## Phones"
   ]
  },
  {
   "cell_type": "code",
   "execution_count": 82,
   "metadata": {},
   "outputs": [],
   "source": [
    "# URL of the website \n",
    "url = \"https://www.amazon.in/\"\n",
    "\n",
    "driver.get(url)"
   ]
  },
  {
   "cell_type": "code",
   "execution_count": 83,
   "metadata": {},
   "outputs": [],
   "source": [
    "# targeting the search text box\n",
    "sesrch_query = driver.find_element_by_id(\"twotabsearchtextbox\")\n",
    "\n",
    "\n",
    "# searching Laptops\n",
    "sesrch_query.send_keys(\"Phones\")"
   ]
  },
  {
   "cell_type": "code",
   "execution_count": 84,
   "metadata": {},
   "outputs": [],
   "source": [
    "search_btn = driver.find_element_by_id(\"nav-search-submit-button\")\n",
    "\n",
    "search_btn.click()"
   ]
  },
  {
   "cell_type": "code",
   "execution_count": 85,
   "metadata": {},
   "outputs": [],
   "source": [
    "# Collecting url's for first 3 pages\n",
    "urls = []\n",
    "\n",
    "base_url = \"https://www.amazon.in/s?k=Phones&page={}&qid=1627713201&ref=sr_pg_{}\"\n",
    "\n",
    "for i in range(4,15):\n",
    "    \n",
    "    driver.get(base_url.format(i,i))\n",
    "    \n",
    "    for url in driver.find_elements_by_xpath(\"//h2[@class='a-size-mini a-spacing-none a-color-base s-line-clamp-2']//a\"):\n",
    "        \n",
    "        urls.append(url.get_attribute(\"href\"))"
   ]
  },
  {
   "cell_type": "code",
   "execution_count": 87,
   "metadata": {},
   "outputs": [],
   "source": [
    "Reviewes_2 = []\n",
    "\n",
    "for link in urls:\n",
    "    \n",
    "    driver.get(link)\n",
    "    \n",
    "    try:\n",
    "        \n",
    "        cust_rev_5 = driver.find_element_by_css_selector('#histogramTable > tbody > tr:nth-child(4) > td.aok-nowrap > span.a-size-base > a')\n",
    "    \n",
    "        rev_5 = cust_rev_5.get_attribute(\"href\")\n",
    "    \n",
    "        driver.get(rev_5)\n",
    "        \n",
    "        for i in driver.find_elements_by_xpath(\"//span[@class='a-size-base review-text review-text-content']\"):\n",
    "            \n",
    "            Reviewes_2.append(i.text)\n",
    "            \n",
    "            \n",
    "    except NoSuchElementException:\n",
    "        \n",
    "        Reviewes_2.append(\"-\")"
   ]
  },
  {
   "cell_type": "code",
   "execution_count": 89,
   "metadata": {},
   "outputs": [],
   "source": [
    "Reviewes_2_f = []\n",
    "\n",
    "for i in Reviewes_2:\n",
    "    \n",
    "    if i != \"-\":\n",
    "        \n",
    "        Reviewes_2_f.append(i)\n",
    "        \n",
    "    else:\n",
    "        \n",
    "        pass"
   ]
  },
  {
   "cell_type": "code",
   "execution_count": 91,
   "metadata": {},
   "outputs": [],
   "source": [
    "Reviewes_2_f = Reviewes_2_f[:350]\n",
    "\n",
    "Phone_350 = pd.DataFrame(Reviewes_2_f,columns=[\"Review\"]) \n",
    "\n",
    "Phone_350[\"Rating\"] = 2"
   ]
  },
  {
   "cell_type": "code",
   "execution_count": 92,
   "metadata": {},
   "outputs": [
    {
     "data": {
      "text/html": [
       "<div>\n",
       "<style scoped>\n",
       "    .dataframe tbody tr th:only-of-type {\n",
       "        vertical-align: middle;\n",
       "    }\n",
       "\n",
       "    .dataframe tbody tr th {\n",
       "        vertical-align: top;\n",
       "    }\n",
       "\n",
       "    .dataframe thead th {\n",
       "        text-align: right;\n",
       "    }\n",
       "</style>\n",
       "<table border=\"1\" class=\"dataframe\">\n",
       "  <thead>\n",
       "    <tr style=\"text-align: right;\">\n",
       "      <th></th>\n",
       "      <th>Review</th>\n",
       "      <th>Rating</th>\n",
       "    </tr>\n",
       "  </thead>\n",
       "  <tbody>\n",
       "    <tr>\n",
       "      <th>0</th>\n",
       "      <td>Average phone, camera quality is worst, screen...</td>\n",
       "      <td>2</td>\n",
       "    </tr>\n",
       "    <tr>\n",
       "      <th>1</th>\n",
       "      <td>Battry only 4000mah and no\\nSnapdragan porsese...</td>\n",
       "      <td>2</td>\n",
       "    </tr>\n",
       "    <tr>\n",
       "      <th>2</th>\n",
       "      <td>battery drain in 2hrs. useless phone plz don't...</td>\n",
       "      <td>2</td>\n",
       "    </tr>\n",
       "    <tr>\n",
       "      <th>3</th>\n",
       "      <td>Overall look, it's good\\nBut at the software l...</td>\n",
       "      <td>2</td>\n",
       "    </tr>\n",
       "    <tr>\n",
       "      <th>4</th>\n",
       "      <td>Overall average phone. But the value of money ...</td>\n",
       "      <td>2</td>\n",
       "    </tr>\n",
       "  </tbody>\n",
       "</table>\n",
       "</div>"
      ],
      "text/plain": [
       "                                              Review  Rating\n",
       "0  Average phone, camera quality is worst, screen...       2\n",
       "1  Battry only 4000mah and no\\nSnapdragan porsese...       2\n",
       "2  battery drain in 2hrs. useless phone plz don't...       2\n",
       "3  Overall look, it's good\\nBut at the software l...       2\n",
       "4  Overall average phone. But the value of money ...       2"
      ]
     },
     "execution_count": 92,
     "metadata": {},
     "output_type": "execute_result"
    }
   ],
   "source": [
    "Phone_350.head()"
   ]
  },
  {
   "cell_type": "code",
   "execution_count": 93,
   "metadata": {},
   "outputs": [],
   "source": [
    "Phone_350.to_csv(\"Phone_350\")"
   ]
  },
  {
   "cell_type": "markdown",
   "metadata": {},
   "source": [
    "## Headphones"
   ]
  },
  {
   "cell_type": "code",
   "execution_count": 94,
   "metadata": {},
   "outputs": [],
   "source": [
    "# URL of the website \n",
    "url = \"https://www.amazon.in/\"\n",
    "\n",
    "driver.get(url)"
   ]
  },
  {
   "cell_type": "code",
   "execution_count": 95,
   "metadata": {},
   "outputs": [],
   "source": [
    "# targeting the search text box\n",
    "sesrch_query = driver.find_element_by_id(\"twotabsearchtextbox\")\n",
    "\n",
    "\n",
    "# searching Laptops\n",
    "sesrch_query.send_keys(\"Headphones\")"
   ]
  },
  {
   "cell_type": "code",
   "execution_count": 96,
   "metadata": {},
   "outputs": [],
   "source": [
    "search_btn = driver.find_element_by_id(\"nav-search-submit-button\")\n",
    "\n",
    "search_btn.click()"
   ]
  },
  {
   "cell_type": "code",
   "execution_count": 97,
   "metadata": {},
   "outputs": [],
   "source": [
    "# Collecting url's for first 3 pages\n",
    "urls = []\n",
    "\n",
    "base_url = \"https://www.amazon.in/s?k=Headphones&page={}&qid=1627715067&ref=sr_pg_{}\"\n",
    "\n",
    "for i in range(4,15):\n",
    "    \n",
    "    driver.get(base_url.format(i,i))\n",
    "    \n",
    "    for url in driver.find_elements_by_xpath(\"//h2[@class='a-size-mini a-spacing-none a-color-base s-line-clamp-2']//a\"):\n",
    "        \n",
    "        urls.append(url.get_attribute(\"href\"))"
   ]
  },
  {
   "cell_type": "code",
   "execution_count": 99,
   "metadata": {},
   "outputs": [],
   "source": [
    "Reviewes_2 = []\n",
    "\n",
    "for link in urls:\n",
    "    \n",
    "    driver.get(link)\n",
    "    \n",
    "    try:\n",
    "        \n",
    "        cust_rev_5 = driver.find_element_by_css_selector('#histogramTable > tbody > tr:nth-child(4) > td.aok-nowrap > span.a-size-base > a')\n",
    "    \n",
    "        rev_5 = cust_rev_5.get_attribute(\"href\")\n",
    "    \n",
    "        driver.get(rev_5)\n",
    "        \n",
    "        for i in driver.find_elements_by_xpath(\"//span[@class='a-size-base review-text review-text-content']\"):\n",
    "            \n",
    "            Reviewes_2.append(i.text)\n",
    "            \n",
    "            \n",
    "    except NoSuchElementException:\n",
    "        \n",
    "        Reviewes_2.append(\"-\")"
   ]
  },
  {
   "cell_type": "code",
   "execution_count": 101,
   "metadata": {},
   "outputs": [],
   "source": [
    "Reviewes_2_f = []\n",
    "\n",
    "for i in Reviewes_2:\n",
    "    \n",
    "    if i != \"-\":\n",
    "        \n",
    "        Reviewes_2_f.append(i)\n",
    "        \n",
    "    else:\n",
    "        \n",
    "        pass"
   ]
  },
  {
   "cell_type": "code",
   "execution_count": 103,
   "metadata": {},
   "outputs": [],
   "source": [
    "Reviewes_2_f = Reviewes_2_f[:350]\n",
    "\n",
    "Headphones_350 = pd.DataFrame(Reviewes_2_f,columns=[\"Review\"]) \n",
    "\n",
    "Headphones_350[\"Rating\"] = 2"
   ]
  },
  {
   "cell_type": "code",
   "execution_count": 104,
   "metadata": {},
   "outputs": [
    {
     "data": {
      "text/html": [
       "<div>\n",
       "<style scoped>\n",
       "    .dataframe tbody tr th:only-of-type {\n",
       "        vertical-align: middle;\n",
       "    }\n",
       "\n",
       "    .dataframe tbody tr th {\n",
       "        vertical-align: top;\n",
       "    }\n",
       "\n",
       "    .dataframe thead th {\n",
       "        text-align: right;\n",
       "    }\n",
       "</style>\n",
       "<table border=\"1\" class=\"dataframe\">\n",
       "  <thead>\n",
       "    <tr style=\"text-align: right;\">\n",
       "      <th></th>\n",
       "      <th>Review</th>\n",
       "      <th>Rating</th>\n",
       "    </tr>\n",
       "  </thead>\n",
       "  <tbody>\n",
       "    <tr>\n",
       "      <th>0</th>\n",
       "      <td>Within a few weeks of getting this the earphon...</td>\n",
       "      <td>2</td>\n",
       "    </tr>\n",
       "    <tr>\n",
       "      <th>1</th>\n",
       "      <td>Buy only if you have no other choice left. The...</td>\n",
       "      <td>2</td>\n",
       "    </tr>\n",
       "    <tr>\n",
       "      <th>2</th>\n",
       "      <td>Buying this earphone was a mistake. The fit of...</td>\n",
       "      <td>2</td>\n",
       "    </tr>\n",
       "    <tr>\n",
       "      <th>3</th>\n",
       "      <td>1. My ear starts paining within 15 minutes of ...</td>\n",
       "      <td>2</td>\n",
       "    </tr>\n",
       "    <tr>\n",
       "      <th>4</th>\n",
       "      <td>Low Life. It worked well while it lasted. Afte...</td>\n",
       "      <td>2</td>\n",
       "    </tr>\n",
       "  </tbody>\n",
       "</table>\n",
       "</div>"
      ],
      "text/plain": [
       "                                              Review  Rating\n",
       "0  Within a few weeks of getting this the earphon...       2\n",
       "1  Buy only if you have no other choice left. The...       2\n",
       "2  Buying this earphone was a mistake. The fit of...       2\n",
       "3  1. My ear starts paining within 15 minutes of ...       2\n",
       "4  Low Life. It worked well while it lasted. Afte...       2"
      ]
     },
     "execution_count": 104,
     "metadata": {},
     "output_type": "execute_result"
    }
   ],
   "source": [
    "Headphones_350.head()"
   ]
  },
  {
   "cell_type": "code",
   "execution_count": 105,
   "metadata": {},
   "outputs": [],
   "source": [
    "Headphones_350.to_csv(\"Headphones_350\")"
   ]
  },
  {
   "cell_type": "markdown",
   "metadata": {},
   "source": [
    "### smart watches"
   ]
  },
  {
   "cell_type": "code",
   "execution_count": 106,
   "metadata": {},
   "outputs": [],
   "source": [
    "# URL of the website \n",
    "url = \"https://www.amazon.in/\"\n",
    "\n",
    "driver.get(url)"
   ]
  },
  {
   "cell_type": "code",
   "execution_count": 108,
   "metadata": {},
   "outputs": [],
   "source": [
    "# targeting the search text box\n",
    "sesrch_query = driver.find_element_by_id(\"twotabsearchtextbox\")\n",
    "\n",
    "\n",
    "# searching Laptops\n",
    "sesrch_query.send_keys(\"Smart Watches\")"
   ]
  },
  {
   "cell_type": "code",
   "execution_count": 109,
   "metadata": {},
   "outputs": [],
   "source": [
    "search_btn = driver.find_element_by_id(\"nav-search-submit-button\")\n",
    "\n",
    "search_btn.click()"
   ]
  },
  {
   "cell_type": "code",
   "execution_count": 113,
   "metadata": {},
   "outputs": [],
   "source": [
    "# Collecting url's for first 3 pages\n",
    "urls = []\n",
    "\n",
    "base_url = \"https://www.amazon.in/s?k=Smart+Watches&page={}&qid=1627721019&ref=sr_pg_{}\"\n",
    "\n",
    "for i in range(4,15):\n",
    "    \n",
    "    driver.get(base_url.format(i,i))\n",
    "    \n",
    "    for url in driver.find_elements_by_xpath(\"//h2[@class='a-size-mini a-spacing-none a-color-base s-line-clamp-2']//a\"):\n",
    "        \n",
    "        urls.append(url.get_attribute(\"href\"))"
   ]
  },
  {
   "cell_type": "code",
   "execution_count": 115,
   "metadata": {},
   "outputs": [],
   "source": [
    "Reviewes_2 = []\n",
    "\n",
    "for link in urls:\n",
    "    \n",
    "    driver.get(link)\n",
    "    \n",
    "    try:\n",
    "        \n",
    "        cust_rev_5 = driver.find_element_by_css_selector('#histogramTable > tbody > tr:nth-child(4) > td.aok-nowrap > span.a-size-base > a')\n",
    "    \n",
    "        rev_5 = cust_rev_5.get_attribute(\"href\")\n",
    "    \n",
    "        driver.get(rev_5)\n",
    "        \n",
    "        for i in driver.find_elements_by_xpath(\"//span[@class='a-size-base review-text review-text-content']\"):\n",
    "            \n",
    "            Reviewes_2.append(i.text)\n",
    "            \n",
    "            \n",
    "    except NoSuchElementException:\n",
    "        \n",
    "        Reviewes_2.append(\"-\")"
   ]
  },
  {
   "cell_type": "code",
   "execution_count": 117,
   "metadata": {},
   "outputs": [],
   "source": [
    "Reviewes_2_f = []\n",
    "\n",
    "for i in Reviewes_2:\n",
    "    \n",
    "    if i != \"-\":\n",
    "        \n",
    "        Reviewes_2_f.append(i)\n",
    "        \n",
    "    else:\n",
    "        \n",
    "        pass"
   ]
  },
  {
   "cell_type": "code",
   "execution_count": 119,
   "metadata": {},
   "outputs": [],
   "source": [
    "Reviewes_2_f = Reviewes_2_f[:350]\n",
    "\n",
    "Smart_Watch_350 = pd.DataFrame(Reviewes_2_f,columns=[\"Review\"]) \n",
    "\n",
    "Smart_Watch_350[\"Rating\"] = 2"
   ]
  },
  {
   "cell_type": "code",
   "execution_count": 120,
   "metadata": {},
   "outputs": [
    {
     "data": {
      "text/html": [
       "<div>\n",
       "<style scoped>\n",
       "    .dataframe tbody tr th:only-of-type {\n",
       "        vertical-align: middle;\n",
       "    }\n",
       "\n",
       "    .dataframe tbody tr th {\n",
       "        vertical-align: top;\n",
       "    }\n",
       "\n",
       "    .dataframe thead th {\n",
       "        text-align: right;\n",
       "    }\n",
       "</style>\n",
       "<table border=\"1\" class=\"dataframe\">\n",
       "  <thead>\n",
       "    <tr style=\"text-align: right;\">\n",
       "      <th></th>\n",
       "      <th>Review</th>\n",
       "      <th>Rating</th>\n",
       "    </tr>\n",
       "  </thead>\n",
       "  <tbody>\n",
       "    <tr>\n",
       "      <th>0</th>\n",
       "      <td>Pros:\\n\\n1. Brighter display\\n2. Design Looks ...</td>\n",
       "      <td>2</td>\n",
       "    </tr>\n",
       "    <tr>\n",
       "      <th>1</th>\n",
       "      <td>After getting it in the first lot at 9998, it ...</td>\n",
       "      <td>2</td>\n",
       "    </tr>\n",
       "    <tr>\n",
       "      <th>2</th>\n",
       "      <td>Xiaomi wear is not as good as mi fit. The mi w...</td>\n",
       "      <td>2</td>\n",
       "    </tr>\n",
       "    <tr>\n",
       "      <th>3</th>\n",
       "      <td>I purchased this last October and after using ...</td>\n",
       "      <td>2</td>\n",
       "    </tr>\n",
       "    <tr>\n",
       "      <th>4</th>\n",
       "      <td>Go for a decent smartwatch or simply a branded...</td>\n",
       "      <td>2</td>\n",
       "    </tr>\n",
       "  </tbody>\n",
       "</table>\n",
       "</div>"
      ],
      "text/plain": [
       "                                              Review  Rating\n",
       "0  Pros:\\n\\n1. Brighter display\\n2. Design Looks ...       2\n",
       "1  After getting it in the first lot at 9998, it ...       2\n",
       "2  Xiaomi wear is not as good as mi fit. The mi w...       2\n",
       "3  I purchased this last October and after using ...       2\n",
       "4  Go for a decent smartwatch or simply a branded...       2"
      ]
     },
     "execution_count": 120,
     "metadata": {},
     "output_type": "execute_result"
    }
   ],
   "source": [
    "Smart_Watch_350.head()"
   ]
  },
  {
   "cell_type": "code",
   "execution_count": 121,
   "metadata": {},
   "outputs": [],
   "source": [
    "Smart_Watch_350.to_csv(\"Smart_Watch_350\")"
   ]
  },
  {
   "cell_type": "markdown",
   "metadata": {},
   "source": [
    "### Professional Cameras"
   ]
  },
  {
   "cell_type": "code",
   "execution_count": 126,
   "metadata": {},
   "outputs": [],
   "source": [
    "# URL of the website \n",
    "url = \"https://www.amazon.in/\"\n",
    "\n",
    "driver.get(url)"
   ]
  },
  {
   "cell_type": "code",
   "execution_count": 127,
   "metadata": {},
   "outputs": [],
   "source": [
    "# targeting the search text box\n",
    "sesrch_query = driver.find_element_by_id(\"twotabsearchtextbox\")\n",
    "\n",
    "\n",
    "# searching Laptops\n",
    "sesrch_query.send_keys(\"Camera dslr\")"
   ]
  },
  {
   "cell_type": "code",
   "execution_count": 128,
   "metadata": {},
   "outputs": [],
   "source": [
    "search_btn = driver.find_element_by_id(\"nav-search-submit-button\")\n",
    "\n",
    "search_btn.click()"
   ]
  },
  {
   "cell_type": "code",
   "execution_count": 129,
   "metadata": {},
   "outputs": [],
   "source": [
    "# Collecting url's for first 3 pages\n",
    "urls = []\n",
    "\n",
    "base_url = \"https://www.amazon.in/s?k=Camera+dslr&page={}&qid=1627723855&ref=sr_pg_{}\"\n",
    "\n",
    "for i in range(4,12):\n",
    "    \n",
    "    driver.get(base_url.format(i,i))\n",
    "    \n",
    "    for url in driver.find_elements_by_xpath(\"//h2[@class='a-size-mini a-spacing-none a-color-base s-line-clamp-2']//a\"):\n",
    "        \n",
    "        urls.append(url.get_attribute(\"href\"))"
   ]
  },
  {
   "cell_type": "code",
   "execution_count": 131,
   "metadata": {},
   "outputs": [],
   "source": [
    "Reviewes_2 = []\n",
    "\n",
    "for link in urls:\n",
    "    \n",
    "    driver.get(link)\n",
    "    \n",
    "    try:\n",
    "        \n",
    "        cust_rev_5 = driver.find_element_by_css_selector('#histogramTable > tbody > tr:nth-child(4) > td.aok-nowrap > span.a-size-base > a')\n",
    "    \n",
    "        rev_5 = cust_rev_5.get_attribute(\"href\")\n",
    "    \n",
    "        driver.get(rev_5)\n",
    "        \n",
    "        for i in driver.find_elements_by_xpath(\"//span[@class='a-size-base review-text review-text-content']\"):\n",
    "            \n",
    "            Reviewes_2.append(i.text)\n",
    "            \n",
    "            \n",
    "    except NoSuchElementException:\n",
    "        \n",
    "        Reviewes_2.append(\"-\")"
   ]
  },
  {
   "cell_type": "code",
   "execution_count": 133,
   "metadata": {},
   "outputs": [],
   "source": [
    "Reviewes_2_f = []\n",
    "\n",
    "for i in Reviewes_2:\n",
    "    \n",
    "    if i != \"-\":\n",
    "        \n",
    "        Reviewes_2_f.append(i)\n",
    "        \n",
    "    else:\n",
    "        \n",
    "        pass"
   ]
  },
  {
   "cell_type": "code",
   "execution_count": 134,
   "metadata": {},
   "outputs": [
    {
     "data": {
      "text/plain": [
       "330"
      ]
     },
     "execution_count": 134,
     "metadata": {},
     "output_type": "execute_result"
    }
   ],
   "source": [
    "len(Reviewes_2_f)"
   ]
  },
  {
   "cell_type": "code",
   "execution_count": 135,
   "metadata": {},
   "outputs": [],
   "source": [
    "Camera_350 = pd.DataFrame(Reviewes_2_f,columns=[\"Review\"]) \n",
    "\n",
    "Camera_350[\"Rating\"] = 2"
   ]
  },
  {
   "cell_type": "code",
   "execution_count": 137,
   "metadata": {},
   "outputs": [
    {
     "data": {
      "text/html": [
       "<div>\n",
       "<style scoped>\n",
       "    .dataframe tbody tr th:only-of-type {\n",
       "        vertical-align: middle;\n",
       "    }\n",
       "\n",
       "    .dataframe tbody tr th {\n",
       "        vertical-align: top;\n",
       "    }\n",
       "\n",
       "    .dataframe thead th {\n",
       "        text-align: right;\n",
       "    }\n",
       "</style>\n",
       "<table border=\"1\" class=\"dataframe\">\n",
       "  <thead>\n",
       "    <tr style=\"text-align: right;\">\n",
       "      <th></th>\n",
       "      <th>Review</th>\n",
       "      <th>Rating</th>\n",
       "    </tr>\n",
       "  </thead>\n",
       "  <tbody>\n",
       "    <tr>\n",
       "      <th>0</th>\n",
       "      <td>The bag is not so good. There is lot more safe...</td>\n",
       "      <td>2</td>\n",
       "    </tr>\n",
       "    <tr>\n",
       "      <th>1</th>\n",
       "      <td>Bag opening direction is not correct when used...</td>\n",
       "      <td>2</td>\n",
       "    </tr>\n",
       "    <tr>\n",
       "      <th>2</th>\n",
       "      <td>It’s not the best but it’s good at this price ...</td>\n",
       "      <td>2</td>\n",
       "    </tr>\n",
       "    <tr>\n",
       "      <th>3</th>\n",
       "      <td>No rain cover,no protection under the bag surf...</td>\n",
       "      <td>2</td>\n",
       "    </tr>\n",
       "    <tr>\n",
       "      <th>4</th>\n",
       "      <td>😠😠😠😠</td>\n",
       "      <td>2</td>\n",
       "    </tr>\n",
       "  </tbody>\n",
       "</table>\n",
       "</div>"
      ],
      "text/plain": [
       "                                              Review  Rating\n",
       "0  The bag is not so good. There is lot more safe...       2\n",
       "1  Bag opening direction is not correct when used...       2\n",
       "2  It’s not the best but it’s good at this price ...       2\n",
       "3  No rain cover,no protection under the bag surf...       2\n",
       "4                                               😠😠😠😠       2"
      ]
     },
     "execution_count": 137,
     "metadata": {},
     "output_type": "execute_result"
    }
   ],
   "source": [
    "Camera_350.head()"
   ]
  },
  {
   "cell_type": "code",
   "execution_count": 138,
   "metadata": {},
   "outputs": [],
   "source": [
    "Camera_350.to_csv(\"Camera_350\")"
   ]
  },
  {
   "cell_type": "code",
   "execution_count": 139,
   "metadata": {},
   "outputs": [],
   "source": [
    "# URL of the website \n",
    "url = \"https://www.amazon.in/\"\n",
    "\n",
    "driver.get(url)"
   ]
  },
  {
   "cell_type": "code",
   "execution_count": 140,
   "metadata": {},
   "outputs": [],
   "source": [
    "# targeting the search text box\n",
    "sesrch_query = driver.find_element_by_id(\"twotabsearchtextbox\")\n",
    "\n",
    "\n",
    "# searching Laptops\n",
    "sesrch_query.send_keys(\"Printers\")"
   ]
  },
  {
   "cell_type": "code",
   "execution_count": 141,
   "metadata": {},
   "outputs": [],
   "source": [
    "search_btn = driver.find_element_by_id(\"nav-search-submit-button\")\n",
    "\n",
    "search_btn.click()"
   ]
  },
  {
   "cell_type": "code",
   "execution_count": 142,
   "metadata": {},
   "outputs": [],
   "source": [
    "# Collecting url's for first 3 pages\n",
    "urls = []\n",
    "\n",
    "base_url = \"https://www.amazon.in/s?k=Printers&page={}&qid=1627725916&ref=sr_pg_{}\"\n",
    "\n",
    "for i in range(4,14):\n",
    "    \n",
    "    driver.get(base_url.format(i,i))\n",
    "    \n",
    "    for url in driver.find_elements_by_xpath(\"//h2[@class='a-size-mini a-spacing-none a-color-base s-line-clamp-2']//a\"):\n",
    "        \n",
    "        urls.append(url.get_attribute(\"href\"))"
   ]
  },
  {
   "cell_type": "code",
   "execution_count": 144,
   "metadata": {},
   "outputs": [],
   "source": [
    "Reviewes_2 = []\n",
    "\n",
    "for link in urls:\n",
    "    \n",
    "    driver.get(link)\n",
    "    \n",
    "    try:\n",
    "        \n",
    "        cust_rev_5 = driver.find_element_by_css_selector('#histogramTable > tbody > tr:nth-child(4) > td.aok-nowrap > span.a-size-base > a')\n",
    "    \n",
    "        rev_5 = cust_rev_5.get_attribute(\"href\")\n",
    "    \n",
    "        driver.get(rev_5)\n",
    "        \n",
    "        for i in driver.find_elements_by_xpath(\"//span[@class='a-size-base review-text review-text-content']\"):\n",
    "            \n",
    "            Reviewes_2.append(i.text)\n",
    "            \n",
    "            \n",
    "    except NoSuchElementException:\n",
    "        \n",
    "        Reviewes_2.append(\"-\")"
   ]
  },
  {
   "cell_type": "code",
   "execution_count": 146,
   "metadata": {},
   "outputs": [],
   "source": [
    "Reviewes_2_f = []\n",
    "\n",
    "for i in Reviewes_2:\n",
    "    \n",
    "    if i != \"-\":\n",
    "        \n",
    "        Reviewes_2_f.append(i)\n",
    "        \n",
    "    else:\n",
    "        \n",
    "        pass"
   ]
  },
  {
   "cell_type": "code",
   "execution_count": 148,
   "metadata": {},
   "outputs": [],
   "source": [
    "Printers_350 = pd.DataFrame(Reviewes_2_f,columns=[\"Review\"]) \n",
    "\n",
    "Printers_350[\"Rating\"] = 2"
   ]
  },
  {
   "cell_type": "code",
   "execution_count": 149,
   "metadata": {},
   "outputs": [
    {
     "data": {
      "text/html": [
       "<div>\n",
       "<style scoped>\n",
       "    .dataframe tbody tr th:only-of-type {\n",
       "        vertical-align: middle;\n",
       "    }\n",
       "\n",
       "    .dataframe tbody tr th {\n",
       "        vertical-align: top;\n",
       "    }\n",
       "\n",
       "    .dataframe thead th {\n",
       "        text-align: right;\n",
       "    }\n",
       "</style>\n",
       "<table border=\"1\" class=\"dataframe\">\n",
       "  <thead>\n",
       "    <tr style=\"text-align: right;\">\n",
       "      <th></th>\n",
       "      <th>Review</th>\n",
       "      <th>Rating</th>\n",
       "    </tr>\n",
       "  </thead>\n",
       "  <tbody>\n",
       "    <tr>\n",
       "      <th>0</th>\n",
       "      <td>Paper jam is a main problem. Suitable software...</td>\n",
       "      <td>2</td>\n",
       "    </tr>\n",
       "    <tr>\n",
       "      <th>1</th>\n",
       "      <td>Installation is bit hetic if you don’t have an...</td>\n",
       "      <td>2</td>\n",
       "    </tr>\n",
       "    <tr>\n",
       "      <th>2</th>\n",
       "      <td>The CD received from the product does not inst...</td>\n",
       "      <td>2</td>\n",
       "    </tr>\n",
       "    <tr>\n",
       "      <th>3</th>\n",
       "      <td>Scanning performance is faulty. every 2nd page...</td>\n",
       "      <td>2</td>\n",
       "    </tr>\n",
       "    <tr>\n",
       "      <th>4</th>\n",
       "      <td>People better buy other model.. Scanner not wo...</td>\n",
       "      <td>2</td>\n",
       "    </tr>\n",
       "  </tbody>\n",
       "</table>\n",
       "</div>"
      ],
      "text/plain": [
       "                                              Review  Rating\n",
       "0  Paper jam is a main problem. Suitable software...       2\n",
       "1  Installation is bit hetic if you don’t have an...       2\n",
       "2  The CD received from the product does not inst...       2\n",
       "3  Scanning performance is faulty. every 2nd page...       2\n",
       "4  People better buy other model.. Scanner not wo...       2"
      ]
     },
     "execution_count": 149,
     "metadata": {},
     "output_type": "execute_result"
    }
   ],
   "source": [
    "Printers_350.head()"
   ]
  },
  {
   "cell_type": "code",
   "execution_count": 150,
   "metadata": {},
   "outputs": [],
   "source": [
    "Printers_350.to_csv(\"Printers_350\")"
   ]
  },
  {
   "cell_type": "code",
   "execution_count": 166,
   "metadata": {},
   "outputs": [],
   "source": [
    "# URL of the website \n",
    "url = \"https://www.amazon.in/\"\n",
    "\n",
    "driver.get(url)"
   ]
  },
  {
   "cell_type": "code",
   "execution_count": 167,
   "metadata": {},
   "outputs": [],
   "source": [
    "# targeting the search text box\n",
    "sesrch_query = driver.find_element_by_id(\"twotabsearchtextbox\")\n",
    "\n",
    "\n",
    "# searching Laptops\n",
    "sesrch_query.send_keys(\"Monitors\")"
   ]
  },
  {
   "cell_type": "code",
   "execution_count": 168,
   "metadata": {},
   "outputs": [],
   "source": [
    "search_btn = driver.find_element_by_id(\"nav-search-submit-button\")\n",
    "\n",
    "search_btn.click()"
   ]
  },
  {
   "cell_type": "code",
   "execution_count": 169,
   "metadata": {},
   "outputs": [],
   "source": [
    "# Collecting url's for first 3 pages\n",
    "urls = []\n",
    "\n",
    "base_url = \"https://www.amazon.in/s?k=Monitors&page=2&qid=1627727683&ref=sr_pg_2\"\n",
    "\n",
    "for i in range(4,15):\n",
    "    \n",
    "    driver.get(base_url.format(i,i))\n",
    "    \n",
    "    for url in driver.find_elements_by_xpath(\"//h2[@class='a-size-mini a-spacing-none a-color-base s-line-clamp-2']//a\"):\n",
    "        \n",
    "        urls.append(url.get_attribute(\"href\"))"
   ]
  },
  {
   "cell_type": "code",
   "execution_count": 170,
   "metadata": {},
   "outputs": [
    {
     "data": {
      "text/plain": [
       "198"
      ]
     },
     "execution_count": 170,
     "metadata": {},
     "output_type": "execute_result"
    }
   ],
   "source": [
    "len(urls)"
   ]
  },
  {
   "cell_type": "code",
   "execution_count": 171,
   "metadata": {},
   "outputs": [],
   "source": [
    "Reviewes_2 = []\n",
    "\n",
    "for link in urls:\n",
    "    \n",
    "    driver.get(link)\n",
    "    \n",
    "    try:\n",
    "        \n",
    "        cust_rev_5 = driver.find_element_by_css_selector('#histogramTable > tbody > tr:nth-child(4) > td.aok-nowrap > span.a-size-base > a')\n",
    "    \n",
    "        rev_5 = cust_rev_5.get_attribute(\"href\")\n",
    "    \n",
    "        driver.get(rev_5)\n",
    "        \n",
    "        for i in driver.find_elements_by_xpath(\"//span[@class='a-size-base review-text review-text-content']\"):\n",
    "            \n",
    "            Reviewes_2.append(i.text)\n",
    "            \n",
    "            \n",
    "    except NoSuchElementException:\n",
    "        \n",
    "        Reviewes_2.append(\"-\")"
   ]
  },
  {
   "cell_type": "code",
   "execution_count": 172,
   "metadata": {},
   "outputs": [
    {
     "data": {
      "text/plain": [
       "946"
      ]
     },
     "execution_count": 172,
     "metadata": {},
     "output_type": "execute_result"
    }
   ],
   "source": [
    "len(Reviewes_2)"
   ]
  },
  {
   "cell_type": "code",
   "execution_count": 173,
   "metadata": {},
   "outputs": [],
   "source": [
    "Reviewes_2_f = []\n",
    "\n",
    "for i in Reviewes_2:\n",
    "    \n",
    "    if i != \"-\":\n",
    "        \n",
    "        Reviewes_2_f.append(i)\n",
    "        \n",
    "    else:\n",
    "        \n",
    "        pass"
   ]
  },
  {
   "cell_type": "code",
   "execution_count": 174,
   "metadata": {},
   "outputs": [],
   "source": [
    "Reviewes_2_f = Reviewes_2_f[:420]\n",
    "\n",
    "Monitors_350 = pd.DataFrame(Reviewes_2_f,columns=[\"Review\"]) \n",
    "\n",
    "Monitors_350[\"Rating\"] = 2"
   ]
  },
  {
   "cell_type": "code",
   "execution_count": 175,
   "metadata": {},
   "outputs": [
    {
     "data": {
      "text/html": [
       "<div>\n",
       "<style scoped>\n",
       "    .dataframe tbody tr th:only-of-type {\n",
       "        vertical-align: middle;\n",
       "    }\n",
       "\n",
       "    .dataframe tbody tr th {\n",
       "        vertical-align: top;\n",
       "    }\n",
       "\n",
       "    .dataframe thead th {\n",
       "        text-align: right;\n",
       "    }\n",
       "</style>\n",
       "<table border=\"1\" class=\"dataframe\">\n",
       "  <thead>\n",
       "    <tr style=\"text-align: right;\">\n",
       "      <th></th>\n",
       "      <th>Review</th>\n",
       "      <th>Rating</th>\n",
       "    </tr>\n",
       "  </thead>\n",
       "  <tbody>\n",
       "    <tr>\n",
       "      <th>0</th>\n",
       "      <td>Descrizione del prodotto non realistica, nelle...</td>\n",
       "      <td>2</td>\n",
       "    </tr>\n",
       "    <tr>\n",
       "      <th>1</th>\n",
       "      <td>Robusto e facile da montare ma l'asse è di mat...</td>\n",
       "      <td>2</td>\n",
       "    </tr>\n",
       "    <tr>\n",
       "      <th>2</th>\n",
       "      <td>Fehlende Schrauben</td>\n",
       "      <td>2</td>\n",
       "    </tr>\n",
       "    <tr>\n",
       "      <th>3</th>\n",
       "      <td>If this had been manufactured properly, I woul...</td>\n",
       "      <td>2</td>\n",
       "    </tr>\n",
       "    <tr>\n",
       "      <th>4</th>\n",
       "      <td>It is Aopen and nowhere you will find Acer. If...</td>\n",
       "      <td>2</td>\n",
       "    </tr>\n",
       "  </tbody>\n",
       "</table>\n",
       "</div>"
      ],
      "text/plain": [
       "                                              Review  Rating\n",
       "0  Descrizione del prodotto non realistica, nelle...       2\n",
       "1  Robusto e facile da montare ma l'asse è di mat...       2\n",
       "2                                 Fehlende Schrauben       2\n",
       "3  If this had been manufactured properly, I woul...       2\n",
       "4  It is Aopen and nowhere you will find Acer. If...       2"
      ]
     },
     "execution_count": 175,
     "metadata": {},
     "output_type": "execute_result"
    }
   ],
   "source": [
    "Monitors_350.head()"
   ]
  },
  {
   "cell_type": "code",
   "execution_count": 176,
   "metadata": {},
   "outputs": [],
   "source": [
    "Monitors_350.to_csv(\"Monitors_350\")"
   ]
  },
  {
   "cell_type": "code",
   "execution_count": 163,
   "metadata": {},
   "outputs": [],
   "source": [
    "# URL of the website \n",
    "url = \"https://www.amazon.in/\"\n",
    "\n",
    "driver.get(url)"
   ]
  },
  {
   "cell_type": "code",
   "execution_count": 164,
   "metadata": {},
   "outputs": [],
   "source": [
    "# targeting the search text box\n",
    "sesrch_query = driver.find_element_by_id(\"twotabsearchtextbox\")\n",
    "\n",
    "\n",
    "# searching Laptops\n",
    "sesrch_query.send_keys(\"Home Theater\")"
   ]
  },
  {
   "cell_type": "code",
   "execution_count": 165,
   "metadata": {},
   "outputs": [],
   "source": [
    "search_btn = driver.find_element_by_id(\"nav-search-submit-button\")\n",
    "\n",
    "search_btn.click()"
   ]
  },
  {
   "cell_type": "code",
   "execution_count": 166,
   "metadata": {},
   "outputs": [],
   "source": [
    "# Collecting url's for first 3 pages\n",
    "urls = []\n",
    "\n",
    "base_url = \"https://www.amazon.in/s?k=Home+Theater&page={}&qid=1627729694&ref=sr_pg_{}\"\n",
    "\n",
    "for i in range(4,15):\n",
    "    \n",
    "    driver.get(base_url.format(i,i))\n",
    "    \n",
    "    for url in driver.find_elements_by_xpath(\"//h2[@class='a-size-mini a-spacing-none a-color-base s-line-clamp-2']//a\"):\n",
    "        \n",
    "        urls.append(url.get_attribute(\"href\"))"
   ]
  },
  {
   "cell_type": "code",
   "execution_count": 168,
   "metadata": {},
   "outputs": [],
   "source": [
    "Reviewes_2 = []\n",
    "\n",
    "for link in urls:\n",
    "    \n",
    "    driver.get(link)\n",
    "    \n",
    "    try:\n",
    "        \n",
    "        cust_rev_5 = driver.find_element_by_css_selector('#histogramTable > tbody > tr:nth-child(4) > td.aok-nowrap > span.a-size-base > a')\n",
    "    \n",
    "        rev_5 = cust_rev_5.get_attribute(\"href\")\n",
    "    \n",
    "        driver.get(rev_5)\n",
    "        \n",
    "        for i in driver.find_elements_by_xpath(\"//span[@class='a-size-base review-text review-text-content']\"):\n",
    "            \n",
    "            Reviewes_2.append(i.text)\n",
    "            \n",
    "            \n",
    "    except NoSuchElementException:\n",
    "        \n",
    "        Reviewes_2.append(\"-\")"
   ]
  },
  {
   "cell_type": "code",
   "execution_count": 170,
   "metadata": {},
   "outputs": [],
   "source": [
    "Reviewes_2_f = []\n",
    "\n",
    "for i in Reviewes_2:\n",
    "    \n",
    "    if i != \"-\":\n",
    "        \n",
    "        Reviewes_2_f.append(i)\n",
    "        \n",
    "    else:\n",
    "        \n",
    "        pass"
   ]
  },
  {
   "cell_type": "code",
   "execution_count": 172,
   "metadata": {},
   "outputs": [],
   "source": [
    "Reviewes_2_f = Reviewes_2_f[:350]\n",
    "\n",
    "Home_350 = pd.DataFrame(Reviewes_2_f,columns=[\"Review\"]) \n",
    "\n",
    "Home_350[\"Rating\"] = 2"
   ]
  },
  {
   "cell_type": "code",
   "execution_count": 173,
   "metadata": {},
   "outputs": [
    {
     "data": {
      "text/html": [
       "<div>\n",
       "<style scoped>\n",
       "    .dataframe tbody tr th:only-of-type {\n",
       "        vertical-align: middle;\n",
       "    }\n",
       "\n",
       "    .dataframe tbody tr th {\n",
       "        vertical-align: top;\n",
       "    }\n",
       "\n",
       "    .dataframe thead th {\n",
       "        text-align: right;\n",
       "    }\n",
       "</style>\n",
       "<table border=\"1\" class=\"dataframe\">\n",
       "  <thead>\n",
       "    <tr style=\"text-align: right;\">\n",
       "      <th></th>\n",
       "      <th>Review</th>\n",
       "      <th>Rating</th>\n",
       "    </tr>\n",
       "  </thead>\n",
       "  <tbody>\n",
       "    <tr>\n",
       "      <th>0</th>\n",
       "      <td>Sound quality:\\nI replaced the product two tim...</td>\n",
       "      <td>2</td>\n",
       "    </tr>\n",
       "    <tr>\n",
       "      <th>1</th>\n",
       "      <td>* It's just 5.1 only, no one surrod sounds etc...</td>\n",
       "      <td>2</td>\n",
       "    </tr>\n",
       "    <tr>\n",
       "      <th>2</th>\n",
       "      <td>1) volume increase to be done above 20 step to...</td>\n",
       "      <td>2</td>\n",
       "    </tr>\n",
       "    <tr>\n",
       "      <th>3</th>\n",
       "      <td>Bass Quality Very Low , Means Silent Song Feel...</td>\n",
       "      <td>2</td>\n",
       "    </tr>\n",
       "    <tr>\n",
       "      <th>4</th>\n",
       "      <td>After watching &amp; check all positive review fro...</td>\n",
       "      <td>2</td>\n",
       "    </tr>\n",
       "  </tbody>\n",
       "</table>\n",
       "</div>"
      ],
      "text/plain": [
       "                                              Review  Rating\n",
       "0  Sound quality:\\nI replaced the product two tim...       2\n",
       "1  * It's just 5.1 only, no one surrod sounds etc...       2\n",
       "2  1) volume increase to be done above 20 step to...       2\n",
       "3  Bass Quality Very Low , Means Silent Song Feel...       2\n",
       "4  After watching & check all positive review fro...       2"
      ]
     },
     "execution_count": 173,
     "metadata": {},
     "output_type": "execute_result"
    }
   ],
   "source": [
    "Home_350.head()"
   ]
  },
  {
   "cell_type": "code",
   "execution_count": 174,
   "metadata": {},
   "outputs": [],
   "source": [
    "Home_350.to_csv(\"Home_350\")"
   ]
  },
  {
   "cell_type": "code",
   "execution_count": 175,
   "metadata": {},
   "outputs": [],
   "source": [
    "# URL of the website \n",
    "url = \"https://www.amazon.in/\"\n",
    "\n",
    "driver.get(url)"
   ]
  },
  {
   "cell_type": "code",
   "execution_count": 176,
   "metadata": {},
   "outputs": [],
   "source": [
    "# targeting the search text box\n",
    "sesrch_query = driver.find_element_by_id(\"twotabsearchtextbox\")\n",
    "\n",
    "\n",
    "# searching Laptops\n",
    "sesrch_query.send_keys(\"Routers\")"
   ]
  },
  {
   "cell_type": "code",
   "execution_count": 177,
   "metadata": {},
   "outputs": [],
   "source": [
    "search_btn = driver.find_element_by_id(\"nav-search-submit-button\")\n",
    "\n",
    "search_btn.click()"
   ]
  },
  {
   "cell_type": "code",
   "execution_count": 178,
   "metadata": {},
   "outputs": [],
   "source": [
    "# Collecting url's for first 3 pages\n",
    "urls = []\n",
    "\n",
    "base_url = \"https://www.amazon.in/s?k=Routers&page={}&qid=1627731878&ref=sr_pg_{}\"\n",
    "\n",
    "for i in range(4,15):\n",
    "    \n",
    "    driver.get(base_url.format(i,i))\n",
    "    \n",
    "    for url in driver.find_elements_by_xpath(\"//h2[@class='a-size-mini a-spacing-none a-color-base s-line-clamp-2']//a\"):\n",
    "        \n",
    "        urls.append(url.get_attribute(\"href\"))"
   ]
  },
  {
   "cell_type": "code",
   "execution_count": 180,
   "metadata": {},
   "outputs": [],
   "source": [
    "Reviewes_2 = []\n",
    "\n",
    "for link in urls:\n",
    "    \n",
    "    driver.get(link)\n",
    "    \n",
    "    try:\n",
    "        \n",
    "        cust_rev_5 = driver.find_element_by_css_selector('#histogramTable > tbody > tr:nth-child(4) > td.aok-nowrap > span.a-size-base > a')\n",
    "    \n",
    "        rev_5 = cust_rev_5.get_attribute(\"href\")\n",
    "    \n",
    "        driver.get(rev_5)\n",
    "        \n",
    "        for i in driver.find_elements_by_xpath(\"//span[@class='a-size-base review-text review-text-content']\"):\n",
    "            \n",
    "            Reviewes_2.append(i.text)\n",
    "            \n",
    "            \n",
    "    except NoSuchElementException:\n",
    "        \n",
    "        Reviewes_2.append(\"-\")"
   ]
  },
  {
   "cell_type": "code",
   "execution_count": 182,
   "metadata": {},
   "outputs": [],
   "source": [
    "Reviewes_2_f = []\n",
    "\n",
    "for i in Reviewes_2:\n",
    "    \n",
    "    if i != \"-\":\n",
    "        \n",
    "        Reviewes_2_f.append(i)\n",
    "        \n",
    "    else:\n",
    "        \n",
    "        pass"
   ]
  },
  {
   "cell_type": "code",
   "execution_count": 183,
   "metadata": {},
   "outputs": [
    {
     "data": {
      "text/plain": [
       "477"
      ]
     },
     "execution_count": 183,
     "metadata": {},
     "output_type": "execute_result"
    }
   ],
   "source": [
    "len(Reviewes_2_f)"
   ]
  },
  {
   "cell_type": "code",
   "execution_count": 184,
   "metadata": {},
   "outputs": [],
   "source": [
    "Reviewes_2_f = Reviewes_2_f[:350]\n",
    "\n",
    "Router_350 = pd.DataFrame(Reviewes_2_f,columns=[\"Review\"]) \n",
    "\n",
    "Router_350[\"Rating\"] = 2"
   ]
  },
  {
   "cell_type": "code",
   "execution_count": 185,
   "metadata": {},
   "outputs": [
    {
     "data": {
      "text/html": [
       "<div>\n",
       "<style scoped>\n",
       "    .dataframe tbody tr th:only-of-type {\n",
       "        vertical-align: middle;\n",
       "    }\n",
       "\n",
       "    .dataframe tbody tr th {\n",
       "        vertical-align: top;\n",
       "    }\n",
       "\n",
       "    .dataframe thead th {\n",
       "        text-align: right;\n",
       "    }\n",
       "</style>\n",
       "<table border=\"1\" class=\"dataframe\">\n",
       "  <thead>\n",
       "    <tr style=\"text-align: right;\">\n",
       "      <th></th>\n",
       "      <th>Review</th>\n",
       "      <th>Rating</th>\n",
       "    </tr>\n",
       "  </thead>\n",
       "  <tbody>\n",
       "    <tr>\n",
       "      <th>0</th>\n",
       "      <td>Pro:\\nCheap AF,\\nGood range and good speed (ge...</td>\n",
       "      <td>2</td>\n",
       "    </tr>\n",
       "    <tr>\n",
       "      <th>1</th>\n",
       "      <td>2.4Ghz and 5Ghz channel throughput is exactly ...</td>\n",
       "      <td>2</td>\n",
       "    </tr>\n",
       "    <tr>\n",
       "      <th>2</th>\n",
       "      <td>was using very age old product called “LInksys...</td>\n",
       "      <td>2</td>\n",
       "    </tr>\n",
       "    <tr>\n",
       "      <th>3</th>\n",
       "      <td>LAN ports are 10/100 Mbps so technically you a...</td>\n",
       "      <td>2</td>\n",
       "    </tr>\n",
       "    <tr>\n",
       "      <th>4</th>\n",
       "      <td>The Archer C50 only has a 100M WAN port, which...</td>\n",
       "      <td>2</td>\n",
       "    </tr>\n",
       "  </tbody>\n",
       "</table>\n",
       "</div>"
      ],
      "text/plain": [
       "                                              Review  Rating\n",
       "0  Pro:\\nCheap AF,\\nGood range and good speed (ge...       2\n",
       "1  2.4Ghz and 5Ghz channel throughput is exactly ...       2\n",
       "2  was using very age old product called “LInksys...       2\n",
       "3  LAN ports are 10/100 Mbps so technically you a...       2\n",
       "4  The Archer C50 only has a 100M WAN port, which...       2"
      ]
     },
     "execution_count": 185,
     "metadata": {},
     "output_type": "execute_result"
    }
   ],
   "source": [
    "Router_350.head()"
   ]
  },
  {
   "cell_type": "code",
   "execution_count": 186,
   "metadata": {},
   "outputs": [],
   "source": [
    "Router_350.to_csv(\"Router_350\")"
   ]
  },
  {
   "cell_type": "code",
   "execution_count": 194,
   "metadata": {},
   "outputs": [],
   "source": [
    "# URL of the website \n",
    "url = \"https://www.amazon.in/\"\n",
    "\n",
    "driver.get(url)"
   ]
  },
  {
   "cell_type": "code",
   "execution_count": 195,
   "metadata": {},
   "outputs": [],
   "source": [
    "# targeting the search text box\n",
    "sesrch_query = driver.find_element_by_id(\"twotabsearchtextbox\")\n",
    "\n",
    "\n",
    "# searching Laptops\n",
    "sesrch_query.send_keys(\"Laptops\")"
   ]
  },
  {
   "cell_type": "code",
   "execution_count": 196,
   "metadata": {},
   "outputs": [],
   "source": [
    "search_btn = driver.find_element_by_id(\"nav-search-submit-button\")\n",
    "\n",
    "search_btn.click()"
   ]
  },
  {
   "cell_type": "code",
   "execution_count": 197,
   "metadata": {},
   "outputs": [],
   "source": [
    "# Collecting url's for first 3 pages\n",
    "urls = []\n",
    "\n",
    "base_url = \"https://www.amazon.in/s?k=Laptops&page={}&qid=1627559975&ref=sr_pg_{}\"\n",
    "\n",
    "for i in range(4,10):\n",
    "    \n",
    "    driver.get(base_url.format(i,i))\n",
    "    \n",
    "    for url in driver.find_elements_by_xpath(\"//h2[@class='a-size-mini a-spacing-none a-color-base s-line-clamp-2']//a\"):\n",
    "        \n",
    "        urls.append(url.get_attribute(\"href\"))"
   ]
  },
  {
   "cell_type": "code",
   "execution_count": 142,
   "metadata": {},
   "outputs": [],
   "source": [
    "### Laptops"
   ]
  },
  {
   "cell_type": "code",
   "execution_count": 198,
   "metadata": {},
   "outputs": [],
   "source": [
    "Reviewes_1 = []\n",
    "\n",
    "for link in urls:\n",
    "    \n",
    "    driver.get(link)\n",
    "    \n",
    "    try:\n",
    "        \n",
    "        cust_rev_5 = driver.find_element_by_css_selector('#histogramTable > tbody > tr:nth-child(5) > td.aok-nowrap > span.a-size-base > a')\n",
    "    \n",
    "        rev_5 = cust_rev_5.get_attribute(\"href\")\n",
    "    \n",
    "        driver.get(rev_5)\n",
    "        \n",
    "        for i in driver.find_elements_by_xpath(\"//span[@class='a-size-base review-text review-text-content']\"):\n",
    "            \n",
    "            Reviewes_1.append(i.text)\n",
    "            \n",
    "            \n",
    "    except NoSuchElementException:\n",
    "        \n",
    "        Reviewes_1.append(\"-\")"
   ]
  },
  {
   "cell_type": "code",
   "execution_count": 199,
   "metadata": {},
   "outputs": [],
   "source": [
    "Reviewes_1_f = []\n",
    "\n",
    "for i in Reviewes_1:\n",
    "    \n",
    "    if i != \"-\":\n",
    "        \n",
    "        Reviewes_1_f.append(i)\n",
    "        \n",
    "    else:\n",
    "        \n",
    "        pass"
   ]
  },
  {
   "cell_type": "code",
   "execution_count": 200,
   "metadata": {},
   "outputs": [],
   "source": [
    "Reviewes_1_f = Reviewes_1_f[:345]\n",
    "\n",
    "Laptop_345 = pd.DataFrame(Reviewes_1_f,columns=[\"Review\"]) \n",
    "\n",
    "Laptop_345[\"Rating\"] = 1"
   ]
  },
  {
   "cell_type": "code",
   "execution_count": 201,
   "metadata": {},
   "outputs": [
    {
     "data": {
      "text/html": [
       "<div>\n",
       "<style scoped>\n",
       "    .dataframe tbody tr th:only-of-type {\n",
       "        vertical-align: middle;\n",
       "    }\n",
       "\n",
       "    .dataframe tbody tr th {\n",
       "        vertical-align: top;\n",
       "    }\n",
       "\n",
       "    .dataframe thead th {\n",
       "        text-align: right;\n",
       "    }\n",
       "</style>\n",
       "<table border=\"1\" class=\"dataframe\">\n",
       "  <thead>\n",
       "    <tr style=\"text-align: right;\">\n",
       "      <th></th>\n",
       "      <th>Review</th>\n",
       "      <th>Rating</th>\n",
       "    </tr>\n",
       "  </thead>\n",
       "  <tbody>\n",
       "    <tr>\n",
       "      <th>0</th>\n",
       "      <td>It says Full HD screen and they delivered with...</td>\n",
       "      <td>1</td>\n",
       "    </tr>\n",
       "    <tr>\n",
       "      <th>1</th>\n",
       "      <td>Truly disappointed with HP . Its a corei5 11th...</td>\n",
       "      <td>1</td>\n",
       "    </tr>\n",
       "    <tr>\n",
       "      <th>2</th>\n",
       "      <td>Worst ever product i got it... They mentioned ...</td>\n",
       "      <td>1</td>\n",
       "    </tr>\n",
       "    <tr>\n",
       "      <th>3</th>\n",
       "      <td>Your browser does not support HTML5 video.\\n I...</td>\n",
       "      <td>1</td>\n",
       "    </tr>\n",
       "    <tr>\n",
       "      <th>4</th>\n",
       "      <td>Pls don't buy Laptop or costly things from Ama...</td>\n",
       "      <td>1</td>\n",
       "    </tr>\n",
       "  </tbody>\n",
       "</table>\n",
       "</div>"
      ],
      "text/plain": [
       "                                              Review  Rating\n",
       "0  It says Full HD screen and they delivered with...       1\n",
       "1  Truly disappointed with HP . Its a corei5 11th...       1\n",
       "2  Worst ever product i got it... They mentioned ...       1\n",
       "3  Your browser does not support HTML5 video.\\n I...       1\n",
       "4  Pls don't buy Laptop or costly things from Ama...       1"
      ]
     },
     "execution_count": 201,
     "metadata": {},
     "output_type": "execute_result"
    }
   ],
   "source": [
    "Laptop_345.head()"
   ]
  },
  {
   "cell_type": "code",
   "execution_count": 202,
   "metadata": {},
   "outputs": [],
   "source": [
    "Laptop_345.to_csv(\"Laptop_345\")"
   ]
  },
  {
   "cell_type": "code",
   "execution_count": 5,
   "metadata": {},
   "outputs": [],
   "source": [
    "## Phones"
   ]
  },
  {
   "cell_type": "code",
   "execution_count": 180,
   "metadata": {},
   "outputs": [],
   "source": [
    "# URL of the website \n",
    "url = \"https://www.amazon.in/\"\n",
    "\n",
    "driver.get(url)"
   ]
  },
  {
   "cell_type": "code",
   "execution_count": 181,
   "metadata": {},
   "outputs": [],
   "source": [
    "# targeting the search text box\n",
    "sesrch_query = driver.find_element_by_id(\"twotabsearchtextbox\")\n",
    "\n",
    "\n",
    "# searching Laptops\n",
    "sesrch_query.send_keys(\"Phones\")"
   ]
  },
  {
   "cell_type": "code",
   "execution_count": 182,
   "metadata": {},
   "outputs": [],
   "source": [
    "search_btn = driver.find_element_by_id(\"nav-search-submit-button\")\n",
    "\n",
    "search_btn.click()"
   ]
  },
  {
   "cell_type": "code",
   "execution_count": 183,
   "metadata": {},
   "outputs": [],
   "source": [
    "# Collecting url's for first 3 pages\n",
    "urls = []\n",
    "\n",
    "base_url = \"https://www.amazon.in/s?k=Phones&page={}&qid=1627786216&ref=sr_pg_{}\"\n",
    "\n",
    "for i in range(4,15):\n",
    "    \n",
    "    driver.get(base_url.format(i,i))\n",
    "    \n",
    "    for url in driver.find_elements_by_xpath(\"//h2[@class='a-size-mini a-spacing-none a-color-base s-line-clamp-2']//a\"):\n",
    "        \n",
    "        urls.append(url.get_attribute(\"href\"))"
   ]
  },
  {
   "cell_type": "code",
   "execution_count": 184,
   "metadata": {},
   "outputs": [],
   "source": [
    "Reviewes_1 = []\n",
    "\n",
    "for link in urls:\n",
    "    \n",
    "    driver.get(link)\n",
    "    \n",
    "    try:\n",
    "        \n",
    "        cust_rev_5 = driver.find_element_by_css_selector('#histogramTable > tbody > tr:nth-child(5) > td.aok-nowrap > span.a-size-base > a')\n",
    "    \n",
    "        rev_5 = cust_rev_5.get_attribute(\"href\")\n",
    "    \n",
    "        driver.get(rev_5)\n",
    "        \n",
    "        for i in driver.find_elements_by_xpath(\"//span[@class='a-size-base review-text review-text-content']\"):\n",
    "            \n",
    "            Reviewes_1.append(i.text)\n",
    "            \n",
    "            \n",
    "    except NoSuchElementException:\n",
    "        \n",
    "        Reviewes_1.append(\"-\")"
   ]
  },
  {
   "cell_type": "code",
   "execution_count": 185,
   "metadata": {},
   "outputs": [
    {
     "data": {
      "text/plain": [
       "1161"
      ]
     },
     "execution_count": 185,
     "metadata": {},
     "output_type": "execute_result"
    }
   ],
   "source": [
    "len(Reviewes_1)"
   ]
  },
  {
   "cell_type": "code",
   "execution_count": 186,
   "metadata": {},
   "outputs": [],
   "source": [
    "Reviewes_1_f = []\n",
    "\n",
    "for i in Reviewes_1:\n",
    "    \n",
    "    if i != \"-\":\n",
    "        \n",
    "        Reviewes_1_f.append(i)\n",
    "        \n",
    "    else:\n",
    "        \n",
    "        pass"
   ]
  },
  {
   "cell_type": "code",
   "execution_count": 187,
   "metadata": {},
   "outputs": [
    {
     "data": {
      "text/plain": [
       "1126"
      ]
     },
     "execution_count": 187,
     "metadata": {},
     "output_type": "execute_result"
    }
   ],
   "source": [
    "len(Reviewes_1_f)"
   ]
  },
  {
   "cell_type": "code",
   "execution_count": 188,
   "metadata": {},
   "outputs": [],
   "source": [
    "Reviewes_1_f = Reviewes_1_f[:345]"
   ]
  },
  {
   "cell_type": "code",
   "execution_count": 189,
   "metadata": {},
   "outputs": [],
   "source": [
    "Phone_345 = pd.DataFrame(Reviewes_1_f,columns=[\"Review\"]) "
   ]
  },
  {
   "cell_type": "code",
   "execution_count": 190,
   "metadata": {},
   "outputs": [],
   "source": [
    "Phone_345[\"Rating\"] = 1"
   ]
  },
  {
   "cell_type": "code",
   "execution_count": 191,
   "metadata": {},
   "outputs": [
    {
     "data": {
      "text/html": [
       "<div>\n",
       "<style scoped>\n",
       "    .dataframe tbody tr th:only-of-type {\n",
       "        vertical-align: middle;\n",
       "    }\n",
       "\n",
       "    .dataframe tbody tr th {\n",
       "        vertical-align: top;\n",
       "    }\n",
       "\n",
       "    .dataframe thead th {\n",
       "        text-align: right;\n",
       "    }\n",
       "</style>\n",
       "<table border=\"1\" class=\"dataframe\">\n",
       "  <thead>\n",
       "    <tr style=\"text-align: right;\">\n",
       "      <th></th>\n",
       "      <th>Review</th>\n",
       "      <th>Rating</th>\n",
       "    </tr>\n",
       "  </thead>\n",
       "  <tbody>\n",
       "    <tr>\n",
       "      <th>0</th>\n",
       "      <td>Mobile is not good...camera not up to mark...h...</td>\n",
       "      <td>1</td>\n",
       "    </tr>\n",
       "    <tr>\n",
       "      <th>1</th>\n",
       "      <td>Worst phone in this Range\\nBattery back up is ...</td>\n",
       "      <td>1</td>\n",
       "    </tr>\n",
       "    <tr>\n",
       "      <th>2</th>\n",
       "      <td>Vivo always exaggerates its price. 25k for a \"...</td>\n",
       "      <td>1</td>\n",
       "    </tr>\n",
       "    <tr>\n",
       "      <th>3</th>\n",
       "      <td>A good phone but 1 🌟 for the delivery delayed ...</td>\n",
       "      <td>1</td>\n",
       "    </tr>\n",
       "    <tr>\n",
       "      <th>4</th>\n",
       "      <td>Bought this crap phone, used 2 days, didn't li...</td>\n",
       "      <td>1</td>\n",
       "    </tr>\n",
       "  </tbody>\n",
       "</table>\n",
       "</div>"
      ],
      "text/plain": [
       "                                              Review  Rating\n",
       "0  Mobile is not good...camera not up to mark...h...       1\n",
       "1  Worst phone in this Range\\nBattery back up is ...       1\n",
       "2  Vivo always exaggerates its price. 25k for a \"...       1\n",
       "3  A good phone but 1 🌟 for the delivery delayed ...       1\n",
       "4  Bought this crap phone, used 2 days, didn't li...       1"
      ]
     },
     "execution_count": 191,
     "metadata": {},
     "output_type": "execute_result"
    }
   ],
   "source": [
    "Phone_345.head()"
   ]
  },
  {
   "cell_type": "code",
   "execution_count": 192,
   "metadata": {},
   "outputs": [],
   "source": [
    "Phone_345.to_csv(\"Phone_345\")"
   ]
  },
  {
   "cell_type": "code",
   "execution_count": 23,
   "metadata": {},
   "outputs": [],
   "source": [
    "## Headphones"
   ]
  },
  {
   "cell_type": "code",
   "execution_count": 24,
   "metadata": {},
   "outputs": [],
   "source": [
    "# URL of the website \n",
    "url = \"https://www.amazon.in/\"\n",
    "\n",
    "driver.get(url)"
   ]
  },
  {
   "cell_type": "code",
   "execution_count": 25,
   "metadata": {},
   "outputs": [],
   "source": [
    "# targeting the search text box\n",
    "sesrch_query = driver.find_element_by_id(\"twotabsearchtextbox\")\n",
    "\n",
    "\n",
    "# searching Laptops\n",
    "sesrch_query.send_keys(\"Headphones\")"
   ]
  },
  {
   "cell_type": "code",
   "execution_count": 26,
   "metadata": {},
   "outputs": [],
   "source": [
    "search_btn = driver.find_element_by_id(\"nav-search-submit-button\")\n",
    "\n",
    "search_btn.click()"
   ]
  },
  {
   "cell_type": "code",
   "execution_count": 27,
   "metadata": {},
   "outputs": [],
   "source": [
    "# Collecting url's for first 3 pages\n",
    "urls = []\n",
    "\n",
    "base_url = \"https://www.amazon.in/s?k=Headphones&page={}&qid=1627788898&ref=sr_pg_{}\"\n",
    "\n",
    "for i in range(4,15):\n",
    "    \n",
    "    driver.get(base_url.format(i,i))\n",
    "    \n",
    "    for url in driver.find_elements_by_xpath(\"//h2[@class='a-size-mini a-spacing-none a-color-base s-line-clamp-2']//a\"):\n",
    "        \n",
    "        urls.append(url.get_attribute(\"href\"))"
   ]
  },
  {
   "cell_type": "code",
   "execution_count": 29,
   "metadata": {},
   "outputs": [],
   "source": [
    "Reviewes_1 = []\n",
    "\n",
    "for link in urls:\n",
    "    \n",
    "    driver.get(link)\n",
    "    \n",
    "    try:\n",
    "        \n",
    "        cust_rev_5 = driver.find_element_by_css_selector('#histogramTable > tbody > tr:nth-child(5) > td.aok-nowrap > span.a-size-base > a')\n",
    "    \n",
    "        rev_5 = cust_rev_5.get_attribute(\"href\")\n",
    "    \n",
    "        driver.get(rev_5)\n",
    "        \n",
    "        for i in driver.find_elements_by_xpath(\"//span[@class='a-size-base review-text review-text-content']\"):\n",
    "            \n",
    "            Reviewes_1.append(i.text)\n",
    "            \n",
    "            \n",
    "    except NoSuchElementException:\n",
    "        \n",
    "        Reviewes_1.append(\"-\")"
   ]
  },
  {
   "cell_type": "code",
   "execution_count": 31,
   "metadata": {},
   "outputs": [],
   "source": [
    "Reviewes_1_f = []\n",
    "\n",
    "for i in Reviewes_1:\n",
    "    \n",
    "    if i != \"-\":\n",
    "        \n",
    "        Reviewes_1_f.append(i)\n",
    "        \n",
    "    else:\n",
    "        \n",
    "        pass"
   ]
  },
  {
   "cell_type": "code",
   "execution_count": 33,
   "metadata": {},
   "outputs": [],
   "source": [
    "Reviewes_1_f = Reviewes_1_f[:345]\n",
    "\n",
    "Headphones_345 = pd.DataFrame(Reviewes_1_f,columns=[\"Review\"]) \n",
    "\n",
    "Headphones_345[\"Rating\"] = 1"
   ]
  },
  {
   "cell_type": "code",
   "execution_count": 34,
   "metadata": {},
   "outputs": [
    {
     "data": {
      "text/html": [
       "<div>\n",
       "<style scoped>\n",
       "    .dataframe tbody tr th:only-of-type {\n",
       "        vertical-align: middle;\n",
       "    }\n",
       "\n",
       "    .dataframe tbody tr th {\n",
       "        vertical-align: top;\n",
       "    }\n",
       "\n",
       "    .dataframe thead th {\n",
       "        text-align: right;\n",
       "    }\n",
       "</style>\n",
       "<table border=\"1\" class=\"dataframe\">\n",
       "  <thead>\n",
       "    <tr style=\"text-align: right;\">\n",
       "      <th></th>\n",
       "      <th>Review</th>\n",
       "      <th>Rating</th>\n",
       "    </tr>\n",
       "  </thead>\n",
       "  <tbody>\n",
       "    <tr>\n",
       "      <th>0</th>\n",
       "      <td>I purchased it on 8th Feb 2021, It is not work...</td>\n",
       "      <td>1</td>\n",
       "    </tr>\n",
       "    <tr>\n",
       "      <th>1</th>\n",
       "      <td>Mic is not working what do I do</td>\n",
       "      <td>1</td>\n",
       "    </tr>\n",
       "    <tr>\n",
       "      <th>2</th>\n",
       "      <td>Worst experience ever. Pls do not buy as sound...</td>\n",
       "      <td>1</td>\n",
       "    </tr>\n",
       "    <tr>\n",
       "      <th>3</th>\n",
       "      <td>Writing this review after my kids using it for...</td>\n",
       "      <td>1</td>\n",
       "    </tr>\n",
       "    <tr>\n",
       "      <th>4</th>\n",
       "      <td>I had bought this headset as a gift for my dau...</td>\n",
       "      <td>1</td>\n",
       "    </tr>\n",
       "  </tbody>\n",
       "</table>\n",
       "</div>"
      ],
      "text/plain": [
       "                                              Review  Rating\n",
       "0  I purchased it on 8th Feb 2021, It is not work...       1\n",
       "1                    Mic is not working what do I do       1\n",
       "2  Worst experience ever. Pls do not buy as sound...       1\n",
       "3  Writing this review after my kids using it for...       1\n",
       "4  I had bought this headset as a gift for my dau...       1"
      ]
     },
     "execution_count": 34,
     "metadata": {},
     "output_type": "execute_result"
    }
   ],
   "source": [
    "Headphones_345.head()"
   ]
  },
  {
   "cell_type": "code",
   "execution_count": 35,
   "metadata": {},
   "outputs": [],
   "source": [
    "Headphones_345.to_csv(\"Headphones_345\")"
   ]
  },
  {
   "cell_type": "code",
   "execution_count": 36,
   "metadata": {},
   "outputs": [],
   "source": [
    "### smart watches"
   ]
  },
  {
   "cell_type": "code",
   "execution_count": 37,
   "metadata": {},
   "outputs": [],
   "source": [
    "# URL of the website \n",
    "url = \"https://www.amazon.in/\"\n",
    "\n",
    "driver.get(url)"
   ]
  },
  {
   "cell_type": "code",
   "execution_count": 38,
   "metadata": {},
   "outputs": [],
   "source": [
    "# targeting the search text box\n",
    "sesrch_query = driver.find_element_by_id(\"twotabsearchtextbox\")\n",
    "\n",
    "\n",
    "# searching Laptops\n",
    "sesrch_query.send_keys(\"Smart Watches\")"
   ]
  },
  {
   "cell_type": "code",
   "execution_count": 39,
   "metadata": {},
   "outputs": [],
   "source": [
    "search_btn = driver.find_element_by_id(\"nav-search-submit-button\")\n",
    "\n",
    "search_btn.click()"
   ]
  },
  {
   "cell_type": "code",
   "execution_count": 40,
   "metadata": {},
   "outputs": [],
   "source": [
    "# Collecting url's for first 3 pages\n",
    "urls = []\n",
    "\n",
    "base_url = \"https://www.amazon.in/s?k=Smart+Watches&page=2&qid=1627791248&ref=sr_pg_2\"\n",
    "\n",
    "for i in range(4,14):\n",
    "    \n",
    "    driver.get(base_url.format(i,i))\n",
    "    \n",
    "    for url in driver.find_elements_by_xpath(\"//h2[@class='a-size-mini a-spacing-none a-color-base s-line-clamp-2']//a\"):\n",
    "        \n",
    "        urls.append(url.get_attribute(\"href\"))"
   ]
  },
  {
   "cell_type": "code",
   "execution_count": 42,
   "metadata": {},
   "outputs": [],
   "source": [
    "Reviewes_1 = []\n",
    "\n",
    "for link in urls:\n",
    "    \n",
    "    driver.get(link)\n",
    "    \n",
    "    try:\n",
    "        \n",
    "        cust_rev_5 = driver.find_element_by_css_selector('#histogramTable > tbody > tr:nth-child(5) > td.aok-nowrap > span.a-size-base > a')\n",
    "    \n",
    "        rev_5 = cust_rev_5.get_attribute(\"href\")\n",
    "    \n",
    "        driver.get(rev_5)\n",
    "        \n",
    "        for i in driver.find_elements_by_xpath(\"//span[@class='a-size-base review-text review-text-content']\"):\n",
    "            \n",
    "            Reviewes_1.append(i.text)\n",
    "            \n",
    "            \n",
    "    except NoSuchElementException:\n",
    "        \n",
    "        Reviewes_1.append(\"-\")"
   ]
  },
  {
   "cell_type": "code",
   "execution_count": 44,
   "metadata": {},
   "outputs": [],
   "source": [
    "Reviewes_1_f = []\n",
    "\n",
    "for i in Reviewes_1:\n",
    "    \n",
    "    if i != \"-\":\n",
    "        \n",
    "        Reviewes_1_f.append(i)\n",
    "        \n",
    "    else:\n",
    "        \n",
    "        pass"
   ]
  },
  {
   "cell_type": "code",
   "execution_count": 46,
   "metadata": {},
   "outputs": [],
   "source": [
    "Reviewes_1_f = Reviewes_1_f[:345]\n",
    "\n",
    "Smart_345 = pd.DataFrame(Reviewes_1_f,columns=[\"Review\"]) \n",
    "\n",
    "Smart_345[\"Rating\"] = 1"
   ]
  },
  {
   "cell_type": "code",
   "execution_count": 47,
   "metadata": {},
   "outputs": [
    {
     "data": {
      "text/html": [
       "<div>\n",
       "<style scoped>\n",
       "    .dataframe tbody tr th:only-of-type {\n",
       "        vertical-align: middle;\n",
       "    }\n",
       "\n",
       "    .dataframe tbody tr th {\n",
       "        vertical-align: top;\n",
       "    }\n",
       "\n",
       "    .dataframe thead th {\n",
       "        text-align: right;\n",
       "    }\n",
       "</style>\n",
       "<table border=\"1\" class=\"dataframe\">\n",
       "  <thead>\n",
       "    <tr style=\"text-align: right;\">\n",
       "      <th></th>\n",
       "      <th>Review</th>\n",
       "      <th>Rating</th>\n",
       "    </tr>\n",
       "  </thead>\n",
       "  <tbody>\n",
       "    <tr>\n",
       "      <th>0</th>\n",
       "      <td>Round dial but display inside is square. Hahah...</td>\n",
       "      <td>1</td>\n",
       "    </tr>\n",
       "    <tr>\n",
       "      <th>1</th>\n",
       "      <td>The Quality is too bad and the package was alr...</td>\n",
       "      <td>1</td>\n",
       "    </tr>\n",
       "    <tr>\n",
       "      <th>2</th>\n",
       "      <td>Unable to silent the ringer of watch the reaso...</td>\n",
       "      <td>1</td>\n",
       "    </tr>\n",
       "    <tr>\n",
       "      <th>3</th>\n",
       "      <td>Fake apo2 and bpm too</td>\n",
       "      <td>1</td>\n",
       "    </tr>\n",
       "    <tr>\n",
       "      <th>4</th>\n",
       "      <td>Waste of money\\n2 bluetooth mode connects\\n1st...</td>\n",
       "      <td>1</td>\n",
       "    </tr>\n",
       "  </tbody>\n",
       "</table>\n",
       "</div>"
      ],
      "text/plain": [
       "                                              Review  Rating\n",
       "0  Round dial but display inside is square. Hahah...       1\n",
       "1  The Quality is too bad and the package was alr...       1\n",
       "2  Unable to silent the ringer of watch the reaso...       1\n",
       "3                              Fake apo2 and bpm too       1\n",
       "4  Waste of money\\n2 bluetooth mode connects\\n1st...       1"
      ]
     },
     "execution_count": 47,
     "metadata": {},
     "output_type": "execute_result"
    }
   ],
   "source": [
    "Smart_345.head()"
   ]
  },
  {
   "cell_type": "code",
   "execution_count": 48,
   "metadata": {},
   "outputs": [],
   "source": [
    "Smart_345.to_csv(\"Smart_345\")"
   ]
  },
  {
   "cell_type": "code",
   "execution_count": 49,
   "metadata": {},
   "outputs": [],
   "source": [
    "## Camera"
   ]
  },
  {
   "cell_type": "code",
   "execution_count": 51,
   "metadata": {},
   "outputs": [],
   "source": [
    "# URL of the website \n",
    "url = \"https://www.amazon.in/\"\n",
    "\n",
    "driver.get(url)"
   ]
  },
  {
   "cell_type": "code",
   "execution_count": 52,
   "metadata": {},
   "outputs": [],
   "source": [
    "# targeting the search text box\n",
    "sesrch_query = driver.find_element_by_id(\"twotabsearchtextbox\")\n",
    "\n",
    "\n",
    "# searching Laptops\n",
    "sesrch_query.send_keys(\"Camera\")"
   ]
  },
  {
   "cell_type": "code",
   "execution_count": 53,
   "metadata": {},
   "outputs": [],
   "source": [
    "search_btn = driver.find_element_by_id(\"nav-search-submit-button\")\n",
    "\n",
    "search_btn.click()"
   ]
  },
  {
   "cell_type": "code",
   "execution_count": 54,
   "metadata": {},
   "outputs": [],
   "source": [
    "# Collecting url's for first 3 pages\n",
    "urls = []\n",
    "\n",
    "base_url = \"https://www.amazon.in/s?k=Camera&page={}&qid=1627793778&ref=sr_pg_{}\"\n",
    "\n",
    "for i in range(4,15):\n",
    "    \n",
    "    driver.get(base_url.format(i,i))\n",
    "    \n",
    "    for url in driver.find_elements_by_xpath(\"//h2[@class='a-size-mini a-spacing-none a-color-base s-line-clamp-2']//a\"):\n",
    "        \n",
    "        urls.append(url.get_attribute(\"href\"))"
   ]
  },
  {
   "cell_type": "code",
   "execution_count": 56,
   "metadata": {},
   "outputs": [],
   "source": [
    "Reviewes_1 = []\n",
    "\n",
    "for link in urls:\n",
    "    \n",
    "    driver.get(link)\n",
    "    \n",
    "    try:\n",
    "        \n",
    "        cust_rev_5 = driver.find_element_by_css_selector('#histogramTable > tbody > tr:nth-child(5) > td.aok-nowrap > span.a-size-base > a')\n",
    "    \n",
    "        rev_5 = cust_rev_5.get_attribute(\"href\")\n",
    "    \n",
    "        driver.get(rev_5)\n",
    "        \n",
    "        for i in driver.find_elements_by_xpath(\"//span[@class='a-size-base review-text review-text-content']\"):\n",
    "            \n",
    "            Reviewes_1.append(i.text)\n",
    "            \n",
    "            \n",
    "    except NoSuchElementException:\n",
    "        \n",
    "        Reviewes_1.append(\"-\")"
   ]
  },
  {
   "cell_type": "code",
   "execution_count": 58,
   "metadata": {},
   "outputs": [],
   "source": [
    "Reviewes_1_f = []\n",
    "\n",
    "for i in Reviewes_1:\n",
    "    \n",
    "    if i != \"-\":\n",
    "        \n",
    "        Reviewes_1_f.append(i)\n",
    "        \n",
    "    else:\n",
    "        \n",
    "        pass"
   ]
  },
  {
   "cell_type": "code",
   "execution_count": 63,
   "metadata": {},
   "outputs": [],
   "source": [
    "Reviewes_1_f.remove(Reviewes_1_f[0])"
   ]
  },
  {
   "cell_type": "code",
   "execution_count": 64,
   "metadata": {},
   "outputs": [],
   "source": [
    "Reviewes_1_f = Reviewes_1_f[:345]\n",
    "\n",
    "Camera_345 = pd.DataFrame(Reviewes_1_f,columns=[\"Review\"]) \n",
    "\n",
    "Camera_345[\"Rating\"] = 1"
   ]
  },
  {
   "cell_type": "code",
   "execution_count": 65,
   "metadata": {},
   "outputs": [
    {
     "data": {
      "text/html": [
       "<div>\n",
       "<style scoped>\n",
       "    .dataframe tbody tr th:only-of-type {\n",
       "        vertical-align: middle;\n",
       "    }\n",
       "\n",
       "    .dataframe tbody tr th {\n",
       "        vertical-align: top;\n",
       "    }\n",
       "\n",
       "    .dataframe thead th {\n",
       "        text-align: right;\n",
       "    }\n",
       "</style>\n",
       "<table border=\"1\" class=\"dataframe\">\n",
       "  <thead>\n",
       "    <tr style=\"text-align: right;\">\n",
       "      <th></th>\n",
       "      <th>Review</th>\n",
       "      <th>Rating</th>\n",
       "    </tr>\n",
       "  </thead>\n",
       "  <tbody>\n",
       "    <tr>\n",
       "      <th>0</th>\n",
       "      <td>Worst product\\nThey send the used product\\nPic...</td>\n",
       "      <td>1</td>\n",
       "    </tr>\n",
       "    <tr>\n",
       "      <th>1</th>\n",
       "      <td>Poor product. Not working now. Nobody is respo...</td>\n",
       "      <td>1</td>\n",
       "    </tr>\n",
       "    <tr>\n",
       "      <th>2</th>\n",
       "      <td>No night vision and motion detection is availa...</td>\n",
       "      <td>1</td>\n",
       "    </tr>\n",
       "    <tr>\n",
       "      <th>3</th>\n",
       "      <td>It worked perfectly on the first day, set to m...</td>\n",
       "      <td>1</td>\n",
       "    </tr>\n",
       "    <tr>\n",
       "      <th>4</th>\n",
       "      <td>Very poor quality product, Amazon please don't...</td>\n",
       "      <td>1</td>\n",
       "    </tr>\n",
       "  </tbody>\n",
       "</table>\n",
       "</div>"
      ],
      "text/plain": [
       "                                              Review  Rating\n",
       "0  Worst product\\nThey send the used product\\nPic...       1\n",
       "1  Poor product. Not working now. Nobody is respo...       1\n",
       "2  No night vision and motion detection is availa...       1\n",
       "3  It worked perfectly on the first day, set to m...       1\n",
       "4  Very poor quality product, Amazon please don't...       1"
      ]
     },
     "execution_count": 65,
     "metadata": {},
     "output_type": "execute_result"
    }
   ],
   "source": [
    "Camera_345.head()"
   ]
  },
  {
   "cell_type": "code",
   "execution_count": 66,
   "metadata": {},
   "outputs": [],
   "source": [
    "Camera_345.to_csv(\"Camera_345\")"
   ]
  },
  {
   "cell_type": "code",
   "execution_count": 67,
   "metadata": {},
   "outputs": [],
   "source": [
    "# URL of the website \n",
    "url = \"https://www.amazon.in/\"\n",
    "\n",
    "driver.get(url)"
   ]
  },
  {
   "cell_type": "code",
   "execution_count": 68,
   "metadata": {},
   "outputs": [],
   "source": [
    "# targeting the search text box\n",
    "sesrch_query = driver.find_element_by_id(\"twotabsearchtextbox\")\n",
    "\n",
    "\n",
    "# searching Laptops\n",
    "sesrch_query.send_keys(\"Printers\")"
   ]
  },
  {
   "cell_type": "code",
   "execution_count": 69,
   "metadata": {},
   "outputs": [],
   "source": [
    "search_btn = driver.find_element_by_id(\"nav-search-submit-button\")\n",
    "\n",
    "search_btn.click()"
   ]
  },
  {
   "cell_type": "code",
   "execution_count": 70,
   "metadata": {},
   "outputs": [],
   "source": [
    "# Collecting url's for first 3 pages\n",
    "urls = []\n",
    "\n",
    "base_url = \"https://www.amazon.in/s?k=Printers&page={}&qid=1627796414&ref=sr_pg_{}\"\n",
    "\n",
    "for i in range(4,8):\n",
    "    \n",
    "    driver.get(base_url.format(i,i))\n",
    "    \n",
    "    for url in driver.find_elements_by_xpath(\"//h2[@class='a-size-mini a-spacing-none a-color-base s-line-clamp-2']//a\"):\n",
    "        \n",
    "        urls.append(url.get_attribute(\"href\"))"
   ]
  },
  {
   "cell_type": "code",
   "execution_count": 72,
   "metadata": {},
   "outputs": [],
   "source": [
    "Reviewes_1 = []\n",
    "\n",
    "for link in urls:\n",
    "    \n",
    "    driver.get(link)\n",
    "    \n",
    "    try:\n",
    "        \n",
    "        cust_rev_5 = driver.find_element_by_css_selector('#histogramTable > tbody > tr:nth-child(5) > td.aok-nowrap > span.a-size-base > a')\n",
    "    \n",
    "        rev_5 = cust_rev_5.get_attribute(\"href\")\n",
    "    \n",
    "        driver.get(rev_5)\n",
    "        \n",
    "        for i in driver.find_elements_by_xpath(\"//span[@class='a-size-base review-text review-text-content']\"):\n",
    "            \n",
    "            Reviewes_1.append(i.text)\n",
    "            \n",
    "            \n",
    "    except NoSuchElementException:\n",
    "        \n",
    "        Reviewes_1.append(\"-\")"
   ]
  },
  {
   "cell_type": "code",
   "execution_count": 73,
   "metadata": {},
   "outputs": [
    {
     "data": {
      "text/plain": [
       "341"
      ]
     },
     "execution_count": 73,
     "metadata": {},
     "output_type": "execute_result"
    }
   ],
   "source": [
    "len(Reviewes_1)"
   ]
  },
  {
   "cell_type": "code",
   "execution_count": 74,
   "metadata": {},
   "outputs": [],
   "source": [
    "Reviewes_1_f = []\n",
    "\n",
    "for i in Reviewes_1:\n",
    "    \n",
    "    if i != \"-\":\n",
    "        \n",
    "        Reviewes_1_f.append(i)\n",
    "        \n",
    "    else:\n",
    "        \n",
    "        pass"
   ]
  },
  {
   "cell_type": "code",
   "execution_count": 75,
   "metadata": {},
   "outputs": [
    {
     "data": {
      "text/plain": [
       "312"
      ]
     },
     "execution_count": 75,
     "metadata": {},
     "output_type": "execute_result"
    }
   ],
   "source": [
    "len(Reviewes_1_f)"
   ]
  },
  {
   "cell_type": "code",
   "execution_count": 76,
   "metadata": {},
   "outputs": [],
   "source": [
    "printers_345 = pd.DataFrame(Reviewes_1_f,columns=[\"Review\"]) \n",
    "\n",
    "printers_345[\"Rating\"] = 1"
   ]
  },
  {
   "cell_type": "code",
   "execution_count": 77,
   "metadata": {},
   "outputs": [
    {
     "data": {
      "text/html": [
       "<div>\n",
       "<style scoped>\n",
       "    .dataframe tbody tr th:only-of-type {\n",
       "        vertical-align: middle;\n",
       "    }\n",
       "\n",
       "    .dataframe tbody tr th {\n",
       "        vertical-align: top;\n",
       "    }\n",
       "\n",
       "    .dataframe thead th {\n",
       "        text-align: right;\n",
       "    }\n",
       "</style>\n",
       "<table border=\"1\" class=\"dataframe\">\n",
       "  <thead>\n",
       "    <tr style=\"text-align: right;\">\n",
       "      <th></th>\n",
       "      <th>Review</th>\n",
       "      <th>Rating</th>\n",
       "    </tr>\n",
       "  </thead>\n",
       "  <tbody>\n",
       "    <tr>\n",
       "      <th>0</th>\n",
       "      <td>1. Product Print quality is very poor, it look...</td>\n",
       "      <td>1</td>\n",
       "    </tr>\n",
       "    <tr>\n",
       "      <th>1</th>\n",
       "      <td>Oh I was being fooled by you tube videos that ...</td>\n",
       "      <td>1</td>\n",
       "    </tr>\n",
       "    <tr>\n",
       "      <th>2</th>\n",
       "      <td>Worst product.. I am unable to print in glossy...</td>\n",
       "      <td>1</td>\n",
       "    </tr>\n",
       "    <tr>\n",
       "      <th>3</th>\n",
       "      <td>Wroth less purchase the four months four time ...</td>\n",
       "      <td>1</td>\n",
       "    </tr>\n",
       "    <tr>\n",
       "      <th>4</th>\n",
       "      <td>Unable to contact the Canon service desk. When...</td>\n",
       "      <td>1</td>\n",
       "    </tr>\n",
       "  </tbody>\n",
       "</table>\n",
       "</div>"
      ],
      "text/plain": [
       "                                              Review  Rating\n",
       "0  1. Product Print quality is very poor, it look...       1\n",
       "1  Oh I was being fooled by you tube videos that ...       1\n",
       "2  Worst product.. I am unable to print in glossy...       1\n",
       "3  Wroth less purchase the four months four time ...       1\n",
       "4  Unable to contact the Canon service desk. When...       1"
      ]
     },
     "execution_count": 77,
     "metadata": {},
     "output_type": "execute_result"
    }
   ],
   "source": [
    "printers_345.head()"
   ]
  },
  {
   "cell_type": "code",
   "execution_count": 78,
   "metadata": {},
   "outputs": [],
   "source": [
    "printers_345.to_csv(\"printers_345\")"
   ]
  },
  {
   "cell_type": "code",
   "execution_count": 79,
   "metadata": {},
   "outputs": [],
   "source": [
    "## Monitors"
   ]
  },
  {
   "cell_type": "code",
   "execution_count": 80,
   "metadata": {},
   "outputs": [],
   "source": [
    "# URL of the website \n",
    "url = \"https://www.amazon.in/\"\n",
    "\n",
    "driver.get(url)"
   ]
  },
  {
   "cell_type": "code",
   "execution_count": 81,
   "metadata": {},
   "outputs": [],
   "source": [
    "# targeting the search text box\n",
    "sesrch_query = driver.find_element_by_id(\"twotabsearchtextbox\")\n",
    "\n",
    "\n",
    "# searching Laptops\n",
    "sesrch_query.send_keys(\"Monitors\")"
   ]
  },
  {
   "cell_type": "code",
   "execution_count": 82,
   "metadata": {},
   "outputs": [],
   "source": [
    "search_btn = driver.find_element_by_id(\"nav-search-submit-button\")\n",
    "\n",
    "search_btn.click()"
   ]
  },
  {
   "cell_type": "code",
   "execution_count": 83,
   "metadata": {},
   "outputs": [],
   "source": [
    "# Collecting url's for first 3 pages\n",
    "urls = []\n",
    "\n",
    "base_url = \"https://www.amazon.in/s?k=Monitors&page={}&qid=1627797733&ref=sr_pg_{}\"\n",
    "\n",
    "for i in range(4,10):\n",
    "    \n",
    "    driver.get(base_url.format(i,i))\n",
    "    \n",
    "    for url in driver.find_elements_by_xpath(\"//h2[@class='a-size-mini a-spacing-none a-color-base s-line-clamp-2']//a\"):\n",
    "        \n",
    "        urls.append(url.get_attribute(\"href\"))"
   ]
  },
  {
   "cell_type": "code",
   "execution_count": 85,
   "metadata": {},
   "outputs": [],
   "source": [
    "Reviewes_1 = []\n",
    "\n",
    "for link in urls:\n",
    "    \n",
    "    driver.get(link)\n",
    "    \n",
    "    try:\n",
    "        \n",
    "        cust_rev_5 = driver.find_element_by_css_selector('#histogramTable > tbody > tr:nth-child(5) > td.aok-nowrap > span.a-size-base > a')\n",
    "    \n",
    "        rev_5 = cust_rev_5.get_attribute(\"href\")\n",
    "    \n",
    "        driver.get(rev_5)\n",
    "        \n",
    "        for i in driver.find_elements_by_xpath(\"//span[@class='a-size-base review-text review-text-content']\"):\n",
    "            \n",
    "            Reviewes_1.append(i.text)\n",
    "            \n",
    "            \n",
    "    except NoSuchElementException:\n",
    "        \n",
    "        Reviewes_1.append(\"-\")"
   ]
  },
  {
   "cell_type": "code",
   "execution_count": 87,
   "metadata": {},
   "outputs": [],
   "source": [
    "Reviewes_1_f = []\n",
    "\n",
    "for i in Reviewes_1:\n",
    "    \n",
    "    if i != \"-\":\n",
    "        \n",
    "        Reviewes_1_f.append(i)\n",
    "        \n",
    "    else:\n",
    "        \n",
    "        pass"
   ]
  },
  {
   "cell_type": "code",
   "execution_count": 89,
   "metadata": {},
   "outputs": [],
   "source": [
    "Reviewes_1_f = Reviewes_1_f[:378]\n",
    "\n",
    "Monitor_345 = pd.DataFrame(Reviewes_1_f,columns=[\"Review\"]) \n",
    "\n",
    "Monitor_345[\"Rating\"] = 1"
   ]
  },
  {
   "cell_type": "code",
   "execution_count": 177,
   "metadata": {},
   "outputs": [
    {
     "data": {
      "text/html": [
       "<div>\n",
       "<style scoped>\n",
       "    .dataframe tbody tr th:only-of-type {\n",
       "        vertical-align: middle;\n",
       "    }\n",
       "\n",
       "    .dataframe tbody tr th {\n",
       "        vertical-align: top;\n",
       "    }\n",
       "\n",
       "    .dataframe thead th {\n",
       "        text-align: right;\n",
       "    }\n",
       "</style>\n",
       "<table border=\"1\" class=\"dataframe\">\n",
       "  <thead>\n",
       "    <tr style=\"text-align: right;\">\n",
       "      <th></th>\n",
       "      <th>Review</th>\n",
       "      <th>Rating</th>\n",
       "    </tr>\n",
       "  </thead>\n",
       "  <tbody>\n",
       "    <tr>\n",
       "      <th>0</th>\n",
       "      <td>I had high expectations from AOC and without a...</td>\n",
       "      <td>1</td>\n",
       "    </tr>\n",
       "    <tr>\n",
       "      <th>1</th>\n",
       "      <td>Never ever buy this product - No value for mon...</td>\n",
       "      <td>1</td>\n",
       "    </tr>\n",
       "    <tr>\n",
       "      <th>2</th>\n",
       "      <td>screen suffers from heavy back-light bleed,har...</td>\n",
       "      <td>1</td>\n",
       "    </tr>\n",
       "    <tr>\n",
       "      <th>3</th>\n",
       "      <td>The LED has come with a 16A plug which is not ...</td>\n",
       "      <td>1</td>\n",
       "    </tr>\n",
       "    <tr>\n",
       "      <th>4</th>\n",
       "      <td>There is a gradient going from left to right w...</td>\n",
       "      <td>1</td>\n",
       "    </tr>\n",
       "  </tbody>\n",
       "</table>\n",
       "</div>"
      ],
      "text/plain": [
       "                                              Review  Rating\n",
       "0  I had high expectations from AOC and without a...       1\n",
       "1  Never ever buy this product - No value for mon...       1\n",
       "2  screen suffers from heavy back-light bleed,har...       1\n",
       "3  The LED has come with a 16A plug which is not ...       1\n",
       "4  There is a gradient going from left to right w...       1"
      ]
     },
     "execution_count": 177,
     "metadata": {},
     "output_type": "execute_result"
    }
   ],
   "source": [
    "Monitor_345.head()"
   ]
  },
  {
   "cell_type": "code",
   "execution_count": 178,
   "metadata": {},
   "outputs": [],
   "source": [
    "Monitor_345.to_csv(\"Monitor_345\") "
   ]
  },
  {
   "cell_type": "code",
   "execution_count": 92,
   "metadata": {},
   "outputs": [],
   "source": [
    "# URL of the website \n",
    "url = \"https://www.amazon.in/\"\n",
    "\n",
    "driver.get(url)"
   ]
  },
  {
   "cell_type": "code",
   "execution_count": 93,
   "metadata": {},
   "outputs": [],
   "source": [
    "# targeting the search text box\n",
    "sesrch_query = driver.find_element_by_id(\"twotabsearchtextbox\")\n",
    "\n",
    "\n",
    "# searching Laptops\n",
    "sesrch_query.send_keys(\"Home Theater\")"
   ]
  },
  {
   "cell_type": "code",
   "execution_count": 94,
   "metadata": {},
   "outputs": [],
   "source": [
    "search_btn = driver.find_element_by_id(\"nav-search-submit-button\")\n",
    "\n",
    "search_btn.click()"
   ]
  },
  {
   "cell_type": "code",
   "execution_count": 95,
   "metadata": {},
   "outputs": [],
   "source": [
    "# Collecting url's for first 3 pages\n",
    "urls = []\n",
    "\n",
    "base_url = \"https://www.amazon.in/s?k=Home+Theater&page=2&qid=1627798990&ref=sr_pg_2\"\n",
    "\n",
    "for i in range(4,11):\n",
    "    \n",
    "    driver.get(base_url.format(i,i))\n",
    "    \n",
    "    for url in driver.find_elements_by_xpath(\"//h2[@class='a-size-mini a-spacing-none a-color-base s-line-clamp-2']//a\"):\n",
    "        \n",
    "        urls.append(url.get_attribute(\"href\"))"
   ]
  },
  {
   "cell_type": "code",
   "execution_count": 97,
   "metadata": {},
   "outputs": [],
   "source": [
    "Reviewes_1 = []\n",
    "\n",
    "for link in urls:\n",
    "    \n",
    "    driver.get(link)\n",
    "    \n",
    "    try:\n",
    "        \n",
    "        cust_rev_5 = driver.find_element_by_css_selector('#histogramTable > tbody > tr:nth-child(5) > td.aok-nowrap > span.a-size-base > a')\n",
    "    \n",
    "        rev_5 = cust_rev_5.get_attribute(\"href\")\n",
    "    \n",
    "        driver.get(rev_5)\n",
    "        \n",
    "        for i in driver.find_elements_by_xpath(\"//span[@class='a-size-base review-text review-text-content']\"):\n",
    "            \n",
    "            Reviewes_1.append(i.text)\n",
    "            \n",
    "            \n",
    "    except NoSuchElementException:\n",
    "        \n",
    "        Reviewes_1.append(\"-\")"
   ]
  },
  {
   "cell_type": "code",
   "execution_count": 99,
   "metadata": {},
   "outputs": [],
   "source": [
    "Reviewes_1_f = []\n",
    "\n",
    "for i in Reviewes_1:\n",
    "    \n",
    "    if i != \"-\":\n",
    "        \n",
    "        Reviewes_1_f.append(i)\n",
    "        \n",
    "    else:\n",
    "        \n",
    "        pass"
   ]
  },
  {
   "cell_type": "code",
   "execution_count": 101,
   "metadata": {},
   "outputs": [],
   "source": [
    "Reviewes_1_f = Reviewes_1_f[:345]\n",
    "\n",
    "Home_345 = pd.DataFrame(Reviewes_1_f,columns=[\"Review\"]) \n",
    "\n",
    "Home_345[\"Rating\"] = 1"
   ]
  },
  {
   "cell_type": "code",
   "execution_count": 102,
   "metadata": {},
   "outputs": [
    {
     "data": {
      "text/html": [
       "<div>\n",
       "<style scoped>\n",
       "    .dataframe tbody tr th:only-of-type {\n",
       "        vertical-align: middle;\n",
       "    }\n",
       "\n",
       "    .dataframe tbody tr th {\n",
       "        vertical-align: top;\n",
       "    }\n",
       "\n",
       "    .dataframe thead th {\n",
       "        text-align: right;\n",
       "    }\n",
       "</style>\n",
       "<table border=\"1\" class=\"dataframe\">\n",
       "  <thead>\n",
       "    <tr style=\"text-align: right;\">\n",
       "      <th></th>\n",
       "      <th>Review</th>\n",
       "      <th>Rating</th>\n",
       "    </tr>\n",
       "  </thead>\n",
       "  <tbody>\n",
       "    <tr>\n",
       "      <th>0</th>\n",
       "      <td>Very Bad Product Zebronics SW2490 RUCF 2.1 Don...</td>\n",
       "      <td>1</td>\n",
       "    </tr>\n",
       "    <tr>\n",
       "      <th>1</th>\n",
       "      <td>Received product on 27th Sep 2017. Unpack on 2...</td>\n",
       "      <td>1</td>\n",
       "    </tr>\n",
       "    <tr>\n",
       "      <th>2</th>\n",
       "      <td>Inferior quality speaker. Sound of speaker sta...</td>\n",
       "      <td>1</td>\n",
       "    </tr>\n",
       "    <tr>\n",
       "      <th>3</th>\n",
       "      <td>very disappointed with product. It does not gi...</td>\n",
       "      <td>1</td>\n",
       "    </tr>\n",
       "    <tr>\n",
       "      <th>4</th>\n",
       "      <td>Got a defective piece and even after replacing...</td>\n",
       "      <td>1</td>\n",
       "    </tr>\n",
       "  </tbody>\n",
       "</table>\n",
       "</div>"
      ],
      "text/plain": [
       "                                              Review  Rating\n",
       "0  Very Bad Product Zebronics SW2490 RUCF 2.1 Don...       1\n",
       "1  Received product on 27th Sep 2017. Unpack on 2...       1\n",
       "2  Inferior quality speaker. Sound of speaker sta...       1\n",
       "3  very disappointed with product. It does not gi...       1\n",
       "4  Got a defective piece and even after replacing...       1"
      ]
     },
     "execution_count": 102,
     "metadata": {},
     "output_type": "execute_result"
    }
   ],
   "source": [
    "Home_345.head()"
   ]
  },
  {
   "cell_type": "code",
   "execution_count": 103,
   "metadata": {},
   "outputs": [],
   "source": [
    "Home_345.to_csv(\"Home_345\")"
   ]
  },
  {
   "cell_type": "code",
   "execution_count": 104,
   "metadata": {},
   "outputs": [],
   "source": [
    "# URL of the website \n",
    "url = \"https://www.amazon.in/\"\n",
    "\n",
    "driver.get(url)"
   ]
  },
  {
   "cell_type": "code",
   "execution_count": 105,
   "metadata": {},
   "outputs": [],
   "source": [
    "# targeting the search text box\n",
    "sesrch_query = driver.find_element_by_id(\"twotabsearchtextbox\")\n",
    "\n",
    "\n",
    "# searching Laptops\n",
    "sesrch_query.send_keys(\"Routers\")"
   ]
  },
  {
   "cell_type": "code",
   "execution_count": 106,
   "metadata": {},
   "outputs": [],
   "source": [
    "search_btn = driver.find_element_by_id(\"nav-search-submit-button\")\n",
    "\n",
    "search_btn.click()"
   ]
  },
  {
   "cell_type": "code",
   "execution_count": 107,
   "metadata": {},
   "outputs": [],
   "source": [
    "# Collecting url's for first 3 pages\n",
    "urls = []\n",
    "\n",
    "base_url = \"https://www.amazon.in/s?k=Routers&page=2&qid=1627800556&ref=sr_pg_2\"\n",
    "\n",
    "for i in range(4,12):\n",
    "    \n",
    "    driver.get(base_url.format(i,i))\n",
    "    \n",
    "    for url in driver.find_elements_by_xpath(\"//h2[@class='a-size-mini a-spacing-none a-color-base s-line-clamp-2']//a\"):\n",
    "        \n",
    "        urls.append(url.get_attribute(\"href\"))"
   ]
  },
  {
   "cell_type": "code",
   "execution_count": 109,
   "metadata": {},
   "outputs": [],
   "source": [
    "Reviewes_1 = []\n",
    "\n",
    "for link in urls:\n",
    "    \n",
    "    driver.get(link)\n",
    "    \n",
    "    try:\n",
    "        \n",
    "        cust_rev_5 = driver.find_element_by_css_selector('#histogramTable > tbody > tr:nth-child(5) > td.aok-nowrap > span.a-size-base > a')\n",
    "    \n",
    "        rev_5 = cust_rev_5.get_attribute(\"href\")\n",
    "    \n",
    "        driver.get(rev_5)\n",
    "        \n",
    "        for i in driver.find_elements_by_xpath(\"//span[@class='a-size-base review-text review-text-content']\"):\n",
    "            \n",
    "            Reviewes_1.append(i.text)\n",
    "            \n",
    "            \n",
    "    except NoSuchElementException:\n",
    "        \n",
    "        Reviewes_1.append(\"-\")"
   ]
  },
  {
   "cell_type": "code",
   "execution_count": 110,
   "metadata": {},
   "outputs": [
    {
     "data": {
      "text/plain": [
       "1256"
      ]
     },
     "execution_count": 110,
     "metadata": {},
     "output_type": "execute_result"
    }
   ],
   "source": [
    "len(Reviewes_1)"
   ]
  },
  {
   "cell_type": "code",
   "execution_count": 111,
   "metadata": {},
   "outputs": [],
   "source": [
    "Reviewes_1_f = []\n",
    "\n",
    "for i in Reviewes_1:\n",
    "    \n",
    "    if i != \"-\":\n",
    "        \n",
    "        Reviewes_1_f.append(i)\n",
    "        \n",
    "    else:\n",
    "        \n",
    "        pass"
   ]
  },
  {
   "cell_type": "code",
   "execution_count": 112,
   "metadata": {},
   "outputs": [
    {
     "data": {
      "text/plain": [
       "1224"
      ]
     },
     "execution_count": 112,
     "metadata": {},
     "output_type": "execute_result"
    }
   ],
   "source": [
    "len(Reviewes_1_f)"
   ]
  },
  {
   "cell_type": "code",
   "execution_count": 113,
   "metadata": {},
   "outputs": [],
   "source": [
    "Reviewes_1_f = Reviewes_1_f[:345]\n",
    "\n",
    "Routers_345 = pd.DataFrame(Reviewes_1_f,columns=[\"Review\"]) \n",
    "\n",
    "Routers_345[\"Rating\"] = 1"
   ]
  },
  {
   "cell_type": "code",
   "execution_count": 114,
   "metadata": {},
   "outputs": [
    {
     "data": {
      "text/html": [
       "<div>\n",
       "<style scoped>\n",
       "    .dataframe tbody tr th:only-of-type {\n",
       "        vertical-align: middle;\n",
       "    }\n",
       "\n",
       "    .dataframe tbody tr th {\n",
       "        vertical-align: top;\n",
       "    }\n",
       "\n",
       "    .dataframe thead th {\n",
       "        text-align: right;\n",
       "    }\n",
       "</style>\n",
       "<table border=\"1\" class=\"dataframe\">\n",
       "  <thead>\n",
       "    <tr style=\"text-align: right;\">\n",
       "      <th></th>\n",
       "      <th>Review</th>\n",
       "      <th>Rating</th>\n",
       "    </tr>\n",
       "  </thead>\n",
       "  <tbody>\n",
       "    <tr>\n",
       "      <th>0</th>\n",
       "      <td>Writing this review after 7 months of usage.\\n...</td>\n",
       "      <td>1</td>\n",
       "    </tr>\n",
       "    <tr>\n",
       "      <th>1</th>\n",
       "      <td>This is the worst product... I have bought it ...</td>\n",
       "      <td>1</td>\n",
       "    </tr>\n",
       "    <tr>\n",
       "      <th>2</th>\n",
       "      <td>This is for newbie users who plan to buy route...</td>\n",
       "      <td>1</td>\n",
       "    </tr>\n",
       "    <tr>\n",
       "      <th>3</th>\n",
       "      <td>At the outset I would recommend to avoid buyin...</td>\n",
       "      <td>1</td>\n",
       "    </tr>\n",
       "    <tr>\n",
       "      <th>4</th>\n",
       "      <td>This is a false advertisement. Though it shows...</td>\n",
       "      <td>1</td>\n",
       "    </tr>\n",
       "  </tbody>\n",
       "</table>\n",
       "</div>"
      ],
      "text/plain": [
       "                                              Review  Rating\n",
       "0  Writing this review after 7 months of usage.\\n...       1\n",
       "1  This is the worst product... I have bought it ...       1\n",
       "2  This is for newbie users who plan to buy route...       1\n",
       "3  At the outset I would recommend to avoid buyin...       1\n",
       "4  This is a false advertisement. Though it shows...       1"
      ]
     },
     "execution_count": 114,
     "metadata": {},
     "output_type": "execute_result"
    }
   ],
   "source": [
    "Routers_345.head()"
   ]
  },
  {
   "cell_type": "code",
   "execution_count": 115,
   "metadata": {},
   "outputs": [],
   "source": [
    "Routers_345.to_csv(\"Routers_345\")"
   ]
  }
 ],
 "metadata": {
  "kernelspec": {
   "display_name": "Python 3",
   "language": "python",
   "name": "python3"
  },
  "language_info": {
   "codemirror_mode": {
    "name": "ipython",
    "version": 3
   },
   "file_extension": ".py",
   "mimetype": "text/x-python",
   "name": "python",
   "nbconvert_exporter": "python",
   "pygments_lexer": "ipython3",
   "version": "3.8.5"
  }
 },
 "nbformat": 4,
 "nbformat_minor": 4
}
