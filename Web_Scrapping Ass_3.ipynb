{
 "cells": [
  {
   "cell_type": "markdown",
   "metadata": {},
   "source": [
    "#### Q1) Write a python program which searches all the product under a particular product vertical from www.amazon.in. The product verticals to be searched will be taken as input from user. For e.g. If user input is ‘guitar’. Then search for guitars."
   ]
  },
  {
   "cell_type": "code",
   "execution_count": 116,
   "metadata": {},
   "outputs": [],
   "source": [
    "#Importing Libraries\n",
    "import selenium\n",
    "import pandas as pd\n",
    "from selenium import webdriver\n",
    "import time\n",
    "from selenium.common.exceptions import NoSuchElementException"
   ]
  },
  {
   "cell_type": "code",
   "execution_count": 117,
   "metadata": {},
   "outputs": [],
   "source": [
    "# Executing the chromedriver.exe file\n",
    "driver = webdriver.Chrome(r\"C:\\Users\\charl\\Desktop\\Study\\DataTrained\\Internship\\Selenium\\driver\\chromedriver.exe\")                                       "
   ]
  },
  {
   "cell_type": "code",
   "execution_count": 3,
   "metadata": {},
   "outputs": [],
   "source": [
    "# Url for amazon.in\n",
    "url = \"https://www.amazon.in/\"\n",
    "driver.get(url)"
   ]
  },
  {
   "cell_type": "code",
   "execution_count": 4,
   "metadata": {},
   "outputs": [
    {
     "data": {
      "text/plain": [
       "<selenium.webdriver.remote.webelement.WebElement (session=\"907a578f7417ae79fc1d737c465e968e\", element=\"b38db05f-c2a7-4e3f-a680-86aceff7ea4a\")>"
      ]
     },
     "execution_count": 4,
     "metadata": {},
     "output_type": "execute_result"
    }
   ],
   "source": [
    "# Search Query\n",
    "search_bar = driver.find_element_by_id(\"twotabsearchtextbox\")\n",
    "search_bar"
   ]
  },
  {
   "cell_type": "code",
   "execution_count": 5,
   "metadata": {},
   "outputs": [],
   "source": [
    "## Searching \"Guitars\" \n",
    "search_bar.send_keys(\"Guitars\")"
   ]
  },
  {
   "cell_type": "code",
   "execution_count": 6,
   "metadata": {},
   "outputs": [
    {
     "data": {
      "text/plain": [
       "<selenium.webdriver.remote.webelement.WebElement (session=\"907a578f7417ae79fc1d737c465e968e\", element=\"97f245d3-6c24-45c8-8f51-9a2342806ed9\")>"
      ]
     },
     "execution_count": 6,
     "metadata": {},
     "output_type": "execute_result"
    }
   ],
   "source": [
    "# search button click\n",
    "search_btn = driver.find_element_by_id(\"nav-search-submit-button\")\n",
    "search_btn"
   ]
  },
  {
   "cell_type": "code",
   "execution_count": 7,
   "metadata": {},
   "outputs": [],
   "source": [
    "search_btn.click()"
   ]
  },
  {
   "cell_type": "code",
   "execution_count": 8,
   "metadata": {},
   "outputs": [],
   "source": [
    "## Base url for pagination\n",
    "base_url = \"https://www.amazon.in/s?k=Guitars&page={}&qid=1622079572&ref=sr_pg_{}\""
   ]
  },
  {
   "cell_type": "code",
   "execution_count": 9,
   "metadata": {},
   "outputs": [
    {
     "data": {
      "text/plain": [
       "'https://www.amazon.in/s?k=Guitars&page=1&qid=1622079572&ref=sr_pg_1'"
      ]
     },
     "execution_count": 9,
     "metadata": {},
     "output_type": "execute_result"
    }
   ],
   "source": [
    "base_url.format(1,1)"
   ]
  },
  {
   "cell_type": "code",
   "execution_count": 10,
   "metadata": {},
   "outputs": [],
   "source": [
    "# Collecting url's for first 3 pages\n",
    "urls = []\n",
    "\n",
    "base_url = \"https://www.amazon.in/s?k=Guitars&page={}&qid=1622079572&ref=sr_pg_{}\"\n",
    "\n",
    "for i in range(1,4):\n",
    "    \n",
    "    driver.get(base_url.format(i,i))\n",
    "    \n",
    "    for url in driver.find_elements_by_xpath(\"//a[@class='a-link-normal s-no-outline']\"):\n",
    "        \n",
    "        urls.append(url.get_attribute(\"href\"))"
   ]
  },
  {
   "cell_type": "code",
   "execution_count": 11,
   "metadata": {},
   "outputs": [
    {
     "data": {
      "text/plain": [
       "149"
      ]
     },
     "execution_count": 11,
     "metadata": {},
     "output_type": "execute_result"
    }
   ],
   "source": [
    "len(urls)"
   ]
  },
  {
   "cell_type": "code",
   "execution_count": 19,
   "metadata": {},
   "outputs": [],
   "source": [
    "## Creating empty lists for collecting data\n",
    "Brands_names = [] \n",
    "Name_of_Products = []\n",
    "Ratings = []\n",
    "No_of_Ratings = []\n",
    "Prices = []\n",
    "Return_Exchanges = []\n",
    "Expected_Deliveries = []\n",
    "Availabilities = []\n",
    "Other_Details = []\n",
    "\n",
    "# Iterating through the urls \n",
    "for link in urls:\n",
    "    \n",
    "    # Clicking each individual url\n",
    "    driver.get(link)\n",
    "    \n",
    "    # Using try catch exception handling\n",
    "    try:\n",
    "        \n",
    "        brand_n = driver.find_element_by_xpath(\"//td[@class='a-size-base prodDetAttrValue']\")\n",
    "        \n",
    "        Brands_names.append(brand_n.text)\n",
    "        \n",
    "    except NoSuchElementException:\n",
    "        \n",
    "        Brands_names.append(\"-\")\n",
    "        \n",
    "    try:\n",
    "        \n",
    "        nop = driver.find_element_by_xpath(\"//h1[@id='title']//span\")\n",
    "        \n",
    "        Name_of_Products.append(nop.text)\n",
    "        \n",
    "    except NoSuchElementException:\n",
    "        \n",
    "        Name_of_Products.append(\"-\")\n",
    "    \n",
    "    try:\n",
    "        \n",
    "        rate = driver.find_element_by_xpath(\"//span[@class='a-size-medium a-color-base']\")\n",
    "        \n",
    "        Ratings.append(rate.text)\n",
    "        \n",
    "    except NoSuchElementException:\n",
    "        \n",
    "        Ratings.append(\"-\")\n",
    "        \n",
    "        \n",
    "    try:\n",
    "        \n",
    "        nor = driver.find_element_by_xpath(\"//span[@class='a-size-base a-color-secondary']\")\n",
    "        \n",
    "        No_of_Ratings.append(nor.text)\n",
    "        \n",
    "    except NoSuchElementException:\n",
    "        \n",
    "        No_of_Ratings.append(\"-\")\n",
    "        \n",
    "    \n",
    "    try:\n",
    "        \n",
    "        price = driver.find_element_by_xpath(\"//td[@class='a-span12']//span\")\n",
    "        \n",
    "        Prices.append(price.text)\n",
    "        \n",
    "    except NoSuchElementException:\n",
    "        \n",
    "        Prices.append(\"-\")\n",
    "        \n",
    "    try:\n",
    "        \n",
    "        returns = driver.find_element_by_xpath(\"//a[@class='a-size-small a-link-normal a-text-normal']\")\n",
    "        \n",
    "        Return_Exchanges.append(returns.text)\n",
    "        \n",
    "    except NoSuchElementException:\n",
    "        \n",
    "        Return_Exchanges.append(\"-\")\n",
    "        \n",
    "    try:\n",
    "        \n",
    "        ed = driver.find_element_by_xpath(\"//div[@id='ddmDeliveryMessage']//span\")\n",
    "        \n",
    "        Expected_Deliveries.append(ed.text)\n",
    "        \n",
    "    except NoSuchElementException:\n",
    "        \n",
    "        Expected_Deliveries.append(\"-\")\n",
    "        \n",
    "    try:\n",
    "        \n",
    "        avail = driver.find_element_by_xpath(\"//span[@class='a-size-medium a-color-success']\")\n",
    "        \n",
    "        Availabilities.append(avail.text)\n",
    "        \n",
    "    except NoSuchElementException:\n",
    "        \n",
    "        Availabilities.append(\"-\")\n",
    "        \n",
    "    try:\n",
    "        \n",
    "        od = driver.find_element_by_xpath(\"//div[@id='feature-bullets']\")\n",
    "        \n",
    "        Other_Details.append(od.text)\n",
    "        \n",
    "    except NoSuchElementException:\n",
    "        \n",
    "        Other_Details.append(\"-\")"
   ]
  },
  {
   "cell_type": "code",
   "execution_count": 29,
   "metadata": {},
   "outputs": [],
   "source": [
    "# Replacing the \\n symbol with \"\"(space)\n",
    "Other_Ds = [x.replace('\\n', '') for x in Other_Details]"
   ]
  },
  {
   "cell_type": "code",
   "execution_count": 49,
   "metadata": {},
   "outputs": [
    {
     "data": {
      "text/html": [
       "<style type=\"text/css\">\n",
       "table.dataframe td, table.dataframe th {\n",
       "    border: 1px  black solid !important;\n",
       "  color: black !important;\n",
       "}\n",
       "</style>\n"
      ],
      "text/plain": [
       "<IPython.core.display.HTML object>"
      ]
     },
     "metadata": {},
     "output_type": "display_data"
    }
   ],
   "source": [
    "#Code to display row and column border\n",
    "\n",
    "%%HTML\n",
    "<style type=\"text/css\">\n",
    "table.dataframe td, table.dataframe th {\n",
    "    border: 1px  black solid !important;\n",
    "  color: black !important;\n",
    "}\n",
    "</style>"
   ]
  },
  {
   "cell_type": "code",
   "execution_count": 33,
   "metadata": {},
   "outputs": [],
   "source": [
    "# Creating dataframe\n",
    "df_guitar = pd.DataFrame({})\n",
    "df_guitar[\"Brand Name\"] = Brands_names\n",
    "df_guitar[\"Name of Product\"] = Name_of_Products\n",
    "df_guitar[\"Ratings\"] = Ratings\n",
    "df_guitar[\"Number of Ratings\"] = No_of_Ratings\n",
    "df_guitar[\"Prices\"] = Prices\n",
    "df_guitar[\"Return/Exchanges\"] = Return_Exchanges\n",
    "df_guitar[\"Expected Diliveries\"] = Expected_Deliveries\n",
    "df_guitar[\"Availabilities\"] = Availabilities\n",
    "df_guitar[\"Other Details\"] = Other_Ds\n",
    "df_guitar[\"Product URL\"] = urls"
   ]
  },
  {
   "cell_type": "code",
   "execution_count": 39,
   "metadata": {},
   "outputs": [
    {
     "data": {
      "text/html": [
       "<div>\n",
       "<style scoped>\n",
       "    .dataframe tbody tr th:only-of-type {\n",
       "        vertical-align: middle;\n",
       "    }\n",
       "\n",
       "    .dataframe tbody tr th {\n",
       "        vertical-align: top;\n",
       "    }\n",
       "\n",
       "    .dataframe thead th {\n",
       "        text-align: right;\n",
       "    }\n",
       "</style>\n",
       "<table border=\"1\" class=\"dataframe\">\n",
       "  <thead>\n",
       "    <tr style=\"text-align: right;\">\n",
       "      <th></th>\n",
       "      <th>Brand Name</th>\n",
       "      <th>Name of Product</th>\n",
       "      <th>Ratings</th>\n",
       "      <th>Number of Ratings</th>\n",
       "      <th>Prices</th>\n",
       "      <th>Return/Exchanges</th>\n",
       "      <th>Expected Diliveries</th>\n",
       "      <th>Availabilities</th>\n",
       "      <th>Other Details</th>\n",
       "      <th>Product URL</th>\n",
       "    </tr>\n",
       "  </thead>\n",
       "  <tbody>\n",
       "    <tr>\n",
       "      <th>1</th>\n",
       "      <td>98 x 40 x 10 cm; 2.06 Kilograms</td>\n",
       "      <td>Juârez Acoustic Guitar, 38 Inch Cutaway, 038C ...</td>\n",
       "      <td>3.9 out of 5</td>\n",
       "      <td>9,470 global ratings</td>\n",
       "      <td>₹ 2,369.00</td>\n",
       "      <td>7 Days Replacement</td>\n",
       "      <td>This item cannot be shipped to your selected d...</td>\n",
       "      <td>In stock.</td>\n",
       "      <td>About this itemBlack Glossy Finish, Number of ...</td>\n",
       "      <td>https://www.amazon.in/Juarez-Acoustic-Cutaway-...</td>\n",
       "    </tr>\n",
       "    <tr>\n",
       "      <th>2</th>\n",
       "      <td>98 x 40 x 11 cm; 2.1 Kilograms</td>\n",
       "      <td>Intern INT-38C Acoustic Guitar Kit, With Bag, ...</td>\n",
       "      <td>3.9 out of 5</td>\n",
       "      <td>5,353 global ratings</td>\n",
       "      <td>₹ 2,370.00</td>\n",
       "      <td>7 Days Replacement</td>\n",
       "      <td>This item cannot be shipped to your selected d...</td>\n",
       "      <td>In stock.</td>\n",
       "      <td>About this itemGreat looks with an innovative ...</td>\n",
       "      <td>https://www.amazon.in/Intern-INT-38C-Acoustic-...</td>\n",
       "    </tr>\n",
       "    <tr>\n",
       "      <th>3</th>\n",
       "      <td>98 x 40 x 10 cm; 2.1 Kilograms</td>\n",
       "      <td>Juarez JRZ38C Acoustic Guitar, 38 Inch Cutaway...</td>\n",
       "      <td>4 out of 5</td>\n",
       "      <td>3,240 global ratings</td>\n",
       "      <td>₹ 2,499.00</td>\n",
       "      <td>7 Days Replacement</td>\n",
       "      <td>This item cannot be shipped to your selected d...</td>\n",
       "      <td>In stock.</td>\n",
       "      <td>About this itemBlack glossy finish, number of ...</td>\n",
       "      <td>https://www.amazon.in/JUAREZ-JRZ38C-Acoustic-S...</td>\n",
       "    </tr>\n",
       "    <tr>\n",
       "      <th>4</th>\n",
       "      <td>98 x 40 x 10 cm; 2.06 Kilograms</td>\n",
       "      <td>Juârez Acoustic Guitar, 38 Inch Cutaway, 038C ...</td>\n",
       "      <td>3.9 out of 5</td>\n",
       "      <td>9,470 global ratings</td>\n",
       "      <td>₹ 2,369.00</td>\n",
       "      <td>7 Days Replacement</td>\n",
       "      <td>This item cannot be shipped to your selected d...</td>\n",
       "      <td>In stock.</td>\n",
       "      <td>About this itemBlack Glossy Finish, Number of ...</td>\n",
       "      <td>https://www.amazon.in/Juarez-Acoustic-Cutaway-...</td>\n",
       "    </tr>\n",
       "    <tr>\n",
       "      <th>5</th>\n",
       "      <td>95.5 x 40.8 x 10.8 cm; 2.1 Kilograms</td>\n",
       "      <td>Intern INT-38C Acoustic Guitar Kit, With Bag, ...</td>\n",
       "      <td>3.9 out of 5</td>\n",
       "      <td>5,353 global ratings</td>\n",
       "      <td>₹ 2,490.00</td>\n",
       "      <td>7 Days Replacement</td>\n",
       "      <td>This item cannot be shipped to your selected d...</td>\n",
       "      <td>In stock.</td>\n",
       "      <td>About this itemGreat looks with an innovative ...</td>\n",
       "      <td>https://www.amazon.in/Intern-INT-38C-Acoustic-...</td>\n",
       "    </tr>\n",
       "  </tbody>\n",
       "</table>\n",
       "</div>"
      ],
      "text/plain": [
       "                             Brand Name  \\\n",
       "1       98 x 40 x 10 cm; 2.06 Kilograms   \n",
       "2        98 x 40 x 11 cm; 2.1 Kilograms   \n",
       "3        98 x 40 x 10 cm; 2.1 Kilograms   \n",
       "4       98 x 40 x 10 cm; 2.06 Kilograms   \n",
       "5  95.5 x 40.8 x 10.8 cm; 2.1 Kilograms   \n",
       "\n",
       "                                     Name of Product       Ratings  \\\n",
       "1  Juârez Acoustic Guitar, 38 Inch Cutaway, 038C ...  3.9 out of 5   \n",
       "2  Intern INT-38C Acoustic Guitar Kit, With Bag, ...  3.9 out of 5   \n",
       "3  Juarez JRZ38C Acoustic Guitar, 38 Inch Cutaway...    4 out of 5   \n",
       "4  Juârez Acoustic Guitar, 38 Inch Cutaway, 038C ...  3.9 out of 5   \n",
       "5  Intern INT-38C Acoustic Guitar Kit, With Bag, ...  3.9 out of 5   \n",
       "\n",
       "      Number of Ratings      Prices    Return/Exchanges  \\\n",
       "1  9,470 global ratings  ₹ 2,369.00  7 Days Replacement   \n",
       "2  5,353 global ratings  ₹ 2,370.00  7 Days Replacement   \n",
       "3  3,240 global ratings  ₹ 2,499.00  7 Days Replacement   \n",
       "4  9,470 global ratings  ₹ 2,369.00  7 Days Replacement   \n",
       "5  5,353 global ratings  ₹ 2,490.00  7 Days Replacement   \n",
       "\n",
       "                                 Expected Diliveries Availabilities  \\\n",
       "1  This item cannot be shipped to your selected d...      In stock.   \n",
       "2  This item cannot be shipped to your selected d...      In stock.   \n",
       "3  This item cannot be shipped to your selected d...      In stock.   \n",
       "4  This item cannot be shipped to your selected d...      In stock.   \n",
       "5  This item cannot be shipped to your selected d...      In stock.   \n",
       "\n",
       "                                       Other Details  \\\n",
       "1  About this itemBlack Glossy Finish, Number of ...   \n",
       "2  About this itemGreat looks with an innovative ...   \n",
       "3  About this itemBlack glossy finish, number of ...   \n",
       "4  About this itemBlack Glossy Finish, Number of ...   \n",
       "5  About this itemGreat looks with an innovative ...   \n",
       "\n",
       "                                         Product URL  \n",
       "1  https://www.amazon.in/Juarez-Acoustic-Cutaway-...  \n",
       "2  https://www.amazon.in/Intern-INT-38C-Acoustic-...  \n",
       "3  https://www.amazon.in/JUAREZ-JRZ38C-Acoustic-S...  \n",
       "4  https://www.amazon.in/Juarez-Acoustic-Cutaway-...  \n",
       "5  https://www.amazon.in/Intern-INT-38C-Acoustic-...  "
      ]
     },
     "execution_count": 39,
     "metadata": {},
     "output_type": "execute_result"
    }
   ],
   "source": [
    "df_guitar.head()"
   ]
  },
  {
   "cell_type": "code",
   "execution_count": 43,
   "metadata": {},
   "outputs": [],
   "source": [
    "# Extracting brand names from Name of Product column\n",
    "df_guitar[\"Brand Names\"] = df_guitar[\"Name of Product\"].str.split().str[0]"
   ]
  },
  {
   "cell_type": "code",
   "execution_count": 44,
   "metadata": {},
   "outputs": [
    {
     "data": {
      "text/html": [
       "<div>\n",
       "<style scoped>\n",
       "    .dataframe tbody tr th:only-of-type {\n",
       "        vertical-align: middle;\n",
       "    }\n",
       "\n",
       "    .dataframe tbody tr th {\n",
       "        vertical-align: top;\n",
       "    }\n",
       "\n",
       "    .dataframe thead th {\n",
       "        text-align: right;\n",
       "    }\n",
       "</style>\n",
       "<table border=\"1\" class=\"dataframe\">\n",
       "  <thead>\n",
       "    <tr style=\"text-align: right;\">\n",
       "      <th></th>\n",
       "      <th>Brand Name</th>\n",
       "      <th>Name of Product</th>\n",
       "      <th>Ratings</th>\n",
       "      <th>Number of Ratings</th>\n",
       "      <th>Prices</th>\n",
       "      <th>Return/Exchanges</th>\n",
       "      <th>Expected Diliveries</th>\n",
       "      <th>Availabilities</th>\n",
       "      <th>Other Details</th>\n",
       "      <th>Product URL</th>\n",
       "      <th>Brand Names</th>\n",
       "    </tr>\n",
       "  </thead>\n",
       "  <tbody>\n",
       "    <tr>\n",
       "      <th>1</th>\n",
       "      <td>98 x 40 x 10 cm; 2.06 Kilograms</td>\n",
       "      <td>Juârez Acoustic Guitar, 38 Inch Cutaway, 038C ...</td>\n",
       "      <td>3.9 out of 5</td>\n",
       "      <td>9,470 global ratings</td>\n",
       "      <td>₹ 2,369.00</td>\n",
       "      <td>7 Days Replacement</td>\n",
       "      <td>This item cannot be shipped to your selected d...</td>\n",
       "      <td>In stock.</td>\n",
       "      <td>About this itemBlack Glossy Finish, Number of ...</td>\n",
       "      <td>https://www.amazon.in/Juarez-Acoustic-Cutaway-...</td>\n",
       "      <td>Juârez</td>\n",
       "    </tr>\n",
       "    <tr>\n",
       "      <th>2</th>\n",
       "      <td>98 x 40 x 11 cm; 2.1 Kilograms</td>\n",
       "      <td>Intern INT-38C Acoustic Guitar Kit, With Bag, ...</td>\n",
       "      <td>3.9 out of 5</td>\n",
       "      <td>5,353 global ratings</td>\n",
       "      <td>₹ 2,370.00</td>\n",
       "      <td>7 Days Replacement</td>\n",
       "      <td>This item cannot be shipped to your selected d...</td>\n",
       "      <td>In stock.</td>\n",
       "      <td>About this itemGreat looks with an innovative ...</td>\n",
       "      <td>https://www.amazon.in/Intern-INT-38C-Acoustic-...</td>\n",
       "      <td>Intern</td>\n",
       "    </tr>\n",
       "    <tr>\n",
       "      <th>3</th>\n",
       "      <td>98 x 40 x 10 cm; 2.1 Kilograms</td>\n",
       "      <td>Juarez JRZ38C Acoustic Guitar, 38 Inch Cutaway...</td>\n",
       "      <td>4 out of 5</td>\n",
       "      <td>3,240 global ratings</td>\n",
       "      <td>₹ 2,499.00</td>\n",
       "      <td>7 Days Replacement</td>\n",
       "      <td>This item cannot be shipped to your selected d...</td>\n",
       "      <td>In stock.</td>\n",
       "      <td>About this itemBlack glossy finish, number of ...</td>\n",
       "      <td>https://www.amazon.in/JUAREZ-JRZ38C-Acoustic-S...</td>\n",
       "      <td>Juarez</td>\n",
       "    </tr>\n",
       "    <tr>\n",
       "      <th>4</th>\n",
       "      <td>98 x 40 x 10 cm; 2.06 Kilograms</td>\n",
       "      <td>Juârez Acoustic Guitar, 38 Inch Cutaway, 038C ...</td>\n",
       "      <td>3.9 out of 5</td>\n",
       "      <td>9,470 global ratings</td>\n",
       "      <td>₹ 2,369.00</td>\n",
       "      <td>7 Days Replacement</td>\n",
       "      <td>This item cannot be shipped to your selected d...</td>\n",
       "      <td>In stock.</td>\n",
       "      <td>About this itemBlack Glossy Finish, Number of ...</td>\n",
       "      <td>https://www.amazon.in/Juarez-Acoustic-Cutaway-...</td>\n",
       "      <td>Juârez</td>\n",
       "    </tr>\n",
       "    <tr>\n",
       "      <th>5</th>\n",
       "      <td>95.5 x 40.8 x 10.8 cm; 2.1 Kilograms</td>\n",
       "      <td>Intern INT-38C Acoustic Guitar Kit, With Bag, ...</td>\n",
       "      <td>3.9 out of 5</td>\n",
       "      <td>5,353 global ratings</td>\n",
       "      <td>₹ 2,490.00</td>\n",
       "      <td>7 Days Replacement</td>\n",
       "      <td>This item cannot be shipped to your selected d...</td>\n",
       "      <td>In stock.</td>\n",
       "      <td>About this itemGreat looks with an innovative ...</td>\n",
       "      <td>https://www.amazon.in/Intern-INT-38C-Acoustic-...</td>\n",
       "      <td>Intern</td>\n",
       "    </tr>\n",
       "  </tbody>\n",
       "</table>\n",
       "</div>"
      ],
      "text/plain": [
       "                             Brand Name  \\\n",
       "1       98 x 40 x 10 cm; 2.06 Kilograms   \n",
       "2        98 x 40 x 11 cm; 2.1 Kilograms   \n",
       "3        98 x 40 x 10 cm; 2.1 Kilograms   \n",
       "4       98 x 40 x 10 cm; 2.06 Kilograms   \n",
       "5  95.5 x 40.8 x 10.8 cm; 2.1 Kilograms   \n",
       "\n",
       "                                     Name of Product       Ratings  \\\n",
       "1  Juârez Acoustic Guitar, 38 Inch Cutaway, 038C ...  3.9 out of 5   \n",
       "2  Intern INT-38C Acoustic Guitar Kit, With Bag, ...  3.9 out of 5   \n",
       "3  Juarez JRZ38C Acoustic Guitar, 38 Inch Cutaway...    4 out of 5   \n",
       "4  Juârez Acoustic Guitar, 38 Inch Cutaway, 038C ...  3.9 out of 5   \n",
       "5  Intern INT-38C Acoustic Guitar Kit, With Bag, ...  3.9 out of 5   \n",
       "\n",
       "      Number of Ratings      Prices    Return/Exchanges  \\\n",
       "1  9,470 global ratings  ₹ 2,369.00  7 Days Replacement   \n",
       "2  5,353 global ratings  ₹ 2,370.00  7 Days Replacement   \n",
       "3  3,240 global ratings  ₹ 2,499.00  7 Days Replacement   \n",
       "4  9,470 global ratings  ₹ 2,369.00  7 Days Replacement   \n",
       "5  5,353 global ratings  ₹ 2,490.00  7 Days Replacement   \n",
       "\n",
       "                                 Expected Diliveries Availabilities  \\\n",
       "1  This item cannot be shipped to your selected d...      In stock.   \n",
       "2  This item cannot be shipped to your selected d...      In stock.   \n",
       "3  This item cannot be shipped to your selected d...      In stock.   \n",
       "4  This item cannot be shipped to your selected d...      In stock.   \n",
       "5  This item cannot be shipped to your selected d...      In stock.   \n",
       "\n",
       "                                       Other Details  \\\n",
       "1  About this itemBlack Glossy Finish, Number of ...   \n",
       "2  About this itemGreat looks with an innovative ...   \n",
       "3  About this itemBlack glossy finish, number of ...   \n",
       "4  About this itemBlack Glossy Finish, Number of ...   \n",
       "5  About this itemGreat looks with an innovative ...   \n",
       "\n",
       "                                         Product URL Brand Names  \n",
       "1  https://www.amazon.in/Juarez-Acoustic-Cutaway-...      Juârez  \n",
       "2  https://www.amazon.in/Intern-INT-38C-Acoustic-...      Intern  \n",
       "3  https://www.amazon.in/JUAREZ-JRZ38C-Acoustic-S...      Juarez  \n",
       "4  https://www.amazon.in/Juarez-Acoustic-Cutaway-...      Juârez  \n",
       "5  https://www.amazon.in/Intern-INT-38C-Acoustic-...      Intern  "
      ]
     },
     "execution_count": 44,
     "metadata": {},
     "output_type": "execute_result"
    }
   ],
   "source": [
    "df_guitar.head()"
   ]
  },
  {
   "cell_type": "code",
   "execution_count": 45,
   "metadata": {},
   "outputs": [],
   "source": [
    "# Dropping the orignal brand name column\n",
    "df_guitar = df_guitar.drop(\"Brand Name\",axis=1)"
   ]
  },
  {
   "cell_type": "code",
   "execution_count": 47,
   "metadata": {},
   "outputs": [
    {
     "data": {
      "text/plain": [
       "Index(['Name of Product', 'Ratings', 'Number of Ratings', 'Prices',\n",
       "       'Return/Exchanges', 'Expected Diliveries', 'Availabilities',\n",
       "       'Other Details', 'Product URL', 'Brand Names'],\n",
       "      dtype='object')"
      ]
     },
     "execution_count": 47,
     "metadata": {},
     "output_type": "execute_result"
    }
   ],
   "source": [
    "df_guitar.columns"
   ]
  },
  {
   "cell_type": "code",
   "execution_count": 48,
   "metadata": {},
   "outputs": [],
   "source": [
    "# Adjusting the column names\n",
    "df_guitar = df_guitar[['Brand Names','Name of Product', 'Ratings', 'Number of Ratings', 'Prices',\n",
    "       'Return/Exchanges', 'Expected Diliveries', 'Availabilities',\n",
    "       'Other Details', 'Product URL']]"
   ]
  },
  {
   "cell_type": "code",
   "execution_count": 49,
   "metadata": {},
   "outputs": [
    {
     "data": {
      "text/html": [
       "<div>\n",
       "<style scoped>\n",
       "    .dataframe tbody tr th:only-of-type {\n",
       "        vertical-align: middle;\n",
       "    }\n",
       "\n",
       "    .dataframe tbody tr th {\n",
       "        vertical-align: top;\n",
       "    }\n",
       "\n",
       "    .dataframe thead th {\n",
       "        text-align: right;\n",
       "    }\n",
       "</style>\n",
       "<table border=\"1\" class=\"dataframe\">\n",
       "  <thead>\n",
       "    <tr style=\"text-align: right;\">\n",
       "      <th></th>\n",
       "      <th>Brand Names</th>\n",
       "      <th>Name of Product</th>\n",
       "      <th>Ratings</th>\n",
       "      <th>Number of Ratings</th>\n",
       "      <th>Prices</th>\n",
       "      <th>Return/Exchanges</th>\n",
       "      <th>Expected Diliveries</th>\n",
       "      <th>Availabilities</th>\n",
       "      <th>Other Details</th>\n",
       "      <th>Product URL</th>\n",
       "    </tr>\n",
       "  </thead>\n",
       "  <tbody>\n",
       "    <tr>\n",
       "      <th>1</th>\n",
       "      <td>Juârez</td>\n",
       "      <td>Juârez Acoustic Guitar, 38 Inch Cutaway, 038C ...</td>\n",
       "      <td>3.9 out of 5</td>\n",
       "      <td>9,470 global ratings</td>\n",
       "      <td>₹ 2,369.00</td>\n",
       "      <td>7 Days Replacement</td>\n",
       "      <td>This item cannot be shipped to your selected d...</td>\n",
       "      <td>In stock.</td>\n",
       "      <td>About this itemBlack Glossy Finish, Number of ...</td>\n",
       "      <td>https://www.amazon.in/Juarez-Acoustic-Cutaway-...</td>\n",
       "    </tr>\n",
       "    <tr>\n",
       "      <th>2</th>\n",
       "      <td>Intern</td>\n",
       "      <td>Intern INT-38C Acoustic Guitar Kit, With Bag, ...</td>\n",
       "      <td>3.9 out of 5</td>\n",
       "      <td>5,353 global ratings</td>\n",
       "      <td>₹ 2,370.00</td>\n",
       "      <td>7 Days Replacement</td>\n",
       "      <td>This item cannot be shipped to your selected d...</td>\n",
       "      <td>In stock.</td>\n",
       "      <td>About this itemGreat looks with an innovative ...</td>\n",
       "      <td>https://www.amazon.in/Intern-INT-38C-Acoustic-...</td>\n",
       "    </tr>\n",
       "    <tr>\n",
       "      <th>3</th>\n",
       "      <td>Juarez</td>\n",
       "      <td>Juarez JRZ38C Acoustic Guitar, 38 Inch Cutaway...</td>\n",
       "      <td>4 out of 5</td>\n",
       "      <td>3,240 global ratings</td>\n",
       "      <td>₹ 2,499.00</td>\n",
       "      <td>7 Days Replacement</td>\n",
       "      <td>This item cannot be shipped to your selected d...</td>\n",
       "      <td>In stock.</td>\n",
       "      <td>About this itemBlack glossy finish, number of ...</td>\n",
       "      <td>https://www.amazon.in/JUAREZ-JRZ38C-Acoustic-S...</td>\n",
       "    </tr>\n",
       "    <tr>\n",
       "      <th>4</th>\n",
       "      <td>Juârez</td>\n",
       "      <td>Juârez Acoustic Guitar, 38 Inch Cutaway, 038C ...</td>\n",
       "      <td>3.9 out of 5</td>\n",
       "      <td>9,470 global ratings</td>\n",
       "      <td>₹ 2,369.00</td>\n",
       "      <td>7 Days Replacement</td>\n",
       "      <td>This item cannot be shipped to your selected d...</td>\n",
       "      <td>In stock.</td>\n",
       "      <td>About this itemBlack Glossy Finish, Number of ...</td>\n",
       "      <td>https://www.amazon.in/Juarez-Acoustic-Cutaway-...</td>\n",
       "    </tr>\n",
       "    <tr>\n",
       "      <th>5</th>\n",
       "      <td>Intern</td>\n",
       "      <td>Intern INT-38C Acoustic Guitar Kit, With Bag, ...</td>\n",
       "      <td>3.9 out of 5</td>\n",
       "      <td>5,353 global ratings</td>\n",
       "      <td>₹ 2,490.00</td>\n",
       "      <td>7 Days Replacement</td>\n",
       "      <td>This item cannot be shipped to your selected d...</td>\n",
       "      <td>In stock.</td>\n",
       "      <td>About this itemGreat looks with an innovative ...</td>\n",
       "      <td>https://www.amazon.in/Intern-INT-38C-Acoustic-...</td>\n",
       "    </tr>\n",
       "  </tbody>\n",
       "</table>\n",
       "</div>"
      ],
      "text/plain": [
       "  Brand Names                                    Name of Product  \\\n",
       "1      Juârez  Juârez Acoustic Guitar, 38 Inch Cutaway, 038C ...   \n",
       "2      Intern  Intern INT-38C Acoustic Guitar Kit, With Bag, ...   \n",
       "3      Juarez  Juarez JRZ38C Acoustic Guitar, 38 Inch Cutaway...   \n",
       "4      Juârez  Juârez Acoustic Guitar, 38 Inch Cutaway, 038C ...   \n",
       "5      Intern  Intern INT-38C Acoustic Guitar Kit, With Bag, ...   \n",
       "\n",
       "        Ratings     Number of Ratings      Prices    Return/Exchanges  \\\n",
       "1  3.9 out of 5  9,470 global ratings  ₹ 2,369.00  7 Days Replacement   \n",
       "2  3.9 out of 5  5,353 global ratings  ₹ 2,370.00  7 Days Replacement   \n",
       "3    4 out of 5  3,240 global ratings  ₹ 2,499.00  7 Days Replacement   \n",
       "4  3.9 out of 5  9,470 global ratings  ₹ 2,369.00  7 Days Replacement   \n",
       "5  3.9 out of 5  5,353 global ratings  ₹ 2,490.00  7 Days Replacement   \n",
       "\n",
       "                                 Expected Diliveries Availabilities  \\\n",
       "1  This item cannot be shipped to your selected d...      In stock.   \n",
       "2  This item cannot be shipped to your selected d...      In stock.   \n",
       "3  This item cannot be shipped to your selected d...      In stock.   \n",
       "4  This item cannot be shipped to your selected d...      In stock.   \n",
       "5  This item cannot be shipped to your selected d...      In stock.   \n",
       "\n",
       "                                       Other Details  \\\n",
       "1  About this itemBlack Glossy Finish, Number of ...   \n",
       "2  About this itemGreat looks with an innovative ...   \n",
       "3  About this itemBlack glossy finish, number of ...   \n",
       "4  About this itemBlack Glossy Finish, Number of ...   \n",
       "5  About this itemGreat looks with an innovative ...   \n",
       "\n",
       "                                         Product URL  \n",
       "1  https://www.amazon.in/Juarez-Acoustic-Cutaway-...  \n",
       "2  https://www.amazon.in/Intern-INT-38C-Acoustic-...  \n",
       "3  https://www.amazon.in/JUAREZ-JRZ38C-Acoustic-S...  \n",
       "4  https://www.amazon.in/Juarez-Acoustic-Cutaway-...  \n",
       "5  https://www.amazon.in/Intern-INT-38C-Acoustic-...  "
      ]
     },
     "execution_count": 49,
     "metadata": {},
     "output_type": "execute_result"
    }
   ],
   "source": [
    "# Final dataframe\n",
    "df_guitar.head()"
   ]
  },
  {
   "cell_type": "markdown",
   "metadata": {},
   "source": [
    "#### Q3)Write a python program to access the search bar and search button on images.google.com and scrape 100 images each for keywords ‘fruits’, ‘cars’ and ‘Machine Learning’."
   ]
  },
  {
   "cell_type": "code",
   "execution_count": 96,
   "metadata": {},
   "outputs": [],
   "source": [
    "# Url for google images\n",
    "url = \"https://images.google.com/\"\n",
    "driver.get(url)"
   ]
  },
  {
   "cell_type": "code",
   "execution_count": 97,
   "metadata": {},
   "outputs": [
    {
     "data": {
      "text/plain": [
       "<selenium.webdriver.remote.webelement.WebElement (session=\"907a578f7417ae79fc1d737c465e968e\", element=\"02000463-2e01-4de3-a794-e5003760841b\")>"
      ]
     },
     "execution_count": 97,
     "metadata": {},
     "output_type": "execute_result"
    }
   ],
   "source": [
    "# locating search bar with the help of its class name\n",
    "search_bar = driver.find_element_by_xpath(\"//input[@class='gLFyf gsfi']\")\n",
    "search_bar"
   ]
  },
  {
   "cell_type": "code",
   "execution_count": 98,
   "metadata": {},
   "outputs": [],
   "source": [
    "# Searching \"Fruits\" queries\n",
    "search_bar.send_keys(\"fruits\")"
   ]
  },
  {
   "cell_type": "code",
   "execution_count": 99,
   "metadata": {},
   "outputs": [
    {
     "data": {
      "text/plain": [
       "<selenium.webdriver.remote.webelement.WebElement (session=\"907a578f7417ae79fc1d737c465e968e\", element=\"c476e560-8e39-44dc-8be4-74968538a845\")>"
      ]
     },
     "execution_count": 99,
     "metadata": {},
     "output_type": "execute_result"
    }
   ],
   "source": [
    "# CLicking button\n",
    "on_click = driver.find_element_by_xpath(\"//button[@class='Tg7LZd']\")\n",
    "on_click"
   ]
  },
  {
   "cell_type": "code",
   "execution_count": 100,
   "metadata": {},
   "outputs": [],
   "source": [
    "on_click.click()"
   ]
  },
  {
   "cell_type": "code",
   "execution_count": 101,
   "metadata": {},
   "outputs": [],
   "source": [
    "# Creating an empty array\n",
    "Fruits = []\n",
    "for i in driver.find_elements_by_xpath(\"//img[@class='rg_i Q4LuWd']\"):\n",
    "    Fruits.append(i.get_attribute(\"src\"))"
   ]
  },
  {
   "cell_type": "code",
   "execution_count": 102,
   "metadata": {},
   "outputs": [
    {
     "data": {
      "text/plain": [
       "400"
      ]
     },
     "execution_count": 102,
     "metadata": {},
     "output_type": "execute_result"
    }
   ],
   "source": [
    "len(Fruits)"
   ]
  },
  {
   "cell_type": "code",
   "execution_count": 103,
   "metadata": {},
   "outputs": [],
   "source": [
    "# Top 100 fruits images\n",
    "Fruit = Fruits[:100]"
   ]
  },
  {
   "cell_type": "code",
   "execution_count": 104,
   "metadata": {},
   "outputs": [
    {
     "data": {
      "text/plain": [
       "100"
      ]
     },
     "execution_count": 104,
     "metadata": {},
     "output_type": "execute_result"
    }
   ],
   "source": [
    "len(Fruit)"
   ]
  },
  {
   "cell_type": "code",
   "execution_count": 106,
   "metadata": {},
   "outputs": [],
   "source": [
    "# Url for google images\n",
    "url = \"https://images.google.com/\"\n",
    "driver.get(url)"
   ]
  },
  {
   "cell_type": "code",
   "execution_count": 107,
   "metadata": {},
   "outputs": [
    {
     "data": {
      "text/plain": [
       "<selenium.webdriver.remote.webelement.WebElement (session=\"907a578f7417ae79fc1d737c465e968e\", element=\"46a2c9a0-edac-4236-b68f-ee19192a4a1e\")>"
      ]
     },
     "execution_count": 107,
     "metadata": {},
     "output_type": "execute_result"
    }
   ],
   "source": [
    "# locating search bar with the help of its class name\n",
    "search_bar_cars = driver.find_element_by_xpath(\"//input[@class='gLFyf gsfi']\")\n",
    "search_bar_cars"
   ]
  },
  {
   "cell_type": "code",
   "execution_count": 108,
   "metadata": {},
   "outputs": [],
   "source": [
    "# Searching for cars\n",
    "search_bar_cars.send_keys(\"Cars\")"
   ]
  },
  {
   "cell_type": "code",
   "execution_count": 109,
   "metadata": {},
   "outputs": [
    {
     "data": {
      "text/plain": [
       "<selenium.webdriver.remote.webelement.WebElement (session=\"907a578f7417ae79fc1d737c465e968e\", element=\"9f1a4d0a-8c74-415e-83d4-cb91fdf53188\")>"
      ]
     },
     "execution_count": 109,
     "metadata": {},
     "output_type": "execute_result"
    }
   ],
   "source": [
    "on_click_car = driver.find_element_by_xpath(\"//button[@class='Tg7LZd']\")\n",
    "on_click_car"
   ]
  },
  {
   "cell_type": "code",
   "execution_count": 110,
   "metadata": {},
   "outputs": [],
   "source": [
    "on_click_car.click()"
   ]
  },
  {
   "cell_type": "code",
   "execution_count": 111,
   "metadata": {},
   "outputs": [],
   "source": [
    "# Creating an empty cars array\n",
    "Cars = []\n",
    "for i in driver.find_elements_by_xpath(\"//img[@class='rg_i Q4LuWd']\"):\n",
    "    Cars.append(i.get_attribute(\"src\"))"
   ]
  },
  {
   "cell_type": "code",
   "execution_count": 113,
   "metadata": {},
   "outputs": [],
   "source": [
    "# Top 100 car images\n",
    "Car = Cars[:100]"
   ]
  },
  {
   "cell_type": "code",
   "execution_count": 114,
   "metadata": {},
   "outputs": [
    {
     "data": {
      "text/plain": [
       "100"
      ]
     },
     "execution_count": 114,
     "metadata": {},
     "output_type": "execute_result"
    }
   ],
   "source": [
    "len(Car)"
   ]
  },
  {
   "cell_type": "code",
   "execution_count": 115,
   "metadata": {},
   "outputs": [],
   "source": [
    "# Url for google images\n",
    "url = \"https://images.google.com/\"\n",
    "driver.get(url)"
   ]
  },
  {
   "cell_type": "code",
   "execution_count": 116,
   "metadata": {},
   "outputs": [
    {
     "data": {
      "text/plain": [
       "<selenium.webdriver.remote.webelement.WebElement (session=\"907a578f7417ae79fc1d737c465e968e\", element=\"4d8c59a5-1292-439b-b2a0-482834b05c4b\")>"
      ]
     },
     "execution_count": 116,
     "metadata": {},
     "output_type": "execute_result"
    }
   ],
   "source": [
    "# locating search bar with the help of its class name\n",
    "search_bar_ML = driver.find_element_by_xpath(\"//input[@class='gLFyf gsfi']\")\n",
    "search_bar_ML"
   ]
  },
  {
   "cell_type": "code",
   "execution_count": 117,
   "metadata": {},
   "outputs": [],
   "source": [
    "# Searching the query \n",
    "search_bar_ML.send_keys(\"Machine Leaning\")"
   ]
  },
  {
   "cell_type": "code",
   "execution_count": 118,
   "metadata": {},
   "outputs": [
    {
     "data": {
      "text/plain": [
       "<selenium.webdriver.remote.webelement.WebElement (session=\"907a578f7417ae79fc1d737c465e968e\", element=\"abe69f5e-74c4-4d54-bcce-cfe41bc4aeee\")>"
      ]
     },
     "execution_count": 118,
     "metadata": {},
     "output_type": "execute_result"
    }
   ],
   "source": [
    "on_click_ML = driver.find_element_by_xpath(\"//button[@class='Tg7LZd']\")\n",
    "on_click_ML"
   ]
  },
  {
   "cell_type": "code",
   "execution_count": 119,
   "metadata": {},
   "outputs": [],
   "source": [
    "on_click_ML.click()"
   ]
  },
  {
   "cell_type": "code",
   "execution_count": 120,
   "metadata": {},
   "outputs": [],
   "source": [
    "# Creating an empty list\n",
    "MLS = []\n",
    "for i in driver.find_elements_by_xpath(\"//img[@class='rg_i Q4LuWd']\"):\n",
    "    MLS.append(i.get_attribute(\"src\"))"
   ]
  },
  {
   "cell_type": "code",
   "execution_count": 122,
   "metadata": {},
   "outputs": [],
   "source": [
    "# Top 100 machine learning images\n",
    "ML = MLS[:100]"
   ]
  },
  {
   "cell_type": "code",
   "execution_count": 123,
   "metadata": {},
   "outputs": [
    {
     "data": {
      "text/plain": [
       "100"
      ]
     },
     "execution_count": 123,
     "metadata": {},
     "output_type": "execute_result"
    }
   ],
   "source": [
    "len(ML)"
   ]
  },
  {
   "cell_type": "code",
   "execution_count": 124,
   "metadata": {},
   "outputs": [],
   "source": [
    "# Creating dataframe\n",
    "df_images = pd.DataFrame({})\n",
    "df_images[\"Fruit Images\"] = Fruit\n",
    "df_images[\"Car Images\"] = Car\n",
    "df_images[\"Machine Learning Images\"] = ML"
   ]
  },
  {
   "cell_type": "code",
   "execution_count": 125,
   "metadata": {},
   "outputs": [
    {
     "data": {
      "text/html": [
       "<div>\n",
       "<style scoped>\n",
       "    .dataframe tbody tr th:only-of-type {\n",
       "        vertical-align: middle;\n",
       "    }\n",
       "\n",
       "    .dataframe tbody tr th {\n",
       "        vertical-align: top;\n",
       "    }\n",
       "\n",
       "    .dataframe thead th {\n",
       "        text-align: right;\n",
       "    }\n",
       "</style>\n",
       "<table border=\"1\" class=\"dataframe\">\n",
       "  <thead>\n",
       "    <tr style=\"text-align: right;\">\n",
       "      <th></th>\n",
       "      <th>Fruit Images</th>\n",
       "      <th>Car Images</th>\n",
       "      <th>Machine Learning Images</th>\n",
       "    </tr>\n",
       "  </thead>\n",
       "  <tbody>\n",
       "    <tr>\n",
       "      <th>0</th>\n",
       "      <td>data:image/jpeg;base64,/9j/4AAQSkZJRgABAQAAAQA...</td>\n",
       "      <td>data:image/jpeg;base64,/9j/4AAQSkZJRgABAQAAAQA...</td>\n",
       "      <td>data:image/jpeg;base64,/9j/4AAQSkZJRgABAQAAAQA...</td>\n",
       "    </tr>\n",
       "    <tr>\n",
       "      <th>1</th>\n",
       "      <td>data:image/jpeg;base64,/9j/4AAQSkZJRgABAQAAAQA...</td>\n",
       "      <td>data:image/jpeg;base64,/9j/4AAQSkZJRgABAQAAAQA...</td>\n",
       "      <td>data:image/png;base64,iVBORw0KGgoAAAANSUhEUgAA...</td>\n",
       "    </tr>\n",
       "    <tr>\n",
       "      <th>2</th>\n",
       "      <td>data:image/jpeg;base64,/9j/4AAQSkZJRgABAQAAAQA...</td>\n",
       "      <td>data:image/jpeg;base64,/9j/4AAQSkZJRgABAQAAAQA...</td>\n",
       "      <td>data:image/jpeg;base64,/9j/4AAQSkZJRgABAQAAAQA...</td>\n",
       "    </tr>\n",
       "    <tr>\n",
       "      <th>3</th>\n",
       "      <td>data:image/jpeg;base64,/9j/4AAQSkZJRgABAQAAAQA...</td>\n",
       "      <td>data:image/jpeg;base64,/9j/4AAQSkZJRgABAQAAAQA...</td>\n",
       "      <td>data:image/jpeg;base64,/9j/4AAQSkZJRgABAQAAAQA...</td>\n",
       "    </tr>\n",
       "    <tr>\n",
       "      <th>4</th>\n",
       "      <td>data:image/jpeg;base64,/9j/4AAQSkZJRgABAQAAAQA...</td>\n",
       "      <td>data:image/jpeg;base64,/9j/4AAQSkZJRgABAQAAAQA...</td>\n",
       "      <td>data:image/jpeg;base64,/9j/4AAQSkZJRgABAQAAAQA...</td>\n",
       "    </tr>\n",
       "  </tbody>\n",
       "</table>\n",
       "</div>"
      ],
      "text/plain": [
       "                                        Fruit Images  \\\n",
       "0  data:image/jpeg;base64,/9j/4AAQSkZJRgABAQAAAQA...   \n",
       "1  data:image/jpeg;base64,/9j/4AAQSkZJRgABAQAAAQA...   \n",
       "2  data:image/jpeg;base64,/9j/4AAQSkZJRgABAQAAAQA...   \n",
       "3  data:image/jpeg;base64,/9j/4AAQSkZJRgABAQAAAQA...   \n",
       "4  data:image/jpeg;base64,/9j/4AAQSkZJRgABAQAAAQA...   \n",
       "\n",
       "                                          Car Images  \\\n",
       "0  data:image/jpeg;base64,/9j/4AAQSkZJRgABAQAAAQA...   \n",
       "1  data:image/jpeg;base64,/9j/4AAQSkZJRgABAQAAAQA...   \n",
       "2  data:image/jpeg;base64,/9j/4AAQSkZJRgABAQAAAQA...   \n",
       "3  data:image/jpeg;base64,/9j/4AAQSkZJRgABAQAAAQA...   \n",
       "4  data:image/jpeg;base64,/9j/4AAQSkZJRgABAQAAAQA...   \n",
       "\n",
       "                             Machine Learning Images  \n",
       "0  data:image/jpeg;base64,/9j/4AAQSkZJRgABAQAAAQA...  \n",
       "1  data:image/png;base64,iVBORw0KGgoAAAANSUhEUgAA...  \n",
       "2  data:image/jpeg;base64,/9j/4AAQSkZJRgABAQAAAQA...  \n",
       "3  data:image/jpeg;base64,/9j/4AAQSkZJRgABAQAAAQA...  \n",
       "4  data:image/jpeg;base64,/9j/4AAQSkZJRgABAQAAAQA...  "
      ]
     },
     "execution_count": 125,
     "metadata": {},
     "output_type": "execute_result"
    }
   ],
   "source": [
    "df_images.head()"
   ]
  },
  {
   "cell_type": "markdown",
   "metadata": {},
   "source": [
    "#### Q4)Write a python program to search for a smartphone(e.g.: Oneplus Nord, pixel 4A, etc.) on www.flipkart.com and scrape following details for all the search results displayed on 1st page. Details to be scraped: “Brand Name”, “Smartphone name”, “Colour”, “RAM”, “Storage(ROM)”, “Primary Camera”, “Secondary Camera”, “Display Size”, “Display Resolution”, “Processor”, “Processor Cores”, “Battery Capacity”, “Price”, “Product URL”. Incase if any of the details is missing then replace it by “- “. Save your results in a dataframe and CSV."
   ]
  },
  {
   "cell_type": "code",
   "execution_count": 39,
   "metadata": {},
   "outputs": [],
   "source": [
    "# Url for flipkart\n",
    "url = \"https://www.flipkart.com/\"\n",
    "driver.get(url)"
   ]
  },
  {
   "cell_type": "code",
   "execution_count": 40,
   "metadata": {},
   "outputs": [],
   "source": [
    "#cancel_btn = driver.find_element_by_xpath(\"//button[@class='_2KpZ6l _2doB4z']\")\n",
    "#cancel_btn"
   ]
  },
  {
   "cell_type": "code",
   "execution_count": 41,
   "metadata": {},
   "outputs": [],
   "source": [
    "#cancel_btn.click()"
   ]
  },
  {
   "cell_type": "code",
   "execution_count": 42,
   "metadata": {},
   "outputs": [
    {
     "data": {
      "text/plain": [
       "<selenium.webdriver.remote.webelement.WebElement (session=\"ed633a68babb504230e2699eb227374e\", element=\"30d28177-d3d8-438c-9a06-2ca4b9a36be5\")>"
      ]
     },
     "execution_count": 42,
     "metadata": {},
     "output_type": "execute_result"
    }
   ],
   "source": [
    "## Query to search the item \n",
    "search_item = driver.find_element_by_xpath(\"//input[@class='_3704LK']\")\n",
    "search_item"
   ]
  },
  {
   "cell_type": "code",
   "execution_count": 43,
   "metadata": {},
   "outputs": [],
   "source": [
    "# Searching for phones (Motorola)\n",
    "search_item.send_keys(\"Motorola mobiles\")"
   ]
  },
  {
   "cell_type": "code",
   "execution_count": 44,
   "metadata": {},
   "outputs": [
    {
     "data": {
      "text/plain": [
       "<selenium.webdriver.remote.webelement.WebElement (session=\"ed633a68babb504230e2699eb227374e\", element=\"f3d4e7bf-c759-4096-b8d8-73c07ed24a8f\")>"
      ]
     },
     "execution_count": 44,
     "metadata": {},
     "output_type": "execute_result"
    }
   ],
   "source": [
    "search_btn = driver.find_element_by_xpath(\"//button[@class='L0Z3Pu']\")\n",
    "search_btn"
   ]
  },
  {
   "cell_type": "code",
   "execution_count": 45,
   "metadata": {},
   "outputs": [],
   "source": [
    "search_btn.click()"
   ]
  },
  {
   "cell_type": "code",
   "execution_count": 46,
   "metadata": {},
   "outputs": [],
   "source": [
    "# Colleting the urls for data \n",
    "urls = []\n",
    "\n",
    "for url in driver.find_elements_by_xpath(\"//a[@class='_1fQZEK']\"):\n",
    "    \n",
    "    urls.append(url.get_attribute(\"href\"))"
   ]
  },
  {
   "cell_type": "code",
   "execution_count": 48,
   "metadata": {},
   "outputs": [
    {
     "data": {
      "text/plain": [
       "24"
      ]
     },
     "execution_count": 48,
     "metadata": {},
     "output_type": "execute_result"
    }
   ],
   "source": [
    "len(urls)"
   ]
  },
  {
   "cell_type": "code",
   "execution_count": 91,
   "metadata": {},
   "outputs": [],
   "source": [
    "# Creating empty lists for data collection\n",
    "Brand_Name = []\n",
    "Colour = []\n",
    "RAM = []  \n",
    "Primary_Camera = []  \n",
    "Display_Size = []  \n",
    "Display_Resolution = [] \n",
    "Processor = [] \n",
    "Processor_Cores = []\n",
    "Battery_Capacity = [] \n",
    "Price = [] \n",
    "\n",
    "for link in urls:\n",
    "    \n",
    "    # Clicking each individual url\n",
    "    driver.get(link)\n",
    "    \n",
    "    # Using try catch exception handling\n",
    "    try:\n",
    "        \n",
    "        brand_Name = driver.find_element_by_css_selector(\"#container > div > div._2c7YLP.UtUXW0._6t1WkM._3HqJxg > div._1YokD2._2GoDe3 > div._1YokD2._3Mn1Gg.col-8-12 > div:nth-child(3) > div > div:nth-child(1) > h1 > span\")\n",
    "        \n",
    "        Brand_Name.append(brand_Name.text)\n",
    "        \n",
    "    except NoSuchElementException:\n",
    "        \n",
    "        Brand_Name.append(\"-\")\n",
    "    \n",
    "    \n",
    "    try:\n",
    "        \n",
    "        colour = driver.find_element_by_css_selector(\"#container > div > div._2c7YLP.UtUXW0._6t1WkM._3HqJxg > div._1YokD2._2GoDe3 > div._1YokD2._3Mn1Gg.col-8-12 > div._1YokD2._3Mn1Gg > div:nth-child(5) > div > div:nth-child(2) > div._1UhVsV > div:nth-child(1) > table > tbody > tr:nth-child(4) > td.URwL2w.col.col-9-12 > ul > li\")\n",
    "        \n",
    "        Colour.append(colour.text)\n",
    "        \n",
    "    except NoSuchElementException:\n",
    "        \n",
    "        Colour.append(\"-\")\n",
    "        \n",
    "    try:\n",
    "        \n",
    "        ram = driver.find_element_by_css_selector(\"#container > div > div._2c7YLP.UtUXW0._6t1WkM._3HqJxg > div._1YokD2._2GoDe3 > div._1YokD2._3Mn1Gg.col-8-12 > div:nth-child(9) > div:nth-child(1) > div > div._2418kt > ul > li:nth-child(1)\")\n",
    "        \n",
    "        RAM.append(ram.text)\n",
    "        \n",
    "    except NoSuchElementException:\n",
    "        \n",
    "        RAM.append(\"-\")\n",
    "        \n",
    "        \n",
    "    \n",
    "    try:\n",
    "        \n",
    "        primary_camera = driver.find_element_by_css_selector(\"#container > div > div._2c7YLP.UtUXW0._6t1WkM._3HqJxg > div._1YokD2._2GoDe3 > div._1YokD2._3Mn1Gg.col-8-12 > div:nth-child(9) > div:nth-child(1) > div > div._2418kt > ul > li:nth-child(3)\")\n",
    "        \n",
    "        Primary_Camera.append(primary_camera.text)\n",
    "        \n",
    "    except NoSuchElementException:\n",
    "        \n",
    "        Primary_Camera.append(\"-\")\n",
    "        \n",
    "        \n",
    "    try:\n",
    "        \n",
    "        ds = driver.find_element_by_css_selector(\"#container > div > div._2c7YLP.UtUXW0._6t1WkM._3HqJxg > div._1YokD2._2GoDe3 > div._1YokD2._3Mn1Gg.col-8-12 > div:nth-child(9) > div:nth-child(1) > div > div._2418kt > ul > li:nth-child(2)\")\n",
    "        \n",
    "        Display_Size.append(ds.text)\n",
    "        \n",
    "    except NoSuchElementException:\n",
    "        \n",
    "        Display_Size.append(\"-\")\n",
    "        \n",
    "        \n",
    "    try:\n",
    "        \n",
    "        clk = driver.find_element_by_css_selector(\"#container > div > div._2c7YLP.UtUXW0._6t1WkM._3HqJxg > div._1YokD2._2GoDe3 > div._1YokD2._3Mn1Gg.col-8-12 > div._1YokD2._3Mn1Gg > div:nth-child(5) > div > div:nth-child(2) > button\")\n",
    "        \n",
    "        clk.click()\n",
    "        \n",
    "        Dr = driver.find_element_by_css_selector(\"#container > div > div._2c7YLP.UtUXW0._6t1WkM._3HqJxg > div._1YokD2._2GoDe3 > div._1YokD2._3Mn1Gg.col-8-12 > div._1YokD2._3Mn1Gg > div:nth-child(5) > div > div:nth-child(2) > div._1UhVsV > div:nth-child(2) > table > tbody > tr:nth-child(2) > td.URwL2w.col.col-9-12 > ul > li\")\n",
    "        \n",
    "        Display_Resolution.append(Dr.text)\n",
    "        \n",
    "    except NoSuchElementException:\n",
    "        \n",
    "        Display_Resolution.append(\"-\")\n",
    "        \n",
    "        \n",
    "    \n",
    "    try:\n",
    "        \n",
    "        processor = driver.find_element_by_css_selector(\"#container > div > div._2c7YLP.UtUXW0._6t1WkM._3HqJxg > div._1YokD2._2GoDe3 > div._1YokD2._3Mn1Gg.col-8-12 > div:nth-child(9) > div:nth-child(1) > div > div._2418kt > ul > li:nth-child(5)\")\n",
    "        \n",
    "        Processor.append(processor.text)\n",
    "        \n",
    "    except NoSuchElementException:\n",
    "        \n",
    "        Processor.append(\"-\")\n",
    "        \n",
    "        \n",
    "    try:\n",
    "        clk = driver.find_element_by_css_selector(\"#container > div > div._2c7YLP.UtUXW0._6t1WkM._3HqJxg > div._1YokD2._2GoDe3 > div._1YokD2._3Mn1Gg.col-8-12 > div._1YokD2._3Mn1Gg > div:nth-child(5) > div > div:nth-child(2) > button\")\n",
    "        \n",
    "        clk.click()\n",
    "        \n",
    "        pc = driver.find_element_by_css_selector(\"#container > div > div._2c7YLP.UtUXW0._6t1WkM._3HqJxg > div._1YokD2._2GoDe3 > div._1YokD2._3Mn1Gg.col-8-12 > div._1YokD2._3Mn1Gg > div:nth-child(5) > div > div:nth-child(2) > div._1UhVsV > div:nth-child(3) > table > tbody > tr:nth-child(3) > td.URwL2w.col.col-9-12 > ul > li\")\n",
    "        \n",
    "        Processor_Cores.append(pc.text)\n",
    "        \n",
    "    except NoSuchElementException:\n",
    "        \n",
    "        Processor_Cores.append(\"-\")\n",
    "        \n",
    "    \n",
    "    try:\n",
    "        \n",
    "        bc = driver.find_element_by_css_selector(\"#container > div > div._2c7YLP.UtUXW0._6t1WkM._3HqJxg > div._1YokD2._2GoDe3 > div._1YokD2._3Mn1Gg.col-8-12 > div:nth-child(9) > div:nth-child(1) > div > div._2418kt > ul > li:nth-child(4)\")\n",
    "        \n",
    "        Battery_Capacity.append(bc.text)\n",
    "        \n",
    "    except NoSuchElementException:\n",
    "        \n",
    "        Battery_Capacity.append(\"-\")\n",
    "        \n",
    "    try:\n",
    "        \n",
    "        price = driver.find_element_by_xpath(\"//div[@class='_30jeq3 _16Jk6d']\")\n",
    "        \n",
    "        Price.append(price.text)\n",
    "        \n",
    "    except NoSuchElementException:\n",
    "        \n",
    "        Price.append(\"-\")"
   ]
  },
  {
   "cell_type": "code",
   "execution_count": 95,
   "metadata": {},
   "outputs": [],
   "source": [
    "Processor_Cores = []\n",
    "\n",
    "for link in urls:\n",
    "    \n",
    "    # Clicking each individual url\n",
    "    driver.get(link)\n",
    "    \n",
    "    try:\n",
    "        clks = driver.find_element_by_css_selector(\"#container > div > div._2c7YLP.UtUXW0._6t1WkM._3HqJxg > div._1YokD2._2GoDe3 > div._1YokD2._3Mn1Gg.col-8-12 > div._1YokD2._3Mn1Gg > div:nth-child(5) > div > div:nth-child(2) > button\")\n",
    "        \n",
    "        clks.click()\n",
    "        \n",
    "        pc = driver.find_element_by_css_selector(\"#container > div > div._2c7YLP.UtUXW0._6t1WkM._3HqJxg > div._1YokD2._2GoDe3 > div._1YokD2._3Mn1Gg.col-8-12 > div._1YokD2._3Mn1Gg > div:nth-child(5) > div > div:nth-child(2) > div._1UhVsV > div:nth-child(3) > table > tbody > tr:nth-child(3) > td.URwL2w.col.col-9-12 > ul > li\")\n",
    "        \n",
    "        Processor_Cores.append(pc.text)\n",
    "        \n",
    "    except NoSuchElementException:\n",
    "        \n",
    "        Processor_Cores.append(\"-\")"
   ]
  },
  {
   "cell_type": "code",
   "execution_count": 97,
   "metadata": {},
   "outputs": [
    {
     "data": {
      "text/plain": [
       "24"
      ]
     },
     "execution_count": 97,
     "metadata": {},
     "output_type": "execute_result"
    }
   ],
   "source": [
    "len(Processor_Cores)"
   ]
  },
  {
   "cell_type": "code",
   "execution_count": 123,
   "metadata": {},
   "outputs": [],
   "source": [
    "Smartphone_name = Brand_Name"
   ]
  },
  {
   "cell_type": "code",
   "execution_count": 126,
   "metadata": {},
   "outputs": [],
   "source": [
    "# Creating dataframe\n",
    "df_phone = pd.DataFrame({})\n",
    "df_phone[\"Smartphone name\"] = Smartphone_name\n",
    "df_phone[\"Colour\"] = Colour\n",
    "df_phone[\"RAM\"] = RAM\n",
    "df_phone[\"Primary_Camera\"] = Primary_Camera\n",
    "df_phone[\"Display_Size\"] = Display_Size\n",
    "df_phone[\"Display_Resolution\"] = Display_Resolution\n",
    "df_phone[\"Processor\"] = Processor\n",
    "df_phone[\"Processor_Cores\"] = Processor_Cores\n",
    "df_phone[\"Battery_Capacity\"] = Battery_Capacity\n",
    "df_phone[\"Price\"] = Price\n",
    "df_phone[\"URL\"] = urls"
   ]
  },
  {
   "cell_type": "code",
   "execution_count": 127,
   "metadata": {},
   "outputs": [
    {
     "data": {
      "text/html": [
       "<div>\n",
       "<style scoped>\n",
       "    .dataframe tbody tr th:only-of-type {\n",
       "        vertical-align: middle;\n",
       "    }\n",
       "\n",
       "    .dataframe tbody tr th {\n",
       "        vertical-align: top;\n",
       "    }\n",
       "\n",
       "    .dataframe thead th {\n",
       "        text-align: right;\n",
       "    }\n",
       "</style>\n",
       "<table border=\"1\" class=\"dataframe\">\n",
       "  <thead>\n",
       "    <tr style=\"text-align: right;\">\n",
       "      <th></th>\n",
       "      <th>Smartphone name</th>\n",
       "      <th>Colour</th>\n",
       "      <th>RAM</th>\n",
       "      <th>Primary_Camera</th>\n",
       "      <th>Display_Size</th>\n",
       "      <th>Display_Resolution</th>\n",
       "      <th>Processor</th>\n",
       "      <th>Processor_Cores</th>\n",
       "      <th>Battery_Capacity</th>\n",
       "      <th>Price</th>\n",
       "      <th>URL</th>\n",
       "    </tr>\n",
       "  </thead>\n",
       "  <tbody>\n",
       "    <tr>\n",
       "      <th>0</th>\n",
       "      <td>MOTOROLA G10 Power (Breeze Blue, 64 GB)  (4 GB...</td>\n",
       "      <td>Breeze Blue</td>\n",
       "      <td>4 GB RAM | 64 GB ROM</td>\n",
       "      <td>48MP + 8MP + 2MP + 2MP | 8MP Front Camera</td>\n",
       "      <td>16.54 cm (6.51 inch) HD+ Display</td>\n",
       "      <td>1600 x 720 Pixels</td>\n",
       "      <td>Snapdragon 460 Processor</td>\n",
       "      <td>Octa Core</td>\n",
       "      <td>6000 mAh Battery</td>\n",
       "      <td>₹9,499</td>\n",
       "      <td>https://www.flipkart.com/motorola-g10-power-br...</td>\n",
       "    </tr>\n",
       "    <tr>\n",
       "      <th>1</th>\n",
       "      <td>MOTOROLA E7 Power (Tahiti Blue, 64 GB)  (4 GB ...</td>\n",
       "      <td>Tahiti Blue</td>\n",
       "      <td>4 GB RAM | 64 GB ROM | Expandable Upto 1 TB</td>\n",
       "      <td>13MP + 2MP | 5MP Front Camera</td>\n",
       "      <td>16.54 cm (6.51 inch) HD+ Display</td>\n",
       "      <td>1600 x 720 Pixels</td>\n",
       "      <td>MediaTek Helio G25 Processor</td>\n",
       "      <td>Octa Core</td>\n",
       "      <td>5000 mAh Battery</td>\n",
       "      <td>₹7,999</td>\n",
       "      <td>https://www.flipkart.com/motorola-e7-power-tah...</td>\n",
       "    </tr>\n",
       "    <tr>\n",
       "      <th>2</th>\n",
       "      <td>MOTOROLA G10 Power (Aurora Grey, 64 GB)  (4 GB...</td>\n",
       "      <td>Aurora Grey</td>\n",
       "      <td>4 GB RAM | 64 GB ROM</td>\n",
       "      <td>48MP + 8MP + 2MP + 2MP | 8MP Front Camera</td>\n",
       "      <td>16.54 cm (6.51 inch) HD+ Display</td>\n",
       "      <td>1600 x 720 Pixels</td>\n",
       "      <td>Snapdragon 460 Processor</td>\n",
       "      <td>Octa Core</td>\n",
       "      <td>6000 mAh Battery</td>\n",
       "      <td>₹9,499</td>\n",
       "      <td>https://www.flipkart.com/motorola-g10-power-au...</td>\n",
       "    </tr>\n",
       "    <tr>\n",
       "      <th>3</th>\n",
       "      <td>MOTOROLA G40 Fusion (Dynamic Gray, 128 GB)  (6...</td>\n",
       "      <td>Dynamic Gray</td>\n",
       "      <td>6 GB RAM | 128 GB ROM</td>\n",
       "      <td>64MP + 8MP + 2MP | 16MP Front Camera</td>\n",
       "      <td>17.22 cm (6.78 inch) Full HD+ Display</td>\n",
       "      <td>2460 x 1080 Pixels</td>\n",
       "      <td>Qualcomm Snapdragon 732G Processor</td>\n",
       "      <td>Octa Core</td>\n",
       "      <td>6000 mAh Battery</td>\n",
       "      <td>₹15,999</td>\n",
       "      <td>https://www.flipkart.com/motorola-g40-fusion-d...</td>\n",
       "    </tr>\n",
       "    <tr>\n",
       "      <th>4</th>\n",
       "      <td>MOTOROLA G40 Fusion (Frosted Champagne, 128 GB...</td>\n",
       "      <td>Frosted Champagne</td>\n",
       "      <td>6 GB RAM | 128 GB ROM</td>\n",
       "      <td>64MP + 8MP + 2MP | 16MP Front Camera</td>\n",
       "      <td>17.22 cm (6.78 inch) Full HD+ Display</td>\n",
       "      <td>2460 x 1080 Pixels</td>\n",
       "      <td>Qualcomm Snapdragon 732G Processor</td>\n",
       "      <td>Octa Core</td>\n",
       "      <td>6000 mAh Battery</td>\n",
       "      <td>₹15,999</td>\n",
       "      <td>https://www.flipkart.com/motorola-g40-fusion-f...</td>\n",
       "    </tr>\n",
       "  </tbody>\n",
       "</table>\n",
       "</div>"
      ],
      "text/plain": [
       "                                     Smartphone name             Colour  \\\n",
       "0  MOTOROLA G10 Power (Breeze Blue, 64 GB)  (4 GB...        Breeze Blue   \n",
       "1  MOTOROLA E7 Power (Tahiti Blue, 64 GB)  (4 GB ...        Tahiti Blue   \n",
       "2  MOTOROLA G10 Power (Aurora Grey, 64 GB)  (4 GB...        Aurora Grey   \n",
       "3  MOTOROLA G40 Fusion (Dynamic Gray, 128 GB)  (6...       Dynamic Gray   \n",
       "4  MOTOROLA G40 Fusion (Frosted Champagne, 128 GB...  Frosted Champagne   \n",
       "\n",
       "                                           RAM  \\\n",
       "0                         4 GB RAM | 64 GB ROM   \n",
       "1  4 GB RAM | 64 GB ROM | Expandable Upto 1 TB   \n",
       "2                         4 GB RAM | 64 GB ROM   \n",
       "3                        6 GB RAM | 128 GB ROM   \n",
       "4                        6 GB RAM | 128 GB ROM   \n",
       "\n",
       "                              Primary_Camera  \\\n",
       "0  48MP + 8MP + 2MP + 2MP | 8MP Front Camera   \n",
       "1              13MP + 2MP | 5MP Front Camera   \n",
       "2  48MP + 8MP + 2MP + 2MP | 8MP Front Camera   \n",
       "3       64MP + 8MP + 2MP | 16MP Front Camera   \n",
       "4       64MP + 8MP + 2MP | 16MP Front Camera   \n",
       "\n",
       "                            Display_Size  Display_Resolution  \\\n",
       "0       16.54 cm (6.51 inch) HD+ Display   1600 x 720 Pixels   \n",
       "1       16.54 cm (6.51 inch) HD+ Display   1600 x 720 Pixels   \n",
       "2       16.54 cm (6.51 inch) HD+ Display   1600 x 720 Pixels   \n",
       "3  17.22 cm (6.78 inch) Full HD+ Display  2460 x 1080 Pixels   \n",
       "4  17.22 cm (6.78 inch) Full HD+ Display  2460 x 1080 Pixels   \n",
       "\n",
       "                            Processor Processor_Cores  Battery_Capacity  \\\n",
       "0            Snapdragon 460 Processor       Octa Core  6000 mAh Battery   \n",
       "1        MediaTek Helio G25 Processor       Octa Core  5000 mAh Battery   \n",
       "2            Snapdragon 460 Processor       Octa Core  6000 mAh Battery   \n",
       "3  Qualcomm Snapdragon 732G Processor       Octa Core  6000 mAh Battery   \n",
       "4  Qualcomm Snapdragon 732G Processor       Octa Core  6000 mAh Battery   \n",
       "\n",
       "     Price                                                URL  \n",
       "0   ₹9,499  https://www.flipkart.com/motorola-g10-power-br...  \n",
       "1   ₹7,999  https://www.flipkart.com/motorola-e7-power-tah...  \n",
       "2   ₹9,499  https://www.flipkart.com/motorola-g10-power-au...  \n",
       "3  ₹15,999  https://www.flipkart.com/motorola-g40-fusion-d...  \n",
       "4  ₹15,999  https://www.flipkart.com/motorola-g40-fusion-f...  "
      ]
     },
     "execution_count": 127,
     "metadata": {},
     "output_type": "execute_result"
    }
   ],
   "source": [
    "df_phone.head()"
   ]
  },
  {
   "cell_type": "code",
   "execution_count": 128,
   "metadata": {},
   "outputs": [],
   "source": [
    "# The brand name is \"Motorola\"\n",
    "df_phone[\"Brand Name\"] = \"MOTOROLA\""
   ]
  },
  {
   "cell_type": "code",
   "execution_count": 129,
   "metadata": {},
   "outputs": [
    {
     "data": {
      "text/html": [
       "<div>\n",
       "<style scoped>\n",
       "    .dataframe tbody tr th:only-of-type {\n",
       "        vertical-align: middle;\n",
       "    }\n",
       "\n",
       "    .dataframe tbody tr th {\n",
       "        vertical-align: top;\n",
       "    }\n",
       "\n",
       "    .dataframe thead th {\n",
       "        text-align: right;\n",
       "    }\n",
       "</style>\n",
       "<table border=\"1\" class=\"dataframe\">\n",
       "  <thead>\n",
       "    <tr style=\"text-align: right;\">\n",
       "      <th></th>\n",
       "      <th>Smartphone name</th>\n",
       "      <th>Colour</th>\n",
       "      <th>RAM</th>\n",
       "      <th>Primary_Camera</th>\n",
       "      <th>Display_Size</th>\n",
       "      <th>Display_Resolution</th>\n",
       "      <th>Processor</th>\n",
       "      <th>Processor_Cores</th>\n",
       "      <th>Battery_Capacity</th>\n",
       "      <th>Price</th>\n",
       "      <th>URL</th>\n",
       "      <th>Brand Name</th>\n",
       "    </tr>\n",
       "  </thead>\n",
       "  <tbody>\n",
       "    <tr>\n",
       "      <th>0</th>\n",
       "      <td>MOTOROLA G10 Power (Breeze Blue, 64 GB)  (4 GB...</td>\n",
       "      <td>Breeze Blue</td>\n",
       "      <td>4 GB RAM | 64 GB ROM</td>\n",
       "      <td>48MP + 8MP + 2MP + 2MP | 8MP Front Camera</td>\n",
       "      <td>16.54 cm (6.51 inch) HD+ Display</td>\n",
       "      <td>1600 x 720 Pixels</td>\n",
       "      <td>Snapdragon 460 Processor</td>\n",
       "      <td>Octa Core</td>\n",
       "      <td>6000 mAh Battery</td>\n",
       "      <td>₹9,499</td>\n",
       "      <td>https://www.flipkart.com/motorola-g10-power-br...</td>\n",
       "      <td>MOTOROLA</td>\n",
       "    </tr>\n",
       "    <tr>\n",
       "      <th>1</th>\n",
       "      <td>MOTOROLA E7 Power (Tahiti Blue, 64 GB)  (4 GB ...</td>\n",
       "      <td>Tahiti Blue</td>\n",
       "      <td>4 GB RAM | 64 GB ROM | Expandable Upto 1 TB</td>\n",
       "      <td>13MP + 2MP | 5MP Front Camera</td>\n",
       "      <td>16.54 cm (6.51 inch) HD+ Display</td>\n",
       "      <td>1600 x 720 Pixels</td>\n",
       "      <td>MediaTek Helio G25 Processor</td>\n",
       "      <td>Octa Core</td>\n",
       "      <td>5000 mAh Battery</td>\n",
       "      <td>₹7,999</td>\n",
       "      <td>https://www.flipkart.com/motorola-e7-power-tah...</td>\n",
       "      <td>MOTOROLA</td>\n",
       "    </tr>\n",
       "    <tr>\n",
       "      <th>2</th>\n",
       "      <td>MOTOROLA G10 Power (Aurora Grey, 64 GB)  (4 GB...</td>\n",
       "      <td>Aurora Grey</td>\n",
       "      <td>4 GB RAM | 64 GB ROM</td>\n",
       "      <td>48MP + 8MP + 2MP + 2MP | 8MP Front Camera</td>\n",
       "      <td>16.54 cm (6.51 inch) HD+ Display</td>\n",
       "      <td>1600 x 720 Pixels</td>\n",
       "      <td>Snapdragon 460 Processor</td>\n",
       "      <td>Octa Core</td>\n",
       "      <td>6000 mAh Battery</td>\n",
       "      <td>₹9,499</td>\n",
       "      <td>https://www.flipkart.com/motorola-g10-power-au...</td>\n",
       "      <td>MOTOROLA</td>\n",
       "    </tr>\n",
       "    <tr>\n",
       "      <th>3</th>\n",
       "      <td>MOTOROLA G40 Fusion (Dynamic Gray, 128 GB)  (6...</td>\n",
       "      <td>Dynamic Gray</td>\n",
       "      <td>6 GB RAM | 128 GB ROM</td>\n",
       "      <td>64MP + 8MP + 2MP | 16MP Front Camera</td>\n",
       "      <td>17.22 cm (6.78 inch) Full HD+ Display</td>\n",
       "      <td>2460 x 1080 Pixels</td>\n",
       "      <td>Qualcomm Snapdragon 732G Processor</td>\n",
       "      <td>Octa Core</td>\n",
       "      <td>6000 mAh Battery</td>\n",
       "      <td>₹15,999</td>\n",
       "      <td>https://www.flipkart.com/motorola-g40-fusion-d...</td>\n",
       "      <td>MOTOROLA</td>\n",
       "    </tr>\n",
       "    <tr>\n",
       "      <th>4</th>\n",
       "      <td>MOTOROLA G40 Fusion (Frosted Champagne, 128 GB...</td>\n",
       "      <td>Frosted Champagne</td>\n",
       "      <td>6 GB RAM | 128 GB ROM</td>\n",
       "      <td>64MP + 8MP + 2MP | 16MP Front Camera</td>\n",
       "      <td>17.22 cm (6.78 inch) Full HD+ Display</td>\n",
       "      <td>2460 x 1080 Pixels</td>\n",
       "      <td>Qualcomm Snapdragon 732G Processor</td>\n",
       "      <td>Octa Core</td>\n",
       "      <td>6000 mAh Battery</td>\n",
       "      <td>₹15,999</td>\n",
       "      <td>https://www.flipkart.com/motorola-g40-fusion-f...</td>\n",
       "      <td>MOTOROLA</td>\n",
       "    </tr>\n",
       "  </tbody>\n",
       "</table>\n",
       "</div>"
      ],
      "text/plain": [
       "                                     Smartphone name             Colour  \\\n",
       "0  MOTOROLA G10 Power (Breeze Blue, 64 GB)  (4 GB...        Breeze Blue   \n",
       "1  MOTOROLA E7 Power (Tahiti Blue, 64 GB)  (4 GB ...        Tahiti Blue   \n",
       "2  MOTOROLA G10 Power (Aurora Grey, 64 GB)  (4 GB...        Aurora Grey   \n",
       "3  MOTOROLA G40 Fusion (Dynamic Gray, 128 GB)  (6...       Dynamic Gray   \n",
       "4  MOTOROLA G40 Fusion (Frosted Champagne, 128 GB...  Frosted Champagne   \n",
       "\n",
       "                                           RAM  \\\n",
       "0                         4 GB RAM | 64 GB ROM   \n",
       "1  4 GB RAM | 64 GB ROM | Expandable Upto 1 TB   \n",
       "2                         4 GB RAM | 64 GB ROM   \n",
       "3                        6 GB RAM | 128 GB ROM   \n",
       "4                        6 GB RAM | 128 GB ROM   \n",
       "\n",
       "                              Primary_Camera  \\\n",
       "0  48MP + 8MP + 2MP + 2MP | 8MP Front Camera   \n",
       "1              13MP + 2MP | 5MP Front Camera   \n",
       "2  48MP + 8MP + 2MP + 2MP | 8MP Front Camera   \n",
       "3       64MP + 8MP + 2MP | 16MP Front Camera   \n",
       "4       64MP + 8MP + 2MP | 16MP Front Camera   \n",
       "\n",
       "                            Display_Size  Display_Resolution  \\\n",
       "0       16.54 cm (6.51 inch) HD+ Display   1600 x 720 Pixels   \n",
       "1       16.54 cm (6.51 inch) HD+ Display   1600 x 720 Pixels   \n",
       "2       16.54 cm (6.51 inch) HD+ Display   1600 x 720 Pixels   \n",
       "3  17.22 cm (6.78 inch) Full HD+ Display  2460 x 1080 Pixels   \n",
       "4  17.22 cm (6.78 inch) Full HD+ Display  2460 x 1080 Pixels   \n",
       "\n",
       "                            Processor Processor_Cores  Battery_Capacity  \\\n",
       "0            Snapdragon 460 Processor       Octa Core  6000 mAh Battery   \n",
       "1        MediaTek Helio G25 Processor       Octa Core  5000 mAh Battery   \n",
       "2            Snapdragon 460 Processor       Octa Core  6000 mAh Battery   \n",
       "3  Qualcomm Snapdragon 732G Processor       Octa Core  6000 mAh Battery   \n",
       "4  Qualcomm Snapdragon 732G Processor       Octa Core  6000 mAh Battery   \n",
       "\n",
       "     Price                                                URL Brand Name  \n",
       "0   ₹9,499  https://www.flipkart.com/motorola-g10-power-br...   MOTOROLA  \n",
       "1   ₹7,999  https://www.flipkart.com/motorola-e7-power-tah...   MOTOROLA  \n",
       "2   ₹9,499  https://www.flipkart.com/motorola-g10-power-au...   MOTOROLA  \n",
       "3  ₹15,999  https://www.flipkart.com/motorola-g40-fusion-d...   MOTOROLA  \n",
       "4  ₹15,999  https://www.flipkart.com/motorola-g40-fusion-f...   MOTOROLA  "
      ]
     },
     "execution_count": 129,
     "metadata": {},
     "output_type": "execute_result"
    }
   ],
   "source": [
    "df_phone.head()"
   ]
  },
  {
   "cell_type": "code",
   "execution_count": 135,
   "metadata": {},
   "outputs": [],
   "source": [
    "# Splitting Ram and Rom camera into to different columns\n",
    "df_phone[\"ROM\"] = df_phone[\"RAM\"].str.split(\"|\").str[1]"
   ]
  },
  {
   "cell_type": "code",
   "execution_count": 136,
   "metadata": {},
   "outputs": [
    {
     "data": {
      "text/html": [
       "<div>\n",
       "<style scoped>\n",
       "    .dataframe tbody tr th:only-of-type {\n",
       "        vertical-align: middle;\n",
       "    }\n",
       "\n",
       "    .dataframe tbody tr th {\n",
       "        vertical-align: top;\n",
       "    }\n",
       "\n",
       "    .dataframe thead th {\n",
       "        text-align: right;\n",
       "    }\n",
       "</style>\n",
       "<table border=\"1\" class=\"dataframe\">\n",
       "  <thead>\n",
       "    <tr style=\"text-align: right;\">\n",
       "      <th></th>\n",
       "      <th>Smartphone name</th>\n",
       "      <th>Colour</th>\n",
       "      <th>RAM</th>\n",
       "      <th>Primary_Camera</th>\n",
       "      <th>Display_Size</th>\n",
       "      <th>Display_Resolution</th>\n",
       "      <th>Processor</th>\n",
       "      <th>Processor_Cores</th>\n",
       "      <th>Battery_Capacity</th>\n",
       "      <th>Price</th>\n",
       "      <th>URL</th>\n",
       "      <th>Brand Name</th>\n",
       "      <th>ROM</th>\n",
       "    </tr>\n",
       "  </thead>\n",
       "  <tbody>\n",
       "    <tr>\n",
       "      <th>0</th>\n",
       "      <td>MOTOROLA G10 Power (Breeze Blue, 64 GB)  (4 GB...</td>\n",
       "      <td>Breeze Blue</td>\n",
       "      <td>4 GB RAM | 64 GB ROM</td>\n",
       "      <td>48MP + 8MP + 2MP + 2MP | 8MP Front Camera</td>\n",
       "      <td>16.54 cm (6.51 inch) HD+ Display</td>\n",
       "      <td>1600 x 720 Pixels</td>\n",
       "      <td>Snapdragon 460 Processor</td>\n",
       "      <td>Octa Core</td>\n",
       "      <td>6000 mAh Battery</td>\n",
       "      <td>₹9,499</td>\n",
       "      <td>https://www.flipkart.com/motorola-g10-power-br...</td>\n",
       "      <td>MOTOROLA</td>\n",
       "      <td>64 GB ROM</td>\n",
       "    </tr>\n",
       "    <tr>\n",
       "      <th>1</th>\n",
       "      <td>MOTOROLA E7 Power (Tahiti Blue, 64 GB)  (4 GB ...</td>\n",
       "      <td>Tahiti Blue</td>\n",
       "      <td>4 GB RAM | 64 GB ROM | Expandable Upto 1 TB</td>\n",
       "      <td>13MP + 2MP | 5MP Front Camera</td>\n",
       "      <td>16.54 cm (6.51 inch) HD+ Display</td>\n",
       "      <td>1600 x 720 Pixels</td>\n",
       "      <td>MediaTek Helio G25 Processor</td>\n",
       "      <td>Octa Core</td>\n",
       "      <td>5000 mAh Battery</td>\n",
       "      <td>₹7,999</td>\n",
       "      <td>https://www.flipkart.com/motorola-e7-power-tah...</td>\n",
       "      <td>MOTOROLA</td>\n",
       "      <td>64 GB ROM</td>\n",
       "    </tr>\n",
       "    <tr>\n",
       "      <th>2</th>\n",
       "      <td>MOTOROLA G10 Power (Aurora Grey, 64 GB)  (4 GB...</td>\n",
       "      <td>Aurora Grey</td>\n",
       "      <td>4 GB RAM | 64 GB ROM</td>\n",
       "      <td>48MP + 8MP + 2MP + 2MP | 8MP Front Camera</td>\n",
       "      <td>16.54 cm (6.51 inch) HD+ Display</td>\n",
       "      <td>1600 x 720 Pixels</td>\n",
       "      <td>Snapdragon 460 Processor</td>\n",
       "      <td>Octa Core</td>\n",
       "      <td>6000 mAh Battery</td>\n",
       "      <td>₹9,499</td>\n",
       "      <td>https://www.flipkart.com/motorola-g10-power-au...</td>\n",
       "      <td>MOTOROLA</td>\n",
       "      <td>64 GB ROM</td>\n",
       "    </tr>\n",
       "    <tr>\n",
       "      <th>3</th>\n",
       "      <td>MOTOROLA G40 Fusion (Dynamic Gray, 128 GB)  (6...</td>\n",
       "      <td>Dynamic Gray</td>\n",
       "      <td>6 GB RAM | 128 GB ROM</td>\n",
       "      <td>64MP + 8MP + 2MP | 16MP Front Camera</td>\n",
       "      <td>17.22 cm (6.78 inch) Full HD+ Display</td>\n",
       "      <td>2460 x 1080 Pixels</td>\n",
       "      <td>Qualcomm Snapdragon 732G Processor</td>\n",
       "      <td>Octa Core</td>\n",
       "      <td>6000 mAh Battery</td>\n",
       "      <td>₹15,999</td>\n",
       "      <td>https://www.flipkart.com/motorola-g40-fusion-d...</td>\n",
       "      <td>MOTOROLA</td>\n",
       "      <td>128 GB ROM</td>\n",
       "    </tr>\n",
       "    <tr>\n",
       "      <th>4</th>\n",
       "      <td>MOTOROLA G40 Fusion (Frosted Champagne, 128 GB...</td>\n",
       "      <td>Frosted Champagne</td>\n",
       "      <td>6 GB RAM | 128 GB ROM</td>\n",
       "      <td>64MP + 8MP + 2MP | 16MP Front Camera</td>\n",
       "      <td>17.22 cm (6.78 inch) Full HD+ Display</td>\n",
       "      <td>2460 x 1080 Pixels</td>\n",
       "      <td>Qualcomm Snapdragon 732G Processor</td>\n",
       "      <td>Octa Core</td>\n",
       "      <td>6000 mAh Battery</td>\n",
       "      <td>₹15,999</td>\n",
       "      <td>https://www.flipkart.com/motorola-g40-fusion-f...</td>\n",
       "      <td>MOTOROLA</td>\n",
       "      <td>128 GB ROM</td>\n",
       "    </tr>\n",
       "  </tbody>\n",
       "</table>\n",
       "</div>"
      ],
      "text/plain": [
       "                                     Smartphone name             Colour  \\\n",
       "0  MOTOROLA G10 Power (Breeze Blue, 64 GB)  (4 GB...        Breeze Blue   \n",
       "1  MOTOROLA E7 Power (Tahiti Blue, 64 GB)  (4 GB ...        Tahiti Blue   \n",
       "2  MOTOROLA G10 Power (Aurora Grey, 64 GB)  (4 GB...        Aurora Grey   \n",
       "3  MOTOROLA G40 Fusion (Dynamic Gray, 128 GB)  (6...       Dynamic Gray   \n",
       "4  MOTOROLA G40 Fusion (Frosted Champagne, 128 GB...  Frosted Champagne   \n",
       "\n",
       "                                           RAM  \\\n",
       "0                         4 GB RAM | 64 GB ROM   \n",
       "1  4 GB RAM | 64 GB ROM | Expandable Upto 1 TB   \n",
       "2                         4 GB RAM | 64 GB ROM   \n",
       "3                        6 GB RAM | 128 GB ROM   \n",
       "4                        6 GB RAM | 128 GB ROM   \n",
       "\n",
       "                              Primary_Camera  \\\n",
       "0  48MP + 8MP + 2MP + 2MP | 8MP Front Camera   \n",
       "1              13MP + 2MP | 5MP Front Camera   \n",
       "2  48MP + 8MP + 2MP + 2MP | 8MP Front Camera   \n",
       "3       64MP + 8MP + 2MP | 16MP Front Camera   \n",
       "4       64MP + 8MP + 2MP | 16MP Front Camera   \n",
       "\n",
       "                            Display_Size  Display_Resolution  \\\n",
       "0       16.54 cm (6.51 inch) HD+ Display   1600 x 720 Pixels   \n",
       "1       16.54 cm (6.51 inch) HD+ Display   1600 x 720 Pixels   \n",
       "2       16.54 cm (6.51 inch) HD+ Display   1600 x 720 Pixels   \n",
       "3  17.22 cm (6.78 inch) Full HD+ Display  2460 x 1080 Pixels   \n",
       "4  17.22 cm (6.78 inch) Full HD+ Display  2460 x 1080 Pixels   \n",
       "\n",
       "                            Processor Processor_Cores  Battery_Capacity  \\\n",
       "0            Snapdragon 460 Processor       Octa Core  6000 mAh Battery   \n",
       "1        MediaTek Helio G25 Processor       Octa Core  5000 mAh Battery   \n",
       "2            Snapdragon 460 Processor       Octa Core  6000 mAh Battery   \n",
       "3  Qualcomm Snapdragon 732G Processor       Octa Core  6000 mAh Battery   \n",
       "4  Qualcomm Snapdragon 732G Processor       Octa Core  6000 mAh Battery   \n",
       "\n",
       "     Price                                                URL Brand Name  \\\n",
       "0   ₹9,499  https://www.flipkart.com/motorola-g10-power-br...   MOTOROLA   \n",
       "1   ₹7,999  https://www.flipkart.com/motorola-e7-power-tah...   MOTOROLA   \n",
       "2   ₹9,499  https://www.flipkart.com/motorola-g10-power-au...   MOTOROLA   \n",
       "3  ₹15,999  https://www.flipkart.com/motorola-g40-fusion-d...   MOTOROLA   \n",
       "4  ₹15,999  https://www.flipkart.com/motorola-g40-fusion-f...   MOTOROLA   \n",
       "\n",
       "           ROM  \n",
       "0    64 GB ROM  \n",
       "1   64 GB ROM   \n",
       "2    64 GB ROM  \n",
       "3   128 GB ROM  \n",
       "4   128 GB ROM  "
      ]
     },
     "execution_count": 136,
     "metadata": {},
     "output_type": "execute_result"
    }
   ],
   "source": [
    "df_phone.head()"
   ]
  },
  {
   "cell_type": "code",
   "execution_count": 138,
   "metadata": {},
   "outputs": [],
   "source": [
    "# Splitting primary and secondary camera into two different columns\n",
    "df_phone[\"Secondary_Camera\"] = df_phone[\"Primary_Camera\"].str.split(\"|\").str[1]"
   ]
  },
  {
   "cell_type": "code",
   "execution_count": 139,
   "metadata": {},
   "outputs": [
    {
     "data": {
      "text/html": [
       "<div>\n",
       "<style scoped>\n",
       "    .dataframe tbody tr th:only-of-type {\n",
       "        vertical-align: middle;\n",
       "    }\n",
       "\n",
       "    .dataframe tbody tr th {\n",
       "        vertical-align: top;\n",
       "    }\n",
       "\n",
       "    .dataframe thead th {\n",
       "        text-align: right;\n",
       "    }\n",
       "</style>\n",
       "<table border=\"1\" class=\"dataframe\">\n",
       "  <thead>\n",
       "    <tr style=\"text-align: right;\">\n",
       "      <th></th>\n",
       "      <th>Smartphone name</th>\n",
       "      <th>Colour</th>\n",
       "      <th>RAM</th>\n",
       "      <th>Primary_Camera</th>\n",
       "      <th>Display_Size</th>\n",
       "      <th>Display_Resolution</th>\n",
       "      <th>Processor</th>\n",
       "      <th>Processor_Cores</th>\n",
       "      <th>Battery_Capacity</th>\n",
       "      <th>Price</th>\n",
       "      <th>URL</th>\n",
       "      <th>Brand Name</th>\n",
       "      <th>ROM</th>\n",
       "      <th>Secondary_Camera</th>\n",
       "    </tr>\n",
       "  </thead>\n",
       "  <tbody>\n",
       "    <tr>\n",
       "      <th>0</th>\n",
       "      <td>MOTOROLA G10 Power (Breeze Blue, 64 GB)  (4 GB...</td>\n",
       "      <td>Breeze Blue</td>\n",
       "      <td>4 GB RAM | 64 GB ROM</td>\n",
       "      <td>48MP + 8MP + 2MP + 2MP | 8MP Front Camera</td>\n",
       "      <td>16.54 cm (6.51 inch) HD+ Display</td>\n",
       "      <td>1600 x 720 Pixels</td>\n",
       "      <td>Snapdragon 460 Processor</td>\n",
       "      <td>Octa Core</td>\n",
       "      <td>6000 mAh Battery</td>\n",
       "      <td>₹9,499</td>\n",
       "      <td>https://www.flipkart.com/motorola-g10-power-br...</td>\n",
       "      <td>MOTOROLA</td>\n",
       "      <td>64 GB ROM</td>\n",
       "      <td>8MP Front Camera</td>\n",
       "    </tr>\n",
       "    <tr>\n",
       "      <th>1</th>\n",
       "      <td>MOTOROLA E7 Power (Tahiti Blue, 64 GB)  (4 GB ...</td>\n",
       "      <td>Tahiti Blue</td>\n",
       "      <td>4 GB RAM | 64 GB ROM | Expandable Upto 1 TB</td>\n",
       "      <td>13MP + 2MP | 5MP Front Camera</td>\n",
       "      <td>16.54 cm (6.51 inch) HD+ Display</td>\n",
       "      <td>1600 x 720 Pixels</td>\n",
       "      <td>MediaTek Helio G25 Processor</td>\n",
       "      <td>Octa Core</td>\n",
       "      <td>5000 mAh Battery</td>\n",
       "      <td>₹7,999</td>\n",
       "      <td>https://www.flipkart.com/motorola-e7-power-tah...</td>\n",
       "      <td>MOTOROLA</td>\n",
       "      <td>64 GB ROM</td>\n",
       "      <td>5MP Front Camera</td>\n",
       "    </tr>\n",
       "    <tr>\n",
       "      <th>2</th>\n",
       "      <td>MOTOROLA G10 Power (Aurora Grey, 64 GB)  (4 GB...</td>\n",
       "      <td>Aurora Grey</td>\n",
       "      <td>4 GB RAM | 64 GB ROM</td>\n",
       "      <td>48MP + 8MP + 2MP + 2MP | 8MP Front Camera</td>\n",
       "      <td>16.54 cm (6.51 inch) HD+ Display</td>\n",
       "      <td>1600 x 720 Pixels</td>\n",
       "      <td>Snapdragon 460 Processor</td>\n",
       "      <td>Octa Core</td>\n",
       "      <td>6000 mAh Battery</td>\n",
       "      <td>₹9,499</td>\n",
       "      <td>https://www.flipkart.com/motorola-g10-power-au...</td>\n",
       "      <td>MOTOROLA</td>\n",
       "      <td>64 GB ROM</td>\n",
       "      <td>8MP Front Camera</td>\n",
       "    </tr>\n",
       "    <tr>\n",
       "      <th>3</th>\n",
       "      <td>MOTOROLA G40 Fusion (Dynamic Gray, 128 GB)  (6...</td>\n",
       "      <td>Dynamic Gray</td>\n",
       "      <td>6 GB RAM | 128 GB ROM</td>\n",
       "      <td>64MP + 8MP + 2MP | 16MP Front Camera</td>\n",
       "      <td>17.22 cm (6.78 inch) Full HD+ Display</td>\n",
       "      <td>2460 x 1080 Pixels</td>\n",
       "      <td>Qualcomm Snapdragon 732G Processor</td>\n",
       "      <td>Octa Core</td>\n",
       "      <td>6000 mAh Battery</td>\n",
       "      <td>₹15,999</td>\n",
       "      <td>https://www.flipkart.com/motorola-g40-fusion-d...</td>\n",
       "      <td>MOTOROLA</td>\n",
       "      <td>128 GB ROM</td>\n",
       "      <td>16MP Front Camera</td>\n",
       "    </tr>\n",
       "    <tr>\n",
       "      <th>4</th>\n",
       "      <td>MOTOROLA G40 Fusion (Frosted Champagne, 128 GB...</td>\n",
       "      <td>Frosted Champagne</td>\n",
       "      <td>6 GB RAM | 128 GB ROM</td>\n",
       "      <td>64MP + 8MP + 2MP | 16MP Front Camera</td>\n",
       "      <td>17.22 cm (6.78 inch) Full HD+ Display</td>\n",
       "      <td>2460 x 1080 Pixels</td>\n",
       "      <td>Qualcomm Snapdragon 732G Processor</td>\n",
       "      <td>Octa Core</td>\n",
       "      <td>6000 mAh Battery</td>\n",
       "      <td>₹15,999</td>\n",
       "      <td>https://www.flipkart.com/motorola-g40-fusion-f...</td>\n",
       "      <td>MOTOROLA</td>\n",
       "      <td>128 GB ROM</td>\n",
       "      <td>16MP Front Camera</td>\n",
       "    </tr>\n",
       "  </tbody>\n",
       "</table>\n",
       "</div>"
      ],
      "text/plain": [
       "                                     Smartphone name             Colour  \\\n",
       "0  MOTOROLA G10 Power (Breeze Blue, 64 GB)  (4 GB...        Breeze Blue   \n",
       "1  MOTOROLA E7 Power (Tahiti Blue, 64 GB)  (4 GB ...        Tahiti Blue   \n",
       "2  MOTOROLA G10 Power (Aurora Grey, 64 GB)  (4 GB...        Aurora Grey   \n",
       "3  MOTOROLA G40 Fusion (Dynamic Gray, 128 GB)  (6...       Dynamic Gray   \n",
       "4  MOTOROLA G40 Fusion (Frosted Champagne, 128 GB...  Frosted Champagne   \n",
       "\n",
       "                                           RAM  \\\n",
       "0                         4 GB RAM | 64 GB ROM   \n",
       "1  4 GB RAM | 64 GB ROM | Expandable Upto 1 TB   \n",
       "2                         4 GB RAM | 64 GB ROM   \n",
       "3                        6 GB RAM | 128 GB ROM   \n",
       "4                        6 GB RAM | 128 GB ROM   \n",
       "\n",
       "                              Primary_Camera  \\\n",
       "0  48MP + 8MP + 2MP + 2MP | 8MP Front Camera   \n",
       "1              13MP + 2MP | 5MP Front Camera   \n",
       "2  48MP + 8MP + 2MP + 2MP | 8MP Front Camera   \n",
       "3       64MP + 8MP + 2MP | 16MP Front Camera   \n",
       "4       64MP + 8MP + 2MP | 16MP Front Camera   \n",
       "\n",
       "                            Display_Size  Display_Resolution  \\\n",
       "0       16.54 cm (6.51 inch) HD+ Display   1600 x 720 Pixels   \n",
       "1       16.54 cm (6.51 inch) HD+ Display   1600 x 720 Pixels   \n",
       "2       16.54 cm (6.51 inch) HD+ Display   1600 x 720 Pixels   \n",
       "3  17.22 cm (6.78 inch) Full HD+ Display  2460 x 1080 Pixels   \n",
       "4  17.22 cm (6.78 inch) Full HD+ Display  2460 x 1080 Pixels   \n",
       "\n",
       "                            Processor Processor_Cores  Battery_Capacity  \\\n",
       "0            Snapdragon 460 Processor       Octa Core  6000 mAh Battery   \n",
       "1        MediaTek Helio G25 Processor       Octa Core  5000 mAh Battery   \n",
       "2            Snapdragon 460 Processor       Octa Core  6000 mAh Battery   \n",
       "3  Qualcomm Snapdragon 732G Processor       Octa Core  6000 mAh Battery   \n",
       "4  Qualcomm Snapdragon 732G Processor       Octa Core  6000 mAh Battery   \n",
       "\n",
       "     Price                                                URL Brand Name  \\\n",
       "0   ₹9,499  https://www.flipkart.com/motorola-g10-power-br...   MOTOROLA   \n",
       "1   ₹7,999  https://www.flipkart.com/motorola-e7-power-tah...   MOTOROLA   \n",
       "2   ₹9,499  https://www.flipkart.com/motorola-g10-power-au...   MOTOROLA   \n",
       "3  ₹15,999  https://www.flipkart.com/motorola-g40-fusion-d...   MOTOROLA   \n",
       "4  ₹15,999  https://www.flipkart.com/motorola-g40-fusion-f...   MOTOROLA   \n",
       "\n",
       "           ROM    Secondary_Camera  \n",
       "0    64 GB ROM    8MP Front Camera  \n",
       "1   64 GB ROM     5MP Front Camera  \n",
       "2    64 GB ROM    8MP Front Camera  \n",
       "3   128 GB ROM   16MP Front Camera  \n",
       "4   128 GB ROM   16MP Front Camera  "
      ]
     },
     "execution_count": 139,
     "metadata": {},
     "output_type": "execute_result"
    }
   ],
   "source": [
    "df_phone.head()"
   ]
  },
  {
   "cell_type": "code",
   "execution_count": 141,
   "metadata": {},
   "outputs": [],
   "source": [
    "# Rearranging the collumns\n",
    "df_phone = df_phone[['Brand Name','Smartphone name', 'Colour', 'RAM', 'ROM' ,'Primary_Camera','Secondary_Camera', 'Display_Size',\n",
    "       'Display_Resolution', 'Processor', 'Processor_Cores',\n",
    "       'Battery_Capacity', 'Price', 'URL']]"
   ]
  },
  {
   "cell_type": "code",
   "execution_count": 143,
   "metadata": {},
   "outputs": [
    {
     "data": {
      "text/html": [
       "<div>\n",
       "<style scoped>\n",
       "    .dataframe tbody tr th:only-of-type {\n",
       "        vertical-align: middle;\n",
       "    }\n",
       "\n",
       "    .dataframe tbody tr th {\n",
       "        vertical-align: top;\n",
       "    }\n",
       "\n",
       "    .dataframe thead th {\n",
       "        text-align: right;\n",
       "    }\n",
       "</style>\n",
       "<table border=\"1\" class=\"dataframe\">\n",
       "  <thead>\n",
       "    <tr style=\"text-align: right;\">\n",
       "      <th></th>\n",
       "      <th>Brand Name</th>\n",
       "      <th>Smartphone name</th>\n",
       "      <th>Colour</th>\n",
       "      <th>RAM</th>\n",
       "      <th>ROM</th>\n",
       "      <th>Primary_Camera</th>\n",
       "      <th>Secondary_Camera</th>\n",
       "      <th>Display_Size</th>\n",
       "      <th>Display_Resolution</th>\n",
       "      <th>Processor</th>\n",
       "      <th>Processor_Cores</th>\n",
       "      <th>Battery_Capacity</th>\n",
       "      <th>Price</th>\n",
       "      <th>URL</th>\n",
       "    </tr>\n",
       "  </thead>\n",
       "  <tbody>\n",
       "    <tr>\n",
       "      <th>0</th>\n",
       "      <td>MOTOROLA</td>\n",
       "      <td>MOTOROLA G10 Power (Breeze Blue, 64 GB)  (4 GB...</td>\n",
       "      <td>Breeze Blue</td>\n",
       "      <td>4 GB RAM | 64 GB ROM</td>\n",
       "      <td>64 GB ROM</td>\n",
       "      <td>48MP + 8MP + 2MP + 2MP | 8MP Front Camera</td>\n",
       "      <td>8MP Front Camera</td>\n",
       "      <td>16.54 cm (6.51 inch) HD+ Display</td>\n",
       "      <td>1600 x 720 Pixels</td>\n",
       "      <td>Snapdragon 460 Processor</td>\n",
       "      <td>Octa Core</td>\n",
       "      <td>6000 mAh Battery</td>\n",
       "      <td>₹9,499</td>\n",
       "      <td>https://www.flipkart.com/motorola-g10-power-br...</td>\n",
       "    </tr>\n",
       "    <tr>\n",
       "      <th>1</th>\n",
       "      <td>MOTOROLA</td>\n",
       "      <td>MOTOROLA E7 Power (Tahiti Blue, 64 GB)  (4 GB ...</td>\n",
       "      <td>Tahiti Blue</td>\n",
       "      <td>4 GB RAM | 64 GB ROM | Expandable Upto 1 TB</td>\n",
       "      <td>64 GB ROM</td>\n",
       "      <td>13MP + 2MP | 5MP Front Camera</td>\n",
       "      <td>5MP Front Camera</td>\n",
       "      <td>16.54 cm (6.51 inch) HD+ Display</td>\n",
       "      <td>1600 x 720 Pixels</td>\n",
       "      <td>MediaTek Helio G25 Processor</td>\n",
       "      <td>Octa Core</td>\n",
       "      <td>5000 mAh Battery</td>\n",
       "      <td>₹7,999</td>\n",
       "      <td>https://www.flipkart.com/motorola-e7-power-tah...</td>\n",
       "    </tr>\n",
       "    <tr>\n",
       "      <th>2</th>\n",
       "      <td>MOTOROLA</td>\n",
       "      <td>MOTOROLA G10 Power (Aurora Grey, 64 GB)  (4 GB...</td>\n",
       "      <td>Aurora Grey</td>\n",
       "      <td>4 GB RAM | 64 GB ROM</td>\n",
       "      <td>64 GB ROM</td>\n",
       "      <td>48MP + 8MP + 2MP + 2MP | 8MP Front Camera</td>\n",
       "      <td>8MP Front Camera</td>\n",
       "      <td>16.54 cm (6.51 inch) HD+ Display</td>\n",
       "      <td>1600 x 720 Pixels</td>\n",
       "      <td>Snapdragon 460 Processor</td>\n",
       "      <td>Octa Core</td>\n",
       "      <td>6000 mAh Battery</td>\n",
       "      <td>₹9,499</td>\n",
       "      <td>https://www.flipkart.com/motorola-g10-power-au...</td>\n",
       "    </tr>\n",
       "    <tr>\n",
       "      <th>3</th>\n",
       "      <td>MOTOROLA</td>\n",
       "      <td>MOTOROLA G40 Fusion (Dynamic Gray, 128 GB)  (6...</td>\n",
       "      <td>Dynamic Gray</td>\n",
       "      <td>6 GB RAM | 128 GB ROM</td>\n",
       "      <td>128 GB ROM</td>\n",
       "      <td>64MP + 8MP + 2MP | 16MP Front Camera</td>\n",
       "      <td>16MP Front Camera</td>\n",
       "      <td>17.22 cm (6.78 inch) Full HD+ Display</td>\n",
       "      <td>2460 x 1080 Pixels</td>\n",
       "      <td>Qualcomm Snapdragon 732G Processor</td>\n",
       "      <td>Octa Core</td>\n",
       "      <td>6000 mAh Battery</td>\n",
       "      <td>₹15,999</td>\n",
       "      <td>https://www.flipkart.com/motorola-g40-fusion-d...</td>\n",
       "    </tr>\n",
       "    <tr>\n",
       "      <th>4</th>\n",
       "      <td>MOTOROLA</td>\n",
       "      <td>MOTOROLA G40 Fusion (Frosted Champagne, 128 GB...</td>\n",
       "      <td>Frosted Champagne</td>\n",
       "      <td>6 GB RAM | 128 GB ROM</td>\n",
       "      <td>128 GB ROM</td>\n",
       "      <td>64MP + 8MP + 2MP | 16MP Front Camera</td>\n",
       "      <td>16MP Front Camera</td>\n",
       "      <td>17.22 cm (6.78 inch) Full HD+ Display</td>\n",
       "      <td>2460 x 1080 Pixels</td>\n",
       "      <td>Qualcomm Snapdragon 732G Processor</td>\n",
       "      <td>Octa Core</td>\n",
       "      <td>6000 mAh Battery</td>\n",
       "      <td>₹15,999</td>\n",
       "      <td>https://www.flipkart.com/motorola-g40-fusion-f...</td>\n",
       "    </tr>\n",
       "  </tbody>\n",
       "</table>\n",
       "</div>"
      ],
      "text/plain": [
       "  Brand Name                                    Smartphone name  \\\n",
       "0   MOTOROLA  MOTOROLA G10 Power (Breeze Blue, 64 GB)  (4 GB...   \n",
       "1   MOTOROLA  MOTOROLA E7 Power (Tahiti Blue, 64 GB)  (4 GB ...   \n",
       "2   MOTOROLA  MOTOROLA G10 Power (Aurora Grey, 64 GB)  (4 GB...   \n",
       "3   MOTOROLA  MOTOROLA G40 Fusion (Dynamic Gray, 128 GB)  (6...   \n",
       "4   MOTOROLA  MOTOROLA G40 Fusion (Frosted Champagne, 128 GB...   \n",
       "\n",
       "              Colour                                          RAM  \\\n",
       "0        Breeze Blue                         4 GB RAM | 64 GB ROM   \n",
       "1        Tahiti Blue  4 GB RAM | 64 GB ROM | Expandable Upto 1 TB   \n",
       "2        Aurora Grey                         4 GB RAM | 64 GB ROM   \n",
       "3       Dynamic Gray                        6 GB RAM | 128 GB ROM   \n",
       "4  Frosted Champagne                        6 GB RAM | 128 GB ROM   \n",
       "\n",
       "           ROM                             Primary_Camera    Secondary_Camera  \\\n",
       "0    64 GB ROM  48MP + 8MP + 2MP + 2MP | 8MP Front Camera    8MP Front Camera   \n",
       "1   64 GB ROM               13MP + 2MP | 5MP Front Camera    5MP Front Camera   \n",
       "2    64 GB ROM  48MP + 8MP + 2MP + 2MP | 8MP Front Camera    8MP Front Camera   \n",
       "3   128 GB ROM       64MP + 8MP + 2MP | 16MP Front Camera   16MP Front Camera   \n",
       "4   128 GB ROM       64MP + 8MP + 2MP | 16MP Front Camera   16MP Front Camera   \n",
       "\n",
       "                            Display_Size  Display_Resolution  \\\n",
       "0       16.54 cm (6.51 inch) HD+ Display   1600 x 720 Pixels   \n",
       "1       16.54 cm (6.51 inch) HD+ Display   1600 x 720 Pixels   \n",
       "2       16.54 cm (6.51 inch) HD+ Display   1600 x 720 Pixels   \n",
       "3  17.22 cm (6.78 inch) Full HD+ Display  2460 x 1080 Pixels   \n",
       "4  17.22 cm (6.78 inch) Full HD+ Display  2460 x 1080 Pixels   \n",
       "\n",
       "                            Processor Processor_Cores  Battery_Capacity  \\\n",
       "0            Snapdragon 460 Processor       Octa Core  6000 mAh Battery   \n",
       "1        MediaTek Helio G25 Processor       Octa Core  5000 mAh Battery   \n",
       "2            Snapdragon 460 Processor       Octa Core  6000 mAh Battery   \n",
       "3  Qualcomm Snapdragon 732G Processor       Octa Core  6000 mAh Battery   \n",
       "4  Qualcomm Snapdragon 732G Processor       Octa Core  6000 mAh Battery   \n",
       "\n",
       "     Price                                                URL  \n",
       "0   ₹9,499  https://www.flipkart.com/motorola-g10-power-br...  \n",
       "1   ₹7,999  https://www.flipkart.com/motorola-e7-power-tah...  \n",
       "2   ₹9,499  https://www.flipkart.com/motorola-g10-power-au...  \n",
       "3  ₹15,999  https://www.flipkart.com/motorola-g40-fusion-d...  \n",
       "4  ₹15,999  https://www.flipkart.com/motorola-g40-fusion-f...  "
      ]
     },
     "execution_count": 143,
     "metadata": {},
     "output_type": "execute_result"
    }
   ],
   "source": [
    "df_phone.head()"
   ]
  },
  {
   "cell_type": "code",
   "execution_count": 146,
   "metadata": {},
   "outputs": [],
   "source": [
    "df_phone[\"RAM\"] = df_phone[\"RAM\"].str.split(\"|\").str[0]"
   ]
  },
  {
   "cell_type": "code",
   "execution_count": 149,
   "metadata": {},
   "outputs": [],
   "source": [
    "df_phone[\"Primary_Camera\"] = df_phone[\"Primary_Camera\"].str.split(\"|\").str[0]"
   ]
  },
  {
   "cell_type": "code",
   "execution_count": 150,
   "metadata": {},
   "outputs": [
    {
     "data": {
      "text/html": [
       "<div>\n",
       "<style scoped>\n",
       "    .dataframe tbody tr th:only-of-type {\n",
       "        vertical-align: middle;\n",
       "    }\n",
       "\n",
       "    .dataframe tbody tr th {\n",
       "        vertical-align: top;\n",
       "    }\n",
       "\n",
       "    .dataframe thead th {\n",
       "        text-align: right;\n",
       "    }\n",
       "</style>\n",
       "<table border=\"1\" class=\"dataframe\">\n",
       "  <thead>\n",
       "    <tr style=\"text-align: right;\">\n",
       "      <th></th>\n",
       "      <th>Brand Name</th>\n",
       "      <th>Smartphone name</th>\n",
       "      <th>Colour</th>\n",
       "      <th>RAM</th>\n",
       "      <th>ROM</th>\n",
       "      <th>Primary_Camera</th>\n",
       "      <th>Secondary_Camera</th>\n",
       "      <th>Display_Size</th>\n",
       "      <th>Display_Resolution</th>\n",
       "      <th>Processor</th>\n",
       "      <th>Processor_Cores</th>\n",
       "      <th>Battery_Capacity</th>\n",
       "      <th>Price</th>\n",
       "      <th>URL</th>\n",
       "    </tr>\n",
       "  </thead>\n",
       "  <tbody>\n",
       "    <tr>\n",
       "      <th>0</th>\n",
       "      <td>MOTOROLA</td>\n",
       "      <td>MOTOROLA G10 Power (Breeze Blue, 64 GB)  (4 GB...</td>\n",
       "      <td>Breeze Blue</td>\n",
       "      <td>4 GB RAM</td>\n",
       "      <td>64 GB ROM</td>\n",
       "      <td>48MP + 8MP + 2MP + 2MP</td>\n",
       "      <td>8MP Front Camera</td>\n",
       "      <td>16.54 cm (6.51 inch) HD+ Display</td>\n",
       "      <td>1600 x 720 Pixels</td>\n",
       "      <td>Snapdragon 460 Processor</td>\n",
       "      <td>Octa Core</td>\n",
       "      <td>6000 mAh Battery</td>\n",
       "      <td>₹9,499</td>\n",
       "      <td>https://www.flipkart.com/motorola-g10-power-br...</td>\n",
       "    </tr>\n",
       "    <tr>\n",
       "      <th>1</th>\n",
       "      <td>MOTOROLA</td>\n",
       "      <td>MOTOROLA E7 Power (Tahiti Blue, 64 GB)  (4 GB ...</td>\n",
       "      <td>Tahiti Blue</td>\n",
       "      <td>4 GB RAM</td>\n",
       "      <td>64 GB ROM</td>\n",
       "      <td>13MP + 2MP</td>\n",
       "      <td>5MP Front Camera</td>\n",
       "      <td>16.54 cm (6.51 inch) HD+ Display</td>\n",
       "      <td>1600 x 720 Pixels</td>\n",
       "      <td>MediaTek Helio G25 Processor</td>\n",
       "      <td>Octa Core</td>\n",
       "      <td>5000 mAh Battery</td>\n",
       "      <td>₹7,999</td>\n",
       "      <td>https://www.flipkart.com/motorola-e7-power-tah...</td>\n",
       "    </tr>\n",
       "    <tr>\n",
       "      <th>2</th>\n",
       "      <td>MOTOROLA</td>\n",
       "      <td>MOTOROLA G10 Power (Aurora Grey, 64 GB)  (4 GB...</td>\n",
       "      <td>Aurora Grey</td>\n",
       "      <td>4 GB RAM</td>\n",
       "      <td>64 GB ROM</td>\n",
       "      <td>48MP + 8MP + 2MP + 2MP</td>\n",
       "      <td>8MP Front Camera</td>\n",
       "      <td>16.54 cm (6.51 inch) HD+ Display</td>\n",
       "      <td>1600 x 720 Pixels</td>\n",
       "      <td>Snapdragon 460 Processor</td>\n",
       "      <td>Octa Core</td>\n",
       "      <td>6000 mAh Battery</td>\n",
       "      <td>₹9,499</td>\n",
       "      <td>https://www.flipkart.com/motorola-g10-power-au...</td>\n",
       "    </tr>\n",
       "    <tr>\n",
       "      <th>3</th>\n",
       "      <td>MOTOROLA</td>\n",
       "      <td>MOTOROLA G40 Fusion (Dynamic Gray, 128 GB)  (6...</td>\n",
       "      <td>Dynamic Gray</td>\n",
       "      <td>6 GB RAM</td>\n",
       "      <td>128 GB ROM</td>\n",
       "      <td>64MP + 8MP + 2MP</td>\n",
       "      <td>16MP Front Camera</td>\n",
       "      <td>17.22 cm (6.78 inch) Full HD+ Display</td>\n",
       "      <td>2460 x 1080 Pixels</td>\n",
       "      <td>Qualcomm Snapdragon 732G Processor</td>\n",
       "      <td>Octa Core</td>\n",
       "      <td>6000 mAh Battery</td>\n",
       "      <td>₹15,999</td>\n",
       "      <td>https://www.flipkart.com/motorola-g40-fusion-d...</td>\n",
       "    </tr>\n",
       "    <tr>\n",
       "      <th>4</th>\n",
       "      <td>MOTOROLA</td>\n",
       "      <td>MOTOROLA G40 Fusion (Frosted Champagne, 128 GB...</td>\n",
       "      <td>Frosted Champagne</td>\n",
       "      <td>6 GB RAM</td>\n",
       "      <td>128 GB ROM</td>\n",
       "      <td>64MP + 8MP + 2MP</td>\n",
       "      <td>16MP Front Camera</td>\n",
       "      <td>17.22 cm (6.78 inch) Full HD+ Display</td>\n",
       "      <td>2460 x 1080 Pixels</td>\n",
       "      <td>Qualcomm Snapdragon 732G Processor</td>\n",
       "      <td>Octa Core</td>\n",
       "      <td>6000 mAh Battery</td>\n",
       "      <td>₹15,999</td>\n",
       "      <td>https://www.flipkart.com/motorola-g40-fusion-f...</td>\n",
       "    </tr>\n",
       "  </tbody>\n",
       "</table>\n",
       "</div>"
      ],
      "text/plain": [
       "  Brand Name                                    Smartphone name  \\\n",
       "0   MOTOROLA  MOTOROLA G10 Power (Breeze Blue, 64 GB)  (4 GB...   \n",
       "1   MOTOROLA  MOTOROLA E7 Power (Tahiti Blue, 64 GB)  (4 GB ...   \n",
       "2   MOTOROLA  MOTOROLA G10 Power (Aurora Grey, 64 GB)  (4 GB...   \n",
       "3   MOTOROLA  MOTOROLA G40 Fusion (Dynamic Gray, 128 GB)  (6...   \n",
       "4   MOTOROLA  MOTOROLA G40 Fusion (Frosted Champagne, 128 GB...   \n",
       "\n",
       "              Colour        RAM          ROM           Primary_Camera  \\\n",
       "0        Breeze Blue  4 GB RAM     64 GB ROM  48MP + 8MP + 2MP + 2MP    \n",
       "1        Tahiti Blue  4 GB RAM    64 GB ROM               13MP + 2MP    \n",
       "2        Aurora Grey  4 GB RAM     64 GB ROM  48MP + 8MP + 2MP + 2MP    \n",
       "3       Dynamic Gray  6 GB RAM    128 GB ROM        64MP + 8MP + 2MP    \n",
       "4  Frosted Champagne  6 GB RAM    128 GB ROM        64MP + 8MP + 2MP    \n",
       "\n",
       "     Secondary_Camera                           Display_Size  \\\n",
       "0    8MP Front Camera       16.54 cm (6.51 inch) HD+ Display   \n",
       "1    5MP Front Camera       16.54 cm (6.51 inch) HD+ Display   \n",
       "2    8MP Front Camera       16.54 cm (6.51 inch) HD+ Display   \n",
       "3   16MP Front Camera  17.22 cm (6.78 inch) Full HD+ Display   \n",
       "4   16MP Front Camera  17.22 cm (6.78 inch) Full HD+ Display   \n",
       "\n",
       "   Display_Resolution                           Processor Processor_Cores  \\\n",
       "0   1600 x 720 Pixels            Snapdragon 460 Processor       Octa Core   \n",
       "1   1600 x 720 Pixels        MediaTek Helio G25 Processor       Octa Core   \n",
       "2   1600 x 720 Pixels            Snapdragon 460 Processor       Octa Core   \n",
       "3  2460 x 1080 Pixels  Qualcomm Snapdragon 732G Processor       Octa Core   \n",
       "4  2460 x 1080 Pixels  Qualcomm Snapdragon 732G Processor       Octa Core   \n",
       "\n",
       "   Battery_Capacity    Price  \\\n",
       "0  6000 mAh Battery   ₹9,499   \n",
       "1  5000 mAh Battery   ₹7,999   \n",
       "2  6000 mAh Battery   ₹9,499   \n",
       "3  6000 mAh Battery  ₹15,999   \n",
       "4  6000 mAh Battery  ₹15,999   \n",
       "\n",
       "                                                 URL  \n",
       "0  https://www.flipkart.com/motorola-g10-power-br...  \n",
       "1  https://www.flipkart.com/motorola-e7-power-tah...  \n",
       "2  https://www.flipkart.com/motorola-g10-power-au...  \n",
       "3  https://www.flipkart.com/motorola-g40-fusion-d...  \n",
       "4  https://www.flipkart.com/motorola-g40-fusion-f...  "
      ]
     },
     "execution_count": 150,
     "metadata": {},
     "output_type": "execute_result"
    }
   ],
   "source": [
    "df_phone.head()"
   ]
  },
  {
   "cell_type": "markdown",
   "metadata": {},
   "source": [
    "#### Q5) Write a program to scrap geospatial coordinates (latitude, longitude) of a city searched on google maps."
   ]
  },
  {
   "cell_type": "code",
   "execution_count": 151,
   "metadata": {},
   "outputs": [],
   "source": [
    "# Searching the url\n",
    "url = \"https://www.google.co.in/maps\"\n",
    "driver.get(url)"
   ]
  },
  {
   "cell_type": "code",
   "execution_count": 152,
   "metadata": {},
   "outputs": [
    {
     "data": {
      "text/plain": [
       "<selenium.webdriver.remote.webelement.WebElement (session=\"ed633a68babb504230e2699eb227374e\", element=\"46928a17-58b5-4851-8f50-d71467bced7a\")>"
      ]
     },
     "execution_count": 152,
     "metadata": {},
     "output_type": "execute_result"
    }
   ],
   "source": [
    "# Query inputting\n",
    "search_loc = driver.find_element_by_id(\"searchboxinput\")\n",
    "search_loc"
   ]
  },
  {
   "cell_type": "code",
   "execution_count": 153,
   "metadata": {},
   "outputs": [],
   "source": [
    "# Searching the city of Mumbai\n",
    "search_loc.send_keys(\"Mumbai\")"
   ]
  },
  {
   "cell_type": "code",
   "execution_count": 154,
   "metadata": {},
   "outputs": [],
   "source": [
    "btn_ser = driver.find_element_by_xpath(\"//button[@class='searchbox-searchbutton']\")"
   ]
  },
  {
   "cell_type": "code",
   "execution_count": 155,
   "metadata": {},
   "outputs": [],
   "source": [
    "btn_ser.click()"
   ]
  },
  {
   "cell_type": "code",
   "execution_count": 156,
   "metadata": {},
   "outputs": [],
   "source": [
    "# using current url method to get the url of the page\n",
    "get_url = driver.current_url"
   ]
  },
  {
   "cell_type": "code",
   "execution_count": 157,
   "metadata": {},
   "outputs": [
    {
     "name": "stdout",
     "output_type": "stream",
     "text": [
      "https://www.google.co.in/maps/place/Mumbai,+Maharashtra/@19.0822507,72.8811862,11z/data=!3m1!4b1!4m5!3m4!1s0x3be7c6306644edc1:0x5da4ed8f8d648c69!8m2!3d19.0759837!4d72.8776559\n"
     ]
    }
   ],
   "source": [
    "print(get_url)"
   ]
  },
  {
   "cell_type": "code",
   "execution_count": 158,
   "metadata": {},
   "outputs": [],
   "source": [
    "# importing regex to extract text from url\n",
    "import re"
   ]
  },
  {
   "cell_type": "code",
   "execution_count": 161,
   "metadata": {},
   "outputs": [],
   "source": [
    "text = str(get_url)"
   ]
  },
  {
   "cell_type": "code",
   "execution_count": 162,
   "metadata": {},
   "outputs": [
    {
     "data": {
      "text/plain": [
       "'https://www.google.co.in/maps/place/Mumbai,+Maharashtra/@19.0822507,72.8811862,11z/data=!3m1!4b1!4m5!3m4!1s0x3be7c6306644edc1:0x5da4ed8f8d648c69!8m2!3d19.0759837!4d72.8776559'"
      ]
     },
     "execution_count": 162,
     "metadata": {},
     "output_type": "execute_result"
    }
   ],
   "source": [
    "text"
   ]
  },
  {
   "cell_type": "code",
   "execution_count": 163,
   "metadata": {},
   "outputs": [],
   "source": [
    "# pattern to extract Latitude and longitude\n",
    "pattern = r'\\d{2}.\\d{7}'"
   ]
  },
  {
   "cell_type": "code",
   "execution_count": 183,
   "metadata": {},
   "outputs": [],
   "source": [
    "# using find all method \n",
    "results = re.findall(pattern,text)"
   ]
  },
  {
   "cell_type": "code",
   "execution_count": 185,
   "metadata": {},
   "outputs": [
    {
     "data": {
      "text/plain": [
       "['19.0822507', '72.8811862', '19.0759837', '72.8776559']"
      ]
     },
     "execution_count": 185,
     "metadata": {},
     "output_type": "execute_result"
    }
   ],
   "source": [
    "results"
   ]
  },
  {
   "cell_type": "code",
   "execution_count": 187,
   "metadata": {},
   "outputs": [],
   "source": [
    "results.remove('19.0759837')"
   ]
  },
  {
   "cell_type": "code",
   "execution_count": 188,
   "metadata": {},
   "outputs": [],
   "source": [
    "results.remove('72.8776559')"
   ]
  },
  {
   "cell_type": "code",
   "execution_count": 189,
   "metadata": {},
   "outputs": [
    {
     "data": {
      "text/plain": [
       "['19.0822507', '72.8811862']"
      ]
     },
     "execution_count": 189,
     "metadata": {},
     "output_type": "execute_result"
    }
   ],
   "source": [
    "# final Lat and Lon\n",
    "results"
   ]
  },
  {
   "cell_type": "markdown",
   "metadata": {},
   "source": [
    "### Q6)Write a program to scrap details of all the funding deals for second quarter (i.e. July 20 – September 20) from trak.in."
   ]
  },
  {
   "cell_type": "code",
   "execution_count": 53,
   "metadata": {},
   "outputs": [],
   "source": [
    "# Searching the url\n",
    "url = \"https://trak.in/\"\n",
    "driver.get(url)"
   ]
  },
  {
   "cell_type": "code",
   "execution_count": 54,
   "metadata": {},
   "outputs": [],
   "source": [
    "tina = driver.find_element_by_xpath(\"//li[@id='menu-item-51510']//a\")"
   ]
  },
  {
   "cell_type": "code",
   "execution_count": 55,
   "metadata": {},
   "outputs": [],
   "source": [
    "# getting the href attribute\n",
    "clk = tina.get_attribute(\"href\")"
   ]
  },
  {
   "cell_type": "code",
   "execution_count": 56,
   "metadata": {},
   "outputs": [],
   "source": [
    "# Getting the link\n",
    "driver.get(clk)"
   ]
  },
  {
   "cell_type": "code",
   "execution_count": 57,
   "metadata": {},
   "outputs": [],
   "source": [
    "#//div[@class='dataTables_scrollBody']"
   ]
  },
  {
   "cell_type": "code",
   "execution_count": 58,
   "metadata": {},
   "outputs": [],
   "source": [
    "Creating an empty list\n",
    "Num = []\n",
    "\n",
    "for i in driver.find_elements_by_xpath(\"//table[@id='tablepress-48']//td\"):\n",
    "    \n",
    "    Num.append(i.text)"
   ]
  },
  {
   "cell_type": "code",
   "execution_count": 59,
   "metadata": {},
   "outputs": [
    {
     "data": {
      "text/plain": [
       "90"
      ]
     },
     "execution_count": 59,
     "metadata": {},
     "output_type": "execute_result"
    }
   ],
   "source": [
    "len(Num)"
   ]
  },
  {
   "cell_type": "code",
   "execution_count": 60,
   "metadata": {},
   "outputs": [],
   "source": [
    "# Using Itertools to slice the list\n",
    "from itertools import islice\n",
    "length_to_split = [9,9,9,9,9,9,9,9,9,9]\n",
    "\n",
    "Numss = iter(Num)\n",
    "Output = [list(islice(Numss, elem))\n",
    "          for elem in length_to_split]"
   ]
  },
  {
   "cell_type": "code",
   "execution_count": 61,
   "metadata": {},
   "outputs": [
    {
     "data": {
      "text/plain": [
       "['1',\n",
       " '15/07/2020',\n",
       " 'Flipkart',\n",
       " 'E-commerce',\n",
       " 'E-commerce',\n",
       " 'Bangalore',\n",
       " 'Walmart Inc',\n",
       " 'M&A',\n",
       " '1,200,000,000']"
      ]
     },
     "execution_count": 61,
     "metadata": {},
     "output_type": "execute_result"
    }
   ],
   "source": [
    "Output[0]"
   ]
  },
  {
   "cell_type": "code",
   "execution_count": 62,
   "metadata": {},
   "outputs": [],
   "source": [
    "# Dataframe for the month of july\n",
    "df_july = pd.DataFrame(Output, columns = [\"Sr. No.\", \"Date (dd/mm/yyyy)\",\"Startup Name\",\"Industry / Vertical\",\"Sub-Vertical\",\"City / Location\",\"Investors' Name\",\"Investment Type\",\"Amount (In USD)\"])                                      "
   ]
  },
  {
   "cell_type": "code",
   "execution_count": 63,
   "metadata": {},
   "outputs": [
    {
     "data": {
      "text/html": [
       "<div>\n",
       "<style scoped>\n",
       "    .dataframe tbody tr th:only-of-type {\n",
       "        vertical-align: middle;\n",
       "    }\n",
       "\n",
       "    .dataframe tbody tr th {\n",
       "        vertical-align: top;\n",
       "    }\n",
       "\n",
       "    .dataframe thead th {\n",
       "        text-align: right;\n",
       "    }\n",
       "</style>\n",
       "<table border=\"1\" class=\"dataframe\">\n",
       "  <thead>\n",
       "    <tr style=\"text-align: right;\">\n",
       "      <th></th>\n",
       "      <th>Sr. No.</th>\n",
       "      <th>Date (dd/mm/yyyy)</th>\n",
       "      <th>Startup Name</th>\n",
       "      <th>Industry / Vertical</th>\n",
       "      <th>Sub-Vertical</th>\n",
       "      <th>City / Location</th>\n",
       "      <th>Investors' Name</th>\n",
       "      <th>Investment Type</th>\n",
       "      <th>Amount (In USD)</th>\n",
       "    </tr>\n",
       "  </thead>\n",
       "  <tbody>\n",
       "    <tr>\n",
       "      <th>0</th>\n",
       "      <td>1</td>\n",
       "      <td>15/07/2020</td>\n",
       "      <td>Flipkart</td>\n",
       "      <td>E-commerce</td>\n",
       "      <td>E-commerce</td>\n",
       "      <td>Bangalore</td>\n",
       "      <td>Walmart Inc</td>\n",
       "      <td>M&amp;A</td>\n",
       "      <td>1,200,000,000</td>\n",
       "    </tr>\n",
       "    <tr>\n",
       "      <th>1</th>\n",
       "      <td>2</td>\n",
       "      <td>16/07/2020</td>\n",
       "      <td>Vedantu</td>\n",
       "      <td>EduTech</td>\n",
       "      <td>Online Tutoring</td>\n",
       "      <td>Bangalore</td>\n",
       "      <td>Coatue Management</td>\n",
       "      <td>Series D</td>\n",
       "      <td>100,000,000</td>\n",
       "    </tr>\n",
       "    <tr>\n",
       "      <th>2</th>\n",
       "      <td>3</td>\n",
       "      <td>16/07/2020</td>\n",
       "      <td>Crio</td>\n",
       "      <td>EduTech</td>\n",
       "      <td>Learning Platform for Developers</td>\n",
       "      <td>Bangalore</td>\n",
       "      <td>021 Capital</td>\n",
       "      <td>pre-Series A</td>\n",
       "      <td>934,160</td>\n",
       "    </tr>\n",
       "    <tr>\n",
       "      <th>3</th>\n",
       "      <td>4</td>\n",
       "      <td>14/07/2020</td>\n",
       "      <td>goDutch</td>\n",
       "      <td>FinTech</td>\n",
       "      <td>Group Payments</td>\n",
       "      <td>Mumbai</td>\n",
       "      <td>Matrix India,Y Combinator, Global Founders Cap...</td>\n",
       "      <td>Seed</td>\n",
       "      <td>1,700,000</td>\n",
       "    </tr>\n",
       "    <tr>\n",
       "      <th>4</th>\n",
       "      <td>5</td>\n",
       "      <td>13/07/2020</td>\n",
       "      <td>Mystifly</td>\n",
       "      <td>Airfare Marketplace</td>\n",
       "      <td>Ticketing, Airline Retailing, and Post-Ticketi...</td>\n",
       "      <td>Singapore and Bangalore</td>\n",
       "      <td>Recruit Co. Ltd.</td>\n",
       "      <td>pre-Series B</td>\n",
       "      <td>3,300,000</td>\n",
       "    </tr>\n",
       "  </tbody>\n",
       "</table>\n",
       "</div>"
      ],
      "text/plain": [
       "  Sr. No. Date (dd/mm/yyyy) Startup Name  Industry / Vertical  \\\n",
       "0       1        15/07/2020     Flipkart           E-commerce   \n",
       "1       2        16/07/2020      Vedantu              EduTech   \n",
       "2       3        16/07/2020         Crio              EduTech   \n",
       "3       4        14/07/2020      goDutch              FinTech   \n",
       "4       5        13/07/2020     Mystifly  Airfare Marketplace   \n",
       "\n",
       "                                        Sub-Vertical          City / Location  \\\n",
       "0                                         E-commerce                Bangalore   \n",
       "1                                    Online Tutoring                Bangalore   \n",
       "2                   Learning Platform for Developers                Bangalore   \n",
       "3                                     Group Payments                   Mumbai   \n",
       "4  Ticketing, Airline Retailing, and Post-Ticketi...  Singapore and Bangalore   \n",
       "\n",
       "                                     Investors' Name Investment Type  \\\n",
       "0                                        Walmart Inc             M&A   \n",
       "1                                  Coatue Management        Series D   \n",
       "2                                        021 Capital    pre-Series A   \n",
       "3  Matrix India,Y Combinator, Global Founders Cap...            Seed   \n",
       "4                                   Recruit Co. Ltd.    pre-Series B   \n",
       "\n",
       "  Amount (In USD)  \n",
       "0   1,200,000,000  \n",
       "1     100,000,000  \n",
       "2         934,160  \n",
       "3       1,700,000  \n",
       "4       3,300,000  "
      ]
     },
     "execution_count": 63,
     "metadata": {},
     "output_type": "execute_result"
    }
   ],
   "source": [
    "df_july.head()"
   ]
  },
  {
   "cell_type": "code",
   "execution_count": 64,
   "metadata": {},
   "outputs": [],
   "source": [
    "# Creating an empoty list for august data\n",
    "Num_Aug = []\n",
    "\n",
    "for i in driver.find_elements_by_xpath(\"//table[@id='tablepress-49']//td\"):\n",
    "    \n",
    "    Num_Aug.append(i.text)"
   ]
  },
  {
   "cell_type": "code",
   "execution_count": 68,
   "metadata": {},
   "outputs": [
    {
     "data": {
      "text/plain": [
       "90"
      ]
     },
     "execution_count": 68,
     "metadata": {},
     "output_type": "execute_result"
    }
   ],
   "source": [
    "len(Num_Aug)"
   ]
  },
  {
   "cell_type": "code",
   "execution_count": 69,
   "metadata": {},
   "outputs": [],
   "source": [
    "length_to_split = [9,9,9,9,9,9,9,9,9,9]\n",
    "\n",
    "Numss_aug = iter(Num_Aug)\n",
    "Output_aug = [list(islice(Numss_aug, elem))\n",
    "          for elem in length_to_split]"
   ]
  },
  {
   "cell_type": "code",
   "execution_count": 70,
   "metadata": {},
   "outputs": [
    {
     "data": {
      "text/plain": [
       "[['1',\n",
       "  '15/08/2020',\n",
       "  'Practo',\n",
       "  'HealthTech',\n",
       "  'Health care and Wellness',\n",
       "  'Bangalore',\n",
       "  'A1A Company',\n",
       "  'Series F',\n",
       "  '32,000,000'],\n",
       " ['2',\n",
       "  '13/08/2020',\n",
       "  'Medlife',\n",
       "  'E-commerce',\n",
       "  'Online Pharmacy',\n",
       "  'Bangalore',\n",
       "  'Prasid Uno Family Trust and SC Credit Fund',\n",
       "  '',\n",
       "  '23,000,000'],\n",
       " ['3',\n",
       "  '13/08/2020',\n",
       "  'HungerBox',\n",
       "  'FoodTech',\n",
       "  'Online Food Delivery Service',\n",
       "  'Bangalore',\n",
       "  'One97, Sabre Partners Trust, Pratithi Investment Trust, and Srihari Kumar',\n",
       "  'Series D1',\n",
       "  '1,560,000'],\n",
       " ['4',\n",
       "  '04/08/2020',\n",
       "  'Dunzo',\n",
       "  'Hyper-local Logistics',\n",
       "  'Online Delivery Services',\n",
       "  'Bangalore',\n",
       "  'Existing Backers',\n",
       "  'In Progress',\n",
       "  '30,000,000'],\n",
       " ['5',\n",
       "  '11/08/2020',\n",
       "  'Terra.do',\n",
       "  'EduTech',\n",
       "  'Online Climate School, E-learning',\n",
       "  'Stanford, California,',\n",
       "  'Stanford Angels and Entrepreneurs (India), BEENEXT Emerging Asia, Rainmatter Capital',\n",
       "  'Seed',\n",
       "  '1,400,000'],\n",
       " ['6',\n",
       "  '12/08/2020',\n",
       "  'Classplus',\n",
       "  'EduTech',\n",
       "  'E-learning, Online Tutoring',\n",
       "  'Noida',\n",
       "  'Falcon Edge',\n",
       "  'In Progress',\n",
       "  'upto 15,000,000'],\n",
       " ['7',\n",
       "  '14/08/2020',\n",
       "  'Niyo',\n",
       "  'FinTech',\n",
       "  'Financial Services',\n",
       "  'Bangalore',\n",
       "  'Niyo Solutions Inc.',\n",
       "  '',\n",
       "  '6,000,000'],\n",
       " ['8',\n",
       "  '10/08/2020',\n",
       "  'ZestMoney',\n",
       "  'FinTech',\n",
       "  'Financial Services',\n",
       "  'Bangalore',\n",
       "  'Primrose Hills Ventures',\n",
       "  '',\n",
       "  '10,670,000'],\n",
       " ['9',\n",
       "  '07/08/2020',\n",
       "  'FreshToHome',\n",
       "  'E-commerce',\n",
       "  'Food Delivery',\n",
       "  'Bangalore',\n",
       "  'Ascent Capital',\n",
       "  'Venture',\n",
       "  '16,200,000'],\n",
       " ['10',\n",
       "  '13/08/2020',\n",
       "  'Eduvanz',\n",
       "  'FinTech',\n",
       "  'Financial Services',\n",
       "  'Mumbai',\n",
       "  'Sequoia India, Unitus',\n",
       "  'Series A',\n",
       "  '5,000,000']]"
      ]
     },
     "execution_count": 70,
     "metadata": {},
     "output_type": "execute_result"
    }
   ],
   "source": [
    "Output_aug"
   ]
  },
  {
   "cell_type": "code",
   "execution_count": 71,
   "metadata": {},
   "outputs": [],
   "source": [
    "# Dataframe for the month of August\n",
    "df_Aug = pd.DataFrame(Output_aug, columns = [\"Sr. No.\", \"Date (dd/mm/yyyy)\",\"Startup Name\",\"Industry / Vertical\",\"Sub-Vertical\",\"City / Location\",\"Investors' Name\",\"Investment Type\",\"Amount (In USD)\"])                                      "
   ]
  },
  {
   "cell_type": "code",
   "execution_count": 72,
   "metadata": {},
   "outputs": [
    {
     "data": {
      "text/html": [
       "<div>\n",
       "<style scoped>\n",
       "    .dataframe tbody tr th:only-of-type {\n",
       "        vertical-align: middle;\n",
       "    }\n",
       "\n",
       "    .dataframe tbody tr th {\n",
       "        vertical-align: top;\n",
       "    }\n",
       "\n",
       "    .dataframe thead th {\n",
       "        text-align: right;\n",
       "    }\n",
       "</style>\n",
       "<table border=\"1\" class=\"dataframe\">\n",
       "  <thead>\n",
       "    <tr style=\"text-align: right;\">\n",
       "      <th></th>\n",
       "      <th>Sr. No.</th>\n",
       "      <th>Date (dd/mm/yyyy)</th>\n",
       "      <th>Startup Name</th>\n",
       "      <th>Industry / Vertical</th>\n",
       "      <th>Sub-Vertical</th>\n",
       "      <th>City / Location</th>\n",
       "      <th>Investors' Name</th>\n",
       "      <th>Investment Type</th>\n",
       "      <th>Amount (In USD)</th>\n",
       "    </tr>\n",
       "  </thead>\n",
       "  <tbody>\n",
       "    <tr>\n",
       "      <th>0</th>\n",
       "      <td>1</td>\n",
       "      <td>15/08/2020</td>\n",
       "      <td>Practo</td>\n",
       "      <td>HealthTech</td>\n",
       "      <td>Health care and Wellness</td>\n",
       "      <td>Bangalore</td>\n",
       "      <td>A1A Company</td>\n",
       "      <td>Series F</td>\n",
       "      <td>32,000,000</td>\n",
       "    </tr>\n",
       "    <tr>\n",
       "      <th>1</th>\n",
       "      <td>2</td>\n",
       "      <td>13/08/2020</td>\n",
       "      <td>Medlife</td>\n",
       "      <td>E-commerce</td>\n",
       "      <td>Online Pharmacy</td>\n",
       "      <td>Bangalore</td>\n",
       "      <td>Prasid Uno Family Trust and SC Credit Fund</td>\n",
       "      <td></td>\n",
       "      <td>23,000,000</td>\n",
       "    </tr>\n",
       "    <tr>\n",
       "      <th>2</th>\n",
       "      <td>3</td>\n",
       "      <td>13/08/2020</td>\n",
       "      <td>HungerBox</td>\n",
       "      <td>FoodTech</td>\n",
       "      <td>Online Food Delivery Service</td>\n",
       "      <td>Bangalore</td>\n",
       "      <td>One97, Sabre Partners Trust, Pratithi Investme...</td>\n",
       "      <td>Series D1</td>\n",
       "      <td>1,560,000</td>\n",
       "    </tr>\n",
       "    <tr>\n",
       "      <th>3</th>\n",
       "      <td>4</td>\n",
       "      <td>04/08/2020</td>\n",
       "      <td>Dunzo</td>\n",
       "      <td>Hyper-local Logistics</td>\n",
       "      <td>Online Delivery Services</td>\n",
       "      <td>Bangalore</td>\n",
       "      <td>Existing Backers</td>\n",
       "      <td>In Progress</td>\n",
       "      <td>30,000,000</td>\n",
       "    </tr>\n",
       "    <tr>\n",
       "      <th>4</th>\n",
       "      <td>5</td>\n",
       "      <td>11/08/2020</td>\n",
       "      <td>Terra.do</td>\n",
       "      <td>EduTech</td>\n",
       "      <td>Online Climate School, E-learning</td>\n",
       "      <td>Stanford, California,</td>\n",
       "      <td>Stanford Angels and Entrepreneurs (India), BEE...</td>\n",
       "      <td>Seed</td>\n",
       "      <td>1,400,000</td>\n",
       "    </tr>\n",
       "  </tbody>\n",
       "</table>\n",
       "</div>"
      ],
      "text/plain": [
       "  Sr. No. Date (dd/mm/yyyy) Startup Name    Industry / Vertical  \\\n",
       "0       1        15/08/2020       Practo             HealthTech   \n",
       "1       2        13/08/2020      Medlife             E-commerce   \n",
       "2       3        13/08/2020    HungerBox               FoodTech   \n",
       "3       4        04/08/2020        Dunzo  Hyper-local Logistics   \n",
       "4       5        11/08/2020     Terra.do                EduTech   \n",
       "\n",
       "                        Sub-Vertical        City / Location  \\\n",
       "0           Health care and Wellness              Bangalore   \n",
       "1                    Online Pharmacy              Bangalore   \n",
       "2       Online Food Delivery Service              Bangalore   \n",
       "3           Online Delivery Services              Bangalore   \n",
       "4  Online Climate School, E-learning  Stanford, California,   \n",
       "\n",
       "                                     Investors' Name Investment Type  \\\n",
       "0                                        A1A Company        Series F   \n",
       "1         Prasid Uno Family Trust and SC Credit Fund                   \n",
       "2  One97, Sabre Partners Trust, Pratithi Investme...       Series D1   \n",
       "3                                   Existing Backers     In Progress   \n",
       "4  Stanford Angels and Entrepreneurs (India), BEE...            Seed   \n",
       "\n",
       "  Amount (In USD)  \n",
       "0      32,000,000  \n",
       "1      23,000,000  \n",
       "2       1,560,000  \n",
       "3      30,000,000  \n",
       "4       1,400,000  "
      ]
     },
     "execution_count": 72,
     "metadata": {},
     "output_type": "execute_result"
    }
   ],
   "source": [
    "df_Aug.head()"
   ]
  },
  {
   "cell_type": "code",
   "execution_count": 73,
   "metadata": {},
   "outputs": [],
   "source": [
    "Num_sept = []\n",
    "\n",
    "for i in driver.find_elements_by_xpath(\"//table[@id='tablepress-50']//td\"):\n",
    "    \n",
    "    Num_sept.append(i.text)"
   ]
  },
  {
   "cell_type": "code",
   "execution_count": 75,
   "metadata": {},
   "outputs": [
    {
     "data": {
      "text/plain": [
       "90"
      ]
     },
     "execution_count": 75,
     "metadata": {},
     "output_type": "execute_result"
    }
   ],
   "source": [
    "len(Num_sept)"
   ]
  },
  {
   "cell_type": "code",
   "execution_count": 76,
   "metadata": {},
   "outputs": [],
   "source": [
    "length_to_split = [9,9,9,9,9,9,9,9,9,9]\n",
    "\n",
    "Numss_sept = iter(Num_sept)\n",
    "Output_sept = [list(islice(Numss_sept, elem))\n",
    "          for elem in length_to_split]"
   ]
  },
  {
   "cell_type": "code",
   "execution_count": 77,
   "metadata": {},
   "outputs": [
    {
     "data": {
      "text/plain": [
       "[['1',\n",
       "  '08/09/2020',\n",
       "  'Byju’s',\n",
       "  'EduTech',\n",
       "  'Online Tutoring',\n",
       "  'Bangalore',\n",
       "  'Silver Lake, Tiger Global, General Atlantic and Owl Ventures',\n",
       "  'Private Equity',\n",
       "  '500,000,000'],\n",
       " ['2',\n",
       "  '12/09/2020',\n",
       "  'mCaffeine',\n",
       "  'Personal Care',\n",
       "  'Skincare & Haircare',\n",
       "  'Mumbai',\n",
       "  'Amicus Capital Private Equity I LLP, Amicus Capital Partners India Fund I and RP-SG Venture Fund 1',\n",
       "  'Series B',\n",
       "  '3,000,000'],\n",
       " ['3',\n",
       "  '09/09/2020',\n",
       "  'Qshala',\n",
       "  'EduTech',\n",
       "  'Online Curiosity Platform for Kids',\n",
       "  'Bangalore',\n",
       "  'Rainmatter Capital',\n",
       "  'Angel',\n",
       "  '370,000'],\n",
       " ['4',\n",
       "  '02/09/2020',\n",
       "  'Winzo',\n",
       "  'Online Gaming',\n",
       "  'Online Gaming',\n",
       "  'New Delhi',\n",
       "  'Kalaari Capital Partners, IndigoEdge Management Consultancy',\n",
       "  'Series B',\n",
       "  '15,500,000'],\n",
       " ['5',\n",
       "  '09/09/2020',\n",
       "  'Hippo Video',\n",
       "  'Video Customer Experience(CX) Platform',\n",
       "  'Video Customer Experience(CX) Platform',\n",
       "  'Newark, Delaware, United States of Amercia',\n",
       "  'Alpha Wave Incubation, Exfinity Venture Partners and existing backers.',\n",
       "  'Series A',\n",
       "  '4,500,000'],\n",
       " ['6',\n",
       "  '07/09/2020',\n",
       "  'Melorra',\n",
       "  'E-commerce',\n",
       "  'Online Jewelry Store',\n",
       "  'Bangalore',\n",
       "  'Shadow Holdings, Lightbox.',\n",
       "  'Debt Financing',\n",
       "  'upto 8,900,000'],\n",
       " ['7',\n",
       "  '07/09/2020',\n",
       "  '1mg',\n",
       "  'E-commerce',\n",
       "  'Online Pharmacy',\n",
       "  'Gurgaon',\n",
       "  'Gaja Capital, Tata Capital, Partners Group',\n",
       "  'In Progress',\n",
       "  '100,000,000'],\n",
       " ['8',\n",
       "  '31/08/2020',\n",
       "  'mfine',\n",
       "  'HealthTech',\n",
       "  'On-Demand Healthcare Services',\n",
       "  'Bangalore',\n",
       "  'Caretech Pte Inc',\n",
       "  'Series B',\n",
       "  '5,400,000'],\n",
       " ['9',\n",
       "  '31/08/2020',\n",
       "  'Apna',\n",
       "  'Human Resources',\n",
       "  'Recruitment Platform',\n",
       "  'Bangalore',\n",
       "  'Lightspeed India and Sequoia Capital India',\n",
       "  'Series A',\n",
       "  '8,000,000'],\n",
       " ['10',\n",
       "  '03/09/2020',\n",
       "  'Railofy',\n",
       "  'Transportation',\n",
       "  'WL & RAC protection platform',\n",
       "  'Mumbai',\n",
       "  'Chiratae Ventures',\n",
       "  'Seed',\n",
       "  '950,000']]"
      ]
     },
     "execution_count": 77,
     "metadata": {},
     "output_type": "execute_result"
    }
   ],
   "source": [
    "Output_sept"
   ]
  },
  {
   "cell_type": "code",
   "execution_count": 78,
   "metadata": {},
   "outputs": [],
   "source": [
    "# Dataframe for the month of sept\n",
    "df_sept = pd.DataFrame(Output_sept, columns = [\"Sr. No.\", \"Date (dd/mm/yyyy)\",\"Startup Name\",\"Industry / Vertical\",\"Sub-Vertical\",\"City / Location\",\"Investors' Name\",\"Investment Type\",\"Amount (In USD)\"])                                      "
   ]
  },
  {
   "cell_type": "code",
   "execution_count": 79,
   "metadata": {},
   "outputs": [
    {
     "data": {
      "text/html": [
       "<div>\n",
       "<style scoped>\n",
       "    .dataframe tbody tr th:only-of-type {\n",
       "        vertical-align: middle;\n",
       "    }\n",
       "\n",
       "    .dataframe tbody tr th {\n",
       "        vertical-align: top;\n",
       "    }\n",
       "\n",
       "    .dataframe thead th {\n",
       "        text-align: right;\n",
       "    }\n",
       "</style>\n",
       "<table border=\"1\" class=\"dataframe\">\n",
       "  <thead>\n",
       "    <tr style=\"text-align: right;\">\n",
       "      <th></th>\n",
       "      <th>Sr. No.</th>\n",
       "      <th>Date (dd/mm/yyyy)</th>\n",
       "      <th>Startup Name</th>\n",
       "      <th>Industry / Vertical</th>\n",
       "      <th>Sub-Vertical</th>\n",
       "      <th>City / Location</th>\n",
       "      <th>Investors' Name</th>\n",
       "      <th>Investment Type</th>\n",
       "      <th>Amount (In USD)</th>\n",
       "    </tr>\n",
       "  </thead>\n",
       "  <tbody>\n",
       "    <tr>\n",
       "      <th>0</th>\n",
       "      <td>1</td>\n",
       "      <td>08/09/2020</td>\n",
       "      <td>Byju’s</td>\n",
       "      <td>EduTech</td>\n",
       "      <td>Online Tutoring</td>\n",
       "      <td>Bangalore</td>\n",
       "      <td>Silver Lake, Tiger Global, General Atlantic an...</td>\n",
       "      <td>Private Equity</td>\n",
       "      <td>500,000,000</td>\n",
       "    </tr>\n",
       "    <tr>\n",
       "      <th>1</th>\n",
       "      <td>2</td>\n",
       "      <td>12/09/2020</td>\n",
       "      <td>mCaffeine</td>\n",
       "      <td>Personal Care</td>\n",
       "      <td>Skincare &amp; Haircare</td>\n",
       "      <td>Mumbai</td>\n",
       "      <td>Amicus Capital Private Equity I LLP, Amicus Ca...</td>\n",
       "      <td>Series B</td>\n",
       "      <td>3,000,000</td>\n",
       "    </tr>\n",
       "    <tr>\n",
       "      <th>2</th>\n",
       "      <td>3</td>\n",
       "      <td>09/09/2020</td>\n",
       "      <td>Qshala</td>\n",
       "      <td>EduTech</td>\n",
       "      <td>Online Curiosity Platform for Kids</td>\n",
       "      <td>Bangalore</td>\n",
       "      <td>Rainmatter Capital</td>\n",
       "      <td>Angel</td>\n",
       "      <td>370,000</td>\n",
       "    </tr>\n",
       "    <tr>\n",
       "      <th>3</th>\n",
       "      <td>4</td>\n",
       "      <td>02/09/2020</td>\n",
       "      <td>Winzo</td>\n",
       "      <td>Online Gaming</td>\n",
       "      <td>Online Gaming</td>\n",
       "      <td>New Delhi</td>\n",
       "      <td>Kalaari Capital Partners, IndigoEdge Managemen...</td>\n",
       "      <td>Series B</td>\n",
       "      <td>15,500,000</td>\n",
       "    </tr>\n",
       "    <tr>\n",
       "      <th>4</th>\n",
       "      <td>5</td>\n",
       "      <td>09/09/2020</td>\n",
       "      <td>Hippo Video</td>\n",
       "      <td>Video Customer Experience(CX) Platform</td>\n",
       "      <td>Video Customer Experience(CX) Platform</td>\n",
       "      <td>Newark, Delaware, United States of Amercia</td>\n",
       "      <td>Alpha Wave Incubation, Exfinity Venture Partne...</td>\n",
       "      <td>Series A</td>\n",
       "      <td>4,500,000</td>\n",
       "    </tr>\n",
       "  </tbody>\n",
       "</table>\n",
       "</div>"
      ],
      "text/plain": [
       "  Sr. No. Date (dd/mm/yyyy) Startup Name  \\\n",
       "0       1        08/09/2020       Byju’s   \n",
       "1       2        12/09/2020    mCaffeine   \n",
       "2       3        09/09/2020       Qshala   \n",
       "3       4        02/09/2020        Winzo   \n",
       "4       5        09/09/2020  Hippo Video   \n",
       "\n",
       "                      Industry / Vertical  \\\n",
       "0                                 EduTech   \n",
       "1                           Personal Care   \n",
       "2                                 EduTech   \n",
       "3                           Online Gaming   \n",
       "4  Video Customer Experience(CX) Platform   \n",
       "\n",
       "                             Sub-Vertical  \\\n",
       "0                         Online Tutoring   \n",
       "1                     Skincare & Haircare   \n",
       "2      Online Curiosity Platform for Kids   \n",
       "3                           Online Gaming   \n",
       "4  Video Customer Experience(CX) Platform   \n",
       "\n",
       "                              City / Location  \\\n",
       "0                                   Bangalore   \n",
       "1                                      Mumbai   \n",
       "2                                   Bangalore   \n",
       "3                                   New Delhi   \n",
       "4  Newark, Delaware, United States of Amercia   \n",
       "\n",
       "                                     Investors' Name Investment Type  \\\n",
       "0  Silver Lake, Tiger Global, General Atlantic an...  Private Equity   \n",
       "1  Amicus Capital Private Equity I LLP, Amicus Ca...        Series B   \n",
       "2                                 Rainmatter Capital           Angel   \n",
       "3  Kalaari Capital Partners, IndigoEdge Managemen...        Series B   \n",
       "4  Alpha Wave Incubation, Exfinity Venture Partne...        Series A   \n",
       "\n",
       "  Amount (In USD)  \n",
       "0     500,000,000  \n",
       "1       3,000,000  \n",
       "2         370,000  \n",
       "3      15,500,000  \n",
       "4       4,500,000  "
      ]
     },
     "execution_count": 79,
     "metadata": {},
     "output_type": "execute_result"
    }
   ],
   "source": [
    "df_sept.head()"
   ]
  },
  {
   "cell_type": "code",
   "execution_count": 93,
   "metadata": {},
   "outputs": [],
   "source": [
    "# concating all 3 dataframes\n",
    "df_track = pd.concat([df_july,df_Aug,df_sept],axis=0)"
   ]
  },
  {
   "cell_type": "code",
   "execution_count": 96,
   "metadata": {},
   "outputs": [
    {
     "data": {
      "text/plain": [
       "(30, 9)"
      ]
     },
     "execution_count": 96,
     "metadata": {},
     "output_type": "execute_result"
    }
   ],
   "source": [
    "df_track.shape"
   ]
  },
  {
   "cell_type": "code",
   "execution_count": 99,
   "metadata": {},
   "outputs": [],
   "source": [
    "# dropping the Sr no column\n",
    "df_track = df_track.drop(\"Sr. No.\",axis=1)"
   ]
  },
  {
   "cell_type": "code",
   "execution_count": 102,
   "metadata": {},
   "outputs": [
    {
     "data": {
      "text/html": [
       "<div>\n",
       "<style scoped>\n",
       "    .dataframe tbody tr th:only-of-type {\n",
       "        vertical-align: middle;\n",
       "    }\n",
       "\n",
       "    .dataframe tbody tr th {\n",
       "        vertical-align: top;\n",
       "    }\n",
       "\n",
       "    .dataframe thead th {\n",
       "        text-align: right;\n",
       "    }\n",
       "</style>\n",
       "<table border=\"1\" class=\"dataframe\">\n",
       "  <thead>\n",
       "    <tr style=\"text-align: right;\">\n",
       "      <th></th>\n",
       "      <th>Date (dd/mm/yyyy)</th>\n",
       "      <th>Startup Name</th>\n",
       "      <th>Industry / Vertical</th>\n",
       "      <th>Sub-Vertical</th>\n",
       "      <th>City / Location</th>\n",
       "      <th>Investors' Name</th>\n",
       "      <th>Investment Type</th>\n",
       "      <th>Amount (In USD)</th>\n",
       "    </tr>\n",
       "  </thead>\n",
       "  <tbody>\n",
       "    <tr>\n",
       "      <th>0</th>\n",
       "      <td>15/07/2020</td>\n",
       "      <td>Flipkart</td>\n",
       "      <td>E-commerce</td>\n",
       "      <td>E-commerce</td>\n",
       "      <td>Bangalore</td>\n",
       "      <td>Walmart Inc</td>\n",
       "      <td>M&amp;A</td>\n",
       "      <td>1,200,000,000</td>\n",
       "    </tr>\n",
       "    <tr>\n",
       "      <th>1</th>\n",
       "      <td>16/07/2020</td>\n",
       "      <td>Vedantu</td>\n",
       "      <td>EduTech</td>\n",
       "      <td>Online Tutoring</td>\n",
       "      <td>Bangalore</td>\n",
       "      <td>Coatue Management</td>\n",
       "      <td>Series D</td>\n",
       "      <td>100,000,000</td>\n",
       "    </tr>\n",
       "    <tr>\n",
       "      <th>2</th>\n",
       "      <td>16/07/2020</td>\n",
       "      <td>Crio</td>\n",
       "      <td>EduTech</td>\n",
       "      <td>Learning Platform for Developers</td>\n",
       "      <td>Bangalore</td>\n",
       "      <td>021 Capital</td>\n",
       "      <td>pre-Series A</td>\n",
       "      <td>934,160</td>\n",
       "    </tr>\n",
       "    <tr>\n",
       "      <th>3</th>\n",
       "      <td>14/07/2020</td>\n",
       "      <td>goDutch</td>\n",
       "      <td>FinTech</td>\n",
       "      <td>Group Payments</td>\n",
       "      <td>Mumbai</td>\n",
       "      <td>Matrix India,Y Combinator, Global Founders Cap...</td>\n",
       "      <td>Seed</td>\n",
       "      <td>1,700,000</td>\n",
       "    </tr>\n",
       "    <tr>\n",
       "      <th>4</th>\n",
       "      <td>13/07/2020</td>\n",
       "      <td>Mystifly</td>\n",
       "      <td>Airfare Marketplace</td>\n",
       "      <td>Ticketing, Airline Retailing, and Post-Ticketi...</td>\n",
       "      <td>Singapore and Bangalore</td>\n",
       "      <td>Recruit Co. Ltd.</td>\n",
       "      <td>pre-Series B</td>\n",
       "      <td>3,300,000</td>\n",
       "    </tr>\n",
       "  </tbody>\n",
       "</table>\n",
       "</div>"
      ],
      "text/plain": [
       "  Date (dd/mm/yyyy) Startup Name  Industry / Vertical  \\\n",
       "0        15/07/2020     Flipkart           E-commerce   \n",
       "1        16/07/2020      Vedantu              EduTech   \n",
       "2        16/07/2020         Crio              EduTech   \n",
       "3        14/07/2020      goDutch              FinTech   \n",
       "4        13/07/2020     Mystifly  Airfare Marketplace   \n",
       "\n",
       "                                        Sub-Vertical          City / Location  \\\n",
       "0                                         E-commerce                Bangalore   \n",
       "1                                    Online Tutoring                Bangalore   \n",
       "2                   Learning Platform for Developers                Bangalore   \n",
       "3                                     Group Payments                   Mumbai   \n",
       "4  Ticketing, Airline Retailing, and Post-Ticketi...  Singapore and Bangalore   \n",
       "\n",
       "                                     Investors' Name Investment Type  \\\n",
       "0                                        Walmart Inc             M&A   \n",
       "1                                  Coatue Management        Series D   \n",
       "2                                        021 Capital    pre-Series A   \n",
       "3  Matrix India,Y Combinator, Global Founders Cap...            Seed   \n",
       "4                                   Recruit Co. Ltd.    pre-Series B   \n",
       "\n",
       "  Amount (In USD)  \n",
       "0   1,200,000,000  \n",
       "1     100,000,000  \n",
       "2         934,160  \n",
       "3       1,700,000  \n",
       "4       3,300,000  "
      ]
     },
     "execution_count": 102,
     "metadata": {},
     "output_type": "execute_result"
    }
   ],
   "source": [
    "# FInal dataframe\n",
    "df_track.head()"
   ]
  },
  {
   "cell_type": "markdown",
   "metadata": {},
   "source": [
    "#### Q7) Write a program to scrap all the available details of top 10 gaming laptops from digit.in."
   ]
  },
  {
   "cell_type": "code",
   "execution_count": 118,
   "metadata": {},
   "outputs": [],
   "source": [
    "# Searching the url\n",
    "url = \"https://www.digit.in/\"\n",
    "driver.get(url)"
   ]
  },
  {
   "cell_type": "code",
   "execution_count": 119,
   "metadata": {},
   "outputs": [],
   "source": [
    "## Clicking on top 10 link\n",
    "link = driver.find_element_by_css_selector(\"body > div.header > div.Center-block > div.menu > ul > li:nth-child(4) > a\")"
   ]
  },
  {
   "cell_type": "code",
   "execution_count": 122,
   "metadata": {},
   "outputs": [],
   "source": [
    "link_1 = link.get_attribute(\"href\")"
   ]
  },
  {
   "cell_type": "code",
   "execution_count": 123,
   "metadata": {},
   "outputs": [],
   "source": [
    "driver.get(link_1)"
   ]
  },
  {
   "cell_type": "code",
   "execution_count": 124,
   "metadata": {},
   "outputs": [],
   "source": [
    "link_2 = driver.find_element_by_css_selector(\"body > div.body_sec > div > div > div.left_container > div.category_container > div.tab_container > div > button:nth-child(2)\")"
   ]
  },
  {
   "cell_type": "code",
   "execution_count": 125,
   "metadata": {},
   "outputs": [],
   "source": [
    "link_2.click()"
   ]
  },
  {
   "cell_type": "code",
   "execution_count": 129,
   "metadata": {},
   "outputs": [],
   "source": [
    "link_3 = driver.find_element_by_xpath(\"//div[@class='thumb_cont']//a\")"
   ]
  },
  {
   "cell_type": "code",
   "execution_count": 131,
   "metadata": {},
   "outputs": [],
   "source": [
    "link_3 = link_3.get_attribute(\"href\")"
   ]
  },
  {
   "cell_type": "code",
   "execution_count": 132,
   "metadata": {},
   "outputs": [],
   "source": [
    "driver.get(link_3)"
   ]
  },
  {
   "cell_type": "code",
   "execution_count": 136,
   "metadata": {},
   "outputs": [],
   "source": [
    "#//span[@class='datahreflink spec']"
   ]
  },
  {
   "cell_type": "code",
   "execution_count": 139,
   "metadata": {},
   "outputs": [],
   "source": [
    "# Getting the urls\n",
    "urls_GL = []\n",
    "\n",
    "for url in driver.find_elements_by_xpath(\"//span[@class='datahreflink spec']\"):\n",
    "    \n",
    "    urls_GL.append(url.get_attribute(\"data-href\"))"
   ]
  },
  {
   "cell_type": "code",
   "execution_count": 140,
   "metadata": {},
   "outputs": [
    {
     "data": {
      "text/plain": [
       "['https://www.digit.in/laptops/alienware-area-51m-r2-price-228193.html',\n",
       " 'https://www.digit.in/laptops/alienware-m15-r3-price-228207.html',\n",
       " 'https://www.digit.in/laptops/asus-rog-strix-scar-15-price-228221.html',\n",
       " 'https://www.digit.in/laptops/asus-rog-zephyrus-g14-price-209173.html',\n",
       " 'https://www.digit.in/laptops/lenovo-legion-5i-price-228235.html',\n",
       " 'https://www.digit.in/laptops/asus-rog-zephyrus-duo-15-price-215799.html',\n",
       " 'https://www.digit.in/laptops/acer-aspire-7-gaming-price-223781.html']"
      ]
     },
     "execution_count": 140,
     "metadata": {},
     "output_type": "execute_result"
    }
   ],
   "source": [
    "urls_GL"
   ]
  },
  {
   "cell_type": "code",
   "execution_count": 142,
   "metadata": {},
   "outputs": [],
   "source": [
    "# Creating empty lists for scrapping data\n",
    "Lap_names = []\n",
    "Lap_Os = []\n",
    "Lap_Display = []\n",
    "Lap_Processor = []\n",
    "Lap_Memory = []\n",
    "Lap_Model_Name = []\n",
    "Lap_Resolution = []\n",
    "Lap_Ram_Type = []\n",
    "Lap_Processor_Model_Name = []\n",
    "Lap_Graphics_Processor = []\n",
    "Lap_Storage_Drive_Capacity = []\n",
    "\n",
    "for link in urls_GL:\n",
    "    \n",
    "    driver.get(link)\n",
    "    \n",
    "    try:\n",
    "        \n",
    "        L_names = driver.find_element_by_css_selector(\"body > div.Center-block > div > div > div.heading-wraper > h1\")\n",
    "        \n",
    "        Lap_names.append(L_names.text)\n",
    "        \n",
    "    except NoSuchElementException:\n",
    "        \n",
    "        Lap_names.append(\"-\")\n",
    "        \n",
    "        \n",
    "    try:\n",
    "        \n",
    "        L_Os = driver.find_element_by_css_selector(\"body > div.Center-block > div > div > div.moz-fixed > div > div.col-sm-8.only-desktop > div.key-specifications > div > ul > li:nth-child(1) > div\")\n",
    "        \n",
    "        Lap_Os.append(L_Os.text)\n",
    "        \n",
    "    except NoSuchElementException:\n",
    "        \n",
    "        Lap_Os.append(\"-\")\n",
    "        \n",
    "        \n",
    "    try:\n",
    "        \n",
    "        Lap_D = driver.find_element_by_css_selector(\"body > div.Center-block > div > div > div.moz-fixed > div > div.col-sm-8.only-desktop > div.key-specifications > div > ul > li:nth-child(2) > div\")\n",
    "        \n",
    "        Lap_Display.append(Lap_D.text)\n",
    "        \n",
    "    except NoSuchElementException:\n",
    "        \n",
    "        Lap_Display.append(\"-\")\n",
    "        \n",
    "    \n",
    "    try:\n",
    "        \n",
    "        Lap_P = driver.find_element_by_css_selector(\"body > div.Center-block > div > div > div.moz-fixed > div > div.col-sm-8.only-desktop > div.key-specifications > div > ul > li:nth-child(3) > div\")\n",
    "        \n",
    "        Lap_Processor.append(Lap_P.text)\n",
    "        \n",
    "    except NoSuchElementException:\n",
    "        \n",
    "        Lap_Processor.append(\"-\")\n",
    "        \n",
    "    try:\n",
    "        \n",
    "        Lap_M = driver.find_element_by_css_selector(\"body > div.Center-block > div > div > div.moz-fixed > div > div.col-sm-8.only-desktop > div.key-specifications > div > ul > li:nth-child(4) > div\")\n",
    "        \n",
    "        Lap_Memory.append(Lap_M.text)\n",
    "        \n",
    "    except NoSuchElementException:\n",
    "        \n",
    "        Lap_Memory.append(\"-\")\n",
    "        \n",
    "    \n",
    "    try:\n",
    "        \n",
    "        Lap_M_N = driver.find_element_by_css_selector(\"#specs-basic-information > div.remaining-details > table > tbody > tr:nth-child(1) > td:nth-child(3)\")\n",
    "        \n",
    "        Lap_Model_Name.append(Lap_M_N.text)\n",
    "        \n",
    "    except NoSuchElementException:\n",
    "        \n",
    "        Lap_Model_Name.append(\"-\")\n",
    "        \n",
    "    try:\n",
    "        \n",
    "        Lap_Res = driver.find_element_by_css_selector(\"#specs-display > div.remaining-details > table > tbody > tr:nth-child(1) > td:nth-child(3)\")\n",
    "        \n",
    "        Lap_Resolution.append(Lap_Res.text)\n",
    "        \n",
    "    except NoSuchElementException:\n",
    "        \n",
    "        Lap_Resolution.append(\"-\")\n",
    "        \n",
    "    \n",
    "    try:\n",
    "        \n",
    "        Lap_R_T = driver.find_element_by_css_selector(\"#specs-memory > div.remaining-details > table > tbody > tr:nth-child(2) > td:nth-child(3)\")\n",
    "        \n",
    "        Lap_Ram_Type.append(Lap_R_T.text)\n",
    "        \n",
    "    except NoSuchElementException:\n",
    "        \n",
    "        Lap_Ram_Type.append(\"-\")\n",
    "        \n",
    "        \n",
    "    try:\n",
    "        \n",
    "        Lap_P_M_N = driver.find_element_by_css_selector(\"#specs-processor > div.remaining-details > table > tbody > tr:nth-child(1) > td:nth-child(3)\")\n",
    "        \n",
    "        Lap_Processor_Model_Name.append(Lap_P_M_N.text)\n",
    "        \n",
    "    except NoSuchElementException:\n",
    "        \n",
    "        Lap_Processor_Model_Name.append(\"-\")\n",
    "        \n",
    "        \n",
    "    try:\n",
    "        \n",
    "        Lap_G_P = driver.find_element_by_css_selector(\"#specs-processor > div.remaining-details > table > tbody > tr:nth-child(4) > td:nth-child(3)\")\n",
    "        \n",
    "        Lap_Graphics_Processor.append(Lap_G_P.text)\n",
    "        \n",
    "    except NoSuchElementException:\n",
    "        \n",
    "        Lap_Graphics_Processor.append(\"-\")\n",
    "        \n",
    "        \n",
    "    try:\n",
    "        \n",
    "        Lap_S_D_C = driver.find_element_by_css_selector(\"#specs-storage > div.remaining-details > table > tbody > tr:nth-child(2) > td:nth-child(3)\")\n",
    "        \n",
    "        Lap_Storage_Drive_Capacity.append(Lap_S_D_C.text)\n",
    "        \n",
    "    except NoSuchElementException:\n",
    "        \n",
    "        Lap_Storage_Drive_Capacity.append(\"-\")"
   ]
  },
  {
   "cell_type": "code",
   "execution_count": 155,
   "metadata": {},
   "outputs": [],
   "source": [
    "# Creating dataframe\n",
    "df_GLP = pd.DataFrame({})\n",
    "df_GLP[\"Laptop Name\"] = Lap_names\n",
    "df_GLP[\"Operating System\"] = Lap_Os\n",
    "df_GLP[\"Laptop Display\"] = Lap_Display\n",
    "df_GLP[\"Laptop Processor\"] = Lap_Processor\n",
    "df_GLP[\"Laptop Memory\"] = Lap_Memory \n",
    "df_GLP[\"Laptop Model Name\"] = Lap_Model_Name\n",
    "df_GLP[\"Laptop Resolution\"] = Lap_Resolution\n",
    "df_GLP[\"RAM type\"] = Lap_Ram_Type\n",
    "df_GLP[\"Laptop Processor model name\"] = Lap_Processor_Model_Name\n",
    "df_GLP[\"Laptop Graphics processor\"] = Lap_Graphics_Processor\n",
    "df_GLP[\"Laptop Storage Drive Capacity\"] =  Lap_Storage_Drive_Capacity\n",
    "df_GLP[\"URL\"] = urls_GL"
   ]
  },
  {
   "cell_type": "code",
   "execution_count": 156,
   "metadata": {},
   "outputs": [
    {
     "data": {
      "text/html": [
       "<div>\n",
       "<style scoped>\n",
       "    .dataframe tbody tr th:only-of-type {\n",
       "        vertical-align: middle;\n",
       "    }\n",
       "\n",
       "    .dataframe tbody tr th {\n",
       "        vertical-align: top;\n",
       "    }\n",
       "\n",
       "    .dataframe thead th {\n",
       "        text-align: right;\n",
       "    }\n",
       "</style>\n",
       "<table border=\"1\" class=\"dataframe\">\n",
       "  <thead>\n",
       "    <tr style=\"text-align: right;\">\n",
       "      <th></th>\n",
       "      <th>Laptop Name</th>\n",
       "      <th>Operating System</th>\n",
       "      <th>Laptop Display</th>\n",
       "      <th>Laptop Processor</th>\n",
       "      <th>Laptop Memory</th>\n",
       "      <th>Laptop Model Name</th>\n",
       "      <th>Laptop Resolution</th>\n",
       "      <th>RAM type</th>\n",
       "      <th>Laptop Processor model name</th>\n",
       "      <th>Laptop Graphics processor</th>\n",
       "      <th>Laptop Storage Drive Capacity</th>\n",
       "      <th>URL</th>\n",
       "    </tr>\n",
       "  </thead>\n",
       "  <tbody>\n",
       "    <tr>\n",
       "      <th>0</th>\n",
       "      <td>Alienware Area 51M R2</td>\n",
       "      <td>Windows 10 Home</td>\n",
       "      <td>17.3\" (1920 X 1080)</td>\n",
       "      <td>10th Generation Intel® Core™ I7-10700 | 2.90 GHz</td>\n",
       "      <td>1 TB SSD/16 GBGB DDR4</td>\n",
       "      <td>Area 51M R2</td>\n",
       "      <td>1920 x 1080</td>\n",
       "      <td>DDR4</td>\n",
       "      <td>10th Generation Intel® Core™ i7-10700</td>\n",
       "      <td>Intel® UHD Graphics 630</td>\n",
       "      <td>1 TB</td>\n",
       "      <td>https://www.digit.in/laptops/alienware-area-51...</td>\n",
       "    </tr>\n",
       "    <tr>\n",
       "      <th>1</th>\n",
       "      <td>Alienware M15 R3</td>\n",
       "      <td>Windows 10 Home</td>\n",
       "      <td>15.6\" (3840 X 2160)</td>\n",
       "      <td>10th Generation Intel® Core™ I9-10980HK | NA</td>\n",
       "      <td>1 TB SSD/16 GBGB DDR4</td>\n",
       "      <td>m15 R3</td>\n",
       "      <td>3840 x 2160</td>\n",
       "      <td>DDR4</td>\n",
       "      <td>10th Generation Intel® Core™ i9-10980HK</td>\n",
       "      <td>5.3GHz</td>\n",
       "      <td>1 TB</td>\n",
       "      <td>https://www.digit.in/laptops/alienware-m15-r3-...</td>\n",
       "    </tr>\n",
       "    <tr>\n",
       "      <th>2</th>\n",
       "      <td>ASUS ROG Strix Scar 15</td>\n",
       "      <td>Windows 10 Home</td>\n",
       "      <td>15.6\" (1920 X 1080)</td>\n",
       "      <td>AMD Ryzen™ 9 5900HX | 3.3 GHz</td>\n",
       "      <td>1 TB SSD/16 GBGB DDR4</td>\n",
       "      <td>ASUS</td>\n",
       "      <td>1920 x 1080</td>\n",
       "      <td>DDR4</td>\n",
       "      <td>AMD Ryzen™ 9 5900HX</td>\n",
       "      <td>16M</td>\n",
       "      <td>1 TB</td>\n",
       "      <td>https://www.digit.in/laptops/asus-rog-strix-sc...</td>\n",
       "    </tr>\n",
       "    <tr>\n",
       "      <th>3</th>\n",
       "      <td>Asus ROG Zephyrus G14</td>\n",
       "      <td>Windows 10 Home</td>\n",
       "      <td>14\" (1920 X 1080)</td>\n",
       "      <td>AMD 3rd Generation Ryzen 9 | 3.3 GHz</td>\n",
       "      <td>1 TB SSD/16 GBGB DDR4</td>\n",
       "      <td>ROG Zephyrus G14</td>\n",
       "      <td>1920 x 1080</td>\n",
       "      <td>DDR4</td>\n",
       "      <td>AMD 3rd Generation Ryzen 9</td>\n",
       "      <td>NVIDIA GeForce RTX 2060</td>\n",
       "      <td>1 TB</td>\n",
       "      <td>https://www.digit.in/laptops/asus-rog-zephyrus...</td>\n",
       "    </tr>\n",
       "    <tr>\n",
       "      <th>4</th>\n",
       "      <td>Lenovo Legion 5i</td>\n",
       "      <td>Windows 10 Pro</td>\n",
       "      <td>15.6\" (1920 X 1080)</td>\n",
       "      <td>10th Generation Intel® Core™ I5-10300H | 2.50 GHz</td>\n",
       "      <td>1 TB SSD/16 GBGB DDR4</td>\n",
       "      <td>Legion 5i</td>\n",
       "      <td>1920 x 1080</td>\n",
       "      <td>DDR4</td>\n",
       "      <td>10th Generation Intel® Core™ i5-10300H</td>\n",
       "      <td>NVIDIA® GeForce® GTX 1650 4GB</td>\n",
       "      <td>1 TB</td>\n",
       "      <td>https://www.digit.in/laptops/lenovo-legion-5i-...</td>\n",
       "    </tr>\n",
       "  </tbody>\n",
       "</table>\n",
       "</div>"
      ],
      "text/plain": [
       "              Laptop Name Operating System       Laptop Display  \\\n",
       "0   Alienware Area 51M R2  Windows 10 Home  17.3\" (1920 X 1080)   \n",
       "1        Alienware M15 R3  Windows 10 Home  15.6\" (3840 X 2160)   \n",
       "2  ASUS ROG Strix Scar 15  Windows 10 Home  15.6\" (1920 X 1080)   \n",
       "3   Asus ROG Zephyrus G14  Windows 10 Home    14\" (1920 X 1080)   \n",
       "4        Lenovo Legion 5i   Windows 10 Pro  15.6\" (1920 X 1080)   \n",
       "\n",
       "                                    Laptop Processor          Laptop Memory  \\\n",
       "0   10th Generation Intel® Core™ I7-10700 | 2.90 GHz  1 TB SSD/16 GBGB DDR4   \n",
       "1       10th Generation Intel® Core™ I9-10980HK | NA  1 TB SSD/16 GBGB DDR4   \n",
       "2                      AMD Ryzen™ 9 5900HX | 3.3 GHz  1 TB SSD/16 GBGB DDR4   \n",
       "3               AMD 3rd Generation Ryzen 9 | 3.3 GHz  1 TB SSD/16 GBGB DDR4   \n",
       "4  10th Generation Intel® Core™ I5-10300H | 2.50 GHz  1 TB SSD/16 GBGB DDR4   \n",
       "\n",
       "  Laptop Model Name Laptop Resolution RAM type  \\\n",
       "0       Area 51M R2       1920 x 1080     DDR4   \n",
       "1            m15 R3       3840 x 2160     DDR4   \n",
       "2              ASUS       1920 x 1080     DDR4   \n",
       "3  ROG Zephyrus G14       1920 x 1080     DDR4   \n",
       "4         Legion 5i       1920 x 1080     DDR4   \n",
       "\n",
       "               Laptop Processor model name      Laptop Graphics processor  \\\n",
       "0    10th Generation Intel® Core™ i7-10700        Intel® UHD Graphics 630   \n",
       "1  10th Generation Intel® Core™ i9-10980HK                         5.3GHz   \n",
       "2                      AMD Ryzen™ 9 5900HX                            16M   \n",
       "3               AMD 3rd Generation Ryzen 9        NVIDIA GeForce RTX 2060   \n",
       "4   10th Generation Intel® Core™ i5-10300H  NVIDIA® GeForce® GTX 1650 4GB   \n",
       "\n",
       "  Laptop Storage Drive Capacity  \\\n",
       "0                          1 TB   \n",
       "1                          1 TB   \n",
       "2                          1 TB   \n",
       "3                          1 TB   \n",
       "4                          1 TB   \n",
       "\n",
       "                                                 URL  \n",
       "0  https://www.digit.in/laptops/alienware-area-51...  \n",
       "1  https://www.digit.in/laptops/alienware-m15-r3-...  \n",
       "2  https://www.digit.in/laptops/asus-rog-strix-sc...  \n",
       "3  https://www.digit.in/laptops/asus-rog-zephyrus...  \n",
       "4  https://www.digit.in/laptops/lenovo-legion-5i-...  "
      ]
     },
     "execution_count": 156,
     "metadata": {},
     "output_type": "execute_result"
    }
   ],
   "source": [
    "df_GLP.head()"
   ]
  }
 ],
 "metadata": {
  "kernelspec": {
   "display_name": "Python 3",
   "language": "python",
   "name": "python3"
  }
 },
 "nbformat": 4,
 "nbformat_minor": 4
}
