{
 "cells": [
  {
   "cell_type": "markdown",
   "id": "20718d21",
   "metadata": {},
   "source": [
    "### Importing Libraries"
   ]
  },
  {
   "cell_type": "code",
   "execution_count": 1,
   "id": "5f799acc",
   "metadata": {},
   "outputs": [],
   "source": [
    "import pandas as pd\n",
    "import numpy as np\n",
    "\n",
    "#visulaisation\n",
    "import matplotlib.pyplot as plt\n",
    "import seaborn as sns\n",
    "\n",
    "%matplotlib inline"
   ]
  },
  {
   "cell_type": "code",
   "execution_count": 2,
   "id": "c1d48ceb",
   "metadata": {},
   "outputs": [],
   "source": [
    "from sklearn.utils import resample\n",
    "# nlp\n",
    "import nltk\n",
    "from nltk.corpus import stopwords\n",
    "import re  \n",
    "from nltk.stem.wordnet import WordNetLemmatizer \n",
    "from nltk.tokenize import word_tokenize\n",
    "import spacy\n",
    "from nltk.tokenize import word_tokenize\n",
    "sp = spacy.load('en_core_web_sm')"
   ]
  },
  {
   "cell_type": "code",
   "execution_count": 3,
   "id": "8d7c7d37",
   "metadata": {},
   "outputs": [],
   "source": [
    "#pickle & joblib&tqdm\n",
    "import pickle\n",
    "import joblib\n",
    "from tqdm import tqdm"
   ]
  },
  {
   "cell_type": "code",
   "execution_count": 4,
   "id": "599d2bbd",
   "metadata": {},
   "outputs": [],
   "source": [
    "#sklearn\n",
    "from sklearn.naive_bayes import MultinomialNB\n",
    "from sklearn.model_selection import GridSearchCV\n",
    "from sklearn.ensemble import RandomForestClassifier\n",
    "from sklearn import metrics\n",
    "from sklearn.metrics import f1_score,precision_score,recall_score,accuracy_score,confusion_matrix\n",
    "from sklearn.linear_model import LogisticRegression\n",
    "from sklearn.feature_extraction.text import TfidfVectorizer\n",
    "from sklearn.metrics import classification_report"
   ]
  },
  {
   "cell_type": "code",
   "execution_count": 5,
   "id": "5d0ba6eb",
   "metadata": {},
   "outputs": [],
   "source": [
    "from imblearn.over_sampling import SMOTE"
   ]
  },
  {
   "cell_type": "code",
   "execution_count": 6,
   "id": "25393ec7",
   "metadata": {},
   "outputs": [
    {
     "data": {
      "text/html": [
       "<style type=\"text/css\">\n",
       "table.dataframe td, table.dataframe th {\n",
       "    border: 1px  black solid !important;  \n",
       "    color: black !important;\n",
       "}\n",
       "</style>\n"
      ],
      "text/plain": [
       "<IPython.core.display.HTML object>"
      ]
     },
     "metadata": {},
     "output_type": "display_data"
    }
   ],
   "source": [
    "%%HTML\n",
    "<style type=\"text/css\">\n",
    "table.dataframe td, table.dataframe th {\n",
    "    border: 1px  black solid !important;  \n",
    "    color: black !important;\n",
    "}\n",
    "</style>"
   ]
  },
  {
   "cell_type": "code",
   "execution_count": 7,
   "id": "2b291849",
   "metadata": {},
   "outputs": [],
   "source": [
    "# Code to display all the columns in the dataset\n",
    "pd.set_option('display.max_columns', None)"
   ]
  },
  {
   "cell_type": "code",
   "execution_count": 8,
   "id": "67c78db8",
   "metadata": {},
   "outputs": [],
   "source": [
    "import warnings\n",
    "warnings.filterwarnings('ignore')"
   ]
  },
  {
   "cell_type": "code",
   "execution_count": 9,
   "id": "c3279635",
   "metadata": {},
   "outputs": [],
   "source": [
    "# Importing train dataset\n",
    "df = pd.read_csv(\"train.csv\")"
   ]
  },
  {
   "cell_type": "code",
   "execution_count": 10,
   "id": "89a8971a",
   "metadata": {},
   "outputs": [
    {
     "data": {
      "text/html": [
       "<div>\n",
       "<style scoped>\n",
       "    .dataframe tbody tr th:only-of-type {\n",
       "        vertical-align: middle;\n",
       "    }\n",
       "\n",
       "    .dataframe tbody tr th {\n",
       "        vertical-align: top;\n",
       "    }\n",
       "\n",
       "    .dataframe thead th {\n",
       "        text-align: right;\n",
       "    }\n",
       "</style>\n",
       "<table border=\"1\" class=\"dataframe\">\n",
       "  <thead>\n",
       "    <tr style=\"text-align: right;\">\n",
       "      <th></th>\n",
       "      <th>id</th>\n",
       "      <th>comment_text</th>\n",
       "      <th>malignant</th>\n",
       "      <th>highly_malignant</th>\n",
       "      <th>rude</th>\n",
       "      <th>threat</th>\n",
       "      <th>abuse</th>\n",
       "      <th>loathe</th>\n",
       "    </tr>\n",
       "  </thead>\n",
       "  <tbody>\n",
       "    <tr>\n",
       "      <th>0</th>\n",
       "      <td>0000997932d777bf</td>\n",
       "      <td>Explanation\\nWhy the edits made under my usern...</td>\n",
       "      <td>0</td>\n",
       "      <td>0</td>\n",
       "      <td>0</td>\n",
       "      <td>0</td>\n",
       "      <td>0</td>\n",
       "      <td>0</td>\n",
       "    </tr>\n",
       "    <tr>\n",
       "      <th>1</th>\n",
       "      <td>000103f0d9cfb60f</td>\n",
       "      <td>D'aww! He matches this background colour I'm s...</td>\n",
       "      <td>0</td>\n",
       "      <td>0</td>\n",
       "      <td>0</td>\n",
       "      <td>0</td>\n",
       "      <td>0</td>\n",
       "      <td>0</td>\n",
       "    </tr>\n",
       "    <tr>\n",
       "      <th>2</th>\n",
       "      <td>000113f07ec002fd</td>\n",
       "      <td>Hey man, I'm really not trying to edit war. It...</td>\n",
       "      <td>0</td>\n",
       "      <td>0</td>\n",
       "      <td>0</td>\n",
       "      <td>0</td>\n",
       "      <td>0</td>\n",
       "      <td>0</td>\n",
       "    </tr>\n",
       "    <tr>\n",
       "      <th>3</th>\n",
       "      <td>0001b41b1c6bb37e</td>\n",
       "      <td>\"\\nMore\\nI can't make any real suggestions on ...</td>\n",
       "      <td>0</td>\n",
       "      <td>0</td>\n",
       "      <td>0</td>\n",
       "      <td>0</td>\n",
       "      <td>0</td>\n",
       "      <td>0</td>\n",
       "    </tr>\n",
       "    <tr>\n",
       "      <th>4</th>\n",
       "      <td>0001d958c54c6e35</td>\n",
       "      <td>You, sir, are my hero. Any chance you remember...</td>\n",
       "      <td>0</td>\n",
       "      <td>0</td>\n",
       "      <td>0</td>\n",
       "      <td>0</td>\n",
       "      <td>0</td>\n",
       "      <td>0</td>\n",
       "    </tr>\n",
       "  </tbody>\n",
       "</table>\n",
       "</div>"
      ],
      "text/plain": [
       "                 id                                       comment_text  \\\n",
       "0  0000997932d777bf  Explanation\\nWhy the edits made under my usern...   \n",
       "1  000103f0d9cfb60f  D'aww! He matches this background colour I'm s...   \n",
       "2  000113f07ec002fd  Hey man, I'm really not trying to edit war. It...   \n",
       "3  0001b41b1c6bb37e  \"\\nMore\\nI can't make any real suggestions on ...   \n",
       "4  0001d958c54c6e35  You, sir, are my hero. Any chance you remember...   \n",
       "\n",
       "   malignant  highly_malignant  rude  threat  abuse  loathe  \n",
       "0          0                 0     0       0      0       0  \n",
       "1          0                 0     0       0      0       0  \n",
       "2          0                 0     0       0      0       0  \n",
       "3          0                 0     0       0      0       0  \n",
       "4          0                 0     0       0      0       0  "
      ]
     },
     "execution_count": 10,
     "metadata": {},
     "output_type": "execute_result"
    }
   ],
   "source": [
    "df.head()"
   ]
  },
  {
   "cell_type": "code",
   "execution_count": 11,
   "id": "9421f47b",
   "metadata": {},
   "outputs": [
    {
     "data": {
      "text/plain": [
       "(159571, 8)"
      ]
     },
     "execution_count": 11,
     "metadata": {},
     "output_type": "execute_result"
    }
   ],
   "source": [
    "# Checking dataframe shape\n",
    "df.shape"
   ]
  },
  {
   "cell_type": "code",
   "execution_count": 12,
   "id": "6aec303f",
   "metadata": {},
   "outputs": [
    {
     "data": {
      "text/plain": [
       "Index(['id', 'comment_text', 'malignant', 'highly_malignant', 'rude', 'threat',\n",
       "       'abuse', 'loathe'],\n",
       "      dtype='object')"
      ]
     },
     "execution_count": 12,
     "metadata": {},
     "output_type": "execute_result"
    }
   ],
   "source": [
    "# Checking column names\n",
    "df.columns"
   ]
  },
  {
   "cell_type": "code",
   "execution_count": 13,
   "id": "aa2c0833",
   "metadata": {},
   "outputs": [
    {
     "data": {
      "text/plain": [
       "<AxesSubplot:>"
      ]
     },
     "execution_count": 13,
     "metadata": {},
     "output_type": "execute_result"
    },
    {
     "data": {
      "image/png": "[encoded data removed]",
      "text/plain": [
       "<Figure size 432x288 with 2 Axes>"
      ]
     },
     "metadata": {
      "needs_background": "light"
     },
     "output_type": "display_data"
    }
   ],
   "source": [
    "#visualising the null values\n",
    "sns.heatmap(df.isnull())"
   ]
  },
  {
   "cell_type": "code",
   "execution_count": 14,
   "id": "45b992b4",
   "metadata": {},
   "outputs": [],
   "source": [
    "# No null values in the dataset"
   ]
  },
  {
   "cell_type": "code",
   "execution_count": 15,
   "id": "99eb7e2c",
   "metadata": {},
   "outputs": [],
   "source": [
    "cols=['malignant', 'highly_malignant', 'rude', 'threat','abuse', 'loathe']"
   ]
  },
  {
   "cell_type": "code",
   "execution_count": 16,
   "id": "7b1a0f2d",
   "metadata": {},
   "outputs": [],
   "source": [
    "# Lets create a single column which will have two values Toxic or non toxic\n",
    "\n",
    "df['Toxic']=df[cols].max(axis=1).apply(lambda x: \"Toxic\" if x == 1 else \"Non-Toxic\")"
   ]
  },
  {
   "cell_type": "code",
   "execution_count": 17,
   "id": "775e81c1",
   "metadata": {},
   "outputs": [
    {
     "data": {
      "text/html": [
       "<div>\n",
       "<style scoped>\n",
       "    .dataframe tbody tr th:only-of-type {\n",
       "        vertical-align: middle;\n",
       "    }\n",
       "\n",
       "    .dataframe tbody tr th {\n",
       "        vertical-align: top;\n",
       "    }\n",
       "\n",
       "    .dataframe thead th {\n",
       "        text-align: right;\n",
       "    }\n",
       "</style>\n",
       "<table border=\"1\" class=\"dataframe\">\n",
       "  <thead>\n",
       "    <tr style=\"text-align: right;\">\n",
       "      <th></th>\n",
       "      <th>id</th>\n",
       "      <th>comment_text</th>\n",
       "      <th>malignant</th>\n",
       "      <th>highly_malignant</th>\n",
       "      <th>rude</th>\n",
       "      <th>threat</th>\n",
       "      <th>abuse</th>\n",
       "      <th>loathe</th>\n",
       "      <th>Toxic</th>\n",
       "    </tr>\n",
       "  </thead>\n",
       "  <tbody>\n",
       "    <tr>\n",
       "      <th>0</th>\n",
       "      <td>0000997932d777bf</td>\n",
       "      <td>Explanation\\nWhy the edits made under my usern...</td>\n",
       "      <td>0</td>\n",
       "      <td>0</td>\n",
       "      <td>0</td>\n",
       "      <td>0</td>\n",
       "      <td>0</td>\n",
       "      <td>0</td>\n",
       "      <td>Non-Toxic</td>\n",
       "    </tr>\n",
       "    <tr>\n",
       "      <th>1</th>\n",
       "      <td>000103f0d9cfb60f</td>\n",
       "      <td>D'aww! He matches this background colour I'm s...</td>\n",
       "      <td>0</td>\n",
       "      <td>0</td>\n",
       "      <td>0</td>\n",
       "      <td>0</td>\n",
       "      <td>0</td>\n",
       "      <td>0</td>\n",
       "      <td>Non-Toxic</td>\n",
       "    </tr>\n",
       "    <tr>\n",
       "      <th>2</th>\n",
       "      <td>000113f07ec002fd</td>\n",
       "      <td>Hey man, I'm really not trying to edit war. It...</td>\n",
       "      <td>0</td>\n",
       "      <td>0</td>\n",
       "      <td>0</td>\n",
       "      <td>0</td>\n",
       "      <td>0</td>\n",
       "      <td>0</td>\n",
       "      <td>Non-Toxic</td>\n",
       "    </tr>\n",
       "    <tr>\n",
       "      <th>3</th>\n",
       "      <td>0001b41b1c6bb37e</td>\n",
       "      <td>\"\\nMore\\nI can't make any real suggestions on ...</td>\n",
       "      <td>0</td>\n",
       "      <td>0</td>\n",
       "      <td>0</td>\n",
       "      <td>0</td>\n",
       "      <td>0</td>\n",
       "      <td>0</td>\n",
       "      <td>Non-Toxic</td>\n",
       "    </tr>\n",
       "    <tr>\n",
       "      <th>4</th>\n",
       "      <td>0001d958c54c6e35</td>\n",
       "      <td>You, sir, are my hero. Any chance you remember...</td>\n",
       "      <td>0</td>\n",
       "      <td>0</td>\n",
       "      <td>0</td>\n",
       "      <td>0</td>\n",
       "      <td>0</td>\n",
       "      <td>0</td>\n",
       "      <td>Non-Toxic</td>\n",
       "    </tr>\n",
       "  </tbody>\n",
       "</table>\n",
       "</div>"
      ],
      "text/plain": [
       "                 id                                       comment_text  \\\n",
       "0  0000997932d777bf  Explanation\\nWhy the edits made under my usern...   \n",
       "1  000103f0d9cfb60f  D'aww! He matches this background colour I'm s...   \n",
       "2  000113f07ec002fd  Hey man, I'm really not trying to edit war. It...   \n",
       "3  0001b41b1c6bb37e  \"\\nMore\\nI can't make any real suggestions on ...   \n",
       "4  0001d958c54c6e35  You, sir, are my hero. Any chance you remember...   \n",
       "\n",
       "   malignant  highly_malignant  rude  threat  abuse  loathe      Toxic  \n",
       "0          0                 0     0       0      0       0  Non-Toxic  \n",
       "1          0                 0     0       0      0       0  Non-Toxic  \n",
       "2          0                 0     0       0      0       0  Non-Toxic  \n",
       "3          0                 0     0       0      0       0  Non-Toxic  \n",
       "4          0                 0     0       0      0       0  Non-Toxic  "
      ]
     },
     "execution_count": 17,
     "metadata": {},
     "output_type": "execute_result"
    }
   ],
   "source": [
    "df.head()"
   ]
  },
  {
   "cell_type": "code",
   "execution_count": 18,
   "id": "755654dc",
   "metadata": {},
   "outputs": [],
   "source": [
    "# Checking if the data is balanced or not\n",
    "\n",
    "clean = len(df[df.Toxic==\"Non-Toxic\"])\n",
    "toxic = len(df[df.Toxic==\"Toxic\"])"
   ]
  },
  {
   "cell_type": "code",
   "execution_count": 19,
   "id": "96911408",
   "metadata": {},
   "outputs": [
    {
     "name": "stdout",
     "output_type": "stream",
     "text": [
      "Toxic Comments count: 16225\n",
      "toxic percentage 10.17\n"
     ]
    }
   ],
   "source": [
    "print(\"Toxic Comments count:\",toxic)\n",
    "print(\"toxic percentage %.2f\"%(toxic/len(df)*100))"
   ]
  },
  {
   "cell_type": "markdown",
   "id": "b959a739",
   "metadata": {},
   "source": [
    "##### Data is highly imbalanced"
   ]
  },
  {
   "cell_type": "code",
   "execution_count": 20,
   "id": "449ca112",
   "metadata": {},
   "outputs": [],
   "source": [
    "df= df[['id','comment_text','Toxic']]"
   ]
  },
  {
   "cell_type": "code",
   "execution_count": 21,
   "id": "ea5c5ba7",
   "metadata": {},
   "outputs": [
    {
     "data": {
      "text/html": [
       "<div>\n",
       "<style scoped>\n",
       "    .dataframe tbody tr th:only-of-type {\n",
       "        vertical-align: middle;\n",
       "    }\n",
       "\n",
       "    .dataframe tbody tr th {\n",
       "        vertical-align: top;\n",
       "    }\n",
       "\n",
       "    .dataframe thead th {\n",
       "        text-align: right;\n",
       "    }\n",
       "</style>\n",
       "<table border=\"1\" class=\"dataframe\">\n",
       "  <thead>\n",
       "    <tr style=\"text-align: right;\">\n",
       "      <th></th>\n",
       "      <th>id</th>\n",
       "      <th>comment_text</th>\n",
       "      <th>Toxic</th>\n",
       "    </tr>\n",
       "  </thead>\n",
       "  <tbody>\n",
       "    <tr>\n",
       "      <th>0</th>\n",
       "      <td>0000997932d777bf</td>\n",
       "      <td>Explanation\\nWhy the edits made under my usern...</td>\n",
       "      <td>Non-Toxic</td>\n",
       "    </tr>\n",
       "    <tr>\n",
       "      <th>1</th>\n",
       "      <td>000103f0d9cfb60f</td>\n",
       "      <td>D'aww! He matches this background colour I'm s...</td>\n",
       "      <td>Non-Toxic</td>\n",
       "    </tr>\n",
       "    <tr>\n",
       "      <th>2</th>\n",
       "      <td>000113f07ec002fd</td>\n",
       "      <td>Hey man, I'm really not trying to edit war. It...</td>\n",
       "      <td>Non-Toxic</td>\n",
       "    </tr>\n",
       "    <tr>\n",
       "      <th>3</th>\n",
       "      <td>0001b41b1c6bb37e</td>\n",
       "      <td>\"\\nMore\\nI can't make any real suggestions on ...</td>\n",
       "      <td>Non-Toxic</td>\n",
       "    </tr>\n",
       "    <tr>\n",
       "      <th>4</th>\n",
       "      <td>0001d958c54c6e35</td>\n",
       "      <td>You, sir, are my hero. Any chance you remember...</td>\n",
       "      <td>Non-Toxic</td>\n",
       "    </tr>\n",
       "  </tbody>\n",
       "</table>\n",
       "</div>"
      ],
      "text/plain": [
       "                 id                                       comment_text  \\\n",
       "0  0000997932d777bf  Explanation\\nWhy the edits made under my usern...   \n",
       "1  000103f0d9cfb60f  D'aww! He matches this background colour I'm s...   \n",
       "2  000113f07ec002fd  Hey man, I'm really not trying to edit war. It...   \n",
       "3  0001b41b1c6bb37e  \"\\nMore\\nI can't make any real suggestions on ...   \n",
       "4  0001d958c54c6e35  You, sir, are my hero. Any chance you remember...   \n",
       "\n",
       "       Toxic  \n",
       "0  Non-Toxic  \n",
       "1  Non-Toxic  \n",
       "2  Non-Toxic  \n",
       "3  Non-Toxic  \n",
       "4  Non-Toxic  "
      ]
     },
     "execution_count": 21,
     "metadata": {},
     "output_type": "execute_result"
    }
   ],
   "source": [
    "df.head()"
   ]
  },
  {
   "cell_type": "code",
   "execution_count": 22,
   "id": "d95f3156",
   "metadata": {},
   "outputs": [],
   "source": [
    "count = df.comment_text.str.len()"
   ]
  },
  {
   "cell_type": "code",
   "execution_count": 23,
   "id": "3a9aefb0",
   "metadata": {},
   "outputs": [
    {
     "data": {
      "text/plain": [
       "count    159571.000000\n",
       "mean        394.138847\n",
       "std         590.725381\n",
       "min           5.000000\n",
       "25%          96.000000\n",
       "50%         205.000000\n",
       "75%         436.000000\n",
       "max        5000.000000\n",
       "Name: comment_text, dtype: float64"
      ]
     },
     "execution_count": 23,
     "metadata": {},
     "output_type": "execute_result"
    }
   ],
   "source": [
    "count.describe()"
   ]
  },
  {
   "cell_type": "code",
   "execution_count": 24,
   "id": "102cf67f",
   "metadata": {},
   "outputs": [],
   "source": [
    "## Average word-length for a comment is ~394"
   ]
  },
  {
   "cell_type": "code",
   "execution_count": 25,
   "id": "899eff87",
   "metadata": {},
   "outputs": [],
   "source": [
    "#count list contains the number of the counts for the labels\n",
    "\n",
    "count=[clean,toxic]"
   ]
  },
  {
   "cell_type": "code",
   "execution_count": 26,
   "id": "fbf49872",
   "metadata": {},
   "outputs": [
    {
     "data": {
      "text/plain": [
       "[143346, 16225]"
      ]
     },
     "execution_count": 26,
     "metadata": {},
     "output_type": "execute_result"
    }
   ],
   "source": [
    "count"
   ]
  },
  {
   "cell_type": "markdown",
   "id": "b8dd565b",
   "metadata": {},
   "source": [
    "### EDA"
   ]
  },
  {
   "cell_type": "code",
   "execution_count": 27,
   "id": "c1f78048",
   "metadata": {},
   "outputs": [
    {
     "data": {
      "image/png": "[encoded data removed]",
      "text/plain": [
       "<Figure size 1080x576 with 1 Axes>"
      ]
     },
     "metadata": {
      "needs_background": "light"
     },
     "output_type": "display_data"
    }
   ],
   "source": [
    "#toxic comment distribution by removing the clean coments\n",
    "\n",
    "plt.figure(figsize=(15, 8))\n",
    "plt.subplot(121)\n",
    "\n",
    "ax= sns.distplot(count,kde=True,color=\"skyblue\",hist_kws={\"linewidth\": 10,'alpha':0.3})\n",
    "ax.set(xlabel='Toxic comments Distribution', ylabel='Count of comments')\n",
    "\n",
    "plt.grid(True)"
   ]
  },
  {
   "cell_type": "code",
   "execution_count": 28,
   "id": "387fdd8c",
   "metadata": {},
   "outputs": [
    {
     "name": "stdout",
     "output_type": "stream",
     "text": [
      "Mean length of comment before cleaning data: 394.139\n"
     ]
    },
    {
     "data": {
      "image/png": "[encoded data removed]",
      "text/plain": [
       "<Figure size 432x288 with 1 Axes>"
      ]
     },
     "metadata": {
      "needs_background": "light"
     },
     "output_type": "display_data"
    }
   ],
   "source": [
    "# Average length decreaing while number of words/characters increasing\n",
    "\n",
    "comment=df['comment_text']\n",
    "\n",
    "x = [len(comment[i]) for i in range(comment.shape[0])]\n",
    "print('Mean length of comment before cleaning data: {:.3f}'.format(sum(x)/len(x)) )\n",
    "bins = [1,200,400,600,800,1000,1200]\n",
    "plt.hist(x, bins=bins)\n",
    "plt.xlabel('Length of comments')\n",
    "plt.ylabel('Number of comments')       \n",
    "plt.axis([0, 1200, 0, 90000])\n",
    "plt.grid(True)\n",
    "plt.show()"
   ]
  },
  {
   "cell_type": "code",
   "execution_count": 29,
   "id": "9843a158",
   "metadata": {},
   "outputs": [],
   "source": [
    "cl = df[df.Toxic==\"Non-Toxic\"]\n",
    "ntox = cl.comment_text.str.len()\n",
    "t = df[df.Toxic==\"Toxic\"]\n",
    "tox = t.comment_text.str.len()"
   ]
  },
  {
   "cell_type": "code",
   "execution_count": 30,
   "id": "8bf92bc2",
   "metadata": {},
   "outputs": [
    {
     "data": {
      "image/png": "[encoded data removed]",
      "text/plain": [
       "<Figure size 864x360 with 2 Axes>"
      ]
     },
     "metadata": {
      "needs_background": "light"
     },
     "output_type": "display_data"
    }
   ],
   "source": [
    "#the most comments are upto 400 characters range and the comments haivng higher range are clean\n",
    "\n",
    "plt.figure(figsize=(12, 5))\n",
    "plt.subplot(121)\n",
    "sns.boxplot(x=ntox,orient=\"h\",color='lightgreen')\n",
    "plt.axis([0, 1000,-1,1])\n",
    "plt.xlabel('Length of Clean comments')\n",
    "plt.title(\"Clean Comments\")\n",
    "plt.grid(True)\n",
    "\n",
    "plt.subplot(122)\n",
    "sns.boxplot(x=tox,orient=\"h\",color='orange')\n",
    "plt.axis([0, 1000,-1,1])\n",
    "plt.xlabel('Length of Toxic comments')\n",
    "plt.title(\"Toxic Comments\")\n",
    "plt.grid(True)"
   ]
  },
  {
   "cell_type": "code",
   "execution_count": 31,
   "id": "83845049",
   "metadata": {},
   "outputs": [],
   "source": [
    "# Clean comments have higher word length then toxic comments."
   ]
  },
  {
   "cell_type": "markdown",
   "id": "04ae4fdf",
   "metadata": {},
   "source": [
    "#### Wordclouds"
   ]
  },
  {
   "cell_type": "code",
   "execution_count": 32,
   "id": "80c9628a",
   "metadata": {},
   "outputs": [],
   "source": [
    "from wordcloud import WordCloud"
   ]
  },
  {
   "cell_type": "code",
   "execution_count": 33,
   "id": "c09f0172",
   "metadata": {},
   "outputs": [
    {
     "data": {
      "text/plain": [
       "<matplotlib.image.AxesImage at 0x23ea60ff760>"
      ]
     },
     "execution_count": 33,
     "metadata": {},
     "output_type": "execute_result"
    },
    {
     "data": {
      "image/png": "[encoded data removed]",
      "text/plain": [
       "<Figure size 1080x360 with 2 Axes>"
      ]
     },
     "metadata": {
      "needs_background": "light"
     },
     "output_type": "display_data"
    }
   ],
   "source": [
    "#wordcloud visualisation to check the most common words in clean and toxic comments\n",
    "\n",
    "#wordcloud for clean comments\n",
    "plt.figure(figsize=(15, 5))\n",
    "plt.subplot(121)\n",
    "stopword = set(stopwords.words(\"english\"))\n",
    "subset=df[df.Toxic=='Non-Toxic']\n",
    "text=subset.comment_text.values\n",
    "wc= WordCloud(background_color=\"black\",max_words=1000,stopwords=stopword)\n",
    "wc.generate(\" \".join(text))\n",
    "plt.axis(\"off\")\n",
    "plt.title(\"cleaned comments\", fontsize=20)\n",
    "plt.imshow(wc.recolor(colormap= 'viridis' , random_state=17), alpha=0.98)\n",
    "\n",
    "#frequent words in toxic comments\n",
    "\n",
    "plt.subplot(122)\n",
    "subset=df[df.Toxic=='Toxic']\n",
    "text=subset.comment_text.values\n",
    "wc= WordCloud(background_color=\"black\",max_words=1000,stopwords=stopword)\n",
    "wc.generate(\" \".join(text))\n",
    "plt.axis(\"off\")\n",
    "plt.title(\"toxic words\", fontsize=20)\n",
    "plt.imshow(wc.recolor(colormap= 'gist_earth'), alpha=0.98)"
   ]
  },
  {
   "cell_type": "markdown",
   "id": "f8965108",
   "metadata": {},
   "source": [
    "### Data Preprocessing"
   ]
  },
  {
   "cell_type": "code",
   "execution_count": 34,
   "id": "f066fc4d",
   "metadata": {},
   "outputs": [],
   "source": [
    "comm = df['comment_text']"
   ]
  },
  {
   "cell_type": "code",
   "execution_count": 35,
   "id": "c4253723",
   "metadata": {},
   "outputs": [],
   "source": [
    "# text clening functions that replace short forms to full forms\n",
    "\n",
    "def decontracted(phrase):\n",
    "# specific\n",
    "    phrase = re.sub(r\"won’t\", \"will not\", phrase)\n",
    "    phrase = re.sub(r\"can’t\", \"can not\", phrase)\n",
    "\n",
    "    # general\n",
    "    phrase = re.sub(r\"n\\'t\", \" not\", phrase)\n",
    "    phrase = re.sub(r\"\\'re\", \" are\", phrase)\n",
    "    phrase = re.sub(r\"\\'s\", \" is\", phrase)\n",
    "    phrase = re.sub(r\"\\'d\", \" would\", phrase)\n",
    "    phrase = re.sub(r\"\\'ll\", \" will\", phrase)\n",
    "    phrase = re.sub(r\"\\'t\", \" not\", phrase)\n",
    "    phrase = re.sub(r\"\\'ve\", \" have\", phrase)\n",
    "    phrase = re.sub(r\"\\'m\", \" am\", phrase)\n",
    "    return phrase"
   ]
  },
  {
   "cell_type": "code",
   "execution_count": 36,
   "id": "4b7b51db",
   "metadata": {},
   "outputs": [],
   "source": [
    "# to remove the <.?/; and any numerical values from the text\n",
    "\n",
    "def stripunc(X):\n",
    "    return re.sub('[^A-Za-z]+',' ', str(X), flags=re.MULTILINE|re.DOTALL)"
   ]
  },
  {
   "cell_type": "code",
   "execution_count": 37,
   "id": "35b6179d",
   "metadata": {},
   "outputs": [],
   "source": [
    "comm = comm.apply(decontracted) #cleaning functions are being applied on the text\n",
    "\n",
    "comm = comm.apply(stripunc)"
   ]
  },
  {
   "cell_type": "code",
   "execution_count": 38,
   "id": "01ebf89e",
   "metadata": {},
   "outputs": [],
   "source": [
    "#striping and lowering fn\n",
    "\n",
    "def strip_lower(text):\n",
    "    text = text.apply(lambda x:x.strip().lower())\n",
    "    return text"
   ]
  },
  {
   "cell_type": "code",
   "execution_count": 39,
   "id": "0a82b4be",
   "metadata": {},
   "outputs": [],
   "source": [
    "comm = strip_lower(comm)"
   ]
  },
  {
   "cell_type": "code",
   "execution_count": 40,
   "id": "c60316c2",
   "metadata": {},
   "outputs": [],
   "source": [
    "#spacy stopwords....\n",
    "stop_rots = sp.Defaults.stop_words"
   ]
  },
  {
   "cell_type": "code",
   "execution_count": 41,
   "id": "1c5bbd24",
   "metadata": {},
   "outputs": [],
   "source": [
    "#removing some words because it may change the non-toxic to toxic....\n",
    "stop_rots.remove(\"n't\")\n",
    "\n",
    "stop_rots.remove(\"no\")\n",
    "\n",
    "stop_rots.remove(\"not\")"
   ]
  },
  {
   "cell_type": "code",
   "execution_count": 42,
   "id": "f76ce96e",
   "metadata": {},
   "outputs": [],
   "source": [
    "#function removes the stopwords and lemmatize the text...\n",
    "#wordnet lemmatizer has been used\n",
    "\n",
    "def lemmatize(text):\n",
    "    lm= WordNetLemmatizer()\n",
    "    text = text.apply(lambda x: \" \".join([lm.lemmatize(word,pos='v') for word in x.split(\" \") if word not in stop_rots]))\n",
    "    return text"
   ]
  },
  {
   "cell_type": "code",
   "execution_count": 43,
   "id": "c6791587",
   "metadata": {},
   "outputs": [],
   "source": [
    "df['comments'] = lemmatize(comm)"
   ]
  },
  {
   "cell_type": "code",
   "execution_count": 44,
   "id": "8a971602",
   "metadata": {},
   "outputs": [],
   "source": [
    "df = df[['id','comments','Toxic']]"
   ]
  },
  {
   "cell_type": "code",
   "execution_count": 45,
   "id": "31e4ce34",
   "metadata": {},
   "outputs": [
    {
     "data": {
      "text/html": [
       "<div>\n",
       "<style scoped>\n",
       "    .dataframe tbody tr th:only-of-type {\n",
       "        vertical-align: middle;\n",
       "    }\n",
       "\n",
       "    .dataframe tbody tr th {\n",
       "        vertical-align: top;\n",
       "    }\n",
       "\n",
       "    .dataframe thead th {\n",
       "        text-align: right;\n",
       "    }\n",
       "</style>\n",
       "<table border=\"1\" class=\"dataframe\">\n",
       "  <thead>\n",
       "    <tr style=\"text-align: right;\">\n",
       "      <th></th>\n",
       "      <th>id</th>\n",
       "      <th>comments</th>\n",
       "      <th>Toxic</th>\n",
       "    </tr>\n",
       "  </thead>\n",
       "  <tbody>\n",
       "    <tr>\n",
       "      <th>0</th>\n",
       "      <td>0000997932d777bf</td>\n",
       "      <td>explanation edit username hardcore metallica f...</td>\n",
       "      <td>Non-Toxic</td>\n",
       "    </tr>\n",
       "    <tr>\n",
       "      <th>1</th>\n",
       "      <td>000103f0d9cfb60f</td>\n",
       "      <td>d aww match background colour seemingly stick ...</td>\n",
       "      <td>Non-Toxic</td>\n",
       "    </tr>\n",
       "    <tr>\n",
       "      <th>2</th>\n",
       "      <td>000113f07ec002fd</td>\n",
       "      <td>hey man not try edit war guy constantly remove...</td>\n",
       "      <td>Non-Toxic</td>\n",
       "    </tr>\n",
       "    <tr>\n",
       "      <th>3</th>\n",
       "      <td>0001b41b1c6bb37e</td>\n",
       "      <td>not real suggestions improvement wonder sectio...</td>\n",
       "      <td>Non-Toxic</td>\n",
       "    </tr>\n",
       "    <tr>\n",
       "      <th>4</th>\n",
       "      <td>0001d958c54c6e35</td>\n",
       "      <td>sir hero chance remember page</td>\n",
       "      <td>Non-Toxic</td>\n",
       "    </tr>\n",
       "  </tbody>\n",
       "</table>\n",
       "</div>"
      ],
      "text/plain": [
       "                 id                                           comments  \\\n",
       "0  0000997932d777bf  explanation edit username hardcore metallica f...   \n",
       "1  000103f0d9cfb60f  d aww match background colour seemingly stick ...   \n",
       "2  000113f07ec002fd  hey man not try edit war guy constantly remove...   \n",
       "3  0001b41b1c6bb37e  not real suggestions improvement wonder sectio...   \n",
       "4  0001d958c54c6e35                      sir hero chance remember page   \n",
       "\n",
       "       Toxic  \n",
       "0  Non-Toxic  \n",
       "1  Non-Toxic  \n",
       "2  Non-Toxic  \n",
       "3  Non-Toxic  \n",
       "4  Non-Toxic  "
      ]
     },
     "execution_count": 45,
     "metadata": {},
     "output_type": "execute_result"
    }
   ],
   "source": [
    "df.head()"
   ]
  },
  {
   "cell_type": "code",
   "execution_count": 46,
   "id": "810b85f7",
   "metadata": {},
   "outputs": [
    {
     "data": {
      "text/plain": [
       "id          0\n",
       "comments    0\n",
       "Toxic       0\n",
       "dtype: int64"
      ]
     },
     "execution_count": 46,
     "metadata": {},
     "output_type": "execute_result"
    }
   ],
   "source": [
    "df.isnull().sum()"
   ]
  },
  {
   "cell_type": "code",
   "execution_count": 47,
   "id": "64a2be41",
   "metadata": {},
   "outputs": [
    {
     "data": {
      "text/plain": [
       "Non-Toxic    143346\n",
       "Toxic         16225\n",
       "Name: Toxic, dtype: int64"
      ]
     },
     "execution_count": 47,
     "metadata": {},
     "output_type": "execute_result"
    }
   ],
   "source": [
    "df[\"Toxic\"].value_counts()"
   ]
  },
  {
   "cell_type": "markdown",
   "id": "8c9fe857",
   "metadata": {},
   "source": [
    "- Under sampling of the non-toxic data, as the comments of longer length are moslty clean and donot contains the less amount of data.So removed the comments whose length >50.\n",
    "\n",
    "- And somehow it improves the F1 score by little undersmapling..."
   ]
  },
  {
   "cell_type": "code",
   "execution_count": 48,
   "id": "bdb39b01",
   "metadata": {},
   "outputs": [],
   "source": [
    "#as most of comments larger are clean so we are undersampling\n",
    "\n",
    "df = df[df.comments.str.len()<400]"
   ]
  },
  {
   "cell_type": "code",
   "execution_count": 49,
   "id": "f6dc0cb5",
   "metadata": {},
   "outputs": [
    {
     "data": {
      "text/html": [
       "<div>\n",
       "<style scoped>\n",
       "    .dataframe tbody tr th:only-of-type {\n",
       "        vertical-align: middle;\n",
       "    }\n",
       "\n",
       "    .dataframe tbody tr th {\n",
       "        vertical-align: top;\n",
       "    }\n",
       "\n",
       "    .dataframe thead th {\n",
       "        text-align: right;\n",
       "    }\n",
       "</style>\n",
       "<table border=\"1\" class=\"dataframe\">\n",
       "  <thead>\n",
       "    <tr style=\"text-align: right;\">\n",
       "      <th></th>\n",
       "      <th>id</th>\n",
       "      <th>comments</th>\n",
       "      <th>Toxic</th>\n",
       "    </tr>\n",
       "  </thead>\n",
       "  <tbody>\n",
       "    <tr>\n",
       "      <th>0</th>\n",
       "      <td>0000997932d777bf</td>\n",
       "      <td>explanation edit username hardcore metallica f...</td>\n",
       "      <td>Non-Toxic</td>\n",
       "    </tr>\n",
       "    <tr>\n",
       "      <th>1</th>\n",
       "      <td>000103f0d9cfb60f</td>\n",
       "      <td>d aww match background colour seemingly stick ...</td>\n",
       "      <td>Non-Toxic</td>\n",
       "    </tr>\n",
       "    <tr>\n",
       "      <th>2</th>\n",
       "      <td>000113f07ec002fd</td>\n",
       "      <td>hey man not try edit war guy constantly remove...</td>\n",
       "      <td>Non-Toxic</td>\n",
       "    </tr>\n",
       "    <tr>\n",
       "      <th>3</th>\n",
       "      <td>0001b41b1c6bb37e</td>\n",
       "      <td>not real suggestions improvement wonder sectio...</td>\n",
       "      <td>Non-Toxic</td>\n",
       "    </tr>\n",
       "    <tr>\n",
       "      <th>4</th>\n",
       "      <td>0001d958c54c6e35</td>\n",
       "      <td>sir hero chance remember page</td>\n",
       "      <td>Non-Toxic</td>\n",
       "    </tr>\n",
       "  </tbody>\n",
       "</table>\n",
       "</div>"
      ],
      "text/plain": [
       "                 id                                           comments  \\\n",
       "0  0000997932d777bf  explanation edit username hardcore metallica f...   \n",
       "1  000103f0d9cfb60f  d aww match background colour seemingly stick ...   \n",
       "2  000113f07ec002fd  hey man not try edit war guy constantly remove...   \n",
       "3  0001b41b1c6bb37e  not real suggestions improvement wonder sectio...   \n",
       "4  0001d958c54c6e35                      sir hero chance remember page   \n",
       "\n",
       "       Toxic  \n",
       "0  Non-Toxic  \n",
       "1  Non-Toxic  \n",
       "2  Non-Toxic  \n",
       "3  Non-Toxic  \n",
       "4  Non-Toxic  "
      ]
     },
     "execution_count": 49,
     "metadata": {},
     "output_type": "execute_result"
    }
   ],
   "source": [
    "df.head()"
   ]
  },
  {
   "cell_type": "code",
   "execution_count": 50,
   "id": "cee95cf9",
   "metadata": {},
   "outputs": [
    {
     "name": "stdout",
     "output_type": "stream",
     "text": [
      "Data shape after removing the comments (138412, 3)\n"
     ]
    }
   ],
   "source": [
    "print(\"Data shape after removing the comments\",df.shape)"
   ]
  },
  {
   "cell_type": "markdown",
   "id": "a1648c51",
   "metadata": {},
   "source": [
    "### Feature engineering"
   ]
  },
  {
   "cell_type": "code",
   "execution_count": 51,
   "id": "d9965439",
   "metadata": {},
   "outputs": [
    {
     "data": {
      "text/html": [
       "<div>\n",
       "<style scoped>\n",
       "    .dataframe tbody tr th:only-of-type {\n",
       "        vertical-align: middle;\n",
       "    }\n",
       "\n",
       "    .dataframe tbody tr th {\n",
       "        vertical-align: top;\n",
       "    }\n",
       "\n",
       "    .dataframe thead th {\n",
       "        text-align: right;\n",
       "    }\n",
       "</style>\n",
       "<table border=\"1\" class=\"dataframe\">\n",
       "  <thead>\n",
       "    <tr style=\"text-align: right;\">\n",
       "      <th></th>\n",
       "      <th>id</th>\n",
       "      <th>comments</th>\n",
       "      <th>Toxic</th>\n",
       "    </tr>\n",
       "  </thead>\n",
       "  <tbody>\n",
       "    <tr>\n",
       "      <th>0</th>\n",
       "      <td>0000997932d777bf</td>\n",
       "      <td>explanation edit username hardcore metallica f...</td>\n",
       "      <td>Non-Toxic</td>\n",
       "    </tr>\n",
       "    <tr>\n",
       "      <th>1</th>\n",
       "      <td>000103f0d9cfb60f</td>\n",
       "      <td>d aww match background colour seemingly stick ...</td>\n",
       "      <td>Non-Toxic</td>\n",
       "    </tr>\n",
       "    <tr>\n",
       "      <th>2</th>\n",
       "      <td>000113f07ec002fd</td>\n",
       "      <td>hey man not try edit war guy constantly remove...</td>\n",
       "      <td>Non-Toxic</td>\n",
       "    </tr>\n",
       "    <tr>\n",
       "      <th>3</th>\n",
       "      <td>0001b41b1c6bb37e</td>\n",
       "      <td>not real suggestions improvement wonder sectio...</td>\n",
       "      <td>Non-Toxic</td>\n",
       "    </tr>\n",
       "    <tr>\n",
       "      <th>4</th>\n",
       "      <td>0001d958c54c6e35</td>\n",
       "      <td>sir hero chance remember page</td>\n",
       "      <td>Non-Toxic</td>\n",
       "    </tr>\n",
       "  </tbody>\n",
       "</table>\n",
       "</div>"
      ],
      "text/plain": [
       "                 id                                           comments  \\\n",
       "0  0000997932d777bf  explanation edit username hardcore metallica f...   \n",
       "1  000103f0d9cfb60f  d aww match background colour seemingly stick ...   \n",
       "2  000113f07ec002fd  hey man not try edit war guy constantly remove...   \n",
       "3  0001b41b1c6bb37e  not real suggestions improvement wonder sectio...   \n",
       "4  0001d958c54c6e35                      sir hero chance remember page   \n",
       "\n",
       "       Toxic  \n",
       "0  Non-Toxic  \n",
       "1  Non-Toxic  \n",
       "2  Non-Toxic  \n",
       "3  Non-Toxic  \n",
       "4  Non-Toxic  "
      ]
     },
     "execution_count": 51,
     "metadata": {},
     "output_type": "execute_result"
    }
   ],
   "source": [
    "df.head()"
   ]
  },
  {
   "cell_type": "code",
   "execution_count": 52,
   "id": "3a993af1",
   "metadata": {},
   "outputs": [],
   "source": [
    "# Dropping the id column\n",
    "df = df.drop(\"id\",axis=1)"
   ]
  },
  {
   "cell_type": "code",
   "execution_count": 53,
   "id": "a57f42c9",
   "metadata": {},
   "outputs": [
    {
     "data": {
      "text/html": [
       "<div>\n",
       "<style scoped>\n",
       "    .dataframe tbody tr th:only-of-type {\n",
       "        vertical-align: middle;\n",
       "    }\n",
       "\n",
       "    .dataframe tbody tr th {\n",
       "        vertical-align: top;\n",
       "    }\n",
       "\n",
       "    .dataframe thead th {\n",
       "        text-align: right;\n",
       "    }\n",
       "</style>\n",
       "<table border=\"1\" class=\"dataframe\">\n",
       "  <thead>\n",
       "    <tr style=\"text-align: right;\">\n",
       "      <th></th>\n",
       "      <th>comments</th>\n",
       "      <th>Toxic</th>\n",
       "    </tr>\n",
       "  </thead>\n",
       "  <tbody>\n",
       "    <tr>\n",
       "      <th>0</th>\n",
       "      <td>explanation edit username hardcore metallica f...</td>\n",
       "      <td>Non-Toxic</td>\n",
       "    </tr>\n",
       "    <tr>\n",
       "      <th>1</th>\n",
       "      <td>d aww match background colour seemingly stick ...</td>\n",
       "      <td>Non-Toxic</td>\n",
       "    </tr>\n",
       "    <tr>\n",
       "      <th>2</th>\n",
       "      <td>hey man not try edit war guy constantly remove...</td>\n",
       "      <td>Non-Toxic</td>\n",
       "    </tr>\n",
       "    <tr>\n",
       "      <th>3</th>\n",
       "      <td>not real suggestions improvement wonder sectio...</td>\n",
       "      <td>Non-Toxic</td>\n",
       "    </tr>\n",
       "    <tr>\n",
       "      <th>4</th>\n",
       "      <td>sir hero chance remember page</td>\n",
       "      <td>Non-Toxic</td>\n",
       "    </tr>\n",
       "  </tbody>\n",
       "</table>\n",
       "</div>"
      ],
      "text/plain": [
       "                                            comments      Toxic\n",
       "0  explanation edit username hardcore metallica f...  Non-Toxic\n",
       "1  d aww match background colour seemingly stick ...  Non-Toxic\n",
       "2  hey man not try edit war guy constantly remove...  Non-Toxic\n",
       "3  not real suggestions improvement wonder sectio...  Non-Toxic\n",
       "4                      sir hero chance remember page  Non-Toxic"
      ]
     },
     "execution_count": 53,
     "metadata": {},
     "output_type": "execute_result"
    }
   ],
   "source": [
    "df.head()"
   ]
  },
  {
   "cell_type": "code",
   "execution_count": 54,
   "id": "a1f86943",
   "metadata": {},
   "outputs": [
    {
     "data": {
      "text/plain": [
       "Non-Toxic    123418\n",
       "Toxic         14994\n",
       "Name: Toxic, dtype: int64"
      ]
     },
     "execution_count": 54,
     "metadata": {},
     "output_type": "execute_result"
    }
   ],
   "source": [
    "df[\"Toxic\"].value_counts()"
   ]
  },
  {
   "cell_type": "code",
   "execution_count": 55,
   "id": "171ca26d",
   "metadata": {},
   "outputs": [],
   "source": [
    "X = df[['comments']]\n",
    "y = df[['Toxic']]"
   ]
  },
  {
   "cell_type": "code",
   "execution_count": 56,
   "id": "643dfd26",
   "metadata": {},
   "outputs": [
    {
     "data": {
      "text/html": [
       "<div>\n",
       "<style scoped>\n",
       "    .dataframe tbody tr th:only-of-type {\n",
       "        vertical-align: middle;\n",
       "    }\n",
       "\n",
       "    .dataframe tbody tr th {\n",
       "        vertical-align: top;\n",
       "    }\n",
       "\n",
       "    .dataframe thead th {\n",
       "        text-align: right;\n",
       "    }\n",
       "</style>\n",
       "<table border=\"1\" class=\"dataframe\">\n",
       "  <thead>\n",
       "    <tr style=\"text-align: right;\">\n",
       "      <th></th>\n",
       "      <th>comments</th>\n",
       "    </tr>\n",
       "  </thead>\n",
       "  <tbody>\n",
       "    <tr>\n",
       "      <th>0</th>\n",
       "      <td>explanation edit username hardcore metallica f...</td>\n",
       "    </tr>\n",
       "    <tr>\n",
       "      <th>1</th>\n",
       "      <td>d aww match background colour seemingly stick ...</td>\n",
       "    </tr>\n",
       "    <tr>\n",
       "      <th>2</th>\n",
       "      <td>hey man not try edit war guy constantly remove...</td>\n",
       "    </tr>\n",
       "    <tr>\n",
       "      <th>3</th>\n",
       "      <td>not real suggestions improvement wonder sectio...</td>\n",
       "    </tr>\n",
       "    <tr>\n",
       "      <th>4</th>\n",
       "      <td>sir hero chance remember page</td>\n",
       "    </tr>\n",
       "  </tbody>\n",
       "</table>\n",
       "</div>"
      ],
      "text/plain": [
       "                                            comments\n",
       "0  explanation edit username hardcore metallica f...\n",
       "1  d aww match background colour seemingly stick ...\n",
       "2  hey man not try edit war guy constantly remove...\n",
       "3  not real suggestions improvement wonder sectio...\n",
       "4                      sir hero chance remember page"
      ]
     },
     "execution_count": 56,
     "metadata": {},
     "output_type": "execute_result"
    }
   ],
   "source": [
    "X.head()"
   ]
  },
  {
   "cell_type": "code",
   "execution_count": 57,
   "id": "90b2f11f",
   "metadata": {},
   "outputs": [
    {
     "data": {
      "text/html": [
       "<div>\n",
       "<style scoped>\n",
       "    .dataframe tbody tr th:only-of-type {\n",
       "        vertical-align: middle;\n",
       "    }\n",
       "\n",
       "    .dataframe tbody tr th {\n",
       "        vertical-align: top;\n",
       "    }\n",
       "\n",
       "    .dataframe thead th {\n",
       "        text-align: right;\n",
       "    }\n",
       "</style>\n",
       "<table border=\"1\" class=\"dataframe\">\n",
       "  <thead>\n",
       "    <tr style=\"text-align: right;\">\n",
       "      <th></th>\n",
       "      <th>Toxic</th>\n",
       "    </tr>\n",
       "  </thead>\n",
       "  <tbody>\n",
       "    <tr>\n",
       "      <th>0</th>\n",
       "      <td>Non-Toxic</td>\n",
       "    </tr>\n",
       "    <tr>\n",
       "      <th>1</th>\n",
       "      <td>Non-Toxic</td>\n",
       "    </tr>\n",
       "    <tr>\n",
       "      <th>2</th>\n",
       "      <td>Non-Toxic</td>\n",
       "    </tr>\n",
       "    <tr>\n",
       "      <th>3</th>\n",
       "      <td>Non-Toxic</td>\n",
       "    </tr>\n",
       "    <tr>\n",
       "      <th>4</th>\n",
       "      <td>Non-Toxic</td>\n",
       "    </tr>\n",
       "  </tbody>\n",
       "</table>\n",
       "</div>"
      ],
      "text/plain": [
       "       Toxic\n",
       "0  Non-Toxic\n",
       "1  Non-Toxic\n",
       "2  Non-Toxic\n",
       "3  Non-Toxic\n",
       "4  Non-Toxic"
      ]
     },
     "execution_count": 57,
     "metadata": {},
     "output_type": "execute_result"
    }
   ],
   "source": [
    "y.head()"
   ]
  },
  {
   "cell_type": "code",
   "execution_count": 58,
   "id": "600478cf",
   "metadata": {},
   "outputs": [],
   "source": [
    "# Train Test Split\n",
    "\n",
    "from sklearn.model_selection import train_test_split\n",
    "\n",
    "X_train, X_test,y_train,y_test = train_test_split(X, y, test_size=0.20,random_state =0, shuffle =False)"
   ]
  },
  {
   "cell_type": "code",
   "execution_count": 59,
   "id": "83cab908",
   "metadata": {},
   "outputs": [
    {
     "data": {
      "text/plain": [
       "(110729, 1)"
      ]
     },
     "execution_count": 59,
     "metadata": {},
     "output_type": "execute_result"
    }
   ],
   "source": [
    "X_train.shape"
   ]
  },
  {
   "cell_type": "code",
   "execution_count": 60,
   "id": "e620e570",
   "metadata": {},
   "outputs": [
    {
     "data": {
      "text/plain": [
       "(27683, 1)"
      ]
     },
     "execution_count": 60,
     "metadata": {},
     "output_type": "execute_result"
    }
   ],
   "source": [
    "X_test.shape"
   ]
  },
  {
   "cell_type": "code",
   "execution_count": 61,
   "id": "d43d0e8c",
   "metadata": {},
   "outputs": [
    {
     "data": {
      "text/plain": [
       "(110729, 1)"
      ]
     },
     "execution_count": 61,
     "metadata": {},
     "output_type": "execute_result"
    }
   ],
   "source": [
    "y_train.shape"
   ]
  },
  {
   "cell_type": "code",
   "execution_count": 62,
   "id": "2e5601b8",
   "metadata": {},
   "outputs": [
    {
     "data": {
      "text/plain": [
       "(27683, 1)"
      ]
     },
     "execution_count": 62,
     "metadata": {},
     "output_type": "execute_result"
    }
   ],
   "source": [
    "y_test.shape"
   ]
  },
  {
   "cell_type": "code",
   "execution_count": 63,
   "id": "e2e55831",
   "metadata": {},
   "outputs": [],
   "source": [
    "# tfidf vectoriser has been used as it is far better than bag of words approach.\n",
    "\n",
    "from sklearn.feature_extraction.text import TfidfVectorizer\n",
    "\n",
    "tf = TfidfVectorizer(ngram_range=(1,2),min_df=3, max_df=0.9,use_idf=True,smooth_idf=1, sublinear_tf=1 )"
   ]
  },
  {
   "cell_type": "code",
   "execution_count": 64,
   "id": "a807c4e2",
   "metadata": {},
   "outputs": [],
   "source": [
    "train = tf.fit_transform(X_train['comments'])"
   ]
  },
  {
   "cell_type": "code",
   "execution_count": 65,
   "id": "95e395b3",
   "metadata": {},
   "outputs": [],
   "source": [
    "test = tf.transform(X_test['comments'])"
   ]
  },
  {
   "cell_type": "code",
   "execution_count": 66,
   "id": "4f380059",
   "metadata": {},
   "outputs": [
    {
     "name": "stdout",
     "output_type": "stream",
     "text": [
      "Comments Dimensions: (110729, 108893)\n",
      "Non-Zeros: (array([0, 0, 0, 0, 0, 0, 0, 0, 0, 0, 0, 0, 0, 0, 0, 0, 0, 0, 0, 0, 0, 0,\n",
      "       0, 0, 0, 0, 0, 0, 0, 0, 0, 0, 0, 0]), array([ 67572,  92705,  93520,  78649,  63289,  31166,  60282,  63758,\n",
      "        80213,  57015,  39521,  27860,  30906,  79960,  66790,  92452,\n",
      "        93427,  78321,  31160,  26104, 108632,  60039, 102315,  35801,\n",
      "        16756, 101323,  61619,  80060,  31933,  57014,  39519, 100531,\n",
      "        27134,  30899]))\n"
     ]
    }
   ],
   "source": [
    "print(\"Comments Dimensions:\",train.shape)\n",
    "print(\"Non-Zeros:\",train[0].nonzero())"
   ]
  },
  {
   "cell_type": "code",
   "execution_count": 67,
   "id": "3923a508",
   "metadata": {},
   "outputs": [
    {
     "name": "stdout",
     "output_type": "stream",
     "text": [
      "Comments Dimensions: (27683, 108893)\n",
      "Non-Zeros: (array([0, 0, 0, 0, 0, 0, 0]), array([95940, 59303, 54465, 32857, 28889, 10790,  7950]))\n"
     ]
    }
   ],
   "source": [
    "test = tf.transform(X_test['comments'])\n",
    "print(\"Comments Dimensions:\",test.shape)\n",
    "print(\"Non-Zeros:\",test[0].nonzero())"
   ]
  },
  {
   "cell_type": "markdown",
   "id": "cb115cbf",
   "metadata": {},
   "source": [
    "#### SMOTE (Oversampling)"
   ]
  },
  {
   "cell_type": "markdown",
   "id": "764636f7",
   "metadata": {},
   "source": [
    "Applying SMOTE for the sythetic data points generation beacuse of the class imbalacing problem..."
   ]
  },
  {
   "cell_type": "code",
   "execution_count": 68,
   "id": "4dec1357",
   "metadata": {},
   "outputs": [],
   "source": [
    "y = y_train.to_numpy()"
   ]
  },
  {
   "cell_type": "code",
   "execution_count": 69,
   "id": "46b1d389",
   "metadata": {},
   "outputs": [
    {
     "data": {
      "text/plain": [
       "array([['Non-Toxic'],\n",
       "       ['Non-Toxic'],\n",
       "       ['Non-Toxic'],\n",
       "       ...,\n",
       "       ['Non-Toxic'],\n",
       "       ['Non-Toxic'],\n",
       "       ['Non-Toxic']], dtype=object)"
      ]
     },
     "execution_count": 69,
     "metadata": {},
     "output_type": "execute_result"
    }
   ],
   "source": [
    "y"
   ]
  },
  {
   "cell_type": "code",
   "execution_count": 70,
   "id": "a28922ae",
   "metadata": {},
   "outputs": [],
   "source": [
    "# applying the smote to the miority class only.\n",
    "\n",
    "sm = SMOTE(random_state=10,sampling_strategy='minority',k_neighbors=15,n_jobs=-1)\n",
    "\n",
    "sam_train, sam_y = sm.fit_resample(train, y.ravel())  #train is tfidf output maxtrix and y is numpy.ndarray()"
   ]
  },
  {
   "cell_type": "code",
   "execution_count": 71,
   "id": "e9d0de28",
   "metadata": {},
   "outputs": [
    {
     "name": "stdout",
     "output_type": "stream",
     "text": [
      "(197432, 108893)\n",
      "(197432,)\n"
     ]
    }
   ],
   "source": [
    "#printing the shapes of the resampled x and y\n",
    "print(sam_train.shape)\n",
    "print(sam_y.shape)"
   ]
  },
  {
   "cell_type": "markdown",
   "id": "66c8dbe2",
   "metadata": {},
   "source": [
    "### Machine Learning"
   ]
  },
  {
   "cell_type": "markdown",
   "id": "f557fbf7",
   "metadata": {},
   "source": [
    "#### Logistic Regression"
   ]
  },
  {
   "cell_type": "code",
   "execution_count": 72,
   "id": "1cf953aa",
   "metadata": {},
   "outputs": [
    {
     "name": "stdout",
     "output_type": "stream",
     "text": [
      "Fitting 5 folds for each of 12 candidates, totalling 60 fits\n"
     ]
    }
   ],
   "source": [
    "# Hyperparameter tunning using Grid Search CV'''\n",
    "\n",
    "model = LogisticRegression(class_weight='balanced')\n",
    "penalty = ['l2','l1']\n",
    "c_values = [10, 1.0, 0.1]\n",
    "solvers = ['lbfgs', 'sag']\n",
    "\n",
    "# define grid search\n",
    "grid = dict(solver=solvers,penalty=penalty,C=c_values)\n",
    "grid_search = GridSearchCV(estimator=model, param_grid=grid, n_jobs=-1,\n",
    "                           cv=5,verbose=1, scoring='f1_macro',error_score=0)\n",
    "\n",
    "grid_result = grid_search.fit(sam_train, sam_y)"
   ]
  },
  {
   "cell_type": "code",
   "execution_count": 73,
   "id": "33c19fce",
   "metadata": {},
   "outputs": [
    {
     "name": "stdout",
     "output_type": "stream",
     "text": [
      "Best params are: {'C': 10, 'penalty': 'l2', 'solver': 'lbfgs'}\n"
     ]
    }
   ],
   "source": [
    "print(\"Best params are:\",grid_result.best_params_)"
   ]
  },
  {
   "cell_type": "code",
   "execution_count": 74,
   "id": "156ec10a",
   "metadata": {},
   "outputs": [
    {
     "name": "stdout",
     "output_type": "stream",
     "text": [
      "Best estimators are: LogisticRegression(C=10, class_weight='balanced')\n"
     ]
    }
   ],
   "source": [
    "print(\"Best estimators are:\",grid_result.best_estimator_)"
   ]
  },
  {
   "cell_type": "code",
   "execution_count": 75,
   "id": "d3039363",
   "metadata": {},
   "outputs": [],
   "source": [
    "#predciting the test set...\n",
    "best = grid_result.best_estimator_.predict(test)\n",
    "pre = grid_result.predict(test)"
   ]
  },
  {
   "cell_type": "code",
   "execution_count": 76,
   "id": "4ee1e52d",
   "metadata": {},
   "outputs": [
    {
     "name": "stdout",
     "output_type": "stream",
     "text": [
      "Accuracy on test set is: 0.93\n"
     ]
    }
   ],
   "source": [
    "print(\"Accuracy on test set is: %.2f\"%accuracy_score(pre, y_test))"
   ]
  },
  {
   "cell_type": "markdown",
   "id": "71b85ef7",
   "metadata": {},
   "source": [
    "#### Classification report & Confusion matrix"
   ]
  },
  {
   "cell_type": "code",
   "execution_count": 77,
   "id": "4f740d7e",
   "metadata": {},
   "outputs": [
    {
     "name": "stdout",
     "output_type": "stream",
     "text": [
      "Classification Report....\n",
      "              precision    recall  f1-score   support\n",
      "\n",
      "           0       0.97      0.95      0.96     24702\n",
      "           1       0.65      0.78      0.71      2981\n",
      "\n",
      "    accuracy                           0.93     27683\n",
      "   macro avg       0.81      0.87      0.83     27683\n",
      "weighted avg       0.94      0.93      0.93     27683\n",
      "\n"
     ]
    }
   ],
   "source": [
    "print(\"Classification Report....\")\n",
    "target_names = ['0','1']\n",
    "print(classification_report(y_test, pre, target_names=target_names))"
   ]
  },
  {
   "cell_type": "markdown",
   "id": "db999241",
   "metadata": {},
   "source": [
    "F1- Score with Logistic regression is 0.96 for non-toxic and 0.71 for toxic"
   ]
  },
  {
   "cell_type": "code",
   "execution_count": 78,
   "id": "5b4fe9d8",
   "metadata": {},
   "outputs": [
    {
     "name": "stdout",
     "output_type": "stream",
     "text": [
      "F1-score for logistic regression is: 0.8343869356894433\n"
     ]
    }
   ],
   "source": [
    "print(\"F1-score for logistic regression is:\",f1_score(y_test, pre, average='macro'))"
   ]
  },
  {
   "cell_type": "code",
   "execution_count": 79,
   "id": "3f4694d7",
   "metadata": {},
   "outputs": [],
   "source": [
    "# confusion matrix function\n",
    "def conf_mat(true,pred):\n",
    "    labels = ['Non-Toxic', 'Toxic']\n",
    "    cm = confusion_matrix(y_test, pred, labels)\n",
    "    ax= plt.subplot()\n",
    "    sns.heatmap(cm, annot=True,cmap=\"summer\",fmt='g', ax = ax) \n",
    "    ax.set_title('Confusion Matrix'); \n",
    "    ax.xaxis.set_ticklabels(labels); ax.yaxis.set_ticklabels(labels);"
   ]
  },
  {
   "cell_type": "code",
   "execution_count": 80,
   "id": "06ca9244",
   "metadata": {},
   "outputs": [
    {
     "data": {
      "image/png": "[encoded data removed]",
      "text/plain": [
       "<Figure size 432x288 with 2 Axes>"
      ]
     },
     "metadata": {
      "needs_background": "light"
     },
     "output_type": "display_data"
    }
   ],
   "source": [
    "conf_mat(y_test,pre)"
   ]
  },
  {
   "cell_type": "code",
   "execution_count": 81,
   "id": "2319fec1",
   "metadata": {},
   "outputs": [],
   "source": [
    "# Saving the model\n",
    "\n",
    "with open(\"model_toxic_LR\",\"wb\") as f:\n",
    "    \n",
    "    pickle.dump(grid_result,f)"
   ]
  },
  {
   "cell_type": "markdown",
   "id": "4a0b91fe",
   "metadata": {},
   "source": [
    "### Random Forest"
   ]
  },
  {
   "cell_type": "code",
   "execution_count": 82,
   "id": "57d6a5f9",
   "metadata": {},
   "outputs": [
    {
     "name": "stdout",
     "output_type": "stream",
     "text": [
      "Fitting 5 folds for each of 2 candidates, totalling 10 fits\n"
     ]
    }
   ],
   "source": [
    "# Hyperparameter tunning using Grid Search CV\n",
    "\n",
    "params ={'min_samples_leaf': [5],'min_samples_split': [12],'n_estimators': [100,150]}\n",
    "\n",
    "model = GridSearchCV(RandomForestClassifier(oob_score=True,n_jobs=-1), param_grid=params,cv=5, n_jobs=-1, \n",
    "                     scoring='f1_macro',return_train_score=True,verbose=1)\n",
    "model = model.fit(sam_train, sam_y)"
   ]
  },
  {
   "cell_type": "code",
   "execution_count": 83,
   "id": "eb6b0aba",
   "metadata": {},
   "outputs": [
    {
     "name": "stdout",
     "output_type": "stream",
     "text": [
      "Best params are: {'min_samples_leaf': 5, 'min_samples_split': 12, 'n_estimators': 150}\n"
     ]
    }
   ],
   "source": [
    "print(\"Best params are:\",model.best_params_)"
   ]
  },
  {
   "cell_type": "code",
   "execution_count": 84,
   "id": "096fbd0a",
   "metadata": {},
   "outputs": [
    {
     "name": "stdout",
     "output_type": "stream",
     "text": [
      "Best estimators are: RandomForestClassifier(min_samples_leaf=5, min_samples_split=12,\n",
      "                       n_estimators=150, n_jobs=-1, oob_score=True)\n"
     ]
    }
   ],
   "source": [
    "print(\"Best estimators are:\",model.best_estimator_)"
   ]
  },
  {
   "cell_type": "code",
   "execution_count": 85,
   "id": "ecc6d029",
   "metadata": {},
   "outputs": [
    {
     "name": "stdout",
     "output_type": "stream",
     "text": [
      "Best score is: 0.9183544023942328\n"
     ]
    }
   ],
   "source": [
    "print(\"Best score is:\",model.best_score_)"
   ]
  },
  {
   "cell_type": "code",
   "execution_count": 86,
   "id": "a8f832c3",
   "metadata": {},
   "outputs": [],
   "source": [
    "#generating the predicted results\n",
    "pred = model.best_estimator_.predict(test)"
   ]
  },
  {
   "cell_type": "code",
   "execution_count": 87,
   "id": "ab5935d0",
   "metadata": {},
   "outputs": [
    {
     "name": "stdout",
     "output_type": "stream",
     "text": [
      "Accuracy on test set is: 0.94\n"
     ]
    }
   ],
   "source": [
    "print(\"Accuracy on test set is: %.2f\"%accuracy_score(pred, y_test))"
   ]
  },
  {
   "cell_type": "markdown",
   "id": "0163f1c2",
   "metadata": {},
   "source": [
    "- Classification report & Confusion matrix\n",
    "\n",
    "\n",
    "- F1- Score with Random forest is 0.96 for non-toxic and 0.67 for toxic, which is less than Logistic regression"
   ]
  },
  {
   "cell_type": "code",
   "execution_count": 88,
   "id": "90e2e2d9",
   "metadata": {},
   "outputs": [
    {
     "name": "stdout",
     "output_type": "stream",
     "text": [
      "Classification Report....\n",
      "              precision    recall  f1-score   support\n",
      "\n",
      "           0       0.96      0.98      0.97     24702\n",
      "           1       0.76      0.63      0.69      2981\n",
      "\n",
      "    accuracy                           0.94     27683\n",
      "   macro avg       0.86      0.80      0.83     27683\n",
      "weighted avg       0.94      0.94      0.94     27683\n",
      "\n"
     ]
    }
   ],
   "source": [
    "print(\"Classification Report....\")\n",
    "target_names = ['0','1']\n",
    "print(classification_report(y_test, pred, target_names=target_names))"
   ]
  },
  {
   "cell_type": "code",
   "execution_count": 89,
   "id": "7a473a94",
   "metadata": {},
   "outputs": [
    {
     "name": "stdout",
     "output_type": "stream",
     "text": [
      "F1-score for Random Forest is:\n"
     ]
    },
    {
     "data": {
      "text/plain": [
       "0.827584197009162"
      ]
     },
     "execution_count": 89,
     "metadata": {},
     "output_type": "execute_result"
    }
   ],
   "source": [
    "print(\"F1-score for Random Forest is:\")\n",
    "\n",
    "f1_score(y_test, pred, average='macro')"
   ]
  },
  {
   "cell_type": "code",
   "execution_count": 90,
   "id": "4ca9a378",
   "metadata": {},
   "outputs": [
    {
     "data": {
      "image/png": "[encoded data removed]",
      "text/plain": [
       "<Figure size 432x288 with 2 Axes>"
      ]
     },
     "metadata": {
      "needs_background": "light"
     },
     "output_type": "display_data"
    }
   ],
   "source": [
    "conf_mat(y_test,pred)"
   ]
  },
  {
   "cell_type": "code",
   "execution_count": 91,
   "id": "e97e2328",
   "metadata": {},
   "outputs": [],
   "source": [
    "# Saving the model\n",
    "\n",
    "with open(\"model_toxic_RFR.pkl\",\"wb\") as f:\n",
    "    \n",
    "    pickle.dump(model,f)"
   ]
  },
  {
   "cell_type": "markdown",
   "id": "aeab628e",
   "metadata": {},
   "source": [
    "### Linear SVC"
   ]
  },
  {
   "cell_type": "code",
   "execution_count": 92,
   "id": "07af6058",
   "metadata": {},
   "outputs": [
    {
     "name": "stdout",
     "output_type": "stream",
     "text": [
      "Fitting 5 folds for each of 16 candidates, totalling 80 fits\n"
     ]
    }
   ],
   "source": [
    "from sklearn.svm import LinearSVC\n",
    "\n",
    "#Hyperparameter tunning using Grid Search CV\n",
    "\n",
    "params ={'C': [0.01,0.1,1.0,10],'max_iter': [1000,1500],'dual':[True,False]}\n",
    "\n",
    "clf = GridSearchCV(LinearSVC(class_weight='balanced'), param_grid=params,cv=5, n_jobs=-1, \n",
    "                     scoring='f1_macro',return_train_score=True,verbose=1)\n",
    "\n",
    "clf = clf.fit(sam_train, sam_y)"
   ]
  },
  {
   "cell_type": "code",
   "execution_count": 93,
   "id": "2cbbe70b",
   "metadata": {},
   "outputs": [
    {
     "name": "stdout",
     "output_type": "stream",
     "text": [
      "Best params are: {'C': 10, 'dual': True, 'max_iter': 1000}\n"
     ]
    }
   ],
   "source": [
    "print(\"Best params are:\",clf.best_params_)"
   ]
  },
  {
   "cell_type": "code",
   "execution_count": 94,
   "id": "cf9cc3af",
   "metadata": {},
   "outputs": [
    {
     "name": "stdout",
     "output_type": "stream",
     "text": [
      "Best estimators are: LinearSVC(C=10, class_weight='balanced')\n"
     ]
    }
   ],
   "source": [
    "print(\"Best estimators are:\",clf.best_estimator_)"
   ]
  },
  {
   "cell_type": "code",
   "execution_count": 95,
   "id": "84c5284a",
   "metadata": {},
   "outputs": [
    {
     "name": "stdout",
     "output_type": "stream",
     "text": [
      "Best score is: 0.9653922645133395\n"
     ]
    }
   ],
   "source": [
    "print(\"Best score is:\",clf.best_score_)"
   ]
  },
  {
   "cell_type": "code",
   "execution_count": 96,
   "id": "c0c545a2",
   "metadata": {},
   "outputs": [],
   "source": [
    "svc_pred = clf.best_estimator_.predict(test)"
   ]
  },
  {
   "cell_type": "code",
   "execution_count": 97,
   "id": "519b13e7",
   "metadata": {},
   "outputs": [
    {
     "name": "stdout",
     "output_type": "stream",
     "text": [
      "Accuracy on test set is: 0.92\n"
     ]
    }
   ],
   "source": [
    "print(\"Accuracy on test set is: %.2f\"%accuracy_score(svc_pred, y_test))"
   ]
  },
  {
   "cell_type": "markdown",
   "id": "2f82f685",
   "metadata": {},
   "source": [
    "- Classification report & Confusion matrix\n",
    "\n",
    "\n",
    "- F1- Score with Linear SVC is 0.95 for non-toxic and 0.67 for toxic"
   ]
  },
  {
   "cell_type": "code",
   "execution_count": 98,
   "id": "1690e9ac",
   "metadata": {},
   "outputs": [
    {
     "name": "stdout",
     "output_type": "stream",
     "text": [
      "Classification Report....\n",
      "              precision    recall  f1-score   support\n",
      "\n",
      "           0       0.97      0.94      0.95     24702\n",
      "           1       0.61      0.74      0.67      2981\n",
      "\n",
      "    accuracy                           0.92     27683\n",
      "   macro avg       0.79      0.84      0.81     27683\n",
      "weighted avg       0.93      0.92      0.92     27683\n",
      "\n"
     ]
    }
   ],
   "source": [
    "print(\"Classification Report....\")\n",
    "target_names = ['0','1']\n",
    "print(classification_report(y_test, svc_pred, target_names=target_names))"
   ]
  },
  {
   "cell_type": "code",
   "execution_count": 99,
   "id": "4718f9e9",
   "metadata": {},
   "outputs": [
    {
     "name": "stdout",
     "output_type": "stream",
     "text": [
      "F1-score for SVC is:\n"
     ]
    },
    {
     "data": {
      "text/plain": [
       "0.827584197009162"
      ]
     },
     "execution_count": 99,
     "metadata": {},
     "output_type": "execute_result"
    }
   ],
   "source": [
    "print(\"F1-score for SVC is:\")\n",
    "f1_score(y_test, pred, average='macro')"
   ]
  },
  {
   "cell_type": "code",
   "execution_count": 100,
   "id": "42fb55ae",
   "metadata": {},
   "outputs": [
    {
     "data": {
      "image/png": "[encoded data removed]",
      "text/plain": [
       "<Figure size 432x288 with 2 Axes>"
      ]
     },
     "metadata": {
      "needs_background": "light"
     },
     "output_type": "display_data"
    }
   ],
   "source": [
    "conf_mat(y_test,svc_pred)"
   ]
  },
  {
   "cell_type": "code",
   "execution_count": 101,
   "id": "55e34b7f",
   "metadata": {},
   "outputs": [],
   "source": [
    "# Saving the model\n",
    "\n",
    "with open(\"model_toxic_SVC.pkl\",\"wb\") as f:\n",
    "    \n",
    "    pickle.dump(clf,f)"
   ]
  },
  {
   "cell_type": "markdown",
   "id": "8fbfa9a5",
   "metadata": {},
   "source": [
    "### Naive Bays"
   ]
  },
  {
   "cell_type": "code",
   "execution_count": 102,
   "id": "6e194ead",
   "metadata": {},
   "outputs": [
    {
     "name": "stdout",
     "output_type": "stream",
     "text": [
      "Fitting 5 folds for each of 2 candidates, totalling 10 fits\n"
     ]
    }
   ],
   "source": [
    "#Hyperparameter tunning using Grid Search CV\n",
    "\n",
    "params = {'alpha':[10,100]}\n",
    "nav = GridSearchCV(MultinomialNB(), param_grid=params,cv=5,n_jobs=-1,\n",
    "                   scoring='accuracy',verbose=1)\n",
    "nv = nav.fit(sam_train, sam_y)"
   ]
  },
  {
   "cell_type": "code",
   "execution_count": 103,
   "id": "3ea6a074",
   "metadata": {},
   "outputs": [
    {
     "name": "stdout",
     "output_type": "stream",
     "text": [
      "Best params are: {'alpha': 10}\n"
     ]
    }
   ],
   "source": [
    "print(\"Best params are:\",nav.best_params_)"
   ]
  },
  {
   "cell_type": "code",
   "execution_count": 104,
   "id": "d92591f2",
   "metadata": {},
   "outputs": [
    {
     "name": "stdout",
     "output_type": "stream",
     "text": [
      "Best estimators are: MultinomialNB(alpha=10)\n"
     ]
    }
   ],
   "source": [
    "print(\"Best estimators are:\",nav.best_estimator_)"
   ]
  },
  {
   "cell_type": "code",
   "execution_count": 105,
   "id": "5bff0cf1",
   "metadata": {},
   "outputs": [
    {
     "name": "stdout",
     "output_type": "stream",
     "text": [
      "Best score is: 0.8777655793860468\n"
     ]
    }
   ],
   "source": [
    "print(\"Best score is:\",nav.best_score_)"
   ]
  },
  {
   "cell_type": "code",
   "execution_count": 106,
   "id": "a5e5ec71",
   "metadata": {},
   "outputs": [],
   "source": [
    "pr =nv.best_estimator_.predict(test)"
   ]
  },
  {
   "cell_type": "code",
   "execution_count": 107,
   "id": "59d71d4c",
   "metadata": {},
   "outputs": [
    {
     "name": "stdout",
     "output_type": "stream",
     "text": [
      "Accuracy on test set is: 0.94\n"
     ]
    }
   ],
   "source": [
    "print(\"Accuracy on test set is: %.2f\"%accuracy_score(pr, y_test))"
   ]
  },
  {
   "cell_type": "markdown",
   "id": "11bbacdf",
   "metadata": {},
   "source": [
    "- Classification report & Confusion matrix\n",
    "\n",
    "\n",
    "- F1- Score with Naive bays is 0.96 for non-toxic and 0.72 for toxic and it is highest"
   ]
  },
  {
   "cell_type": "code",
   "execution_count": 108,
   "id": "e71e8783",
   "metadata": {},
   "outputs": [
    {
     "name": "stdout",
     "output_type": "stream",
     "text": [
      "Classification Report....\n",
      "              precision    recall  f1-score   support\n",
      "\n",
      "           0       0.97      0.96      0.97     24702\n",
      "           1       0.70      0.75      0.72      2981\n",
      "\n",
      "    accuracy                           0.94     27683\n",
      "   macro avg       0.84      0.85      0.84     27683\n",
      "weighted avg       0.94      0.94      0.94     27683\n",
      "\n"
     ]
    }
   ],
   "source": [
    "print(\"Classification Report....\")\n",
    "target_names = ['0','1']\n",
    "print(classification_report(y_test, pr, target_names=target_names))"
   ]
  },
  {
   "cell_type": "code",
   "execution_count": 109,
   "id": "a6156922",
   "metadata": {},
   "outputs": [
    {
     "data": {
      "image/png": "[encoded data removed]",
      "text/plain": [
       "<Figure size 432x288 with 2 Axes>"
      ]
     },
     "metadata": {
      "needs_background": "light"
     },
     "output_type": "display_data"
    }
   ],
   "source": [
    "conf_mat(y_test,pr)"
   ]
  },
  {
   "cell_type": "code",
   "execution_count": 110,
   "id": "6fa0ef2d",
   "metadata": {},
   "outputs": [
    {
     "name": "stdout",
     "output_type": "stream",
     "text": [
      "F1-Score of Naive Bays: 0.8441270406865529\n"
     ]
    }
   ],
   "source": [
    "print(\"F1-Score of Naive Bays:\",f1_score(y_test, pr, average='macro'))"
   ]
  },
  {
   "cell_type": "code",
   "execution_count": 111,
   "id": "c8647268",
   "metadata": {},
   "outputs": [],
   "source": [
    "# Saving the model\n",
    "\n",
    "with open(\"model_toxic_NB.pkl\",\"wb\") as f:\n",
    "    \n",
    "    pickle.dump(nav,f)"
   ]
  },
  {
   "cell_type": "markdown",
   "id": "b25d9212",
   "metadata": {},
   "source": [
    "### Testing"
   ]
  },
  {
   "cell_type": "code",
   "execution_count": 112,
   "id": "dbfb52d9",
   "metadata": {},
   "outputs": [],
   "source": [
    "df_test = pd.read_csv(\"test.csv\")"
   ]
  },
  {
   "cell_type": "code",
   "execution_count": 113,
   "id": "87015f90",
   "metadata": {},
   "outputs": [
    {
     "data": {
      "text/html": [
       "<div>\n",
       "<style scoped>\n",
       "    .dataframe tbody tr th:only-of-type {\n",
       "        vertical-align: middle;\n",
       "    }\n",
       "\n",
       "    .dataframe tbody tr th {\n",
       "        vertical-align: top;\n",
       "    }\n",
       "\n",
       "    .dataframe thead th {\n",
       "        text-align: right;\n",
       "    }\n",
       "</style>\n",
       "<table border=\"1\" class=\"dataframe\">\n",
       "  <thead>\n",
       "    <tr style=\"text-align: right;\">\n",
       "      <th></th>\n",
       "      <th>id</th>\n",
       "      <th>comment_text</th>\n",
       "    </tr>\n",
       "  </thead>\n",
       "  <tbody>\n",
       "    <tr>\n",
       "      <th>0</th>\n",
       "      <td>00001cee341fdb12</td>\n",
       "      <td>Yo bitch Ja Rule is more succesful then you'll...</td>\n",
       "    </tr>\n",
       "    <tr>\n",
       "      <th>1</th>\n",
       "      <td>0000247867823ef7</td>\n",
       "      <td>== From RfC == \\n\\n The title is fine as it is...</td>\n",
       "    </tr>\n",
       "    <tr>\n",
       "      <th>2</th>\n",
       "      <td>00013b17ad220c46</td>\n",
       "      <td>\" \\n\\n == Sources == \\n\\n * Zawe Ashton on Lap...</td>\n",
       "    </tr>\n",
       "    <tr>\n",
       "      <th>3</th>\n",
       "      <td>00017563c3f7919a</td>\n",
       "      <td>:If you have a look back at the source, the in...</td>\n",
       "    </tr>\n",
       "    <tr>\n",
       "      <th>4</th>\n",
       "      <td>00017695ad8997eb</td>\n",
       "      <td>I don't anonymously edit articles at all.</td>\n",
       "    </tr>\n",
       "  </tbody>\n",
       "</table>\n",
       "</div>"
      ],
      "text/plain": [
       "                 id                                       comment_text\n",
       "0  00001cee341fdb12  Yo bitch Ja Rule is more succesful then you'll...\n",
       "1  0000247867823ef7  == From RfC == \\n\\n The title is fine as it is...\n",
       "2  00013b17ad220c46  \" \\n\\n == Sources == \\n\\n * Zawe Ashton on Lap...\n",
       "3  00017563c3f7919a  :If you have a look back at the source, the in...\n",
       "4  00017695ad8997eb          I don't anonymously edit articles at all."
      ]
     },
     "execution_count": 113,
     "metadata": {},
     "output_type": "execute_result"
    }
   ],
   "source": [
    "df_test.head()"
   ]
  },
  {
   "cell_type": "code",
   "execution_count": 114,
   "id": "e691fd30",
   "metadata": {},
   "outputs": [],
   "source": [
    "with open(\"model_toxic_NB.pkl\",\"rb\") as f:\n",
    "    \n",
    "    toxic = pickle.load(f)"
   ]
  },
  {
   "cell_type": "code",
   "execution_count": 115,
   "id": "e2aab454",
   "metadata": {},
   "outputs": [],
   "source": [
    "# as above we used it inside function\n",
    "lm= WordNetLemmatizer()"
   ]
  },
  {
   "cell_type": "code",
   "execution_count": 116,
   "id": "58d9e08d",
   "metadata": {},
   "outputs": [],
   "source": [
    "#clean function\n",
    "\n",
    "def clean(text):\n",
    "    text = decontracted(text)\n",
    "    text = stripunc(text)\n",
    "    text = text.strip().lower()\n",
    "    text = text.split(\" \")\n",
    "    word= [\" \".join([lm.lemmatize(w,pos='v') for w in text if w not in stop_rots])]\n",
    "    text = tf.transform(word)\n",
    "    return text"
   ]
  },
  {
   "cell_type": "code",
   "execution_count": 117,
   "id": "4a8bc362",
   "metadata": {},
   "outputs": [
    {
     "data": {
      "text/plain": [
       "\"Yo bitch Ja Rule is more succesful then you'll ever be whats up with you and hating you sad mofuckas...i should bitch slap ur pethedic white faces and get you to kiss my ass you guys sicken me. Ja rule is about pride in da music man. dont diss that shit on him. and nothin is wrong bein like tupac he was a brother too...fuckin white boys get things right next time.,\""
      ]
     },
     "execution_count": 117,
     "metadata": {},
     "output_type": "execute_result"
    }
   ],
   "source": [
    "df_test[\"comment_text\"][0]"
   ]
  },
  {
   "cell_type": "code",
   "execution_count": 118,
   "id": "2d50bb76",
   "metadata": {},
   "outputs": [
    {
     "data": {
      "text/plain": [
       "array(['Toxic'], dtype='<U9')"
      ]
     },
     "execution_count": 118,
     "metadata": {},
     "output_type": "execute_result"
    }
   ],
   "source": [
    "toxic.predict(clean(df_test[\"comment_text\"][0]))"
   ]
  },
  {
   "cell_type": "code",
   "execution_count": 119,
   "id": "cf691b81",
   "metadata": {},
   "outputs": [],
   "source": [
    "# Creating a pickle file for the tfIdf \n",
    "pickle.dump(tf, open('tf-transform.pkl', 'wb'))"
   ]
  }
 ],
 "metadata": {
  "kernelspec": {
   "display_name": "Python 3 (ipykernel)",
   "language": "python",
   "name": "python3"
  },
  "language_info": {
   "codemirror_mode": {
    "name": "ipython",
    "version": 3
   },
   "file_extension": ".py",
   "mimetype": "text/x-python",
   "name": "python",
   "nbconvert_exporter": "python",
   "pygments_lexer": "ipython3",
   "version": "3.8.5"
  }
 },
 "nbformat": 4,
 "nbformat_minor": 5
}
