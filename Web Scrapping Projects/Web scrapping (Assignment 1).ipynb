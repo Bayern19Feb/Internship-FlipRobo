{
 "cells": [
  {
   "cell_type": "markdown",
   "metadata": {},
   "source": [
    "- In all the following questions, you have to use BeautifulSoup to scrape different websites and collect data as per the requirement of the question.\n",
    "\n",
    "\n",
    "- Every answer to the question should be in form of a python function which should take URL as the parameter. Use Jupyter Notebooks to program, upload it on your GitHub and send the link of the jupyter notebook to your SME."
   ]
  },
  {
   "cell_type": "code",
   "execution_count": 1,
   "metadata": {},
   "outputs": [
    {
     "data": {
      "text/html": [
       "<style type=\"text/css\">\n",
       "table.dataframe td, table.dataframe th {\n",
       "    border: 1px  black solid !important;\n",
       "  color: black !important;\n",
       "}\n",
       "</style>\n"
      ],
      "text/plain": [
       "<IPython.core.display.HTML object>"
      ]
     },
     "metadata": {},
     "output_type": "display_data"
    }
   ],
   "source": [
    "%%HTML\n",
    "<style type=\"text/css\">\n",
    "table.dataframe td, table.dataframe th {\n",
    "    border: 1px  black solid !important;\n",
    "  color: black !important;\n",
    "}\n",
    "</style>"
   ]
  },
  {
   "cell_type": "code",
   "execution_count": 2,
   "metadata": {},
   "outputs": [],
   "source": [
    "import requests\n",
    "import bs4\n",
    "import lxml"
   ]
  },
  {
   "cell_type": "markdown",
   "metadata": {},
   "source": [
    "#### Write a python program to display all the header tags from ‘en.wikipedia.org/wiki/Main_Page’."
   ]
  },
  {
   "cell_type": "code",
   "execution_count": 3,
   "metadata": {},
   "outputs": [],
   "source": [
    "def grab_header(url,tag):\n",
    "    \n",
    "    res = requests.get(url)\n",
    "    \n",
    "    soup = bs4.BeautifulSoup(res.text,\"lxml\")\n",
    "    \n",
    "    header = soup.select(tag)\n",
    "    \n",
    "    return header"
   ]
  },
  {
   "cell_type": "code",
   "execution_count": 4,
   "metadata": {},
   "outputs": [
    {
     "data": {
      "text/plain": [
       "[<h1 class=\"firstHeading\" id=\"firstHeading\">Main Page</h1>]"
      ]
     },
     "execution_count": 4,
     "metadata": {},
     "output_type": "execute_result"
    }
   ],
   "source": [
    "grab_header(\"https://en.wikipedia.org/wiki/Main_Page\",\"h1\")"
   ]
  },
  {
   "cell_type": "code",
   "execution_count": 5,
   "metadata": {},
   "outputs": [
    {
     "data": {
      "text/plain": [
       "[<h2 class=\"mp-h2\" id=\"mp-tfa-h2\"><span id=\"From_today.27s_featured_article\"></span><span class=\"mw-headline\" id=\"From_today's_featured_article\">From today's featured article</span></h2>,\n",
       " <h2 class=\"mp-h2\" id=\"mp-dyk-h2\"><span class=\"mw-headline\" id=\"Did_you_know_...\">Did you know ...</span></h2>,\n",
       " <h2 class=\"mp-h2\" id=\"mp-itn-h2\"><span class=\"mw-headline\" id=\"In_the_news\">In the news</span></h2>,\n",
       " <h2 class=\"mp-h2\" id=\"mp-otd-h2\"><span class=\"mw-headline\" id=\"On_this_day\">On this day</span></h2>,\n",
       " <h2 class=\"mp-h2\" id=\"mp-tfl-h2\"><span id=\"From_today.27s_featured_list\"></span><span class=\"mw-headline\" id=\"From_today's_featured_list\">From today's featured list</span></h2>,\n",
       " <h2 class=\"mp-h2\" id=\"mp-tfp-h2\"><span id=\"Today.27s_featured_picture\"></span><span class=\"mw-headline\" id=\"Today's_featured_picture\">Today's featured picture</span></h2>,\n",
       " <h2 class=\"mp-h2\" id=\"mp-other\"><span class=\"mw-headline\" id=\"Other_areas_of_Wikipedia\">Other areas of Wikipedia</span></h2>,\n",
       " <h2 class=\"mp-h2\" id=\"mp-sister\"><span id=\"Wikipedia.27s_sister_projects\"></span><span class=\"mw-headline\" id=\"Wikipedia's_sister_projects\">Wikipedia's sister projects</span></h2>,\n",
       " <h2 class=\"mp-h2\" id=\"mp-lang\"><span class=\"mw-headline\" id=\"Wikipedia_languages\">Wikipedia languages</span></h2>,\n",
       " <h2>Navigation menu</h2>]"
      ]
     },
     "execution_count": 5,
     "metadata": {},
     "output_type": "execute_result"
    }
   ],
   "source": [
    "grab_header(\"https://en.wikipedia.org/wiki/Main_Page\",\"h2\")"
   ]
  },
  {
   "cell_type": "code",
   "execution_count": 6,
   "metadata": {},
   "outputs": [
    {
     "data": {
      "text/plain": [
       "[<h3 class=\"vector-menu-heading\" id=\"p-personal-label\">\n",
       " <span>Personal tools</span>\n",
       " </h3>,\n",
       " <h3 class=\"vector-menu-heading\" id=\"p-namespaces-label\">\n",
       " <span>Namespaces</span>\n",
       " </h3>,\n",
       " <h3 class=\"vector-menu-heading\" id=\"p-variants-label\">\n",
       " <span>Variants</span>\n",
       " </h3>,\n",
       " <h3 class=\"vector-menu-heading\" id=\"p-views-label\">\n",
       " <span>Views</span>\n",
       " </h3>,\n",
       " <h3 class=\"vector-menu-heading\" id=\"p-cactions-label\">\n",
       " <span>More</span>\n",
       " </h3>,\n",
       " <h3>\n",
       " <label for=\"searchInput\">Search</label>\n",
       " </h3>,\n",
       " <h3 class=\"vector-menu-heading\" id=\"p-navigation-label\">\n",
       " <span>Navigation</span>\n",
       " </h3>,\n",
       " <h3 class=\"vector-menu-heading\" id=\"p-interaction-label\">\n",
       " <span>Contribute</span>\n",
       " </h3>,\n",
       " <h3 class=\"vector-menu-heading\" id=\"p-tb-label\">\n",
       " <span>Tools</span>\n",
       " </h3>,\n",
       " <h3 class=\"vector-menu-heading\" id=\"p-coll-print_export-label\">\n",
       " <span>Print/export</span>\n",
       " </h3>,\n",
       " <h3 class=\"vector-menu-heading\" id=\"p-wikibase-otherprojects-label\">\n",
       " <span>In other projects</span>\n",
       " </h3>,\n",
       " <h3 class=\"vector-menu-heading\" id=\"p-lang-label\">\n",
       " <span>Languages</span>\n",
       " </h3>]"
      ]
     },
     "execution_count": 6,
     "metadata": {},
     "output_type": "execute_result"
    }
   ],
   "source": [
    "grab_header(\"https://en.wikipedia.org/wiki/Main_Page\",\"h3\")"
   ]
  },
  {
   "cell_type": "code",
   "execution_count": 7,
   "metadata": {},
   "outputs": [],
   "source": [
    "h1 = grab_header(\"https://en.wikipedia.org/wiki/Main_Page\",\"h1\")"
   ]
  },
  {
   "cell_type": "code",
   "execution_count": 8,
   "metadata": {},
   "outputs": [
    {
     "data": {
      "text/plain": [
       "'Main Page'"
      ]
     },
     "execution_count": 8,
     "metadata": {},
     "output_type": "execute_result"
    }
   ],
   "source": [
    "h1[0].text"
   ]
  },
  {
   "cell_type": "code",
   "execution_count": 9,
   "metadata": {},
   "outputs": [],
   "source": [
    "h2 = grab_header(\"https://en.wikipedia.org/wiki/Main_Page\",\"h2\")"
   ]
  },
  {
   "cell_type": "code",
   "execution_count": 10,
   "metadata": {},
   "outputs": [
    {
     "name": "stdout",
     "output_type": "stream",
     "text": [
      "From today's featured article\n",
      "Did you know ...\n",
      "In the news\n",
      "On this day\n",
      "From today's featured list\n",
      "Today's featured picture\n",
      "Other areas of Wikipedia\n",
      "Wikipedia's sister projects\n",
      "Wikipedia languages\n",
      "Navigation menu\n"
     ]
    }
   ],
   "source": [
    "for n in h2:\n",
    "    print(n.text)"
   ]
  },
  {
   "cell_type": "code",
   "execution_count": 11,
   "metadata": {},
   "outputs": [],
   "source": [
    "h3 = grab_header(\"https://en.wikipedia.org/wiki/Main_Page\",\"h3\")"
   ]
  },
  {
   "cell_type": "code",
   "execution_count": 12,
   "metadata": {},
   "outputs": [
    {
     "name": "stdout",
     "output_type": "stream",
     "text": [
      "\n",
      "Personal tools\n",
      "\n",
      "\n",
      "Namespaces\n",
      "\n",
      "\n",
      "Variants\n",
      "\n",
      "\n",
      "Views\n",
      "\n",
      "\n",
      "More\n",
      "\n",
      "\n",
      "Search\n",
      "\n",
      "\n",
      "Navigation\n",
      "\n",
      "\n",
      "Contribute\n",
      "\n",
      "\n",
      "Tools\n",
      "\n",
      "\n",
      "Print/export\n",
      "\n",
      "\n",
      "In other projects\n",
      "\n",
      "\n",
      "Languages\n",
      "\n"
     ]
    }
   ],
   "source": [
    "for m in h3:\n",
    "    print(m.text)"
   ]
  },
  {
   "cell_type": "markdown",
   "metadata": {},
   "source": [
    "All the header tage (h1,h2,h3) have been extracted"
   ]
  },
  {
   "cell_type": "markdown",
   "metadata": {},
   "source": [
    "#### Write a python program to display IMDB’s Top rated 100 movies’ data (i.e. Name, IMDB rating, Year of release) and save it in form of a CSV file."
   ]
  },
  {
   "cell_type": "code",
   "execution_count": 13,
   "metadata": {},
   "outputs": [],
   "source": [
    "base_url = \"https://www.imdb.com/search/title/?groups=top_100&sort=user_rating,desc&start={}&ref_=adv_nxt\""
   ]
  },
  {
   "cell_type": "code",
   "execution_count": 14,
   "metadata": {},
   "outputs": [],
   "source": [
    "def grab_100(base_url):\n",
    "    \n",
    "    movie_title = []\n",
    "    \n",
    "    for n in range(1,52,50):\n",
    "        \n",
    "        req = requests.get(base_url.format(n))\n",
    "        \n",
    "        soup = bs4.BeautifulSoup(req.text,\"lxml\")\n",
    "        \n",
    "        titles = soup.select(\".lister-item-content\")\n",
    "        \n",
    "        for title in titles:\n",
    "            \n",
    "            movie_head = title.select(\"a\")[0].text\n",
    "            \n",
    "            movie_title.append(movie_head)\n",
    "    \n",
    "    return movie_title"
   ]
  },
  {
   "cell_type": "code",
   "execution_count": 15,
   "metadata": {},
   "outputs": [],
   "source": [
    "M_title = grab_100(\"https://www.imdb.com/search/title/?groups=top_100&sort=user_rating,desc&start={}&ref_=adv_nxt\")"
   ]
  },
  {
   "cell_type": "code",
   "execution_count": 16,
   "metadata": {},
   "outputs": [
    {
     "data": {
      "text/plain": [
       "['The Shawshank Redemption',\n",
       " 'The Godfather',\n",
       " 'The Dark Knight',\n",
       " 'The Godfather: Part II',\n",
       " '12 Angry Men',\n",
       " 'The Lord of the Rings: The Return of the King',\n",
       " 'Pulp Fiction',\n",
       " \"Schindler's List\",\n",
       " 'Inception',\n",
       " 'Fight Club',\n",
       " 'The Lord of the Rings: The Fellowship of the Ring',\n",
       " 'Forrest Gump',\n",
       " 'Il buono, il brutto, il cattivo',\n",
       " 'The Lord of the Rings: The Two Towers',\n",
       " 'The Matrix',\n",
       " 'Goodfellas',\n",
       " 'Star Wars: Episode V - The Empire Strikes Back',\n",
       " \"One Flew Over the Cuckoo's Nest\",\n",
       " 'Gisaengchung',\n",
       " 'Interstellar',\n",
       " 'Cidade de Deus',\n",
       " 'Sen to Chihiro no kamikakushi',\n",
       " 'Saving Private Ryan',\n",
       " 'The Green Mile',\n",
       " 'La vita è bella',\n",
       " 'Se7en',\n",
       " 'The Silence of the Lambs',\n",
       " 'Star Wars',\n",
       " 'Seppuku',\n",
       " 'Shichinin no samurai',\n",
       " \"It's a Wonderful Life\",\n",
       " 'Hamilton',\n",
       " 'Whiplash',\n",
       " 'The Intouchables',\n",
       " 'The Prestige',\n",
       " 'The Departed',\n",
       " 'The Pianist',\n",
       " 'Gladiator',\n",
       " 'American History X',\n",
       " 'The Usual Suspects',\n",
       " 'Léon',\n",
       " 'The Lion King',\n",
       " 'Terminator 2: Judgment Day',\n",
       " 'Nuovo Cinema Paradiso',\n",
       " 'Hotaru no haka',\n",
       " 'Back to the Future',\n",
       " 'Once Upon a Time in the West',\n",
       " 'Psycho',\n",
       " 'Casablanca',\n",
       " 'Modern Times',\n",
       " 'City Lights',\n",
       " 'Capharnaüm',\n",
       " 'Joker',\n",
       " 'Kimi no na wa.',\n",
       " 'Dangal',\n",
       " 'Spider-Man: Into the Spider-Verse',\n",
       " 'Avengers: Endgame',\n",
       " 'Avengers: Infinity War',\n",
       " 'Coco',\n",
       " 'Django Unchained',\n",
       " 'The Dark Knight Rises',\n",
       " '3 Idiots',\n",
       " 'Taare Zameen Par',\n",
       " 'WALL·E',\n",
       " 'The Lives of Others',\n",
       " 'Oldeuboi',\n",
       " 'Memento',\n",
       " 'Mononoke-hime',\n",
       " 'Once Upon a Time in America',\n",
       " 'Raiders of the Lost Ark',\n",
       " 'The Shining',\n",
       " 'Apocalypse Now',\n",
       " 'Alien',\n",
       " 'Tengoku to jigoku',\n",
       " 'Dr. Strangelove or: How I Learned to Stop Worrying and Love the Bomb',\n",
       " 'Witness for the Prosecution',\n",
       " 'Paths of Glory',\n",
       " 'Rear Window',\n",
       " 'Sunset Blvd.',\n",
       " 'The Great Dictator',\n",
       " 'Jagten',\n",
       " 'Inglourious Basterds',\n",
       " 'Eternal Sunshine of the Spotless Mind',\n",
       " 'Requiem for a Dream',\n",
       " 'American Beauty',\n",
       " 'Good Will Hunting',\n",
       " 'Toy Story',\n",
       " 'Braveheart',\n",
       " 'Reservoir Dogs',\n",
       " 'Idi i smotri',\n",
       " 'Aliens',\n",
       " 'Amadeus',\n",
       " 'Star Wars: Episode VI - Return of the Jedi',\n",
       " 'Das Boot',\n",
       " '2001: A Space Odyssey',\n",
       " 'Vertigo',\n",
       " \"Singin' in the Rain\",\n",
       " 'Citizen Kane',\n",
       " 'M - Eine Stadt sucht einen Mörder',\n",
       " 'The Kid']"
      ]
     },
     "execution_count": 16,
     "metadata": {},
     "output_type": "execute_result"
    }
   ],
   "source": [
    "M_title"
   ]
  },
  {
   "cell_type": "code",
   "execution_count": 17,
   "metadata": {},
   "outputs": [],
   "source": [
    "def grab_100(base_url):\n",
    "    \n",
    "    movie_rating = []\n",
    "    \n",
    "    for n in range(1,52,50):\n",
    "        \n",
    "        req = requests.get(base_url.format(n))\n",
    "        \n",
    "        soup = bs4.BeautifulSoup(req.text,\"lxml\")\n",
    "        \n",
    "        ratings = soup.select(\".lister-item-content\")\n",
    "        \n",
    "        for rating in ratings:\n",
    "            \n",
    "            rating_head = rating.select(\"strong\")[0].text\n",
    "            \n",
    "            movie_rating.append(rating_head)\n",
    "    \n",
    "    return movie_rating"
   ]
  },
  {
   "cell_type": "code",
   "execution_count": 18,
   "metadata": {},
   "outputs": [],
   "source": [
    "M_rating = grab_100(\"https://www.imdb.com/search/title/?groups=top_100&sort=user_rating,desc&start={}&ref_=adv_nxt\")"
   ]
  },
  {
   "cell_type": "code",
   "execution_count": 19,
   "metadata": {},
   "outputs": [
    {
     "data": {
      "text/plain": [
       "['9.3',\n",
       " '9.2',\n",
       " '9.0',\n",
       " '9.0',\n",
       " '9.0',\n",
       " '8.9',\n",
       " '8.9',\n",
       " '8.9',\n",
       " '8.8',\n",
       " '8.8',\n",
       " '8.8',\n",
       " '8.8',\n",
       " '8.8',\n",
       " '8.7',\n",
       " '8.7',\n",
       " '8.7',\n",
       " '8.7',\n",
       " '8.7',\n",
       " '8.6',\n",
       " '8.6',\n",
       " '8.6',\n",
       " '8.6',\n",
       " '8.6',\n",
       " '8.6',\n",
       " '8.6',\n",
       " '8.6',\n",
       " '8.6',\n",
       " '8.6',\n",
       " '8.6',\n",
       " '8.6',\n",
       " '8.6',\n",
       " '8.5',\n",
       " '8.5',\n",
       " '8.5',\n",
       " '8.5',\n",
       " '8.5',\n",
       " '8.5',\n",
       " '8.5',\n",
       " '8.5',\n",
       " '8.5',\n",
       " '8.5',\n",
       " '8.5',\n",
       " '8.5',\n",
       " '8.5',\n",
       " '8.5',\n",
       " '8.5',\n",
       " '8.5',\n",
       " '8.5',\n",
       " '8.5',\n",
       " '8.5',\n",
       " '8.5',\n",
       " '8.4',\n",
       " '8.4',\n",
       " '8.4',\n",
       " '8.4',\n",
       " '8.4',\n",
       " '8.4',\n",
       " '8.4',\n",
       " '8.4',\n",
       " '8.4',\n",
       " '8.4',\n",
       " '8.4',\n",
       " '8.4',\n",
       " '8.4',\n",
       " '8.4',\n",
       " '8.4',\n",
       " '8.4',\n",
       " '8.4',\n",
       " '8.4',\n",
       " '8.4',\n",
       " '8.4',\n",
       " '8.4',\n",
       " '8.4',\n",
       " '8.4',\n",
       " '8.4',\n",
       " '8.4',\n",
       " '8.4',\n",
       " '8.4',\n",
       " '8.4',\n",
       " '8.4',\n",
       " '8.3',\n",
       " '8.3',\n",
       " '8.3',\n",
       " '8.3',\n",
       " '8.3',\n",
       " '8.3',\n",
       " '8.3',\n",
       " '8.3',\n",
       " '8.3',\n",
       " '8.3',\n",
       " '8.3',\n",
       " '8.3',\n",
       " '8.3',\n",
       " '8.3',\n",
       " '8.3',\n",
       " '8.3',\n",
       " '8.3',\n",
       " '8.3',\n",
       " '8.3',\n",
       " '8.3']"
      ]
     },
     "execution_count": 19,
     "metadata": {},
     "output_type": "execute_result"
    }
   ],
   "source": [
    "M_rating"
   ]
  },
  {
   "cell_type": "code",
   "execution_count": 20,
   "metadata": {},
   "outputs": [],
   "source": [
    "def grab_100(base_url):\n",
    "    \n",
    "    movie_year = []\n",
    "    \n",
    "    for n in range(1,52,50):\n",
    "        \n",
    "        req = requests.get(base_url.format(n))\n",
    "        \n",
    "        soup = bs4.BeautifulSoup(req.text,\"lxml\")\n",
    "        \n",
    "        years = soup.select(\".lister-item-content\")\n",
    "        \n",
    "        for year in years:\n",
    "            \n",
    "            year_head = year.select(\".lister-item-year.text-muted.unbold\")[0].text\n",
    "            \n",
    "            movie_year.append(year_head)\n",
    "    \n",
    "    return movie_year"
   ]
  },
  {
   "cell_type": "code",
   "execution_count": 21,
   "metadata": {},
   "outputs": [],
   "source": [
    "M_year = grab_100(\"https://www.imdb.com/search/title/?groups=top_100&sort=user_rating,desc&start={}&ref_=adv_nxt\")"
   ]
  },
  {
   "cell_type": "code",
   "execution_count": 22,
   "metadata": {},
   "outputs": [
    {
     "data": {
      "text/plain": [
       "['(1994)',\n",
       " '(1972)',\n",
       " '(2008)',\n",
       " '(1974)',\n",
       " '(1957)',\n",
       " '(2003)',\n",
       " '(1994)',\n",
       " '(1993)',\n",
       " '(2010)',\n",
       " '(1999)',\n",
       " '(2001)',\n",
       " '(1994)',\n",
       " '(1966)',\n",
       " '(2002)',\n",
       " '(1999)',\n",
       " '(1990)',\n",
       " '(1980)',\n",
       " '(1975)',\n",
       " '(2019)',\n",
       " '(2014)',\n",
       " '(2002)',\n",
       " '(2001)',\n",
       " '(1998)',\n",
       " '(1999)',\n",
       " '(1997)',\n",
       " '(1995)',\n",
       " '(1991)',\n",
       " '(1977)',\n",
       " '(1962)',\n",
       " '(1954)',\n",
       " '(1946)',\n",
       " '(2020)',\n",
       " '(2014)',\n",
       " '(2011)',\n",
       " '(2006)',\n",
       " '(2006)',\n",
       " '(2002)',\n",
       " '(2000)',\n",
       " '(1998)',\n",
       " '(1995)',\n",
       " '(1994)',\n",
       " '(1994)',\n",
       " '(1991)',\n",
       " '(1988)',\n",
       " '(1988)',\n",
       " '(1985)',\n",
       " '(1968)',\n",
       " '(1960)',\n",
       " '(1942)',\n",
       " '(1936)',\n",
       " '(1931)',\n",
       " '(2018)',\n",
       " '(2019)',\n",
       " '(2016)',\n",
       " '(2016)',\n",
       " '(2018)',\n",
       " '(2019)',\n",
       " '(2018)',\n",
       " '(I) (2017)',\n",
       " '(2012)',\n",
       " '(2012)',\n",
       " '(2009)',\n",
       " '(2007)',\n",
       " '(2008)',\n",
       " '(2006)',\n",
       " '(2003)',\n",
       " '(2000)',\n",
       " '(1997)',\n",
       " '(1984)',\n",
       " '(1981)',\n",
       " '(1980)',\n",
       " '(1979)',\n",
       " '(1979)',\n",
       " '(1963)',\n",
       " '(1964)',\n",
       " '(1957)',\n",
       " '(1957)',\n",
       " '(1954)',\n",
       " '(1950)',\n",
       " '(1940)',\n",
       " '(2012)',\n",
       " '(2009)',\n",
       " '(2004)',\n",
       " '(2000)',\n",
       " '(1999)',\n",
       " '(1997)',\n",
       " '(1995)',\n",
       " '(1995)',\n",
       " '(1992)',\n",
       " '(1985)',\n",
       " '(1986)',\n",
       " '(1984)',\n",
       " '(1983)',\n",
       " '(1981)',\n",
       " '(1968)',\n",
       " '(1958)',\n",
       " '(1952)',\n",
       " '(1941)',\n",
       " '(1931)',\n",
       " '(1921)']"
      ]
     },
     "execution_count": 22,
     "metadata": {},
     "output_type": "execute_result"
    }
   ],
   "source": [
    "M_year"
   ]
  },
  {
   "cell_type": "code",
   "execution_count": 23,
   "metadata": {},
   "outputs": [],
   "source": [
    "import pandas as pd"
   ]
  },
  {
   "cell_type": "code",
   "execution_count": 24,
   "metadata": {},
   "outputs": [],
   "source": [
    "df = pd.DataFrame(M_title,columns=[\"Title\"])"
   ]
  },
  {
   "cell_type": "code",
   "execution_count": 25,
   "metadata": {},
   "outputs": [
    {
     "data": {
      "text/html": [
       "<div>\n",
       "<style scoped>\n",
       "    .dataframe tbody tr th:only-of-type {\n",
       "        vertical-align: middle;\n",
       "    }\n",
       "\n",
       "    .dataframe tbody tr th {\n",
       "        vertical-align: top;\n",
       "    }\n",
       "\n",
       "    .dataframe thead th {\n",
       "        text-align: right;\n",
       "    }\n",
       "</style>\n",
       "<table border=\"1\" class=\"dataframe\">\n",
       "  <thead>\n",
       "    <tr style=\"text-align: right;\">\n",
       "      <th></th>\n",
       "      <th>Title</th>\n",
       "    </tr>\n",
       "  </thead>\n",
       "  <tbody>\n",
       "    <tr>\n",
       "      <th>0</th>\n",
       "      <td>The Shawshank Redemption</td>\n",
       "    </tr>\n",
       "    <tr>\n",
       "      <th>1</th>\n",
       "      <td>The Godfather</td>\n",
       "    </tr>\n",
       "    <tr>\n",
       "      <th>2</th>\n",
       "      <td>The Dark Knight</td>\n",
       "    </tr>\n",
       "    <tr>\n",
       "      <th>3</th>\n",
       "      <td>The Godfather: Part II</td>\n",
       "    </tr>\n",
       "    <tr>\n",
       "      <th>4</th>\n",
       "      <td>12 Angry Men</td>\n",
       "    </tr>\n",
       "  </tbody>\n",
       "</table>\n",
       "</div>"
      ],
      "text/plain": [
       "                      Title\n",
       "0  The Shawshank Redemption\n",
       "1             The Godfather\n",
       "2           The Dark Knight\n",
       "3    The Godfather: Part II\n",
       "4              12 Angry Men"
      ]
     },
     "execution_count": 25,
     "metadata": {},
     "output_type": "execute_result"
    }
   ],
   "source": [
    "df.head()"
   ]
  },
  {
   "cell_type": "code",
   "execution_count": 26,
   "metadata": {},
   "outputs": [],
   "source": [
    "df1 = pd.DataFrame(M_rating,columns=[\"Rating\"])"
   ]
  },
  {
   "cell_type": "code",
   "execution_count": 27,
   "metadata": {},
   "outputs": [
    {
     "data": {
      "text/html": [
       "<div>\n",
       "<style scoped>\n",
       "    .dataframe tbody tr th:only-of-type {\n",
       "        vertical-align: middle;\n",
       "    }\n",
       "\n",
       "    .dataframe tbody tr th {\n",
       "        vertical-align: top;\n",
       "    }\n",
       "\n",
       "    .dataframe thead th {\n",
       "        text-align: right;\n",
       "    }\n",
       "</style>\n",
       "<table border=\"1\" class=\"dataframe\">\n",
       "  <thead>\n",
       "    <tr style=\"text-align: right;\">\n",
       "      <th></th>\n",
       "      <th>Rating</th>\n",
       "    </tr>\n",
       "  </thead>\n",
       "  <tbody>\n",
       "    <tr>\n",
       "      <th>0</th>\n",
       "      <td>9.3</td>\n",
       "    </tr>\n",
       "    <tr>\n",
       "      <th>1</th>\n",
       "      <td>9.2</td>\n",
       "    </tr>\n",
       "    <tr>\n",
       "      <th>2</th>\n",
       "      <td>9.0</td>\n",
       "    </tr>\n",
       "    <tr>\n",
       "      <th>3</th>\n",
       "      <td>9.0</td>\n",
       "    </tr>\n",
       "    <tr>\n",
       "      <th>4</th>\n",
       "      <td>9.0</td>\n",
       "    </tr>\n",
       "  </tbody>\n",
       "</table>\n",
       "</div>"
      ],
      "text/plain": [
       "  Rating\n",
       "0    9.3\n",
       "1    9.2\n",
       "2    9.0\n",
       "3    9.0\n",
       "4    9.0"
      ]
     },
     "execution_count": 27,
     "metadata": {},
     "output_type": "execute_result"
    }
   ],
   "source": [
    "df1.head()"
   ]
  },
  {
   "cell_type": "code",
   "execution_count": 28,
   "metadata": {},
   "outputs": [],
   "source": [
    "df3 = pd.DataFrame(M_year,columns=[\"Year(Release)\"])"
   ]
  },
  {
   "cell_type": "code",
   "execution_count": 29,
   "metadata": {},
   "outputs": [
    {
     "data": {
      "text/html": [
       "<div>\n",
       "<style scoped>\n",
       "    .dataframe tbody tr th:only-of-type {\n",
       "        vertical-align: middle;\n",
       "    }\n",
       "\n",
       "    .dataframe tbody tr th {\n",
       "        vertical-align: top;\n",
       "    }\n",
       "\n",
       "    .dataframe thead th {\n",
       "        text-align: right;\n",
       "    }\n",
       "</style>\n",
       "<table border=\"1\" class=\"dataframe\">\n",
       "  <thead>\n",
       "    <tr style=\"text-align: right;\">\n",
       "      <th></th>\n",
       "      <th>Year(Release)</th>\n",
       "    </tr>\n",
       "  </thead>\n",
       "  <tbody>\n",
       "    <tr>\n",
       "      <th>0</th>\n",
       "      <td>(1994)</td>\n",
       "    </tr>\n",
       "    <tr>\n",
       "      <th>1</th>\n",
       "      <td>(1972)</td>\n",
       "    </tr>\n",
       "    <tr>\n",
       "      <th>2</th>\n",
       "      <td>(2008)</td>\n",
       "    </tr>\n",
       "    <tr>\n",
       "      <th>3</th>\n",
       "      <td>(1974)</td>\n",
       "    </tr>\n",
       "    <tr>\n",
       "      <th>4</th>\n",
       "      <td>(1957)</td>\n",
       "    </tr>\n",
       "  </tbody>\n",
       "</table>\n",
       "</div>"
      ],
      "text/plain": [
       "  Year(Release)\n",
       "0        (1994)\n",
       "1        (1972)\n",
       "2        (2008)\n",
       "3        (1974)\n",
       "4        (1957)"
      ]
     },
     "execution_count": 29,
     "metadata": {},
     "output_type": "execute_result"
    }
   ],
   "source": [
    "df3.head()"
   ]
  },
  {
   "cell_type": "code",
   "execution_count": 30,
   "metadata": {},
   "outputs": [],
   "source": [
    "df = pd.concat([df,df1,df3],axis=1)"
   ]
  },
  {
   "cell_type": "code",
   "execution_count": 31,
   "metadata": {},
   "outputs": [
    {
     "data": {
      "text/html": [
       "<div>\n",
       "<style scoped>\n",
       "    .dataframe tbody tr th:only-of-type {\n",
       "        vertical-align: middle;\n",
       "    }\n",
       "\n",
       "    .dataframe tbody tr th {\n",
       "        vertical-align: top;\n",
       "    }\n",
       "\n",
       "    .dataframe thead th {\n",
       "        text-align: right;\n",
       "    }\n",
       "</style>\n",
       "<table border=\"1\" class=\"dataframe\">\n",
       "  <thead>\n",
       "    <tr style=\"text-align: right;\">\n",
       "      <th></th>\n",
       "      <th>Title</th>\n",
       "      <th>Rating</th>\n",
       "      <th>Year(Release)</th>\n",
       "    </tr>\n",
       "  </thead>\n",
       "  <tbody>\n",
       "    <tr>\n",
       "      <th>0</th>\n",
       "      <td>The Shawshank Redemption</td>\n",
       "      <td>9.3</td>\n",
       "      <td>(1994)</td>\n",
       "    </tr>\n",
       "    <tr>\n",
       "      <th>1</th>\n",
       "      <td>The Godfather</td>\n",
       "      <td>9.2</td>\n",
       "      <td>(1972)</td>\n",
       "    </tr>\n",
       "    <tr>\n",
       "      <th>2</th>\n",
       "      <td>The Dark Knight</td>\n",
       "      <td>9.0</td>\n",
       "      <td>(2008)</td>\n",
       "    </tr>\n",
       "    <tr>\n",
       "      <th>3</th>\n",
       "      <td>The Godfather: Part II</td>\n",
       "      <td>9.0</td>\n",
       "      <td>(1974)</td>\n",
       "    </tr>\n",
       "    <tr>\n",
       "      <th>4</th>\n",
       "      <td>12 Angry Men</td>\n",
       "      <td>9.0</td>\n",
       "      <td>(1957)</td>\n",
       "    </tr>\n",
       "  </tbody>\n",
       "</table>\n",
       "</div>"
      ],
      "text/plain": [
       "                      Title Rating Year(Release)\n",
       "0  The Shawshank Redemption    9.3        (1994)\n",
       "1             The Godfather    9.2        (1972)\n",
       "2           The Dark Knight    9.0        (2008)\n",
       "3    The Godfather: Part II    9.0        (1974)\n",
       "4              12 Angry Men    9.0        (1957)"
      ]
     },
     "execution_count": 31,
     "metadata": {},
     "output_type": "execute_result"
    }
   ],
   "source": [
    "df.head()"
   ]
  },
  {
   "cell_type": "code",
   "execution_count": 32,
   "metadata": {},
   "outputs": [
    {
     "data": {
      "text/html": [
       "<div>\n",
       "<style scoped>\n",
       "    .dataframe tbody tr th:only-of-type {\n",
       "        vertical-align: middle;\n",
       "    }\n",
       "\n",
       "    .dataframe tbody tr th {\n",
       "        vertical-align: top;\n",
       "    }\n",
       "\n",
       "    .dataframe thead th {\n",
       "        text-align: right;\n",
       "    }\n",
       "</style>\n",
       "<table border=\"1\" class=\"dataframe\">\n",
       "  <thead>\n",
       "    <tr style=\"text-align: right;\">\n",
       "      <th></th>\n",
       "      <th>Title</th>\n",
       "      <th>Rating</th>\n",
       "      <th>Year(Release)</th>\n",
       "    </tr>\n",
       "  </thead>\n",
       "  <tbody>\n",
       "    <tr>\n",
       "      <th>95</th>\n",
       "      <td>Vertigo</td>\n",
       "      <td>8.3</td>\n",
       "      <td>(1958)</td>\n",
       "    </tr>\n",
       "    <tr>\n",
       "      <th>96</th>\n",
       "      <td>Singin' in the Rain</td>\n",
       "      <td>8.3</td>\n",
       "      <td>(1952)</td>\n",
       "    </tr>\n",
       "    <tr>\n",
       "      <th>97</th>\n",
       "      <td>Citizen Kane</td>\n",
       "      <td>8.3</td>\n",
       "      <td>(1941)</td>\n",
       "    </tr>\n",
       "    <tr>\n",
       "      <th>98</th>\n",
       "      <td>M - Eine Stadt sucht einen Mörder</td>\n",
       "      <td>8.3</td>\n",
       "      <td>(1931)</td>\n",
       "    </tr>\n",
       "    <tr>\n",
       "      <th>99</th>\n",
       "      <td>The Kid</td>\n",
       "      <td>8.3</td>\n",
       "      <td>(1921)</td>\n",
       "    </tr>\n",
       "  </tbody>\n",
       "</table>\n",
       "</div>"
      ],
      "text/plain": [
       "                                Title Rating Year(Release)\n",
       "95                            Vertigo    8.3        (1958)\n",
       "96                Singin' in the Rain    8.3        (1952)\n",
       "97                       Citizen Kane    8.3        (1941)\n",
       "98  M - Eine Stadt sucht einen Mörder    8.3        (1931)\n",
       "99                            The Kid    8.3        (1921)"
      ]
     },
     "execution_count": 32,
     "metadata": {},
     "output_type": "execute_result"
    }
   ],
   "source": [
    "df.tail()"
   ]
  },
  {
   "cell_type": "code",
   "execution_count": 33,
   "metadata": {},
   "outputs": [],
   "source": [
    "df.to_csv(\"Imdb_100\")"
   ]
  },
  {
   "cell_type": "markdown",
   "metadata": {},
   "source": [
    "#### Write a python program to display IMDB’s Top rated 100 Indian movies’ data (i.e. Name, IMDB rating, Year of release) and save it in form of a CSV file."
   ]
  },
  {
   "cell_type": "code",
   "execution_count": 34,
   "metadata": {},
   "outputs": [],
   "source": [
    "base_url_indi = \"https://www.imdb.com/india/top-rated-indian-movies/\""
   ]
  },
  {
   "cell_type": "code",
   "execution_count": 35,
   "metadata": {},
   "outputs": [],
   "source": [
    "def grab_indi_100(url):\n",
    "    \n",
    "    names = []\n",
    "    \n",
    "    res = requests.get(url)\n",
    "    \n",
    "    soup = bs4.BeautifulSoup(res.text,\"lxml\")\n",
    "    \n",
    "    movies = soup.select(\".titleColumn\")\n",
    "    \n",
    "    for movie in movies:\n",
    "        \n",
    "        mov_name = movie.select(\"a\")[0].text\n",
    "        \n",
    "        names.append(mov_name)\n",
    "    \n",
    "    return names[:100]"
   ]
  },
  {
   "cell_type": "code",
   "execution_count": 36,
   "metadata": {},
   "outputs": [],
   "source": [
    "Indi_names = grab_indi_100(base_url_indi)"
   ]
  },
  {
   "cell_type": "code",
   "execution_count": 37,
   "metadata": {},
   "outputs": [
    {
     "data": {
      "text/plain": [
       "['Pather Panchali',\n",
       " 'Gol Maal',\n",
       " 'Nayakan',\n",
       " 'Anbe Sivam',\n",
       " 'Apur Sansar',\n",
       " 'Pariyerum Perumal',\n",
       " 'Natsamrat',\n",
       " 'Drishyam 2',\n",
       " 'Kireedam',\n",
       " 'Manichitrathazhu',\n",
       " 'Black Friday',\n",
       " 'Thevar Magan',\n",
       " '96',\n",
       " 'Kumbalangi Nights',\n",
       " '3 Idiots',\n",
       " 'Taare Zameen Par',\n",
       " 'Visaaranai',\n",
       " 'Dangal',\n",
       " 'Ratsasan',\n",
       " 'Thalapathi',\n",
       " 'Aparajito',\n",
       " 'Jaane Bhi Do Yaaro',\n",
       " 'Pyaasa',\n",
       " 'Guide',\n",
       " 'Jersey',\n",
       " 'Kannathil Muthamittal',\n",
       " 'Asuran',\n",
       " 'Chupke Chupke',\n",
       " 'Kaithi',\n",
       " 'Thani Oruvan',\n",
       " 'Anand',\n",
       " 'Vada Chennai',\n",
       " 'Peranbu',\n",
       " 'Drishyam',\n",
       " 'Vikram Vedha',\n",
       " 'Iruvar',\n",
       " 'Soorarai Pottru',\n",
       " 'Aruvi',\n",
       " 'Khosla Ka Ghosla!',\n",
       " 'Super Deluxe',\n",
       " 'Agent Sai Srinivasa Athreya',\n",
       " 'Tumbbad',\n",
       " 'Mahanati',\n",
       " 'Andhadhun',\n",
       " 'Kaakkaa Muttai',\n",
       " 'Premam',\n",
       " 'Satya',\n",
       " 'Shahid',\n",
       " 'Dhuruvangal Pathinaaru',\n",
       " 'Bangalore Days',\n",
       " 'Anniyan',\n",
       " 'Mudhalvan',\n",
       " 'Papanasam',\n",
       " 'Soodhu Kavvum',\n",
       " 'Gangs of Wasseypur',\n",
       " 'Jigarthanda',\n",
       " 'Bhaag Milkha Bhaag',\n",
       " 'Sairat',\n",
       " 'Paan Singh Tomar',\n",
       " 'Sholay',\n",
       " 'Swades: We, the People',\n",
       " 'Talvar',\n",
       " 'Hera Pheri',\n",
       " 'Pithamagan',\n",
       " 'Drishyam',\n",
       " 'Nil Battey Sannata',\n",
       " 'Chak De! India',\n",
       " 'Charulata',\n",
       " 'Black',\n",
       " 'Mughal-E-Azam',\n",
       " 'Jo Jeeta Wohi Sikandar',\n",
       " 'Udaan',\n",
       " 'Ustad Hotel',\n",
       " 'Zindagi Na Milegi Dobara',\n",
       " 'Article 15',\n",
       " 'A Wednesday',\n",
       " 'Queen',\n",
       " 'Rang De Basanti',\n",
       " 'Munna Bhai M.B.B.S.',\n",
       " 'Dil Chahta Hai',\n",
       " 'Sarfarosh',\n",
       " 'Maheshinte Prathikaaram',\n",
       " 'Masaan',\n",
       " 'Andaz Apna Apna',\n",
       " 'OMG: Oh My God!',\n",
       " 'Roja',\n",
       " 'Alai Payuthey',\n",
       " 'Lagaan: Once Upon a Time in India',\n",
       " 'Baasha',\n",
       " 'Kahaani',\n",
       " 'Theeran adhigaaram ondru',\n",
       " 'PK',\n",
       " 'Lucia',\n",
       " 'Iqbal',\n",
       " 'Uri: The Surgical Strike',\n",
       " 'The Legend of Bhagat Singh',\n",
       " 'Barfi!',\n",
       " 'Pink',\n",
       " 'Bommarillu',\n",
       " 'Bombay']"
      ]
     },
     "execution_count": 37,
     "metadata": {},
     "output_type": "execute_result"
    }
   ],
   "source": [
    "Indi_names"
   ]
  },
  {
   "cell_type": "code",
   "execution_count": 38,
   "metadata": {},
   "outputs": [],
   "source": [
    "df_indi_n = pd.DataFrame(Indi_names,columns=[\"Names\"])"
   ]
  },
  {
   "cell_type": "code",
   "execution_count": 39,
   "metadata": {},
   "outputs": [
    {
     "data": {
      "text/html": [
       "<div>\n",
       "<style scoped>\n",
       "    .dataframe tbody tr th:only-of-type {\n",
       "        vertical-align: middle;\n",
       "    }\n",
       "\n",
       "    .dataframe tbody tr th {\n",
       "        vertical-align: top;\n",
       "    }\n",
       "\n",
       "    .dataframe thead th {\n",
       "        text-align: right;\n",
       "    }\n",
       "</style>\n",
       "<table border=\"1\" class=\"dataframe\">\n",
       "  <thead>\n",
       "    <tr style=\"text-align: right;\">\n",
       "      <th></th>\n",
       "      <th>Names</th>\n",
       "    </tr>\n",
       "  </thead>\n",
       "  <tbody>\n",
       "    <tr>\n",
       "      <th>0</th>\n",
       "      <td>Pather Panchali</td>\n",
       "    </tr>\n",
       "    <tr>\n",
       "      <th>1</th>\n",
       "      <td>Gol Maal</td>\n",
       "    </tr>\n",
       "    <tr>\n",
       "      <th>2</th>\n",
       "      <td>Nayakan</td>\n",
       "    </tr>\n",
       "    <tr>\n",
       "      <th>3</th>\n",
       "      <td>Anbe Sivam</td>\n",
       "    </tr>\n",
       "    <tr>\n",
       "      <th>4</th>\n",
       "      <td>Apur Sansar</td>\n",
       "    </tr>\n",
       "  </tbody>\n",
       "</table>\n",
       "</div>"
      ],
      "text/plain": [
       "             Names\n",
       "0  Pather Panchali\n",
       "1         Gol Maal\n",
       "2          Nayakan\n",
       "3       Anbe Sivam\n",
       "4      Apur Sansar"
      ]
     },
     "execution_count": 39,
     "metadata": {},
     "output_type": "execute_result"
    }
   ],
   "source": [
    "df_indi_n.head()"
   ]
  },
  {
   "cell_type": "code",
   "execution_count": 40,
   "metadata": {},
   "outputs": [],
   "source": [
    "def grab_indi_100(url):\n",
    "    \n",
    "    m_years = []\n",
    "    \n",
    "    res = requests.get(url)\n",
    "    \n",
    "    soup = bs4.BeautifulSoup(res.text,\"lxml\")\n",
    "    \n",
    "    years = soup.select(\".secondaryInfo\")\n",
    "    \n",
    "    for year in years:\n",
    "        \n",
    "        year_name = year.text\n",
    "        \n",
    "        m_years.append(year_name)\n",
    "    \n",
    "    return m_years[:100]"
   ]
  },
  {
   "cell_type": "code",
   "execution_count": 41,
   "metadata": {},
   "outputs": [],
   "source": [
    "Movie_y =grab_indi_100(base_url_indi)"
   ]
  },
  {
   "cell_type": "code",
   "execution_count": 42,
   "metadata": {},
   "outputs": [
    {
     "data": {
      "text/plain": [
       "100"
      ]
     },
     "execution_count": 42,
     "metadata": {},
     "output_type": "execute_result"
    }
   ],
   "source": [
    "len(Movie_y)"
   ]
  },
  {
   "cell_type": "code",
   "execution_count": 43,
   "metadata": {},
   "outputs": [],
   "source": [
    "df_indi_y = pd.DataFrame(Movie_y,columns=[\"Release date\"])"
   ]
  },
  {
   "cell_type": "code",
   "execution_count": 44,
   "metadata": {},
   "outputs": [
    {
     "data": {
      "text/html": [
       "<div>\n",
       "<style scoped>\n",
       "    .dataframe tbody tr th:only-of-type {\n",
       "        vertical-align: middle;\n",
       "    }\n",
       "\n",
       "    .dataframe tbody tr th {\n",
       "        vertical-align: top;\n",
       "    }\n",
       "\n",
       "    .dataframe thead th {\n",
       "        text-align: right;\n",
       "    }\n",
       "</style>\n",
       "<table border=\"1\" class=\"dataframe\">\n",
       "  <thead>\n",
       "    <tr style=\"text-align: right;\">\n",
       "      <th></th>\n",
       "      <th>Release date</th>\n",
       "    </tr>\n",
       "  </thead>\n",
       "  <tbody>\n",
       "    <tr>\n",
       "      <th>0</th>\n",
       "      <td>(1955)</td>\n",
       "    </tr>\n",
       "    <tr>\n",
       "      <th>1</th>\n",
       "      <td>(1979)</td>\n",
       "    </tr>\n",
       "    <tr>\n",
       "      <th>2</th>\n",
       "      <td>(1987)</td>\n",
       "    </tr>\n",
       "    <tr>\n",
       "      <th>3</th>\n",
       "      <td>(2003)</td>\n",
       "    </tr>\n",
       "    <tr>\n",
       "      <th>4</th>\n",
       "      <td>(1959)</td>\n",
       "    </tr>\n",
       "  </tbody>\n",
       "</table>\n",
       "</div>"
      ],
      "text/plain": [
       "  Release date\n",
       "0       (1955)\n",
       "1       (1979)\n",
       "2       (1987)\n",
       "3       (2003)\n",
       "4       (1959)"
      ]
     },
     "execution_count": 44,
     "metadata": {},
     "output_type": "execute_result"
    }
   ],
   "source": [
    "df_indi_y.head()"
   ]
  },
  {
   "cell_type": "code",
   "execution_count": 45,
   "metadata": {},
   "outputs": [],
   "source": [
    "def grab_indi_100(url):\n",
    "    \n",
    "    m_rating = []\n",
    "    \n",
    "    res = requests.get(url)\n",
    "    \n",
    "    soup = bs4.BeautifulSoup(res.text,\"lxml\")\n",
    "    \n",
    "    ratings = soup.select(\"strong\")\n",
    "    \n",
    "    for rating in ratings:\n",
    "        \n",
    "        rating_name = rating.text\n",
    "        \n",
    "        m_rating.append(rating_name)\n",
    "    \n",
    "    return m_rating[:100]"
   ]
  },
  {
   "cell_type": "code",
   "execution_count": 46,
   "metadata": {},
   "outputs": [],
   "source": [
    "Movie_r = grab_indi_100(base_url_indi)"
   ]
  },
  {
   "cell_type": "code",
   "execution_count": 47,
   "metadata": {},
   "outputs": [],
   "source": [
    "df_indi_rate = pd.DataFrame(Movie_r,columns=[\"Ratings\"])"
   ]
  },
  {
   "cell_type": "code",
   "execution_count": 48,
   "metadata": {},
   "outputs": [
    {
     "data": {
      "text/html": [
       "<div>\n",
       "<style scoped>\n",
       "    .dataframe tbody tr th:only-of-type {\n",
       "        vertical-align: middle;\n",
       "    }\n",
       "\n",
       "    .dataframe tbody tr th {\n",
       "        vertical-align: top;\n",
       "    }\n",
       "\n",
       "    .dataframe thead th {\n",
       "        text-align: right;\n",
       "    }\n",
       "</style>\n",
       "<table border=\"1\" class=\"dataframe\">\n",
       "  <thead>\n",
       "    <tr style=\"text-align: right;\">\n",
       "      <th></th>\n",
       "      <th>Ratings</th>\n",
       "    </tr>\n",
       "  </thead>\n",
       "  <tbody>\n",
       "    <tr>\n",
       "      <th>0</th>\n",
       "      <td>8.5</td>\n",
       "    </tr>\n",
       "    <tr>\n",
       "      <th>1</th>\n",
       "      <td>8.5</td>\n",
       "    </tr>\n",
       "    <tr>\n",
       "      <th>2</th>\n",
       "      <td>8.5</td>\n",
       "    </tr>\n",
       "    <tr>\n",
       "      <th>3</th>\n",
       "      <td>8.5</td>\n",
       "    </tr>\n",
       "    <tr>\n",
       "      <th>4</th>\n",
       "      <td>8.5</td>\n",
       "    </tr>\n",
       "  </tbody>\n",
       "</table>\n",
       "</div>"
      ],
      "text/plain": [
       "  Ratings\n",
       "0     8.5\n",
       "1     8.5\n",
       "2     8.5\n",
       "3     8.5\n",
       "4     8.5"
      ]
     },
     "execution_count": 48,
     "metadata": {},
     "output_type": "execute_result"
    }
   ],
   "source": [
    "df_indi_rate.head()"
   ]
  },
  {
   "cell_type": "code",
   "execution_count": 49,
   "metadata": {},
   "outputs": [],
   "source": [
    "df_india_100 = pd.concat([df_indi_n,df_indi_y,df_indi_rate],axis=1)"
   ]
  },
  {
   "cell_type": "code",
   "execution_count": 50,
   "metadata": {},
   "outputs": [
    {
     "data": {
      "text/html": [
       "<div>\n",
       "<style scoped>\n",
       "    .dataframe tbody tr th:only-of-type {\n",
       "        vertical-align: middle;\n",
       "    }\n",
       "\n",
       "    .dataframe tbody tr th {\n",
       "        vertical-align: top;\n",
       "    }\n",
       "\n",
       "    .dataframe thead th {\n",
       "        text-align: right;\n",
       "    }\n",
       "</style>\n",
       "<table border=\"1\" class=\"dataframe\">\n",
       "  <thead>\n",
       "    <tr style=\"text-align: right;\">\n",
       "      <th></th>\n",
       "      <th>Names</th>\n",
       "      <th>Release date</th>\n",
       "      <th>Ratings</th>\n",
       "    </tr>\n",
       "  </thead>\n",
       "  <tbody>\n",
       "    <tr>\n",
       "      <th>0</th>\n",
       "      <td>Pather Panchali</td>\n",
       "      <td>(1955)</td>\n",
       "      <td>8.5</td>\n",
       "    </tr>\n",
       "    <tr>\n",
       "      <th>1</th>\n",
       "      <td>Gol Maal</td>\n",
       "      <td>(1979)</td>\n",
       "      <td>8.5</td>\n",
       "    </tr>\n",
       "    <tr>\n",
       "      <th>2</th>\n",
       "      <td>Nayakan</td>\n",
       "      <td>(1987)</td>\n",
       "      <td>8.5</td>\n",
       "    </tr>\n",
       "    <tr>\n",
       "      <th>3</th>\n",
       "      <td>Anbe Sivam</td>\n",
       "      <td>(2003)</td>\n",
       "      <td>8.5</td>\n",
       "    </tr>\n",
       "    <tr>\n",
       "      <th>4</th>\n",
       "      <td>Apur Sansar</td>\n",
       "      <td>(1959)</td>\n",
       "      <td>8.5</td>\n",
       "    </tr>\n",
       "  </tbody>\n",
       "</table>\n",
       "</div>"
      ],
      "text/plain": [
       "             Names Release date Ratings\n",
       "0  Pather Panchali       (1955)     8.5\n",
       "1         Gol Maal       (1979)     8.5\n",
       "2          Nayakan       (1987)     8.5\n",
       "3       Anbe Sivam       (2003)     8.5\n",
       "4      Apur Sansar       (1959)     8.5"
      ]
     },
     "execution_count": 50,
     "metadata": {},
     "output_type": "execute_result"
    }
   ],
   "source": [
    "df_india_100.head()"
   ]
  },
  {
   "cell_type": "code",
   "execution_count": 51,
   "metadata": {},
   "outputs": [],
   "source": [
    "df_india_100.to_csv(\"Imdb_100_indian\")"
   ]
  },
  {
   "cell_type": "markdown",
   "metadata": {},
   "source": [
    "#### Write a python program to scrap book name, author name, genre and book review of any 5 books from ‘www.bookpage.com’"
   ]
  },
  {
   "cell_type": "code",
   "execution_count": 52,
   "metadata": {},
   "outputs": [],
   "source": [
    "base_url = \"https://bookpage.com/\""
   ]
  },
  {
   "cell_type": "code",
   "execution_count": 53,
   "metadata": {},
   "outputs": [],
   "source": [
    "req = requests.get(\"https://bookpage.com/\")"
   ]
  },
  {
   "cell_type": "code",
   "execution_count": 54,
   "metadata": {},
   "outputs": [],
   "source": [
    "soup = bs4.BeautifulSoup(req.text,\"lxml\")"
   ]
  },
  {
   "cell_type": "code",
   "execution_count": 55,
   "metadata": {},
   "outputs": [],
   "source": [
    "lana = soup.select(\".italic\")"
   ]
  },
  {
   "cell_type": "code",
   "execution_count": 56,
   "metadata": {},
   "outputs": [
    {
     "data": {
      "text/plain": [
       "'\\nChina, then and now\\n'"
      ]
     },
     "execution_count": 56,
     "metadata": {},
     "output_type": "execute_result"
    }
   ],
   "source": [
    "lana[1].text"
   ]
  },
  {
   "cell_type": "code",
   "execution_count": 57,
   "metadata": {},
   "outputs": [],
   "source": [
    "book_name = []\n",
    "\n",
    "for name in soup.select(\".italic\"):\n",
    "    \n",
    "    names = name.text\n",
    "    book_name.append(names)\n",
    "    book_name"
   ]
  },
  {
   "cell_type": "markdown",
   "metadata": {},
   "source": [
    "### Book Names"
   ]
  },
  {
   "cell_type": "code",
   "execution_count": 58,
   "metadata": {},
   "outputs": [],
   "source": [
    "book_names = book_name[1:]"
   ]
  },
  {
   "cell_type": "code",
   "execution_count": 59,
   "metadata": {},
   "outputs": [],
   "source": [
    "book_n = [x.replace('\\n', '') for x in book_names]"
   ]
  },
  {
   "cell_type": "code",
   "execution_count": 60,
   "metadata": {},
   "outputs": [],
   "source": [
    "book_n = book_n[:5]"
   ]
  },
  {
   "cell_type": "code",
   "execution_count": 61,
   "metadata": {},
   "outputs": [
    {
     "data": {
      "text/plain": [
       "['China, then and now',\n",
       " 'Katy Birchall',\n",
       " 'Pawcasso',\n",
       " ' ★ On Juneteenth',\n",
       " 'The Most Beautiful Girl in Cuba']"
      ]
     },
     "execution_count": 61,
     "metadata": {},
     "output_type": "execute_result"
    }
   ],
   "source": [
    "book_n"
   ]
  },
  {
   "cell_type": "markdown",
   "metadata": {},
   "source": [
    "### Author names"
   ]
  },
  {
   "cell_type": "code",
   "execution_count": 62,
   "metadata": {},
   "outputs": [],
   "source": [
    "auth_name = []\n",
    "\n",
    "for a_name in soup.select(\".sans.bold\"):\n",
    "    \n",
    "    a_names = a_name.text\n",
    "    auth_name.append(a_names)\n",
    "    auth_name"
   ]
  },
  {
   "cell_type": "code",
   "execution_count": 63,
   "metadata": {},
   "outputs": [],
   "source": [
    "auth_n = [x.replace('\\n', '') for x in auth_name]"
   ]
  },
  {
   "cell_type": "code",
   "execution_count": 64,
   "metadata": {},
   "outputs": [],
   "source": [
    "auth_n = auth_n[:5]"
   ]
  },
  {
   "cell_type": "code",
   "execution_count": 65,
   "metadata": {},
   "outputs": [
    {
     "data": {
      "text/plain": [
       "['Behind the Book by Brian Klingborg',\n",
       " 'Interview by Savanna Walker',\n",
       " 'Review by Sharon Verbeten',\n",
       " 'Review by Deborah Mason',\n",
       " 'Review by Amy Scribner']"
      ]
     },
     "execution_count": 65,
     "metadata": {},
     "output_type": "execute_result"
    }
   ],
   "source": [
    "auth_n"
   ]
  },
  {
   "cell_type": "markdown",
   "metadata": {},
   "source": [
    "### Genre Names"
   ]
  },
  {
   "cell_type": "code",
   "execution_count": 66,
   "metadata": {},
   "outputs": [],
   "source": [
    "genre_name = []\n",
    "\n",
    "for g_name in soup.select(\".genre-links.hidden-phone\"):\n",
    "    \n",
    "    g_names = g_name.text\n",
    "    genre_name.append(g_names)\n",
    "    genre_name"
   ]
  },
  {
   "cell_type": "code",
   "execution_count": 67,
   "metadata": {},
   "outputs": [],
   "source": [
    "genre_n = [x.replace('\\n', '') for x in genre_name]"
   ]
  },
  {
   "cell_type": "code",
   "execution_count": 68,
   "metadata": {},
   "outputs": [],
   "source": [
    "genre_n = genre_n[:5]"
   ]
  },
  {
   "cell_type": "code",
   "execution_count": 69,
   "metadata": {},
   "outputs": [
    {
     "data": {
      "text/plain": [
       "['Mystery & Suspense / Mystery',\n",
       " 'Romance / Contemporary Romance',\n",
       " \"Children's / Middle Grade\",\n",
       " 'Nonfiction / History / American History',\n",
       " 'Fiction / Historical Fiction']"
      ]
     },
     "execution_count": 69,
     "metadata": {},
     "output_type": "execute_result"
    }
   ],
   "source": [
    "genre_n"
   ]
  },
  {
   "cell_type": "markdown",
   "metadata": {},
   "source": [
    "### Review names"
   ]
  },
  {
   "cell_type": "code",
   "execution_count": 70,
   "metadata": {},
   "outputs": [],
   "source": [
    "review_name = []\n",
    "\n",
    "for r_name in soup.select(\".excerpt\"):\n",
    "    \n",
    "    r_names = r_name.text\n",
    "    review_name.append(r_names)\n",
    "    review_name"
   ]
  },
  {
   "cell_type": "code",
   "execution_count": 71,
   "metadata": {},
   "outputs": [],
   "source": [
    "review_n = [x.replace('\\n', '') for x in review_name]"
   ]
  },
  {
   "cell_type": "code",
   "execution_count": 72,
   "metadata": {},
   "outputs": [],
   "source": [
    "review_n = review_n[:5]"
   ]
  },
  {
   "cell_type": "code",
   "execution_count": 73,
   "metadata": {},
   "outputs": [
    {
     "data": {
      "text/plain": [
       "['Brian Klingborg shares why modern China is the perfect setting for a mystery.',\n",
       " \"Katy Birchall's latest heroine has what might be the perfect rom-com job: She's a wedding planner who goes undercover as a bridesmaid.\",\n",
       " 'This joyful graphic novel from acclaimed author-illustrator Remy Lai abounds with silliness, camaraderie and a few white lies.',\n",
       " 'Gordon-Reed’s essays seamlessly merge history, memoir and family history into a complex portrait of her beloved, turbulent Texas.',\n",
       " 'Chanel Cleeton delivers a sweeping story of love and courage, as well as a sobering reminder of the power and responsibility of the media.']"
      ]
     },
     "execution_count": 73,
     "metadata": {},
     "output_type": "execute_result"
    }
   ],
   "source": [
    "review_n"
   ]
  },
  {
   "cell_type": "code",
   "execution_count": 74,
   "metadata": {},
   "outputs": [],
   "source": [
    "df = pd.DataFrame(book_n,columns=[\"Name\"])"
   ]
  },
  {
   "cell_type": "code",
   "execution_count": 75,
   "metadata": {},
   "outputs": [],
   "source": [
    "df1 = pd.DataFrame(auth_n,columns=[\"Author\"])"
   ]
  },
  {
   "cell_type": "code",
   "execution_count": 76,
   "metadata": {},
   "outputs": [],
   "source": [
    "df2 = pd.DataFrame(genre_n,columns=[\"Genre\"])"
   ]
  },
  {
   "cell_type": "code",
   "execution_count": 77,
   "metadata": {},
   "outputs": [],
   "source": [
    "df4 = pd.DataFrame(review_n,columns=[\"Review\"])"
   ]
  },
  {
   "cell_type": "code",
   "execution_count": 78,
   "metadata": {},
   "outputs": [],
   "source": [
    "df_f = pd.concat([df,df1,df2,df4],axis=1)"
   ]
  },
  {
   "cell_type": "code",
   "execution_count": 79,
   "metadata": {},
   "outputs": [
    {
     "data": {
      "text/html": [
       "<div>\n",
       "<style scoped>\n",
       "    .dataframe tbody tr th:only-of-type {\n",
       "        vertical-align: middle;\n",
       "    }\n",
       "\n",
       "    .dataframe tbody tr th {\n",
       "        vertical-align: top;\n",
       "    }\n",
       "\n",
       "    .dataframe thead th {\n",
       "        text-align: right;\n",
       "    }\n",
       "</style>\n",
       "<table border=\"1\" class=\"dataframe\">\n",
       "  <thead>\n",
       "    <tr style=\"text-align: right;\">\n",
       "      <th></th>\n",
       "      <th>Name</th>\n",
       "      <th>Author</th>\n",
       "      <th>Genre</th>\n",
       "      <th>Review</th>\n",
       "    </tr>\n",
       "  </thead>\n",
       "  <tbody>\n",
       "    <tr>\n",
       "      <th>0</th>\n",
       "      <td>China, then and now</td>\n",
       "      <td>Behind the Book by Brian Klingborg</td>\n",
       "      <td>Mystery &amp; Suspense / Mystery</td>\n",
       "      <td>Brian Klingborg shares why modern China is the...</td>\n",
       "    </tr>\n",
       "    <tr>\n",
       "      <th>1</th>\n",
       "      <td>Katy Birchall</td>\n",
       "      <td>Interview by Savanna Walker</td>\n",
       "      <td>Romance / Contemporary Romance</td>\n",
       "      <td>Katy Birchall's latest heroine has what might ...</td>\n",
       "    </tr>\n",
       "    <tr>\n",
       "      <th>2</th>\n",
       "      <td>Pawcasso</td>\n",
       "      <td>Review by Sharon Verbeten</td>\n",
       "      <td>Children's / Middle Grade</td>\n",
       "      <td>This joyful graphic novel from acclaimed autho...</td>\n",
       "    </tr>\n",
       "    <tr>\n",
       "      <th>3</th>\n",
       "      <td>★ On Juneteenth</td>\n",
       "      <td>Review by Deborah Mason</td>\n",
       "      <td>Nonfiction / History / American History</td>\n",
       "      <td>Gordon-Reed’s essays seamlessly merge history,...</td>\n",
       "    </tr>\n",
       "    <tr>\n",
       "      <th>4</th>\n",
       "      <td>The Most Beautiful Girl in Cuba</td>\n",
       "      <td>Review by Amy Scribner</td>\n",
       "      <td>Fiction / Historical Fiction</td>\n",
       "      <td>Chanel Cleeton delivers a sweeping story of lo...</td>\n",
       "    </tr>\n",
       "  </tbody>\n",
       "</table>\n",
       "</div>"
      ],
      "text/plain": [
       "                              Name                              Author  \\\n",
       "0              China, then and now  Behind the Book by Brian Klingborg   \n",
       "1                    Katy Birchall         Interview by Savanna Walker   \n",
       "2                         Pawcasso           Review by Sharon Verbeten   \n",
       "3                  ★ On Juneteenth             Review by Deborah Mason   \n",
       "4  The Most Beautiful Girl in Cuba              Review by Amy Scribner   \n",
       "\n",
       "                                     Genre  \\\n",
       "0             Mystery & Suspense / Mystery   \n",
       "1           Romance / Contemporary Romance   \n",
       "2                Children's / Middle Grade   \n",
       "3  Nonfiction / History / American History   \n",
       "4             Fiction / Historical Fiction   \n",
       "\n",
       "                                              Review  \n",
       "0  Brian Klingborg shares why modern China is the...  \n",
       "1  Katy Birchall's latest heroine has what might ...  \n",
       "2  This joyful graphic novel from acclaimed autho...  \n",
       "3  Gordon-Reed’s essays seamlessly merge history,...  \n",
       "4  Chanel Cleeton delivers a sweeping story of lo...  "
      ]
     },
     "execution_count": 79,
     "metadata": {},
     "output_type": "execute_result"
    }
   ],
   "source": [
    "df_f.head()"
   ]
  },
  {
   "cell_type": "markdown",
   "metadata": {},
   "source": [
    "#### Write a python program to scrape cricket rankings from ‘www.icc-cricket.com’. You have to scrape:\n",
    "\n",
    "- i) Top 10 ODI teams in men’s cricket along with the records for matches, points and rating.\n",
    "\n",
    "\n",
    "- ii) Top 10 ODI Batsmen in men along with the records of their team and rating.\n",
    "\n",
    "\n",
    "- iii) Top 10 ODI bowlers along with the records of their team and rating."
   ]
  },
  {
   "cell_type": "code",
   "execution_count": 80,
   "metadata": {},
   "outputs": [],
   "source": [
    "base_url = \"https://www.icc-cricket.com/rankings/mens/team-rankings/odi\""
   ]
  },
  {
   "cell_type": "code",
   "execution_count": 81,
   "metadata": {},
   "outputs": [],
   "source": [
    "req = requests.get(base_url)"
   ]
  },
  {
   "cell_type": "code",
   "execution_count": 82,
   "metadata": {},
   "outputs": [
    {
     "data": {
      "text/plain": [
       "<Response [200]>"
      ]
     },
     "execution_count": 82,
     "metadata": {},
     "output_type": "execute_result"
    }
   ],
   "source": [
    "req"
   ]
  },
  {
   "cell_type": "code",
   "execution_count": 83,
   "metadata": {},
   "outputs": [],
   "source": [
    "soup = bs4.BeautifulSoup(req.text,\"lxml\")"
   ]
  },
  {
   "cell_type": "code",
   "execution_count": 84,
   "metadata": {},
   "outputs": [
    {
     "data": {
      "text/plain": [
       "[<span class=\"u-hide-phablet\">New Zealand</span>,\n",
       " <span class=\"u-hide-phablet\">Australia</span>,\n",
       " <span class=\"u-hide-phablet\">India</span>,\n",
       " <span class=\"u-hide-phablet\">England</span>,\n",
       " <span class=\"u-hide-phablet\">South Africa</span>,\n",
       " <span class=\"u-hide-phablet\">Pakistan</span>,\n",
       " <span class=\"u-hide-phablet\">Bangladesh</span>,\n",
       " <span class=\"u-hide-phablet\">West Indies</span>,\n",
       " <span class=\"u-hide-phablet\">Sri Lanka</span>,\n",
       " <span class=\"u-hide-phablet\">Afghanistan</span>,\n",
       " <span class=\"u-hide-phablet\">Netherlands</span>,\n",
       " <span class=\"u-hide-phablet\">Ireland</span>,\n",
       " <span class=\"u-hide-phablet\">Zimbabwe</span>,\n",
       " <span class=\"u-hide-phablet\">Oman</span>,\n",
       " <span class=\"u-hide-phablet\">Scotland</span>,\n",
       " <span class=\"u-hide-phablet\">Nepal</span>,\n",
       " <span class=\"u-hide-phablet\">UAE</span>,\n",
       " <span class=\"u-hide-phablet\">Namibia</span>,\n",
       " <span class=\"u-hide-phablet\">United States</span>,\n",
       " <span class=\"u-hide-phablet\">Papua New Guinea</span>,\n",
       " <span class=\"icn icn-facebook-circle u-hide-phablet\"></span>,\n",
       " <span class=\"icn icn-twitter-circle u-hide-phablet\"></span>,\n",
       " <span class=\"icn icn-instagram-circle u-hide-phablet\"></span>,\n",
       " <span class=\"icn icn-youtube-circle u-hide-phablet\"></span>,\n",
       " <span class=\"icn icn-tiktok-circle u-hide-phablet\"></span>]"
      ]
     },
     "execution_count": 84,
     "metadata": {},
     "output_type": "execute_result"
    }
   ],
   "source": [
    "soup.select(\".u-hide-phablet\")"
   ]
  },
  {
   "cell_type": "code",
   "execution_count": 85,
   "metadata": {},
   "outputs": [],
   "source": [
    "name_teams = []\n",
    "for team in soup.select(\".u-hide-phablet\"):\n",
    "    \n",
    "    t_name = team.text\n",
    "    \n",
    "    name_teams.append(t_name)"
   ]
  },
  {
   "cell_type": "code",
   "execution_count": 86,
   "metadata": {},
   "outputs": [
    {
     "data": {
      "text/plain": [
       "['New Zealand',\n",
       " 'Australia',\n",
       " 'India',\n",
       " 'England',\n",
       " 'South Africa',\n",
       " 'Pakistan',\n",
       " 'Bangladesh',\n",
       " 'West Indies',\n",
       " 'Sri Lanka',\n",
       " 'Afghanistan']"
      ]
     },
     "execution_count": 86,
     "metadata": {},
     "output_type": "execute_result"
    }
   ],
   "source": [
    "name_teams[:10]"
   ]
  },
  {
   "cell_type": "code",
   "execution_count": 87,
   "metadata": {},
   "outputs": [],
   "source": [
    "odi = []\n",
    "\n",
    "for i in soup.select(\".table-body\"):\n",
    "    \n",
    "    mat = i.text\n",
    "    \n",
    "    odi.append(mat)"
   ]
  },
  {
   "cell_type": "code",
   "execution_count": 88,
   "metadata": {},
   "outputs": [],
   "source": [
    "odi = odi[:9]"
   ]
  },
  {
   "cell_type": "code",
   "execution_count": 89,
   "metadata": {},
   "outputs": [
    {
     "data": {
      "text/plain": [
       "['\\n2\\n\\n\\nAustralia\\nAUS\\n\\n25\\n2,945\\n118\\n',\n",
       " '\\n3\\n\\n\\nIndia\\nIND\\n\\n29\\n3,344\\n115\\n',\n",
       " '\\n4\\n\\n\\nEngland\\nENG\\n\\n27\\n3,100\\n115\\n',\n",
       " '\\n5\\n\\n\\nSouth Africa\\nSA\\n\\n20\\n2,137\\n107\\n',\n",
       " '\\n6\\n\\n\\nPakistan\\nPAK\\n\\n24\\n2,323\\n97\\n',\n",
       " '\\n7\\n\\n\\nBangladesh\\nBAN\\n\\n24\\n2,157\\n90\\n',\n",
       " '\\n8\\n\\n\\nWest Indies\\nWI\\n\\n27\\n2,222\\n82\\n',\n",
       " '\\n9\\n\\n\\nSri Lanka\\nSL\\n\\n21\\n1,652\\n79\\n',\n",
       " '\\n10\\n\\n\\nAfghanistan\\nAFG\\n\\n17\\n1,054\\n62\\n']"
      ]
     },
     "execution_count": 89,
     "metadata": {},
     "output_type": "execute_result"
    }
   ],
   "source": [
    "odi"
   ]
  },
  {
   "cell_type": "code",
   "execution_count": 90,
   "metadata": {},
   "outputs": [],
   "source": [
    "list1 = [x.replace('\\n', ' ') for x in odi]"
   ]
  },
  {
   "cell_type": "code",
   "execution_count": 91,
   "metadata": {},
   "outputs": [
    {
     "data": {
      "text/plain": [
       "[' 2   Australia AUS  25 2,945 118 ',\n",
       " ' 3   India IND  29 3,344 115 ',\n",
       " ' 4   England ENG  27 3,100 115 ',\n",
       " ' 5   South Africa SA  20 2,137 107 ',\n",
       " ' 6   Pakistan PAK  24 2,323 97 ',\n",
       " ' 7   Bangladesh BAN  24 2,157 90 ',\n",
       " ' 8   West Indies WI  27 2,222 82 ',\n",
       " ' 9   Sri Lanka SL  21 1,652 79 ',\n",
       " ' 10   Afghanistan AFG  17 1,054 62 ']"
      ]
     },
     "execution_count": 91,
     "metadata": {},
     "output_type": "execute_result"
    }
   ],
   "source": [
    "list1"
   ]
  },
  {
   "cell_type": "code",
   "execution_count": 92,
   "metadata": {},
   "outputs": [],
   "source": [
    "list1.insert(0,' 1   NewZealand NZ  17 2,054 121 ')"
   ]
  },
  {
   "cell_type": "code",
   "execution_count": 93,
   "metadata": {},
   "outputs": [
    {
     "data": {
      "text/plain": [
       "[' 1   NewZealand NZ  17 2,054 121 ',\n",
       " ' 2   Australia AUS  25 2,945 118 ',\n",
       " ' 3   India IND  29 3,344 115 ',\n",
       " ' 4   England ENG  27 3,100 115 ',\n",
       " ' 5   South Africa SA  20 2,137 107 ',\n",
       " ' 6   Pakistan PAK  24 2,323 97 ',\n",
       " ' 7   Bangladesh BAN  24 2,157 90 ',\n",
       " ' 8   West Indies WI  27 2,222 82 ',\n",
       " ' 9   Sri Lanka SL  21 1,652 79 ',\n",
       " ' 10   Afghanistan AFG  17 1,054 62 ']"
      ]
     },
     "execution_count": 93,
     "metadata": {},
     "output_type": "execute_result"
    }
   ],
   "source": [
    "list1"
   ]
  },
  {
   "cell_type": "code",
   "execution_count": 94,
   "metadata": {},
   "outputs": [],
   "source": [
    "matches = []\n",
    "\n",
    "for match in soup.select(\".table-body__cell.u-center-text\"):\n",
    "    \n",
    "    mat = match.text\n",
    "    \n",
    "    matches.append(mat)"
   ]
  },
  {
   "cell_type": "code",
   "execution_count": 95,
   "metadata": {},
   "outputs": [],
   "source": [
    "matches = matches[:18]"
   ]
  },
  {
   "cell_type": "code",
   "execution_count": 96,
   "metadata": {},
   "outputs": [
    {
     "data": {
      "text/plain": [
       "['25',\n",
       " '2,945',\n",
       " '29',\n",
       " '3,344',\n",
       " '27',\n",
       " '3,100',\n",
       " '20',\n",
       " '2,137',\n",
       " '24',\n",
       " '2,323',\n",
       " '24',\n",
       " '2,157',\n",
       " '27',\n",
       " '2,222',\n",
       " '21',\n",
       " '1,652',\n",
       " '17',\n",
       " '1,054']"
      ]
     },
     "execution_count": 96,
     "metadata": {},
     "output_type": "execute_result"
    }
   ],
   "source": [
    "matches"
   ]
  },
  {
   "cell_type": "code",
   "execution_count": 97,
   "metadata": {},
   "outputs": [],
   "source": [
    "match = []\n",
    "points = []\n",
    "\n",
    "for n in matches:\n",
    "    \n",
    "    if matches.index(n) % 2 == 0:\n",
    "        \n",
    "        match.append(n)\n",
    "        \n",
    "    elif matches.index(n) % 2 != 0:\n",
    "        \n",
    "        points.append(n)"
   ]
  },
  {
   "cell_type": "code",
   "execution_count": 98,
   "metadata": {},
   "outputs": [
    {
     "data": {
      "text/plain": [
       "['25', '29', '27', '20', '24', '24', '27', '21', '17']"
      ]
     },
     "execution_count": 98,
     "metadata": {},
     "output_type": "execute_result"
    }
   ],
   "source": [
    "match"
   ]
  },
  {
   "cell_type": "code",
   "execution_count": 99,
   "metadata": {},
   "outputs": [
    {
     "data": {
      "text/plain": [
       "['2,945',\n",
       " '3,344',\n",
       " '3,100',\n",
       " '2,137',\n",
       " '2,323',\n",
       " '2,157',\n",
       " '2,222',\n",
       " '1,652',\n",
       " '1,054']"
      ]
     },
     "execution_count": 99,
     "metadata": {},
     "output_type": "execute_result"
    }
   ],
   "source": [
    "points"
   ]
  },
  {
   "cell_type": "code",
   "execution_count": 100,
   "metadata": {},
   "outputs": [],
   "source": [
    "rating = []\n",
    "for rate in soup.select(\".table-body__cell.u-text-right.rating\"):\n",
    "    \n",
    "    ra = rate.text\n",
    "    rating.append(ra)"
   ]
  },
  {
   "cell_type": "code",
   "execution_count": 101,
   "metadata": {},
   "outputs": [],
   "source": [
    "rating = rating[:9]"
   ]
  },
  {
   "cell_type": "code",
   "execution_count": 102,
   "metadata": {},
   "outputs": [
    {
     "data": {
      "text/plain": [
       "['118', '115', '115', '107', '97', '90', '82', '79', '62']"
      ]
     },
     "execution_count": 102,
     "metadata": {},
     "output_type": "execute_result"
    }
   ],
   "source": [
    "rating"
   ]
  },
  {
   "cell_type": "code",
   "execution_count": 103,
   "metadata": {},
   "outputs": [
    {
     "data": {
      "text/plain": [
       "['2,945',\n",
       " '3,344',\n",
       " '3,100',\n",
       " '2,137',\n",
       " '2,323',\n",
       " '2,157',\n",
       " '2,222',\n",
       " '1,652',\n",
       " '1,054']"
      ]
     },
     "execution_count": 103,
     "metadata": {},
     "output_type": "execute_result"
    }
   ],
   "source": [
    "points"
   ]
  },
  {
   "cell_type": "code",
   "execution_count": 104,
   "metadata": {},
   "outputs": [
    {
     "data": {
      "text/plain": [
       "['25', '29', '27', '20', '24', '24', '27', '21', '17']"
      ]
     },
     "execution_count": 104,
     "metadata": {},
     "output_type": "execute_result"
    }
   ],
   "source": [
    "match"
   ]
  },
  {
   "cell_type": "code",
   "execution_count": 105,
   "metadata": {},
   "outputs": [],
   "source": [
    "name_teams = name_teams[:10] "
   ]
  },
  {
   "cell_type": "code",
   "execution_count": 106,
   "metadata": {},
   "outputs": [
    {
     "data": {
      "text/plain": [
       "['New Zealand',\n",
       " 'Australia',\n",
       " 'India',\n",
       " 'England',\n",
       " 'South Africa',\n",
       " 'Pakistan',\n",
       " 'Bangladesh',\n",
       " 'West Indies',\n",
       " 'Sri Lanka',\n",
       " 'Afghanistan']"
      ]
     },
     "execution_count": 106,
     "metadata": {},
     "output_type": "execute_result"
    }
   ],
   "source": [
    "name_teams"
   ]
  },
  {
   "cell_type": "code",
   "execution_count": 107,
   "metadata": {},
   "outputs": [],
   "source": [
    "rating.insert(0,\"121\")"
   ]
  },
  {
   "cell_type": "code",
   "execution_count": 108,
   "metadata": {},
   "outputs": [
    {
     "data": {
      "text/plain": [
       "['121', '118', '115', '115', '107', '97', '90', '82', '79', '62']"
      ]
     },
     "execution_count": 108,
     "metadata": {},
     "output_type": "execute_result"
    }
   ],
   "source": [
    "rating"
   ]
  },
  {
   "cell_type": "code",
   "execution_count": 109,
   "metadata": {},
   "outputs": [],
   "source": [
    "match.insert(0,\"17\")"
   ]
  },
  {
   "cell_type": "code",
   "execution_count": 110,
   "metadata": {},
   "outputs": [
    {
     "data": {
      "text/plain": [
       "['17', '25', '29', '27', '20', '24', '24', '27', '21', '17']"
      ]
     },
     "execution_count": 110,
     "metadata": {},
     "output_type": "execute_result"
    }
   ],
   "source": [
    "match"
   ]
  },
  {
   "cell_type": "code",
   "execution_count": 111,
   "metadata": {},
   "outputs": [],
   "source": [
    "points.insert(0,\"2,054\")"
   ]
  },
  {
   "cell_type": "code",
   "execution_count": 112,
   "metadata": {},
   "outputs": [
    {
     "data": {
      "text/plain": [
       "['2,054',\n",
       " '2,945',\n",
       " '3,344',\n",
       " '3,100',\n",
       " '2,137',\n",
       " '2,323',\n",
       " '2,157',\n",
       " '2,222',\n",
       " '1,652',\n",
       " '1,054']"
      ]
     },
     "execution_count": 112,
     "metadata": {},
     "output_type": "execute_result"
    }
   ],
   "source": [
    "points"
   ]
  },
  {
   "cell_type": "code",
   "execution_count": 113,
   "metadata": {},
   "outputs": [
    {
     "data": {
      "text/plain": [
       "['New Zealand',\n",
       " 'Australia',\n",
       " 'India',\n",
       " 'England',\n",
       " 'South Africa',\n",
       " 'Pakistan',\n",
       " 'Bangladesh',\n",
       " 'West Indies',\n",
       " 'Sri Lanka',\n",
       " 'Afghanistan']"
      ]
     },
     "execution_count": 113,
     "metadata": {},
     "output_type": "execute_result"
    }
   ],
   "source": [
    "name_teams"
   ]
  },
  {
   "cell_type": "code",
   "execution_count": 114,
   "metadata": {},
   "outputs": [],
   "source": [
    "df1 = pd.DataFrame(name_teams,columns=[\"Team\"])\n",
    "df2 = pd.DataFrame(match,columns=[\"Matches\"])\n",
    "df3 = pd.DataFrame(points,columns=[\"Points\"])\n",
    "df4 = pd.DataFrame(rating,columns=[\"Rating\"])"
   ]
  },
  {
   "cell_type": "code",
   "execution_count": 115,
   "metadata": {},
   "outputs": [],
   "source": [
    "df = pd.concat([df1,df2,df3,df4],axis=1)"
   ]
  },
  {
   "cell_type": "markdown",
   "metadata": {},
   "source": [
    "### Top 10 ODI teams in men’s cricket along with the records for matches, points and rating."
   ]
  },
  {
   "cell_type": "code",
   "execution_count": 116,
   "metadata": {},
   "outputs": [
    {
     "data": {
      "text/html": [
       "<div>\n",
       "<style scoped>\n",
       "    .dataframe tbody tr th:only-of-type {\n",
       "        vertical-align: middle;\n",
       "    }\n",
       "\n",
       "    .dataframe tbody tr th {\n",
       "        vertical-align: top;\n",
       "    }\n",
       "\n",
       "    .dataframe thead th {\n",
       "        text-align: right;\n",
       "    }\n",
       "</style>\n",
       "<table border=\"1\" class=\"dataframe\">\n",
       "  <thead>\n",
       "    <tr style=\"text-align: right;\">\n",
       "      <th></th>\n",
       "      <th>Team</th>\n",
       "      <th>Matches</th>\n",
       "      <th>Points</th>\n",
       "      <th>Rating</th>\n",
       "    </tr>\n",
       "  </thead>\n",
       "  <tbody>\n",
       "    <tr>\n",
       "      <th>0</th>\n",
       "      <td>New Zealand</td>\n",
       "      <td>17</td>\n",
       "      <td>2,054</td>\n",
       "      <td>121</td>\n",
       "    </tr>\n",
       "    <tr>\n",
       "      <th>1</th>\n",
       "      <td>Australia</td>\n",
       "      <td>25</td>\n",
       "      <td>2,945</td>\n",
       "      <td>118</td>\n",
       "    </tr>\n",
       "    <tr>\n",
       "      <th>2</th>\n",
       "      <td>India</td>\n",
       "      <td>29</td>\n",
       "      <td>3,344</td>\n",
       "      <td>115</td>\n",
       "    </tr>\n",
       "    <tr>\n",
       "      <th>3</th>\n",
       "      <td>England</td>\n",
       "      <td>27</td>\n",
       "      <td>3,100</td>\n",
       "      <td>115</td>\n",
       "    </tr>\n",
       "    <tr>\n",
       "      <th>4</th>\n",
       "      <td>South Africa</td>\n",
       "      <td>20</td>\n",
       "      <td>2,137</td>\n",
       "      <td>107</td>\n",
       "    </tr>\n",
       "  </tbody>\n",
       "</table>\n",
       "</div>"
      ],
      "text/plain": [
       "           Team Matches Points Rating\n",
       "0   New Zealand      17  2,054    121\n",
       "1     Australia      25  2,945    118\n",
       "2         India      29  3,344    115\n",
       "3       England      27  3,100    115\n",
       "4  South Africa      20  2,137    107"
      ]
     },
     "execution_count": 116,
     "metadata": {},
     "output_type": "execute_result"
    }
   ],
   "source": [
    "df.head()"
   ]
  },
  {
   "cell_type": "code",
   "execution_count": 117,
   "metadata": {},
   "outputs": [],
   "source": [
    "base_url = \"https://www.icc-cricket.com/rankings/mens/player-rankings/odi\""
   ]
  },
  {
   "cell_type": "code",
   "execution_count": 118,
   "metadata": {},
   "outputs": [],
   "source": [
    "req = requests.get(base_url)"
   ]
  },
  {
   "cell_type": "code",
   "execution_count": 119,
   "metadata": {},
   "outputs": [
    {
     "data": {
      "text/plain": [
       "<Response [200]>"
      ]
     },
     "execution_count": 119,
     "metadata": {},
     "output_type": "execute_result"
    }
   ],
   "source": [
    "req"
   ]
  },
  {
   "cell_type": "code",
   "execution_count": 120,
   "metadata": {},
   "outputs": [],
   "source": [
    "soup = bs4.BeautifulSoup(req.text,\"lxml\")"
   ]
  },
  {
   "cell_type": "code",
   "execution_count": 121,
   "metadata": {},
   "outputs": [],
   "source": [
    "player_names = []\n",
    "\n",
    "for name in soup.select(\".table-body__cell.name\"):\n",
    "    \n",
    "    na = name.text\n",
    "    \n",
    "    player_names.append(na)"
   ]
  },
  {
   "cell_type": "code",
   "execution_count": 122,
   "metadata": {},
   "outputs": [],
   "source": [
    "player_names = [x.replace('\\n', ' ') for x in player_names]"
   ]
  },
  {
   "cell_type": "code",
   "execution_count": 123,
   "metadata": {},
   "outputs": [],
   "source": [
    "player_names = player_names[:9]"
   ]
  },
  {
   "cell_type": "code",
   "execution_count": 124,
   "metadata": {},
   "outputs": [
    {
     "data": {
      "text/plain": [
       "[' Virat Kohli ',\n",
       " ' Rohit Sharma ',\n",
       " ' Ross Taylor ',\n",
       " ' Aaron Finch ',\n",
       " ' Jonny Bairstow ',\n",
       " ' Fakhar Zaman ',\n",
       " ' Francois du Plessis ',\n",
       " ' David Warner ',\n",
       " ' Shai Hope ']"
      ]
     },
     "execution_count": 124,
     "metadata": {},
     "output_type": "execute_result"
    }
   ],
   "source": [
    "player_names"
   ]
  },
  {
   "cell_type": "code",
   "execution_count": 125,
   "metadata": {},
   "outputs": [],
   "source": [
    "nation = []\n",
    "for nat in soup.select(\".table-body__logo-text\"):\n",
    "    \n",
    "    natio = nat.text\n",
    "    \n",
    "    nation.append(natio)"
   ]
  },
  {
   "cell_type": "code",
   "execution_count": 126,
   "metadata": {},
   "outputs": [],
   "source": [
    "nation = nation[:9]"
   ]
  },
  {
   "cell_type": "code",
   "execution_count": 127,
   "metadata": {},
   "outputs": [
    {
     "data": {
      "text/plain": [
       "['IND', 'IND', 'NZ', 'AUS', 'ENG', 'PAK', 'SA', 'AUS', 'WI']"
      ]
     },
     "execution_count": 127,
     "metadata": {},
     "output_type": "execute_result"
    }
   ],
   "source": [
    "nation"
   ]
  },
  {
   "cell_type": "code",
   "execution_count": 128,
   "metadata": {},
   "outputs": [],
   "source": [
    "rating = []\n",
    "\n",
    "for rat in soup.select(\".table-body__cell.rating\"):\n",
    "    \n",
    "    r = rat.text\n",
    "    \n",
    "    rating.append(r)"
   ]
  },
  {
   "cell_type": "code",
   "execution_count": 129,
   "metadata": {},
   "outputs": [],
   "source": [
    "rating = rating[:9]"
   ]
  },
  {
   "cell_type": "code",
   "execution_count": 130,
   "metadata": {},
   "outputs": [
    {
     "data": {
      "text/plain": [
       "['857', '825', '801', '791', '785', '778', '778', '773', '773']"
      ]
     },
     "execution_count": 130,
     "metadata": {},
     "output_type": "execute_result"
    }
   ],
   "source": [
    "rating"
   ]
  },
  {
   "cell_type": "code",
   "execution_count": 131,
   "metadata": {},
   "outputs": [],
   "source": [
    "player_names.insert(0,\"Babar Azam\")"
   ]
  },
  {
   "cell_type": "code",
   "execution_count": 132,
   "metadata": {},
   "outputs": [],
   "source": [
    "rating.insert(0,\"865\")"
   ]
  },
  {
   "cell_type": "code",
   "execution_count": 133,
   "metadata": {},
   "outputs": [],
   "source": [
    "nation.insert(0,\"PAK\")"
   ]
  },
  {
   "cell_type": "code",
   "execution_count": 134,
   "metadata": {},
   "outputs": [],
   "source": [
    "df1 = pd.DataFrame(player_names,columns=[\"Names\"])\n",
    "df2 = pd.DataFrame(nation,columns=[\"Nation\"])\n",
    "df3 = pd.DataFrame(rating,columns=[\"rating\"])"
   ]
  },
  {
   "cell_type": "code",
   "execution_count": 135,
   "metadata": {},
   "outputs": [],
   "source": [
    "df = pd.concat([df1,df2,df3],axis=1)"
   ]
  },
  {
   "cell_type": "markdown",
   "metadata": {},
   "source": [
    "### Top 10 ODI Batsmen in men along with the records of their team and rating."
   ]
  },
  {
   "cell_type": "code",
   "execution_count": 136,
   "metadata": {},
   "outputs": [
    {
     "data": {
      "text/html": [
       "<div>\n",
       "<style scoped>\n",
       "    .dataframe tbody tr th:only-of-type {\n",
       "        vertical-align: middle;\n",
       "    }\n",
       "\n",
       "    .dataframe tbody tr th {\n",
       "        vertical-align: top;\n",
       "    }\n",
       "\n",
       "    .dataframe thead th {\n",
       "        text-align: right;\n",
       "    }\n",
       "</style>\n",
       "<table border=\"1\" class=\"dataframe\">\n",
       "  <thead>\n",
       "    <tr style=\"text-align: right;\">\n",
       "      <th></th>\n",
       "      <th>Names</th>\n",
       "      <th>Nation</th>\n",
       "      <th>rating</th>\n",
       "    </tr>\n",
       "  </thead>\n",
       "  <tbody>\n",
       "    <tr>\n",
       "      <th>0</th>\n",
       "      <td>Babar Azam</td>\n",
       "      <td>PAK</td>\n",
       "      <td>865</td>\n",
       "    </tr>\n",
       "    <tr>\n",
       "      <th>1</th>\n",
       "      <td>Virat Kohli</td>\n",
       "      <td>IND</td>\n",
       "      <td>857</td>\n",
       "    </tr>\n",
       "    <tr>\n",
       "      <th>2</th>\n",
       "      <td>Rohit Sharma</td>\n",
       "      <td>IND</td>\n",
       "      <td>825</td>\n",
       "    </tr>\n",
       "    <tr>\n",
       "      <th>3</th>\n",
       "      <td>Ross Taylor</td>\n",
       "      <td>NZ</td>\n",
       "      <td>801</td>\n",
       "    </tr>\n",
       "    <tr>\n",
       "      <th>4</th>\n",
       "      <td>Aaron Finch</td>\n",
       "      <td>AUS</td>\n",
       "      <td>791</td>\n",
       "    </tr>\n",
       "  </tbody>\n",
       "</table>\n",
       "</div>"
      ],
      "text/plain": [
       "            Names Nation rating\n",
       "0      Babar Azam    PAK    865\n",
       "1    Virat Kohli     IND    857\n",
       "2   Rohit Sharma     IND    825\n",
       "3    Ross Taylor      NZ    801\n",
       "4    Aaron Finch     AUS    791"
      ]
     },
     "execution_count": 136,
     "metadata": {},
     "output_type": "execute_result"
    }
   ],
   "source": [
    "df.head()"
   ]
  },
  {
   "cell_type": "code",
   "execution_count": 137,
   "metadata": {},
   "outputs": [],
   "source": [
    "url = \"https://www.icc-cricket.com/rankings/mens/player-rankings/odi/bowling\""
   ]
  },
  {
   "cell_type": "code",
   "execution_count": 138,
   "metadata": {},
   "outputs": [],
   "source": [
    "req = requests.get(url)"
   ]
  },
  {
   "cell_type": "code",
   "execution_count": 139,
   "metadata": {},
   "outputs": [
    {
     "data": {
      "text/plain": [
       "<Response [200]>"
      ]
     },
     "execution_count": 139,
     "metadata": {},
     "output_type": "execute_result"
    }
   ],
   "source": [
    "req"
   ]
  },
  {
   "cell_type": "code",
   "execution_count": 140,
   "metadata": {},
   "outputs": [],
   "source": [
    "soup = bs4.BeautifulSoup(req.text,\"lxml\")"
   ]
  },
  {
   "cell_type": "code",
   "execution_count": 141,
   "metadata": {},
   "outputs": [],
   "source": [
    "bal_name = []\n",
    "\n",
    "for b_name in soup.select(\".table-body__cell.rankings-table__name.name\"):\n",
    "    ball = b_name.text\n",
    "    \n",
    "    bal_name.append(ball)"
   ]
  },
  {
   "cell_type": "code",
   "execution_count": 142,
   "metadata": {},
   "outputs": [],
   "source": [
    "bal_name = [x.replace('\\n', ' ') for x in bal_name]"
   ]
  },
  {
   "cell_type": "code",
   "execution_count": 143,
   "metadata": {},
   "outputs": [],
   "source": [
    "bal_name = bal_name[:9]"
   ]
  },
  {
   "cell_type": "code",
   "execution_count": 144,
   "metadata": {},
   "outputs": [
    {
     "data": {
      "text/plain": [
       "[' Mujeeb Ur Rahman ',\n",
       " ' Matt Henry ',\n",
       " ' Jasprit Bumrah ',\n",
       " ' Mehedi Hasan ',\n",
       " ' Kagiso Rabada ',\n",
       " ' Chris Woakes ',\n",
       " ' Josh Hazlewood ',\n",
       " ' Pat Cummins ',\n",
       " ' Mohammad Amir ']"
      ]
     },
     "execution_count": 144,
     "metadata": {},
     "output_type": "execute_result"
    }
   ],
   "source": [
    "bal_name"
   ]
  },
  {
   "cell_type": "code",
   "execution_count": 145,
   "metadata": {},
   "outputs": [],
   "source": [
    "bal_team = []\n",
    "\n",
    "for b_team in soup.select(\".table-body__logo-text\"):\n",
    "    \n",
    "    bt = b_team.text\n",
    "    \n",
    "    bal_team.append(bt)"
   ]
  },
  {
   "cell_type": "code",
   "execution_count": 146,
   "metadata": {},
   "outputs": [],
   "source": [
    "bal_team =bal_team[:9]"
   ]
  },
  {
   "cell_type": "code",
   "execution_count": 147,
   "metadata": {},
   "outputs": [
    {
     "data": {
      "text/plain": [
       "['AFG', 'NZ', 'IND', 'BAN', 'SA', 'ENG', 'AUS', 'AUS', 'PAK']"
      ]
     },
     "execution_count": 147,
     "metadata": {},
     "output_type": "execute_result"
    }
   ],
   "source": [
    "bal_team"
   ]
  },
  {
   "cell_type": "code",
   "execution_count": 148,
   "metadata": {},
   "outputs": [],
   "source": [
    "bal_rate = []\n",
    "\n",
    "for b_rate in soup.select(\".table-body__cell.rating\"):\n",
    "    \n",
    "    br = b_rate.text\n",
    "    \n",
    "    bal_rate.append(br)"
   ]
  },
  {
   "cell_type": "code",
   "execution_count": 149,
   "metadata": {},
   "outputs": [],
   "source": [
    "bal_rate = bal_rate[:9]"
   ]
  },
  {
   "cell_type": "code",
   "execution_count": 150,
   "metadata": {},
   "outputs": [
    {
     "data": {
      "text/plain": [
       "['708', '691', '690', '668', '666', '665', '660', '646', '638']"
      ]
     },
     "execution_count": 150,
     "metadata": {},
     "output_type": "execute_result"
    }
   ],
   "source": [
    "bal_rate"
   ]
  },
  {
   "cell_type": "code",
   "execution_count": 151,
   "metadata": {},
   "outputs": [],
   "source": [
    "bal_name.insert(0,\"Trent Boult\")"
   ]
  },
  {
   "cell_type": "code",
   "execution_count": 152,
   "metadata": {},
   "outputs": [],
   "source": [
    "bal_team.insert(0,\"NZ\")"
   ]
  },
  {
   "cell_type": "code",
   "execution_count": 153,
   "metadata": {},
   "outputs": [],
   "source": [
    "bal_rate.insert(0,\"737\")"
   ]
  },
  {
   "cell_type": "code",
   "execution_count": 154,
   "metadata": {},
   "outputs": [],
   "source": [
    "df1 = pd.DataFrame(bal_name,columns=[\"Name\"])\n",
    "df2 = pd.DataFrame(bal_team,columns=[\"Nation\"])\n",
    "df3 = pd.DataFrame(bal_rate,columns=[\"Rating\"])"
   ]
  },
  {
   "cell_type": "code",
   "execution_count": 155,
   "metadata": {},
   "outputs": [],
   "source": [
    "df = pd.concat([df1,df2,df3],axis=1)"
   ]
  },
  {
   "cell_type": "markdown",
   "metadata": {},
   "source": [
    "### Top 10 ODI bowlers along with the records of their team and rating."
   ]
  },
  {
   "cell_type": "code",
   "execution_count": 156,
   "metadata": {},
   "outputs": [
    {
     "data": {
      "text/html": [
       "<div>\n",
       "<style scoped>\n",
       "    .dataframe tbody tr th:only-of-type {\n",
       "        vertical-align: middle;\n",
       "    }\n",
       "\n",
       "    .dataframe tbody tr th {\n",
       "        vertical-align: top;\n",
       "    }\n",
       "\n",
       "    .dataframe thead th {\n",
       "        text-align: right;\n",
       "    }\n",
       "</style>\n",
       "<table border=\"1\" class=\"dataframe\">\n",
       "  <thead>\n",
       "    <tr style=\"text-align: right;\">\n",
       "      <th></th>\n",
       "      <th>Name</th>\n",
       "      <th>Nation</th>\n",
       "      <th>Rating</th>\n",
       "    </tr>\n",
       "  </thead>\n",
       "  <tbody>\n",
       "    <tr>\n",
       "      <th>0</th>\n",
       "      <td>Trent Boult</td>\n",
       "      <td>NZ</td>\n",
       "      <td>737</td>\n",
       "    </tr>\n",
       "    <tr>\n",
       "      <th>1</th>\n",
       "      <td>Mujeeb Ur Rahman</td>\n",
       "      <td>AFG</td>\n",
       "      <td>708</td>\n",
       "    </tr>\n",
       "    <tr>\n",
       "      <th>2</th>\n",
       "      <td>Matt Henry</td>\n",
       "      <td>NZ</td>\n",
       "      <td>691</td>\n",
       "    </tr>\n",
       "    <tr>\n",
       "      <th>3</th>\n",
       "      <td>Jasprit Bumrah</td>\n",
       "      <td>IND</td>\n",
       "      <td>690</td>\n",
       "    </tr>\n",
       "    <tr>\n",
       "      <th>4</th>\n",
       "      <td>Mehedi Hasan</td>\n",
       "      <td>BAN</td>\n",
       "      <td>668</td>\n",
       "    </tr>\n",
       "  </tbody>\n",
       "</table>\n",
       "</div>"
      ],
      "text/plain": [
       "                 Name Nation Rating\n",
       "0         Trent Boult     NZ    737\n",
       "1   Mujeeb Ur Rahman     AFG    708\n",
       "2         Matt Henry      NZ    691\n",
       "3     Jasprit Bumrah     IND    690\n",
       "4       Mehedi Hasan     BAN    668"
      ]
     },
     "execution_count": 156,
     "metadata": {},
     "output_type": "execute_result"
    }
   ],
   "source": [
    "df.head()"
   ]
  },
  {
   "cell_type": "code",
   "execution_count": null,
   "metadata": {},
   "outputs": [],
   "source": []
  },
  {
   "cell_type": "markdown",
   "metadata": {},
   "source": [
    "Write a python program to scrape cricket rankings from ‘www.icc-cricket.com’. You have to scrape:\n",
    "\n",
    "\n",
    "- i) Top 10 ODI teams in women’s cricket along with the records for matches, points and rating.\n",
    "\n",
    "\n",
    "- ii) Top 10 women’s ODI players along with the records of their team and rating.\n",
    "\n",
    "\n",
    "- iii) Top 10 women’s ODI all-rounder along with the records of their team and rating."
   ]
  },
  {
   "cell_type": "code",
   "execution_count": 157,
   "metadata": {},
   "outputs": [],
   "source": [
    "url = \"https://www.icc-cricket.com/rankings/womens/team-rankings/odi\""
   ]
  },
  {
   "cell_type": "code",
   "execution_count": 158,
   "metadata": {},
   "outputs": [],
   "source": [
    "res = requests.get(url)"
   ]
  },
  {
   "cell_type": "code",
   "execution_count": 159,
   "metadata": {},
   "outputs": [
    {
     "data": {
      "text/plain": [
       "<Response [200]>"
      ]
     },
     "execution_count": 159,
     "metadata": {},
     "output_type": "execute_result"
    }
   ],
   "source": [
    "res"
   ]
  },
  {
   "cell_type": "code",
   "execution_count": 160,
   "metadata": {},
   "outputs": [],
   "source": [
    "soup = bs4.BeautifulSoup(res.text,\"lxml\")"
   ]
  },
  {
   "cell_type": "code",
   "execution_count": 161,
   "metadata": {},
   "outputs": [],
   "source": [
    "w_team = []\n",
    "\n",
    "for wt in soup.select(\".u-show-phablet\"):\n",
    "    \n",
    "    women = wt.text\n",
    "    \n",
    "    w_team.append(women)"
   ]
  },
  {
   "cell_type": "code",
   "execution_count": 162,
   "metadata": {},
   "outputs": [],
   "source": [
    "w_team = w_team[:10]"
   ]
  },
  {
   "cell_type": "code",
   "execution_count": 163,
   "metadata": {},
   "outputs": [
    {
     "data": {
      "text/plain": [
       "['AUS', 'SA', 'ENG', 'IND', 'NZ', 'WI', 'PAK', 'BAN', 'SL', 'IRE']"
      ]
     },
     "execution_count": 163,
     "metadata": {},
     "output_type": "execute_result"
    }
   ],
   "source": [
    "w_team"
   ]
  },
  {
   "cell_type": "code",
   "execution_count": 164,
   "metadata": {},
   "outputs": [],
   "source": [
    "mp = []\n",
    "for i in soup.select(\".table-body__cell.u-center-text\"):\n",
    "    \n",
    "    mpa = i.text\n",
    "    \n",
    "    mp.append(mpa)"
   ]
  },
  {
   "cell_type": "code",
   "execution_count": 165,
   "metadata": {},
   "outputs": [
    {
     "data": {
      "text/plain": [
       "['24',\n",
       " '2,828',\n",
       " '17',\n",
       " '1,993',\n",
       " '20',\n",
       " '2,226',\n",
       " '21',\n",
       " '1,947',\n",
       " '12',\n",
       " '1,025',\n",
       " '15',\n",
       " '1,101',\n",
       " '5',\n",
       " '306',\n",
       " '11',\n",
       " '519',\n",
       " '2',\n",
       " '25']"
      ]
     },
     "execution_count": 165,
     "metadata": {},
     "output_type": "execute_result"
    }
   ],
   "source": [
    "mp"
   ]
  },
  {
   "cell_type": "code",
   "execution_count": 166,
   "metadata": {},
   "outputs": [],
   "source": [
    "match_w = []\n",
    "points_w = []\n",
    "\n",
    "for n in mp:\n",
    "    \n",
    "    if mp.index(n) % 2 == 0:\n",
    "        \n",
    "        match_w.append(n)\n",
    "        \n",
    "    elif mp.index(n) % 2 != 0:\n",
    "        \n",
    "        points_w.append(n)"
   ]
  },
  {
   "cell_type": "code",
   "execution_count": 167,
   "metadata": {},
   "outputs": [
    {
     "data": {
      "text/plain": [
       "['24', '17', '20', '21', '12', '15', '5', '11', '2']"
      ]
     },
     "execution_count": 167,
     "metadata": {},
     "output_type": "execute_result"
    }
   ],
   "source": [
    "match_w"
   ]
  },
  {
   "cell_type": "code",
   "execution_count": 168,
   "metadata": {},
   "outputs": [
    {
     "data": {
      "text/plain": [
       "['2,828', '1,993', '2,226', '1,947', '1,025', '1,101', '306', '519', '25']"
      ]
     },
     "execution_count": 168,
     "metadata": {},
     "output_type": "execute_result"
    }
   ],
   "source": [
    "points_w"
   ]
  },
  {
   "cell_type": "code",
   "execution_count": 169,
   "metadata": {},
   "outputs": [],
   "source": [
    "w_rat = []\n",
    "for i in soup.select(\".table-body__cell.u-text-right.rating\"):\n",
    "    w = i.text\n",
    "    w_rat.append(w)"
   ]
  },
  {
   "cell_type": "code",
   "execution_count": 170,
   "metadata": {},
   "outputs": [
    {
     "data": {
      "text/plain": [
       "['118', '117', '111', '93', '85', '73', '61', '47', '13']"
      ]
     },
     "execution_count": 170,
     "metadata": {},
     "output_type": "execute_result"
    }
   ],
   "source": [
    "w_rat"
   ]
  },
  {
   "cell_type": "code",
   "execution_count": 171,
   "metadata": {},
   "outputs": [],
   "source": [
    "match_w.insert(0,\"18\")"
   ]
  },
  {
   "cell_type": "code",
   "execution_count": 172,
   "metadata": {},
   "outputs": [],
   "source": [
    "points_w.insert(0,\"2,955\")"
   ]
  },
  {
   "cell_type": "code",
   "execution_count": 173,
   "metadata": {},
   "outputs": [],
   "source": [
    "w_rat.insert(0,\"164\")"
   ]
  },
  {
   "cell_type": "code",
   "execution_count": 174,
   "metadata": {},
   "outputs": [
    {
     "data": {
      "text/plain": [
       "['164', '118', '117', '111', '93', '85', '73', '61', '47', '13']"
      ]
     },
     "execution_count": 174,
     "metadata": {},
     "output_type": "execute_result"
    }
   ],
   "source": [
    "w_rat"
   ]
  },
  {
   "cell_type": "code",
   "execution_count": 175,
   "metadata": {},
   "outputs": [],
   "source": [
    "df1 = pd.DataFrame(w_team,columns=[\"Nation\"])\n",
    "df2 = pd.DataFrame(match_w,columns=[\"Matches\"])\n",
    "df3 = pd.DataFrame(points_w,columns=[\"Points\"])\n",
    "df4 = pd.DataFrame(w_rat,columns=[\"Ratings\"])"
   ]
  },
  {
   "cell_type": "code",
   "execution_count": 176,
   "metadata": {},
   "outputs": [],
   "source": [
    "df = pd.concat([df1,df2,df3,df4],axis=1)"
   ]
  },
  {
   "cell_type": "markdown",
   "metadata": {},
   "source": [
    "### Top 10 ODI teams in women’s cricket along with the records for matches, points and rating."
   ]
  },
  {
   "cell_type": "code",
   "execution_count": 177,
   "metadata": {},
   "outputs": [
    {
     "data": {
      "text/html": [
       "<div>\n",
       "<style scoped>\n",
       "    .dataframe tbody tr th:only-of-type {\n",
       "        vertical-align: middle;\n",
       "    }\n",
       "\n",
       "    .dataframe tbody tr th {\n",
       "        vertical-align: top;\n",
       "    }\n",
       "\n",
       "    .dataframe thead th {\n",
       "        text-align: right;\n",
       "    }\n",
       "</style>\n",
       "<table border=\"1\" class=\"dataframe\">\n",
       "  <thead>\n",
       "    <tr style=\"text-align: right;\">\n",
       "      <th></th>\n",
       "      <th>Nation</th>\n",
       "      <th>Matches</th>\n",
       "      <th>Points</th>\n",
       "      <th>Ratings</th>\n",
       "    </tr>\n",
       "  </thead>\n",
       "  <tbody>\n",
       "    <tr>\n",
       "      <th>0</th>\n",
       "      <td>AUS</td>\n",
       "      <td>18</td>\n",
       "      <td>2,955</td>\n",
       "      <td>164</td>\n",
       "    </tr>\n",
       "    <tr>\n",
       "      <th>1</th>\n",
       "      <td>SA</td>\n",
       "      <td>24</td>\n",
       "      <td>2,828</td>\n",
       "      <td>118</td>\n",
       "    </tr>\n",
       "    <tr>\n",
       "      <th>2</th>\n",
       "      <td>ENG</td>\n",
       "      <td>17</td>\n",
       "      <td>1,993</td>\n",
       "      <td>117</td>\n",
       "    </tr>\n",
       "    <tr>\n",
       "      <th>3</th>\n",
       "      <td>IND</td>\n",
       "      <td>20</td>\n",
       "      <td>2,226</td>\n",
       "      <td>111</td>\n",
       "    </tr>\n",
       "    <tr>\n",
       "      <th>4</th>\n",
       "      <td>NZ</td>\n",
       "      <td>21</td>\n",
       "      <td>1,947</td>\n",
       "      <td>93</td>\n",
       "    </tr>\n",
       "  </tbody>\n",
       "</table>\n",
       "</div>"
      ],
      "text/plain": [
       "  Nation Matches Points Ratings\n",
       "0    AUS      18  2,955     164\n",
       "1     SA      24  2,828     118\n",
       "2    ENG      17  1,993     117\n",
       "3    IND      20  2,226     111\n",
       "4     NZ      21  1,947      93"
      ]
     },
     "execution_count": 177,
     "metadata": {},
     "output_type": "execute_result"
    }
   ],
   "source": [
    "df.head()"
   ]
  },
  {
   "cell_type": "code",
   "execution_count": 178,
   "metadata": {},
   "outputs": [],
   "source": [
    "url = \"https://www.icc-cricket.com/rankings/womens/player-rankings/odi/batting\""
   ]
  },
  {
   "cell_type": "code",
   "execution_count": 179,
   "metadata": {},
   "outputs": [],
   "source": [
    "req = requests.get(url)"
   ]
  },
  {
   "cell_type": "code",
   "execution_count": 180,
   "metadata": {},
   "outputs": [
    {
     "data": {
      "text/plain": [
       "<Response [200]>"
      ]
     },
     "execution_count": 180,
     "metadata": {},
     "output_type": "execute_result"
    }
   ],
   "source": [
    "req"
   ]
  },
  {
   "cell_type": "code",
   "execution_count": 181,
   "metadata": {},
   "outputs": [],
   "source": [
    "soup = bs4.BeautifulSoup(req.text,\"lxml\")"
   ]
  },
  {
   "cell_type": "code",
   "execution_count": 182,
   "metadata": {},
   "outputs": [],
   "source": [
    "women_cricketer_name = []\n",
    "\n",
    "for i in soup.select(\".table-body__cell.rankings-table__name.name\"):\n",
    "    \n",
    "    women_cricketer = i.text\n",
    "    women_cricketer_name.append(women_cricketer)"
   ]
  },
  {
   "cell_type": "code",
   "execution_count": 183,
   "metadata": {},
   "outputs": [],
   "source": [
    "women_cricketer_name = women_cricketer_name[:9]"
   ]
  },
  {
   "cell_type": "code",
   "execution_count": 184,
   "metadata": {},
   "outputs": [],
   "source": [
    "women_cricketer_name = [x.replace('\\n', ' ') for x in women_cricketer_name]"
   ]
  },
  {
   "cell_type": "code",
   "execution_count": 185,
   "metadata": {},
   "outputs": [
    {
     "data": {
      "text/plain": [
       "[' Lizelle Lee ',\n",
       " ' Alyssa Healy ',\n",
       " ' Stafanie Taylor ',\n",
       " ' Meg Lanning ',\n",
       " ' Amy Satterthwaite ',\n",
       " ' Smriti Mandhana ',\n",
       " ' Mithali Raj ',\n",
       " ' Natalie Sciver ',\n",
       " ' Laura Wolvaardt ']"
      ]
     },
     "execution_count": 185,
     "metadata": {},
     "output_type": "execute_result"
    }
   ],
   "source": [
    "women_cricketer_name"
   ]
  },
  {
   "cell_type": "code",
   "execution_count": 186,
   "metadata": {},
   "outputs": [],
   "source": [
    "women_cricketer_team = []\n",
    "\n",
    "for i in soup.select(\".table-body__logo-text\"):\n",
    "    \n",
    "    women_team = i.text\n",
    "    \n",
    "    women_cricketer_team.append(women_team)"
   ]
  },
  {
   "cell_type": "code",
   "execution_count": 187,
   "metadata": {},
   "outputs": [],
   "source": [
    "women_cricketer_team = women_cricketer_team[:9]"
   ]
  },
  {
   "cell_type": "code",
   "execution_count": 188,
   "metadata": {},
   "outputs": [
    {
     "data": {
      "text/plain": [
       "['SA', 'AUS', 'WI', 'AUS', 'NZ', 'IND', 'IND', 'ENG', 'SA']"
      ]
     },
     "execution_count": 188,
     "metadata": {},
     "output_type": "execute_result"
    }
   ],
   "source": [
    "women_cricketer_team"
   ]
  },
  {
   "cell_type": "code",
   "execution_count": 189,
   "metadata": {},
   "outputs": [],
   "source": [
    "women_cricketer_rating = []\n",
    "\n",
    "for i in soup.select(\".table-body__cell.rating\"):\n",
    "    \n",
    "    women_rating = i.text\n",
    "    \n",
    "    women_cricketer_rating.append(women_rating)"
   ]
  },
  {
   "cell_type": "code",
   "execution_count": 190,
   "metadata": {},
   "outputs": [],
   "source": [
    "women_cricketer_rating = women_cricketer_rating[:9]"
   ]
  },
  {
   "cell_type": "code",
   "execution_count": 191,
   "metadata": {},
   "outputs": [
    {
     "data": {
      "text/plain": [
       "['758', '756', '746', '723', '715', '710', '709', '685', '683']"
      ]
     },
     "execution_count": 191,
     "metadata": {},
     "output_type": "execute_result"
    }
   ],
   "source": [
    "women_cricketer_rating"
   ]
  },
  {
   "cell_type": "code",
   "execution_count": 192,
   "metadata": {},
   "outputs": [],
   "source": [
    "women_cricketer_name.insert(0,\"Tammy Beaumont\")"
   ]
  },
  {
   "cell_type": "code",
   "execution_count": 193,
   "metadata": {},
   "outputs": [],
   "source": [
    "women_cricketer_team.insert(0,\"ENG\")"
   ]
  },
  {
   "cell_type": "code",
   "execution_count": 194,
   "metadata": {},
   "outputs": [],
   "source": [
    "women_cricketer_rating.insert(0,\"765\")"
   ]
  },
  {
   "cell_type": "code",
   "execution_count": 195,
   "metadata": {},
   "outputs": [],
   "source": [
    "df1 = pd.DataFrame(women_cricketer_name,columns=[\"Name\"])\n",
    "df2 = pd.DataFrame(women_cricketer_team,columns=[\"Nation\"])\n",
    "df3 = pd.DataFrame(women_cricketer_rating,columns=[\"Rating\"])"
   ]
  },
  {
   "cell_type": "code",
   "execution_count": 196,
   "metadata": {},
   "outputs": [],
   "source": [
    "df = pd.concat([df1,df2,df3],axis=1)"
   ]
  },
  {
   "cell_type": "markdown",
   "metadata": {},
   "source": [
    "### Top 10 women’s ODI players along with the records of their team and rating."
   ]
  },
  {
   "cell_type": "code",
   "execution_count": 197,
   "metadata": {},
   "outputs": [
    {
     "data": {
      "text/html": [
       "<div>\n",
       "<style scoped>\n",
       "    .dataframe tbody tr th:only-of-type {\n",
       "        vertical-align: middle;\n",
       "    }\n",
       "\n",
       "    .dataframe tbody tr th {\n",
       "        vertical-align: top;\n",
       "    }\n",
       "\n",
       "    .dataframe thead th {\n",
       "        text-align: right;\n",
       "    }\n",
       "</style>\n",
       "<table border=\"1\" class=\"dataframe\">\n",
       "  <thead>\n",
       "    <tr style=\"text-align: right;\">\n",
       "      <th></th>\n",
       "      <th>Name</th>\n",
       "      <th>Nation</th>\n",
       "      <th>Rating</th>\n",
       "    </tr>\n",
       "  </thead>\n",
       "  <tbody>\n",
       "    <tr>\n",
       "      <th>0</th>\n",
       "      <td>Tammy Beaumont</td>\n",
       "      <td>ENG</td>\n",
       "      <td>765</td>\n",
       "    </tr>\n",
       "    <tr>\n",
       "      <th>1</th>\n",
       "      <td>Lizelle Lee</td>\n",
       "      <td>SA</td>\n",
       "      <td>758</td>\n",
       "    </tr>\n",
       "    <tr>\n",
       "      <th>2</th>\n",
       "      <td>Alyssa Healy</td>\n",
       "      <td>AUS</td>\n",
       "      <td>756</td>\n",
       "    </tr>\n",
       "    <tr>\n",
       "      <th>3</th>\n",
       "      <td>Stafanie Taylor</td>\n",
       "      <td>WI</td>\n",
       "      <td>746</td>\n",
       "    </tr>\n",
       "    <tr>\n",
       "      <th>4</th>\n",
       "      <td>Meg Lanning</td>\n",
       "      <td>AUS</td>\n",
       "      <td>723</td>\n",
       "    </tr>\n",
       "  </tbody>\n",
       "</table>\n",
       "</div>"
      ],
      "text/plain": [
       "                Name Nation Rating\n",
       "0     Tammy Beaumont    ENG    765\n",
       "1       Lizelle Lee      SA    758\n",
       "2      Alyssa Healy     AUS    756\n",
       "3   Stafanie Taylor      WI    746\n",
       "4       Meg Lanning     AUS    723"
      ]
     },
     "execution_count": 197,
     "metadata": {},
     "output_type": "execute_result"
    }
   ],
   "source": [
    "df.head()"
   ]
  },
  {
   "cell_type": "code",
   "execution_count": 198,
   "metadata": {},
   "outputs": [],
   "source": [
    "url = \"https://www.icc-cricket.com/rankings/womens/player-rankings/odi/all-rounder\""
   ]
  },
  {
   "cell_type": "code",
   "execution_count": 199,
   "metadata": {},
   "outputs": [],
   "source": [
    "res = requests.get(url)"
   ]
  },
  {
   "cell_type": "code",
   "execution_count": 200,
   "metadata": {},
   "outputs": [
    {
     "data": {
      "text/plain": [
       "<Response [200]>"
      ]
     },
     "execution_count": 200,
     "metadata": {},
     "output_type": "execute_result"
    }
   ],
   "source": [
    "res"
   ]
  },
  {
   "cell_type": "code",
   "execution_count": 201,
   "metadata": {},
   "outputs": [],
   "source": [
    "soup = bs4.BeautifulSoup(res.text,\"lxml\") "
   ]
  },
  {
   "cell_type": "code",
   "execution_count": 202,
   "metadata": {},
   "outputs": [],
   "source": [
    "all_rounder_name = []\n",
    "for i in soup.select(\".table-body__cell.rankings-table__name.name\"):\n",
    "    all_rounder = i.text\n",
    "    \n",
    "    all_rounder_name.append(all_rounder)"
   ]
  },
  {
   "cell_type": "code",
   "execution_count": 203,
   "metadata": {},
   "outputs": [],
   "source": [
    "all_rounder_name = all_rounder_name[:9]"
   ]
  },
  {
   "cell_type": "code",
   "execution_count": 204,
   "metadata": {},
   "outputs": [],
   "source": [
    "all_rounder_name = [x.replace('\\n', ' ') for x in all_rounder_name]"
   ]
  },
  {
   "cell_type": "code",
   "execution_count": 205,
   "metadata": {},
   "outputs": [
    {
     "data": {
      "text/plain": [
       "[' Ellyse Perry ',\n",
       " ' Stafanie Taylor ',\n",
       " ' Natalie Sciver ',\n",
       " ' Deepti Sharma ',\n",
       " ' Jess Jonassen ',\n",
       " ' Ashleigh Gardner ',\n",
       " ' Dane van Niekerk ',\n",
       " ' Sophie Devine ',\n",
       " ' Amelia Kerr ']"
      ]
     },
     "execution_count": 205,
     "metadata": {},
     "output_type": "execute_result"
    }
   ],
   "source": [
    "all_rounder_name"
   ]
  },
  {
   "cell_type": "code",
   "execution_count": 206,
   "metadata": {},
   "outputs": [],
   "source": [
    "all_rounder_nation = []\n",
    "for i in soup.select(\".table-body__logo-text\"):\n",
    "    all_nation = i.text\n",
    "    \n",
    "    all_rounder_nation.append(all_nation)"
   ]
  },
  {
   "cell_type": "code",
   "execution_count": 207,
   "metadata": {},
   "outputs": [],
   "source": [
    "all_rounder_nation = all_rounder_nation[:9]"
   ]
  },
  {
   "cell_type": "code",
   "execution_count": 208,
   "metadata": {},
   "outputs": [
    {
     "data": {
      "text/plain": [
       "['AUS', 'WI', 'ENG', 'IND', 'AUS', 'AUS', 'SA', 'NZ', 'NZ']"
      ]
     },
     "execution_count": 208,
     "metadata": {},
     "output_type": "execute_result"
    }
   ],
   "source": [
    "all_rounder_nation"
   ]
  },
  {
   "cell_type": "code",
   "execution_count": 209,
   "metadata": {},
   "outputs": [],
   "source": [
    "all_rounder_rating = []\n",
    "for i in soup.select(\".table-body__cell.rating\"):\n",
    "    all_rating = i.text\n",
    "    \n",
    "    all_rounder_rating.append(all_rating)"
   ]
  },
  {
   "cell_type": "code",
   "execution_count": 210,
   "metadata": {},
   "outputs": [],
   "source": [
    "all_rounder_rating = all_rounder_rating[:9]"
   ]
  },
  {
   "cell_type": "code",
   "execution_count": 211,
   "metadata": {},
   "outputs": [
    {
     "data": {
      "text/plain": [
       "['418', '410', '349', '343', '307', '252', '243', '242', '236']"
      ]
     },
     "execution_count": 211,
     "metadata": {},
     "output_type": "execute_result"
    }
   ],
   "source": [
    "all_rounder_rating"
   ]
  },
  {
   "cell_type": "code",
   "execution_count": 212,
   "metadata": {},
   "outputs": [],
   "source": [
    "all_rounder_name.insert(0,\"Marizanne Kapp\")"
   ]
  },
  {
   "cell_type": "code",
   "execution_count": 213,
   "metadata": {},
   "outputs": [],
   "source": [
    "all_rounder_nation.insert(0,\"SA\")"
   ]
  },
  {
   "cell_type": "code",
   "execution_count": 214,
   "metadata": {},
   "outputs": [],
   "source": [
    "all_rounder_rating.insert(0,\"418\")"
   ]
  },
  {
   "cell_type": "code",
   "execution_count": 215,
   "metadata": {},
   "outputs": [],
   "source": [
    "df1 = pd.DataFrame(all_rounder_name,columns=[\"Name\"])\n",
    "df2 = pd.DataFrame(all_rounder_nation,columns=[\"Nation\"])\n",
    "df3 = pd.DataFrame(all_rounder_rating,columns=[\"Rating\"])"
   ]
  },
  {
   "cell_type": "code",
   "execution_count": 216,
   "metadata": {},
   "outputs": [],
   "source": [
    "df = pd.concat([df1,df2,df3],axis=1)"
   ]
  },
  {
   "cell_type": "markdown",
   "metadata": {},
   "source": [
    "### Top 10 women’s ODI all-rounder along with the records of their team and rating."
   ]
  },
  {
   "cell_type": "code",
   "execution_count": 217,
   "metadata": {},
   "outputs": [
    {
     "data": {
      "text/html": [
       "<div>\n",
       "<style scoped>\n",
       "    .dataframe tbody tr th:only-of-type {\n",
       "        vertical-align: middle;\n",
       "    }\n",
       "\n",
       "    .dataframe tbody tr th {\n",
       "        vertical-align: top;\n",
       "    }\n",
       "\n",
       "    .dataframe thead th {\n",
       "        text-align: right;\n",
       "    }\n",
       "</style>\n",
       "<table border=\"1\" class=\"dataframe\">\n",
       "  <thead>\n",
       "    <tr style=\"text-align: right;\">\n",
       "      <th></th>\n",
       "      <th>Name</th>\n",
       "      <th>Nation</th>\n",
       "      <th>Rating</th>\n",
       "    </tr>\n",
       "  </thead>\n",
       "  <tbody>\n",
       "    <tr>\n",
       "      <th>0</th>\n",
       "      <td>Marizanne Kapp</td>\n",
       "      <td>SA</td>\n",
       "      <td>418</td>\n",
       "    </tr>\n",
       "    <tr>\n",
       "      <th>1</th>\n",
       "      <td>Ellyse Perry</td>\n",
       "      <td>AUS</td>\n",
       "      <td>418</td>\n",
       "    </tr>\n",
       "    <tr>\n",
       "      <th>2</th>\n",
       "      <td>Stafanie Taylor</td>\n",
       "      <td>WI</td>\n",
       "      <td>410</td>\n",
       "    </tr>\n",
       "    <tr>\n",
       "      <th>3</th>\n",
       "      <td>Natalie Sciver</td>\n",
       "      <td>ENG</td>\n",
       "      <td>349</td>\n",
       "    </tr>\n",
       "    <tr>\n",
       "      <th>4</th>\n",
       "      <td>Deepti Sharma</td>\n",
       "      <td>IND</td>\n",
       "      <td>343</td>\n",
       "    </tr>\n",
       "  </tbody>\n",
       "</table>\n",
       "</div>"
      ],
      "text/plain": [
       "                Name Nation Rating\n",
       "0     Marizanne Kapp     SA    418\n",
       "1      Ellyse Perry     AUS    418\n",
       "2   Stafanie Taylor      WI    410\n",
       "3    Natalie Sciver     ENG    349\n",
       "4     Deepti Sharma     IND    343"
      ]
     },
     "execution_count": 217,
     "metadata": {},
     "output_type": "execute_result"
    }
   ],
   "source": [
    "df.head()"
   ]
  },
  {
   "cell_type": "markdown",
   "metadata": {},
   "source": [
    "### Write a python program to scrape details of all the mobile phones under Rs. 20,000 listed on Amazon.in. The scraped data should include Product Name, Price, Image URL and Average Rating."
   ]
  },
  {
   "cell_type": "code",
   "execution_count": 218,
   "metadata": {},
   "outputs": [],
   "source": [
    "base_url = \"https://www.amazon.in/s?k=mobile+under+20000+rupees&page={}&qid=1620366920&ref=sr_pg_2\""
   ]
  },
  {
   "cell_type": "code",
   "execution_count": 219,
   "metadata": {},
   "outputs": [],
   "source": [
    "req = requests.get(base_url)"
   ]
  },
  {
   "cell_type": "code",
   "execution_count": 220,
   "metadata": {},
   "outputs": [
    {
     "data": {
      "text/plain": [
       "<Response [503]>"
      ]
     },
     "execution_count": 220,
     "metadata": {},
     "output_type": "execute_result"
    }
   ],
   "source": [
    "req"
   ]
  },
  {
   "cell_type": "code",
   "execution_count": 221,
   "metadata": {},
   "outputs": [],
   "source": [
    "from autoscraper import AutoScraper"
   ]
  },
  {
   "cell_type": "code",
   "execution_count": 222,
   "metadata": {},
   "outputs": [],
   "source": [
    "soup = bs4.BeautifulSoup(req.text,\"lxml\")"
   ]
  },
  {
   "cell_type": "code",
   "execution_count": 223,
   "metadata": {},
   "outputs": [],
   "source": [
    "base_url = \"https://www.amazon.in/s?k=mobile+under+20000+rupees&page={}&qid=1620366920&ref=sr_pg_2\""
   ]
  },
  {
   "cell_type": "code",
   "execution_count": 224,
   "metadata": {},
   "outputs": [],
   "source": [
    "def grab_phone_names(base_url):\n",
    "    \n",
    "    phone_name_1 = []\n",
    "    \n",
    "    for n in range(1,21):\n",
    "        \n",
    "        req = requests.get(base_url.format(n))\n",
    "        \n",
    "        soup = bs4.BeautifulSoup(req.text,\"lxml\")\n",
    "        \n",
    "        names = soup.select(\".a-size-medium.a-color-base.a-text-normal\")\n",
    "        \n",
    "        for name in names:\n",
    "            \n",
    "            nam = name.text\n",
    "            \n",
    "            phone_name_1.append(nam)\n",
    "    \n",
    "    return phone_name_1"
   ]
  },
  {
   "cell_type": "code",
   "execution_count": 225,
   "metadata": {},
   "outputs": [],
   "source": [
    "Mobile_name = grab_phone_names(base_url)"
   ]
  },
  {
   "cell_type": "code",
   "execution_count": 226,
   "metadata": {},
   "outputs": [
    {
     "data": {
      "text/plain": [
       "['Redmi 9 (Sky Blue, 4GB RAM, 64GB Storage)| 5000 mAh| 2.3GHz Mediatek Helio G35 Octa core Processor',\n",
       " 'Redmi 9A (Nature Green, 2GB Ram, 32GB Storage) | 2GHz Octa-core Helio G25 Processor',\n",
       " 'Samsung Galaxy M31 (Ocean Blue, 6GB RAM, 128GB Storage)',\n",
       " 'Oppo A31 (Mystery Black, 6GB RAM, 128GB Storage) with No Cost EMI/Additional Exchange Offers',\n",
       " 'Oppo A31 (Fantasy White, 6GB RAM, 128GB Storage) with No Cost EMI/Additional Exchange Offers',\n",
       " 'Vivo Y91i (Fusion Black, 2GB RAM, 32GB Storage) with No Cost EMI/Additional Exchange Offers',\n",
       " 'OPPO A31 (Fantasy White, 4GB RAM, 64GB Storage) with No Cost EMI/Additional Exchange Offers',\n",
       " 'Samsung Galaxy M12 (Blue,4GB RAM, 64GB Storage) 6000 mAh with 8nm Processor | True 48 MP Quad Camera | 90Hz Refresh Rate',\n",
       " 'Redmi Note 9 (Pebble Grey, 4GB RAM 64GB Storage) - 48MP Quad Camera & Full HD+ Display',\n",
       " 'Samsung Galaxy M21 (Midnight Blue, 4GB RAM, 64GB Storage)',\n",
       " 'Redmi 9A (Nature Green, 3GB Ram, 32GB Storage) | 2GHz Octa-core Helio G25 Processor',\n",
       " 'Redmi 9A (Midnight Black, 3GB Ram, 32GB Storage) | 2GHz Octa-core Helio G25 Processor',\n",
       " 'Samsung Galaxy M31 (Space Black, 6GB RAM, 128GB Storage)',\n",
       " 'Panasonic Eluga i7 (2GB RAM, 16GB Storage, Finger Print Sensor, 4000mAh Battery) (Black)',\n",
       " 'Samsung Galaxy M31s (Mirage Blue, 6GB RAM, 128GB Storage)',\n",
       " 'Samsung Galaxy M01 Core (Black, 2GB RAM, 32GB Storage) with No Cost EMI/Additional Exchange Offers',\n",
       " 'Gionee F11 Black (3GB Ram 32GB ROM) 5000mAh Battery, Dual Camera',\n",
       " 'I KALL K380 Smartphone (7.12 Display, 4GB, 32GB) (Blue)',\n",
       " 'Samsung Galaxy M31 (Space Black, 6GB RAM, 64GB Storage)',\n",
       " 'Vivo Y20 (Purist Blue, 6GB RAM, 64GB Storage) with No Cost EMI/Additional Exchange Offers',\n",
       " 'SNEXIAN Guru 355 Dual Sim Basic Mobile Phone with Digital Camera and 1.8 inch Screen (Black & Red, Upto 16GB) - NO Charger',\n",
       " 'Samsung Galaxy M02s (Red,3GB RAM, 32GB Storage) | 5000 mAh | Triple Camera',\n",
       " 'Tecno Spark 6 Go Ice Jadeite, 4GB RAM, 64GB Storage',\n",
       " 'Vivo Y50 (Pearl White, 8GB RAM, 128GB Storage) Without Offer',\n",
       " 'Karbonn K9 Smart',\n",
       " 'Online Store only Sucker Stand for Cell Phone Metal Mobile Holder 360�Rotatable Flower Type Mobile Stand for Best Used to Office Work.',\n",
       " 'Micromax in 1 4 GB RAM 64 GB ROM Blue',\n",
       " \"Forme D10 1.8'' Big Battery 2500 mAh Mobile Black\",\n",
       " 'I KALL K380 Smartphone (7.12 Display, 4GB, 32GB) (Purple)',\n",
       " 'Redmi 8A Dual (Sky White, 3GB RAM, 64GB Storage) – Dual Cameras & 5,000 mAH Battery',\n",
       " 'I KALL K800 4G Smartphone (2GB, 16GB, 5.5 Inch) (Red)',\n",
       " 'OPPO A15 (Mystery Blue, 2GB RAM, 32GB Storage) With No Cost EMI/Additional Exchange Offers',\n",
       " 'WINSOME BLU Studio G2 Sports a 5-inch Display, 1.3 GHz Processor Phone 4g Volte Smartphone jio Working',\n",
       " 'Micromax X754 Gunmetal Grey',\n",
       " '(Renewed) Redmi Note 6 Pro 64GB (Black, 6GB RAM)',\n",
       " 'Redmi Poco C3 (Arctic Blue, 4 RAM /64 Storage)',\n",
       " 'I KALL K110 Smartphone (2GB, 16GB)',\n",
       " 'Oppo F19 (Midnight Blue, 6GB RAM, 128GB Storage) with Free 12 Months Damage Protection',\n",
       " '(Renewed) NOKIA 105 TA-1174 DS in Black',\n",
       " 'I KALL K4 Dual Sim 4G Mobile (2GB Ram, 16GB Storage, 5.5 Inch Display) (Blue)',\n",
       " 'realme Narzo 20A Glory Silver, 4GB, 64GB',\n",
       " \"itel Vision 1 Pro (Ocean Blue, 2GB RAM, 32 GB Storage, 6.52'' HD+ IPS Waterdrop Display)\",\n",
       " 'I KALL K900 Smartphone (5.5 Inch IPS Display, 4GB Ram, 64GB Storage, Dual Sim, 4G Volte) (Ocean Blue)',\n",
       " 'Vivo Y20 (Obsidian Black, 6GB RAM, 64GB Storage) with No Cost EMI/Additional Exchange Offers',\n",
       " 'Itel Vision1 (Gradation Green, 32 GB) (3 GB RAM)',\n",
       " '(Renewed) Redmi 6A (Gold, 16 GB)',\n",
       " \"itel Vision 1 Pro (Aurora Blue, 2GB RAM, 32 GB Storage, 6.52'' HD+ IPS Waterdrop Display)\",\n",
       " 'Vivo Y30 (Emerald Black, 4GB RAM, 128GB Storage) with No Cost EMI/Additional Exchange Offers']"
      ]
     },
     "execution_count": 226,
     "metadata": {},
     "output_type": "execute_result"
    }
   ],
   "source": [
    "Mobile_name"
   ]
  },
  {
   "cell_type": "code",
   "execution_count": 227,
   "metadata": {},
   "outputs": [],
   "source": [
    "def grab_phone_prices(base_url):\n",
    "    \n",
    "    phone_price_1 = []\n",
    "    \n",
    "    for n in range(1,21):\n",
    "        \n",
    "        req = requests.get(base_url.format(n))\n",
    "        \n",
    "        soup = bs4.BeautifulSoup(req.text,\"lxml\")\n",
    "        \n",
    "        prices = soup.select(\".a-offscreen\")\n",
    "        \n",
    "        for price in prices:\n",
    "            \n",
    "            kim = price.text\n",
    "            \n",
    "            phone_price_1.append(kim)\n",
    "    \n",
    "    return phone_price_1"
   ]
  },
  {
   "cell_type": "code",
   "execution_count": 228,
   "metadata": {},
   "outputs": [],
   "source": [
    "Mobile_prices = grab_phone_prices(base_url)"
   ]
  },
  {
   "cell_type": "code",
   "execution_count": 229,
   "metadata": {},
   "outputs": [
    {
     "data": {
      "text/plain": [
       "['₹9,999',\n",
       " '₹13,999',\n",
       " '₹7,499',\n",
       " '₹8,999',\n",
       " '₹16,490',\n",
       " '₹20,490',\n",
       " '₹619',\n",
       " '₹999',\n",
       " '₹11,999',\n",
       " '₹16,999',\n",
       " '₹7,499',\n",
       " '₹8,999',\n",
       " '₹4,929',\n",
       " '₹10,990',\n",
       " '₹8,230',\n",
       " '₹10,999',\n",
       " '₹11,999',\n",
       " '₹16,999',\n",
       " '₹13,990',\n",
       " '₹19,990',\n",
       " '₹14,999',\n",
       " '₹18,999',\n",
       " '₹8,999',\n",
       " '₹14,999',\n",
       " '₹12,999',\n",
       " '₹16,999',\n",
       " '₹17,990',\n",
       " '₹21,990',\n",
       " '₹7,990',\n",
       " '₹11,990',\n",
       " '₹9,999',\n",
       " '₹11,499',\n",
       " '₹12,499',\n",
       " '₹13,999',\n",
       " '₹8,999',\n",
       " '₹14,999',\n",
       " '₹5,499',\n",
       " '₹6,999',\n",
       " '₹17,990',\n",
       " '₹20,990',\n",
       " '₹9,999',\n",
       " '₹11,499',\n",
       " '₹12,499',\n",
       " '₹15,499',\n",
       " '₹15,999',\n",
       " '₹21,999',\n",
       " '₹9,990',\n",
       " '₹13,990',\n",
       " '₹7,499',\n",
       " '₹7,999',\n",
       " '₹1,440',\n",
       " '₹2,499',\n",
       " '₹17,990',\n",
       " '₹20,990',\n",
       " '₹6,499',\n",
       " '₹9,999',\n",
       " '₹18,999',\n",
       " '₹24,999',\n",
       " '₹9,989',\n",
       " '₹16,000',\n",
       " '₹8,999',\n",
       " '₹10,499',\n",
       " '₹14,499',\n",
       " '₹17,999',\n",
       " '₹17,699',\n",
       " '₹18,999',\n",
       " '₹4,170',\n",
       " '₹5,999',\n",
       " '₹18,999',\n",
       " '₹24,999',\n",
       " '₹6,649',\n",
       " '₹14,990',\n",
       " '₹9,990',\n",
       " '₹12,990',\n",
       " '₹8,990',\n",
       " '₹9,990',\n",
       " '₹5,499',\n",
       " '₹6,999',\n",
       " '₹7,648',\n",
       " '₹7,999',\n",
       " '₹8,190',\n",
       " '₹10,999',\n",
       " '₹10,999',\n",
       " '₹14,999',\n",
       " '₹9,990',\n",
       " '₹12,990',\n",
       " '₹9,999',\n",
       " '₹13,999',\n",
       " '₹15,999',\n",
       " '₹21,999',\n",
       " '₹8,499',\n",
       " '₹9,999',\n",
       " '₹12,990',\n",
       " '₹16,990',\n",
       " '₹4,752',\n",
       " '₹6,999',\n",
       " '₹9,999',\n",
       " '₹13,999',\n",
       " '₹4,170',\n",
       " '₹5,999',\n",
       " '₹13,990',\n",
       " '₹19,990',\n",
       " '₹4,170',\n",
       " '₹5,999',\n",
       " '₹928',\n",
       " '₹1,499',\n",
       " '₹16,490',\n",
       " '₹20,490',\n",
       " '₹11,490',\n",
       " '₹15,490',\n",
       " '₹9,990',\n",
       " '₹13,990',\n",
       " '₹7,990',\n",
       " '₹11,990',\n",
       " '₹984',\n",
       " '₹1,499',\n",
       " '₹11,999',\n",
       " '₹13,999',\n",
       " '₹14,990',\n",
       " '₹18,990',\n",
       " '₹10,999',\n",
       " '₹13,999',\n",
       " '₹8,999',\n",
       " '₹11,499',\n",
       " '₹11,870',\n",
       " '₹11,999',\n",
       " '₹1,339',\n",
       " '₹2,499',\n",
       " '₹9,999',\n",
       " '₹13,999',\n",
       " '₹5,985',\n",
       " '₹15,980',\n",
       " '₹8,999',\n",
       " '₹14,999',\n",
       " '₹18,376',\n",
       " '₹18,999',\n",
       " '₹8,499',\n",
       " '₹9,999',\n",
       " '₹12,499',\n",
       " '₹15,999',\n",
       " '₹7,990',\n",
       " '₹10,990',\n",
       " '₹18,490',\n",
       " '₹22,990',\n",
       " '₹7,789',\n",
       " '₹7,999',\n",
       " '₹10,999',\n",
       " '₹13,999',\n",
       " '₹7,790',\n",
       " '₹7,999',\n",
       " '₹19,800',\n",
       " '₹21,999',\n",
       " '₹17,989',\n",
       " '₹27,990',\n",
       " '₹910',\n",
       " '₹1,399',\n",
       " '₹999',\n",
       " '₹1,399',\n",
       " '₹8,435',\n",
       " '₹9,999',\n",
       " '₹9,499',\n",
       " '₹14,999',\n",
       " '₹773',\n",
       " '₹999',\n",
       " '₹8,990',\n",
       " '₹9,990',\n",
       " '₹10,999',\n",
       " '₹14,999',\n",
       " '₹709',\n",
       " '₹1,299',\n",
       " '₹5,499',\n",
       " '₹6,499',\n",
       " '₹17,990',\n",
       " '₹21,990',\n",
       " '₹19,990',\n",
       " '₹24,990',\n",
       " '₹10,299',\n",
       " '₹10,999',\n",
       " '₹10,499',\n",
       " '₹11,999',\n",
       " '₹7,499',\n",
       " '₹8,999',\n",
       " '₹15,717',\n",
       " '₹18,490',\n",
       " '₹999',\n",
       " '₹1,499',\n",
       " '₹10,799',\n",
       " '₹11,999',\n",
       " '₹3,100',\n",
       " '₹5,990',\n",
       " '₹5,499',\n",
       " '₹9,999',\n",
       " '₹709',\n",
       " '₹1,299',\n",
       " '₹949',\n",
       " '₹1,399',\n",
       " '₹4,752',\n",
       " '₹5,999',\n",
       " '₹4,170',\n",
       " '₹5,999',\n",
       " '₹1,900',\n",
       " '₹1,949',\n",
       " '₹12,369',\n",
       " '₹14,999',\n",
       " '₹9,249',\n",
       " '₹10,999',\n",
       " '₹7,499',\n",
       " '₹7,999',\n",
       " '₹6,388',\n",
       " '₹7,777',\n",
       " '₹18,799',\n",
       " '₹30,990',\n",
       " '₹12,999',\n",
       " '₹13,999',\n",
       " '₹11,980',\n",
       " '₹16,999',\n",
       " '₹8,490',\n",
       " '₹10,990',\n",
       " '₹1,315',\n",
       " '₹2,499',\n",
       " '₹18,990',\n",
       " '₹20,990',\n",
       " '₹1,110',\n",
       " '₹1,335',\n",
       " '₹6,499',\n",
       " '₹7,199',\n",
       " '₹5,699',\n",
       " '₹8,999',\n",
       " '₹13,990',\n",
       " '₹17,990',\n",
       " '₹6,999',\n",
       " '₹8,999',\n",
       " '₹5,999',\n",
       " '₹6,999',\n",
       " '₹6,499',\n",
       " '₹7,199',\n",
       " '₹13,990',\n",
       " '₹18,990',\n",
       " '₹11,490',\n",
       " '₹15,490']"
      ]
     },
     "execution_count": 229,
     "metadata": {},
     "output_type": "execute_result"
    }
   ],
   "source": [
    "Mobile_prices"
   ]
  },
  {
   "cell_type": "code",
   "execution_count": 230,
   "metadata": {},
   "outputs": [],
   "source": [
    "def grab_phone_url(base_url):\n",
    "    \n",
    "    phone_url_1 = []\n",
    "    \n",
    "    for n in range(1,21):\n",
    "        \n",
    "        req = requests.get(base_url.format(n))\n",
    "        \n",
    "        soup = bs4.BeautifulSoup(req.text,\"lxml\")\n",
    "        \n",
    "        urls = soup.select(\".s-image\")\n",
    "        \n",
    "        for url in urls:\n",
    "            \n",
    "            ur = url[\"src\"]\n",
    "            \n",
    "            phone_url_1.append(ur)\n",
    "    \n",
    "    return phone_url_1"
   ]
  },
  {
   "cell_type": "code",
   "execution_count": 231,
   "metadata": {},
   "outputs": [],
   "source": [
    "Mobile_url = grab_phone_url(\"https://www.amazon.in/s?k=mobile+under+20000+rupees&page={}&qid=1620366920&ref=sr_pg_2\")"
   ]
  },
  {
   "cell_type": "code",
   "execution_count": 232,
   "metadata": {},
   "outputs": [
    {
     "data": {
      "text/plain": [
       "['https://m.media-amazon.com/images/I/81EhipZy25L._AC_UY218_.jpg',\n",
       " 'https://m.media-amazon.com/images/I/410Qvo2AfEL._AC_UY218_.jpg',\n",
       " 'https://m.media-amazon.com/images/I/71OxJeyywSL._AC_UY218_.jpg',\n",
       " 'https://m.media-amazon.com/images/I/51GkdMbNKfL._AC_UY218_.jpg',\n",
       " 'https://m.media-amazon.com/images/I/61bCHPmTE0L._AC_UY218_.jpg',\n",
       " 'https://m.media-amazon.com/images/I/71tI3JEgeeL._AC_UY218_.jpg',\n",
       " 'https://m.media-amazon.com/images/I/31VbvTG-ESL._AC_UY218_.jpg',\n",
       " 'https://m.media-amazon.com/images/I/514ETCdN3CL._AC_UY218_.jpg',\n",
       " 'https://m.media-amazon.com/images/I/71fsQAjfxsL._AC_UY218_.jpg',\n",
       " 'https://m.media-amazon.com/images/I/61raSKJ6kYL._AC_UY218_.jpg',\n",
       " 'https://m.media-amazon.com/images/I/3152Zvpt7ZS._AC_UY218_.jpg',\n",
       " 'https://m.media-amazon.com/images/I/41S4vXtv-OL._AC_UY218_.jpg',\n",
       " 'https://m.media-amazon.com/images/I/41tScQxzMUL._AC_UY218_.jpg',\n",
       " 'https://m.media-amazon.com/images/I/710p2f-zAdL._AC_UY218_.jpg',\n",
       " 'https://m.media-amazon.com/images/I/51yQvB0yXSL._AC_UY218_.jpg',\n",
       " 'https://m.media-amazon.com/images/I/71y3aWvOucL._AC_UY218_.jpg',\n",
       " 'https://m.media-amazon.com/images/I/714jNHaW0DS._AC_UY218_.jpg',\n",
       " 'https://m.media-amazon.com/images/I/81-xJ79cnjL._AC_UY218_.jpg',\n",
       " 'https://m.media-amazon.com/images/I/71IkA3T7hIL._AC_UY218_.jpg',\n",
       " 'https://m.media-amazon.com/images/I/71crCF+ogwL._AC_UY218_.jpg',\n",
       " 'https://m.media-amazon.com/images/I/71rRwvlKXBL._AC_UY218_.jpg',\n",
       " 'https://m.media-amazon.com/images/I/71jzMLHiMfL._AC_UY218_.jpg',\n",
       " 'https://m.media-amazon.com/images/I/41pLiEiu0CL._AC_UY218_.jpg',\n",
       " 'https://m.media-amazon.com/images/I/61cloMY4XNL._AC_UY218_.jpg',\n",
       " 'https://m.media-amazon.com/images/I/51X7mbDiDCL._AC_UY218_.jpg',\n",
       " 'https://m.media-amazon.com/images/I/31JY0TfJ7ZL._AC_UY218_.jpg',\n",
       " 'https://m.media-amazon.com/images/I/71SVzNmepQL._AC_UY218_.jpg',\n",
       " 'https://m.media-amazon.com/images/I/31YBIJdhuUL._AC_UY218_.jpg',\n",
       " 'https://m.media-amazon.com/images/I/51S5CH-lLeL._AC_UY218_.jpg',\n",
       " 'https://m.media-amazon.com/images/I/61jyh1JTIsL._AC_UY218_.jpg',\n",
       " 'https://m.media-amazon.com/images/I/51V7isuZPuL._AC_UY218_.jpg',\n",
       " 'https://m.media-amazon.com/images/I/71SqKtt9VbL._AC_UY218_.jpg',\n",
       " 'https://m.media-amazon.com/images/I/71xYLLtUVEL._AC_UY218_.jpg',\n",
       " 'https://m.media-amazon.com/images/I/41W7LvdnVAL._AC_UY218_.jpg',\n",
       " 'https://m.media-amazon.com/images/I/81zb1bxd6NL._AC_UY218_.jpg',\n",
       " 'https://m.media-amazon.com/images/I/71y3aWvOucL._AC_UY218_.jpg',\n",
       " 'https://m.media-amazon.com/images/I/212QUwuVYFL._AC_UY218_.jpg',\n",
       " 'https://m.media-amazon.com/images/I/41UCOpRWvAL._AC_UY218_.jpg',\n",
       " 'https://m.media-amazon.com/images/I/71RWePBUWaS._AC_UY218_.jpg',\n",
       " 'https://m.media-amazon.com/images/I/41W7LvdnVAL._AC_UY218_.jpg',\n",
       " 'https://m.media-amazon.com/images/I/71UZfRHB7UL._AC_UY218_.jpg',\n",
       " 'https://m.media-amazon.com/images/I/61Q9fukuYXL._AC_UY218_.jpg',\n",
       " 'https://m.media-amazon.com/images/I/31A7BDld35L._AC_UY218_.jpg',\n",
       " 'https://m.media-amazon.com/images/I/61+Us5nTzVL._AC_UY218_.jpg',\n",
       " 'https://m.media-amazon.com/images/I/61VcdgZiUAL._AC_UY218_.jpg',\n",
       " 'https://m.media-amazon.com/images/I/31crsX1ms5L._AC_UY218_.jpg',\n",
       " 'https://m.media-amazon.com/images/I/514C3I4r3AL._AC_UY218_.jpg',\n",
       " 'https://m.media-amazon.com/images/I/71zbz1O+hqL._AC_UY218_.jpg',\n",
       " 'https://m.media-amazon.com/images/I/81CIP2ZmtNL._AC_UY218_.jpg',\n",
       " 'https://m.media-amazon.com/images/I/719ds5R-UbL._AC_UY218_.jpg']"
      ]
     },
     "execution_count": 232,
     "metadata": {},
     "output_type": "execute_result"
    }
   ],
   "source": [
    "Mobile_url"
   ]
  },
  {
   "cell_type": "code",
   "execution_count": 233,
   "metadata": {},
   "outputs": [],
   "source": [
    "def grab_phone_rating(base_url):\n",
    "    \n",
    "    phone_rating_1 = []\n",
    "    \n",
    "    for n in range(1,21):\n",
    "        \n",
    "        req = requests.get(base_url.format(n))\n",
    "        \n",
    "        soup = bs4.BeautifulSoup(req.text,\"lxml\")\n",
    "        \n",
    "        ratings = soup.select(\".a-icon-alt\")\n",
    "        \n",
    "        for rating in ratings:\n",
    "            \n",
    "            rate = rating.text\n",
    "            \n",
    "            phone_rating_1.append(rate)\n",
    "    \n",
    "    return phone_rating_1"
   ]
  },
  {
   "cell_type": "code",
   "execution_count": 234,
   "metadata": {},
   "outputs": [],
   "source": [
    "Mobile_rating = grab_phone_rating(\"https://www.amazon.in/s?k=mobile+under+20000+rupees&page={}&qid=1620366920&ref=sr_pg_2\")"
   ]
  },
  {
   "cell_type": "code",
   "execution_count": 235,
   "metadata": {},
   "outputs": [],
   "source": [
    "df1 = pd.DataFrame(Mobile_name,columns=[\"Name\"])\n",
    "df2 = pd.DataFrame(Mobile_prices,columns=[\"Prices\"])\n",
    "df3 = pd.DataFrame(Mobile_url,columns=[\"URL\"])\n",
    "df4 = pd.DataFrame(Mobile_rating,columns=[\"Rating\"])"
   ]
  },
  {
   "cell_type": "code",
   "execution_count": 236,
   "metadata": {},
   "outputs": [],
   "source": [
    "df = pd.concat([df1,df2,df3,df4],axis=1)"
   ]
  },
  {
   "cell_type": "code",
   "execution_count": 237,
   "metadata": {},
   "outputs": [
    {
     "data": {
      "text/html": [
       "<div>\n",
       "<style scoped>\n",
       "    .dataframe tbody tr th:only-of-type {\n",
       "        vertical-align: middle;\n",
       "    }\n",
       "\n",
       "    .dataframe tbody tr th {\n",
       "        vertical-align: top;\n",
       "    }\n",
       "\n",
       "    .dataframe thead th {\n",
       "        text-align: right;\n",
       "    }\n",
       "</style>\n",
       "<table border=\"1\" class=\"dataframe\">\n",
       "  <thead>\n",
       "    <tr style=\"text-align: right;\">\n",
       "      <th></th>\n",
       "      <th>Name</th>\n",
       "      <th>Prices</th>\n",
       "      <th>URL</th>\n",
       "      <th>Rating</th>\n",
       "    </tr>\n",
       "  </thead>\n",
       "  <tbody>\n",
       "    <tr>\n",
       "      <th>0</th>\n",
       "      <td>Redmi 9 (Sky Blue, 4GB RAM, 64GB Storage)| 500...</td>\n",
       "      <td>₹9,999</td>\n",
       "      <td>https://m.media-amazon.com/images/I/81EhipZy25...</td>\n",
       "      <td>4.2 out of 5 stars</td>\n",
       "    </tr>\n",
       "    <tr>\n",
       "      <th>1</th>\n",
       "      <td>Redmi 9A (Nature Green, 2GB Ram, 32GB Storage)...</td>\n",
       "      <td>₹13,999</td>\n",
       "      <td>https://m.media-amazon.com/images/I/410Qvo2AfE...</td>\n",
       "      <td>4.2 out of 5 stars</td>\n",
       "    </tr>\n",
       "    <tr>\n",
       "      <th>2</th>\n",
       "      <td>Samsung Galaxy M31 (Ocean Blue, 6GB RAM, 128GB...</td>\n",
       "      <td>₹7,499</td>\n",
       "      <td>https://m.media-amazon.com/images/I/71OxJeyywS...</td>\n",
       "      <td>4.3 out of 5 stars</td>\n",
       "    </tr>\n",
       "    <tr>\n",
       "      <th>3</th>\n",
       "      <td>Oppo A31 (Mystery Black, 6GB RAM, 128GB Storag...</td>\n",
       "      <td>₹8,999</td>\n",
       "      <td>https://m.media-amazon.com/images/I/51GkdMbNKf...</td>\n",
       "      <td>4.1 out of 5 stars</td>\n",
       "    </tr>\n",
       "    <tr>\n",
       "      <th>4</th>\n",
       "      <td>Oppo A31 (Fantasy White, 6GB RAM, 128GB Storag...</td>\n",
       "      <td>₹16,490</td>\n",
       "      <td>https://m.media-amazon.com/images/I/61bCHPmTE0...</td>\n",
       "      <td>4.2 out of 5 stars</td>\n",
       "    </tr>\n",
       "  </tbody>\n",
       "</table>\n",
       "</div>"
      ],
      "text/plain": [
       "                                                Name   Prices  \\\n",
       "0  Redmi 9 (Sky Blue, 4GB RAM, 64GB Storage)| 500...   ₹9,999   \n",
       "1  Redmi 9A (Nature Green, 2GB Ram, 32GB Storage)...  ₹13,999   \n",
       "2  Samsung Galaxy M31 (Ocean Blue, 6GB RAM, 128GB...   ₹7,499   \n",
       "3  Oppo A31 (Mystery Black, 6GB RAM, 128GB Storag...   ₹8,999   \n",
       "4  Oppo A31 (Fantasy White, 6GB RAM, 128GB Storag...  ₹16,490   \n",
       "\n",
       "                                                 URL              Rating  \n",
       "0  https://m.media-amazon.com/images/I/81EhipZy25...  4.2 out of 5 stars  \n",
       "1  https://m.media-amazon.com/images/I/410Qvo2AfE...  4.2 out of 5 stars  \n",
       "2  https://m.media-amazon.com/images/I/71OxJeyywS...  4.3 out of 5 stars  \n",
       "3  https://m.media-amazon.com/images/I/51GkdMbNKf...  4.1 out of 5 stars  \n",
       "4  https://m.media-amazon.com/images/I/61bCHPmTE0...  4.2 out of 5 stars  "
      ]
     },
     "execution_count": 237,
     "metadata": {},
     "output_type": "execute_result"
    }
   ],
   "source": [
    "df.head()"
   ]
  },
  {
   "cell_type": "markdown",
   "metadata": {},
   "source": [
    "### Write a python program to extract information about the local weather from the National Weather Service website of USA, https://www.weather.gov/ for the city, San Francisco. You need to extract data about 7 day extended forecast display for the city. The data should include period, short description, temperature and description."
   ]
  },
  {
   "cell_type": "code",
   "execution_count": 238,
   "metadata": {},
   "outputs": [],
   "source": [
    "base_url = \"https://forecast.weather.gov/MapClick.php?lat=37.777120000000025&lon=-122.41963999999996#.YJTsH7UzbIU\""
   ]
  },
  {
   "cell_type": "code",
   "execution_count": 239,
   "metadata": {},
   "outputs": [],
   "source": [
    "res = requests.get(base_url)"
   ]
  },
  {
   "cell_type": "code",
   "execution_count": 240,
   "metadata": {},
   "outputs": [
    {
     "data": {
      "text/plain": [
       "<Response [200]>"
      ]
     },
     "execution_count": 240,
     "metadata": {},
     "output_type": "execute_result"
    }
   ],
   "source": [
    "res"
   ]
  },
  {
   "cell_type": "code",
   "execution_count": 241,
   "metadata": {},
   "outputs": [],
   "source": [
    "soup = bs4.BeautifulSoup(res.text,\"lxml\")"
   ]
  },
  {
   "cell_type": "code",
   "execution_count": 242,
   "metadata": {},
   "outputs": [],
   "source": [
    "laras = soup.select(\".col-sm-2.forecast-label\")"
   ]
  },
  {
   "cell_type": "code",
   "execution_count": 243,
   "metadata": {},
   "outputs": [],
   "source": [
    "period = []\n",
    "for i in soup.select(\".col-sm-2.forecast-label\"):\n",
    "    \n",
    "    period.append(i.text)"
   ]
  },
  {
   "cell_type": "code",
   "execution_count": 244,
   "metadata": {},
   "outputs": [
    {
     "data": {
      "text/plain": [
       "['Overnight',\n",
       " 'Friday',\n",
       " 'Friday Night',\n",
       " 'Saturday',\n",
       " 'Saturday Night',\n",
       " 'Sunday',\n",
       " 'Sunday Night',\n",
       " 'Monday',\n",
       " 'Monday Night',\n",
       " 'Tuesday',\n",
       " 'Tuesday Night',\n",
       " 'Wednesday',\n",
       " 'Wednesday Night',\n",
       " 'Thursday']"
      ]
     },
     "execution_count": 244,
     "metadata": {},
     "output_type": "execute_result"
    }
   ],
   "source": [
    "period"
   ]
  },
  {
   "cell_type": "code",
   "execution_count": 245,
   "metadata": {},
   "outputs": [],
   "source": [
    "desc = []\n",
    "for i in soup.select(\".col-sm-10.forecast-text\"):\n",
    "    \n",
    "    desc.append(i.text)"
   ]
  },
  {
   "cell_type": "code",
   "execution_count": 246,
   "metadata": {},
   "outputs": [
    {
     "data": {
      "text/plain": [
       "['Mostly clear, with a low around 50. West wind around 11 mph, with gusts as high as 21 mph. ',\n",
       " 'Sunny, with a high near 67. Light west wind increasing to 10 to 15 mph in the morning. Winds could gust as high as 21 mph. ',\n",
       " 'Mostly clear, with a low around 52. West wind 6 to 11 mph becoming light. Winds could gust as high as 25 mph. ',\n",
       " 'Sunny, with a high near 73. North northwest wind 7 to 11 mph, with gusts as high as 28 mph. ',\n",
       " 'Mostly clear, with a low around 53. West northwest wind 7 to 13 mph. ',\n",
       " 'Sunny, with a high near 71.',\n",
       " 'Clear, with a low around 52.',\n",
       " 'Sunny, with a high near 73.',\n",
       " 'Clear, with a low around 52.',\n",
       " 'Sunny, with a high near 74.',\n",
       " 'Mostly clear, with a low around 51.',\n",
       " 'Sunny, with a high near 70.',\n",
       " 'Partly cloudy, with a low around 51.',\n",
       " 'Sunny, with a high near 67.']"
      ]
     },
     "execution_count": 246,
     "metadata": {},
     "output_type": "execute_result"
    }
   ],
   "source": [
    "desc"
   ]
  },
  {
   "cell_type": "code",
   "execution_count": 247,
   "metadata": {},
   "outputs": [],
   "source": [
    "temp = []\n",
    "for i in soup.select(\".temp\"):\n",
    "    \n",
    "    temp.append(i.text)"
   ]
  },
  {
   "cell_type": "code",
   "execution_count": 248,
   "metadata": {},
   "outputs": [
    {
     "data": {
      "text/plain": [
       "['Low: 50 °F',\n",
       " 'High: 67 °F',\n",
       " 'Low: 52 °F',\n",
       " 'High: 73 °F',\n",
       " 'Low: 53 °F',\n",
       " 'High: 71 °F',\n",
       " 'Low: 52 °F',\n",
       " 'High: 73 °F',\n",
       " 'Low: 52 °F']"
      ]
     },
     "execution_count": 248,
     "metadata": {},
     "output_type": "execute_result"
    }
   ],
   "source": [
    "temp"
   ]
  },
  {
   "cell_type": "code",
   "execution_count": 249,
   "metadata": {},
   "outputs": [],
   "source": [
    "df1 = pd.DataFrame(period,columns=[\"Period\"])\n",
    "df2 = pd.DataFrame(desc,columns=[\"Description\"])\n",
    "df3 = pd.DataFrame(temp,columns=[\"Temperature\"])"
   ]
  },
  {
   "cell_type": "code",
   "execution_count": 250,
   "metadata": {},
   "outputs": [],
   "source": [
    "df = pd.concat([df1,df2,df3],axis=1)"
   ]
  },
  {
   "cell_type": "code",
   "execution_count": 251,
   "metadata": {},
   "outputs": [
    {
     "data": {
      "text/html": [
       "<div>\n",
       "<style scoped>\n",
       "    .dataframe tbody tr th:only-of-type {\n",
       "        vertical-align: middle;\n",
       "    }\n",
       "\n",
       "    .dataframe tbody tr th {\n",
       "        vertical-align: top;\n",
       "    }\n",
       "\n",
       "    .dataframe thead th {\n",
       "        text-align: right;\n",
       "    }\n",
       "</style>\n",
       "<table border=\"1\" class=\"dataframe\">\n",
       "  <thead>\n",
       "    <tr style=\"text-align: right;\">\n",
       "      <th></th>\n",
       "      <th>Period</th>\n",
       "      <th>Description</th>\n",
       "      <th>Temperature</th>\n",
       "    </tr>\n",
       "  </thead>\n",
       "  <tbody>\n",
       "    <tr>\n",
       "      <th>0</th>\n",
       "      <td>Overnight</td>\n",
       "      <td>Mostly clear, with a low around 50. West wind ...</td>\n",
       "      <td>Low: 50 °F</td>\n",
       "    </tr>\n",
       "    <tr>\n",
       "      <th>1</th>\n",
       "      <td>Friday</td>\n",
       "      <td>Sunny, with a high near 67. Light west wind in...</td>\n",
       "      <td>High: 67 °F</td>\n",
       "    </tr>\n",
       "    <tr>\n",
       "      <th>2</th>\n",
       "      <td>Friday Night</td>\n",
       "      <td>Mostly clear, with a low around 52. West wind ...</td>\n",
       "      <td>Low: 52 °F</td>\n",
       "    </tr>\n",
       "    <tr>\n",
       "      <th>3</th>\n",
       "      <td>Saturday</td>\n",
       "      <td>Sunny, with a high near 73. North northwest wi...</td>\n",
       "      <td>High: 73 °F</td>\n",
       "    </tr>\n",
       "    <tr>\n",
       "      <th>4</th>\n",
       "      <td>Saturday Night</td>\n",
       "      <td>Mostly clear, with a low around 53. West north...</td>\n",
       "      <td>Low: 53 °F</td>\n",
       "    </tr>\n",
       "  </tbody>\n",
       "</table>\n",
       "</div>"
      ],
      "text/plain": [
       "           Period                                        Description  \\\n",
       "0       Overnight  Mostly clear, with a low around 50. West wind ...   \n",
       "1          Friday  Sunny, with a high near 67. Light west wind in...   \n",
       "2    Friday Night  Mostly clear, with a low around 52. West wind ...   \n",
       "3        Saturday  Sunny, with a high near 73. North northwest wi...   \n",
       "4  Saturday Night  Mostly clear, with a low around 53. West north...   \n",
       "\n",
       "   Temperature  \n",
       "0   Low: 50 °F  \n",
       "1  High: 67 °F  \n",
       "2   Low: 52 °F  \n",
       "3  High: 73 °F  \n",
       "4   Low: 53 °F  "
      ]
     },
     "execution_count": 251,
     "metadata": {},
     "output_type": "execute_result"
    }
   ],
   "source": [
    "df.head()"
   ]
  },
  {
   "cell_type": "code",
   "execution_count": null,
   "metadata": {},
   "outputs": [],
   "source": []
  }
 ],
 "metadata": {
  "kernelspec": {
   "display_name": "Python 3",
   "language": "python",
   "name": "python3"
  },
  "language_info": {
   "codemirror_mode": {
    "name": "ipython",
    "version": 3
   },
   "file_extension": ".py",
   "mimetype": "text/x-python",
   "name": "python",
   "nbconvert_exporter": "python",
   "pygments_lexer": "ipython3",
   "version": "3.8.5"
  }
 },
 "nbformat": 4,
 "nbformat_minor": 4
}
