{
 "cells": [
  {
   "cell_type": "markdown",
   "metadata": {},
   "source": [
    "#### Q1: Write a python program to scrape data for “Data Analyst” Job position in “Bangalore” location. You have to scrape the job-title, job-location, company_name, experience_required. You have to scrape first 10 jobs data.\n",
    "This task will be done in following steps:\n",
    "\n",
    "- 1. first get the webpage https://www.naukri.com/\n",
    "\n",
    "- 2. Enter “Data Analyst” in “Skill,Designations,Companies” field and enter “Bangalore” in “enter the location” field.\n",
    "\n",
    "- 3. Then click the search button.\n",
    "\n",
    "- 4. Then scrape the data for the first 10 jobs results you get.\n",
    "\n",
    "- 5. Finally create a dataframe of the scraped data.\n",
    "Note- All of the above steps have to be done in code. No step is to be done manually."
   ]
  },
  {
   "cell_type": "code",
   "execution_count": 1,
   "metadata": {},
   "outputs": [],
   "source": [
    "#Importing Libraries\n",
    "import selenium\n",
    "import pandas as pd\n",
    "from selenium import webdriver\n",
    "import time"
   ]
  },
  {
   "cell_type": "code",
   "execution_count": 2,
   "metadata": {},
   "outputs": [],
   "source": [
    "# Executing the chromedriver.exe file\n",
    "driver = webdriver.Chrome(r\"C:\\Users\\charl\\Desktop\\Study\\DataTrained\\Internship\\Selenium\\driver\\chromedriver.exe\")                                       "
   ]
  },
  {
   "cell_type": "code",
   "execution_count": 3,
   "metadata": {},
   "outputs": [],
   "source": [
    "# Url for naukri.com\n",
    "url = \"https://www.naukri.com/\"\n",
    "driver.get(url)"
   ]
  },
  {
   "cell_type": "code",
   "execution_count": 5,
   "metadata": {},
   "outputs": [
    {
     "data": {
      "text/plain": [
       "<selenium.webdriver.remote.webelement.WebElement (session=\"1800f9a47f76aab26b7bc2483f47909e\", element=\"58005258-1a00-4a4e-8b37-870217eefc38\")>"
      ]
     },
     "execution_count": 5,
     "metadata": {},
     "output_type": "execute_result"
    }
   ],
   "source": [
    "# locating search bar with the help of its ID\n",
    "search_bar = driver.find_element_by_id(\"qsb-keyword-sugg\")\n",
    "search_bar"
   ]
  },
  {
   "cell_type": "code",
   "execution_count": 6,
   "metadata": {},
   "outputs": [],
   "source": [
    "# searching the query\n",
    "search_bar.send_keys(\"Data Analyst\")"
   ]
  },
  {
   "cell_type": "code",
   "execution_count": 7,
   "metadata": {},
   "outputs": [
    {
     "data": {
      "text/plain": [
       "<selenium.webdriver.remote.webelement.WebElement (session=\"1800f9a47f76aab26b7bc2483f47909e\", element=\"8eb03e04-1154-47cc-9cac-c3ba838df3bb\")>"
      ]
     },
     "execution_count": 7,
     "metadata": {},
     "output_type": "execute_result"
    }
   ],
   "source": [
    "# using ID to input location query\n",
    "location = driver.find_element_by_id(\"qsb-location-sugg\")\n",
    "location"
   ]
  },
  {
   "cell_type": "code",
   "execution_count": 8,
   "metadata": {},
   "outputs": [],
   "source": [
    "# Searching the location\n",
    "location.send_keys(\"Bangalore\")"
   ]
  },
  {
   "cell_type": "code",
   "execution_count": 9,
   "metadata": {},
   "outputs": [],
   "source": [
    "# Locating search button with the help of X_path\n",
    "search = driver.find_element_by_xpath(\"//div[@class='search-btn']/button\")"
   ]
  },
  {
   "cell_type": "code",
   "execution_count": 10,
   "metadata": {},
   "outputs": [],
   "source": [
    "search.click()"
   ]
  },
  {
   "cell_type": "markdown",
   "metadata": {},
   "source": [
    "#### Job-title"
   ]
  },
  {
   "cell_type": "code",
   "execution_count": 11,
   "metadata": {},
   "outputs": [],
   "source": [
    "# Creating an empty list \n",
    "job_title = []\n",
    "\n",
    "for i in driver.find_elements_by_xpath(\"//a[@class='title fw500 ellipsis']\"):\n",
    "    \n",
    "    job_title.append(i.text)"
   ]
  },
  {
   "cell_type": "code",
   "execution_count": 12,
   "metadata": {},
   "outputs": [],
   "source": [
    "job_title = job_title[:10]"
   ]
  },
  {
   "cell_type": "code",
   "execution_count": 13,
   "metadata": {},
   "outputs": [
    {
     "data": {
      "text/plain": [
       "['Data Scientist / Data Analyst -Business Analyst',\n",
       " 'Hiring Data Analysts For E commerce Platform || WFH',\n",
       " 'Data Analyst',\n",
       " 'Hiring For Data Analyst/ MIS Reporting Analyst - Bangalore',\n",
       " 'DA - Urgent Opening For Data Analyst BFSI Domain - Pan India',\n",
       " 'Data Analyst - Informatica MDM',\n",
       " 'Assistant Vice President - MIS & Reporting ( Business Data Analyst)',\n",
       " 'Data Analyst',\n",
       " 'Data Analyst',\n",
       " 'Data Analyst']"
      ]
     },
     "execution_count": 13,
     "metadata": {},
     "output_type": "execute_result"
    }
   ],
   "source": [
    "job_title"
   ]
  },
  {
   "cell_type": "markdown",
   "metadata": {},
   "source": [
    "#### Job-location"
   ]
  },
  {
   "cell_type": "code",
   "execution_count": 14,
   "metadata": {},
   "outputs": [],
   "source": [
    "# Creating an empty list \n",
    "job_location = []\n",
    "\n",
    "for i in driver.find_elements_by_xpath(\"//li[@class='fleft grey-text br2 placeHolderLi location']//span\"):\n",
    "    \n",
    "    job_location.append(i.text)"
   ]
  },
  {
   "cell_type": "code",
   "execution_count": 15,
   "metadata": {},
   "outputs": [],
   "source": [
    "# First 10 job location\n",
    "job_location = job_location[:10]"
   ]
  },
  {
   "cell_type": "code",
   "execution_count": 16,
   "metadata": {},
   "outputs": [
    {
     "data": {
      "text/plain": [
       "['Mumbai, Hyderabad/Secunderabad, Pune, Gurgaon/Gurugram, Chennai, Bangalore/Bengaluru',\n",
       " 'Bangalore/Bengaluru',\n",
       " 'Bangalore/Bengaluru',\n",
       " 'Bangalore/Bengaluru',\n",
       " 'Kolkata, Hyderabad/Secunderabad, Pune, Ahmedabad, Chennai, Bangalore/Bengaluru, Delhi / NCR, Mumbai (All Areas)',\n",
       " 'Bangalore/Bengaluru',\n",
       " 'Mumbai, Bangalore/Bengaluru',\n",
       " 'Bangalore/Bengaluru',\n",
       " 'Bangalore/Bengaluru',\n",
       " 'Bangalore/Bengaluru']"
      ]
     },
     "execution_count": 16,
     "metadata": {},
     "output_type": "execute_result"
    }
   ],
   "source": [
    "job_location"
   ]
  },
  {
   "cell_type": "markdown",
   "metadata": {},
   "source": [
    "#### company_name"
   ]
  },
  {
   "cell_type": "code",
   "execution_count": 17,
   "metadata": {},
   "outputs": [],
   "source": [
    "# Creating an empty list \n",
    "job_company = []\n",
    "\n",
    "for i in driver.find_elements_by_xpath(\"//a[@class='subTitle ellipsis fleft']\"):\n",
    "    \n",
    "    job_company.append(i.text)"
   ]
  },
  {
   "cell_type": "code",
   "execution_count": 18,
   "metadata": {},
   "outputs": [],
   "source": [
    "job_company = job_company[:10]"
   ]
  },
  {
   "cell_type": "code",
   "execution_count": 19,
   "metadata": {},
   "outputs": [
    {
     "data": {
      "text/plain": [
       "['Inflexion Analytix Private Limited',\n",
       " 'Allegis Services India Pvt. Ltd.',\n",
       " 'Applied Materials',\n",
       " 'PHARMACEUTICAL RESEARCH ASSOCIATES INDIA Pvt Ltd',\n",
       " 'Tata Consultancy Services Ltd.',\n",
       " 'Shell India Markets Private Limited',\n",
       " 'INTERTRUSTVITEOS CORPORATE AND FUND SERVICES PVT. LTD.',\n",
       " 'Myntra Designs Pvt. Ltd.',\n",
       " 'Myntra Designs Pvt. Ltd.',\n",
       " 'Myntra Designs Pvt. Ltd.']"
      ]
     },
     "execution_count": 19,
     "metadata": {},
     "output_type": "execute_result"
    }
   ],
   "source": [
    "job_company"
   ]
  },
  {
   "cell_type": "markdown",
   "metadata": {},
   "source": [
    "#### Experience_required"
   ]
  },
  {
   "cell_type": "code",
   "execution_count": 20,
   "metadata": {},
   "outputs": [],
   "source": [
    "# Creating an empty list \n",
    "job_experience = []\n",
    "\n",
    "for i in driver.find_elements_by_xpath(\"//li[@class='fleft grey-text br2 placeHolderLi experience']//span\"):\n",
    "    \n",
    "    job_experience.append(i.text)"
   ]
  },
  {
   "cell_type": "code",
   "execution_count": 21,
   "metadata": {},
   "outputs": [],
   "source": [
    "job_experience =job_experience[:10]"
   ]
  },
  {
   "cell_type": "code",
   "execution_count": 22,
   "metadata": {},
   "outputs": [
    {
     "data": {
      "text/plain": [
       "['0-3 Yrs',\n",
       " '0-5 Yrs',\n",
       " '7-10 Yrs',\n",
       " '2-4 Yrs',\n",
       " '4-9 Yrs',\n",
       " '6-9 Yrs',\n",
       " '12-18 Yrs',\n",
       " '3-6 Yrs',\n",
       " '3-6 Yrs',\n",
       " '4-9 Yrs']"
      ]
     },
     "execution_count": 22,
     "metadata": {},
     "output_type": "execute_result"
    }
   ],
   "source": [
    "job_experience"
   ]
  },
  {
   "cell_type": "code",
   "execution_count": 23,
   "metadata": {},
   "outputs": [],
   "source": [
    "# Code to display row and column borders"
   ]
  },
  {
   "cell_type": "code",
   "execution_count": 29,
   "metadata": {},
   "outputs": [
    {
     "data": {
      "text/html": [
       "<style type=\"text/css\">\n",
       "table.dataframe td, table.dataframe th {\n",
       "    border: 1px  black solid !important;\n",
       "  color: black !important;\n",
       "}\n",
       "</style>\n"
      ],
      "text/plain": [
       "<IPython.core.display.HTML object>"
      ]
     },
     "metadata": {},
     "output_type": "display_data"
    }
   ],
   "source": [
    "%%HTML\n",
    "<style type=\"text/css\">\n",
    "table.dataframe td, table.dataframe th {\n",
    "    border: 1px  black solid !important;\n",
    "  color: black !important;\n",
    "}\n",
    "</style>"
   ]
  },
  {
   "cell_type": "code",
   "execution_count": 25,
   "metadata": {},
   "outputs": [],
   "source": [
    "# Creating dataframe\n",
    "df_jobs = pd.DataFrame({})\n",
    "df_jobs[\"Title\"] = job_title\n",
    "df_jobs[\"Company\"] = job_company\n",
    "df_jobs[\"Experience\"] = job_experience\n",
    "df_jobs[\"Location\"] = job_location"
   ]
  },
  {
   "cell_type": "code",
   "execution_count": 26,
   "metadata": {},
   "outputs": [
    {
     "data": {
      "text/html": [
       "<div>\n",
       "<style scoped>\n",
       "    .dataframe tbody tr th:only-of-type {\n",
       "        vertical-align: middle;\n",
       "    }\n",
       "\n",
       "    .dataframe tbody tr th {\n",
       "        vertical-align: top;\n",
       "    }\n",
       "\n",
       "    .dataframe thead th {\n",
       "        text-align: right;\n",
       "    }\n",
       "</style>\n",
       "<table border=\"1\" class=\"dataframe\">\n",
       "  <thead>\n",
       "    <tr style=\"text-align: right;\">\n",
       "      <th></th>\n",
       "      <th>Title</th>\n",
       "      <th>Company</th>\n",
       "      <th>Experience</th>\n",
       "      <th>Location</th>\n",
       "    </tr>\n",
       "  </thead>\n",
       "  <tbody>\n",
       "    <tr>\n",
       "      <th>0</th>\n",
       "      <td>Data Scientist / Data Analyst -Business Analyst</td>\n",
       "      <td>Inflexion Analytix Private Limited</td>\n",
       "      <td>0-3 Yrs</td>\n",
       "      <td>Mumbai, Hyderabad/Secunderabad, Pune, Gurgaon/...</td>\n",
       "    </tr>\n",
       "    <tr>\n",
       "      <th>1</th>\n",
       "      <td>Hiring Data Analysts For E commerce Platform |...</td>\n",
       "      <td>Allegis Services India Pvt. Ltd.</td>\n",
       "      <td>0-5 Yrs</td>\n",
       "      <td>Bangalore/Bengaluru</td>\n",
       "    </tr>\n",
       "    <tr>\n",
       "      <th>2</th>\n",
       "      <td>Data Analyst</td>\n",
       "      <td>Applied Materials</td>\n",
       "      <td>7-10 Yrs</td>\n",
       "      <td>Bangalore/Bengaluru</td>\n",
       "    </tr>\n",
       "    <tr>\n",
       "      <th>3</th>\n",
       "      <td>Hiring For Data Analyst/ MIS Reporting Analyst...</td>\n",
       "      <td>PHARMACEUTICAL RESEARCH ASSOCIATES INDIA Pvt Ltd</td>\n",
       "      <td>2-4 Yrs</td>\n",
       "      <td>Bangalore/Bengaluru</td>\n",
       "    </tr>\n",
       "    <tr>\n",
       "      <th>4</th>\n",
       "      <td>DA - Urgent Opening For Data Analyst BFSI Doma...</td>\n",
       "      <td>Tata Consultancy Services Ltd.</td>\n",
       "      <td>4-9 Yrs</td>\n",
       "      <td>Kolkata, Hyderabad/Secunderabad, Pune, Ahmedab...</td>\n",
       "    </tr>\n",
       "  </tbody>\n",
       "</table>\n",
       "</div>"
      ],
      "text/plain": [
       "                                               Title  \\\n",
       "0    Data Scientist / Data Analyst -Business Analyst   \n",
       "1  Hiring Data Analysts For E commerce Platform |...   \n",
       "2                                       Data Analyst   \n",
       "3  Hiring For Data Analyst/ MIS Reporting Analyst...   \n",
       "4  DA - Urgent Opening For Data Analyst BFSI Doma...   \n",
       "\n",
       "                                            Company Experience  \\\n",
       "0                Inflexion Analytix Private Limited    0-3 Yrs   \n",
       "1                  Allegis Services India Pvt. Ltd.    0-5 Yrs   \n",
       "2                                 Applied Materials   7-10 Yrs   \n",
       "3  PHARMACEUTICAL RESEARCH ASSOCIATES INDIA Pvt Ltd    2-4 Yrs   \n",
       "4                    Tata Consultancy Services Ltd.    4-9 Yrs   \n",
       "\n",
       "                                            Location  \n",
       "0  Mumbai, Hyderabad/Secunderabad, Pune, Gurgaon/...  \n",
       "1                                Bangalore/Bengaluru  \n",
       "2                                Bangalore/Bengaluru  \n",
       "3                                Bangalore/Bengaluru  \n",
       "4  Kolkata, Hyderabad/Secunderabad, Pune, Ahmedab...  "
      ]
     },
     "execution_count": 26,
     "metadata": {},
     "output_type": "execute_result"
    }
   ],
   "source": [
    "df_jobs.head()"
   ]
  },
  {
   "cell_type": "markdown",
   "metadata": {},
   "source": [
    "#### Q2: Write a python program to scrape data for “Data Scientist” Job position in “Bangalore” location. You have to scrape the job-title, job-location, company_name, full job-description. You have to scrape first 10 jobs data.\n",
    "This task will be done in following steps:\n",
    "\n",
    "- 1. first get the webpage https://www.naukri.com/\n",
    "\n",
    "- 2. Enter “Data Scientist” in “Skill,Designations,Companies” field and enter “Bangalore” in “enter the location” field.\n",
    "\n",
    "- 3. Then click the search button.\n",
    "\n",
    "- 4. Then scrape the data for the first 10 jobs results you get.\n",
    "\n",
    "- 5. Finally create a dataframe of the scraped data."
   ]
  },
  {
   "cell_type": "code",
   "execution_count": 27,
   "metadata": {},
   "outputs": [],
   "source": [
    "# Getting the url\n",
    "url = \"https://www.naukri.com/\"\n",
    "driver.get(url)"
   ]
  },
  {
   "cell_type": "code",
   "execution_count": 28,
   "metadata": {},
   "outputs": [
    {
     "data": {
      "text/plain": [
       "<selenium.webdriver.remote.webelement.WebElement (session=\"1800f9a47f76aab26b7bc2483f47909e\", element=\"88a02b5e-08b2-43bd-81ef-152edfebf75d\")>"
      ]
     },
     "execution_count": 28,
     "metadata": {},
     "output_type": "execute_result"
    }
   ],
   "source": [
    "# locating search bar with the help of its ID\n",
    "search_bar = driver.find_element_by_id(\"qsb-keyword-sugg\")\n",
    "search_bar"
   ]
  },
  {
   "cell_type": "code",
   "execution_count": 29,
   "metadata": {},
   "outputs": [],
   "source": [
    "search_bar.send_keys(\"Data Scientist\")"
   ]
  },
  {
   "cell_type": "code",
   "execution_count": 30,
   "metadata": {},
   "outputs": [
    {
     "data": {
      "text/plain": [
       "<selenium.webdriver.remote.webelement.WebElement (session=\"1800f9a47f76aab26b7bc2483f47909e\", element=\"ab0ea319-6bb9-4488-9a89-1bc8bcacaa02\")>"
      ]
     },
     "execution_count": 30,
     "metadata": {},
     "output_type": "execute_result"
    }
   ],
   "source": [
    "# using ID to input location query\n",
    "location = driver.find_element_by_id(\"qsb-location-sugg\")\n",
    "location"
   ]
  },
  {
   "cell_type": "code",
   "execution_count": 31,
   "metadata": {},
   "outputs": [],
   "source": [
    "location.send_keys(\"Bangalore\")"
   ]
  },
  {
   "cell_type": "code",
   "execution_count": 32,
   "metadata": {},
   "outputs": [],
   "source": [
    "# Locating search button with the help of X_path\n",
    "search = driver.find_element_by_xpath(\"//div[@class='search-btn']/button\")"
   ]
  },
  {
   "cell_type": "code",
   "execution_count": 33,
   "metadata": {},
   "outputs": [],
   "source": [
    "search.click()"
   ]
  },
  {
   "cell_type": "markdown",
   "metadata": {},
   "source": [
    "#### Job Title"
   ]
  },
  {
   "cell_type": "code",
   "execution_count": 34,
   "metadata": {},
   "outputs": [],
   "source": [
    "# Creating an empty list \n",
    "job_title = []\n",
    "\n",
    "for i in driver.find_elements_by_xpath(\"//a[@class='title fw500 ellipsis']\"):\n",
    "    \n",
    "    job_title.append(i.text)"
   ]
  },
  {
   "cell_type": "code",
   "execution_count": 35,
   "metadata": {},
   "outputs": [],
   "source": [
    "job_title = job_title[:10]"
   ]
  },
  {
   "cell_type": "code",
   "execution_count": 36,
   "metadata": {},
   "outputs": [
    {
     "data": {
      "text/plain": [
       "['Data Scientist / Data Analyst -Business Analyst',\n",
       " 'Senior Data Scientist, Modeling',\n",
       " 'Data Scientist - IBM Garage',\n",
       " 'Data Scientist',\n",
       " 'Data Scientist',\n",
       " 'Senior Data Scientist - Credit risk',\n",
       " 'Big Data - Data Scientist',\n",
       " 'SDE Lead Data Scientist-L3',\n",
       " 'Computational Design Lead Data Scientist-L3',\n",
       " 'Data Scientist']"
      ]
     },
     "execution_count": 36,
     "metadata": {},
     "output_type": "execute_result"
    }
   ],
   "source": [
    "job_title"
   ]
  },
  {
   "cell_type": "markdown",
   "metadata": {},
   "source": [
    "#### Job-location"
   ]
  },
  {
   "cell_type": "code",
   "execution_count": 37,
   "metadata": {},
   "outputs": [],
   "source": [
    "# Creating an empty list \n",
    "job_location = []\n",
    "\n",
    "for i in driver.find_elements_by_xpath(\"//li[@class='fleft grey-text br2 placeHolderLi location']//span\"):\n",
    "    \n",
    "    job_location.append(i.text)"
   ]
  },
  {
   "cell_type": "code",
   "execution_count": 38,
   "metadata": {},
   "outputs": [],
   "source": [
    "job_location = job_location[:10]"
   ]
  },
  {
   "cell_type": "code",
   "execution_count": 39,
   "metadata": {},
   "outputs": [
    {
     "data": {
      "text/plain": [
       "['Mumbai, Hyderabad/Secunderabad, Pune, Gurgaon/Gurugram, Chennai, Bangalore/Bengaluru',\n",
       " 'Kolkata, Gurgaon/Gurugram, Bangalore/Bengaluru, Vadodara, Mumbai (All Areas)',\n",
       " 'Noida, Hyderabad/Secunderabad, Bangalore/Bengaluru',\n",
       " 'Noida, Hyderabad/Secunderabad, Bangalore/Bengaluru',\n",
       " 'Noida, Hyderabad/Secunderabad, Bangalore/Bengaluru',\n",
       " 'Bangalore/Bengaluru',\n",
       " 'Kochi/Cochin, Indore, Hyderabad/Secunderabad, Pune, Ahmedabad, Bangalore/Bengaluru, Mumbai (All Areas)',\n",
       " 'Bangalore/Bengaluru',\n",
       " 'Bangalore/Bengaluru',\n",
       " 'Bangalore/Bengaluru']"
      ]
     },
     "execution_count": 39,
     "metadata": {},
     "output_type": "execute_result"
    }
   ],
   "source": [
    "job_location"
   ]
  },
  {
   "cell_type": "markdown",
   "metadata": {},
   "source": [
    "#### Company name "
   ]
  },
  {
   "cell_type": "code",
   "execution_count": 40,
   "metadata": {},
   "outputs": [],
   "source": [
    "# Creating an empty list \n",
    "job_company = []\n",
    "\n",
    "for i in driver.find_elements_by_xpath(\"//a[@class='subTitle ellipsis fleft']\"):\n",
    "    \n",
    "    job_company.append(i.text)"
   ]
  },
  {
   "cell_type": "code",
   "execution_count": 41,
   "metadata": {},
   "outputs": [],
   "source": [
    "job_company = job_company[:10]"
   ]
  },
  {
   "cell_type": "code",
   "execution_count": 42,
   "metadata": {},
   "outputs": [
    {
     "data": {
      "text/plain": [
       "['Inflexion Analytix Private Limited',\n",
       " 'Nielsen',\n",
       " 'IBM India Pvt. Limited',\n",
       " 'IBM India Pvt. Limited',\n",
       " 'IBM India Pvt. Limited',\n",
       " 'Scienaptic Systems',\n",
       " 'Xoriant Solutions Pvt Ltd',\n",
       " 'Huawei Technologies India Pvt Ltd',\n",
       " 'Huawei Technologies India Pvt Ltd',\n",
       " 'IBM India Pvt. Limited']"
      ]
     },
     "execution_count": 42,
     "metadata": {},
     "output_type": "execute_result"
    }
   ],
   "source": [
    "job_company"
   ]
  },
  {
   "cell_type": "markdown",
   "metadata": {},
   "source": [
    "#### Job Description"
   ]
  },
  {
   "cell_type": "code",
   "execution_count": 43,
   "metadata": {},
   "outputs": [],
   "source": [
    "# First extracting the urls for each container\n",
    "url = []\n",
    "\n",
    "for i in driver.find_elements_by_xpath(\"//a[@class='title fw500 ellipsis']\"):\n",
    "    \n",
    "    url.append(i.get_attribute(\"href\"))"
   ]
  },
  {
   "cell_type": "code",
   "execution_count": 47,
   "metadata": {},
   "outputs": [],
   "source": [
    "# Grabbing the first 10 urls\n",
    "url_10 = url[:10]"
   ]
  },
  {
   "cell_type": "code",
   "execution_count": 91,
   "metadata": {},
   "outputs": [],
   "source": [
    "# Creating an empty list to grab the Job description\n",
    "desc = []\n",
    "\n",
    "# Using for loop to iterate through the top 10 urls\n",
    "for link in url_10:\n",
    "    \n",
    "    driver.get(link)\n",
    "    \n",
    "    # there are two X paths so we need to use an if/else loop to iterate through them\n",
    "    if driver.find_elements_by_xpath(\"//section[@class='job-desc']\"):\n",
    "        \n",
    "        for i in driver.find_elements_by_xpath(\"//section[@class='job-desc']\"):\n",
    "            \n",
    "            desc.append(i.text)\n",
    "            \n",
    "    else:\n",
    "        \n",
    "        for j in driver.find_elements_by_xpath(\"//div[@class='nConfig_textblock ']\"):\n",
    "            \n",
    "            desc.append(j.text)"
   ]
  },
  {
   "cell_type": "code",
   "execution_count": 96,
   "metadata": {},
   "outputs": [],
   "source": [
    "# Replacing the \\n symbol with \"\"(space)\n",
    "description = [x.replace('\\n', '') for x in desc]"
   ]
  },
  {
   "cell_type": "code",
   "execution_count": 98,
   "metadata": {},
   "outputs": [],
   "source": [
    "# Creating dataframe\n",
    "df_jobsD = pd.DataFrame({})\n",
    "df_jobsD[\"Title\"] = job_title\n",
    "df_jobsD[\"Location\"] = job_location\n",
    "df_jobsD[\"Company Name\"] = job_company\n",
    "df_jobsD[\"Job Description\"] = description"
   ]
  },
  {
   "cell_type": "code",
   "execution_count": 99,
   "metadata": {},
   "outputs": [
    {
     "data": {
      "text/html": [
       "<div>\n",
       "<style scoped>\n",
       "    .dataframe tbody tr th:only-of-type {\n",
       "        vertical-align: middle;\n",
       "    }\n",
       "\n",
       "    .dataframe tbody tr th {\n",
       "        vertical-align: top;\n",
       "    }\n",
       "\n",
       "    .dataframe thead th {\n",
       "        text-align: right;\n",
       "    }\n",
       "</style>\n",
       "<table border=\"1\" class=\"dataframe\">\n",
       "  <thead>\n",
       "    <tr style=\"text-align: right;\">\n",
       "      <th></th>\n",
       "      <th>Title</th>\n",
       "      <th>Location</th>\n",
       "      <th>Company Name</th>\n",
       "      <th>Job Description</th>\n",
       "    </tr>\n",
       "  </thead>\n",
       "  <tbody>\n",
       "    <tr>\n",
       "      <th>0</th>\n",
       "      <td>Data Scientist / Data Analyst -Business Analyst</td>\n",
       "      <td>Mumbai, Hyderabad/Secunderabad, Pune, Gurgaon/...</td>\n",
       "      <td>Inflexion Analytix Private Limited</td>\n",
       "      <td>Job descriptionJob Role : Data Scientist/Data ...</td>\n",
       "    </tr>\n",
       "    <tr>\n",
       "      <th>1</th>\n",
       "      <td>Senior Data Scientist, Modeling</td>\n",
       "      <td>Kolkata, Gurgaon/Gurugram, Bangalore/Bengaluru...</td>\n",
       "      <td>Nielsen</td>\n",
       "      <td>Job descriptionWe wont say we can predict the ...</td>\n",
       "    </tr>\n",
       "    <tr>\n",
       "      <th>2</th>\n",
       "      <td>Data Scientist - IBM Garage</td>\n",
       "      <td>Noida, Hyderabad/Secunderabad, Bangalore/Benga...</td>\n",
       "      <td>IBM India Pvt. Limited</td>\n",
       "      <td>Job DescriptionAs a Data Scientist in the IBM ...</td>\n",
       "    </tr>\n",
       "    <tr>\n",
       "      <th>3</th>\n",
       "      <td>Data Scientist</td>\n",
       "      <td>Noida, Hyderabad/Secunderabad, Bangalore/Benga...</td>\n",
       "      <td>IBM India Pvt. Limited</td>\n",
       "      <td>Job DescriptionIntroductionAs a Data Scientist...</td>\n",
       "    </tr>\n",
       "    <tr>\n",
       "      <th>4</th>\n",
       "      <td>Data Scientist</td>\n",
       "      <td>Noida, Hyderabad/Secunderabad, Bangalore/Benga...</td>\n",
       "      <td>IBM India Pvt. Limited</td>\n",
       "      <td>Job DescriptionIntroductionAs a Data Scientist...</td>\n",
       "    </tr>\n",
       "  </tbody>\n",
       "</table>\n",
       "</div>"
      ],
      "text/plain": [
       "                                             Title  \\\n",
       "0  Data Scientist / Data Analyst -Business Analyst   \n",
       "1                  Senior Data Scientist, Modeling   \n",
       "2                      Data Scientist - IBM Garage   \n",
       "3                                   Data Scientist   \n",
       "4                                   Data Scientist   \n",
       "\n",
       "                                            Location  \\\n",
       "0  Mumbai, Hyderabad/Secunderabad, Pune, Gurgaon/...   \n",
       "1  Kolkata, Gurgaon/Gurugram, Bangalore/Bengaluru...   \n",
       "2  Noida, Hyderabad/Secunderabad, Bangalore/Benga...   \n",
       "3  Noida, Hyderabad/Secunderabad, Bangalore/Benga...   \n",
       "4  Noida, Hyderabad/Secunderabad, Bangalore/Benga...   \n",
       "\n",
       "                         Company Name  \\\n",
       "0  Inflexion Analytix Private Limited   \n",
       "1                             Nielsen   \n",
       "2              IBM India Pvt. Limited   \n",
       "3              IBM India Pvt. Limited   \n",
       "4              IBM India Pvt. Limited   \n",
       "\n",
       "                                     Job Description  \n",
       "0  Job descriptionJob Role : Data Scientist/Data ...  \n",
       "1  Job descriptionWe wont say we can predict the ...  \n",
       "2  Job DescriptionAs a Data Scientist in the IBM ...  \n",
       "3  Job DescriptionIntroductionAs a Data Scientist...  \n",
       "4  Job DescriptionIntroductionAs a Data Scientist...  "
      ]
     },
     "execution_count": 99,
     "metadata": {},
     "output_type": "execute_result"
    }
   ],
   "source": [
    "df_jobsD.head()"
   ]
  },
  {
   "cell_type": "markdown",
   "metadata": {},
   "source": [
    "#### Q3: In this question you have to scrape data using the filters available on the webpage as shown below:\n",
    "- You have to use the location and salary filter.\n",
    "- You have to scrape data for “Data Scientist” designation for first 10 job results.\n",
    "- You have to scrape the job-title, job-location, company_name, experience_required.\n",
    "- The location filter to be used is “Delhi/NCR”\n",
    "- The salary filter to be used is “3-6” lakhs"
   ]
  },
  {
   "cell_type": "code",
   "execution_count": 100,
   "metadata": {},
   "outputs": [],
   "source": [
    "# Getting the url\n",
    "url = \"https://www.naukri.com/\"\n",
    "driver.get(url)"
   ]
  },
  {
   "cell_type": "code",
   "execution_count": 101,
   "metadata": {},
   "outputs": [
    {
     "data": {
      "text/plain": [
       "<selenium.webdriver.remote.webelement.WebElement (session=\"1800f9a47f76aab26b7bc2483f47909e\", element=\"ed51234d-b02a-4347-93ff-654b109bd87a\")>"
      ]
     },
     "execution_count": 101,
     "metadata": {},
     "output_type": "execute_result"
    }
   ],
   "source": [
    "# locating search bar with the help of its ID\n",
    "search_bar = driver.find_element_by_id(\"qsb-keyword-sugg\")\n",
    "search_bar"
   ]
  },
  {
   "cell_type": "code",
   "execution_count": 102,
   "metadata": {},
   "outputs": [],
   "source": [
    "search_bar.send_keys(\"Data Scientist\")"
   ]
  },
  {
   "cell_type": "code",
   "execution_count": 103,
   "metadata": {},
   "outputs": [],
   "source": [
    "# Locating search button with the help of X_path\n",
    "search = driver.find_element_by_xpath(\"//div[@class='search-btn']/button\")"
   ]
  },
  {
   "cell_type": "code",
   "execution_count": 104,
   "metadata": {},
   "outputs": [],
   "source": [
    "search.click()"
   ]
  },
  {
   "cell_type": "code",
   "execution_count": 107,
   "metadata": {},
   "outputs": [
    {
     "data": {
      "text/plain": [
       "<selenium.webdriver.remote.webelement.WebElement (session=\"1800f9a47f76aab26b7bc2483f47909e\", element=\"4ddc8839-614a-42c3-ac21-2f9f2003c8fd\")>"
      ]
     },
     "execution_count": 107,
     "metadata": {},
     "output_type": "execute_result"
    }
   ],
   "source": [
    "# applying Locating filter \n",
    "filter_1 = driver.find_element_by_xpath('//*[@id=\"root\"]/div[3]/div[2]/section[1]/div[2]/div[1]/div[2]/div[2]/label/i')\n",
    "filter_1"
   ]
  },
  {
   "cell_type": "code",
   "execution_count": 108,
   "metadata": {},
   "outputs": [],
   "source": [
    "filter_1.click()"
   ]
  },
  {
   "cell_type": "code",
   "execution_count": 109,
   "metadata": {},
   "outputs": [
    {
     "data": {
      "text/plain": [
       "<selenium.webdriver.remote.webelement.WebElement (session=\"1800f9a47f76aab26b7bc2483f47909e\", element=\"3e05d324-86b3-4911-8793-ecc59821570b\")>"
      ]
     },
     "execution_count": 109,
     "metadata": {},
     "output_type": "execute_result"
    }
   ],
   "source": [
    "# Applying second filter\n",
    "filter_2 = driver.find_element_by_xpath('//*[@id=\"root\"]/div[3]/div[2]/section[1]/div[2]/div[3]/div[2]/div[2]/label/i')\n",
    "filter_2"
   ]
  },
  {
   "cell_type": "code",
   "execution_count": 110,
   "metadata": {},
   "outputs": [],
   "source": [
    "filter_2.click()"
   ]
  },
  {
   "cell_type": "markdown",
   "metadata": {},
   "source": [
    "#### Job title"
   ]
  },
  {
   "cell_type": "code",
   "execution_count": 113,
   "metadata": {},
   "outputs": [],
   "source": [
    "# Creating an empty list \n",
    "job_title = []\n",
    "\n",
    "for i in driver.find_elements_by_xpath(\"//a[@class='title fw500 ellipsis']\"):\n",
    "    \n",
    "    job_title.append(i.text)"
   ]
  },
  {
   "cell_type": "code",
   "execution_count": 115,
   "metadata": {},
   "outputs": [],
   "source": [
    "job_title = job_title[:10]"
   ]
  },
  {
   "cell_type": "code",
   "execution_count": 116,
   "metadata": {},
   "outputs": [
    {
     "data": {
      "text/plain": [
       "['Data Scientist / Data Analyst -Business Analyst',\n",
       " 'Data Scientist',\n",
       " 'Data Scientist - High growth VC backed Influencer Marketplace',\n",
       " 'Excellent opportunity For Data Scientist',\n",
       " 'Data Scientist',\n",
       " 'DATA Scientist – Gurgaon (Exp 3-6 years)',\n",
       " 'DATA Scientist – Gurgaon (Exp 3-6 years)',\n",
       " 'Data Scientist - Noida',\n",
       " \"Data Scientist - Noida/ B'lore\",\n",
       " 'Data Scientist']"
      ]
     },
     "execution_count": 116,
     "metadata": {},
     "output_type": "execute_result"
    }
   ],
   "source": [
    "job_title"
   ]
  },
  {
   "cell_type": "markdown",
   "metadata": {},
   "source": [
    "#### Location"
   ]
  },
  {
   "cell_type": "code",
   "execution_count": 118,
   "metadata": {},
   "outputs": [],
   "source": [
    "job_location = []\n",
    "\n",
    "for i in driver.find_elements_by_xpath(\"//li[@class='fleft grey-text br2 placeHolderLi location']//span\"):\n",
    "    \n",
    "    job_location.append(i.text)"
   ]
  },
  {
   "cell_type": "code",
   "execution_count": 120,
   "metadata": {},
   "outputs": [],
   "source": [
    "job_location = job_location[:10]"
   ]
  },
  {
   "cell_type": "code",
   "execution_count": 121,
   "metadata": {},
   "outputs": [
    {
     "data": {
      "text/plain": [
       "['Mumbai, Hyderabad/Secunderabad, Pune, Gurgaon/Gurugram, Chennai, Bangalore/Bengaluru',\n",
       " 'Noida, Hyderabad/Secunderabad, Bangalore/Bengaluru',\n",
       " 'Bangalore/Bengaluru, Delhi / NCR, Mumbai (All Areas)',\n",
       " 'Noida, Bangalore/Bengaluru',\n",
       " 'New Delhi, Gurgaon/Gurugram, Delhi / NCR',\n",
       " 'Gurgaon/Gurugram, Delhi / NCR',\n",
       " 'Gurgaon/Gurugram, Delhi / NCR',\n",
       " 'Noida',\n",
       " 'Noida, Bangalore/Bengaluru',\n",
       " 'Bangalore/Bengaluru, Delhi / NCR, Mumbai (All Areas)']"
      ]
     },
     "execution_count": 121,
     "metadata": {},
     "output_type": "execute_result"
    }
   ],
   "source": [
    "job_location"
   ]
  },
  {
   "cell_type": "markdown",
   "metadata": {},
   "source": [
    "#### company"
   ]
  },
  {
   "cell_type": "code",
   "execution_count": 122,
   "metadata": {},
   "outputs": [],
   "source": [
    "job_company = []\n",
    "\n",
    "for i in driver.find_elements_by_xpath(\"//a[@class='subTitle ellipsis fleft']\"):\n",
    "    \n",
    "    job_company.append(i.text)"
   ]
  },
  {
   "cell_type": "code",
   "execution_count": 124,
   "metadata": {},
   "outputs": [],
   "source": [
    "job_company = job_company[:10]"
   ]
  },
  {
   "cell_type": "code",
   "execution_count": 125,
   "metadata": {},
   "outputs": [
    {
     "data": {
      "text/plain": [
       "['Inflexion Analytix Private Limited',\n",
       " 'IBM India Pvt. Limited',\n",
       " 'Ravgins International Pvt. Ltd.',\n",
       " 'NEC CORPORATION INDIA PRIVATE LIMITED',\n",
       " 'Mobikwik',\n",
       " 'CRESCENDO GLOBAL LEADERSHIP HIRING INDIA PRIVATE L IMITED',\n",
       " 'CRESCENDO GLOBAL LEADERSHIP HIRING INDIA PRIVATE L IMITED',\n",
       " 'Optum Global Solutions (India) Private Limited',\n",
       " 'NEC CORPORATION INDIA PRIVATE LIMITED',\n",
       " 'Cloudstrats Technologies Private Limited']"
      ]
     },
     "execution_count": 125,
     "metadata": {},
     "output_type": "execute_result"
    }
   ],
   "source": [
    "job_company"
   ]
  },
  {
   "cell_type": "markdown",
   "metadata": {},
   "source": [
    "#### experience"
   ]
  },
  {
   "cell_type": "code",
   "execution_count": 126,
   "metadata": {},
   "outputs": [],
   "source": [
    "job_experience = []\n",
    "\n",
    "for i in driver.find_elements_by_xpath(\"//li[@class='fleft grey-text br2 placeHolderLi experience']//span\"):\n",
    "    \n",
    "    job_experience.append(i.text)"
   ]
  },
  {
   "cell_type": "code",
   "execution_count": 129,
   "metadata": {},
   "outputs": [],
   "source": [
    "job_experience = job_experience[:10]"
   ]
  },
  {
   "cell_type": "code",
   "execution_count": 130,
   "metadata": {},
   "outputs": [
    {
     "data": {
      "text/plain": [
       "['0-3 Yrs',\n",
       " '4-9 Yrs',\n",
       " '3-5 Yrs',\n",
       " '3-7 Yrs',\n",
       " '3-5 Yrs',\n",
       " '3-6 Yrs',\n",
       " '3-6 Yrs',\n",
       " '3-5 Yrs',\n",
       " '3-8 Yrs',\n",
       " '5-8 Yrs']"
      ]
     },
     "execution_count": 130,
     "metadata": {},
     "output_type": "execute_result"
    }
   ],
   "source": [
    "job_experience"
   ]
  },
  {
   "cell_type": "code",
   "execution_count": 131,
   "metadata": {},
   "outputs": [],
   "source": [
    "df_jobsF = pd.DataFrame({})\n",
    "df_jobsF[\"Title\"] = job_title\n",
    "df_jobsF[\"Location\"] = job_location\n",
    "df_jobsF[\"Company Name\"] = job_company\n",
    "df_jobsF[\"Experience required\"] = job_experience"
   ]
  },
  {
   "cell_type": "code",
   "execution_count": 132,
   "metadata": {},
   "outputs": [
    {
     "data": {
      "text/html": [
       "<div>\n",
       "<style scoped>\n",
       "    .dataframe tbody tr th:only-of-type {\n",
       "        vertical-align: middle;\n",
       "    }\n",
       "\n",
       "    .dataframe tbody tr th {\n",
       "        vertical-align: top;\n",
       "    }\n",
       "\n",
       "    .dataframe thead th {\n",
       "        text-align: right;\n",
       "    }\n",
       "</style>\n",
       "<table border=\"1\" class=\"dataframe\">\n",
       "  <thead>\n",
       "    <tr style=\"text-align: right;\">\n",
       "      <th></th>\n",
       "      <th>Title</th>\n",
       "      <th>Location</th>\n",
       "      <th>Company Name</th>\n",
       "      <th>Experience required</th>\n",
       "    </tr>\n",
       "  </thead>\n",
       "  <tbody>\n",
       "    <tr>\n",
       "      <th>0</th>\n",
       "      <td>Data Scientist / Data Analyst -Business Analyst</td>\n",
       "      <td>Mumbai, Hyderabad/Secunderabad, Pune, Gurgaon/...</td>\n",
       "      <td>Inflexion Analytix Private Limited</td>\n",
       "      <td>0-3 Yrs</td>\n",
       "    </tr>\n",
       "    <tr>\n",
       "      <th>1</th>\n",
       "      <td>Data Scientist</td>\n",
       "      <td>Noida, Hyderabad/Secunderabad, Bangalore/Benga...</td>\n",
       "      <td>IBM India Pvt. Limited</td>\n",
       "      <td>4-9 Yrs</td>\n",
       "    </tr>\n",
       "    <tr>\n",
       "      <th>2</th>\n",
       "      <td>Data Scientist - High growth VC backed Influen...</td>\n",
       "      <td>Bangalore/Bengaluru, Delhi / NCR, Mumbai (All ...</td>\n",
       "      <td>Ravgins International Pvt. Ltd.</td>\n",
       "      <td>3-5 Yrs</td>\n",
       "    </tr>\n",
       "    <tr>\n",
       "      <th>3</th>\n",
       "      <td>Excellent opportunity For Data Scientist</td>\n",
       "      <td>Noida, Bangalore/Bengaluru</td>\n",
       "      <td>NEC CORPORATION INDIA PRIVATE LIMITED</td>\n",
       "      <td>3-7 Yrs</td>\n",
       "    </tr>\n",
       "    <tr>\n",
       "      <th>4</th>\n",
       "      <td>Data Scientist</td>\n",
       "      <td>New Delhi, Gurgaon/Gurugram, Delhi / NCR</td>\n",
       "      <td>Mobikwik</td>\n",
       "      <td>3-5 Yrs</td>\n",
       "    </tr>\n",
       "  </tbody>\n",
       "</table>\n",
       "</div>"
      ],
      "text/plain": [
       "                                               Title  \\\n",
       "0    Data Scientist / Data Analyst -Business Analyst   \n",
       "1                                     Data Scientist   \n",
       "2  Data Scientist - High growth VC backed Influen...   \n",
       "3           Excellent opportunity For Data Scientist   \n",
       "4                                     Data Scientist   \n",
       "\n",
       "                                            Location  \\\n",
       "0  Mumbai, Hyderabad/Secunderabad, Pune, Gurgaon/...   \n",
       "1  Noida, Hyderabad/Secunderabad, Bangalore/Benga...   \n",
       "2  Bangalore/Bengaluru, Delhi / NCR, Mumbai (All ...   \n",
       "3                         Noida, Bangalore/Bengaluru   \n",
       "4           New Delhi, Gurgaon/Gurugram, Delhi / NCR   \n",
       "\n",
       "                            Company Name Experience required  \n",
       "0     Inflexion Analytix Private Limited             0-3 Yrs  \n",
       "1                 IBM India Pvt. Limited             4-9 Yrs  \n",
       "2        Ravgins International Pvt. Ltd.             3-5 Yrs  \n",
       "3  NEC CORPORATION INDIA PRIVATE LIMITED             3-7 Yrs  \n",
       "4                               Mobikwik             3-5 Yrs  "
      ]
     },
     "execution_count": 132,
     "metadata": {},
     "output_type": "execute_result"
    }
   ],
   "source": [
    "df_jobsF.head()"
   ]
  },
  {
   "cell_type": "markdown",
   "metadata": {},
   "source": [
    "#### Q4: Write a python program to scrape data for first 10 job results for Data scientist Designation in Noida location. You have to scrape company_name, No. of days ago when job was posted, Rating of the company.\n",
    "This task will be done in following steps:\n",
    "- 1. first get the webpage https://www.glassdoor.co.in/index.htm\n",
    "- 2. Enter “Data Scientist” in “Job Title,Keyword,Company” field and enter “Noida” in “location” field.\n",
    "- 3. Then click the search button. You will land up in the below page\n",
    "- 4. Then scrape the data for the first 10 jobs results you get in the above shown page.\n",
    "- 5. Finally create a dataframe of the scraped data."
   ]
  },
  {
   "cell_type": "code",
   "execution_count": 14,
   "metadata": {},
   "outputs": [],
   "source": [
    "url = \"https://www.glassdoor.co.in/index.htm\"\n",
    "driver.get(url)"
   ]
  },
  {
   "cell_type": "code",
   "execution_count": 15,
   "metadata": {},
   "outputs": [],
   "source": [
    "search_btn = driver.find_element_by_css_selector(\"#SearchForm > div.d-flex.d-md-none.pr-std > button\")"
   ]
  },
  {
   "cell_type": "code",
   "execution_count": 16,
   "metadata": {},
   "outputs": [],
   "source": [
    "search_btn.click()"
   ]
  },
  {
   "cell_type": "code",
   "execution_count": 17,
   "metadata": {},
   "outputs": [],
   "source": [
    "name = driver.find_element_by_xpath(\"//input[@id='scKeyword']\")"
   ]
  },
  {
   "cell_type": "code",
   "execution_count": 18,
   "metadata": {},
   "outputs": [],
   "source": [
    "name.send_keys(\"Data Scientist\")"
   ]
  },
  {
   "cell_type": "code",
   "execution_count": 19,
   "metadata": {},
   "outputs": [],
   "source": [
    "location = driver.find_element_by_xpath(\"//input[@id='scLocation']\")"
   ]
  },
  {
   "cell_type": "code",
   "execution_count": 20,
   "metadata": {},
   "outputs": [],
   "source": [
    "location.send_keys(\"Noida\")"
   ]
  },
  {
   "cell_type": "code",
   "execution_count": 21,
   "metadata": {},
   "outputs": [],
   "source": [
    "search = driver.find_element_by_css_selector(\"#sc > div.mt-std > div.d-flex.SearchStyles__searchKeywordContainer.SearchStyles__searchFormInputContainer > button\")"
   ]
  },
  {
   "cell_type": "code",
   "execution_count": 22,
   "metadata": {},
   "outputs": [],
   "source": [
    "search.click()"
   ]
  },
  {
   "cell_type": "code",
   "execution_count": 24,
   "metadata": {},
   "outputs": [],
   "source": [
    "com_name = []\n",
    "\n",
    "for i in driver.find_elements_by_xpath(\"//a[@class=' css-l2wjgv e1n63ojh0 jobLink']/span\"):\n",
    "    \n",
    "    com_name.append(i.text)"
   ]
  },
  {
   "cell_type": "code",
   "execution_count": 26,
   "metadata": {},
   "outputs": [],
   "source": [
    "com_name = com_name[:10]"
   ]
  },
  {
   "cell_type": "code",
   "execution_count": 27,
   "metadata": {},
   "outputs": [
    {
     "data": {
      "text/plain": [
       "['Bechtel',\n",
       " 'Ericsson',\n",
       " 'Lantern Digital Services',\n",
       " 'Boston Consulting Group',\n",
       " 'Priority Vendor',\n",
       " 'Sparkbpl',\n",
       " 'Mansha Solutions',\n",
       " 'Biz2Credit Inc',\n",
       " 'Gauge Data Solutions',\n",
       " 'xtLytics']"
      ]
     },
     "execution_count": 27,
     "metadata": {},
     "output_type": "execute_result"
    }
   ],
   "source": [
    "com_name"
   ]
  },
  {
   "cell_type": "code",
   "execution_count": 28,
   "metadata": {},
   "outputs": [],
   "source": [
    "com_days = []\n",
    "\n",
    "for i in driver.find_elements_by_xpath(\"//div[@class='d-flex align-items-end pl-std css-mi55ob']\"):\n",
    "    \n",
    "    com_days.append(i.text)"
   ]
  },
  {
   "cell_type": "code",
   "execution_count": 30,
   "metadata": {},
   "outputs": [],
   "source": [
    "com_days = com_days[:10]"
   ]
  },
  {
   "cell_type": "code",
   "execution_count": 31,
   "metadata": {},
   "outputs": [
    {
     "data": {
      "text/plain": [
       "['16d', '24h', '7d', '24h', '13d', '14d', '9d', '22d', '13d', '24h']"
      ]
     },
     "execution_count": 31,
     "metadata": {},
     "output_type": "execute_result"
    }
   ],
   "source": [
    "com_days"
   ]
  },
  {
   "cell_type": "code",
   "execution_count": 49,
   "metadata": {},
   "outputs": [],
   "source": [
    "com_rate = []\n",
    "\n",
    "for i in driver.find_elements_by_xpath(\"//span[@class='css-19pjha7 e1cjmv6j1']\"):\n",
    "    \n",
    "    com_rate.append(i.text)"
   ]
  },
  {
   "cell_type": "code",
   "execution_count": 51,
   "metadata": {},
   "outputs": [],
   "source": [
    "com_rate = com_rate[:10]"
   ]
  },
  {
   "cell_type": "code",
   "execution_count": 52,
   "metadata": {},
   "outputs": [
    {
     "data": {
      "text/plain": [
       "['4.0', '4.1', '4.1', '3.7', '3.8', '3.1', '5.0', '3.8', '4.1', '4.0']"
      ]
     },
     "execution_count": 52,
     "metadata": {},
     "output_type": "execute_result"
    }
   ],
   "source": [
    "com_rate"
   ]
  },
  {
   "cell_type": "code",
   "execution_count": 53,
   "metadata": {},
   "outputs": [],
   "source": [
    "df_jobsGD = pd.DataFrame({})\n",
    "df_jobsGD[\"Company Name\"] = com_name\n",
    "df_jobsGD[\"No of days ago when job was posted\"] = com_days\n",
    "df_jobsGD[\"Company Rating\"] = com_rate"
   ]
  },
  {
   "cell_type": "code",
   "execution_count": 55,
   "metadata": {},
   "outputs": [
    {
     "data": {
      "text/html": [
       "<div>\n",
       "<style scoped>\n",
       "    .dataframe tbody tr th:only-of-type {\n",
       "        vertical-align: middle;\n",
       "    }\n",
       "\n",
       "    .dataframe tbody tr th {\n",
       "        vertical-align: top;\n",
       "    }\n",
       "\n",
       "    .dataframe thead th {\n",
       "        text-align: right;\n",
       "    }\n",
       "</style>\n",
       "<table border=\"1\" class=\"dataframe\">\n",
       "  <thead>\n",
       "    <tr style=\"text-align: right;\">\n",
       "      <th></th>\n",
       "      <th>Company Name</th>\n",
       "      <th>No of days ago when job was posted</th>\n",
       "      <th>Company Rating</th>\n",
       "    </tr>\n",
       "  </thead>\n",
       "  <tbody>\n",
       "    <tr>\n",
       "      <th>0</th>\n",
       "      <td>Bechtel</td>\n",
       "      <td>16d</td>\n",
       "      <td>4.0</td>\n",
       "    </tr>\n",
       "    <tr>\n",
       "      <th>1</th>\n",
       "      <td>Ericsson</td>\n",
       "      <td>24h</td>\n",
       "      <td>4.1</td>\n",
       "    </tr>\n",
       "    <tr>\n",
       "      <th>2</th>\n",
       "      <td>Lantern Digital Services</td>\n",
       "      <td>7d</td>\n",
       "      <td>4.1</td>\n",
       "    </tr>\n",
       "    <tr>\n",
       "      <th>3</th>\n",
       "      <td>Boston Consulting Group</td>\n",
       "      <td>24h</td>\n",
       "      <td>3.7</td>\n",
       "    </tr>\n",
       "    <tr>\n",
       "      <th>4</th>\n",
       "      <td>Priority Vendor</td>\n",
       "      <td>13d</td>\n",
       "      <td>3.8</td>\n",
       "    </tr>\n",
       "  </tbody>\n",
       "</table>\n",
       "</div>"
      ],
      "text/plain": [
       "               Company Name No of days ago when job was posted Company Rating\n",
       "0                   Bechtel                                16d            4.0\n",
       "1                  Ericsson                                24h            4.1\n",
       "2  Lantern Digital Services                                 7d            4.1\n",
       "3   Boston Consulting Group                                24h            3.7\n",
       "4           Priority Vendor                                13d            3.8"
      ]
     },
     "execution_count": 55,
     "metadata": {},
     "output_type": "execute_result"
    }
   ],
   "source": [
    "df_jobsGD.head()"
   ]
  },
  {
   "cell_type": "markdown",
   "metadata": {},
   "source": [
    "#### Q5: Write a python program to scrape the salary data for Data Scientist designation in Noida location.\n",
    "You have to scrape Company name, Number of salaries, Average salary, Min salary, Max Salary.\n",
    "The above task will be, done as shown in the below steps:\n",
    "\n",
    "- 1. first get the webpage https://www.glassdoor.co.in/Salaries/index.htm\n",
    "\n",
    "- 2. Enter “Data Scientist” in Job title field and “Noida” in location field.\n",
    "\n",
    "- 3. Click the search button.\n",
    "\n",
    "- 4. After that you will land on the below page\n",
    "\n",
    "- 5. Scrape data for first 10 companies. Scrape the min salary, max salary, company name, Average salary and rating of the company.\n",
    "\n",
    "- 6.Store the data in a dataframe."
   ]
  },
  {
   "cell_type": "code",
   "execution_count": 66,
   "metadata": {},
   "outputs": [],
   "source": [
    "url = \"https://www.glassdoor.co.in/Salaries/index.htm\"\n",
    "driver.get(url)"
   ]
  },
  {
   "cell_type": "code",
   "execution_count": 67,
   "metadata": {},
   "outputs": [],
   "source": [
    "name = driver.find_element_by_xpath(\"//input[@id='KeywordSearch']\")"
   ]
  },
  {
   "cell_type": "code",
   "execution_count": 68,
   "metadata": {},
   "outputs": [],
   "source": [
    "name.send_keys(\"Data Scientist\")"
   ]
  },
  {
   "cell_type": "code",
   "execution_count": 69,
   "metadata": {},
   "outputs": [],
   "source": [
    "loc = driver.find_element_by_xpath(\"//input[@id='LocationSearch']\")"
   ]
  },
  {
   "cell_type": "code",
   "execution_count": 70,
   "metadata": {},
   "outputs": [],
   "source": [
    "loc.send_keys(\"Noida\")"
   ]
  },
  {
   "cell_type": "code",
   "execution_count": 71,
   "metadata": {},
   "outputs": [],
   "source": [
    "search = driver.find_element_by_xpath(\"//button[@id='HeroSearchButton']\")"
   ]
  },
  {
   "cell_type": "code",
   "execution_count": 72,
   "metadata": {},
   "outputs": [],
   "source": [
    "search.click()"
   ]
  },
  {
   "cell_type": "raw",
   "metadata": {},
   "source": [
    "Scrape data for first 10 companies. Scrape the min salary, max salary, company name, Average salary and rating of the company"
   ]
  },
  {
   "cell_type": "code",
   "execution_count": 73,
   "metadata": {},
   "outputs": [],
   "source": [
    "company_name = []\n",
    "\n",
    "for i in driver.find_elements_by_xpath(\"//p[@class='m-0 ']\"):\n",
    "    \n",
    "    company_name.append(i.text)"
   ]
  },
  {
   "cell_type": "code",
   "execution_count": 75,
   "metadata": {},
   "outputs": [],
   "source": [
    "company_name =company_name[:10]"
   ]
  },
  {
   "cell_type": "code",
   "execution_count": 76,
   "metadata": {},
   "outputs": [
    {
     "data": {
      "text/plain": [
       "['Tata Consultancy Services',\n",
       " 'Accenture',\n",
       " 'IBM',\n",
       " 'Ericsson-Worldwide',\n",
       " 'Delhivery',\n",
       " 'UnitedHealth Group',\n",
       " 'Valiance Solutions',\n",
       " 'ZS Associates',\n",
       " 'EXL Service',\n",
       " 'Optum Global Solutions']"
      ]
     },
     "execution_count": 76,
     "metadata": {},
     "output_type": "execute_result"
    }
   ],
   "source": [
    "company_name"
   ]
  },
  {
   "cell_type": "code",
   "execution_count": 77,
   "metadata": {},
   "outputs": [],
   "source": [
    "minimum_salary = []\n",
    "\n",
    "for i in driver.find_elements_by_xpath(\"//div[@class='common__RangeBarStyle__values d-flex justify-content-between ']//span[1]\"):\n",
    "    \n",
    "    minimum_salary.append(i.text)"
   ]
  },
  {
   "cell_type": "code",
   "execution_count": 79,
   "metadata": {},
   "outputs": [],
   "source": [
    "minimum_salary = minimum_salary[:10]"
   ]
  },
  {
   "cell_type": "code",
   "execution_count": 80,
   "metadata": {},
   "outputs": [
    {
     "data": {
      "text/plain": [
       "['₹343K',\n",
       " '₹577K',\n",
       " '₹586K',\n",
       " '₹355K',\n",
       " '₹450K',\n",
       " '₹1,069K',\n",
       " '₹502K',\n",
       " '₹202K',\n",
       " '₹575K',\n",
       " '₹1,014K']"
      ]
     },
     "execution_count": 80,
     "metadata": {},
     "output_type": "execute_result"
    }
   ],
   "source": [
    "minimum_salary"
   ]
  },
  {
   "cell_type": "code",
   "execution_count": 81,
   "metadata": {},
   "outputs": [],
   "source": [
    "max_salary = []\n",
    "\n",
    "for i in driver.find_elements_by_xpath(\"//div[@class='common__RangeBarStyle__values d-flex justify-content-between ']//span[2]\"):\n",
    "    \n",
    "    max_salary.append(i.text)"
   ]
  },
  {
   "cell_type": "code",
   "execution_count": 83,
   "metadata": {},
   "outputs": [],
   "source": [
    "max_salary =max_salary[:10]"
   ]
  },
  {
   "cell_type": "code",
   "execution_count": 84,
   "metadata": {},
   "outputs": [
    {
     "data": {
      "text/plain": [
       "['₹1,095K',\n",
       " '₹2,213K',\n",
       " '₹2,730K',\n",
       " '₹1,613K',\n",
       " '₹11,622K',\n",
       " '₹1,520K',\n",
       " '₹1,465K',\n",
       " '₹1,809K',\n",
       " '₹1,520K',\n",
       " '₹2,149K']"
      ]
     },
     "execution_count": 84,
     "metadata": {},
     "output_type": "execute_result"
    }
   ],
   "source": [
    "max_salary"
   ]
  },
  {
   "cell_type": "code",
   "execution_count": 85,
   "metadata": {},
   "outputs": [],
   "source": [
    "Avg_salary = []\n",
    "\n",
    "for i in driver.find_elements_by_xpath(\"//div[@class='col-2 d-none d-md-flex flex-row justify-content-end']//strong\"):\n",
    "    \n",
    "    Avg_salary.append(i.text)"
   ]
  },
  {
   "cell_type": "code",
   "execution_count": 87,
   "metadata": {},
   "outputs": [],
   "source": [
    "Avg_salary = Avg_salary[:10]"
   ]
  },
  {
   "cell_type": "code",
   "execution_count": 88,
   "metadata": {},
   "outputs": [
    {
     "data": {
      "text/plain": [
       "['₹ 6,11,228',\n",
       " '₹ 11,46,533',\n",
       " '₹ 8,97,795',\n",
       " '₹ 7,38,057',\n",
       " '₹ 12,39,781',\n",
       " '₹ 13,36,142',\n",
       " '₹ 8,15,192',\n",
       " '₹ 11,35,221',\n",
       " '₹ 11,44,243',\n",
       " '₹ 14,13,288']"
      ]
     },
     "execution_count": 88,
     "metadata": {},
     "output_type": "execute_result"
    }
   ],
   "source": [
    "Avg_salary"
   ]
  },
  {
   "cell_type": "code",
   "execution_count": 89,
   "metadata": {},
   "outputs": [],
   "source": [
    "df_jobsGD_2 = pd.DataFrame({})\n",
    "df_jobsGD_2[\"Company Name\"] = company_name\n",
    "df_jobsGD_2[\"Minimum Salary\"] = minimum_salary\n",
    "df_jobsGD_2[\"Maximum Salary\"] = max_salary\n",
    "df_jobsGD_2[\"Average Salary\"] = Avg_salary"
   ]
  },
  {
   "cell_type": "code",
   "execution_count": 90,
   "metadata": {},
   "outputs": [
    {
     "data": {
      "text/html": [
       "<div>\n",
       "<style scoped>\n",
       "    .dataframe tbody tr th:only-of-type {\n",
       "        vertical-align: middle;\n",
       "    }\n",
       "\n",
       "    .dataframe tbody tr th {\n",
       "        vertical-align: top;\n",
       "    }\n",
       "\n",
       "    .dataframe thead th {\n",
       "        text-align: right;\n",
       "    }\n",
       "</style>\n",
       "<table border=\"1\" class=\"dataframe\">\n",
       "  <thead>\n",
       "    <tr style=\"text-align: right;\">\n",
       "      <th></th>\n",
       "      <th>Company Name</th>\n",
       "      <th>Minimum Salary</th>\n",
       "      <th>Maximum Salary</th>\n",
       "      <th>Average Salary</th>\n",
       "    </tr>\n",
       "  </thead>\n",
       "  <tbody>\n",
       "    <tr>\n",
       "      <th>0</th>\n",
       "      <td>Tata Consultancy Services</td>\n",
       "      <td>₹343K</td>\n",
       "      <td>₹1,095K</td>\n",
       "      <td>₹ 6,11,228</td>\n",
       "    </tr>\n",
       "    <tr>\n",
       "      <th>1</th>\n",
       "      <td>Accenture</td>\n",
       "      <td>₹577K</td>\n",
       "      <td>₹2,213K</td>\n",
       "      <td>₹ 11,46,533</td>\n",
       "    </tr>\n",
       "    <tr>\n",
       "      <th>2</th>\n",
       "      <td>IBM</td>\n",
       "      <td>₹586K</td>\n",
       "      <td>₹2,730K</td>\n",
       "      <td>₹ 8,97,795</td>\n",
       "    </tr>\n",
       "    <tr>\n",
       "      <th>3</th>\n",
       "      <td>Ericsson-Worldwide</td>\n",
       "      <td>₹355K</td>\n",
       "      <td>₹1,613K</td>\n",
       "      <td>₹ 7,38,057</td>\n",
       "    </tr>\n",
       "    <tr>\n",
       "      <th>4</th>\n",
       "      <td>Delhivery</td>\n",
       "      <td>₹450K</td>\n",
       "      <td>₹11,622K</td>\n",
       "      <td>₹ 12,39,781</td>\n",
       "    </tr>\n",
       "  </tbody>\n",
       "</table>\n",
       "</div>"
      ],
      "text/plain": [
       "                Company Name Minimum Salary Maximum Salary Average Salary\n",
       "0  Tata Consultancy Services          ₹343K        ₹1,095K     ₹ 6,11,228\n",
       "1                  Accenture          ₹577K        ₹2,213K    ₹ 11,46,533\n",
       "2                        IBM          ₹586K        ₹2,730K     ₹ 8,97,795\n",
       "3         Ericsson-Worldwide          ₹355K        ₹1,613K     ₹ 7,38,057\n",
       "4                  Delhivery          ₹450K       ₹11,622K    ₹ 12,39,781"
      ]
     },
     "execution_count": 90,
     "metadata": {},
     "output_type": "execute_result"
    }
   ],
   "source": [
    "df_jobsGD_2.head()"
   ]
  },
  {
   "cell_type": "markdown",
   "metadata": {},
   "source": [
    "#### Q6 : Scrape data of first 100 sunglasses listings on flipkart.com. You have to scrape four attributes:\n",
    "- 1. Brand\n",
    "- 2. Product Description\n",
    "- 3. Price\n",
    "- 4. Discount %"
   ]
  },
  {
   "cell_type": "code",
   "execution_count": 124,
   "metadata": {},
   "outputs": [],
   "source": [
    "url = \"https://www.flipkart.com/\"\n",
    "driver.get(url)"
   ]
  },
  {
   "cell_type": "code",
   "execution_count": 125,
   "metadata": {},
   "outputs": [],
   "source": [
    "search_query = driver.find_element_by_xpath(\"//div[@class='_3OO5Xc']/input\") "
   ]
  },
  {
   "cell_type": "code",
   "execution_count": 126,
   "metadata": {},
   "outputs": [],
   "source": [
    "search_query.send_keys(\"sunglasses\")"
   ]
  },
  {
   "cell_type": "code",
   "execution_count": 127,
   "metadata": {},
   "outputs": [],
   "source": [
    "search = driver.find_element_by_css_selector(\"#container > div > div._1kfTjk > div._1rH5Jn > div._2Xfa2_ > div._1cmsER > form > div > button\")"
   ]
  },
  {
   "cell_type": "code",
   "execution_count": 128,
   "metadata": {},
   "outputs": [],
   "source": [
    "search.click()"
   ]
  },
  {
   "cell_type": "code",
   "execution_count": 129,
   "metadata": {},
   "outputs": [],
   "source": [
    "#//div[@class='_2WkVRV']"
   ]
  },
  {
   "cell_type": "code",
   "execution_count": 130,
   "metadata": {},
   "outputs": [],
   "source": [
    "base_url = \"https://www.flipkart.com/search?q=sunglasses&otracker=search&otracker1=search&marketplace=FLIPKART&as-show=on&as=off&page={}\""
   ]
  },
  {
   "cell_type": "code",
   "execution_count": 131,
   "metadata": {},
   "outputs": [],
   "source": [
    "brands = []\n",
    "\n",
    "for n in range(1,10):\n",
    "    \n",
    "    base_url = \"https://www.flipkart.com/search?q=sunglasses&otracker=search&otracker1=search&marketplace=FLIPKART&as-show=on&as=off&page={}\"\n",
    "\n",
    "    driver.get(base_url.format(n))\n",
    "    \n",
    "    for brand in driver.find_elements_by_xpath(\"//div[@class='_2WkVRV']\"):\n",
    "        \n",
    "        brands.append(brand.text)"
   ]
  },
  {
   "cell_type": "code",
   "execution_count": 132,
   "metadata": {},
   "outputs": [],
   "source": [
    "brands = brands[:100]"
   ]
  },
  {
   "cell_type": "code",
   "execution_count": 133,
   "metadata": {},
   "outputs": [
    {
     "data": {
      "text/plain": [
       "['SUNBEE',\n",
       " 'NuVew',\n",
       " 'Fastrack',\n",
       " 'ROZZETTA CRAFT',\n",
       " 'Fastrack',\n",
       " 'PHENOMENAL',\n",
       " 'PIRASO',\n",
       " 'ROZZETTA CRAFT',\n",
       " 'DEIXELS',\n",
       " 'Fastrack',\n",
       " 'Fastrack',\n",
       " 'Fastrack',\n",
       " 'HIPPON',\n",
       " 'NuVew',\n",
       " 'Fastrack',\n",
       " 'NuVew',\n",
       " 'Singco India',\n",
       " 'DEIXELS',\n",
       " 'Singco India',\n",
       " 'ROYAL SON',\n",
       " 'Fastrack',\n",
       " 'ROZZETTA CRAFT',\n",
       " 'ROZZETTA CRAFT',\n",
       " 'IZAAN MART',\n",
       " 'PHENOMENAL',\n",
       " 'Fastrack',\n",
       " 'GANSTA',\n",
       " 'ROZZETTA CRAFT',\n",
       " 'PHENOMENAL',\n",
       " 'NuVew',\n",
       " 'ROZZETTA CRAFT',\n",
       " 'ROZZETTA CRAFT',\n",
       " 'Ray-Ban',\n",
       " 'NuVew',\n",
       " 'ROYAL SON',\n",
       " 'hipe',\n",
       " 'Fastrack',\n",
       " 'elegante',\n",
       " 'GANSTA',\n",
       " 'VAST',\n",
       " 'Fastrack',\n",
       " 'Singco India',\n",
       " 'ROYAL SON',\n",
       " 'NuVew',\n",
       " 'hipe',\n",
       " 'Flizz',\n",
       " 'AISLIN',\n",
       " 'hipe',\n",
       " 'GANSTA',\n",
       " 'NuVew',\n",
       " 'ROYAL SON',\n",
       " 'hipe',\n",
       " 'Fastrack',\n",
       " 'IZAAN MART',\n",
       " 'Singco India',\n",
       " 'hipe',\n",
       " 'ROZZETTA CRAFT',\n",
       " 'ROZZETTA CRAFT',\n",
       " 'Fastrack',\n",
       " 'bulgaria',\n",
       " 'GANSTA',\n",
       " 'Fastrack',\n",
       " 'ROYAL SON',\n",
       " 'ROYAL SON',\n",
       " 'DEIXELS',\n",
       " 'Fastrack',\n",
       " 'GANSTA',\n",
       " 'PHENOMENAL',\n",
       " 'Fastrack',\n",
       " 'NuVew',\n",
       " 'PHENOMENAL',\n",
       " 'GANSTA',\n",
       " 'Fastrack',\n",
       " 'NuVew',\n",
       " 'GANSTA',\n",
       " 'Crackers',\n",
       " 'PHENOMENAL',\n",
       " 'ROYAL SON',\n",
       " 'Fastrack',\n",
       " 'Villain',\n",
       " 'elegante',\n",
       " 'AISLIN',\n",
       " 'Silver Kartz',\n",
       " 'NuVew',\n",
       " 'hipe',\n",
       " 'AISLIN',\n",
       " 'Badfella',\n",
       " 'AISLIN',\n",
       " 'Singco India',\n",
       " 'NuVew',\n",
       " 'ROYAL SON',\n",
       " 'GANSTA',\n",
       " 'Fravy',\n",
       " 'IZAAN MART',\n",
       " 'elegante',\n",
       " 'Fastrack',\n",
       " 'hipe',\n",
       " 'ROZZETTA CRAFT',\n",
       " 'ROYAL SON',\n",
       " 'bulgaria']"
      ]
     },
     "execution_count": 133,
     "metadata": {},
     "output_type": "execute_result"
    }
   ],
   "source": [
    "brands"
   ]
  },
  {
   "cell_type": "code",
   "execution_count": 134,
   "metadata": {},
   "outputs": [],
   "source": [
    "#//div[@class='_30jeq3']"
   ]
  },
  {
   "cell_type": "code",
   "execution_count": 135,
   "metadata": {},
   "outputs": [],
   "source": [
    "prices = []\n",
    "\n",
    "for n in range(1,10):\n",
    "    \n",
    "    base_url = \"https://www.flipkart.com/search?q=sunglasses&otracker=search&otracker1=search&marketplace=FLIPKART&as-show=on&as=off&page={}\"\n",
    "\n",
    "    driver.get(base_url.format(n))\n",
    "    \n",
    "    for price in driver.find_elements_by_xpath(\"//div[@class='_30jeq3']\"):\n",
    "        \n",
    "        prices.append(price.text)"
   ]
  },
  {
   "cell_type": "code",
   "execution_count": 136,
   "metadata": {},
   "outputs": [],
   "source": [
    "prices = prices[:100]"
   ]
  },
  {
   "cell_type": "code",
   "execution_count": 137,
   "metadata": {},
   "outputs": [
    {
     "data": {
      "text/plain": [
       "['₹371',\n",
       " '₹308',\n",
       " '₹630',\n",
       " '₹499',\n",
       " '₹758',\n",
       " '₹399',\n",
       " '₹349',\n",
       " '₹404',\n",
       " '₹213',\n",
       " '₹733',\n",
       " '₹674',\n",
       " '₹621',\n",
       " '₹251',\n",
       " '₹553',\n",
       " '₹837',\n",
       " '₹215',\n",
       " '₹249',\n",
       " '₹209',\n",
       " '₹339',\n",
       " '₹664',\n",
       " '₹1,123',\n",
       " '₹499',\n",
       " '₹449',\n",
       " '₹342',\n",
       " '₹399',\n",
       " '₹1,085',\n",
       " '₹281',\n",
       " '₹449',\n",
       " '₹399',\n",
       " '₹403',\n",
       " '₹499',\n",
       " '₹499',\n",
       " '₹3,019',\n",
       " '₹349',\n",
       " '₹265',\n",
       " '₹219',\n",
       " '₹638',\n",
       " '₹499',\n",
       " '₹260',\n",
       " '₹779',\n",
       " '₹759',\n",
       " '₹209',\n",
       " '₹217',\n",
       " '₹371',\n",
       " '₹319',\n",
       " '₹399',\n",
       " '₹470',\n",
       " '₹219',\n",
       " '₹359',\n",
       " '₹308',\n",
       " '₹711',\n",
       " '₹210',\n",
       " '₹777',\n",
       " '₹553',\n",
       " '₹205',\n",
       " '₹199',\n",
       " '₹449',\n",
       " '₹399',\n",
       " '₹1,115',\n",
       " '₹664',\n",
       " '₹199',\n",
       " '₹758',\n",
       " '₹1,234',\n",
       " '₹342',\n",
       " '₹249',\n",
       " '₹627',\n",
       " '₹207',\n",
       " '₹399',\n",
       " '₹559',\n",
       " '₹403',\n",
       " '₹319',\n",
       " '₹281',\n",
       " '₹1,148',\n",
       " '₹599',\n",
       " '₹292',\n",
       " '₹189',\n",
       " '₹399',\n",
       " '₹399',\n",
       " '₹761',\n",
       " '₹349',\n",
       " '₹199',\n",
       " '₹480',\n",
       " '₹265',\n",
       " '₹371',\n",
       " '₹219',\n",
       " '₹756',\n",
       " '₹269',\n",
       " '₹493',\n",
       " '₹239',\n",
       " '₹308',\n",
       " '₹499',\n",
       " '₹207',\n",
       " '₹289',\n",
       " '₹553',\n",
       " '₹449',\n",
       " '₹777',\n",
       " '₹210',\n",
       " '₹499',\n",
       " '₹399',\n",
       " '₹449']"
      ]
     },
     "execution_count": 137,
     "metadata": {},
     "output_type": "execute_result"
    }
   ],
   "source": [
    "prices"
   ]
  },
  {
   "cell_type": "code",
   "execution_count": 138,
   "metadata": {},
   "outputs": [],
   "source": [
    "discounts = []\n",
    "\n",
    "for n in range(1,10):\n",
    "    \n",
    "    base_url = \"https://www.flipkart.com/search?q=sunglasses&otracker=search&otracker1=search&marketplace=FLIPKART&as-show=on&as=off&page={}\"\n",
    "\n",
    "    driver.get(base_url.format(n))\n",
    "    \n",
    "    for discount in driver.find_elements_by_xpath(\"//div[@class='_3Ay6Sb']/span\"):\n",
    "        \n",
    "        discounts.append(discount.text)"
   ]
  },
  {
   "cell_type": "code",
   "execution_count": 139,
   "metadata": {},
   "outputs": [],
   "source": [
    "discounts = discounts[:100]"
   ]
  },
  {
   "cell_type": "code",
   "execution_count": 140,
   "metadata": {},
   "outputs": [
    {
     "data": {
      "text/plain": [
       "['75% off',\n",
       " '70% off',\n",
       " '21% off',\n",
       " '77% off',\n",
       " '15% off',\n",
       " '80% off',\n",
       " '78% off',\n",
       " '79% off',\n",
       " '82% off',\n",
       " '18% off',\n",
       " '25% off',\n",
       " '22% off',\n",
       " '79% off',\n",
       " '55% off',\n",
       " '6% off',\n",
       " '72% off',\n",
       " '83% off',\n",
       " '73% off',\n",
       " '71% off',\n",
       " '66% off',\n",
       " '13% off',\n",
       " '77% off',\n",
       " '79% off',\n",
       " '73% off',\n",
       " '80% off',\n",
       " '16% off',\n",
       " '85% off',\n",
       " '77% off',\n",
       " '80% off',\n",
       " '77% off',\n",
       " '77% off',\n",
       " '80% off',\n",
       " '45% off',\n",
       " '72% off',\n",
       " '79% off',\n",
       " '86% off',\n",
       " '20% off',\n",
       " '66% off',\n",
       " '86% off',\n",
       " '74% off',\n",
       " '15% off',\n",
       " '70% off',\n",
       " '78% off',\n",
       " '75% off',\n",
       " '83% off',\n",
       " '81% off',\n",
       " '69% off',\n",
       " '78% off',\n",
       " '82% off',\n",
       " '70% off',\n",
       " '64% off',\n",
       " '85% off',\n",
       " '22% off',\n",
       " '73% off',\n",
       " '79% off',\n",
       " '80% off',\n",
       " '77% off',\n",
       " '72% off',\n",
       " '14% off',\n",
       " '55% off',\n",
       " '80% off',\n",
       " '15% off',\n",
       " '50% off',\n",
       " '66% off',\n",
       " '58% off',\n",
       " '21% off',\n",
       " '88% off',\n",
       " '80% off',\n",
       " '30% off',\n",
       " '77% off',\n",
       " '84% off',\n",
       " '85% off',\n",
       " '11% off',\n",
       " '72% off',\n",
       " '85% off',\n",
       " '81% off',\n",
       " '80% off',\n",
       " '73% off',\n",
       " '15% off',\n",
       " '20% off',\n",
       " '80% off',\n",
       " '68% off',\n",
       " '77% off',\n",
       " '75% off',\n",
       " '83% off',\n",
       " '69% off',\n",
       " '73% off',\n",
       " '67% off',\n",
       " '84% off',\n",
       " '70% off',\n",
       " '61% off',\n",
       " '80% off',\n",
       " '80% off',\n",
       " '73% off',\n",
       " '70% off',\n",
       " '22% off',\n",
       " '83% off',\n",
       " '75% off',\n",
       " '73% off',\n",
       " '55% off']"
      ]
     },
     "execution_count": 140,
     "metadata": {},
     "output_type": "execute_result"
    }
   ],
   "source": [
    "discounts"
   ]
  },
  {
   "cell_type": "code",
   "execution_count": 141,
   "metadata": {},
   "outputs": [],
   "source": [
    "urls = []\n",
    "\n",
    "for n in range(1,10):\n",
    "    \n",
    "    base_url = \"https://www.flipkart.com/search?q=sunglasses&otracker=search&otracker1=search&marketplace=FLIPKART&as-show=on&as=off&page={}\"\n",
    "\n",
    "    driver.get(base_url.format(n))\n",
    "    \n",
    "    for url in driver.find_elements_by_xpath(\"//a[@class='IRpwTa']\"):\n",
    "        \n",
    "        urls.append(url.get_attribute(\"href\"))"
   ]
  },
  {
   "cell_type": "code",
   "execution_count": 143,
   "metadata": {},
   "outputs": [],
   "source": [
    "urls = urls[:100]"
   ]
  },
  {
   "cell_type": "code",
   "execution_count": 144,
   "metadata": {},
   "outputs": [
    {
     "data": {
      "text/plain": [
       "['https://www.flipkart.com/nuvew-cat-eye-sunglasses/p/itm373fb9321647b?pid=SGLFPMSEN2RP6J6H&lid=LSTSGLFPMSEN2RP6J6HGRJBEW&marketplace=FLIPKART&q=sunglasses&store=26x&srno=s_1_1&otracker=search&otracker1=search&fm=organic&iid=en_gg%2FkjS4lRuVQztiYa0oac3KnHkhvTLpbPHSN802Y9A%2FWkY8yxqv3OjGrAwmDUCjBB4p%2B73%2Fz4%2BTEh3ORykZTkg%3D%3D&ppt=None&ppn=None&ssid=k64mum0h6o0000001621490832838&qH=2cc465e3eef5bff0',\n",
       " 'https://www.flipkart.com/nuvew-retro-square-wayfarer-sunglasses/p/itmf5992a6a9583b?pid=SGLFPHRNYGAXEGGD&lid=LSTSGLFPHRNYGAXEGGDLDURT2&marketplace=FLIPKART&q=sunglasses&store=26x&srno=s_1_2&otracker=search&otracker1=search&fm=organic&iid=en_gg%2FkjS4lRuVQztiYa0oac3KnHkhvTLpbPHSN802Y9A%2FsDS%2BT5OqcsUNZABbDMZRGxElapOeCBIN8NBxvzSbxXg%3D%3D&ppt=None&ppn=None&ssid=k64mum0h6o0000001621490832838&qH=2cc465e3eef5bff0',\n",
       " 'https://www.flipkart.com/fastrack-rectangular-sunglasses/p/itmf3yhd8wephwxh?pid=SGLES2WMF6CH5GYF&lid=LSTSGLES2WMF6CH5GYFXRVSZN&marketplace=FLIPKART&q=sunglasses&store=26x&srno=s_1_3&otracker=search&otracker1=search&fm=organic&iid=ac8713de-b255-4da5-974c-1a10f9a6542d.SGLES2WMF6CH5GYF.SEARCH&ppt=None&ppn=None&ssid=k64mum0h6o0000001621490832838&qH=2cc465e3eef5bff0',\n",
       " 'https://www.flipkart.com/rozzetta-craft-retro-square-sunglasses/p/itmf248ba5b3a895?pid=SGLFZFZNAQNZHYB7&lid=LSTSGLFZFZNAQNZHYB7GZ3YO5&marketplace=FLIPKART&q=sunglasses&store=26x&srno=s_1_4&otracker=search&otracker1=search&fm=organic&iid=ac8713de-b255-4da5-974c-1a10f9a6542d.SGLFZFZNAQNZHYB7.SEARCH&ppt=None&ppn=None&ssid=k64mum0h6o0000001621490832838&qH=2cc465e3eef5bff0',\n",
       " 'https://www.flipkart.com/fastrack-wayfarer-sunglasses/p/itmf79dqjqucq9f3?pid=SGLF79DQR8NQAT2W&lid=LSTSGLF79DQR8NQAT2W0MLSHN&marketplace=FLIPKART&q=sunglasses&store=26x&spotlightTagId=BestsellerId_26x&srno=s_1_5&otracker=search&otracker1=search&fm=organic&iid=ac8713de-b255-4da5-974c-1a10f9a6542d.SGLF79DQR8NQAT2W.SEARCH&ppt=None&ppn=None&ssid=k64mum0h6o0000001621490832838&qH=2cc465e3eef5bff0',\n",
       " 'https://www.flipkart.com/phenomenal-retro-square-sunglasses/p/itm05605e75ed801?pid=SGLFUXYAXFHYQAK4&lid=LSTSGLFUXYAXFHYQAK4VF4MKG&marketplace=FLIPKART&q=sunglasses&store=26x&srno=s_1_6&otracker=search&otracker1=search&fm=organic&iid=ac8713de-b255-4da5-974c-1a10f9a6542d.SGLFUXYAXFHYQAK4.SEARCH&ppt=None&ppn=None&ssid=k64mum0h6o0000001621490832838&qH=2cc465e3eef5bff0',\n",
       " 'https://www.flipkart.com/piraso-aviator-sunglasses/p/itme10cb1c3329df?pid=SGLFZGE6GMSXZGRP&lid=LSTSGLFZGE6GMSXZGRPN2FYWJ&marketplace=FLIPKART&q=sunglasses&store=26x&srno=s_1_7&otracker=search&otracker1=search&fm=organic&iid=ac8713de-b255-4da5-974c-1a10f9a6542d.SGLFZGE6GMSXZGRP.SEARCH&ppt=None&ppn=None&ssid=k64mum0h6o0000001621490832838&qH=2cc465e3eef5bff0',\n",
       " 'https://www.flipkart.com/rozzetta-craft-rectangular-sunglasses/p/itmc07cb7e8aec50?pid=SGLFSZV6PXGZGZGX&lid=LSTSGLFSZV6PXGZGZGXNWELSX&marketplace=FLIPKART&q=sunglasses&store=26x&srno=s_1_8&otracker=search&otracker1=search&fm=organic&iid=ac8713de-b255-4da5-974c-1a10f9a6542d.SGLFSZV6PXGZGZGX.SEARCH&ppt=None&ppn=None&ssid=k64mum0h6o0000001621490832838&qH=2cc465e3eef5bff0',\n",
       " 'https://www.flipkart.com/deixels-aviator-wayfarer-sunglasses/p/itmf3yke7n2axuym?pid=SGLF2YZXCDM6QACV&lid=LSTSGLF2YZXCDM6QACV8HRV24&marketplace=FLIPKART&q=sunglasses&store=26x&srno=s_1_9&otracker=search&otracker1=search&fm=organic&iid=ac8713de-b255-4da5-974c-1a10f9a6542d.SGLF2YZXCDM6QACV.SEARCH&ppt=None&ppn=None&ssid=k64mum0h6o0000001621490832838&qH=2cc465e3eef5bff0',\n",
       " 'https://www.flipkart.com/fastrack-wayfarer-sunglasses/p/itmf79dqccyjbdez?pid=SGLF79DQNHPY9N6U&lid=LSTSGLF79DQNHPY9N6UHBMJVE&marketplace=FLIPKART&q=sunglasses&store=26x&srno=s_1_10&otracker=search&otracker1=search&fm=organic&iid=ac8713de-b255-4da5-974c-1a10f9a6542d.SGLF79DQNHPY9N6U.SEARCH&ppt=None&ppn=None&ssid=k64mum0h6o0000001621490832838&qH=2cc465e3eef5bff0',\n",
       " 'https://www.flipkart.com/fastrack-aviator-sunglasses/p/itmf79dqewt9sf6d?pid=SGLF79DQGP7E4G2P&lid=LSTSGLF79DQGP7E4G2PYP2PGG&marketplace=FLIPKART&q=sunglasses&store=26x&srno=s_1_11&otracker=search&otracker1=search&fm=organic&iid=ac8713de-b255-4da5-974c-1a10f9a6542d.SGLF79DQGP7E4G2P.SEARCH&ppt=None&ppn=None&ssid=k64mum0h6o0000001621490832838&qH=2cc465e3eef5bff0',\n",
       " 'https://www.flipkart.com/fastrack-wayfarer-sunglasses/p/itm04d9621b98c78?pid=SGLFG94C8PAHZ3SH&lid=LSTSGLFG94C8PAHZ3SHAFCJXO&marketplace=FLIPKART&q=sunglasses&store=26x&srno=s_1_12&otracker=search&otracker1=search&fm=organic&iid=ac8713de-b255-4da5-974c-1a10f9a6542d.SGLFG94C8PAHZ3SH.SEARCH&ppt=None&ppn=None&ssid=k64mum0h6o0000001621490832838&qH=2cc465e3eef5bff0',\n",
       " 'https://www.flipkart.com/hippon-wayfarer-sunglasses/p/itm05550ccebbf7b?pid=SGLFHPMMVHHGWKNG&lid=LSTSGLFHPMMVHHGWKNG1S9QVG&marketplace=FLIPKART&q=sunglasses&store=26x&srno=s_1_13&otracker=search&otracker1=search&fm=organic&iid=ac8713de-b255-4da5-974c-1a10f9a6542d.SGLFHPMMVHHGWKNG.SEARCH&ppt=None&ppn=None&ssid=k64mum0h6o0000001621490832838&qH=2cc465e3eef5bff0',\n",
       " 'https://www.flipkart.com/fastrack-wayfarer-sunglasses/p/itmf79dqhfca7q8t?pid=SGLF79DQWCWEFUNR&lid=LSTSGLF79DQWCWEFUNRB9EV8J&marketplace=FLIPKART&q=sunglasses&store=26x&srno=s_1_15&otracker=search&otracker1=search&fm=organic&iid=ac8713de-b255-4da5-974c-1a10f9a6542d.SGLF79DQWCWEFUNR.SEARCH&ppt=None&ppn=None&ssid=k64mum0h6o0000001621490832838&qH=2cc465e3eef5bff0',\n",
       " 'https://www.flipkart.com/nuvew-aviator-sunglasses/p/itm1b5c5bd8eee84?pid=SGLFKJW39ZRP8MYU&lid=LSTSGLFKJW39ZRP8MYUANUM4Q&marketplace=FLIPKART&q=sunglasses&store=26x&srno=s_1_16&otracker=search&otracker1=search&fm=organic&iid=ac8713de-b255-4da5-974c-1a10f9a6542d.SGLFKJW39ZRP8MYU.SEARCH&ppt=None&ppn=None&ssid=k64mum0h6o0000001621490832838&qH=2cc465e3eef5bff0',\n",
       " 'https://www.flipkart.com/singco-india-sports-sunglasses/p/itmb6d550eb0932b?pid=SGLFVYKGREY28QVK&lid=LSTSGLFVYKGREY28QVKRAX3RH&marketplace=FLIPKART&q=sunglasses&store=26x&srno=s_1_17&otracker=search&otracker1=search&fm=organic&iid=ac8713de-b255-4da5-974c-1a10f9a6542d.SGLFVYKGREY28QVK.SEARCH&ppt=None&ppn=None&ssid=k64mum0h6o0000001621490832838&qH=2cc465e3eef5bff0',\n",
       " 'https://www.flipkart.com/deixels-round-sunglasses/p/itmdd33fa786bc09?pid=SGLFJ7F7F2F94QZK&lid=LSTSGLFJ7F7F2F94QZKQH7WX5&marketplace=FLIPKART&q=sunglasses&store=26x&srno=s_1_18&otracker=search&otracker1=search&fm=organic&iid=ac8713de-b255-4da5-974c-1a10f9a6542d.SGLFJ7F7F2F94QZK.SEARCH&ppt=None&ppn=None&ssid=k64mum0h6o0000001621490832838&qH=2cc465e3eef5bff0',\n",
       " 'https://www.flipkart.com/singco-india-aviator-sunglasses/p/itm2bc818fcd5d29?pid=SGLFH5ZGZGPZJ5DP&lid=LSTSGLFH5ZGZGPZJ5DPAYBD27&marketplace=FLIPKART&q=sunglasses&store=26x&srno=s_1_19&otracker=search&otracker1=search&fm=organic&iid=ac8713de-b255-4da5-974c-1a10f9a6542d.SGLFH5ZGZGPZJ5DP.SEARCH&ppt=None&ppn=None&ssid=k64mum0h6o0000001621490832838&qH=2cc465e3eef5bff0',\n",
       " 'https://www.flipkart.com/bulgaria-rectangular-sunglasses/p/itm5c0272bdbdb09?pid=SGLFUCZN9XWHU2M5&lid=LSTSGLFUCZN9XWHU2M5GBSZZO&marketplace=FLIPKART&q=sunglasses&store=26x&srno=s_1_20&otracker=search&otracker1=search&fm=organic&iid=en_gg%2FkjS4lRuVQztiYa0oac3KnHkhvTLpbPHSN802Y9A8kzReoQVzfA40WNnBJfXOf86SSgZ5BvxCjB5%2FddcOkAA%3D%3D&ppt=None&ppn=None&ssid=k64mum0h6o0000001621490832838&qH=2cc465e3eef5bff0',\n",
       " 'https://www.flipkart.com/fastrack-aviator-sunglasses/p/itm3d6674f888d98?pid=SGLFKYGHKP4BXEMH&lid=LSTSGLFKYGHKP4BXEMHAL1IED&marketplace=FLIPKART&q=sunglasses&store=26x&srno=s_1_21&otracker=search&otracker1=search&fm=organic&iid=ac8713de-b255-4da5-974c-1a10f9a6542d.SGLFKYGHKP4BXEMH.SEARCH&ppt=None&ppn=None&ssid=k64mum0h6o0000001621490832838&qH=2cc465e3eef5bff0',\n",
       " 'https://www.flipkart.com/rozzetta-craft-retro-square-sunglasses/p/itmfd05447fa5361?pid=SGLFZ2YCQ7UQ3XBQ&lid=LSTSGLFZ2YCQ7UQ3XBQRG02II&marketplace=FLIPKART&q=sunglasses&store=26x&srno=s_1_22&otracker=search&otracker1=search&fm=organic&iid=ac8713de-b255-4da5-974c-1a10f9a6542d.SGLFZ2YCQ7UQ3XBQ.SEARCH&ppt=None&ppn=None&ssid=k64mum0h6o0000001621490832838&qH=2cc465e3eef5bff0',\n",
       " 'https://www.flipkart.com/rozzetta-craft-rectangular-sunglasses/p/itm7e717fb4e4af0?pid=SGLFX84MT48ZH7RZ&lid=LSTSGLFX84MT48ZH7RZPN64SZ&marketplace=FLIPKART&q=sunglasses&store=26x&srno=s_1_23&otracker=search&otracker1=search&fm=organic&iid=ac8713de-b255-4da5-974c-1a10f9a6542d.SGLFX84MT48ZH7RZ.SEARCH&ppt=None&ppn=None&ssid=k64mum0h6o0000001621490832838&qH=2cc465e3eef5bff0',\n",
       " 'https://www.flipkart.com/phenomenal-retro-square-sunglasses/p/itm1ead9ddbbb3d8?pid=SGLFUBFWNBFEAVD3&lid=LSTSGLFUBFWNBFEAVD31E0HIC&marketplace=FLIPKART&q=sunglasses&store=26x&srno=s_1_25&otracker=search&otracker1=search&fm=organic&iid=ac8713de-b255-4da5-974c-1a10f9a6542d.SGLFUBFWNBFEAVD3.SEARCH&ppt=None&ppn=None&ssid=k64mum0h6o0000001621490832838&qH=2cc465e3eef5bff0',\n",
       " 'https://www.flipkart.com/fastrack-aviator-sunglasses/p/itm71bfd7c0bb72a?pid=SGLFKYGHRDPNJGGG&lid=LSTSGLFKYGHRDPNJGGGVIF0IZ&marketplace=FLIPKART&q=sunglasses&store=26x&srno=s_1_26&otracker=search&otracker1=search&fm=organic&iid=ac8713de-b255-4da5-974c-1a10f9a6542d.SGLFKYGHRDPNJGGG.SEARCH&ppt=None&ppn=None&ssid=k64mum0h6o0000001621490832838&qH=2cc465e3eef5bff0',\n",
       " 'https://www.flipkart.com/gansta-aviator-sunglasses/p/itmf7hmfp5r8hcdb?pid=SGLF7HGZKHHSTQ8H&lid=LSTSGLF7HGZKHHSTQ8H5VK4WX&marketplace=FLIPKART&q=sunglasses&store=26x&srno=s_1_27&otracker=search&otracker1=search&fm=organic&iid=ac8713de-b255-4da5-974c-1a10f9a6542d.SGLF7HGZKHHSTQ8H.SEARCH&ppt=None&ppn=None&ssid=k64mum0h6o0000001621490832838&qH=2cc465e3eef5bff0',\n",
       " 'https://www.flipkart.com/rozzetta-craft-round-sunglasses/p/itm50b1a774b7e0d?pid=SGLFMFKYUQNWGHWT&lid=LSTSGLFMFKYUQNWGHWTZ6YYV4&marketplace=FLIPKART&q=sunglasses&store=26x&srno=s_1_28&otracker=search&otracker1=search&fm=organic&iid=ac8713de-b255-4da5-974c-1a10f9a6542d.SGLFMFKYUQNWGHWT.SEARCH&ppt=None&ppn=None&ssid=k64mum0h6o0000001621490832838&qH=2cc465e3eef5bff0',\n",
       " 'https://www.flipkart.com/phenomenal-retro-square-sunglasses/p/itmd8e965df77be9?pid=SGLFUWZTAWHY9CB6&lid=LSTSGLFUWZTAWHY9CB6ZMETGU&marketplace=FLIPKART&q=sunglasses&store=26x&srno=s_1_29&otracker=search&otracker1=search&fm=organic&iid=ac8713de-b255-4da5-974c-1a10f9a6542d.SGLFUWZTAWHY9CB6.SEARCH&ppt=None&ppn=None&ssid=k64mum0h6o0000001621490832838&qH=2cc465e3eef5bff0',\n",
       " 'https://www.flipkart.com/nuvew-cat-eye-sunglasses/p/itma5168d78f8708?pid=SGLFPMSERPZGATH8&lid=LSTSGLFPMSERPZGATH8L68IJA&marketplace=FLIPKART&q=sunglasses&store=26x&srno=s_1_30&otracker=search&otracker1=search&fm=organic&iid=en_gg%2FkjS4lRuVQztiYa0oac3KnHkhvTLpbPHSN802Y9A%2B79hTUzmfGlyBI2xoL9CInMhNIoeUbN6KgjFanIyCDbw%3D%3D&ppt=None&ppn=None&ssid=k64mum0h6o0000001621490832838&qH=2cc465e3eef5bff0',\n",
       " 'https://www.flipkart.com/rozzetta-craft-rectangular-sunglasses/p/itma3addc61d1d3f?pid=SGLFSUXHJZWKYRHG&lid=LSTSGLFSUXHJZWKYRHGPARCAG&marketplace=FLIPKART&q=sunglasses&store=26x&srno=s_1_31&otracker=search&otracker1=search&fm=organic&iid=ac8713de-b255-4da5-974c-1a10f9a6542d.SGLFSUXHJZWKYRHG.SEARCH&ppt=None&ppn=None&ssid=k64mum0h6o0000001621490832838&qH=2cc465e3eef5bff0',\n",
       " 'https://www.flipkart.com/rozzetta-craft-shield-sunglasses/p/itmc5444d5058e09?pid=SGLFPZ65YQPYKUQP&lid=LSTSGLFPZ65YQPYKUQP4W0V5O&marketplace=FLIPKART&q=sunglasses&store=26x&spotlightTagId=TrendingId_26x&srno=s_1_32&otracker=search&otracker1=search&fm=organic&iid=ac8713de-b255-4da5-974c-1a10f9a6542d.SGLFPZ65YQPYKUQP.SEARCH&ppt=None&ppn=None&ssid=k64mum0h6o0000001621490832838&qH=2cc465e3eef5bff0',\n",
       " 'https://www.flipkart.com/ray-ban-retro-square-sunglasses/p/itmf25ad5693a398?pid=SGLFUT9ZUYEYHMZE&lid=LSTSGLFUT9ZUYEYHMZEWMZD1Q&marketplace=FLIPKART&q=sunglasses&store=26x&srno=s_1_33&otracker=search&otracker1=search&fm=organic&iid=ac8713de-b255-4da5-974c-1a10f9a6542d.SGLFUT9ZUYEYHMZE.SEARCH&ppt=None&ppn=None&ssid=k64mum0h6o0000001621490832838&qH=2cc465e3eef5bff0',\n",
       " 'https://www.flipkart.com/nuvew-cat-eye-sunglasses/p/itmb0b1bc6f8c6cd?pid=SGLFKGPUURTUSMJH&lid=LSTSGLFKGPUURTUSMJHM82J94&marketplace=FLIPKART&q=sunglasses&store=26x&srno=s_1_34&otracker=search&otracker1=search&fm=organic&iid=en_gg%2FkjS4lRuVQztiYa0oac3KnHkhvTLpbPHSN802Y9A%2B%2BIMAK0ejKIDmj2lqyeq6X7VUwX4yjvXKRa2evPlsQEg%3D%3D&ppt=None&ppn=None&ssid=k64mum0h6o0000001621490832838&qH=2cc465e3eef5bff0',\n",
       " 'https://www.flipkart.com/royal-son-wayfarer-sunglasses/p/itmfgaf9pdmpxhre?pid=SGLFGAYYFCAGPJ2N&lid=LSTSGLFGAYYFCAGPJ2NUDBKSR&marketplace=FLIPKART&q=sunglasses&store=26x&srno=s_1_35&otracker=search&otracker1=search&fm=organic&iid=ac8713de-b255-4da5-974c-1a10f9a6542d.SGLFGAYYFCAGPJ2N.SEARCH&ppt=None&ppn=None&ssid=k64mum0h6o0000001621490832838&qH=2cc465e3eef5bff0',\n",
       " 'https://www.flipkart.com/hipe-round-sunglasses/p/itmd64eb278d644a?pid=SGLFJFSGFAGS4Z8M&lid=LSTSGLFJFSGFAGS4Z8MKA3C0B&marketplace=FLIPKART&q=sunglasses&store=26x&srno=s_1_36&otracker=search&otracker1=search&fm=organic&iid=ac8713de-b255-4da5-974c-1a10f9a6542d.SGLFJFSGFAGS4Z8M.SEARCH&ppt=None&ppn=None&ssid=k64mum0h6o0000001621490832838&qH=2cc465e3eef5bff0',\n",
       " 'https://www.flipkart.com/fastrack-wayfarer-sunglasses/p/itmc6bf8824b7f87?pid=SGLFG94CQZ4AYS2F&lid=LSTSGLFG94CQZ4AYS2FQ3AXTH&marketplace=FLIPKART&q=sunglasses&store=26x&srno=s_1_37&otracker=search&otracker1=search&fm=organic&iid=ac8713de-b255-4da5-974c-1a10f9a6542d.SGLFG94CQZ4AYS2F.SEARCH&ppt=None&ppn=None&ssid=k64mum0h6o0000001621490832838&qH=2cc465e3eef5bff0',\n",
       " 'https://www.flipkart.com/elegante-wrap-around-sunglasses/p/itm532c5ed57bb43?pid=SGLFZ25JXCKKSXTN&lid=LSTSGLFZ25JXCKKSXTNJZPQT6&marketplace=FLIPKART&q=sunglasses&store=26x&srno=s_1_38&otracker=search&otracker1=search&fm=organic&iid=ac8713de-b255-4da5-974c-1a10f9a6542d.SGLFZ25JXCKKSXTN.SEARCH&ppt=None&ppn=None&ssid=k64mum0h6o0000001621490832838&qH=2cc465e3eef5bff0',\n",
       " 'https://www.flipkart.com/gansta-wayfarer-sunglasses/p/itm5c1eadaec2b01?pid=SGLFV5HGZQTDDTVJ&lid=LSTSGLFV5HGZQTDDTVJE4KOIJ&marketplace=FLIPKART&q=sunglasses&store=26x&srno=s_1_39&otracker=search&otracker1=search&fm=organic&iid=ac8713de-b255-4da5-974c-1a10f9a6542d.SGLFV5HGZQTDDTVJ.SEARCH&ppt=None&ppn=None&ssid=k64mum0h6o0000001621490832838&qH=2cc465e3eef5bff0',\n",
       " 'https://www.flipkart.com/nuvew-aviator-wayfarer-sunglasses/p/itmb44ee15b3348e?pid=SGLFKJW8BY3UBHR8&lid=LSTSGLFKJW8BY3UBHR8LYKDVC&marketplace=FLIPKART&q=sunglasses&store=26x&srno=s_1_40&otracker=search&otracker1=search&fm=organic&iid=en_gg%2FkjS4lRuVQztiYa0oac3KnHkhvTLpbPHSN802Y9A%2BhnmqwsPNO80MVvtgLGZX51OrdVfx4nvcYCVo1uWkyCA%3D%3D&ppt=None&ppn=None&ssid=k64mum0h6o0000001621490832838&qH=2cc465e3eef5bff0',\n",
       " 'https://www.flipkart.com/fastrack-shield-sunglasses/p/itmf79dqyugkgjt3?pid=SGLF79DPQHKPREWV&lid=LSTSGLF79DPQHKPREWVC9ACB3&marketplace=FLIPKART&q=sunglasses&store=26x&srno=s_2_41&otracker=search&otracker1=search&fm=organic&iid=bad81018-bfe0-4abe-8d4f-eaf6bfcffcbd.SGLF79DPQHKPREWV.SEARCH&ppt=None&ppn=None&ssid=r1e3mlnygw0000001621490837887&qH=2cc465e3eef5bff0',\n",
       " 'https://www.flipkart.com/singco-india-aviator-wayfarer-sunglasses/p/itmf5b6c6e88f44a?pid=SGLFF9BTZUQZGZ3H&lid=LSTSGLFF9BTZUQZGZ3HMQDMDM&marketplace=FLIPKART&q=sunglasses&store=26x&srno=s_2_42&otracker=search&otracker1=search&fm=organic&iid=bad81018-bfe0-4abe-8d4f-eaf6bfcffcbd.SGLFF9BTZUQZGZ3H.SEARCH&ppt=None&ppn=None&ssid=r1e3mlnygw0000001621490837887&qH=2cc465e3eef5bff0',\n",
       " 'https://www.flipkart.com/royal-son-wayfarer-sunglasses/p/itmfgaf93tm9amaa?pid=SGLFGAYYCQWCN5FH&lid=LSTSGLFGAYYCQWCN5FHJBRXON&marketplace=FLIPKART&q=sunglasses&store=26x&srno=s_2_43&otracker=search&otracker1=search&fm=organic&iid=bad81018-bfe0-4abe-8d4f-eaf6bfcffcbd.SGLFGAYYCQWCN5FH.SEARCH&ppt=None&ppn=None&ssid=r1e3mlnygw0000001621490837887&qH=2cc465e3eef5bff0',\n",
       " 'https://www.flipkart.com/nuvew-cat-eye-sunglasses/p/itm373fb9321647b?pid=SGLFPMSEN2RP6J6H&lid=LSTSGLFPMSEN2RP6J6HGRJBEW&marketplace=FLIPKART&q=sunglasses&store=26x&srno=s_2_44&otracker=search&otracker1=search&fm=organic&iid=en_O23Gyle5ztG6%2Fk1OtGqaXvs67Bu5zZF4JXQq8Dsddln1nqR32dzfPztyOWRarAmnmGewIS%2F7D1%2F7hN7zeLmseA%3D%3D&ppt=None&ppn=None&ssid=r1e3mlnygw0000001621490837887&qH=2cc465e3eef5bff0',\n",
       " 'https://www.flipkart.com/hipe-sports-sunglasses/p/itm3e54ea56c399f?pid=SGLFGYGHYR7AAJPJ&lid=LSTSGLFGYGHYR7AAJPJMUU6KY&marketplace=FLIPKART&q=sunglasses&store=26x&srno=s_2_45&otracker=search&otracker1=search&fm=organic&iid=bad81018-bfe0-4abe-8d4f-eaf6bfcffcbd.SGLFGYGHYR7AAJPJ.SEARCH&ppt=None&ppn=None&ssid=r1e3mlnygw0000001621490837887&qH=2cc465e3eef5bff0',\n",
       " 'https://www.flipkart.com/flizz-retro-square-sunglasses/p/itmfcfa8ecd9dbce?pid=SGLFWQP8JZVJZEZW&lid=LSTSGLFWQP8JZVJZEZWAUAWZL&marketplace=FLIPKART&q=sunglasses&store=26x&srno=s_2_46&otracker=search&otracker1=search&fm=organic&iid=bad81018-bfe0-4abe-8d4f-eaf6bfcffcbd.SGLFWQP8JZVJZEZW.SEARCH&ppt=None&ppn=None&ssid=r1e3mlnygw0000001621490837887&qH=2cc465e3eef5bff0',\n",
       " 'https://www.flipkart.com/aislin-oval-sunglasses/p/itm886777f624db3?pid=SGLFRGT7GGTY2YZU&lid=LSTSGLFRGT7GGTY2YZUB3MXS0&marketplace=FLIPKART&q=sunglasses&store=26x&srno=s_2_47&otracker=search&otracker1=search&fm=organic&iid=bad81018-bfe0-4abe-8d4f-eaf6bfcffcbd.SGLFRGT7GGTY2YZU.SEARCH&ppt=None&ppn=None&ssid=r1e3mlnygw0000001621490837887&qH=2cc465e3eef5bff0',\n",
       " 'https://www.flipkart.com/hipe-wayfarer-sunglasses/p/itm57a9456b8c71b?pid=SGLFZA3AXMDG4SNE&lid=LSTSGLFZA3AXMDG4SNEWM2IYA&marketplace=FLIPKART&q=sunglasses&store=26x&srno=s_2_48&otracker=search&otracker1=search&fm=organic&iid=bad81018-bfe0-4abe-8d4f-eaf6bfcffcbd.SGLFZA3AXMDG4SNE.SEARCH&ppt=None&ppn=None&ssid=r1e3mlnygw0000001621490837887&qH=2cc465e3eef5bff0',\n",
       " 'https://www.flipkart.com/gansta-aviator-sunglasses/p/itmf3yhcnbzhfrkr?pid=SGLEXFRYHSB8J8FH&lid=LSTSGLEXFRYHSB8J8FH4HOFBI&marketplace=FLIPKART&q=sunglasses&store=26x&srno=s_2_49&otracker=search&otracker1=search&fm=organic&iid=bad81018-bfe0-4abe-8d4f-eaf6bfcffcbd.SGLEXFRYHSB8J8FH.SEARCH&ppt=None&ppn=None&ssid=r1e3mlnygw0000001621490837887&qH=2cc465e3eef5bff0',\n",
       " 'https://www.flipkart.com/nuvew-retro-square-wayfarer-sunglasses/p/itmf5992a6a9583b?pid=SGLFPHRNYGAXEGGD&lid=LSTSGLFPHRNYGAXEGGDLDURT2&marketplace=FLIPKART&q=sunglasses&store=26x&srno=s_2_50&otracker=search&otracker1=search&fm=organic&iid=en_O23Gyle5ztG6%2Fk1OtGqaXvs67Bu5zZF4JXQq8DsddllbgKtj%2BR9LgJ%2BGfNWuWNpvxElapOeCBIN8NBxvzSbxXg%3D%3D&ppt=None&ppn=None&ssid=r1e3mlnygw0000001621490837887&qH=2cc465e3eef5bff0',\n",
       " 'https://www.flipkart.com/royal-son-aviator-sunglasses/p/itm174e1d395a702?pid=SGLFZJV9JHZTEHUG&lid=LSTSGLFZJV9JHZTEHUGM3DJOD&marketplace=FLIPKART&q=sunglasses&store=26x&srno=s_2_51&otracker=search&otracker1=search&fm=organic&iid=bad81018-bfe0-4abe-8d4f-eaf6bfcffcbd.SGLFZJV9JHZTEHUG.SEARCH&ppt=None&ppn=None&ssid=r1e3mlnygw0000001621490837887&qH=2cc465e3eef5bff0',\n",
       " 'https://www.flipkart.com/hipe-round-sunglasses/p/itm05dde0582be36?pid=SGLFQETNDUT4ZRPX&lid=LSTSGLFQETNDUT4ZRPXSFWXQA&marketplace=FLIPKART&q=sunglasses&store=26x&srno=s_2_52&otracker=search&otracker1=search&fm=organic&iid=bad81018-bfe0-4abe-8d4f-eaf6bfcffcbd.SGLFQETNDUT4ZRPX.SEARCH&ppt=None&ppn=None&ssid=r1e3mlnygw0000001621490837887&qH=2cc465e3eef5bff0',\n",
       " 'https://www.flipkart.com/fastrack-wayfarer-sunglasses/p/itma9864babc060c?pid=SGLFG94CV3EVXTZE&lid=LSTSGLFG94CV3EVXTZEPQ88ZR&marketplace=FLIPKART&q=sunglasses&store=26x&srno=s_2_53&otracker=search&otracker1=search&fm=organic&iid=bad81018-bfe0-4abe-8d4f-eaf6bfcffcbd.SGLFG94CV3EVXTZE.SEARCH&ppt=None&ppn=None&ssid=r1e3mlnygw0000001621490837887&qH=2cc465e3eef5bff0',\n",
       " 'https://www.flipkart.com/singco-india-round-sunglasses/p/itm459cf9b987961?pid=SGLFHJXPKEJAZGFM&lid=LSTSGLFHJXPKEJAZGFMJGBJ5M&marketplace=FLIPKART&q=sunglasses&store=26x&srno=s_2_55&otracker=search&otracker1=search&fm=organic&iid=bad81018-bfe0-4abe-8d4f-eaf6bfcffcbd.SGLFHJXPKEJAZGFM.SEARCH&ppt=None&ppn=None&ssid=r1e3mlnygw0000001621490837887&qH=2cc465e3eef5bff0',\n",
       " 'https://www.flipkart.com/hipe-aviator-sunglasses/p/itmfegxheagq4bvd?pid=SGLFEFHPZD4ZDSYF&lid=LSTSGLFEFHPZD4ZDSYFXOPXPC&marketplace=FLIPKART&q=sunglasses&store=26x&srno=s_2_56&otracker=search&otracker1=search&fm=organic&iid=bad81018-bfe0-4abe-8d4f-eaf6bfcffcbd.SGLFEFHPZD4ZDSYF.SEARCH&ppt=None&ppn=None&ssid=r1e3mlnygw0000001621490837887&qH=2cc465e3eef5bff0',\n",
       " 'https://www.flipkart.com/rozzetta-craft-round-sunglasses/p/itm3ca5f665ffe8a?pid=SGLFZY7UJHZZ4ZZC&lid=LSTSGLFZY7UJHZZ4ZZCI8PNGA&marketplace=FLIPKART&q=sunglasses&store=26x&srno=s_2_57&otracker=search&otracker1=search&fm=organic&iid=bad81018-bfe0-4abe-8d4f-eaf6bfcffcbd.SGLFZY7UJHZZ4ZZC.SEARCH&ppt=None&ppn=None&ssid=r1e3mlnygw0000001621490837887&qH=2cc465e3eef5bff0',\n",
       " 'https://www.flipkart.com/rozzetta-craft-round-sunglasses/p/itm5d1752789cc22?pid=SGLFMGVZP22SPRTQ&lid=LSTSGLFMGVZP22SPRTQCVS7RR&marketplace=FLIPKART&q=sunglasses&store=26x&srno=s_2_58&otracker=search&otracker1=search&fm=organic&iid=bad81018-bfe0-4abe-8d4f-eaf6bfcffcbd.SGLFMGVZP22SPRTQ.SEARCH&ppt=None&ppn=None&ssid=r1e3mlnygw0000001621490837887&qH=2cc465e3eef5bff0',\n",
       " 'https://www.flipkart.com/fastrack-aviator-sunglasses/p/itm707512fc942bc?pid=SGLFKYGHGZU6HVNG&lid=LSTSGLFKYGHGZU6HVNGQJCIFD&marketplace=FLIPKART&q=sunglasses&store=26x&srno=s_2_59&otracker=search&otracker1=search&fm=organic&iid=bad81018-bfe0-4abe-8d4f-eaf6bfcffcbd.SGLFKYGHGZU6HVNG.SEARCH&ppt=None&ppn=None&ssid=r1e3mlnygw0000001621490837887&qH=2cc465e3eef5bff0',\n",
       " 'https://www.flipkart.com/bulgaria-rectangular-sunglasses/p/itm5c0272bdbdb09?pid=SGLFUCZN9XWHU2M5&lid=LSTSGLFUCZN9XWHU2M5GBSZZO&marketplace=FLIPKART&q=sunglasses&store=26x&srno=s_2_60&otracker=search&otracker1=search&fm=organic&iid=en_O23Gyle5ztG6%2Fk1OtGqaXvs67Bu5zZF4JXQq8DsddlnRBtNHJeFzVBo3x%2FgWiPUV86SSgZ5BvxCjB5%2FddcOkAA%3D%3D&ppt=None&ppn=None&ssid=r1e3mlnygw0000001621490837887&qH=2cc465e3eef5bff0',\n",
       " 'https://www.flipkart.com/gansta-wayfarer-sunglasses/p/itmfc764f7c32c6d?pid=SGLF926KFNUSZS98&lid=LSTSGLF926KFNUSZS98NBQTJL&marketplace=FLIPKART&q=sunglasses&store=26x&srno=s_2_61&otracker=search&otracker1=search&fm=organic&iid=bad81018-bfe0-4abe-8d4f-eaf6bfcffcbd.SGLF926KFNUSZS98.SEARCH&ppt=None&ppn=None&ssid=r1e3mlnygw0000001621490837887&qH=2cc465e3eef5bff0',\n",
       " 'https://www.flipkart.com/fastrack-wayfarer-sunglasses/p/itmf8a68vrn22d6d?pid=SGLF8A689P4JGV83&lid=LSTSGLF8A689P4JGV83P0NNWC&marketplace=FLIPKART&q=sunglasses&store=26x&srno=s_2_62&otracker=search&otracker1=search&fm=organic&iid=bad81018-bfe0-4abe-8d4f-eaf6bfcffcbd.SGLF8A689P4JGV83.SEARCH&ppt=None&ppn=None&ssid=r1e3mlnygw0000001621490837887&qH=2cc465e3eef5bff0',\n",
       " 'https://www.flipkart.com/royal-son-sports-sunglasses/p/itm09500805c78e2?pid=SGLFPBJEPHREEPQN&lid=LSTSGLFPBJEPHREEPQNIKIBOM&marketplace=FLIPKART&q=sunglasses&store=26x&srno=s_2_63&otracker=search&otracker1=search&fm=organic&iid=bad81018-bfe0-4abe-8d4f-eaf6bfcffcbd.SGLFPBJEPHREEPQN.SEARCH&ppt=None&ppn=None&ssid=r1e3mlnygw0000001621490837887&qH=2cc465e3eef5bff0',\n",
       " 'https://www.flipkart.com/deixels-wayfarer-sunglasses/p/itmd472d69f3666e?pid=SGLFKMMXWMAEFHMF&lid=LSTSGLFKMMXWMAEFHMFSMSLWM&marketplace=FLIPKART&q=sunglasses&store=26x&srno=s_2_65&otracker=search&otracker1=search&fm=organic&iid=bad81018-bfe0-4abe-8d4f-eaf6bfcffcbd.SGLFKMMXWMAEFHMF.SEARCH&ppt=None&ppn=None&ssid=r1e3mlnygw0000001621490837887&qH=2cc465e3eef5bff0',\n",
       " 'https://www.flipkart.com/fastrack-wayfarer-sunglasses/p/itmf3ykr6vywh5tp?pid=SGLES2WMQBQ2GFHT&lid=LSTSGLES2WMQBQ2GFHTQTYINP&marketplace=FLIPKART&q=sunglasses&store=26x&srno=s_2_66&otracker=search&otracker1=search&fm=organic&iid=bad81018-bfe0-4abe-8d4f-eaf6bfcffcbd.SGLES2WMQBQ2GFHT.SEARCH&ppt=None&ppn=None&ssid=r1e3mlnygw0000001621490837887&qH=2cc465e3eef5bff0',\n",
       " 'https://www.flipkart.com/gansta-wayfarer-sunglasses/p/itmdc38b2a734a69?pid=SGLFV93BGGJUCHMY&lid=LSTSGLFV93BGGJUCHMY3JBAIL&marketplace=FLIPKART&q=sunglasses&store=26x&srno=s_2_67&otracker=search&otracker1=search&fm=organic&iid=bad81018-bfe0-4abe-8d4f-eaf6bfcffcbd.SGLFV93BGGJUCHMY.SEARCH&ppt=None&ppn=None&ssid=r1e3mlnygw0000001621490837887&qH=2cc465e3eef5bff0',\n",
       " 'https://www.flipkart.com/phenomenal-retro-square-sunglasses/p/itmd2e48206db032?pid=SGLFU7DSZHYHHN3G&lid=LSTSGLFU7DSZHYHHN3GJENRM7&marketplace=FLIPKART&q=sunglasses&store=26x&srno=s_2_68&otracker=search&otracker1=search&fm=organic&iid=bad81018-bfe0-4abe-8d4f-eaf6bfcffcbd.SGLFU7DSZHYHHN3G.SEARCH&ppt=None&ppn=None&ssid=r1e3mlnygw0000001621490837887&qH=2cc465e3eef5bff0',\n",
       " 'https://www.flipkart.com/fastrack-wayfarer-sunglasses/p/itma3f884efb246c?pid=SGLFG94CJAP7TYFY&lid=LSTSGLFG94CJAP7TYFYMAF3H2&marketplace=FLIPKART&q=sunglasses&store=26x&srno=s_2_69&otracker=search&otracker1=search&fm=organic&iid=bad81018-bfe0-4abe-8d4f-eaf6bfcffcbd.SGLFG94CJAP7TYFY.SEARCH&ppt=None&ppn=None&ssid=r1e3mlnygw0000001621490837887&qH=2cc465e3eef5bff0',\n",
       " 'https://www.flipkart.com/nuvew-cat-eye-sunglasses/p/itma5168d78f8708?pid=SGLFPMSERPZGATH8&lid=LSTSGLFPMSERPZGATH8L68IJA&marketplace=FLIPKART&q=sunglasses&store=26x&srno=s_2_70&otracker=search&otracker1=search&fm=organic&iid=en_O23Gyle5ztG6%2Fk1OtGqaXvs67Bu5zZF4JXQq8Dsddllx0fQNUDASDuC5OVDylfXtPvqG8iwHRZplMiu0I%2FdJZQ%3D%3D&ppt=None&ppn=None&ssid=r1e3mlnygw0000001621490837887&qH=2cc465e3eef5bff0',\n",
       " 'https://www.flipkart.com/phenomenal-clubmaster-sunglasses/p/itmfbnws6gfw8rqy?pid=SGLFBNT2KVPNBPSN&lid=LSTSGLFBNT2KVPNBPSNC5SQTR&marketplace=FLIPKART&q=sunglasses&store=26x&srno=s_2_71&otracker=search&otracker1=search&fm=organic&iid=bad81018-bfe0-4abe-8d4f-eaf6bfcffcbd.SGLFBNT2KVPNBPSN.SEARCH&ppt=None&ppn=None&ssid=r1e3mlnygw0000001621490837887&qH=2cc465e3eef5bff0',\n",
       " 'https://www.flipkart.com/gansta-wayfarer-sunglasses/p/itmf9z7khyxyxgvb?pid=SGLF9Z32T7E2TUSE&lid=LSTSGLF9Z32T7E2TUSEYGWG0D&marketplace=FLIPKART&q=sunglasses&store=26x&srno=s_2_72&otracker=search&otracker1=search&fm=organic&iid=bad81018-bfe0-4abe-8d4f-eaf6bfcffcbd.SGLF9Z32T7E2TUSE.SEARCH&ppt=None&ppn=None&ssid=r1e3mlnygw0000001621490837887&qH=2cc465e3eef5bff0',\n",
       " 'https://www.flipkart.com/fastrack-aviator-sunglasses/p/itm8b12bb6425926?pid=SGLFKYGH5RNKQFHZ&lid=LSTSGLFKYGH5RNKQFHZDPLMHA&marketplace=FLIPKART&q=sunglasses&store=26x&srno=s_2_73&otracker=search&otracker1=search&fm=organic&iid=bad81018-bfe0-4abe-8d4f-eaf6bfcffcbd.SGLFKYGH5RNKQFHZ.SEARCH&ppt=None&ppn=None&ssid=r1e3mlnygw0000001621490837887&qH=2cc465e3eef5bff0',\n",
       " 'https://www.flipkart.com/nuvew-cat-eye-sunglasses/p/itmb0b1bc6f8c6cd?pid=SGLFKGPUURTUSMJH&lid=LSTSGLFKGPUURTUSMJHM82J94&marketplace=FLIPKART&q=sunglasses&store=26x&srno=s_2_74&otracker=search&otracker1=search&fm=organic&iid=en_O23Gyle5ztG6%2Fk1OtGqaXvs67Bu5zZF4JXQq8Dsddll4r9dXcXrtbWEV4V4s2vn5dMXT7xGWmM9hbu5hg09SiQ%3D%3D&ppt=None&ppn=None&ssid=r1e3mlnygw0000001621490837887&qH=2cc465e3eef5bff0',\n",
       " 'https://www.flipkart.com/gansta-aviator-sunglasses/p/itma841cb28ba5b2?pid=SGLFSFVG8R3XZAMN&lid=LSTSGLFSFVG8R3XZAMNIB8HEQ&marketplace=FLIPKART&q=sunglasses&store=26x&srno=s_2_75&otracker=search&otracker1=search&fm=organic&iid=bad81018-bfe0-4abe-8d4f-eaf6bfcffcbd.SGLFSFVG8R3XZAMN.SEARCH&ppt=None&ppn=None&ssid=r1e3mlnygw0000001621490837887&qH=2cc465e3eef5bff0',\n",
       " 'https://www.flipkart.com/crackers-aviator-sunglasses/p/itmfcyffb8fugtpx?pid=SGLFBZZW5GANSFFZ&lid=LSTSGLFBZZW5GANSFFZ0NKUDH&marketplace=FLIPKART&q=sunglasses&store=26x&srno=s_2_76&otracker=search&otracker1=search&fm=organic&iid=bad81018-bfe0-4abe-8d4f-eaf6bfcffcbd.SGLFBZZW5GANSFFZ.SEARCH&ppt=None&ppn=None&ssid=r1e3mlnygw0000001621490837887&qH=2cc465e3eef5bff0',\n",
       " 'https://www.flipkart.com/phenomenal-retro-square-sunglasses/p/itm0bb2fa1d6f7e4?pid=SGLFUXYBUVFVSGRY&lid=LSTSGLFUXYBUVFVSGRYREPN9D&marketplace=FLIPKART&q=sunglasses&store=26x&srno=s_2_77&otracker=search&otracker1=search&fm=organic&iid=bad81018-bfe0-4abe-8d4f-eaf6bfcffcbd.SGLFUXYBUVFVSGRY.SEARCH&ppt=None&ppn=None&ssid=r1e3mlnygw0000001621490837887&qH=2cc465e3eef5bff0',\n",
       " 'https://www.flipkart.com/royal-son-aviator-sunglasses/p/itm9662435c89605?pid=SGLEH2D5WVGDWWAP&lid=LSTSGLEH2D5WVGDWWAPDA5XV5&marketplace=FLIPKART&q=sunglasses&store=26x&srno=s_2_78&otracker=search&otracker1=search&fm=organic&iid=bad81018-bfe0-4abe-8d4f-eaf6bfcffcbd.SGLEH2D5WVGDWWAP.SEARCH&ppt=None&ppn=None&ssid=r1e3mlnygw0000001621490837887&qH=2cc465e3eef5bff0',\n",
       " 'https://www.flipkart.com/fastrack-shield-sunglasses/p/itmf79dqdqcf4s4c?pid=SGLF79DPUDKZG4WB&lid=LSTSGLF79DPUDKZG4WBV7D6KR&marketplace=FLIPKART&q=sunglasses&store=26x&srno=s_2_79&otracker=search&otracker1=search&fm=organic&iid=bad81018-bfe0-4abe-8d4f-eaf6bfcffcbd.SGLF79DPUDKZG4WB.SEARCH&ppt=None&ppn=None&ssid=r1e3mlnygw0000001621490837887&qH=2cc465e3eef5bff0',\n",
       " 'https://www.flipkart.com/villain-retro-square-sunglasses/p/itmd4d858799c270?pid=SGLGYFCUFAGZGPPH&lid=LSTSGLGYFCUFAGZGPPH6MTKU4&marketplace=FLIPKART&q=sunglasses&store=26x&srno=s_2_80&otracker=search&otracker1=search&fm=organic&iid=en_O23Gyle5ztG6%2Fk1OtGqaXvs67Bu5zZF4JXQq8Dsddln9BSrJA5uP%2FNU9hKTEsUAW3pcGlQcdu7w99vzoZUkNsQ%3D%3D&ppt=None&ppn=None&ssid=r1e3mlnygw0000001621490837887&qH=2cc465e3eef5bff0',\n",
       " 'https://www.flipkart.com/elegante-round-sunglasses/p/itmcd8c6ed5ae8bf?pid=SGLFZ6JF72GAPVGM&lid=LSTSGLFZ6JF72GAPVGMOCU6XV&marketplace=FLIPKART&q=sunglasses&store=26x&srno=s_3_81&otracker=search&otracker1=search&fm=organic&iid=c858101b-a40c-4ca7-9572-2ddfe9ff8b20.SGLFZ6JF72GAPVGM.SEARCH&ppt=None&ppn=None&ssid=qqbjsu0jhs0000001621490841989&qH=2cc465e3eef5bff0',\n",
       " 'https://www.flipkart.com/aislin-cat-eye-sunglasses/p/itm097ec81d25c77?pid=SGLFRGT79QE8WFHZ&lid=LSTSGLFRGT79QE8WFHZBH5URU&marketplace=FLIPKART&q=sunglasses&store=26x&srno=s_3_82&otracker=search&otracker1=search&fm=organic&iid=c858101b-a40c-4ca7-9572-2ddfe9ff8b20.SGLFRGT79QE8WFHZ.SEARCH&ppt=None&ppn=None&ssid=qqbjsu0jhs0000001621490841989&qH=2cc465e3eef5bff0',\n",
       " 'https://www.flipkart.com/silver-kartz-wayfarer-aviator-sunglasses/p/itmf7g4pezzem77y?pid=SGLF7G35GZPDJRHE&lid=LSTSGLF7G35GZPDJRHE8XJDYA&marketplace=FLIPKART&q=sunglasses&store=26x&srno=s_3_83&otracker=search&otracker1=search&fm=organic&iid=c858101b-a40c-4ca7-9572-2ddfe9ff8b20.SGLF7G35GZPDJRHE.SEARCH&ppt=None&ppn=None&ssid=qqbjsu0jhs0000001621490841989&qH=2cc465e3eef5bff0',\n",
       " 'https://www.flipkart.com/nuvew-cat-eye-sunglasses/p/itm373fb9321647b?pid=SGLFPMSEN2RP6J6H&lid=LSTSGLFPMSEN2RP6J6HGRJBEW&marketplace=FLIPKART&q=sunglasses&store=26x&srno=s_3_84&otracker=search&otracker1=search&fm=organic&iid=en_W%2BNVdTN9LPwte%2BUJbFICceBqYid%2Fs70Y4srLmqNOAZAuoaSVxpAZ2MaXZ4dqnOUxmGewIS%2F7D1%2F7hN7zeLmseA%3D%3D&ppt=None&ppn=None&ssid=qqbjsu0jhs0000001621490841989&qH=2cc465e3eef5bff0',\n",
       " 'https://www.flipkart.com/hipe-round-sunglasses/p/itmfgr6fn8szbhrf?pid=SGLFGQGVKFAZRZPJ&lid=LSTSGLFGQGVKFAZRZPJWAPZEZ&marketplace=FLIPKART&q=sunglasses&store=26x&srno=s_3_85&otracker=search&otracker1=search&fm=organic&iid=c858101b-a40c-4ca7-9572-2ddfe9ff8b20.SGLFGQGVKFAZRZPJ.SEARCH&ppt=None&ppn=None&ssid=qqbjsu0jhs0000001621490841989&qH=2cc465e3eef5bff0',\n",
       " 'https://www.flipkart.com/aislin-oval-sunglasses/p/itmfdr4fatvznt8y?pid=SGLFDQYRZBMYXDJS&lid=LSTSGLFDQYRZBMYXDJSMBH80H&marketplace=FLIPKART&q=sunglasses&store=26x&srno=s_3_86&otracker=search&otracker1=search&fm=organic&iid=c858101b-a40c-4ca7-9572-2ddfe9ff8b20.SGLFDQYRZBMYXDJS.SEARCH&ppt=None&ppn=None&ssid=qqbjsu0jhs0000001621490841989&qH=2cc465e3eef5bff0',\n",
       " 'https://www.flipkart.com/badfella-retro-square-sunglasses/p/itmd216919949721?pid=SGLFTUQXDS6C9BMU&lid=LSTSGLFTUQXDS6C9BMUS51YQR&marketplace=FLIPKART&q=sunglasses&store=26x&srno=s_3_87&otracker=search&otracker1=search&fm=organic&iid=c858101b-a40c-4ca7-9572-2ddfe9ff8b20.SGLFTUQXDS6C9BMU.SEARCH&ppt=None&ppn=None&ssid=qqbjsu0jhs0000001621490841989&qH=2cc465e3eef5bff0',\n",
       " 'https://www.flipkart.com/aislin-oval-sunglasses/p/itm3cb627d302931?pid=SGLFRGT7GDZSJSHZ&lid=LSTSGLFRGT7GDZSJSHZF2ZYGW&marketplace=FLIPKART&q=sunglasses&store=26x&srno=s_3_88&otracker=search&otracker1=search&fm=organic&iid=c858101b-a40c-4ca7-9572-2ddfe9ff8b20.SGLFRGT7GDZSJSHZ.SEARCH&ppt=None&ppn=None&ssid=qqbjsu0jhs0000001621490841989&qH=2cc465e3eef5bff0',\n",
       " 'https://www.flipkart.com/singco-india-aviator-sunglasses/p/itm4696758fccfa3?pid=SGLFVDCMAC6DJ52U&lid=LSTSGLFVDCMAC6DJ52UIQG215&marketplace=FLIPKART&q=sunglasses&store=26x&srno=s_3_89&otracker=search&otracker1=search&fm=organic&iid=c858101b-a40c-4ca7-9572-2ddfe9ff8b20.SGLFVDCMAC6DJ52U.SEARCH&ppt=None&ppn=None&ssid=qqbjsu0jhs0000001621490841989&qH=2cc465e3eef5bff0',\n",
       " 'https://www.flipkart.com/nuvew-retro-square-wayfarer-sunglasses/p/itmf5992a6a9583b?pid=SGLFPHRNYGAXEGGD&lid=LSTSGLFPHRNYGAXEGGDLDURT2&marketplace=FLIPKART&q=sunglasses&store=26x&srno=s_3_90&otracker=search&otracker1=search&fm=organic&iid=en_W%2BNVdTN9LPwte%2BUJbFICceBqYid%2Fs70Y4srLmqNOAZAnjHTR1VDPo4wZWlwRb0cOxElapOeCBIN8NBxvzSbxXg%3D%3D&ppt=None&ppn=None&ssid=qqbjsu0jhs0000001621490841989&qH=2cc465e3eef5bff0',\n",
       " 'https://www.flipkart.com/royal-son-aviator-sunglasses/p/itm33560be239d86?pid=SGLEQHVEX4WXVXW9&lid=LSTSGLEQHVEX4WXVXW9UYXODI&marketplace=FLIPKART&q=sunglasses&store=26x&srno=s_3_91&otracker=search&otracker1=search&fm=organic&iid=c858101b-a40c-4ca7-9572-2ddfe9ff8b20.SGLEQHVEX4WXVXW9.SEARCH&ppt=None&ppn=None&ssid=qqbjsu0jhs0000001621490841989&qH=2cc465e3eef5bff0',\n",
       " 'https://www.flipkart.com/gansta-aviator-sunglasses/p/itm2252e6132a9df?pid=SGLE8H5B7BM8GWZ4&lid=LSTSGLE8H5B7BM8GWZ4HCW20R&marketplace=FLIPKART&q=sunglasses&store=26x&srno=s_3_92&otracker=search&otracker1=search&fm=organic&iid=c858101b-a40c-4ca7-9572-2ddfe9ff8b20.SGLE8H5B7BM8GWZ4.SEARCH&ppt=None&ppn=None&ssid=qqbjsu0jhs0000001621490841989&qH=2cc465e3eef5bff0',\n",
       " 'https://www.flipkart.com/fravy-retro-square-sunglasses/p/itm04fda6395be09?pid=SGLFVSMZSXHDR3QG&lid=LSTSGLFVSMZSXHDR3QGLQ4IJX&marketplace=FLIPKART&q=sunglasses&store=26x&srno=s_3_93&otracker=search&otracker1=search&fm=organic&iid=c858101b-a40c-4ca7-9572-2ddfe9ff8b20.SGLFVSMZSXHDR3QG.SEARCH&ppt=None&ppn=None&ssid=qqbjsu0jhs0000001621490841989&qH=2cc465e3eef5bff0',\n",
       " 'https://www.flipkart.com/elegante-wayfarer-sunglasses/p/itm0de2608bb19c9?pid=SGLFS97HDX6C5ZQE&lid=LSTSGLFS97HDX6C5ZQEBJ3KI3&marketplace=FLIPKART&q=sunglasses&store=26x&srno=s_3_95&otracker=search&otracker1=search&fm=organic&iid=c858101b-a40c-4ca7-9572-2ddfe9ff8b20.SGLFS97HDX6C5ZQE.SEARCH&ppt=None&ppn=None&ssid=qqbjsu0jhs0000001621490841989&qH=2cc465e3eef5bff0',\n",
       " 'https://www.flipkart.com/fastrack-wayfarer-sunglasses/p/itma1587f016bbea?pid=SGLFG94CQWYWDVUF&lid=LSTSGLFG94CQWYWDVUFIFROQS&marketplace=FLIPKART&q=sunglasses&store=26x&srno=s_3_96&otracker=search&otracker1=search&fm=organic&iid=c858101b-a40c-4ca7-9572-2ddfe9ff8b20.SGLFG94CQWYWDVUF.SEARCH&ppt=None&ppn=None&ssid=qqbjsu0jhs0000001621490841989&qH=2cc465e3eef5bff0',\n",
       " 'https://www.flipkart.com/hipe-wayfarer-sunglasses/p/itm12219c5057362?pid=SGLFZHS4FPCHMFFU&lid=LSTSGLFZHS4FPCHMFFUCTKOER&marketplace=FLIPKART&q=sunglasses&store=26x&srno=s_3_97&otracker=search&otracker1=search&fm=organic&iid=c858101b-a40c-4ca7-9572-2ddfe9ff8b20.SGLFZHS4FPCHMFFU.SEARCH&ppt=None&ppn=None&ssid=qqbjsu0jhs0000001621490841989&qH=2cc465e3eef5bff0',\n",
       " 'https://www.flipkart.com/rozzetta-craft-retro-square-sunglasses/p/itm1ed42aa97ddde?pid=SGLGYU5EFMQJUQGY&lid=LSTSGLGYU5EFMQJUQGYR65MHJ&marketplace=FLIPKART&q=sunglasses&store=26x&srno=s_3_98&otracker=search&otracker1=search&fm=organic&iid=c858101b-a40c-4ca7-9572-2ddfe9ff8b20.SGLGYU5EFMQJUQGY.SEARCH&ppt=None&ppn=None&ssid=qqbjsu0jhs0000001621490841989&qH=2cc465e3eef5bff0',\n",
       " 'https://www.flipkart.com/royal-son-aviator-sunglasses/p/itm2574e7f880694?pid=SGLEGUKKJ53B5CBG&lid=LSTSGLEGUKKJ53B5CBGWT5Q4I&marketplace=FLIPKART&q=sunglasses&store=26x&srno=s_3_99&otracker=search&otracker1=search&fm=organic&iid=c858101b-a40c-4ca7-9572-2ddfe9ff8b20.SGLEGUKKJ53B5CBG.SEARCH&ppt=None&ppn=None&ssid=qqbjsu0jhs0000001621490841989&qH=2cc465e3eef5bff0',\n",
       " 'https://www.flipkart.com/bulgaria-rectangular-sunglasses/p/itm5c0272bdbdb09?pid=SGLFUCZN9XWHU2M5&lid=LSTSGLFUCZN9XWHU2M5GBSZZO&marketplace=FLIPKART&q=sunglasses&store=26x&srno=s_3_100&otracker=search&otracker1=search&fm=organic&iid=en_W%2BNVdTN9LPwte%2BUJbFICceBqYid%2Fs70Y4srLmqNOAZDpJPiVY4qhFizTAjuESUn%2B86SSgZ5BvxCjB5%2FddcOkAA%3D%3D&ppt=None&ppn=None&ssid=qqbjsu0jhs0000001621490841989&qH=2cc465e3eef5bff0',\n",
       " 'https://www.flipkart.com/rozzetta-craft-rectangular-sunglasses/p/itm28938fb7c0427?pid=SGLFU4X3B2TYEA8D&lid=LSTSGLFU4X3B2TYEA8DE0KRA6&marketplace=FLIPKART&q=sunglasses&store=26x&srno=s_3_101&otracker=search&otracker1=search&fm=organic&iid=c858101b-a40c-4ca7-9572-2ddfe9ff8b20.SGLFU4X3B2TYEA8D.SEARCH&ppt=None&ppn=None&ssid=qqbjsu0jhs0000001621490841989&qH=2cc465e3eef5bff0',\n",
       " 'https://www.flipkart.com/royal-son-round-sunglasses/p/itm08ee366f541f9?pid=SGLFZJV9XTPRHAZQ&lid=LSTSGLFZJV9XTPRHAZQ48MYNV&marketplace=FLIPKART&q=sunglasses&store=26x&srno=s_3_102&otracker=search&otracker1=search&fm=organic&iid=c858101b-a40c-4ca7-9572-2ddfe9ff8b20.SGLFZJV9XTPRHAZQ.SEARCH&ppt=None&ppn=None&ssid=qqbjsu0jhs0000001621490841989&qH=2cc465e3eef5bff0',\n",
       " 'https://www.flipkart.com/royal-son-aviator-sunglasses/p/itmf3ykjxj6yncgy?pid=SGLED3YHZDMUUYJY&lid=LSTSGLED3YHZDMUUYJYLHV233&marketplace=FLIPKART&q=sunglasses&store=26x&srno=s_3_103&otracker=search&otracker1=search&fm=organic&iid=c858101b-a40c-4ca7-9572-2ddfe9ff8b20.SGLED3YHZDMUUYJY.SEARCH&ppt=None&ppn=None&ssid=qqbjsu0jhs0000001621490841989&qH=2cc465e3eef5bff0',\n",
       " 'https://www.flipkart.com/royal-son-aviator-sunglasses/p/itm3eb7180f13b88?pid=SGLEGUKHFGPPFYC5&lid=LSTSGLEGUKHFGPPFYC5FILSK9&marketplace=FLIPKART&q=sunglasses&store=26x&srno=s_3_105&otracker=search&otracker1=search&fm=organic&iid=c858101b-a40c-4ca7-9572-2ddfe9ff8b20.SGLEGUKHFGPPFYC5.SEARCH&ppt=None&ppn=None&ssid=qqbjsu0jhs0000001621490841989&qH=2cc465e3eef5bff0',\n",
       " 'https://www.flipkart.com/idee-aviator-sunglasses/p/itmfen4azkfzqzh2?pid=SGLFEN4ASDTMSYTZ&lid=LSTSGLFEN4ASDTMSYTZDDSPHN&marketplace=FLIPKART&q=sunglasses&store=26x&srno=s_3_106&otracker=search&otracker1=search&fm=organic&iid=c858101b-a40c-4ca7-9572-2ddfe9ff8b20.SGLFEN4ASDTMSYTZ.SEARCH&ppt=None&ppn=None&ssid=qqbjsu0jhs0000001621490841989&qH=2cc465e3eef5bff0']"
      ]
     },
     "execution_count": 144,
     "metadata": {},
     "output_type": "execute_result"
    }
   ],
   "source": [
    "urls"
   ]
  },
  {
   "cell_type": "code",
   "execution_count": 146,
   "metadata": {},
   "outputs": [],
   "source": [
    "#//span[@class='B_NuCI']"
   ]
  },
  {
   "cell_type": "code",
   "execution_count": 149,
   "metadata": {},
   "outputs": [],
   "source": [
    "Description = []\n",
    "\n",
    "for link in urls:\n",
    "    \n",
    "    driver.get(link)\n",
    "    \n",
    "    des = driver.find_element_by_xpath(\"//span[@class='B_NuCI']\")\n",
    "    \n",
    "    Description.append(des.text)"
   ]
  },
  {
   "cell_type": "code",
   "execution_count": 150,
   "metadata": {},
   "outputs": [
    {
     "data": {
      "text/plain": [
       "['UV Protection, Gradient Cat-eye Sunglasses (63)  (For Women, Black, Golden)',\n",
       " 'UV Protection Retro Square, Wayfarer Sunglasses (58)  (For Men & Women, Clear)',\n",
       " 'UV Protection Rectangular Sunglasses (Free Size)  (For Men, Grey)',\n",
       " 'UV Protection Retro Square Sunglasses (Free Size)  (For Men & Women, Blue)',\n",
       " 'UV Protection Wayfarer Sunglasses (Free Size)  (For Men, Green)',\n",
       " 'UV Protection Retro Square Sunglasses (Free Size)  (For Men & Women, Yellow, Red)',\n",
       " 'UV Protection Aviator Sunglasses (Free Size)  (For Men & Women, Golden, Black)',\n",
       " 'UV Protection, Gradient Rectangular Sunglasses (Free Size)  (For Men & Women, Blue)',\n",
       " 'UV Protection Aviator, Wayfarer Sunglasses (Free Size)  (For Men & Women, Black)',\n",
       " 'UV Protection Wayfarer Sunglasses (Free Size)  (For Men, Grey)',\n",
       " 'UV Protection Aviator Sunglasses (Free Size)  (For Men, Green)',\n",
       " 'Gradient, UV Protection Wayfarer Sunglasses (Free Size)  (For Men, Green)',\n",
       " 'UV Protection Wayfarer Sunglasses (55)  (For Men & Women, Violet)',\n",
       " 'UV Protection Wayfarer Sunglasses (Free Size)  (For Men, Grey)',\n",
       " 'UV Protection Aviator Sunglasses (58)  (For Men & Women, Black, Grey, Violet)',\n",
       " 'Mirrored, Riding Glasses, Others Sports Sunglasses (50)  (For Men & Women, Black, Blue, Silver)',\n",
       " 'UV Protection Round Sunglasses (Free Size)  (For Men & Women, Blue, Clear)',\n",
       " 'UV Protection Aviator Sunglasses (Free Size)  (For Men & Women, Black, Blue, Brown)',\n",
       " 'Others Rectangular Sunglasses (Free Size)  (For Men & Women, Clear)',\n",
       " 'UV Protection Aviator Sunglasses (58)  (For Men & Women, Green)',\n",
       " 'UV Protection Retro Square Sunglasses (Free Size)  (For Men & Women, Brown)',\n",
       " 'UV Protection, Riding Glasses Rectangular Sunglasses (Free Size)  (For Men & Women, Clear)',\n",
       " 'UV Protection, Mirrored Retro Square Sunglasses (53)  (For Men & Women, Red, Black)',\n",
       " 'UV Protection Aviator Sunglasses (58)  (For Men & Women, Grey)',\n",
       " 'UV Protection Aviator Sunglasses (57)  (For Men, Black, Blue)',\n",
       " 'Gradient, UV Protection Round Sunglasses (Free Size)  (For Men & Women, Grey)',\n",
       " 'UV Protection, Mirrored Retro Square Sunglasses (Free Size)  (For Men & Women, Red, Blue)',\n",
       " 'UV Protection, Mirrored Cat-eye Sunglasses (68)  (For Women, Black, Golden)',\n",
       " 'UV Protection, Gradient Rectangular Sunglasses (Free Size)  (For Men & Women, Black)',\n",
       " 'UV Protection Shield Sunglasses (54)  (For Men & Women, Black)',\n",
       " 'UV Protection Retro Square Sunglasses (55)  (For Men, Green)',\n",
       " 'UV Protection Cat-eye Sunglasses (60)  (For Women, Black)',\n",
       " 'UV Protection Wayfarer Sunglasses (55)  (For Men & Women, Black, Brown, Clear)',\n",
       " 'UV Protection, Mirrored Round Sunglasses (Free Size)  (For Men & Women, Red, Yellow)',\n",
       " 'Gradient, UV Protection Wayfarer Sunglasses (Free Size)  (For Men, Green)',\n",
       " 'UV Protection Wrap-around Sunglasses (Free Size)  (For Men & Women, Blue)',\n",
       " 'UV Protection, Riding Glasses Wayfarer Sunglasses (53)  (For Men & Women, Blue, Green)',\n",
       " 'UV Protection, Mirrored Aviator, Wayfarer Sunglasses (58)  (For Men & Women, Blue, Green, Blue, Blue, Violet)',\n",
       " 'UV Protection Shield Sunglasses (Free Size)  (For Men, Grey)',\n",
       " 'UV Protection, Riding Glasses, Others Aviator, Wayfarer Sunglasses (55)  (For Men & Women, Black, Black)',\n",
       " 'UV Protection, Gradient Wayfarer Sunglasses (55)  (For Men & Women, Black, Brown)',\n",
       " 'UV Protection, Gradient Cat-eye Sunglasses (63)  (For Women, Black, Golden)',\n",
       " 'UV Protection Sports Sunglasses (Free Size)  (For Men & Women, Multicolor)',\n",
       " 'UV Protection Retro Square Sunglasses (Free Size)  (For Boys & Girls, Black, Red)',\n",
       " 'UV Protection, Gradient Oval Sunglasses (58)  (For Women, Black)',\n",
       " 'Mirrored Wayfarer Sunglasses (55)  (For Men & Women, Blue)',\n",
       " 'UV Protection Aviator Sunglasses (57)  (For Men & Women, Black, Green)',\n",
       " 'UV Protection Retro Square, Wayfarer Sunglasses (58)  (For Men & Women, Clear)',\n",
       " 'Polarized, UV Protection Aviator Sunglasses (58)  (For Men & Women, Black)',\n",
       " 'Mirrored, UV Protection, Gradient Round Sunglasses (55)  (For Men & Women, Blue, Silver)',\n",
       " 'Mirrored, UV Protection Wayfarer Sunglasses (Free Size)  (For Men, Blue, Green)',\n",
       " 'UV Protection Round Sunglasses (Free Size)  (For Men & Women, Red, Blue)',\n",
       " 'UV Protection, Mirrored Aviator Sunglasses (Free Size)  (For Men & Women, Blue)',\n",
       " 'UV Protection, Gradient Round Sunglasses (Free Size)  (For Men & Women, Black)',\n",
       " 'Mirrored, UV Protection Round Sunglasses (Free Size)  (For Men & Women, Blue)',\n",
       " 'UV Protection Aviator Sunglasses (58)  (For Men & Women, Brown)',\n",
       " 'Others Rectangular Sunglasses (Free Size)  (For Men & Women, Clear)',\n",
       " 'UV Protection, Mirrored Wayfarer Sunglasses (53)  (For Men & Women, Green, Blue)',\n",
       " 'UV Protection Wayfarer Sunglasses (Free Size)  (For Men, Grey)',\n",
       " 'Polarized Sports Sunglasses (68)  (For Men, Black)',\n",
       " 'Polarized, UV Protection, Riding Glasses Wayfarer Sunglasses (Free Size)  (For Men & Women, Black)',\n",
       " 'UV Protection Wayfarer Sunglasses (Free Size)  (For Men, Grey)',\n",
       " 'Night Vision, Riding Glasses Wayfarer Sunglasses (53)  (For Men & Women, Yellow, Red)',\n",
       " 'UV Protection, Mirrored Retro Square Sunglasses (53)  (For Men & Women, Blue, Pink)',\n",
       " 'UV Protection Wayfarer Sunglasses (57)  (For Men, Grey)',\n",
       " 'UV Protection, Mirrored Cat-eye Sunglasses (68)  (For Women, Black, Golden)',\n",
       " 'UV Protection Clubmaster Sunglasses (Free Size)  (For Men & Women, Black, Clear)',\n",
       " 'UV Protection, Mirrored, Gradient Wayfarer Sunglasses (53)  (For Men & Women, Blue)',\n",
       " 'UV Protection Aviator Sunglasses (58)  (For Men & Women, Green)',\n",
       " 'UV Protection Cat-eye Sunglasses (60)  (For Women, Black)',\n",
       " 'UV Protection, Night Vision, Riding Glasses Aviator Sunglasses (57)  (For Men & Women, Yellow, Clear)',\n",
       " 'UV Protection Aviator Sunglasses (55)  (For Men & Women, Red)',\n",
       " 'UV Protection Retro Square Sunglasses (Free Size)  (For Men & Women, Red, Black)',\n",
       " 'Mirrored Aviator Sunglasses (Free Size)  (For Men, Black, Golden)',\n",
       " 'UV Protection Shield Sunglasses (Free Size)  (For Men, Green)',\n",
       " 'Others Retro Square Sunglasses (Free Size)  (For Men, Black)',\n",
       " 'UV Protection Round Sunglasses (Free Size)  (For Men, Black)',\n",
       " 'UV Protection, Gradient Cat-eye Sunglasses (58)  (For Women, Pink)',\n",
       " 'UV Protection Wayfarer, Aviator Sunglasses (88)  (For Men & Women, Black, Green)',\n",
       " 'UV Protection, Gradient Cat-eye Sunglasses (63)  (For Women, Black, Golden)',\n",
       " 'Gradient, UV Protection Round Sunglasses (Free Size)  (For Men & Women, Clear, Blue)',\n",
       " 'UV Protection Oval Sunglasses (60)  (For Women, Brown)',\n",
       " 'Polarized, UV Protection Retro Square Sunglasses (53)  (For Men & Women, Pink)',\n",
       " 'UV Protection, Gradient Oval Sunglasses (58)  (For Women, Pink)',\n",
       " 'Riding Glasses, UV Protection, Others Aviator Sunglasses (55)  (For Men & Women, Green)',\n",
       " 'UV Protection Retro Square, Wayfarer Sunglasses (58)  (For Men & Women, Clear)',\n",
       " 'UV Protection Aviator Sunglasses (Free Size)  (For Men & Women, Green, Black)',\n",
       " 'UV Protection Aviator Sunglasses (57)  (For Men, Black, Black)',\n",
       " 'UV Protection Retro Square Sunglasses (Free Size)  (For Men & Women, Blue)',\n",
       " 'UV Protection Wayfarer Sunglasses (Free Size)  (For Women, Black)',\n",
       " 'Gradient, UV Protection Wayfarer Sunglasses (Free Size)  (For Men, Blue)',\n",
       " 'UV Protection, Night Vision, Riding Glasses, Gradient, Mirrored Wayfarer Sunglasses (55)  (For Boys & Girls, Yellow, Red)',\n",
       " 'UV Protection, Gradient Retro Square Sunglasses (62)  (For Men & Women, Black)',\n",
       " 'Mirrored Aviator Sunglasses (55)  (For Men, Black, Black)',\n",
       " 'Others Rectangular Sunglasses (Free Size)  (For Men & Women, Clear)',\n",
       " 'UV Protection, Gradient Rectangular Sunglasses (Free Size)  (For Men & Women, Clear, Multicolor)',\n",
       " 'Polarized, UV Protection Round Sunglasses (49)  (For Men & Women, Black)',\n",
       " 'Mirrored Aviator Sunglasses (58)  (For Men, Black)',\n",
       " 'Mirrored Aviator Sunglasses (55)  (For Men, Green, Clear)',\n",
       " 'Gradient Aviator Sunglasses (58)  (For Men & Women, Green)']"
      ]
     },
     "execution_count": 150,
     "metadata": {},
     "output_type": "execute_result"
    }
   ],
   "source": [
    "Description"
   ]
  },
  {
   "cell_type": "code",
   "execution_count": 151,
   "metadata": {},
   "outputs": [],
   "source": [
    "df_Sun = pd.DataFrame({})\n",
    "df_Sun[\"Brand Name\"] = brands\n",
    "df_Sun[\"Price\"] = prices\n",
    "df_Sun[\"Discounts\"] = discounts\n",
    "df_Sun[\"Description\"] = Description"
   ]
  },
  {
   "cell_type": "code",
   "execution_count": 152,
   "metadata": {},
   "outputs": [
    {
     "data": {
      "text/html": [
       "<div>\n",
       "<style scoped>\n",
       "    .dataframe tbody tr th:only-of-type {\n",
       "        vertical-align: middle;\n",
       "    }\n",
       "\n",
       "    .dataframe tbody tr th {\n",
       "        vertical-align: top;\n",
       "    }\n",
       "\n",
       "    .dataframe thead th {\n",
       "        text-align: right;\n",
       "    }\n",
       "</style>\n",
       "<table border=\"1\" class=\"dataframe\">\n",
       "  <thead>\n",
       "    <tr style=\"text-align: right;\">\n",
       "      <th></th>\n",
       "      <th>Brand Name</th>\n",
       "      <th>Price</th>\n",
       "      <th>Discounts</th>\n",
       "      <th>Description</th>\n",
       "    </tr>\n",
       "  </thead>\n",
       "  <tbody>\n",
       "    <tr>\n",
       "      <th>0</th>\n",
       "      <td>SUNBEE</td>\n",
       "      <td>₹371</td>\n",
       "      <td>75% off</td>\n",
       "      <td>UV Protection, Gradient Cat-eye Sunglasses (63...</td>\n",
       "    </tr>\n",
       "    <tr>\n",
       "      <th>1</th>\n",
       "      <td>NuVew</td>\n",
       "      <td>₹308</td>\n",
       "      <td>70% off</td>\n",
       "      <td>UV Protection Retro Square, Wayfarer Sunglasse...</td>\n",
       "    </tr>\n",
       "    <tr>\n",
       "      <th>2</th>\n",
       "      <td>Fastrack</td>\n",
       "      <td>₹630</td>\n",
       "      <td>21% off</td>\n",
       "      <td>UV Protection Rectangular Sunglasses (Free Siz...</td>\n",
       "    </tr>\n",
       "    <tr>\n",
       "      <th>3</th>\n",
       "      <td>ROZZETTA CRAFT</td>\n",
       "      <td>₹499</td>\n",
       "      <td>77% off</td>\n",
       "      <td>UV Protection Retro Square Sunglasses (Free Si...</td>\n",
       "    </tr>\n",
       "    <tr>\n",
       "      <th>4</th>\n",
       "      <td>Fastrack</td>\n",
       "      <td>₹758</td>\n",
       "      <td>15% off</td>\n",
       "      <td>UV Protection Wayfarer Sunglasses (Free Size) ...</td>\n",
       "    </tr>\n",
       "  </tbody>\n",
       "</table>\n",
       "</div>"
      ],
      "text/plain": [
       "       Brand Name Price Discounts  \\\n",
       "0          SUNBEE  ₹371   75% off   \n",
       "1           NuVew  ₹308   70% off   \n",
       "2        Fastrack  ₹630   21% off   \n",
       "3  ROZZETTA CRAFT  ₹499   77% off   \n",
       "4        Fastrack  ₹758   15% off   \n",
       "\n",
       "                                         Description  \n",
       "0  UV Protection, Gradient Cat-eye Sunglasses (63...  \n",
       "1  UV Protection Retro Square, Wayfarer Sunglasse...  \n",
       "2  UV Protection Rectangular Sunglasses (Free Siz...  \n",
       "3  UV Protection Retro Square Sunglasses (Free Si...  \n",
       "4  UV Protection Wayfarer Sunglasses (Free Size) ...  "
      ]
     },
     "execution_count": 152,
     "metadata": {},
     "output_type": "execute_result"
    }
   ],
   "source": [
    "df_Sun.head()"
   ]
  },
  {
   "cell_type": "markdown",
   "metadata": {},
   "source": [
    "#### Q7: Scrape 100 reviews data from flipkart.com for iphone11 phone.\n",
    "\n",
    "- 1. Rating\n",
    "- 2. Review_summary\n",
    "- 3. Full review"
   ]
  },
  {
   "cell_type": "code",
   "execution_count": 154,
   "metadata": {},
   "outputs": [],
   "source": [
    "url = \"https://www.flipkart.com/apple-iphone-11-black-64-gb-includes-earpods-power-adapter/p/itm0f37c2240b217?pid=MOBFKCTSVZAXUHGR&lid=LSTMOBFKCTSVZAXUHGREPBFGI&marketplace\"\n",
    "\n",
    "driver.get(url)"
   ]
  },
  {
   "cell_type": "code",
   "execution_count": 159,
   "metadata": {},
   "outputs": [],
   "source": [
    "link = driver.find_element_by_partial_link_text(\"All 4504 reviews\")"
   ]
  },
  {
   "cell_type": "code",
   "execution_count": 160,
   "metadata": {},
   "outputs": [],
   "source": [
    "link.click()"
   ]
  },
  {
   "cell_type": "code",
   "execution_count": 161,
   "metadata": {},
   "outputs": [],
   "source": [
    "base_url = \"https://www.flipkart.com/apple-iphone-11-black-64-gb-includes-earpods-power-adapter/product-reviews/itm0f37c2240b217?pid=MOBFKCTSVZAXUHGR&lid=LSTMOBFKCTSVZAXUHGREPBFGI&marketplace=FLIPKART&page={}\""
   ]
  },
  {
   "cell_type": "code",
   "execution_count": 163,
   "metadata": {},
   "outputs": [
    {
     "data": {
      "text/plain": [
       "'https://www.flipkart.com/apple-iphone-11-black-64-gb-includes-earpods-power-adapter/product-reviews/itm0f37c2240b217?pid=MOBFKCTSVZAXUHGR&lid=LSTMOBFKCTSVZAXUHGREPBFGI&marketplace=FLIPKART&page=2'"
      ]
     },
     "execution_count": 163,
     "metadata": {},
     "output_type": "execute_result"
    }
   ],
   "source": [
    "base_url.format(2)"
   ]
  },
  {
   "cell_type": "code",
   "execution_count": 170,
   "metadata": {},
   "outputs": [],
   "source": [
    "Ratings = []\n",
    "\n",
    "for n in range(1,15):\n",
    "    \n",
    "    base_url = \"https://www.flipkart.com/apple-iphone-11-black-64-gb-includes-earpods-power-adapter/product-reviews/itm0f37c2240b217?pid=MOBFKCTSVZAXUHGR&lid=LSTMOBFKCTSVZAXUHGREPBFGI&marketplace=FLIPKART&page={}\"\n",
    "    \n",
    "    driver.get(base_url.format(n))\n",
    "    \n",
    "    for rate in driver.find_elements_by_xpath(\"//div[@class='_3LWZlK _1BLPMq']\"):\n",
    "        \n",
    "        Ratings.append(rate.text)"
   ]
  },
  {
   "cell_type": "code",
   "execution_count": 174,
   "metadata": {},
   "outputs": [],
   "source": [
    "Ratings = Ratings[:100]"
   ]
  },
  {
   "cell_type": "code",
   "execution_count": 175,
   "metadata": {},
   "outputs": [
    {
     "data": {
      "text/plain": [
       "['5',\n",
       " '5',\n",
       " '5',\n",
       " '5',\n",
       " '4',\n",
       " '5',\n",
       " '5',\n",
       " '5',\n",
       " '5',\n",
       " '5',\n",
       " '5',\n",
       " '5',\n",
       " '4',\n",
       " '5',\n",
       " '5',\n",
       " '5',\n",
       " '5',\n",
       " '5',\n",
       " '5',\n",
       " '5',\n",
       " '5',\n",
       " '5',\n",
       " '5',\n",
       " '5',\n",
       " '5',\n",
       " '4',\n",
       " '5',\n",
       " '5',\n",
       " '5',\n",
       " '5',\n",
       " '5',\n",
       " '5',\n",
       " '5',\n",
       " '5',\n",
       " '4',\n",
       " '4',\n",
       " '5',\n",
       " '5',\n",
       " '5',\n",
       " '5',\n",
       " '5',\n",
       " '5',\n",
       " '5',\n",
       " '5',\n",
       " '5',\n",
       " '5',\n",
       " '5',\n",
       " '5',\n",
       " '5',\n",
       " '5',\n",
       " '5',\n",
       " '5',\n",
       " '5',\n",
       " '5',\n",
       " '5',\n",
       " '5',\n",
       " '4',\n",
       " '5',\n",
       " '5',\n",
       " '5',\n",
       " '5',\n",
       " '5',\n",
       " '5',\n",
       " '5',\n",
       " '5',\n",
       " '5',\n",
       " '5',\n",
       " '5',\n",
       " '5',\n",
       " '4',\n",
       " '5',\n",
       " '5',\n",
       " '3',\n",
       " '4',\n",
       " '5',\n",
       " '5',\n",
       " '5',\n",
       " '5',\n",
       " '5',\n",
       " '5',\n",
       " '5',\n",
       " '4',\n",
       " '5',\n",
       " '4',\n",
       " '4',\n",
       " '5',\n",
       " '5',\n",
       " '5',\n",
       " '5',\n",
       " '5',\n",
       " '5',\n",
       " '5',\n",
       " '5',\n",
       " '5',\n",
       " '5',\n",
       " '5',\n",
       " '5',\n",
       " '4',\n",
       " '5',\n",
       " '5']"
      ]
     },
     "execution_count": 175,
     "metadata": {},
     "output_type": "execute_result"
    }
   ],
   "source": [
    "Ratings"
   ]
  },
  {
   "cell_type": "code",
   "execution_count": 176,
   "metadata": {},
   "outputs": [],
   "source": [
    "Review_summs = []\n",
    "\n",
    "for n in range(1,15):\n",
    "    \n",
    "    base_url = \"https://www.flipkart.com/apple-iphone-11-black-64-gb-includes-earpods-power-adapter/product-reviews/itm0f37c2240b217?pid=MOBFKCTSVZAXUHGR&lid=LSTMOBFKCTSVZAXUHGREPBFGI&marketplace=FLIPKART&page={}\"\n",
    "    \n",
    "    driver.get(base_url.format(n))\n",
    "    \n",
    "    for review_sum in driver.find_elements_by_xpath(\"//p[@class='_2-N8zT']\"):\n",
    "        \n",
    "        Review_summs.append(review_sum.text)"
   ]
  },
  {
   "cell_type": "code",
   "execution_count": 179,
   "metadata": {},
   "outputs": [],
   "source": [
    "Review_summs = Review_summs[:100]"
   ]
  },
  {
   "cell_type": "code",
   "execution_count": 180,
   "metadata": {},
   "outputs": [
    {
     "data": {
      "text/plain": [
       "['Brilliant',\n",
       " 'Perfect product!',\n",
       " 'Great product',\n",
       " 'Worth every penny',\n",
       " 'Good choice',\n",
       " 'Highly recommended',\n",
       " 'Perfect product!',\n",
       " 'Perfect product!',\n",
       " 'Fabulous!',\n",
       " 'Worth every penny',\n",
       " 'Perfect product!',\n",
       " 'Worth every penny',\n",
       " 'Nice product',\n",
       " 'Simply awesome',\n",
       " 'Terrific',\n",
       " 'Highly recommended',\n",
       " 'Classy product',\n",
       " 'Wonderful',\n",
       " 'Brilliant',\n",
       " 'Must buy!',\n",
       " 'Terrific purchase',\n",
       " 'Mind-blowing purchase',\n",
       " 'Great product',\n",
       " 'Terrific purchase',\n",
       " 'Simply awesome',\n",
       " 'Good quality product',\n",
       " 'Very poor',\n",
       " 'Best in the market!',\n",
       " 'Must buy!',\n",
       " 'Fabulous!',\n",
       " 'Mind-blowing purchase',\n",
       " 'Mind-blowing purchase',\n",
       " 'Wonderful',\n",
       " 'Worth every penny',\n",
       " 'Wonderful',\n",
       " 'Good choice',\n",
       " 'Very Good',\n",
       " 'Perfect product!',\n",
       " 'Classy product',\n",
       " 'Perfect product!',\n",
       " 'Just wow!',\n",
       " 'Awesome',\n",
       " 'Terrific purchase',\n",
       " 'Brilliant',\n",
       " 'Perfect product!',\n",
       " 'Highly recommended',\n",
       " 'Perfect product!',\n",
       " 'Excellent',\n",
       " 'Fabulous!',\n",
       " 'Excellent',\n",
       " 'Must buy!',\n",
       " 'Simply awesome',\n",
       " 'Brilliant',\n",
       " 'Terrific purchase',\n",
       " 'Simply awesome',\n",
       " 'Perfect product!',\n",
       " 'Worth every penny',\n",
       " 'Value-for-money',\n",
       " 'Just wow!',\n",
       " 'Super!',\n",
       " 'Perfect product!',\n",
       " 'Must buy!',\n",
       " 'Great product',\n",
       " 'Perfect product!',\n",
       " 'Awesome',\n",
       " 'Mind-blowing purchase',\n",
       " 'Fabulous!',\n",
       " 'Fabulous!',\n",
       " 'Excellent',\n",
       " 'Mind-blowing purchase',\n",
       " 'Good quality product',\n",
       " 'Terrific purchase',\n",
       " 'Awesome',\n",
       " 'Decent product',\n",
       " 'Good quality product',\n",
       " 'Must buy!',\n",
       " 'Just wow!',\n",
       " 'Excellent',\n",
       " 'Awesome',\n",
       " 'Classy product',\n",
       " 'Super!',\n",
       " 'Excellent',\n",
       " 'Value-for-money',\n",
       " 'Perfect product!',\n",
       " 'Wonderful',\n",
       " 'Good quality product',\n",
       " 'Classy product',\n",
       " 'Not recommended at all',\n",
       " 'Fabulous!',\n",
       " 'Best in the market!',\n",
       " 'Mind-blowing purchase',\n",
       " 'Super!',\n",
       " 'Terrific',\n",
       " 'Brilliant',\n",
       " 'Most Price worthy Iphone',\n",
       " 'Terrific purchase',\n",
       " 'Excellent',\n",
       " 'Wonderful',\n",
       " 'Fabulous!',\n",
       " 'Value-for-money']"
      ]
     },
     "execution_count": 180,
     "metadata": {},
     "output_type": "execute_result"
    }
   ],
   "source": [
    "Review_summs"
   ]
  },
  {
   "cell_type": "code",
   "execution_count": 183,
   "metadata": {},
   "outputs": [],
   "source": [
    "Full_reviews = []\n",
    "\n",
    "for n in range(1,15):\n",
    "    \n",
    "    base_url = \"https://www.flipkart.com/apple-iphone-11-black-64-gb-includes-earpods-power-adapter/product-reviews/itm0f37c2240b217?pid=MOBFKCTSVZAXUHGR&lid=LSTMOBFKCTSVZAXUHGREPBFGI&marketplace=FLIPKART&page={}\"\n",
    "    \n",
    "    driver.get(base_url.format(n))\n",
    "    \n",
    "    for full_review in driver.find_elements_by_xpath(\"//div[@class='t-ZTKy']\"):\n",
    "        \n",
    "        Full_reviews.append(full_review.text)"
   ]
  },
  {
   "cell_type": "code",
   "execution_count": 185,
   "metadata": {},
   "outputs": [],
   "source": [
    "Final_reviews = [x.replace('\\n', '') for x in Full_reviews]"
   ]
  },
  {
   "cell_type": "code",
   "execution_count": 188,
   "metadata": {},
   "outputs": [],
   "source": [
    "Final_reviews = Final_reviews[:100]"
   ]
  },
  {
   "cell_type": "code",
   "execution_count": 189,
   "metadata": {},
   "outputs": [],
   "source": [
    "df_11 = pd.DataFrame({})\n",
    "df_11[\"Rating\"] = Ratings\n",
    "df_11[\"Review Summary\"] = Review_summs\n",
    "df_11[\"Full Review\"] = Final_reviews"
   ]
  },
  {
   "cell_type": "code",
   "execution_count": 190,
   "metadata": {},
   "outputs": [
    {
     "data": {
      "text/html": [
       "<div>\n",
       "<style scoped>\n",
       "    .dataframe tbody tr th:only-of-type {\n",
       "        vertical-align: middle;\n",
       "    }\n",
       "\n",
       "    .dataframe tbody tr th {\n",
       "        vertical-align: top;\n",
       "    }\n",
       "\n",
       "    .dataframe thead th {\n",
       "        text-align: right;\n",
       "    }\n",
       "</style>\n",
       "<table border=\"1\" class=\"dataframe\">\n",
       "  <thead>\n",
       "    <tr style=\"text-align: right;\">\n",
       "      <th></th>\n",
       "      <th>Rating</th>\n",
       "      <th>Review Summary</th>\n",
       "      <th>Full Review</th>\n",
       "    </tr>\n",
       "  </thead>\n",
       "  <tbody>\n",
       "    <tr>\n",
       "      <th>0</th>\n",
       "      <td>5</td>\n",
       "      <td>Brilliant</td>\n",
       "      <td>The Best Phone for the MoneyThe iPhone 11 offe...</td>\n",
       "    </tr>\n",
       "    <tr>\n",
       "      <th>1</th>\n",
       "      <td>5</td>\n",
       "      <td>Perfect product!</td>\n",
       "      <td>Amazing phone with great cameras and better ba...</td>\n",
       "    </tr>\n",
       "    <tr>\n",
       "      <th>2</th>\n",
       "      <td>5</td>\n",
       "      <td>Great product</td>\n",
       "      <td>Amazing Powerful and Durable Gadget.I’m am ver...</td>\n",
       "    </tr>\n",
       "    <tr>\n",
       "      <th>3</th>\n",
       "      <td>5</td>\n",
       "      <td>Worth every penny</td>\n",
       "      <td>Previously I was using one plus 3t it was a gr...</td>\n",
       "    </tr>\n",
       "    <tr>\n",
       "      <th>4</th>\n",
       "      <td>4</td>\n",
       "      <td>Good choice</td>\n",
       "      <td>So far it’s been an AMAZING experience coming ...</td>\n",
       "    </tr>\n",
       "  </tbody>\n",
       "</table>\n",
       "</div>"
      ],
      "text/plain": [
       "  Rating     Review Summary                                        Full Review\n",
       "0      5          Brilliant  The Best Phone for the MoneyThe iPhone 11 offe...\n",
       "1      5   Perfect product!  Amazing phone with great cameras and better ba...\n",
       "2      5      Great product  Amazing Powerful and Durable Gadget.I’m am ver...\n",
       "3      5  Worth every penny  Previously I was using one plus 3t it was a gr...\n",
       "4      4        Good choice  So far it’s been an AMAZING experience coming ..."
      ]
     },
     "execution_count": 190,
     "metadata": {},
     "output_type": "execute_result"
    }
   ],
   "source": [
    "df_11.head()"
   ]
  },
  {
   "cell_type": "markdown",
   "metadata": {},
   "source": [
    "#### Q8: Scrape data for first 100 sneakers you find when you visit flipkart.com and search for “sneakers” in the search field.\n",
    "You have to scrape 4 attributes of each sneaker :\n",
    "- 1. Brand\n",
    "- 2. Product Description\n",
    "- 3. Price\n",
    "- 4. discount %"
   ]
  },
  {
   "cell_type": "code",
   "execution_count": 191,
   "metadata": {},
   "outputs": [],
   "source": [
    "url = \"https://www.flipkart.com/\"\n",
    "driver.get(url)"
   ]
  },
  {
   "cell_type": "code",
   "execution_count": 192,
   "metadata": {},
   "outputs": [],
   "source": [
    "search_bar = driver.find_element_by_xpath(\"//div[@class='_3OO5Xc']/input\")"
   ]
  },
  {
   "cell_type": "code",
   "execution_count": 193,
   "metadata": {},
   "outputs": [],
   "source": [
    "search_bar.send_keys(\"sneakers\")"
   ]
  },
  {
   "cell_type": "code",
   "execution_count": 194,
   "metadata": {},
   "outputs": [],
   "source": [
    "search = driver.find_element_by_css_selector(\"#container > div > div._1kfTjk > div._1rH5Jn > div._2Xfa2_ > div._1cmsER > form > div > button\")"
   ]
  },
  {
   "cell_type": "code",
   "execution_count": 195,
   "metadata": {},
   "outputs": [],
   "source": [
    "search.click()"
   ]
  },
  {
   "cell_type": "code",
   "execution_count": 196,
   "metadata": {},
   "outputs": [],
   "source": [
    "base_url = \"https://www.flipkart.com/search?q=sneakers&otracker=search&otracker1=search&marketplace=FLIPKART&as-show=on&as=off&page={}\""
   ]
  },
  {
   "cell_type": "code",
   "execution_count": 198,
   "metadata": {},
   "outputs": [
    {
     "data": {
      "text/plain": [
       "'https://www.flipkart.com/search?q=sneakers&otracker=search&otracker1=search&marketplace=FLIPKART&as-show=on&as=off&page={}'"
      ]
     },
     "execution_count": 198,
     "metadata": {},
     "output_type": "execute_result"
    }
   ],
   "source": [
    "base_url"
   ]
  },
  {
   "cell_type": "code",
   "execution_count": 199,
   "metadata": {},
   "outputs": [],
   "source": [
    "brands_s = []\n",
    "\n",
    "for n in range(1,10):\n",
    "    \n",
    "    base_url = \"https://www.flipkart.com/search?q=sneakers&otracker=search&otracker1=search&marketplace=FLIPKART&as-show=on&as=off&page={}\"\n",
    "    \n",
    "    driver.get(base_url.format(n))\n",
    "    \n",
    "    for brand_s in driver.find_elements_by_xpath(\"//div[@class='_2WkVRV']\"):\n",
    "        \n",
    "        brands_s.append(brand_s.text)"
   ]
  },
  {
   "cell_type": "code",
   "execution_count": 202,
   "metadata": {},
   "outputs": [],
   "source": [
    "brands_s = brands_s[:100]"
   ]
  },
  {
   "cell_type": "code",
   "execution_count": 203,
   "metadata": {},
   "outputs": [
    {
     "data": {
      "text/plain": [
       "['bluemaker',\n",
       " 'Birde',\n",
       " 'Robbie jones',\n",
       " 'HOTSTYLE',\n",
       " 'Numenzo',\n",
       " 'Robbie jones',\n",
       " 'aadi',\n",
       " 'ORICUM',\n",
       " 'Stefano Rads',\n",
       " 'Shoes Bank',\n",
       " 'BRUTON',\n",
       " 'VIPSJAZZY',\n",
       " 'Birde',\n",
       " 'ARMADO',\n",
       " '\"trend\"',\n",
       " 'Robbie jones',\n",
       " 'bluemaker',\n",
       " 'Zsyto',\n",
       " 'World Wear Footwear',\n",
       " 'zovim',\n",
       " 'World Wear Footwear',\n",
       " '3SIX5',\n",
       " 'VORII',\n",
       " 'Wen Hawk',\n",
       " 'World Wear Footwear',\n",
       " 'Kraasa',\n",
       " 'restinfoot',\n",
       " 'HOTSTYLE',\n",
       " 'SPARX',\n",
       " \"LEVI'S\",\n",
       " 'Numenzo',\n",
       " 'Magnolia',\n",
       " 'SCATCHITE',\n",
       " 'BRUTON',\n",
       " 'Axter',\n",
       " 'Zorth',\n",
       " 'ROCKFIELD',\n",
       " 'T-ROCK',\n",
       " 'Jokatoo',\n",
       " 'BRUTON',\n",
       " 'Numenzo',\n",
       " 'bluemaker',\n",
       " 'Skymate',\n",
       " 'bluemaker',\n",
       " 'SHOELIFE',\n",
       " 'oxpeo',\n",
       " 'T-ROCK',\n",
       " 'Red Rose',\n",
       " 'T-ROCK',\n",
       " 'BRUTON',\n",
       " 'Absolute comfort',\n",
       " 'Onivixo',\n",
       " '\"trend\"',\n",
       " 'Numenzo',\n",
       " 'bluemaker',\n",
       " 'Airland',\n",
       " 'Ktiz',\n",
       " 'NATOINAL HUNT',\n",
       " 'zovim',\n",
       " 'Birde',\n",
       " 'Axter',\n",
       " 'M K FOOTWEAR',\n",
       " 'BLACK BOTTOM',\n",
       " 'ARMADO',\n",
       " 'TR',\n",
       " 'Lakhani touch',\n",
       " 'ESSENCE',\n",
       " 'D-SNEAKERZ',\n",
       " 'Deals4you',\n",
       " 'zovim',\n",
       " 'Numenzo',\n",
       " 'bluemaker',\n",
       " 'Creer',\n",
       " 'Wen Hawk',\n",
       " 'FASHION CITY',\n",
       " 'Adies',\n",
       " 'ESSENCE',\n",
       " 'Longwalk',\n",
       " 'KANEGGYE',\n",
       " \"LEVI'S\",\n",
       " 'India hub',\n",
       " 'Relfa',\n",
       " 'ESSENCE',\n",
       " 'bluemaker',\n",
       " 'ESSENCE',\n",
       " 'tigonis',\n",
       " 'Skymate',\n",
       " 'STRANGER BROTHERS',\n",
       " 'India hub',\n",
       " 'BRUTON',\n",
       " 'URBANBOX',\n",
       " 'Layasa',\n",
       " 'FILA',\n",
       " 'Numenzo',\n",
       " 'Nilatin',\n",
       " 'Englewood',\n",
       " 'PUMA',\n",
       " 'Robbie jones',\n",
       " 'PUMA',\n",
       " 'Birde']"
      ]
     },
     "execution_count": 203,
     "metadata": {},
     "output_type": "execute_result"
    }
   ],
   "source": [
    "brands_s"
   ]
  },
  {
   "cell_type": "code",
   "execution_count": 204,
   "metadata": {},
   "outputs": [],
   "source": [
    "prices_s = []\n",
    "\n",
    "for n in range(1,10):\n",
    "    \n",
    "    base_url = \"https://www.flipkart.com/search?q=sneakers&otracker=search&otracker1=search&marketplace=FLIPKART&as-show=on&as=off&page={}\"\n",
    "    \n",
    "    driver.get(base_url.format(n))\n",
    "    \n",
    "    for price_s in driver.find_elements_by_xpath(\"//div[@class='_30jeq3']\"):\n",
    "        \n",
    "        prices_s.append(price_s.text)"
   ]
  },
  {
   "cell_type": "code",
   "execution_count": 208,
   "metadata": {},
   "outputs": [],
   "source": [
    "prices_s = prices_s[:100]"
   ]
  },
  {
   "cell_type": "code",
   "execution_count": 209,
   "metadata": {},
   "outputs": [
    {
     "data": {
      "text/plain": [
       "['₹474',\n",
       " '₹471',\n",
       " '₹379',\n",
       " '₹283',\n",
       " '₹398',\n",
       " '₹474',\n",
       " '₹298',\n",
       " '₹377',\n",
       " '₹242',\n",
       " '₹331',\n",
       " '₹499',\n",
       " '₹419',\n",
       " '₹842',\n",
       " '₹498',\n",
       " '₹449',\n",
       " '₹428',\n",
       " '₹474',\n",
       " '₹328',\n",
       " '₹499',\n",
       " '₹499',\n",
       " '₹240',\n",
       " '₹214',\n",
       " '₹379',\n",
       " '₹398',\n",
       " '₹240',\n",
       " '₹416',\n",
       " '₹379',\n",
       " '₹299',\n",
       " '₹965',\n",
       " '₹1,499',\n",
       " '₹539',\n",
       " '₹305',\n",
       " '₹398',\n",
       " '₹299',\n",
       " '₹299',\n",
       " '₹599',\n",
       " '₹399',\n",
       " '₹378',\n",
       " '₹455',\n",
       " '₹404',\n",
       " '₹265',\n",
       " '₹390',\n",
       " '₹429',\n",
       " '₹474',\n",
       " '₹283',\n",
       " '₹240',\n",
       " '₹1,975',\n",
       " '₹368',\n",
       " '₹299',\n",
       " '₹499',\n",
       " '₹474',\n",
       " '₹499',\n",
       " '₹599',\n",
       " '₹539',\n",
       " '₹442',\n",
       " '₹509',\n",
       " '₹699',\n",
       " '₹299',\n",
       " '₹389',\n",
       " '₹471',\n",
       " '₹474',\n",
       " '₹599',\n",
       " '₹442',\n",
       " '₹498',\n",
       " '₹205',\n",
       " '₹664',\n",
       " '₹599',\n",
       " '₹599',\n",
       " '₹359',\n",
       " '₹499',\n",
       " '₹1,220',\n",
       " '₹328',\n",
       " '₹290',\n",
       " '₹398',\n",
       " '₹635',\n",
       " '₹359',\n",
       " '₹463',\n",
       " '₹464',\n",
       " '₹699',\n",
       " '₹1,499',\n",
       " '₹224',\n",
       " '₹449',\n",
       " '₹449',\n",
       " '₹474',\n",
       " '₹398',\n",
       " '₹499',\n",
       " '₹449',\n",
       " '₹299',\n",
       " '₹367',\n",
       " '₹499',\n",
       " '₹479',\n",
       " '₹471',\n",
       " '₹474',\n",
       " '₹539',\n",
       " '₹474',\n",
       " '₹449',\n",
       " '₹3,201',\n",
       " '₹299',\n",
       " '₹349',\n",
       " '₹471']"
      ]
     },
     "execution_count": 209,
     "metadata": {},
     "output_type": "execute_result"
    }
   ],
   "source": [
    "prices_s"
   ]
  },
  {
   "cell_type": "code",
   "execution_count": 210,
   "metadata": {},
   "outputs": [],
   "source": [
    "discounts_s = []\n",
    "\n",
    "for n in range(1,10):\n",
    "    \n",
    "    base_url = \"https://www.flipkart.com/search?q=sneakers&otracker=search&otracker1=search&marketplace=FLIPKART&as-show=on&as=off&page={}\"\n",
    "    \n",
    "    driver.get(base_url.format(n))\n",
    "    \n",
    "    for discount_s in driver.find_elements_by_xpath(\"//div[@class='_3Ay6Sb']/span\"):\n",
    "        \n",
    "        discounts_s.append(discount_s.text)"
   ]
  },
  {
   "cell_type": "code",
   "execution_count": 213,
   "metadata": {},
   "outputs": [],
   "source": [
    "discounts_s = discounts_s[:100]"
   ]
  },
  {
   "cell_type": "code",
   "execution_count": 214,
   "metadata": {},
   "outputs": [
    {
     "data": {
      "text/plain": [
       "['52% off',\n",
       " '52% off',\n",
       " '62% off',\n",
       " '43% off',\n",
       " '60% off',\n",
       " '52% off',\n",
       " '70% off',\n",
       " '62% off',\n",
       " '65% off',\n",
       " '66% off',\n",
       " '58% off',\n",
       " '85% off',\n",
       " '57% off',\n",
       " '50% off',\n",
       " '77% off',\n",
       " '57% off',\n",
       " '52% off',\n",
       " '74% off',\n",
       " '81% off',\n",
       " '50% off',\n",
       " '51% off',\n",
       " '57% off',\n",
       " '62% off',\n",
       " '60% off',\n",
       " '40% off',\n",
       " '58% off',\n",
       " '62% off',\n",
       " '51% off',\n",
       " '28% off',\n",
       " '50% off',\n",
       " '69% off',\n",
       " '46% off',\n",
       " '60% off',\n",
       " '76% off',\n",
       " '78% off',\n",
       " '62% off',\n",
       " '69% off',\n",
       " '60% off',\n",
       " '44% off',\n",
       " '83% off',\n",
       " '46% off',\n",
       " '80% off',\n",
       " '57% off',\n",
       " '52% off',\n",
       " '43% off',\n",
       " '51% off',\n",
       " '34% off',\n",
       " '63% off',\n",
       " '76% off',\n",
       " '85% off',\n",
       " '52% off',\n",
       " '66% off',\n",
       " '70% off',\n",
       " '46% off',\n",
       " '55% off',\n",
       " '66% off',\n",
       " '46% off',\n",
       " '70% off',\n",
       " '61% off',\n",
       " '52% off',\n",
       " '52% off',\n",
       " '40% off',\n",
       " '55% off',\n",
       " '50% off',\n",
       " '58% off',\n",
       " '33% off',\n",
       " '40% off',\n",
       " '14% off',\n",
       " '64% off',\n",
       " '50% off',\n",
       " '63% off',\n",
       " '67% off',\n",
       " '70% off',\n",
       " '60% off',\n",
       " '36% off',\n",
       " '64% off',\n",
       " '53% off',\n",
       " '53% off',\n",
       " '50% off',\n",
       " '55% off',\n",
       " '55% off',\n",
       " '55% off',\n",
       " '52% off',\n",
       " '60% off',\n",
       " '50% off',\n",
       " '55% off',\n",
       " '76% off',\n",
       " '63% off',\n",
       " '85% off',\n",
       " '88% off',\n",
       " '60% off',\n",
       " '63% off',\n",
       " '46% off',\n",
       " '52% off',\n",
       " '55% off',\n",
       " '54% off',\n",
       " '78% off',\n",
       " '65% off',\n",
       " '52% off',\n",
       " '62% off']"
      ]
     },
     "execution_count": 214,
     "metadata": {},
     "output_type": "execute_result"
    }
   ],
   "source": [
    "discounts_s"
   ]
  },
  {
   "cell_type": "code",
   "execution_count": 215,
   "metadata": {},
   "outputs": [],
   "source": [
    "urls = []\n",
    "\n",
    "for n in range(1,10):\n",
    "    \n",
    "    base_url = \"https://www.flipkart.com/search?q=sneakers&otracker=search&otracker1=search&marketplace=FLIPKART&as-show=on&as=off&page={}\"\n",
    "    \n",
    "    driver.get(base_url.format(n))\n",
    "    \n",
    "    for url in driver.find_elements_by_xpath(\"//a[@class='IRpwTa']\"):\n",
    "        \n",
    "        urls.append(url.get_attribute(\"href\"))"
   ]
  },
  {
   "cell_type": "code",
   "execution_count": 217,
   "metadata": {},
   "outputs": [],
   "source": [
    "urls = urls[:100]"
   ]
  },
  {
   "cell_type": "code",
   "execution_count": 218,
   "metadata": {},
   "outputs": [
    {
     "data": {
      "text/plain": [
       "['https://www.flipkart.com/bluemaker-sneakers-men/p/itm3694200bdaf02?pid=SHOFP4YXDPVUJ8DT&lid=LSTSHOFP4YXDPVUJ8DTRTCPB1&marketplace=FLIPKART&q=sneakers&store=osp%2Fcil%2Fe1f&srno=s_1_1&otracker=search&otracker1=search&fm=organic&iid=en_zLc9nVk6UdCCKP4kZpienJbSXLuMfbAg1ethYSKFdk4dbkIgg6XhWDfZXyAv%2B0y%2Ff83rJEye4ow38hBIc2I90g%3D%3D&ppt=None&ppn=None&ssid=47h5kuqtn40000001621501997466&qH=a1743c0d39461290',\n",
       " 'https://www.flipkart.com/birde-combo-pack-2-casual-shoes-sneakers-men/p/itm41c5253e35688?pid=SHOFVU6FQUJSHZFH&lid=LSTSHOFVU6FQUJSHZFHPLX4ZB&marketplace=FLIPKART&q=sneakers&store=osp%2Fcil%2Fe1f&srno=s_1_2&otracker=search&otracker1=search&fm=organic&iid=en_zLc9nVk6UdCCKP4kZpienJbSXLuMfbAg1ethYSKFdk5gttWeZ67%2FokM6v%2FxKH2UDap1eEtTBQXrrNqNrSoZYFw%3D%3D&ppt=None&ppn=None&ssid=47h5kuqtn40000001621501997466&qH=a1743c0d39461290',\n",
       " 'https://www.flipkart.com/robbie-jones-casual-sneakers-shoes-men/p/itm5ee18096b212e?pid=SHOFVJG9AWTPN5GJ&lid=LSTSHOFVJG9AWTPN5GJT4JSYQ&marketplace=FLIPKART&q=sneakers&store=osp%2Fcil%2Fe1f&srno=s_1_3&otracker=search&otracker1=search&fm=organic&iid=ed09b363-900e-46cd-803b-c83c6fcbba3d.SHOFVJG9AWTPN5GJ.SEARCH&ppt=None&ppn=None&ssid=47h5kuqtn40000001621501997466&qH=a1743c0d39461290',\n",
       " 'https://www.flipkart.com/hotstyle-sneakers-men/p/itmd61642c1b04ea?pid=SHOFQ3GJZ5HSMZKM&lid=LSTSHOFQ3GJZ5HSMZKMFINX2I&marketplace=FLIPKART&q=sneakers&store=osp%2Fcil%2Fe1f&srno=s_1_4&otracker=search&otracker1=search&fm=organic&iid=ed09b363-900e-46cd-803b-c83c6fcbba3d.SHOFQ3GJZ5HSMZKM.SEARCH&ppt=None&ppn=None&ssid=47h5kuqtn40000001621501997466&qH=a1743c0d39461290',\n",
       " 'https://www.flipkart.com/numenzo-sneakers-men/p/itm072bfb0c5e869?pid=SHOFZ4RGEGXFYHY9&lid=LSTSHOFZ4RGEGXFYHY9UPNWTY&marketplace=FLIPKART&q=sneakers&store=osp%2Fcil%2Fe1f&srno=s_1_5&otracker=search&otracker1=search&fm=organic&iid=ed09b363-900e-46cd-803b-c83c6fcbba3d.SHOFZ4RGEGXFYHY9.SEARCH&ppt=None&ppn=None&ssid=47h5kuqtn40000001621501997466&qH=a1743c0d39461290',\n",
       " 'https://www.flipkart.com/robbie-jones-sneakers-men/p/itmb630cbefaaf97?pid=SHOGF4HZY4QYKZ6M&lid=LSTSHOGF4HZY4QYKZ6MZSLDPN&marketplace=FLIPKART&q=sneakers&store=osp%2Fcil%2Fe1f&srno=s_1_6&otracker=search&otracker1=search&fm=organic&iid=ed09b363-900e-46cd-803b-c83c6fcbba3d.SHOGF4HZY4QYKZ6M.SEARCH&ppt=None&ppn=None&ssid=47h5kuqtn40000001621501997466&qH=a1743c0d39461290',\n",
       " 'https://www.flipkart.com/aadi-sneakers-men/p/itm2b3542f509660?pid=SHOFGHBSMB8ZCGJH&lid=LSTSHOFGHBSMB8ZCGJH57D9EV&marketplace=FLIPKART&q=sneakers&store=osp%2Fcil%2Fe1f&srno=s_1_7&otracker=search&otracker1=search&fm=organic&iid=ed09b363-900e-46cd-803b-c83c6fcbba3d.SHOFGHBSMB8ZCGJH.SEARCH&ppt=None&ppn=None&ssid=47h5kuqtn40000001621501997466&qH=a1743c0d39461290',\n",
       " 'https://www.flipkart.com/oricum-combo-pack-2-casual-sneaker-shoes-men-sneakers/p/itma5aedefdee8eb?pid=SHOFQ4KHSV9FKZYC&lid=LSTSHOFQ4KHSV9FKZYCVASKZA&marketplace=FLIPKART&q=sneakers&store=osp%2Fcil%2Fe1f&srno=s_1_8&otracker=search&otracker1=search&fm=organic&iid=ed09b363-900e-46cd-803b-c83c6fcbba3d.SHOFQ4KHSV9FKZYC.SEARCH&ppt=None&ppn=None&ssid=47h5kuqtn40000001621501997466&qH=a1743c0d39461290',\n",
       " 'https://www.flipkart.com/shoes-bank-white-sneaker-men-s-boy-s-sneakers-men/p/itmf9p2zdypz2jyt?pid=SHOF9Z766NFHAEVE&lid=LSTSHOF9Z766NFHAEVEQA8YL7&marketplace=FLIPKART&q=sneakers&store=osp%2Fcil%2Fe1f&srno=s_1_10&otracker=search&otracker1=search&fm=organic&iid=ed09b363-900e-46cd-803b-c83c6fcbba3d.SHOF9Z766NFHAEVE.SEARCH&ppt=None&ppn=None&ssid=47h5kuqtn40000001621501997466&qH=a1743c0d39461290',\n",
       " 'https://www.flipkart.com/bruton-combo-pack-4-canvas-sneakers-men/p/itmc6896607b3f0f?pid=SHOFUXXZZEU8Z3E6&lid=LSTSHOFUXXZZEU8Z3E68COZPZ&marketplace=FLIPKART&q=sneakers&store=osp%2Fcil%2Fe1f&srno=s_1_12&otracker=search&otracker1=search&fm=organic&iid=ed09b363-900e-46cd-803b-c83c6fcbba3d.SHOFUXXZZEU8Z3E6.SEARCH&ppt=None&ppn=None&ssid=47h5kuqtn40000001621501997466&qH=a1743c0d39461290',\n",
       " 'https://www.flipkart.com/birde-combo-pack-4-casual-shoes-sneakers-men/p/itm3915ef2ffae83?pid=SHOGFAZ9GTDPBCWR&lid=LSTSHOGFAZ9GTDPBCWRHXLWA5&marketplace=FLIPKART&q=sneakers&store=osp%2Fcil%2Fe1f&srno=s_1_13&otracker=search&otracker1=search&fm=organic&iid=ed09b363-900e-46cd-803b-c83c6fcbba3d.SHOGFAZ9GTDPBCWR.SEARCH&ppt=None&ppn=None&ssid=47h5kuqtn40000001621501997466&qH=a1743c0d39461290',\n",
       " 'https://www.flipkart.com/armado-casual-shoes-mens-combo-ar-1658-1619-multicolor-pack-2-sneakers-men/p/itm91d58a7e3a586?pid=SHOFY86GKV6WKYEB&lid=LSTSHOFY86GKV6WKYEB33MWTK&marketplace=FLIPKART&q=sneakers&store=osp%2Fcil%2Fe1f&srno=s_1_14&otracker=search&otracker1=search&fm=organic&iid=en_zLc9nVk6UdCCKP4kZpienJbSXLuMfbAg1ethYSKFdk6rj56NR4fOrbsrGQu4YKsAvQciihDptwS5UweVXMv3IQ%3D%3D&ppt=None&ppn=None&ssid=47h5kuqtn40000001621501997466&qH=a1743c0d39461290',\n",
       " 'https://www.flipkart.com/trend-fashionable-casual-sneakers-shoes-men/p/itm504712db3822a?pid=SHOFQ6Y6KKNGE2GW&lid=LSTSHOFQ6Y6KKNGE2GWFZO0XQ&marketplace=FLIPKART&q=sneakers&store=osp%2Fcil%2Fe1f&srno=s_1_15&otracker=search&otracker1=search&fm=organic&iid=ed09b363-900e-46cd-803b-c83c6fcbba3d.SHOFQ6Y6KKNGE2GW.SEARCH&ppt=None&ppn=None&ssid=47h5kuqtn40000001621501997466&qH=a1743c0d39461290',\n",
       " 'https://www.flipkart.com/robbie-jones-casual-sneakers-black-shoes-men/p/itm24381c8c53d77?pid=SHOFXU3SQAMZVS6N&lid=LSTSHOFXU3SQAMZVS6NV2CTO8&marketplace=FLIPKART&q=sneakers&store=osp%2Fcil%2Fe1f&srno=s_1_16&otracker=search&otracker1=search&fm=organic&iid=ed09b363-900e-46cd-803b-c83c6fcbba3d.SHOFXU3SQAMZVS6N.SEARCH&ppt=None&ppn=None&ssid=47h5kuqtn40000001621501997466&qH=a1743c0d39461290',\n",
       " 'https://www.flipkart.com/bluemaker-casual-men-blue-06-sneakers/p/itm3f838f669177a?pid=SHOFUSH75ABRTZMY&lid=LSTSHOFUSH75ABRTZMY8H410M&marketplace=FLIPKART&q=sneakers&store=osp%2Fcil%2Fe1f&srno=s_1_17&otracker=search&otracker1=search&fm=organic&iid=ed09b363-900e-46cd-803b-c83c6fcbba3d.SHOFUSH75ABRTZMY.SEARCH&ppt=None&ppn=None&ssid=47h5kuqtn40000001621501997466&qH=a1743c0d39461290',\n",
       " 'https://www.flipkart.com/world-wear-footwear-combo-pack-4-latest-collection-stylish-casual-loafer-sneakers-shoes-men/p/itm4d7438636eeaa?pid=SHOFZYY2HTUKFGCB&lid=LSTSHOFZYY2HTUKFGCBMWD0RN&marketplace=FLIPKART&q=sneakers&store=osp%2Fcil%2Fe1f&srno=s_1_19&otracker=search&otracker1=search&fm=organic&iid=ed09b363-900e-46cd-803b-c83c6fcbba3d.SHOFZYY2HTUKFGCB.SEARCH&ppt=None&ppn=None&ssid=47h5kuqtn40000001621501997466&qH=a1743c0d39461290',\n",
       " 'https://www.flipkart.com/zovim-shoes-men-sneakers/p/itmf3yyhphvzyswe?pid=SHOEXCXV6XPGTYPM&lid=LSTSHOEXCXV6XPGTYPMGBZQLK&marketplace=FLIPKART&q=sneakers&store=osp%2Fcil%2Fe1f&srno=s_1_20&otracker=search&otracker1=search&fm=organic&iid=en_zLc9nVk6UdCCKP4kZpienJbSXLuMfbAg1ethYSKFdk5SPxwDlFj0vF6jJO%2Fc7XBRj7NE1wVezC0G2bgJ6FFtJQ%3D%3D&ppt=None&ppn=None&ssid=47h5kuqtn40000001621501997466&qH=a1743c0d39461290',\n",
       " 'https://www.flipkart.com/world-wear-footwear-5011-latest-collection-stylish-casual-loafer-sneakers-shoes-men/p/itm01930e5430e12?pid=SHOFMY6NYMGEHRHX&lid=LSTSHOFMY6NYMGEHRHXR2SLIQ&marketplace=FLIPKART&q=sneakers&store=osp%2Fcil%2Fe1f&srno=s_1_21&otracker=search&otracker1=search&fm=organic&iid=ed09b363-900e-46cd-803b-c83c6fcbba3d.SHOFMY6NYMGEHRHX.SEARCH&ppt=None&ppn=None&ssid=47h5kuqtn40000001621501997466&qH=a1743c0d39461290',\n",
       " 'https://www.flipkart.com/3six5-orifwsh-or-1077-sneakers-men/p/itmf9zncmq687jsh?pid=SHOF9ZGPNJ2YSZ2W&lid=LSTSHOF9ZGPNJ2YSZ2WADX8DE&marketplace=FLIPKART&q=sneakers&store=osp%2Fcil%2Fe1f&srno=s_1_22&otracker=search&otracker1=search&fm=organic&iid=ed09b363-900e-46cd-803b-c83c6fcbba3d.SHOF9ZGPNJ2YSZ2W.SEARCH&ppt=None&ppn=None&ssid=47h5kuqtn40000001621501997466&qH=a1743c0d39461290',\n",
       " 'https://www.flipkart.com/vorii-latest-stylish-casual-sneakers-men-lace-up-lightweight-shoes-running-walking-gym-trekking-running-black/p/itm777adc3721ab6?pid=SHOFZWZ9ZKX9GVVT&lid=LSTSHOFZWZ9ZKX9GVVTPO2NJ6&marketplace=FLIPKART&q=sneakers&store=osp%2Fcil%2Fe1f&srno=s_1_23&otracker=search&otracker1=search&fm=organic&iid=ed09b363-900e-46cd-803b-c83c6fcbba3d.SHOFZWZ9ZKX9GVVT.SEARCH&ppt=None&ppn=None&ssid=47h5kuqtn40000001621501997466&qH=a1743c0d39461290',\n",
       " 'https://www.flipkart.com/wen-hawk-latest-stylish-casual-sneakers-men-lace-up-lightweight-shoes-white/p/itm0cd45654fa047?pid=SHOFWTHJK3R9UYVF&lid=LSTSHOFWTHJK3R9UYVFUHJWSW&marketplace=FLIPKART&q=sneakers&store=osp%2Fcil%2Fe1f&srno=s_1_24&otracker=search&otracker1=search&fm=organic&iid=en_zLc9nVk6UdCCKP4kZpienJbSXLuMfbAg1ethYSKFdk7ylgtuOKwCm1odGgJQbOKEYFz9B5mofzif25chKfCzIg%3D%3D&ppt=None&ppn=None&ssid=47h5kuqtn40000001621501997466&qH=a1743c0d39461290',\n",
       " 'https://www.flipkart.com/hotstyle-sneakers-men/p/itm3b8928a42acd7?pid=SHOFQ3GJZKAU528G&lid=LSTSHOFQ3GJZKAU528GFWYEUO&marketplace=FLIPKART&q=sneakers&store=osp%2Fcil%2Fe1f&srno=s_1_25&otracker=search&otracker1=search&fm=organic&iid=ed09b363-900e-46cd-803b-c83c6fcbba3d.SHOFQ3GJZKAU528G.SEARCH&ppt=None&ppn=None&ssid=47h5kuqtn40000001621501997466&qH=a1743c0d39461290',\n",
       " 'https://www.flipkart.com/kraasa-series-7-sneakers-men/p/itmda307099c343b?pid=SHOGF3MZ5VCXD7HG&lid=LSTSHOGF3MZ5VCXD7HGSAF6TP&marketplace=FLIPKART&q=sneakers&store=osp%2Fcil%2Fe1f&srno=s_1_26&otracker=search&otracker1=search&fm=organic&iid=ed09b363-900e-46cd-803b-c83c6fcbba3d.SHOGF3MZ5VCXD7HG.SEARCH&ppt=None&ppn=None&ssid=47h5kuqtn40000001621501997466&qH=a1743c0d39461290',\n",
       " 'https://www.flipkart.com/restinfoot-casual-shoes-sneakers-men/p/itmfeuvtqzmpswx7?pid=SHOFEUP9KHS4RZZX&lid=LSTSHOFEUP9KHS4RZZXC1XQYS&marketplace=FLIPKART&q=sneakers&store=osp%2Fcil%2Fe1f&srno=s_1_27&otracker=search&otracker1=search&fm=organic&iid=ed09b363-900e-46cd-803b-c83c6fcbba3d.SHOFEUP9KHS4RZZX.SEARCH&ppt=None&ppn=None&ssid=47h5kuqtn40000001621501997466&qH=a1743c0d39461290',\n",
       " 'https://www.flipkart.com/world-wear-footwear-men-5014-latest-collection-stylish-casual-sports-loafers-shoes-sneakers/p/itme2c602df3a559?pid=SHOFNKABXC5Z6B6Z&lid=LSTSHOFNKABXC5Z6B6ZPEG7CD&marketplace=FLIPKART&q=sneakers&store=osp%2Fcil%2Fe1f&srno=s_1_28&otracker=search&otracker1=search&fm=organic&iid=ed09b363-900e-46cd-803b-c83c6fcbba3d.SHOFNKABXC5Z6B6Z.SEARCH&ppt=None&ppn=None&ssid=47h5kuqtn40000001621501997466&qH=a1743c0d39461290',\n",
       " 'https://www.flipkart.com/sparx-sm-482-sneakers-men/p/itmdc045a01d0c82?pid=SHOFK93VEZB8ABWP&lid=LSTSHOFK93VEZB8ABWPXHMGBX&marketplace=FLIPKART&q=sneakers&store=osp%2Fcil%2Fe1f&srno=s_1_29&otracker=search&otracker1=search&fm=organic&iid=ed09b363-900e-46cd-803b-c83c6fcbba3d.SHOFK93VEZB8ABWP.SEARCH&ppt=None&ppn=None&ssid=47h5kuqtn40000001621501997466&qH=a1743c0d39461290',\n",
       " 'https://www.flipkart.com/levi-s-basic-2-0-sneakers-men/p/itm211abcd7ae1f0?pid=SHOFHTPQJGZ7CZAV&lid=LSTSHOFHTPQJGZ7CZAV12GUWV&marketplace=FLIPKART&q=sneakers&store=osp%2Fcil%2Fe1f&srno=s_1_30&otracker=search&otracker1=search&fm=organic&iid=en_zLc9nVk6UdCCKP4kZpienJbSXLuMfbAg1ethYSKFdk5FBbgMqYD9A3O%2FiKZYs1uGnHT9XofIGiFRp7J8E0kOQA%3D%3D&ppt=None&ppn=None&ssid=47h5kuqtn40000001621501997466&qH=a1743c0d39461290',\n",
       " 'https://www.flipkart.com/magnolia-white-sneakers-men/p/itmf7n8d9pspsdvp?pid=SHOF7NYRYRMUHBUF&lid=LSTSHOF7NYRYRMUHBUFNU3NPK&marketplace=FLIPKART&q=sneakers&store=osp%2Fcil%2Fe1f&srno=s_1_31&otracker=search&otracker1=search&fm=organic&iid=ed09b363-900e-46cd-803b-c83c6fcbba3d.SHOF7NYRYRMUHBUF.SEARCH&ppt=None&ppn=None&ssid=47h5kuqtn40000001621501997466&qH=a1743c0d39461290',\n",
       " 'https://www.flipkart.com/numenzo-casual-sneaker-sneakers-men/p/itmc448bd9719fe1?pid=SHOFUZ7J25JWNHYD&lid=LSTSHOFUZ7J25JWNHYD4GXSE4&marketplace=FLIPKART&q=sneakers&store=osp%2Fcil%2Fe1f&srno=s_1_32&otracker=search&otracker1=search&fm=organic&iid=ed09b363-900e-46cd-803b-c83c6fcbba3d.SHOFUZ7J25JWNHYD.SEARCH&ppt=None&ppn=None&ssid=47h5kuqtn40000001621501997466&qH=a1743c0d39461290',\n",
       " 'https://www.flipkart.com/scatchite-sneakers-men/p/itmc13680b1d9604?pid=SHOFUDSUUG8AAMZZ&lid=LSTSHOFUDSUUG8AAMZZXEJRH6&marketplace=FLIPKART&q=sneakers&store=osp%2Fcil%2Fe1f&srno=s_1_33&otracker=search&otracker1=search&fm=organic&iid=ed09b363-900e-46cd-803b-c83c6fcbba3d.SHOFUDSUUG8AAMZZ.SEARCH&ppt=None&ppn=None&ssid=47h5kuqtn40000001621501997466&qH=a1743c0d39461290',\n",
       " 'https://www.flipkart.com/bruton-sneakers-men/p/itm682f3208269f8?pid=SHOGF8Y2CYDXFNW2&lid=LSTSHOGF8Y2CYDXFNW2PDIS69&marketplace=FLIPKART&q=sneakers&store=osp%2Fcil%2Fe1f&srno=s_1_34&otracker=search&otracker1=search&fm=organic&iid=en_zLc9nVk6UdCCKP4kZpienJbSXLuMfbAg1ethYSKFdk7HGBRKz9wZSTW%2BYCghdmKUPZ%2FkAc3ZMF3syS0A8bfF1w%3D%3D&ppt=None&ppn=None&ssid=47h5kuqtn40000001621501997466&qH=a1743c0d39461290',\n",
       " 'https://www.flipkart.com/axter-combo-pack-2-latest-collection-stylish-casual-loafer-sneakers-shoes-men/p/itm370f1a4b95164?pid=SHOFN3ZBNGY2Q9C2&lid=LSTSHOFN3ZBNGY2Q9C2FJARWE&marketplace=FLIPKART&q=sneakers&store=osp%2Fcil%2Fe1f&srno=s_1_35&otracker=search&otracker1=search&fm=organic&iid=ed09b363-900e-46cd-803b-c83c6fcbba3d.SHOFN3ZBNGY2Q9C2.SEARCH&ppt=None&ppn=None&ssid=47h5kuqtn40000001621501997466&qH=a1743c0d39461290',\n",
       " 'https://www.flipkart.com/t-rock-synthetic-leather-casual-partywear-wedding-sneakers-shoes-men/p/itmfhkz7qghnktdg?pid=SHOFHKH6B39PV5HE&lid=LSTSHOFHKH6B39PV5HE3W1SEV&marketplace=FLIPKART&q=sneakers&store=osp%2Fcil%2Fe1f&srno=s_1_36&otracker=search&otracker1=search&fm=organic&iid=ed09b363-900e-46cd-803b-c83c6fcbba3d.SHOFHKH6B39PV5HE.SEARCH&ppt=None&ppn=None&ssid=47h5kuqtn40000001621501997466&qH=a1743c0d39461290',\n",
       " 'https://www.flipkart.com/jokatoo-sneakers-men/p/itmbc07ae8e0f5fc?pid=SHOFMKKU62AY2JBF&lid=LSTSHOFMKKU62AY2JBF3GEHGJ&marketplace=FLIPKART&q=sneakers&store=osp%2Fcil%2Fe1f&srno=s_1_37&otracker=search&otracker1=search&fm=organic&iid=ed09b363-900e-46cd-803b-c83c6fcbba3d.SHOFMKKU62AY2JBF.SEARCH&ppt=None&ppn=None&ssid=47h5kuqtn40000001621501997466&qH=a1743c0d39461290',\n",
       " 'https://www.flipkart.com/rockfield-sneakers-men/p/itm2b9ef0a76236b?pid=SHOFVTURVUR6RTRU&lid=LSTSHOFVTURVUR6RTRURO0EIY&marketplace=FLIPKART&q=sneakers&store=osp%2Fcil%2Fe1f&srno=s_1_38&otracker=search&otracker1=search&fm=organic&iid=ed09b363-900e-46cd-803b-c83c6fcbba3d.SHOFVTURVUR6RTRU.SEARCH&ppt=None&ppn=None&ssid=47h5kuqtn40000001621501997466&qH=a1743c0d39461290',\n",
       " 'https://www.flipkart.com/d-sneakerz-casual-partywear-sneakers-shoes-men-s-boys-white-color-men/p/itmf3xujnyvhbeqh?pid=SHOFFT35TZJFPTA4&lid=LSTSHOFFT35TZJFPTA4GQXUMX&marketplace=FLIPKART&q=sneakers&store=osp%2Fcil%2Fe1f&srno=s_1_39&otracker=search&otracker1=search&fm=organic&iid=ed09b363-900e-46cd-803b-c83c6fcbba3d.SHOFFT35TZJFPTA4.SEARCH&ppt=None&ppn=None&ssid=47h5kuqtn40000001621501997466&qH=a1743c0d39461290',\n",
       " 'https://www.flipkart.com/levi-s-basic-2-0-sneakers-men/p/itm8ade68f8cdd6e?pid=SHOFHTPTJQVDFEVY&lid=LSTSHOFHTPTJQVDFEVYM0MK7R&marketplace=FLIPKART&q=sneakers&store=osp%2Fcil%2Fe1f&srno=s_1_40&otracker=search&otracker1=search&fm=organic&iid=en_zLc9nVk6UdCCKP4kZpienJbSXLuMfbAg1ethYSKFdk4U%2B3YURM5SsqGYnADCElJh3KFMM%2F6qugJskFpYp%2F%2F4IA%3D%3D&ppt=None&ppn=None&ssid=47h5kuqtn40000001621501997466&qH=a1743c0d39461290',\n",
       " 'https://www.flipkart.com/airland-shoe-sneakers-men/p/itm1afbf93d2e019?pid=SHOFZ37YEQPE4ZG9&lid=LSTSHOFZ37YEQPE4ZG98YACHE&marketplace=FLIPKART&q=sneakers&store=osp%2Fcil%2Fe1f&srno=s_2_41&otracker=search&otracker1=search&fm=organic&iid=e2f1a52d-b06f-44cb-afbe-9c2a64cd1beb.SHOFZ37YEQPE4ZG9.SEARCH&ppt=None&ppn=None&ssid=0rd2zv49v40000001621502001554&qH=a1743c0d39461290',\n",
       " 'https://www.flipkart.com/india-hub-high-quality-casual-sneaker-shoes-sneakers-men/p/itm446431fd2adc4?pid=SHOGYY9GXBMZDYGJ&lid=LSTSHOGYY9GXBMZDYGJDSMK72&marketplace=FLIPKART&q=sneakers&store=osp%2Fcil%2Fe1f&srno=s_2_42&otracker=search&otracker1=search&fm=organic&iid=e2f1a52d-b06f-44cb-afbe-9c2a64cd1beb.SHOGYY9GXBMZDYGJ.SEARCH&ppt=None&ppn=None&ssid=0rd2zv49v40000001621502001554&qH=a1743c0d39461290',\n",
       " 'https://www.flipkart.com/numenzo-sneakers-men/p/itm8344e47bb0f3d?pid=SHOFZ4RG3DVUGBUQ&lid=LSTSHOFZ4RG3DVUGBUQCQG1YX&marketplace=FLIPKART&q=sneakers&store=osp%2Fcil%2Fe1f&srno=s_2_43&otracker=search&otracker1=search&fm=organic&iid=e2f1a52d-b06f-44cb-afbe-9c2a64cd1beb.SHOFZ4RG3DVUGBUQ.SEARCH&ppt=None&ppn=None&ssid=0rd2zv49v40000001621502001554&qH=a1743c0d39461290',\n",
       " 'https://www.flipkart.com/bluemaker-sneakers-men/p/itm3694200bdaf02?pid=SHOFP4YXDPVUJ8DT&lid=LSTSHOFP4YXDPVUJ8DTRTCPB1&marketplace=FLIPKART&q=sneakers&store=osp%2Fcil%2Fe1f&srno=s_2_44&otracker=search&otracker1=search&fm=organic&iid=en_yBsEMJAENuuU80fUgH3pJOrkfXxyQzzhXpAwmrRWNv45m%2FZaVjgQaKvulCvQUd9efYeHtHVacrgj8U8bxcTNKg%3D%3D&ppt=None&ppn=None&ssid=0rd2zv49v40000001621502001554&qH=a1743c0d39461290',\n",
       " 'https://www.flipkart.com/birde-men-s-stylish-casual-shoes-sneakers-men/p/itmaddd925a85737?pid=SHOFYTVEHVFRMXHN&lid=LSTSHOFYTVEHVFRMXHNFB7EJK&marketplace=FLIPKART&q=sneakers&store=osp%2Fcil%2Fe1f&srno=s_2_45&otracker=search&otracker1=search&fm=organic&iid=e2f1a52d-b06f-44cb-afbe-9c2a64cd1beb.SHOFYTVEHVFRMXHN.SEARCH&ppt=None&ppn=None&ssid=0rd2zv49v40000001621502001554&qH=a1743c0d39461290',\n",
       " 'https://www.flipkart.com/world-wear-footwear-latest-collection-1227-stylish-casual-sports-sneakers-men/p/itmf417d91f7b7b2?pid=SHOFJGUEKN5G9YFG&lid=LSTSHOFJGUEKN5G9YFGBFKDOL&marketplace=FLIPKART&q=sneakers&store=osp%2Fcil%2Fe1f&srno=s_2_46&otracker=search&otracker1=search&fm=organic&iid=e2f1a52d-b06f-44cb-afbe-9c2a64cd1beb.SHOFJGUEKN5G9YFG.SEARCH&ppt=None&ppn=None&ssid=0rd2zv49v40000001621502001554&qH=a1743c0d39461290',\n",
       " 'https://www.flipkart.com/puma-anzarun-lite-sneakers-men/p/itmf890ccb9a6c98?pid=SHOFNU2VRKKJMCNZ&lid=LSTSHOFNU2VRKKJMCNZBXLCUO&marketplace=FLIPKART&q=sneakers&store=osp%2Fcil%2Fe1f&srno=s_2_47&otracker=search&otracker1=search&fm=organic&iid=e2f1a52d-b06f-44cb-afbe-9c2a64cd1beb.SHOFNU2VRKKJMCNZ.SEARCH&ppt=None&ppn=None&ssid=0rd2zv49v40000001621502001554&qH=a1743c0d39461290',\n",
       " 'https://www.flipkart.com/raftar-sneakers-men/p/itmd0859c0704622?pid=SHOGYN6MGZEHPH4C&lid=LSTSHOGYN6MGZEHPH4CDMA2GS&marketplace=FLIPKART&q=sneakers&store=osp%2Fcil%2Fe1f&srno=s_2_48&otracker=search&otracker1=search&fm=organic&iid=e2f1a52d-b06f-44cb-afbe-9c2a64cd1beb.SHOGYN6MGZEHPH4C.SEARCH&ppt=None&ppn=None&ssid=0rd2zv49v40000001621502001554&qH=a1743c0d39461290',\n",
       " 'https://www.flipkart.com/bruton-sneakers-men/p/itm682f3208269f8?pid=SHOGF8Y2CYDXFNW2&lid=LSTSHOGF8Y2CYDXFNW2PDIS69&marketplace=FLIPKART&q=sneakers&store=osp%2Fcil%2Fe1f&srno=s_2_49&otracker=search&otracker1=search&fm=organic&iid=e2f1a52d-b06f-44cb-afbe-9c2a64cd1beb.SHOGF8Y2CYDXFNW2.SEARCH&ppt=None&ppn=None&ssid=0rd2zv49v40000001621502001554&qH=a1743c0d39461290',\n",
       " 'https://www.flipkart.com/bruton-combo-pack-4-canvas-sneakers-men/p/itmc6896607b3f0f?pid=SHOFUXXZZEU8Z3E6&lid=LSTSHOFUXXZZEU8Z3E68COZPZ&marketplace=FLIPKART&q=sneakers&store=osp%2Fcil%2Fe1f&srno=s_2_50&otracker=search&otracker1=search&fm=organic&iid=en_yBsEMJAENuuU80fUgH3pJOrkfXxyQzzhXpAwmrRWNv4MXOLDkf3TKCpQ0vbMq2qcRo8x1FaVmttWdnmzmRLK1w%3D%3D&ppt=None&ppn=None&ssid=0rd2zv49v40000001621502001554&qH=a1743c0d39461290',\n",
       " 'https://www.flipkart.com/bluemaker-casual-shoe-men-sneakers/p/itm3694200bdaf02?pid=SHOFP4YXWUGZSMKG&lid=LSTSHOFP4YXWUGZSMKG41CNUK&marketplace=FLIPKART&q=sneakers&store=osp%2Fcil%2Fe1f&srno=s_2_51&otracker=search&otracker1=search&fm=organic&iid=e2f1a52d-b06f-44cb-afbe-9c2a64cd1beb.SHOFP4YXWUGZSMKG.SEARCH&ppt=None&ppn=None&ssid=0rd2zv49v40000001621502001554&qH=a1743c0d39461290',\n",
       " 'https://www.flipkart.com/tr-sneakers-men/p/itm1341fd611c54e?pid=SHOFZQ3NRBNNPCQV&lid=LSTSHOFZQ3NRBNNPCQVON21RG&marketplace=FLIPKART&q=sneakers&store=osp%2Fcil%2Fe1f&srno=s_2_53&otracker=search&otracker1=search&fm=organic&iid=e2f1a52d-b06f-44cb-afbe-9c2a64cd1beb.SHOFZQ3NRBNNPCQV.SEARCH&ppt=None&ppn=None&ssid=0rd2zv49v40000001621502001554&qH=a1743c0d39461290',\n",
       " 'https://www.flipkart.com/numenzo-casual-sneaker-sneakers-men/p/itmc448bd9719fe1?pid=SHOFUZ7J25JWNHYD&lid=LSTSHOFUZ7J25JWNHYD4GXSE4&marketplace=FLIPKART&q=sneakers&store=osp%2Fcil%2Fe1f&srno=s_2_54&otracker=search&otracker1=search&fm=organic&iid=en_yBsEMJAENuuU80fUgH3pJOrkfXxyQzzhXpAwmrRWNv7cayuozvqHLidSTyKz4z8w78zr3jYLfwndBOtG5%2BU4tw%3D%3D&ppt=None&ppn=None&ssid=0rd2zv49v40000001621502001554&qH=a1743c0d39461290',\n",
       " 'https://www.flipkart.com/essence-sneakers-men/p/itm6f1a5a1c8a5f6?pid=SHOEYJF7F5URECNE&lid=LSTSHOEYJF7F5URECNEAIKUPK&marketplace=FLIPKART&q=sneakers&store=osp%2Fcil%2Fe1f&srno=s_2_55&otracker=search&otracker1=search&fm=organic&iid=e2f1a52d-b06f-44cb-afbe-9c2a64cd1beb.SHOEYJF7F5URECNE.SEARCH&ppt=None&ppn=None&ssid=0rd2zv49v40000001621502001554&qH=a1743c0d39461290',\n",
       " 'https://www.flipkart.com/walkstyle-sneakers-men/p/itm55da483c2438a?pid=SHOFMJS2ZTRKYBGM&lid=LSTSHOFMJS2ZTRKYBGMM5IYKZ&marketplace=FLIPKART&q=sneakers&store=osp%2Fcil%2Fe1f&srno=s_2_56&otracker=search&otracker1=search&fm=organic&iid=e2f1a52d-b06f-44cb-afbe-9c2a64cd1beb.SHOFMJS2ZTRKYBGM.SEARCH&ppt=None&ppn=None&ssid=0rd2zv49v40000001621502001554&qH=a1743c0d39461290',\n",
       " 'https://www.flipkart.com/leatherkraft-sneakers-men/p/itm5703a73cbb2ab?pid=SHOFVYGF2PSMS97B&lid=LSTSHOFVYGF2PSMS97BYW6AWZ&marketplace=FLIPKART&q=sneakers&store=osp%2Fcil%2Fe1f&srno=s_2_58&otracker=search&otracker1=search&fm=organic&iid=e2f1a52d-b06f-44cb-afbe-9c2a64cd1beb.SHOFVYGF2PSMS97B.SEARCH&ppt=None&ppn=None&ssid=0rd2zv49v40000001621502001554&qH=a1743c0d39461290',\n",
       " 'https://www.flipkart.com/birde-combo-pack-2-casual-shoes-sneakers-men/p/itm41c5253e35688?pid=SHOFVU6FQUJSHZFH&lid=LSTSHOFVU6FQUJSHZFHPLX4ZB&marketplace=FLIPKART&q=sneakers&store=osp%2Fcil%2Fe1f&srno=s_2_60&otracker=search&otracker1=search&fm=organic&iid=en_yBsEMJAENuuU80fUgH3pJOrkfXxyQzzhXpAwmrRWNv4nJ%2B2rFmeo09DVKxTKlMu%2Fap1eEtTBQXrrNqNrSoZYFw%3D%3D&ppt=None&ppn=None&ssid=0rd2zv49v40000001621502001554&qH=a1743c0d39461290',\n",
       " 'https://www.flipkart.com/robbie-jones-casual-sneakers-shoes-men/p/itme701e43fadcc5?pid=SHOFYW3GFWC6MFCG&lid=LSTSHOFYW3GFWC6MFCG7Q4XN8&marketplace=FLIPKART&q=sneakers&store=osp%2Fcil%2Fe1f&srno=s_2_61&otracker=search&otracker1=search&fm=organic&iid=e2f1a52d-b06f-44cb-afbe-9c2a64cd1beb.SHOFYW3GFWC6MFCG.SEARCH&ppt=None&ppn=None&ssid=0rd2zv49v40000001621502001554&qH=a1743c0d39461290',\n",
       " 'https://www.flipkart.com/essence-sneakers-men/p/itmc196886025cc4?pid=SHOF7TS7HCEYPNFZ&lid=LSTSHOF7TS7HCEYPNFZOTC3TT&marketplace=FLIPKART&q=sneakers&store=osp%2Fcil%2Fe1f&srno=s_2_63&otracker=search&otracker1=search&fm=organic&iid=e2f1a52d-b06f-44cb-afbe-9c2a64cd1beb.SHOF7TS7HCEYPNFZ.SEARCH&ppt=None&ppn=None&ssid=0rd2zv49v40000001621502001554&qH=a1743c0d39461290',\n",
       " 'https://www.flipkart.com/levi-s-basic-2-0-sneakers-men/p/itm211abcd7ae1f0?pid=SHOFHTPQJGZ7CZAV&lid=LSTSHOFHTPQJGZ7CZAV12GUWV&marketplace=FLIPKART&q=sneakers&store=osp%2Fcil%2Fe1f&srno=s_2_64&otracker=search&otracker1=search&fm=organic&iid=en_yBsEMJAENuuU80fUgH3pJOrkfXxyQzzhXpAwmrRWNv4aalVUjzXbm2%2BJxfVcGVjfOVFnNfOK8uLEAzpGIXoPrA%3D%3D&ppt=None&ppn=None&ssid=0rd2zv49v40000001621502001554&qH=a1743c0d39461290',\n",
       " 'https://www.flipkart.com/deals4you-white-sneaker-men-s-boy-s-sneakers-men/p/itmfetrtwwuthgwz?pid=SHOFHFFHGSHGZDVS&lid=LSTSHOFHFFHGSHGZDVSNCMOUE&marketplace=FLIPKART&q=sneakers&store=osp%2Fcil%2Fe1f&srno=s_2_69&otracker=search&otracker1=search&fm=organic&iid=e2f1a52d-b06f-44cb-afbe-9c2a64cd1beb.SHOFHFFHGSHGZDVS.SEARCH&ppt=None&ppn=None&ssid=0rd2zv49v40000001621502001554&qH=a1743c0d39461290',\n",
       " 'https://www.flipkart.com/wen-hawk-latest-stylish-casual-sneakers-men-lace-up-lightweight-shoes-white/p/itm0cd45654fa047?pid=SHOFWTHJK3R9UYVF&lid=LSTSHOFWTHJK3R9UYVFUHJWSW&marketplace=FLIPKART&q=sneakers&store=osp%2Fcil%2Fe1f&srno=s_2_70&otracker=search&otracker1=search&fm=organic&iid=en_yBsEMJAENuuU80fUgH3pJOrkfXxyQzzhXpAwmrRWNv4%2B8R7mN0uWEmLGe1S350At7f2unNDknpcfTbRHToc49Q%3D%3D&ppt=None&ppn=None&ssid=0rd2zv49v40000001621502001554&qH=a1743c0d39461290',\n",
       " 'https://www.flipkart.com/puma-icon-idp-sneakers-men/p/itmfd87uzwrzuknj?pid=SHOFD86WP9ZZUPZ5&lid=LSTSHOFD86WP9ZZUPZ5NQXVQM&marketplace=FLIPKART&q=sneakers&store=osp%2Fcil%2Fe1f&srno=s_2_71&otracker=search&otracker1=search&fm=organic&iid=e2f1a52d-b06f-44cb-afbe-9c2a64cd1beb.SHOFD86WP9ZZUPZ5.SEARCH&ppt=None&ppn=None&ssid=0rd2zv49v40000001621502001554&qH=a1743c0d39461290',\n",
       " 'https://www.flipkart.com/camfoot-combo-pack-2-latest-collection-stylish-casual-shoes-sneakers-men/p/itm567e3127ccc02?pid=SHOFNT6YTWUCZSKU&lid=LSTSHOFNT6YTWUCZSKUQKEFXK&marketplace=FLIPKART&q=sneakers&store=osp%2Fcil%2Fe1f&srno=s_2_72&otracker=search&otracker1=search&fm=organic&iid=e2f1a52d-b06f-44cb-afbe-9c2a64cd1beb.SHOFNT6YTWUCZSKU.SEARCH&ppt=None&ppn=None&ssid=0rd2zv49v40000001621502001554&qH=a1743c0d39461290',\n",
       " 'https://www.flipkart.com/kavon-sneakers-men/p/itm0c660e5a217c7?pid=SHOFXFEMGHKRR4BU&lid=LSTSHOFXFEMGHKRR4BUZZJMLX&marketplace=FLIPKART&q=sneakers&store=osp%2Fcil%2Fe1f&srno=s_2_73&otracker=search&otracker1=search&fm=organic&iid=e2f1a52d-b06f-44cb-afbe-9c2a64cd1beb.SHOFXFEMGHKRR4BU.SEARCH&ppt=None&ppn=None&ssid=0rd2zv49v40000001621502001554&qH=a1743c0d39461290',\n",
       " 'https://www.flipkart.com/armado-casual-shoes-mens-combo-ar-1658-1619-multicolor-pack-2-sneakers-men/p/itm91d58a7e3a586?pid=SHOFY86GKV6WKYEB&lid=LSTSHOFY86GKV6WKYEB33MWTK&marketplace=FLIPKART&q=sneakers&store=osp%2Fcil%2Fe1f&srno=s_2_74&otracker=search&otracker1=search&fm=organic&iid=en_yBsEMJAENuuU80fUgH3pJOrkfXxyQzzhXpAwmrRWNv6GdmaqHIXj3vYi8HSid7B%2FY6PO7TtmjUHl7XkYFMahJQ%3D%3D&ppt=None&ppn=None&ssid=0rd2zv49v40000001621502001554&qH=a1743c0d39461290',\n",
       " 'https://www.flipkart.com/xtoon-casual-shoes-sneakers-men/p/itm8644075e0f2a6?pid=SHOFZAWCGQHWV2GY&lid=LSTSHOFZAWCGQHWV2GYQRBJ59&marketplace=FLIPKART&q=sneakers&store=osp%2Fcil%2Fe1f&srno=s_2_76&otracker=search&otracker1=search&fm=organic&iid=e2f1a52d-b06f-44cb-afbe-9c2a64cd1beb.SHOFZAWCGQHWV2GY.SEARCH&ppt=None&ppn=None&ssid=0rd2zv49v40000001621502001554&qH=a1743c0d39461290',\n",
       " 'https://www.flipkart.com/zovim-shoes-men-sneakers/p/itmf3yyhphvzyswe?pid=SHOEXCXV6XPGTYPM&lid=LSTSHOEXCXV6XPGTYPMGBZQLK&marketplace=FLIPKART&q=sneakers&store=osp%2Fcil%2Fe1f&srno=s_2_80&otracker=search&otracker1=search&fm=organic&iid=en_yBsEMJAENuuU80fUgH3pJOrkfXxyQzzhXpAwmrRWNv7DTVrYuV9F7ILMJOPVNt3lUEENAVgN81yUOoqNBhViAA%3D%3D&ppt=None&ppn=None&ssid=0rd2zv49v40000001621502001554&qH=a1743c0d39461290',\n",
       " 'https://www.flipkart.com/shoelife-sneakers-men/p/itmed737bad3d6bd?pid=SHOFVZHERWDMGYXU&lid=LSTSHOFVZHERWDMGYXUZXPM9A&marketplace=FLIPKART&q=sneakers&store=osp%2Fcil%2Fe1f&srno=s_3_82&otracker=search&otracker1=search&fm=organic&iid=96dc480b-fa1c-4ab2-9743-c8525313b00e.SHOFVZHERWDMGYXU.SEARCH&ppt=sp&ppn=sp&ssid=ad2270ylmo0000001621502011596&qH=a1743c0d39461290',\n",
       " 'https://www.flipkart.com/t-rock-sneakers-men/p/itm9e8fbefee4d54?pid=SHOFZ822269YEGWK&lid=LSTSHOFZ822269YEGWKFDRKQZ&marketplace=FLIPKART&q=sneakers&store=osp%2Fcil%2Fe1f&srno=s_3_83&otracker=search&otracker1=search&fm=organic&iid=96dc480b-fa1c-4ab2-9743-c8525313b00e.SHOFZ822269YEGWK.SEARCH&ppt=None&ppn=None&ssid=prlpbpaubk0000001621502005642&qH=a1743c0d39461290',\n",
       " 'https://www.flipkart.com/bluemaker-sneakers-men/p/itm3694200bdaf02?pid=SHOFP4YXDPVUJ8DT&lid=LSTSHOFP4YXDPVUJ8DTRTCPB1&marketplace=FLIPKART&q=sneakers&store=osp%2Fcil%2Fe1f&srno=s_3_84&otracker=search&otracker1=search&fm=organic&iid=en_OjMurI%2FWdVCZ9LWKU0KgmviblJ9mX8WoyBc3DlQJVM2cD2J1eMwRGKxSDxAWG1ZHf83rJEye4ow38hBIc2I90g%3D%3D&ppt=None&ppn=None&ssid=prlpbpaubk0000001621502005642&qH=a1743c0d39461290',\n",
       " 'https://www.flipkart.com/oxpeo-colourblocked-trending-multicolor-ultralight-canvas-sport-training-lace-up-morning-evening-walk-dating-running-sneakers-men/p/itm45238bd8f1f1f?pid=SHOFVJSSTZRAMQF7&lid=LSTSHOFVJSSTZRAMQF7AQAYIF&marketplace=FLIPKART&q=sneakers&store=osp%2Fcil%2Fe1f&srno=s_3_85&otracker=search&otracker1=search&fm=organic&iid=96dc480b-fa1c-4ab2-9743-c8525313b00e.SHOFVJSSTZRAMQF7.SEARCH&ppt=None&ppn=None&ssid=prlpbpaubk0000001621502005642&qH=a1743c0d39461290',\n",
       " 'https://www.flipkart.com/red-rose-sneakers-men/p/itmfhp7pq4earagj?pid=SHOFHP3PPQZAA6V5&lid=LSTSHOFHP3PPQZAA6V5WPZLIW&marketplace=FLIPKART&q=sneakers&store=osp%2Fcil%2Fe1f&srno=s_3_86&otracker=search&otracker1=search&fm=organic&iid=96dc480b-fa1c-4ab2-9743-c8525313b00e.SHOFHP3PPQZAA6V5.SEARCH&ppt=None&ppn=None&ssid=prlpbpaubk0000001621502005642&qH=a1743c0d39461290',\n",
       " 'https://www.flipkart.com/t-rock-synthetic-leather-casual-sneakers-shoes-men/p/itmb46ac08eae9dc?pid=SHOGYWCGYMXKAETX&lid=LSTSHOGYWCGYMXKAETXQFV88M&marketplace=FLIPKART&q=sneakers&store=osp%2Fcil%2Fe1f&srno=s_3_87&otracker=search&otracker1=search&fm=organic&iid=96dc480b-fa1c-4ab2-9743-c8525313b00e.SHOGYWCGYMXKAETX.SEARCH&ppt=None&ppn=None&ssid=prlpbpaubk0000001621502005642&qH=a1743c0d39461290',\n",
       " 'https://www.flipkart.com/bruton-cubic-1-sneakers-men/p/itmf7q3zx2r5ahhu?pid=SHOEW9C3UXZMYCQE&lid=LSTSHOEW9C3UXZMYCQEU54FFN&marketplace=FLIPKART&q=sneakers&store=osp%2Fcil%2Fe1f&srno=s_3_88&otracker=search&otracker1=search&fm=organic&iid=96dc480b-fa1c-4ab2-9743-c8525313b00e.SHOEW9C3UXZMYCQE.SEARCH&ppt=None&ppn=None&ssid=prlpbpaubk0000001621502005642&qH=a1743c0d39461290',\n",
       " 'https://www.flipkart.com/bruton-combo-pack-4-canvas-sneakers-men/p/itmc6896607b3f0f?pid=SHOFUXXZZEU8Z3E6&lid=LSTSHOFUXXZZEU8Z3E68COZPZ&marketplace=FLIPKART&q=sneakers&store=osp%2Fcil%2Fe1f&srno=s_3_90&otracker=search&otracker1=search&fm=organic&iid=en_OjMurI%2FWdVCZ9LWKU0KgmviblJ9mX8WoyBc3DlQJVM3m87ub18zsd%2FFf7%2B25GQyiRo8x1FaVmttWdnmzmRLK1w%3D%3D&ppt=None&ppn=None&ssid=prlpbpaubk0000001621502005642&qH=a1743c0d39461290',\n",
       " 'https://www.flipkart.com/trend-casual-sneakers-shoes-men/p/itm6bed98a77dd31?pid=SHOFQFYKJGZYAGUP&lid=LSTSHOFQFYKJGZYAGUPUVZINO&marketplace=FLIPKART&q=sneakers&store=osp%2Fcil%2Fe1f&srno=s_3_91&otracker=search&otracker1=search&fm=organic&iid=96dc480b-fa1c-4ab2-9743-c8525313b00e.SHOFQFYKJGZYAGUP.SEARCH&ppt=None&ppn=None&ssid=prlpbpaubk0000001621502005642&qH=a1743c0d39461290',\n",
       " 'https://www.flipkart.com/onivixo-men-s-white-suede-leather-lace-up-high-ankle-casual-sneaker-sneakers-men/p/itm0b59d54d3f72c?pid=SHOFXBSGT7ZEHM7H&lid=LSTSHOFXBSGT7ZEHM7HKMGBA4&marketplace=FLIPKART&q=sneakers&store=osp%2Fcil%2Fe1f&srno=s_3_92&otracker=search&otracker1=search&fm=organic&iid=96dc480b-fa1c-4ab2-9743-c8525313b00e.SHOFXBSGT7ZEHM7H.SEARCH&ppt=None&ppn=None&ssid=prlpbpaubk0000001621502005642&qH=a1743c0d39461290',\n",
       " 'https://www.flipkart.com/numenzo-casual-sneaker-sneakers-men/p/itmc448bd9719fe1?pid=SHOFUZ7J25JWNHYD&lid=LSTSHOFUZ7J25JWNHYD4GXSE4&marketplace=FLIPKART&q=sneakers&store=osp%2Fcil%2Fe1f&srno=s_3_94&otracker=search&otracker1=search&fm=organic&iid=en_OjMurI%2FWdVCZ9LWKU0KgmviblJ9mX8WoyBc3DlQJVM1a6CHaqmz6nBK2ZCeOqPMa78zr3jYLfwndBOtG5%2BU4tw%3D%3D&ppt=None&ppn=None&ssid=prlpbpaubk0000001621502005642&qH=a1743c0d39461290',\n",
       " 'https://www.flipkart.com/bluemaker-casual-men-beige-06-sneakers/p/itm04e50500732a9?pid=SHOFUSH7TPF8HXZA&lid=LSTSHOFUSH7TPF8HXZA0I23QQ&marketplace=FLIPKART&q=sneakers&store=osp%2Fcil%2Fe1f&srno=s_3_95&otracker=search&otracker1=search&fm=organic&iid=96dc480b-fa1c-4ab2-9743-c8525313b00e.SHOFUSH7TPF8HXZA.SEARCH&ppt=None&ppn=None&ssid=prlpbpaubk0000001621502005642&qH=a1743c0d39461290',\n",
       " 'https://www.flipkart.com/black-bottom-fashion-outdoor-canvas-casual-light-weight-partywear-sneakers-shoes-men-s-boys-casuals-men-men/p/itmfcb72b1070d24?pid=SHOFUZNKHFYVKGQF&lid=LSTSHOFUZNKHFYVKGQF3R08FN&marketplace=FLIPKART&q=sneakers&store=osp%2Fcil%2Fe1f&srno=s_3_96&otracker=search&otracker1=search&fm=organic&iid=96dc480b-fa1c-4ab2-9743-c8525313b00e.SHOFUZNKHFYVKGQF.SEARCH&ppt=None&ppn=None&ssid=prlpbpaubk0000001621502005642&qH=a1743c0d39461290',\n",
       " 'https://www.flipkart.com/asics-gel-quantum-festa-sneakers-men/p/itmaf245794e010e?pid=SHOFT8Q4R653GQ4X&lid=LSTSHOFT8Q4R653GQ4X3RIUPG&marketplace=FLIPKART&q=sneakers&store=osp%2Fcil%2Fe1f&srno=s_3_97&otracker=search&otracker1=search&fm=organic&iid=96dc480b-fa1c-4ab2-9743-c8525313b00e.SHOFT8Q4R653GQ4X.SEARCH&ppt=None&ppn=None&ssid=prlpbpaubk0000001621502005642&qH=a1743c0d39461290',\n",
       " 'https://www.flipkart.com/axter-combo-pack-2-casual-loafer-sneakers-shoes-men/p/itm58cdd535af339?pid=SHOFGQYAZJSPDCAZ&lid=LSTSHOFGQYAZJSPDCAZDRB1KJ&marketplace=FLIPKART&q=sneakers&store=osp%2Fcil%2Fe1f&srno=s_3_98&otracker=search&otracker1=search&fm=organic&iid=96dc480b-fa1c-4ab2-9743-c8525313b00e.SHOFGQYAZJSPDCAZ.SEARCH&ppt=None&ppn=None&ssid=prlpbpaubk0000001621502005642&qH=a1743c0d39461290',\n",
       " 'https://www.flipkart.com/birde-combo-pack-2-casual-shoes-sneakers-men/p/itm41c5253e35688?pid=SHOFVU6FQUJSHZFH&lid=LSTSHOFVU6FQUJSHZFHPLX4ZB&marketplace=FLIPKART&q=sneakers&store=osp%2Fcil%2Fe1f&srno=s_3_100&otracker=search&otracker1=search&fm=organic&iid=en_OjMurI%2FWdVCZ9LWKU0KgmviblJ9mX8WoyBc3DlQJVM3%2BsmmDLv279wxDWWkbtDIfap1eEtTBQXrrNqNrSoZYFw%3D%3D&ppt=None&ppn=None&ssid=prlpbpaubk0000001621502005642&qH=a1743c0d39461290',\n",
       " 'https://www.flipkart.com/natoinal-hunt-spring-season-white-shoes-men-running-flat-pu-leather-sneakers-male-board-sports-outdoor-shoes/p/itm2119ed1fabeb3?pid=SHOFYZMUG5YRUV66&lid=LSTSHOFYZMUG5YRUV66T91AGL&marketplace=FLIPKART&q=sneakers&store=osp%2Fcil%2Fe1f&srno=s_3_101&otracker=search&otracker1=search&fm=organic&iid=96dc480b-fa1c-4ab2-9743-c8525313b00e.SHOFYZMUG5YRUV66.SEARCH&ppt=None&ppn=None&ssid=prlpbpaubk0000001621502005642&qH=a1743c0d39461290',\n",
       " 'https://www.flipkart.com/zovim-casual-partywear-sneakers-shoes-men-s-boys-blue-color-men/p/itmf3yyhphvzyswe?pid=SHOEXCXVGHUJWDMY&lid=LSTSHOEXCXVGHUJWDMYEGD10R&marketplace=FLIPKART&q=sneakers&store=osp%2Fcil%2Fe1f&srno=s_3_102&otracker=search&otracker1=search&fm=organic&iid=96dc480b-fa1c-4ab2-9743-c8525313b00e.SHOEXCXVGHUJWDMY.SEARCH&ppt=None&ppn=None&ssid=prlpbpaubk0000001621502005642&qH=a1743c0d39461290',\n",
       " 'https://www.flipkart.com/tr-sneakers-men/p/itm3228100782c33?pid=SHOFZSMTD7Z2BHBM&lid=LSTSHOFZSMTD7Z2BHBMKRYOMB&marketplace=FLIPKART&q=sneakers&store=osp%2Fcil%2Fe1f&srno=s_3_103&otracker=search&otracker1=search&fm=organic&iid=96dc480b-fa1c-4ab2-9743-c8525313b00e.SHOFZSMTD7Z2BHBM.SEARCH&ppt=None&ppn=None&ssid=prlpbpaubk0000001621502005642&qH=a1743c0d39461290',\n",
       " 'https://www.flipkart.com/armado-casual-shoes-mens-combo-ar-1658-1619-multicolor-pack-2-sneakers-men/p/itm91d58a7e3a586?pid=SHOFY86GKV6WKYEB&lid=LSTSHOFY86GKV6WKYEB33MWTK&marketplace=FLIPKART&q=sneakers&store=osp%2Fcil%2Fe1f&srno=s_3_104&otracker=search&otracker1=search&fm=organic&iid=en_OjMurI%2FWdVCZ9LWKU0KgmviblJ9mX8WoyBc3DlQJVM3RjdH5ECIHir7eSdmEh3Y%2BY6PO7TtmjUHl7XkYFMahJQ%3D%3D&ppt=None&ppn=None&ssid=prlpbpaubk0000001621502005642&qH=a1743c0d39461290',\n",
       " 'https://www.flipkart.com/essence-smart-sneakers-men/p/itmf3yym57wjgc7g?pid=SHOEXGEHYR6ZZGV6&lid=LSTSHOEXGEHYR6ZZGV6JDQQLZ&marketplace=FLIPKART&q=sneakers&store=osp%2Fcil%2Fe1f&srno=s_3_105&otracker=search&otracker1=search&fm=organic&iid=96dc480b-fa1c-4ab2-9743-c8525313b00e.SHOEXGEHYR6ZZGV6.SEARCH&ppt=None&ppn=None&ssid=prlpbpaubk0000001621502005642&qH=a1743c0d39461290',\n",
       " 'https://www.flipkart.com/d-sneakerz-casual-partywear-sneakers-shoes-men-s-boys-white-color-men/p/itmf3yysmcgaff2q?pid=SHOFFT2ZAMFVYJGQ&lid=LSTSHOFFT2ZAMFVYJGQCFTOI3&marketplace=FLIPKART&q=sneakers&store=osp%2Fcil%2Fe1f&srno=s_3_106&otracker=search&otracker1=search&fm=organic&iid=96dc480b-fa1c-4ab2-9743-c8525313b00e.SHOFFT2ZAMFVYJGQ.SEARCH&ppt=None&ppn=None&ssid=prlpbpaubk0000001621502005642&qH=a1743c0d39461290',\n",
       " 'https://www.flipkart.com/deals4you-sneakers-men/p/itmf1c009d9c7c22?pid=SHOFZJ5NK77GTQ9Q&lid=LSTSHOFZJ5NK77GTQ9QENYRU5&marketplace=FLIPKART&q=sneakers&store=osp%2Fcil%2Fe1f&srno=s_3_108&otracker=search&otracker1=search&fm=organic&iid=96dc480b-fa1c-4ab2-9743-c8525313b00e.SHOFZJ5NK77GTQ9Q.SEARCH&ppt=None&ppn=None&ssid=prlpbpaubk0000001621502005642&qH=a1743c0d39461290',\n",
       " 'https://www.flipkart.com/bluemaker-casual-men-black-08-sneakers/p/itm210d62c631331?pid=SHOFUSH7FHU7W3FW&lid=LSTSHOFUSH7FHU7W3FWJS9MDV&marketplace=FLIPKART&q=sneakers&store=osp%2Fcil%2Fe1f&srno=s_3_109&otracker=search&otracker1=search&fm=organic&iid=96dc480b-fa1c-4ab2-9743-c8525313b00e.SHOFUSH7FHU7W3FW.SEARCH&ppt=None&ppn=None&ssid=prlpbpaubk0000001621502005642&qH=a1743c0d39461290',\n",
       " 'https://www.flipkart.com/zovim-shoes-men-sneakers/p/itmf3yyhphvzyswe?pid=SHOEXCXV6XPGTYPM&lid=LSTSHOEXCXV6XPGTYPMGBZQLK&marketplace=FLIPKART&q=sneakers&store=osp%2Fcil%2Fe1f&srno=s_3_110&otracker=search&otracker1=search&fm=organic&iid=en_OjMurI%2FWdVCZ9LWKU0KgmviblJ9mX8WoyBc3DlQJVM3WejbUVt6xO99OW86x%2FKHMUEENAVgN81yUOoqNBhViAA%3D%3D&ppt=None&ppn=None&ssid=prlpbpaubk0000001621502005642&qH=a1743c0d39461290',\n",
       " 'https://www.flipkart.com/numenzo-casual-sneaker-sneakers-men/p/itma28f8d801ffac?pid=SHOFUZ7JJYHZQSKN&lid=LSTSHOFUZ7JJYHZQSKNUA6VPT&marketplace=FLIPKART&q=sneakers&store=osp%2Fcil%2Fe1f&srno=s_3_113&otracker=search&otracker1=search&fm=organic&iid=96dc480b-fa1c-4ab2-9743-c8525313b00e.SHOFUZ7JJYHZQSKN.SEARCH&ppt=None&ppn=None&ssid=prlpbpaubk0000001621502005642&qH=a1743c0d39461290',\n",
       " 'https://www.flipkart.com/wen-hawk-latest-stylish-casual-sneakers-men-lace-up-lightweight-shoes-white/p/itm0cd45654fa047?pid=SHOFWTHJK3R9UYVF&lid=LSTSHOFWTHJK3R9UYVFUHJWSW&marketplace=FLIPKART&q=sneakers&store=osp%2Fcil%2Fe1f&srno=s_3_114&otracker=search&otracker1=search&fm=organic&iid=en_OjMurI%2FWdVCZ9LWKU0KgmviblJ9mX8WoyBc3DlQJVM1XB%2Blm4Hl%2FOn%2Bf1w6zr0gx7f2unNDknpcfTbRHToc49Q%3D%3D&ppt=None&ppn=None&ssid=prlpbpaubk0000001621502005642&qH=a1743c0d39461290',\n",
       " 'https://www.flipkart.com/adies-sneakers-men/p/itm1156d1bc2cc09?pid=SHOFVJYPKBGXWHUC&lid=LSTSHOFVJYPKBGXWHUCL2RJ2C&marketplace=FLIPKART&q=sneakers&store=osp%2Fcil%2Fe1f&srno=s_3_115&otracker=search&otracker1=search&fm=organic&iid=96dc480b-fa1c-4ab2-9743-c8525313b00e.SHOFVJYPKBGXWHUC.SEARCH&ppt=None&ppn=None&ssid=prlpbpaubk0000001621502005642&qH=a1743c0d39461290',\n",
       " 'https://www.flipkart.com/essence-sneakers-men/p/itmf3xuyhgkspgdh?pid=SHOEYJF7VPB3XSXP&lid=LSTSHOEYJF7VPB3XSXP0N6PCS&marketplace=FLIPKART&q=sneakers&store=osp%2Fcil%2Fe1f&srno=s_3_116&otracker=search&otracker1=search&fm=organic&iid=96dc480b-fa1c-4ab2-9743-c8525313b00e.SHOEYJF7VPB3XSXP.SEARCH&ppt=None&ppn=None&ssid=prlpbpaubk0000001621502005642&qH=a1743c0d39461290',\n",
       " 'https://www.flipkart.com/skechers-summits-brisbane-sneakers-men/p/itm811b61f6bed55?pid=SHOFUHGGHT2RU4FG&lid=LSTSHOFUHGGHT2RU4FGOIWT8Z&marketplace=FLIPKART&q=sneakers&store=osp%2Fcil%2Fe1f&srno=s_3_117&otracker=search&otracker1=search&fm=organic&iid=96dc480b-fa1c-4ab2-9743-c8525313b00e.SHOFUHGGHT2RU4FG.SEARCH&ppt=None&ppn=None&ssid=prlpbpaubk0000001621502005642&qH=a1743c0d39461290',\n",
       " 'https://www.flipkart.com/longwalk-men-boxer-sneakers/p/itm9138163f0a16b?pid=SHOF2CY2GVT2RFFV&lid=LSTSHOF2CY2GVT2RFFVBQ6KDY&marketplace=FLIPKART&q=sneakers&store=osp%2Fcil%2Fe1f&srno=s_3_118&otracker=search&otracker1=search&fm=organic&iid=96dc480b-fa1c-4ab2-9743-c8525313b00e.SHOF2CY2GVT2RFFV.SEARCH&ppt=None&ppn=None&ssid=prlpbpaubk0000001621502005642&qH=a1743c0d39461290',\n",
       " 'https://www.flipkart.com/levi-s-basic-2-0-sneakers-men/p/itm211abcd7ae1f0?pid=SHOFHTPQJGZ7CZAV&lid=LSTSHOFHTPQJGZ7CZAV12GUWV&marketplace=FLIPKART&q=sneakers&store=osp%2Fcil%2Fe1f&srno=s_3_120&otracker=search&otracker1=search&fm=organic&iid=en_OjMurI%2FWdVCZ9LWKU0KgmviblJ9mX8WoyBc3DlQJVM05PdpIk07siTqQ9HkGQhAxOVFnNfOK8uLEAzpGIXoPrA%3D%3D&ppt=None&ppn=None&ssid=prlpbpaubk0000001621502005642&qH=a1743c0d39461290',\n",
       " 'https://www.flipkart.com/india-hub-fashionable-casual-sneakers-shoes-men/p/itm700c2922d61dc?pid=SHOFV324BBDB7UQB&lid=LSTSHOFV324BBDB7UQBI1UGKY&marketplace=FLIPKART&q=sneakers&store=osp%2Fcil%2Fe1f&srno=s_4_121&otracker=search&otracker1=search&fm=organic&iid=3357311f-3487-4099-a17b-45b763b15ead.SHOFV324BBDB7UQB.SEARCH&ppt=None&ppn=None&ssid=jxyhq5svs00000001621502009875&qH=a1743c0d39461290',\n",
       " 'https://www.flipkart.com/relfa-sneakers-men/p/itm82eb86dcd8fe4?pid=SHOFPZX9ETNYJTY5&lid=LSTSHOFPZX9ETNYJTY5JQMAQX&marketplace=FLIPKART&q=sneakers&store=osp%2Fcil%2Fe1f&srno=s_4_122&otracker=search&otracker1=search&fm=organic&iid=3357311f-3487-4099-a17b-45b763b15ead.SHOFPZX9ETNYJTY5.SEARCH&ppt=None&ppn=None&ssid=jxyhq5svs00000001621502009875&qH=a1743c0d39461290',\n",
       " 'https://www.flipkart.com/essence-sneakers-men/p/itmf7txcxgy9jcfw?pid=SHOF7TS7YTD3DX29&lid=LSTSHOF7TS7YTD3DX29NO6EJF&marketplace=FLIPKART&q=sneakers&store=osp%2Fcil%2Fe1f&srno=s_4_123&otracker=search&otracker1=search&fm=organic&iid=3357311f-3487-4099-a17b-45b763b15ead.SHOF7TS7YTD3DX29.SEARCH&ppt=None&ppn=None&ssid=jxyhq5svs00000001621502009875&qH=a1743c0d39461290']"
      ]
     },
     "execution_count": 218,
     "metadata": {},
     "output_type": "execute_result"
    }
   ],
   "source": [
    "urls"
   ]
  },
  {
   "cell_type": "code",
   "execution_count": 219,
   "metadata": {},
   "outputs": [],
   "source": [
    "Description_s = []\n",
    "\n",
    "for link in urls:\n",
    "    \n",
    "    driver.get(link)\n",
    "    \n",
    "    des = driver.find_element_by_xpath(\"//span[@class='B_NuCI']\")\n",
    "    \n",
    "    Description_s.append(des.text)"
   ]
  },
  {
   "cell_type": "code",
   "execution_count": 220,
   "metadata": {},
   "outputs": [
    {
     "data": {
      "text/plain": [
       "['Sneakers For Men  (Black)',\n",
       " 'Combo Pack of 2 Casual Shoes Sneakers For Men  (Multicolor)',\n",
       " 'Casual Sneakers Shoes For Men Sneakers For Men  (White)',\n",
       " 'Sneakers Sneakers For Men  (Black)',\n",
       " 'Sneakers For Men  (White)',\n",
       " 'Sneakers For Men  (White, Black)',\n",
       " 'Sneakers For Men  (Black)',\n",
       " 'Combo pack of 2 casual sneaker shoes for men Sneakers For Men  (Multicolor)',\n",
       " \"White Sneaker For Men's/Boy's Sneakers For Men  (White)\",\n",
       " 'Combo Pack Of 4 Canvas Sneakers For Men  (Multicolor)',\n",
       " 'Combo Pack of 4 Casual Shoes Sneakers For Men  (Multicolor)',\n",
       " 'casual shoes For Mens Combo(AR)-1658-1619 ( Multicolor-Pack of 2) Sneakers For Men  (Black)',\n",
       " 'Fashionable casual sneakers shoes for men Sneakers For Men  (White)',\n",
       " 'Casual Sneakers Black Shoes For Men Sneakers For Men  (Black)',\n",
       " 'casual for men (blue 06) Sneakers For Men  (Blue)',\n",
       " 'Combo Pack of 4 Latest Collection Stylish Casual Loafer Sneakers Shoes Sneakers For Men  (Multicolor)',\n",
       " 'shoes for men Sneakers For Men  (Blue)',\n",
       " '5011-Latest Collection Stylish Casual Loafer Sneakers Shoes For Men Sneakers For Men  (Red)',\n",
       " 'ORIFWSH(OR)-1077 Sneakers For Men  (Red)',\n",
       " 'Latest Stylish Casual sneakers for men | Lace up lightweight shoes for running, walking, gym, trekking | Running Shoes For Men | Sneakers For Men (Black) Sneakers For Men  (Black)',\n",
       " 'Latest Stylish Casual sneakers for men | Lace up lightweight shoes For Men White Sneakers For Men  (White)',\n",
       " 'Sneakers Sneakers For Men  (Grey)',\n",
       " 'Series 7 Sneakers For Men  (White)',\n",
       " 'Casual shoes Sneakers For Men  (Grey)',\n",
       " 'Men 5014 Latest Collection Stylish Casual Sports Loafers Shoes Sneakers Shoes Sneakers For Men  (Brown, Blue)',\n",
       " 'SM-482 Sneakers For Men  (Black, Red)',\n",
       " 'Basic 2.0 Sneakers For Men  (White)',\n",
       " 'White Sneakers Sneakers For Men  (White)',\n",
       " 'Casual Sneaker Sneakers For Men  (White)',\n",
       " 'Sneakers Sneakers For Men  (White)',\n",
       " 'Sneakers For Men  (Black)',\n",
       " 'Combo Pack of 2 Latest Collection Stylish Casual Loafer Sneakers Shoes For Men Sneakers For Men  (Multicolor)',\n",
       " 'Synthetic Leather Casual Partywear Wedding Sneakers Shoes For Men Sneakers For Men  (Grey)',\n",
       " 'Sneakers For Men  (Black)',\n",
       " 'Sneakers For Men  (White)',\n",
       " \"Casual , Partywear Sneakers Shoes For Men's And Boys White Color Sneakers For Men  (White)\",\n",
       " 'Basic 2.0 Sneakers For Men  (Navy)',\n",
       " 'shoe Sneakers For Men  (Red)',\n",
       " 'high quality casual sneaker shoes Sneakers For Men  (White)',\n",
       " 'Sneakers For Men  (Black)',\n",
       " 'Sneakers For Men  (Black)',\n",
       " \"Men's Stylish Casual Shoes Sneakers For Men  (Yellow)\",\n",
       " 'Latest Collection-1227 Stylish Casual Sports Sneakers For Men  (Blue, Black)',\n",
       " 'Anzarun Lite Sneakers For Men  (Black)',\n",
       " 'Sneakers For Men  (White, Black)',\n",
       " 'Sneakers For Men  (Black)',\n",
       " 'Combo Pack Of 4 Canvas Sneakers For Men  (Multicolor)',\n",
       " 'casual shoe for men Sneakers For Men  (Black)',\n",
       " 'Sneakers For Men  (Multicolor)',\n",
       " 'Casual Sneaker Sneakers For Men  (White)',\n",
       " 'Sneakers For Men  (Navy)',\n",
       " 'Sneakers For Men  (Brown)',\n",
       " 'Sneakers For Men  (Black)',\n",
       " 'Combo Pack of 2 Casual Shoes Sneakers For Men  (Multicolor)',\n",
       " 'Casual Sneakers Shoes For Men Sneakers For Men  (White)',\n",
       " 'Sneakers For Men  (Blue)',\n",
       " 'Basic 2.0 Sneakers For Men  (White)',\n",
       " \"White Sneaker For Men's/Boy's Sneakers For Men Sneakers For Men  (White)\",\n",
       " 'Latest Stylish Casual sneakers for men | Lace up lightweight shoes For Men White Sneakers For Men  (White)',\n",
       " 'Icon IDP Sneakers For Men  (Navy)',\n",
       " 'Combo Pack of 2 Latest Collection Stylish Casual Shoes Sneakers For Men  (Multicolor)',\n",
       " 'Sneakers For Men  (Orange)',\n",
       " 'casual shoes For Mens Combo(AR)-1658-1619 ( Multicolor-Pack of 2) Sneakers For Men  (Black)',\n",
       " 'Casual shoes Sneakers For Men  (White)',\n",
       " 'shoes for men Sneakers For Men  (Blue)',\n",
       " 'Sneakers For Men  (White)',\n",
       " 'Sneakers For Men  (Black)',\n",
       " 'Sneakers For Men  (Black)',\n",
       " 'Colourblocked Trending Multicolor Ultralight canvas Sport/ Training Lace-up Morning / Evening walk Dating Running Sneakers For Men  (Yellow)',\n",
       " 'Sneakers For Men  (Blue)',\n",
       " 'Synthetic Leather Casual Sneakers Shoes For Men Sneakers For Men  (Blue)',\n",
       " 'CUBIC_1 Sneakers For Men  (Red)',\n",
       " 'Combo Pack Of 4 Canvas Sneakers For Men  (Multicolor)',\n",
       " 'Casual sneakers shoes for men Sneakers For Men  (White)',\n",
       " \"Men's White Suede Leather Lace-Up High Ankle Casual Sneaker Sneakers For Men  (White)\",\n",
       " 'Casual Sneaker Sneakers For Men  (White)',\n",
       " 'casual for men (beige 06) Sneakers For Men  (Beige)',\n",
       " \"Fashion Outdoor Canvas Casual Light Weight Partywear Sneakers Shoes For Men's And Boys Sneakers Casuals For Men  Sneakers For Men  (White)\",\n",
       " 'GEL-QUANTUM FESTA Sneakers For Men  (Black)',\n",
       " 'Combo Pack of 2 Casual Loafer Sneakers Shoes Sneakers For Men  (Multicolor)',\n",
       " 'Combo Pack of 2 Casual Shoes Sneakers For Men  (Multicolor)',\n",
       " 'Spring Season White Shoes Men Running Flat PU Leather Sneakers Male White Board Shoes Sports Outdoor ShoesÂ  Sneakers For Men  (White)',\n",
       " \"casual , Partywear Sneakers Shoes For Men's and Boys blue Color Sneakers For Men  (Blue)\",\n",
       " 'Sneakers For Men  (Blue)',\n",
       " 'casual shoes For Mens Combo(AR)-1658-1619 ( Multicolor-Pack of 2) Sneakers For Men  (Black)',\n",
       " 'Smart Sneakers For Men  (Black)',\n",
       " \"Casual , Partywear Sneakers Shoes For Men's And Boys White Color Sneakers For Men  (White)\",\n",
       " 'Sneakers For Men  (Black)',\n",
       " 'casual for men (black 08) Sneakers For Men  (Black)',\n",
       " 'shoes for men Sneakers For Men  (Blue)',\n",
       " 'Casual Sneaker Sneakers For Men  (Black)',\n",
       " 'Latest Stylish Casual sneakers for men | Lace up lightweight shoes For Men White Sneakers For Men  (White)',\n",
       " 'Sneakers For Men  (White)',\n",
       " 'Sneakers For Men  (Brown)',\n",
       " 'Summits - Brisbane Sneakers For Men  (Black)',\n",
       " 'Men Boxer Sneakers For Men  (Black)',\n",
       " 'Basic 2.0 Sneakers For Men  (White)',\n",
       " 'Fashionable casual sneakers shoes Sneakers For Men  (White)',\n",
       " 'Sneakers For Men  (Grey)',\n",
       " 'Sneakers For Men  (Red)']"
      ]
     },
     "execution_count": 220,
     "metadata": {},
     "output_type": "execute_result"
    }
   ],
   "source": [
    "Description_s"
   ]
  },
  {
   "cell_type": "code",
   "execution_count": 221,
   "metadata": {},
   "outputs": [],
   "source": [
    "df_sh = pd.DataFrame({})\n",
    "df_sh[\"Brand Name\"] = brands_s\n",
    "df_sh[\"Price\"] = prices_s\n",
    "df_sh[\"Discounts\"] = discounts_s\n",
    "df_sh[\"Description\"] = Description_s"
   ]
  },
  {
   "cell_type": "code",
   "execution_count": 222,
   "metadata": {},
   "outputs": [
    {
     "data": {
      "text/html": [
       "<div>\n",
       "<style scoped>\n",
       "    .dataframe tbody tr th:only-of-type {\n",
       "        vertical-align: middle;\n",
       "    }\n",
       "\n",
       "    .dataframe tbody tr th {\n",
       "        vertical-align: top;\n",
       "    }\n",
       "\n",
       "    .dataframe thead th {\n",
       "        text-align: right;\n",
       "    }\n",
       "</style>\n",
       "<table border=\"1\" class=\"dataframe\">\n",
       "  <thead>\n",
       "    <tr style=\"text-align: right;\">\n",
       "      <th></th>\n",
       "      <th>Brand Name</th>\n",
       "      <th>Price</th>\n",
       "      <th>Discounts</th>\n",
       "      <th>Description</th>\n",
       "    </tr>\n",
       "  </thead>\n",
       "  <tbody>\n",
       "    <tr>\n",
       "      <th>0</th>\n",
       "      <td>bluemaker</td>\n",
       "      <td>₹474</td>\n",
       "      <td>52% off</td>\n",
       "      <td>Sneakers For Men  (Black)</td>\n",
       "    </tr>\n",
       "    <tr>\n",
       "      <th>1</th>\n",
       "      <td>Birde</td>\n",
       "      <td>₹471</td>\n",
       "      <td>52% off</td>\n",
       "      <td>Combo Pack of 2 Casual Shoes Sneakers For Men ...</td>\n",
       "    </tr>\n",
       "    <tr>\n",
       "      <th>2</th>\n",
       "      <td>Robbie jones</td>\n",
       "      <td>₹379</td>\n",
       "      <td>62% off</td>\n",
       "      <td>Casual Sneakers Shoes For Men Sneakers For Men...</td>\n",
       "    </tr>\n",
       "    <tr>\n",
       "      <th>3</th>\n",
       "      <td>HOTSTYLE</td>\n",
       "      <td>₹283</td>\n",
       "      <td>43% off</td>\n",
       "      <td>Sneakers Sneakers For Men  (Black)</td>\n",
       "    </tr>\n",
       "    <tr>\n",
       "      <th>4</th>\n",
       "      <td>Numenzo</td>\n",
       "      <td>₹398</td>\n",
       "      <td>60% off</td>\n",
       "      <td>Sneakers For Men  (White)</td>\n",
       "    </tr>\n",
       "  </tbody>\n",
       "</table>\n",
       "</div>"
      ],
      "text/plain": [
       "     Brand Name Price Discounts  \\\n",
       "0     bluemaker  ₹474   52% off   \n",
       "1         Birde  ₹471   52% off   \n",
       "2  Robbie jones  ₹379   62% off   \n",
       "3      HOTSTYLE  ₹283   43% off   \n",
       "4       Numenzo  ₹398   60% off   \n",
       "\n",
       "                                         Description  \n",
       "0                          Sneakers For Men  (Black)  \n",
       "1  Combo Pack of 2 Casual Shoes Sneakers For Men ...  \n",
       "2  Casual Sneakers Shoes For Men Sneakers For Men...  \n",
       "3                 Sneakers Sneakers For Men  (Black)  \n",
       "4                          Sneakers For Men  (White)  "
      ]
     },
     "execution_count": 222,
     "metadata": {},
     "output_type": "execute_result"
    }
   ],
   "source": [
    "df_sh.head()"
   ]
  },
  {
   "cell_type": "markdown",
   "metadata": {},
   "source": [
    "#### Q9: Go to the link - https://www.myntra.com/shoes\n",
    "- Set Price filter to “Rs. 6649 to Rs. 13099” , Color filter to “Black”, as shown in the below image\n",
    "- And then scrape First 100 shoes data you get. The data should include “Brand” of the shoes , Short Shoe description, price of the shoe as shown in the below image.\n",
    "- Please note that applying the filter and scraping the data , everything should be done through code only and there should not be any manual step."
   ]
  },
  {
   "cell_type": "code",
   "execution_count": 316,
   "metadata": {},
   "outputs": [],
   "source": [
    "url = \"https://www.myntra.com/shoes\"\n",
    "driver.get(url)"
   ]
  },
  {
   "cell_type": "code",
   "execution_count": 317,
   "metadata": {},
   "outputs": [],
   "source": [
    "filter_1 = driver.find_element_by_css_selector(\"#mountRoot > div > div.application-base > main > div:nth-child(3) > div.search-leftContainer.column-base > section > div > div:nth-child(5) > ul > li:nth-child(2) > label\")"
   ]
  },
  {
   "cell_type": "code",
   "execution_count": 318,
   "metadata": {},
   "outputs": [],
   "source": [
    "filter_1.click()"
   ]
  },
  {
   "cell_type": "code",
   "execution_count": 319,
   "metadata": {},
   "outputs": [],
   "source": [
    "filter_2 = driver.find_element_by_css_selector(\"#mountRoot > div > div.application-base > main > div:nth-child(3) > div.search-leftContainer.column-base > section > div > div:nth-child(6) > ul > li:nth-child(1) > label\")"
   ]
  },
  {
   "cell_type": "code",
   "execution_count": 320,
   "metadata": {},
   "outputs": [],
   "source": [
    "filter_2.click()"
   ]
  },
  {
   "cell_type": "code",
   "execution_count": 321,
   "metadata": {},
   "outputs": [],
   "source": [
    "base_url = \"https://www.myntra.com/shoes?f=Color%3ABlack_36454f&p={}&plaEnabled=false&rf=Price%3A6612.0_13075.0_6612.0%20TO%2013075.0\""
   ]
  },
  {
   "cell_type": "code",
   "execution_count": 322,
   "metadata": {},
   "outputs": [
    {
     "data": {
      "text/plain": [
       "'https://www.myntra.com/shoes?f=Color%3ABlack_36454f&p=1&plaEnabled=false&rf=Price%3A6612.0_13075.0_6612.0%20TO%2013075.0'"
      ]
     },
     "execution_count": 322,
     "metadata": {},
     "output_type": "execute_result"
    }
   ],
   "source": [
    "base_url.format(1)"
   ]
  },
  {
   "cell_type": "code",
   "execution_count": 324,
   "metadata": {},
   "outputs": [],
   "source": [
    "urls = []\n",
    "\n",
    "for n in range(1,3):\n",
    "    \n",
    "    base_url = \"https://www.myntra.com/shoes?f=Color%3ABlack_36454f&p={}&plaEnabled=false&rf=Price%3A6612.0_13075.0_6612.0%20TO%2013075.0\"\n",
    "    \n",
    "    driver.get(base_url.format(n))\n",
    "    \n",
    "    for url in driver.find_elements_by_xpath(\"//li[@class='product-base']/a\"):\n",
    "        \n",
    "        urls.append(url.get_attribute(\"href\"))"
   ]
  },
  {
   "cell_type": "code",
   "execution_count": 326,
   "metadata": {},
   "outputs": [],
   "source": [
    "brand_name_M = []\n",
    "\n",
    "brand_Des_M = []\n",
    "\n",
    "brand_Prices_M = []\n",
    "\n",
    "for link in urls:\n",
    "    \n",
    "    driver.get(link)\n",
    "    \n",
    "    brand = driver.find_element_by_xpath(\"//h1[@class='pdp-title']\")\n",
    "    \n",
    "    des = driver.find_element_by_xpath(\"//h1[@class='pdp-name']\")\n",
    "    \n",
    "    pric = driver.find_element_by_xpath(\"//span[@class='pdp-price']/strong\")\n",
    "    \n",
    "    brand_name_M.append(brand.text)\n",
    "    \n",
    "    brand_Des_M.append(des.text)\n",
    "    \n",
    "    brand_Prices_M.append(pric.text)"
   ]
  },
  {
   "cell_type": "code",
   "execution_count": 327,
   "metadata": {},
   "outputs": [
    {
     "data": {
      "text/plain": [
       "['Nike',\n",
       " 'Nike',\n",
       " 'PUMA Motorsport',\n",
       " 'Nike',\n",
       " 'Nike',\n",
       " 'Nike',\n",
       " 'Nike',\n",
       " 'Nike',\n",
       " 'Nike',\n",
       " 'Puma',\n",
       " 'Nike',\n",
       " 'Nike',\n",
       " 'UNDER ARMOUR',\n",
       " 'Skechers',\n",
       " 'UNDER ARMOUR',\n",
       " 'Puma',\n",
       " 'Puma',\n",
       " 'Hush Puppies',\n",
       " 'Puma',\n",
       " 'Skechers',\n",
       " 'UNDER ARMOUR',\n",
       " 'ADIDAS Originals',\n",
       " 'UNDER ARMOUR',\n",
       " 'UNDER ARMOUR',\n",
       " 'UNDER ARMOUR',\n",
       " 'Puma',\n",
       " 'Puma',\n",
       " 'Puma',\n",
       " 'UNDER ARMOUR',\n",
       " 'FILA',\n",
       " 'J.FONTINI',\n",
       " 'UNDER ARMOUR',\n",
       " 'Puma',\n",
       " 'Puma',\n",
       " 'Puma',\n",
       " 'Vans',\n",
       " 'Hush Puppies',\n",
       " 'Onitsuka Tiger',\n",
       " 'Ruosh',\n",
       " 'Puma',\n",
       " 'Saint G',\n",
       " 'Ruosh',\n",
       " 'Ruosh',\n",
       " 'Puma',\n",
       " 'UNDER ARMOUR',\n",
       " 'Geox',\n",
       " 'UNDER ARMOUR',\n",
       " 'UNDER ARMOUR',\n",
       " 'Ruosh',\n",
       " 'ALDO',\n",
       " 'Ruosh',\n",
       " 'Skechers',\n",
       " 'UNDER ARMOUR',\n",
       " 'Cole Haan',\n",
       " 'Puma',\n",
       " 'Puma',\n",
       " 'Saint G',\n",
       " 'Reebok',\n",
       " 'Geox',\n",
       " 'Reebok',\n",
       " 'Nike',\n",
       " 'Heel & Buckle London',\n",
       " 'Cole Haan',\n",
       " 'Cole Haan',\n",
       " 'Puma',\n",
       " 'Cole Haan',\n",
       " 'Cole Haan',\n",
       " 'FILA',\n",
       " 'Ruosh',\n",
       " 'Nike',\n",
       " 'Bugatti',\n",
       " 'Vans',\n",
       " 'Ruosh',\n",
       " 'VIONIC',\n",
       " 'Heel & Buckle London',\n",
       " 'Nike',\n",
       " 'Geox',\n",
       " 'Heel & Buckle London',\n",
       " 'Nike',\n",
       " 'Saint G',\n",
       " 'Saint G',\n",
       " 'ALDO',\n",
       " 'UNDER ARMOUR',\n",
       " 'Geox',\n",
       " 'Heel & Buckle London',\n",
       " 'Heel & Buckle London',\n",
       " 'Saint G',\n",
       " 'Cole Haan',\n",
       " 'ADIDAS',\n",
       " 'Cole Haan',\n",
       " 'Nike',\n",
       " 'Heel & Buckle London',\n",
       " 'Geox',\n",
       " 'Geox',\n",
       " 'Geox',\n",
       " 'Cole Haan',\n",
       " 'Geox',\n",
       " 'Nike',\n",
       " 'Ruosh',\n",
       " 'Ruosh']"
      ]
     },
     "execution_count": 327,
     "metadata": {},
     "output_type": "execute_result"
    }
   ],
   "source": [
    "brand_name_M"
   ]
  },
  {
   "cell_type": "code",
   "execution_count": 328,
   "metadata": {},
   "outputs": [
    {
     "data": {
      "text/plain": [
       "['Men Black React Infinity Running Shoe',\n",
       " 'Men Black AIR ZOOM STRUCTURE 23 Running Shoes',\n",
       " 'Unisex Black Mercedes Drift Cat 8 Running Shoes',\n",
       " 'Men Black & Yellow JOYRIDE Running Shoes',\n",
       " 'Men Black JORDAN DELTA Basketball Shoes',\n",
       " 'Women Black REACT PHANTOM RUN FK 2 Running Shoes',\n",
       " 'Women Black REACT ESCAPE RN Running Shoes',\n",
       " 'Men Black AIR ZOOM PEGASUS 37 Running Shoes',\n",
       " 'Women Black AIR ZOOM PEGASUS 37 Running Shoes',\n",
       " 'Unisex Black RS-X Pop Sneakers',\n",
       " 'Women Black & Pink Colourblocked AIR ZOOM STRUCTURE 23 Running Shoes',\n",
       " 'Men Black KD13 EP Mid-Top Basketball Shoes',\n",
       " 'Men Black & Charcoal Grey Woven Design Liquify Running Shoes',\n",
       " 'Men Black VIPER - COMPETITOR Training Shoes',\n",
       " 'Men Black Solid HOVR Strt Walking Shoes',\n",
       " 'Men Black UltraRide Running Shoes',\n",
       " 'Men Black Velocity Nitro Running Shoes',\n",
       " 'Men Black Solid Leather Formal Slip-Ons',\n",
       " 'Men Black SPEED 500 2 Running Shoes',\n",
       " 'Women UNO - LOVING LOVE Printed Sneakers',\n",
       " 'Women Black & Lavender Woven Design HOVR Sonic 3 Running Shoes',\n",
       " 'Men Black &Charcoal Grey Woven Design Nite Jogger Fluid Sneakers',\n",
       " 'Women Black Woven Design Bluetooth HOVR Sonic 3 Running Shoes',\n",
       " 'Men Black Woven Design Charged Rogue 2 Wide Fit 2E Running Shoes',\n",
       " 'Women Black & Lavender Woven Design Charged Impulse Running Shoes',\n",
       " 'Women Black Eternity Nitro Running Shoes',\n",
       " 'Men Black CELL VALIANT SL Running Shoes',\n",
       " 'Men Black FUTURE Z 3.1 FG/AG Football Shoes',\n",
       " 'Unisex Black & White Colourblocked & Perforated SC 3ZER0 IV Basketball Shoes',\n",
       " 'Men Black Running Shoes',\n",
       " 'Men Black Leather Loafers',\n",
       " 'Women Black & Charcoal Grey Woven Design Charged Breathe TR 2 Training Shoes',\n",
       " 'Women Black Provoke XT Untamed Mid-Top Training Gym Shoes',\n",
       " 'Women Black Liberate Nitro Running Shoes',\n",
       " 'Unisex Black & Coral Solid RS-FAST TECH Sneakers',\n",
       " 'Unisex Black Solid Sneakers',\n",
       " 'Men Black Solid Formal Derbys',\n",
       " 'Mexico 66 Paraty',\n",
       " 'Men Black Solid Leather Formal Derbys',\n",
       " 'Unisex Black Solid X-Ray 2 Square Sneakers',\n",
       " 'Men Black Solid Leather Formal Chelsea Boots',\n",
       " 'Men Black Formal Leather Brogues',\n",
       " 'Men Black Leather Formal Brogues',\n",
       " 'Women Black & Gold RS-Curve Glow Sneakers',\n",
       " 'Women Black & Charcoal Grey Woven Design Liquify Rebel Running Shoes',\n",
       " 'Men Black Solid Leather Formal Oxford Shoes',\n",
       " 'Women Black HOVR Rise 2 Training Shoes',\n",
       " 'Women Black TriBase Reign 2 Woven Design Training Shoes',\n",
       " 'Men Black Genuine Leather Formal Brogues',\n",
       " 'Aldo Men Black Leather Pointed Toe Derby Formal Shoes',\n",
       " 'Men Black Genuine Leather Formal Brogues',\n",
       " \"Women Black D'LITES 3.0 AIR-SKY Sneakers\",\n",
       " 'Women Black Woven Design Charged Breathe OIL SLK Sportstyle Shoes',\n",
       " 'Women Black Zerogrand Global Trainer Sneakers',\n",
       " 'Women Black & Gold RS-Curve Glow Sneakers',\n",
       " 'Men Black Mesh Running Shoes',\n",
       " 'Men Black Solid Leather Formal Chelsea Boots',\n",
       " 'Men Black Woven Design Forever Floatride Energy 2 Running Shoes',\n",
       " 'Men Black Leather Driving Shoes',\n",
       " 'Women Black Nanoflex Woven Design Training Shoes',\n",
       " 'Women Black RENEW RUN Running Shoes',\n",
       " 'Men Black Leather Sneakers',\n",
       " 'Men Black Originalgrand Stitchlite Wingtip Oxford Sneakers',\n",
       " 'Men Black Generation ZeroGrand Stitchlite Sneakers',\n",
       " 'Men Black Liberate Nitro Running Shoes',\n",
       " 'Men Black Leather GrandPro Tennis Sneakers',\n",
       " 'Men Black ZeroGrand All Day Stitchlite Runner Sneakers',\n",
       " 'Men Black Solid Heritage Disruptor 2A Sneakers',\n",
       " 'Men Black Textured Leather Monks',\n",
       " 'Men Black & Beige JORDAN DELTA Sneakers',\n",
       " 'Women Black Striped Mules',\n",
       " 'Men Black AVE PRO Sneakers',\n",
       " 'Work Men Black Rare Leather Textured Derbys',\n",
       " 'Men Black & Grey Textured Sneakers',\n",
       " 'Women Black Solid Leather Gladiators',\n",
       " 'Men Black AIR ZOOM PEGASUS 38 Running Shoes',\n",
       " 'Men Black Leather Formal Monks',\n",
       " 'Women Black & Transparent Solid Leather Block Heels',\n",
       " 'Men Black AIR ZOOM PEGASUS 38 Running Shoes',\n",
       " 'Women Black Woven Design Leather Heeled Boots',\n",
       " 'Women Black Solid Heeled Boots',\n",
       " 'Aldo Men Black Leather Pointed Toe Derby Formal Shoes',\n",
       " 'Men Black & Orange Charged Bandit 6 Woven Design Running Shoes',\n",
       " 'Women Black Leather Solid Pumps',\n",
       " 'Women Black Embellished Peep Toe Heels',\n",
       " 'Men Black Solid Leather Formal Oxfords',\n",
       " 'Women Black Solid Leather Heeled Boots',\n",
       " 'Women Black Solid Leather Open Toe Flats',\n",
       " 'Men Black & White Geometric Print Adizero Ubersonic 4 Tennis Shoes',\n",
       " 'Women Black Solid Leather Ballerinas',\n",
       " 'Men Black NIKE REACT INFINITY RUN FK 2 Training Shoes',\n",
       " 'Women Black Embellished Leather Pumps',\n",
       " 'Men Black Solid Leather Formal Derbys',\n",
       " 'Men Black Solid Leather Formal Slip-Ons',\n",
       " 'Women Black Solid Flatforms',\n",
       " 'Women Black Solid Sandals',\n",
       " 'Women Black Leather Boat Shoes',\n",
       " 'Men Black & Grey REACT MILER 2 Running Shoes',\n",
       " 'Men Black Solid Leather Formal Slip-Ons',\n",
       " 'Men Black Solid Leather Formal Monks']"
      ]
     },
     "execution_count": 328,
     "metadata": {},
     "output_type": "execute_result"
    }
   ],
   "source": [
    "brand_Des_M"
   ]
  },
  {
   "cell_type": "code",
   "execution_count": 329,
   "metadata": {},
   "outputs": [
    {
     "data": {
      "text/plain": [
       "['Rs. 11621',\n",
       " 'Rs. 7721',\n",
       " 'Rs. 7999',\n",
       " 'Rs. 11246',\n",
       " 'Rs. 12495',\n",
       " 'Rs. 8996',\n",
       " 'Rs. 6636',\n",
       " 'Rs. 11495',\n",
       " 'Rs. 7496',\n",
       " 'Rs. 8499',\n",
       " 'Rs. 8236',\n",
       " 'Rs. 12995',\n",
       " 'Rs. 10999',\n",
       " 'Rs. 6999',\n",
       " 'Rs. 9999',\n",
       " 'Rs. 7649',\n",
       " 'Rs. 10999',\n",
       " 'Rs. 8999',\n",
       " 'Rs. 6999',\n",
       " 'Rs. 7999',\n",
       " 'Rs. 10999',\n",
       " 'Rs. 8449',\n",
       " 'Rs. 10999',\n",
       " 'Rs. 7999',\n",
       " 'Rs. 7999',\n",
       " 'Rs. 12999',\n",
       " 'Rs. 6999',\n",
       " 'Rs. 7199',\n",
       " 'Rs. 8999',\n",
       " 'Rs. 8499',\n",
       " 'Rs. 6990',\n",
       " 'Rs. 7999',\n",
       " 'Rs. 7999',\n",
       " 'Rs. 7999',\n",
       " 'Rs. 9999',\n",
       " 'Rs. 7499',\n",
       " 'Rs. 9999',\n",
       " 'Rs. 6999',\n",
       " 'Rs. 8990',\n",
       " 'Rs. 6999',\n",
       " 'Rs. 11305',\n",
       " 'Rs. 7490',\n",
       " 'Rs. 6990',\n",
       " 'Rs. 6999',\n",
       " 'Rs. 8999',\n",
       " 'Rs. 9367',\n",
       " 'Rs. 9999',\n",
       " 'Rs. 11999',\n",
       " 'Rs. 6990',\n",
       " 'Rs. 7799',\n",
       " 'Rs. 6990',\n",
       " 'Rs. 6999',\n",
       " 'Rs. 8999',\n",
       " 'Rs. 6749',\n",
       " 'Rs. 6999',\n",
       " 'Rs. 7499',\n",
       " 'Rs. 11305',\n",
       " 'Rs. 9999',\n",
       " 'Rs. 7499',\n",
       " 'Rs. 7599',\n",
       " 'Rs. 6995',\n",
       " 'Rs. 6993',\n",
       " 'Rs. 12999',\n",
       " 'Rs. 11999',\n",
       " 'Rs. 9999',\n",
       " 'Rs. 10999',\n",
       " 'Rs. 9999',\n",
       " 'Rs. 7499',\n",
       " 'Rs. 6990',\n",
       " 'Rs. 10995',\n",
       " 'Rs. 7499',\n",
       " 'Rs. 9999',\n",
       " 'Rs. 8990',\n",
       " 'Rs. 7039',\n",
       " 'Rs. 6993',\n",
       " 'Rs. 8995',\n",
       " 'Rs. 11999',\n",
       " 'Rs. 6993',\n",
       " 'Rs. 8995',\n",
       " 'Rs. 6675',\n",
       " 'Rs. 7440',\n",
       " 'Rs. 7799',\n",
       " 'Rs. 7649',\n",
       " 'Rs. 8992',\n",
       " 'Rs. 7192',\n",
       " 'Rs. 7693',\n",
       " 'Rs. 9900',\n",
       " 'Rs. 8999',\n",
       " 'Rs. 11199',\n",
       " 'Rs. 10499',\n",
       " 'Rs. 12320',\n",
       " 'Rs. 7192',\n",
       " 'Rs. 11490',\n",
       " 'Rs. 11242',\n",
       " 'Rs. 6749',\n",
       " 'Rs. 6749',\n",
       " 'Rs. 8990',\n",
       " 'Rs. 9770',\n",
       " 'Rs. 6990',\n",
       " 'Rs. 6990']"
      ]
     },
     "execution_count": 329,
     "metadata": {},
     "output_type": "execute_result"
    }
   ],
   "source": [
    "brand_Prices_M"
   ]
  },
  {
   "cell_type": "code",
   "execution_count": 330,
   "metadata": {},
   "outputs": [],
   "source": [
    "df_my = pd.DataFrame({})\n",
    "df_my[\"Brand Name\"] = brand_name_M\n",
    "df_my[\"Description\"] = brand_Des_M\n",
    "df_my[\"Price\"] = brand_Prices_M"
   ]
  },
  {
   "cell_type": "code",
   "execution_count": 332,
   "metadata": {},
   "outputs": [
    {
     "data": {
      "text/html": [
       "<div>\n",
       "<style scoped>\n",
       "    .dataframe tbody tr th:only-of-type {\n",
       "        vertical-align: middle;\n",
       "    }\n",
       "\n",
       "    .dataframe tbody tr th {\n",
       "        vertical-align: top;\n",
       "    }\n",
       "\n",
       "    .dataframe thead th {\n",
       "        text-align: right;\n",
       "    }\n",
       "</style>\n",
       "<table border=\"1\" class=\"dataframe\">\n",
       "  <thead>\n",
       "    <tr style=\"text-align: right;\">\n",
       "      <th></th>\n",
       "      <th>Brand Name</th>\n",
       "      <th>Description</th>\n",
       "      <th>Price</th>\n",
       "    </tr>\n",
       "  </thead>\n",
       "  <tbody>\n",
       "    <tr>\n",
       "      <th>0</th>\n",
       "      <td>Nike</td>\n",
       "      <td>Men Black React Infinity Running Shoe</td>\n",
       "      <td>Rs. 11621</td>\n",
       "    </tr>\n",
       "    <tr>\n",
       "      <th>1</th>\n",
       "      <td>Nike</td>\n",
       "      <td>Men Black AIR ZOOM STRUCTURE 23 Running Shoes</td>\n",
       "      <td>Rs. 7721</td>\n",
       "    </tr>\n",
       "    <tr>\n",
       "      <th>2</th>\n",
       "      <td>PUMA Motorsport</td>\n",
       "      <td>Unisex Black Mercedes Drift Cat 8 Running Shoes</td>\n",
       "      <td>Rs. 7999</td>\n",
       "    </tr>\n",
       "    <tr>\n",
       "      <th>3</th>\n",
       "      <td>Nike</td>\n",
       "      <td>Men Black &amp; Yellow JOYRIDE Running Shoes</td>\n",
       "      <td>Rs. 11246</td>\n",
       "    </tr>\n",
       "    <tr>\n",
       "      <th>4</th>\n",
       "      <td>Nike</td>\n",
       "      <td>Men Black JORDAN DELTA Basketball Shoes</td>\n",
       "      <td>Rs. 12495</td>\n",
       "    </tr>\n",
       "  </tbody>\n",
       "</table>\n",
       "</div>"
      ],
      "text/plain": [
       "        Brand Name                                      Description      Price\n",
       "0             Nike            Men Black React Infinity Running Shoe  Rs. 11621\n",
       "1             Nike    Men Black AIR ZOOM STRUCTURE 23 Running Shoes   Rs. 7721\n",
       "2  PUMA Motorsport  Unisex Black Mercedes Drift Cat 8 Running Shoes   Rs. 7999\n",
       "3             Nike         Men Black & Yellow JOYRIDE Running Shoes  Rs. 11246\n",
       "4             Nike          Men Black JORDAN DELTA Basketball Shoes  Rs. 12495"
      ]
     },
     "execution_count": 332,
     "metadata": {},
     "output_type": "execute_result"
    }
   ],
   "source": [
    "df_my.head()"
   ]
  },
  {
   "cell_type": "markdown",
   "metadata": {},
   "source": [
    "#### Q10: Go to webpage https://www.amazon.in/\n",
    "Enter “Laptop” in the search field and then click the search icon.\n",
    "Then set CPU Type filter to “Intel Core i7” and “Intel Core i9” as shown in the below image:"
   ]
  },
  {
   "cell_type": "markdown",
   "metadata": {},
   "source": [
    "### i 7 processor"
   ]
  },
  {
   "cell_type": "code",
   "execution_count": 8,
   "metadata": {},
   "outputs": [],
   "source": [
    "url = \"https://www.amazon.in/\"\n",
    "driver.get(url)"
   ]
  },
  {
   "cell_type": "code",
   "execution_count": 9,
   "metadata": {},
   "outputs": [],
   "source": [
    "search = driver.find_element_by_xpath(\"//input[@id='twotabsearchtextbox']\")"
   ]
  },
  {
   "cell_type": "code",
   "execution_count": 10,
   "metadata": {},
   "outputs": [],
   "source": [
    "search.send_keys(\"Laptops\")"
   ]
  },
  {
   "cell_type": "code",
   "execution_count": 11,
   "metadata": {},
   "outputs": [],
   "source": [
    "btn = driver.find_element_by_css_selector(\"#nav-search-submit-button\")"
   ]
  },
  {
   "cell_type": "code",
   "execution_count": 12,
   "metadata": {},
   "outputs": [],
   "source": [
    "btn.click()"
   ]
  },
  {
   "cell_type": "code",
   "execution_count": 13,
   "metadata": {},
   "outputs": [],
   "source": [
    "filter_1 = driver.find_element_by_css_selector(\"#p_n_feature_thirteen_browse-bin\\/12598163031 > span > a > div > label\")"
   ]
  },
  {
   "cell_type": "code",
   "execution_count": 14,
   "metadata": {},
   "outputs": [],
   "source": [
    "filter_1.click()"
   ]
  },
  {
   "cell_type": "code",
   "execution_count": 23,
   "metadata": {},
   "outputs": [],
   "source": [
    "brand_name = []\n",
    "\n",
    "for i in driver.find_elements_by_xpath(\"//h2[@class='a-size-mini a-spacing-none a-color-base s-line-clamp-2']//span\"):\n",
    "    \n",
    "    brand_name.append(i.text)"
   ]
  },
  {
   "cell_type": "code",
   "execution_count": 29,
   "metadata": {},
   "outputs": [
    {
     "data": {
      "text/plain": [
       "['Life Digital Laptop 15.6-inch (39.62 cms) (Intel Core i7, 8GB RAM, 512GB SSD, Windows 10), ZED AIR CX7',\n",
       " 'Acer Swift 5 14\" (35.56cms) Full HD IPS Display with Touchscreen Ultra Thin and Light Notebook (Intel i7 - 11th Gen/16GB RAM/1TB SSD/Win10/Intel Iris Xe Graphics/1.05 Kg/Mist Green), SF514-55TA',\n",
       " 'HP Pavilion x360 (2021) 14\" (35.56cms) FHD Touchscreen Laptop, 11th Gen Core i7, 8 GB RAM, 512GB SSD, 2-in-1 Convertible, Windows 10, MS Office, Finger Print Reader (14-dw1040TU)',\n",
       " 'HP Pavilion Gaming 10th Gen Intel Core i7 Processor 15.6-inch FHD Gaming Laptop (16GB/512GB SSD + 32GB Intel Optane/Windows 10/NVIDIA 1650Ti 4GB/Shadow Black), 15-dk1509TX',\n",
       " 'Mi Notebook Horizon Edition 14 Intel Core i7-10510U 10th Gen 14-inch (35.56 cms) Thin and Light Laptop(8GB/512GB SSD/Windows 10/Nvidia MX350 2GB Graphics/Grey/1.35Kg), XMA1904-AF+Webcam',\n",
       " 'Lenovo Yoga Slim 7i 11th Gen Intel Core i7 14\" FHD IPS Thin and Light Laptop (16GB/1TB SSD/Win 10/Office/Intel Iris Xe Graphics/Fingerprint/HD IR Camera/Aluminium Surface/Slate Grey/1.36Kg) 82A3009QIN',\n",
       " '(Renewed) Dell Intel 6th Gen Core i7-6820HQ 15-Inch (38.1 cms) 1366x768 Laptop (8 GB/500 GB HDD/Windows/MS Office Pro 2019 /AMD/Black/2.47 Kg), Latitude E5570',\n",
       " 'ASUS VivoBook S S14 Intel Core i7-1165G7 11th Gen, 14-inch FHD Thin and Light Laptop (8GB RAM/512GB SSD + 32GB Optane Memory/Windows 10/Office 2019/Iris X Graphics- Indie Black/1.4 Kg), S433EA-AM701TS',\n",
       " 'Lenovo Legion Y540 Intel Core i7 9th Gen 15.6” FHD Gaming (8GB/256SSD + 1TBHDD/Win10/NVIDIA GeForce GTX 1650 4GB/Raven Black/2.3kg), 81SY00U7IN',\n",
       " '(Renewed) Lenovo T430 14-inch Laptop (Core i7/ 16GB RAM /1TB HDD/Windows 10 Pro/MS Office 2019, Intel Integrated Graphics, PAN INDIA WARRANTY) Black']"
      ]
     },
     "execution_count": 29,
     "metadata": {},
     "output_type": "execute_result"
    }
   ],
   "source": [
    "brand_name[:10]"
   ]
  },
  {
   "cell_type": "code",
   "execution_count": 30,
   "metadata": {},
   "outputs": [],
   "source": [
    "prices = []\n",
    "\n",
    "for i in driver.find_elements_by_xpath(\"//span[@class='a-price-whole']\"):\n",
    "    \n",
    "    prices.append(i.text)"
   ]
  },
  {
   "cell_type": "code",
   "execution_count": 33,
   "metadata": {},
   "outputs": [],
   "source": [
    "prices.remove(\"\")"
   ]
  },
  {
   "cell_type": "code",
   "execution_count": 35,
   "metadata": {},
   "outputs": [],
   "source": [
    "prices = prices[:10]"
   ]
  },
  {
   "cell_type": "code",
   "execution_count": 36,
   "metadata": {},
   "outputs": [
    {
     "data": {
      "text/plain": [
       "['29,990',\n",
       " '91,999',\n",
       " '78,593',\n",
       " '84,990',\n",
       " '59,999',\n",
       " '97,990',\n",
       " '61,799',\n",
       " '79,980',\n",
       " '68,990',\n",
       " '37,999']"
      ]
     },
     "execution_count": 36,
     "metadata": {},
     "output_type": "execute_result"
    }
   ],
   "source": [
    "prices"
   ]
  },
  {
   "cell_type": "code",
   "execution_count": 55,
   "metadata": {},
   "outputs": [],
   "source": [
    "lana = driver.find_element_by_xpath(\"//div[@class='a-row a-size-small']//span\")"
   ]
  },
  {
   "cell_type": "code",
   "execution_count": 57,
   "metadata": {},
   "outputs": [
    {
     "data": {
      "text/plain": [
       "''"
      ]
     },
     "execution_count": 57,
     "metadata": {},
     "output_type": "execute_result"
    }
   ],
   "source": [
    "lana.text"
   ]
  },
  {
   "cell_type": "code",
   "execution_count": 58,
   "metadata": {},
   "outputs": [],
   "source": [
    "driver.get(\"https://www.amazon.in/LifeDigital-Laptop-Intel%C2%AE-Storage-Windows/dp/B08HRHFV23/ref=sr_1_3?dchild=1&keywords=Laptops&qid=1621566355&refinements=p_n_feature_thirteen_browse-bin%3A12598163031&rnid=12598141031&s=computers&sr=1-3\")"
   ]
  },
  {
   "cell_type": "code",
   "execution_count": 59,
   "metadata": {},
   "outputs": [],
   "source": [
    "Tina = driver.find_element_by_xpath(\"//span[@class='a-size-medium a-color-base']\")"
   ]
  },
  {
   "cell_type": "code",
   "execution_count": 61,
   "metadata": {},
   "outputs": [
    {
     "data": {
      "text/plain": [
       "'3.1 out of 5'"
      ]
     },
     "execution_count": 61,
     "metadata": {},
     "output_type": "execute_result"
    }
   ],
   "source": [
    "Tina.text"
   ]
  },
  {
   "cell_type": "code",
   "execution_count": 62,
   "metadata": {},
   "outputs": [],
   "source": [
    "driver.get(\"https://www.amazon.in/s?k=Laptops&rh=n%3A1375424031%2Cp_n_feature_thirteen_browse-bin%3A12598163031&dc&qid=1621565571&rnid=12598141031&ref=sr_nr_p_n_feature_thirteen_browse-bin_12\")"
   ]
  },
  {
   "cell_type": "code",
   "execution_count": 63,
   "metadata": {},
   "outputs": [],
   "source": [
    "urls = []\n",
    "\n",
    "for url in driver.find_elements_by_xpath(\"//a[@class='a-link-normal a-text-normal']\"):\n",
    "        \n",
    "        urls.append(url.get_attribute(\"href\"))"
   ]
  },
  {
   "cell_type": "code",
   "execution_count": 65,
   "metadata": {},
   "outputs": [],
   "source": [
    "urls = urls[:10]"
   ]
  },
  {
   "cell_type": "code",
   "execution_count": 66,
   "metadata": {},
   "outputs": [
    {
     "data": {
      "text/plain": [
       "['https://www.amazon.in/gp/slredirect/picassoRedirect.html/ref=pa_sp_atf_computers_sr_pg1_1?ie=UTF8&adId=A0964431VM3CAKCM6CIJ&url=%2FDell-Inspiron-i7-1165G7-Integrated-D560414WIN9S%2Fdp%2FB0919LL313%2Fref%3Dsr_1_1_sspa%3Fdchild%3D1%26keywords%3DLaptops%26qid%3D1621570191%26refinements%3Dp_n_feature_thirteen_browse-bin%253A12598163031%26rnid%3D12598141031%26s%3Dcomputers%26sr%3D1-1-spons%26psc%3D1&qualifier=1621570191&id=3328346626599102&widgetName=sp_atf',\n",
       " 'https://www.amazon.in/gp/slredirect/picassoRedirect.html/ref=pa_sp_atf_computers_sr_pg1_1?ie=UTF8&adId=A022103072HA7E9RR0G0&url=%2FDell-15-6inch-i7-10750H-Warranty-D560250WIN9BE%2Fdp%2FB08HYPRST4%2Fref%3Dsr_1_2_sspa%3Fdchild%3D1%26keywords%3DLaptops%26qid%3D1621570191%26refinements%3Dp_n_feature_thirteen_browse-bin%253A12598163031%26rnid%3D12598141031%26s%3Dcomputers%26sr%3D1-2-spons%26psc%3D1&qualifier=1621570191&id=3328346626599102&widgetName=sp_atf',\n",
       " 'https://www.amazon.in/LifeDigital-Laptop-Intel%C2%AE-Storage-Windows/dp/B08HRHFV23/ref=sr_1_3?dchild=1&keywords=Laptops&qid=1621570191&refinements=p_n_feature_thirteen_browse-bin%3A12598163031&rnid=12598141031&s=computers&sr=1-3',\n",
       " 'https://www.amazon.in/Acer-Swift-Display-Touchscreen-Notebook/dp/B08M41DHTV/ref=sr_1_4?dchild=1&keywords=Laptops&qid=1621570191&refinements=p_n_feature_thirteen_browse-bin%3A12598163031&rnid=12598141031&s=computers&sr=1-4',\n",
       " 'https://www.amazon.in/HP-Pavilion-Touchscreen-Convertible-14-dw1040TU/dp/B08R843NHL/ref=sr_1_5?dchild=1&keywords=Laptops&qid=1621570191&refinements=p_n_feature_thirteen_browse-bin%3A12598163031&rnid=12598141031&s=computers&sr=1-5',\n",
       " 'https://www.amazon.in/HP-Pavilion-Processor-15-6-inch-15-dk1509TX/dp/B08ZN7GBQ5/ref=sr_1_6?dchild=1&keywords=Laptops&qid=1621570191&refinements=p_n_feature_thirteen_browse-bin%3A12598163031&rnid=12598141031&s=computers&sr=1-6',\n",
       " 'https://www.amazon.in/Notebook-Horizon-i7-10510U-Graphics-XMA1904-AF/dp/B089F2W1KW/ref=sr_1_7?dchild=1&keywords=Laptops&qid=1621570191&refinements=p_n_feature_thirteen_browse-bin%3A12598163031&rnid=12598141031&s=computers&sr=1-7',\n",
       " 'https://www.amazon.in/Lenovo-Graphics-Fingerprint-Aluminium-82A3009QIN/dp/B08ZNLVSPG/ref=sr_1_8?dchild=1&keywords=Laptops&qid=1621570191&refinements=p_n_feature_thirteen_browse-bin%3A12598163031&rnid=12598141031&s=computers&sr=1-8',\n",
       " 'https://www.amazon.in/Renewed-Dell-Latitude-15-inch-Graphics/dp/B08L7P3D6Y/ref=sr_1_9?dchild=1&keywords=Laptops&qid=1621570191&refinements=p_n_feature_thirteen_browse-bin%3A12598163031&rnid=12598141031&s=computers&sr=1-9',\n",
       " 'https://www.amazon.in/ASUS-VivoBook-i7-1165G7-Graphics-S433EA-AM701TS/dp/B08PQTZB3Z/ref=sr_1_10?dchild=1&keywords=Laptops&qid=1621570191&refinements=p_n_feature_thirteen_browse-bin%3A12598163031&rnid=12598141031&s=computers&sr=1-10']"
      ]
     },
     "execution_count": 66,
     "metadata": {},
     "output_type": "execute_result"
    }
   ],
   "source": [
    "urls"
   ]
  },
  {
   "cell_type": "code",
   "execution_count": 17,
   "metadata": {},
   "outputs": [],
   "source": [
    "import time\n",
    "from selenium.common.exceptions import NoSuchElementException"
   ]
  },
  {
   "cell_type": "code",
   "execution_count": 68,
   "metadata": {},
   "outputs": [],
   "source": [
    "ratings = []\n",
    "for link in urls:\n",
    "    \n",
    "    driver.get(link)\n",
    "    \n",
    "    try:\n",
    "        \n",
    "        rate = driver.find_element_by_xpath(\"//span[@class='a-size-medium a-color-base']\")\n",
    "        \n",
    "        ratings.append(rate.text)\n",
    "        \n",
    "    except NoSuchElementException:\n",
    "        \n",
    "        ratings.append(\"Nan\")"
   ]
  },
  {
   "cell_type": "code",
   "execution_count": 69,
   "metadata": {},
   "outputs": [
    {
     "data": {
      "text/plain": [
       "['3.5 out of 5',\n",
       " '3.9 out of 5',\n",
       " '3.1 out of 5',\n",
       " '4.1 out of 5',\n",
       " '3.6 out of 5',\n",
       " '3.3 out of 5',\n",
       " '4.4 out of 5',\n",
       " 'Nan',\n",
       " 'Nan',\n",
       " '4.4 out of 5']"
      ]
     },
     "execution_count": 69,
     "metadata": {},
     "output_type": "execute_result"
    }
   ],
   "source": [
    "ratings"
   ]
  },
  {
   "cell_type": "code",
   "execution_count": 72,
   "metadata": {},
   "outputs": [],
   "source": [
    "brand_name = brand_name[:10]"
   ]
  },
  {
   "cell_type": "code",
   "execution_count": 73,
   "metadata": {},
   "outputs": [],
   "source": [
    "df_ps = pd.DataFrame({})\n",
    "df_ps[\"Brand Name\"] = brand_name\n",
    "df_ps[\"Ratings\"] = ratings\n",
    "df_ps[\"Price\"] = prices"
   ]
  },
  {
   "cell_type": "code",
   "execution_count": 74,
   "metadata": {},
   "outputs": [
    {
     "data": {
      "text/html": [
       "<div>\n",
       "<style scoped>\n",
       "    .dataframe tbody tr th:only-of-type {\n",
       "        vertical-align: middle;\n",
       "    }\n",
       "\n",
       "    .dataframe tbody tr th {\n",
       "        vertical-align: top;\n",
       "    }\n",
       "\n",
       "    .dataframe thead th {\n",
       "        text-align: right;\n",
       "    }\n",
       "</style>\n",
       "<table border=\"1\" class=\"dataframe\">\n",
       "  <thead>\n",
       "    <tr style=\"text-align: right;\">\n",
       "      <th></th>\n",
       "      <th>Brand Name</th>\n",
       "      <th>Ratings</th>\n",
       "      <th>Price</th>\n",
       "    </tr>\n",
       "  </thead>\n",
       "  <tbody>\n",
       "    <tr>\n",
       "      <th>0</th>\n",
       "      <td>Life Digital Laptop 15.6-inch (39.62 cms) (Int...</td>\n",
       "      <td>3.5 out of 5</td>\n",
       "      <td>29,990</td>\n",
       "    </tr>\n",
       "    <tr>\n",
       "      <th>1</th>\n",
       "      <td>Acer Swift 5 14\" (35.56cms) Full HD IPS Displa...</td>\n",
       "      <td>3.9 out of 5</td>\n",
       "      <td>91,999</td>\n",
       "    </tr>\n",
       "    <tr>\n",
       "      <th>2</th>\n",
       "      <td>HP Pavilion x360 (2021) 14\" (35.56cms) FHD Tou...</td>\n",
       "      <td>3.1 out of 5</td>\n",
       "      <td>78,593</td>\n",
       "    </tr>\n",
       "    <tr>\n",
       "      <th>3</th>\n",
       "      <td>HP Pavilion Gaming 10th Gen Intel Core i7 Proc...</td>\n",
       "      <td>4.1 out of 5</td>\n",
       "      <td>84,990</td>\n",
       "    </tr>\n",
       "    <tr>\n",
       "      <th>4</th>\n",
       "      <td>Mi Notebook Horizon Edition 14 Intel Core i7-1...</td>\n",
       "      <td>3.6 out of 5</td>\n",
       "      <td>59,999</td>\n",
       "    </tr>\n",
       "  </tbody>\n",
       "</table>\n",
       "</div>"
      ],
      "text/plain": [
       "                                          Brand Name       Ratings   Price\n",
       "0  Life Digital Laptop 15.6-inch (39.62 cms) (Int...  3.5 out of 5  29,990\n",
       "1  Acer Swift 5 14\" (35.56cms) Full HD IPS Displa...  3.9 out of 5  91,999\n",
       "2  HP Pavilion x360 (2021) 14\" (35.56cms) FHD Tou...  3.1 out of 5  78,593\n",
       "3  HP Pavilion Gaming 10th Gen Intel Core i7 Proc...  4.1 out of 5  84,990\n",
       "4  Mi Notebook Horizon Edition 14 Intel Core i7-1...  3.6 out of 5  59,999"
      ]
     },
     "execution_count": 74,
     "metadata": {},
     "output_type": "execute_result"
    }
   ],
   "source": [
    "df_ps.head()"
   ]
  },
  {
   "cell_type": "markdown",
   "metadata": {},
   "source": [
    "### i 9 processor"
   ]
  },
  {
   "cell_type": "code",
   "execution_count": 3,
   "metadata": {},
   "outputs": [],
   "source": [
    "url = \"https://www.amazon.in/\"\n",
    "driver.get(url)"
   ]
  },
  {
   "cell_type": "code",
   "execution_count": 4,
   "metadata": {},
   "outputs": [],
   "source": [
    "search = driver.find_element_by_xpath(\"//input[@id='twotabsearchtextbox']\")"
   ]
  },
  {
   "cell_type": "code",
   "execution_count": 5,
   "metadata": {},
   "outputs": [],
   "source": [
    "search.send_keys(\"Laptops\")"
   ]
  },
  {
   "cell_type": "code",
   "execution_count": 6,
   "metadata": {},
   "outputs": [],
   "source": [
    "btn = driver.find_element_by_css_selector(\"#nav-search-submit-button\")"
   ]
  },
  {
   "cell_type": "code",
   "execution_count": 7,
   "metadata": {},
   "outputs": [],
   "source": [
    "btn.click()"
   ]
  },
  {
   "cell_type": "code",
   "execution_count": 8,
   "metadata": {},
   "outputs": [],
   "source": [
    "filter_2 = driver.find_element_by_css_selector(\"#p_n_feature_thirteen_browse-bin\\/16757432031 > span > a > div > label\")"
   ]
  },
  {
   "cell_type": "code",
   "execution_count": 9,
   "metadata": {},
   "outputs": [],
   "source": [
    "filter_2.click()"
   ]
  },
  {
   "cell_type": "code",
   "execution_count": 11,
   "metadata": {},
   "outputs": [],
   "source": [
    "urls = []\n",
    "\n",
    "for url in driver.find_elements_by_xpath(\"//a[@class='a-link-normal a-text-normal']\"):\n",
    "        \n",
    "        urls.append(url.get_attribute(\"href\"))"
   ]
  },
  {
   "cell_type": "code",
   "execution_count": 13,
   "metadata": {},
   "outputs": [],
   "source": [
    "urls = urls[:10]"
   ]
  },
  {
   "cell_type": "code",
   "execution_count": 16,
   "metadata": {},
   "outputs": [
    {
     "data": {
      "text/plain": [
       "['https://www.amazon.in/Asus-G703GI-E5148T-17-3-inch-i9-8950HK-Processor/dp/B07GRCW51K/ref=sr_1_1?dchild=1&keywords=Laptops&qid=1621652265&refinements=p_n_feature_thirteen_browse-bin%3A16757432031&rnid=12598141031&s=computers&sr=1-1',\n",
       " 'https://www.amazon.in/ASUS-Zephyrus-i9-10980HK-RTX-2080-SUPER-Max-Q-GX550LXS-HF168TS/dp/B08PFBB6RG/ref=sr_1_2?dchild=1&keywords=Laptops&qid=1621652265&refinements=p_n_feature_thirteen_browse-bin%3A16757432031&rnid=12598141031&s=computers&sr=1-2',\n",
       " 'https://www.amazon.in/15-6inch-i9-10885H-Graphics-Warranty-D560233WIN9B/dp/B08HYPJDLD/ref=sr_1_3?dchild=1&keywords=Laptops&qid=1621652265&refinements=p_n_feature_thirteen_browse-bin%3A16757432031&rnid=12598141031&s=computers&sr=1-3',\n",
       " 'https://www.amazon.in/ASUS-i9-10980HK-Graphics-Windows-G532LWS-HF079T/dp/B08HX42DGG/ref=sr_1_4?dchild=1&keywords=Laptops&qid=1621652265&refinements=p_n_feature_thirteen_browse-bin%3A16757432031&rnid=12598141031&s=computers&sr=1-4',\n",
       " 'https://www.amazon.in/ASUS-Strix-Scar-i9-10980HK-RTX-2080-Super-G732LXS-HG059T/dp/B08GQZWVL9/ref=sr_1_5?dchild=1&keywords=Laptops&qid=1621652265&refinements=p_n_feature_thirteen_browse-bin%3A16757432031&rnid=12598141031&s=computers&sr=1-5',\n",
       " 'https://www.amazon.in/Lenovo-Legion-Windows-Graphics-81YU006HIN/dp/B08GG9RZJC/ref=sr_1_6?dchild=1&keywords=Laptops&qid=1621652265&refinements=p_n_feature_thirteen_browse-bin%3A16757432031&rnid=12598141031&s=computers&sr=1-6',\n",
       " 'https://www.amazon.in/Dell-9570-15-6-inch-i9-8950HK-Integrated/dp/B08C5FMBLB/ref=sr_1_7?dchild=1&keywords=Laptops&qid=1621652265&refinements=p_n_feature_thirteen_browse-bin%3A16757432031&rnid=12598141031&s=computers&sr=1-7',\n",
       " 'https://www.amazon.in/ASUS-i9-10980HK-Touchscreen-Celestial-UX581LV-H2035T/dp/B08CHDLVT1/ref=sr_1_8?dchild=1&keywords=Laptops&qid=1621652265&refinements=p_n_feature_thirteen_browse-bin%3A16757432031&rnid=12598141031&s=computers&sr=1-8',\n",
       " 'https://www.amazon.in/Renewed-Dell-XPS-i9-8950HK-Backlit/dp/B08X6DJVYR/ref=sr_1_9?dchild=1&keywords=Laptops&qid=1621652265&refinements=p_n_feature_thirteen_browse-bin%3A16757432031&rnid=12598141031&s=computers&sr=1-9',\n",
       " 'https://www.amazon.in/Apple-MacBook-16-inch-Storage-2-3GHz/dp/B081JX8QP9/ref=sr_1_10?dchild=1&keywords=Laptops&qid=1621652265&refinements=p_n_feature_thirteen_browse-bin%3A16757432031&rnid=12598141031&s=computers&sr=1-10']"
      ]
     },
     "execution_count": 16,
     "metadata": {},
     "output_type": "execute_result"
    }
   ],
   "source": [
    "urls"
   ]
  },
  {
   "cell_type": "code",
   "execution_count": 22,
   "metadata": {},
   "outputs": [],
   "source": [
    "names_9 = []\n",
    "for link in urls:\n",
    "    \n",
    "    driver.get(link)\n",
    "    \n",
    "    try:\n",
    "        \n",
    "        name_9 = driver.find_element_by_xpath(\"//h1[@id='title']//span\")\n",
    "        \n",
    "        names_9.append(name_9.text)\n",
    "        \n",
    "    except NoSuchElementException:\n",
    "        \n",
    "        names_9.append(\"Nan\")"
   ]
  },
  {
   "cell_type": "code",
   "execution_count": 23,
   "metadata": {},
   "outputs": [],
   "source": [
    "names_9 = names_9[:10]"
   ]
  },
  {
   "cell_type": "code",
   "execution_count": 24,
   "metadata": {},
   "outputs": [
    {
     "data": {
      "text/plain": [
       "['ASUS ROG G703GI-E5148T 17.3\" (43.94 cms) FHD 144Hz/3ms Gaming Laptop (8th Gen Intel Core i9-8950HK/64GB/2TB SSHD + 1.5TB NVMe SSD/Windows 10/GTX 1080 8GB Graphics/4.70 Kg), Aluminum',\n",
       " 'ASUS ROG Zephyrus Duo 15, 15.6\" FHD 300Hz/3ms, Intel Core i9-10980HK 10th Gen, RTX 2080 SUPER Max-Q 8GB Graphic, Gaming Laptop (32GB/2TB RAID 0 SSD/Office 2019/Windows 10/Gray/2.4 Kg) GX550LXS-HF168TS',\n",
       " 'Dell G7 7500 15.6inch FHD 300 Hz Display Gaming Laptop (10th Gen i9-10885H / 16 GB / 1TB SSD / NVIDIA RTX 2070 8GB Graphics / 1Yr Premium Warranty / Win 10 + MS Office H&S 2019) D560233WIN9B, Black',\n",
       " 'ASUS ROG Strix Scar 15 (2020), 15.6\" FHD 300Hz/3ms, Intel Core i9-10980HK 10th Gen, RTX 2070 Super 8GB Graphics, Gaming Laptop (32GB RAM/1TB NVMe SSD/Windows 10/Black/2.35 Kg), G532LWS-HF079T',\n",
       " 'ASUS ROG Strix Scar 17 (2020), 17.3\" FHD 300Hz/3ms, Intel Core i9-10980HK 10th Gen, RTX 2080 Super GDDR6 8GB Graphics, Gaming Laptop (32GB/2TB RAID 0 SSD/Windows 10/Black/2.99 Kg), G732LXS-HG059T',\n",
       " 'Lenovo Legion 7 10th Gen Intel Core i9 15.6 inch Full HD Gaming Laptop (16GB/1TB SSD/Windows 10/MS Office 2019/144 Hz/NVIDIA RTX 2080 8GB GDDR6 Graphics/Slate Grey/2.25Kg), 81YU006HIN',\n",
       " 'Dell XPS 9570 15.6\" (39.62cms) UHD Laptop (8th Gen i9-8950HK/32GB/1TB SSD/Win 10 + MS Office/Integrated Graphics), Silver',\n",
       " 'ASUS ZenBook Pro Duo Intel Core i9-10980HK 10th Gen 15.6\" 4K UHD OLED Touchscreen Laptop (32GB RAM/1TB NVMe SSD/Windows 10/6GB NVIDIA GeForce RTX 2060 Graphics/Celestial Blue/2.5 Kg), UX581LV-H2035T',\n",
       " '(Renewed) Dell XPS 9570 Laptop|i9-8950HK|32GB DDR4|1TB SSD|15.6\" 4K Touch|NVIDIA GTX 1050Ti 4GB|Win 10 HSL|Backlit',\n",
       " 'Apple MacBook Pro (16-inch, 16GB RAM, 1TB Storage, 2.3GHz 9th Gen Intel Core i9) - Silver']"
      ]
     },
     "execution_count": 24,
     "metadata": {},
     "output_type": "execute_result"
    }
   ],
   "source": [
    "names_9"
   ]
  },
  {
   "cell_type": "code",
   "execution_count": 25,
   "metadata": {},
   "outputs": [],
   "source": [
    "prices_9 = []\n",
    "for link in urls:\n",
    "    \n",
    "    driver.get(link)\n",
    "    \n",
    "    try:\n",
    "        \n",
    "        price_9 = driver.find_element_by_xpath(\"//td[@class='a-span12']//span\")\n",
    "        \n",
    "        prices_9.append(price_9.text)\n",
    "        \n",
    "    except NoSuchElementException:\n",
    "        \n",
    "        prices_9.append(\"Nan\")"
   ]
  },
  {
   "cell_type": "code",
   "execution_count": 26,
   "metadata": {},
   "outputs": [
    {
     "data": {
      "text/plain": [
       "['₹ 4,13,890.00',\n",
       " '₹ 2,66,990.00',\n",
       " '₹ 2,00,690.00',\n",
       " '₹ 2,15,990.00',\n",
       " '₹ 2,77,490.00',\n",
       " '₹ 2,62,990.00',\n",
       " '₹ 2,48,790.00',\n",
       " '₹ 2,99,325.00',\n",
       " 'Nan',\n",
       " '₹ 2,24,990.00']"
      ]
     },
     "execution_count": 26,
     "metadata": {},
     "output_type": "execute_result"
    }
   ],
   "source": [
    "prices_9"
   ]
  },
  {
   "cell_type": "code",
   "execution_count": 27,
   "metadata": {},
   "outputs": [],
   "source": [
    "ratings_9 = []\n",
    "for link in urls:\n",
    "    \n",
    "    driver.get(link)\n",
    "    \n",
    "    try:\n",
    "        \n",
    "        rate_9 = driver.find_element_by_xpath(\"//span[@class='a-size-medium a-color-base']\")\n",
    "        \n",
    "        ratings_9.append(rate_9.text)\n",
    "        \n",
    "    except NoSuchElementException:\n",
    "        \n",
    "        ratings_9.append(\"Nan\")"
   ]
  },
  {
   "cell_type": "code",
   "execution_count": 28,
   "metadata": {},
   "outputs": [
    {
     "data": {
      "text/plain": [
       "['3.7 out of 5',\n",
       " 'Nan',\n",
       " '3.4 out of 5',\n",
       " '4.2 out of 5',\n",
       " '4.8 out of 5',\n",
       " '3.7 out of 5',\n",
       " '2.4 out of 5',\n",
       " '3.8 out of 5',\n",
       " 'Nan',\n",
       " '4.2 out of 5']"
      ]
     },
     "execution_count": 28,
     "metadata": {},
     "output_type": "execute_result"
    }
   ],
   "source": [
    "ratings_9"
   ]
  },
  {
   "cell_type": "code",
   "execution_count": 30,
   "metadata": {},
   "outputs": [],
   "source": [
    "df_9 = pd.DataFrame({})\n",
    "df_9[\"Brand Name\"] = names_9\n",
    "df_9[\"Ratings\"] = ratings_9\n",
    "df_9[\"Price\"] = prices_9"
   ]
  },
  {
   "cell_type": "code",
   "execution_count": 32,
   "metadata": {},
   "outputs": [
    {
     "data": {
      "text/html": [
       "<div>\n",
       "<style scoped>\n",
       "    .dataframe tbody tr th:only-of-type {\n",
       "        vertical-align: middle;\n",
       "    }\n",
       "\n",
       "    .dataframe tbody tr th {\n",
       "        vertical-align: top;\n",
       "    }\n",
       "\n",
       "    .dataframe thead th {\n",
       "        text-align: right;\n",
       "    }\n",
       "</style>\n",
       "<table border=\"1\" class=\"dataframe\">\n",
       "  <thead>\n",
       "    <tr style=\"text-align: right;\">\n",
       "      <th></th>\n",
       "      <th>Brand Name</th>\n",
       "      <th>Ratings</th>\n",
       "      <th>Price</th>\n",
       "    </tr>\n",
       "  </thead>\n",
       "  <tbody>\n",
       "    <tr>\n",
       "      <th>0</th>\n",
       "      <td>ASUS ROG G703GI-E5148T 17.3\" (43.94 cms) FHD 1...</td>\n",
       "      <td>3.7 out of 5</td>\n",
       "      <td>₹ 4,13,890.00</td>\n",
       "    </tr>\n",
       "    <tr>\n",
       "      <th>1</th>\n",
       "      <td>ASUS ROG Zephyrus Duo 15, 15.6\" FHD 300Hz/3ms,...</td>\n",
       "      <td>Nan</td>\n",
       "      <td>₹ 2,66,990.00</td>\n",
       "    </tr>\n",
       "    <tr>\n",
       "      <th>2</th>\n",
       "      <td>Dell G7 7500 15.6inch FHD 300 Hz Display Gamin...</td>\n",
       "      <td>3.4 out of 5</td>\n",
       "      <td>₹ 2,00,690.00</td>\n",
       "    </tr>\n",
       "    <tr>\n",
       "      <th>3</th>\n",
       "      <td>ASUS ROG Strix Scar 15 (2020), 15.6\" FHD 300Hz...</td>\n",
       "      <td>4.2 out of 5</td>\n",
       "      <td>₹ 2,15,990.00</td>\n",
       "    </tr>\n",
       "    <tr>\n",
       "      <th>4</th>\n",
       "      <td>ASUS ROG Strix Scar 17 (2020), 17.3\" FHD 300Hz...</td>\n",
       "      <td>4.8 out of 5</td>\n",
       "      <td>₹ 2,77,490.00</td>\n",
       "    </tr>\n",
       "  </tbody>\n",
       "</table>\n",
       "</div>"
      ],
      "text/plain": [
       "                                          Brand Name       Ratings  \\\n",
       "0  ASUS ROG G703GI-E5148T 17.3\" (43.94 cms) FHD 1...  3.7 out of 5   \n",
       "1  ASUS ROG Zephyrus Duo 15, 15.6\" FHD 300Hz/3ms,...           Nan   \n",
       "2  Dell G7 7500 15.6inch FHD 300 Hz Display Gamin...  3.4 out of 5   \n",
       "3  ASUS ROG Strix Scar 15 (2020), 15.6\" FHD 300Hz...  4.2 out of 5   \n",
       "4  ASUS ROG Strix Scar 17 (2020), 17.3\" FHD 300Hz...  4.8 out of 5   \n",
       "\n",
       "           Price  \n",
       "0  ₹ 4,13,890.00  \n",
       "1  ₹ 2,66,990.00  \n",
       "2  ₹ 2,00,690.00  \n",
       "3  ₹ 2,15,990.00  \n",
       "4  ₹ 2,77,490.00  "
      ]
     },
     "execution_count": 32,
     "metadata": {},
     "output_type": "execute_result"
    }
   ],
   "source": [
    "df_9.head()"
   ]
  }
 ],
 "metadata": {
  "kernelspec": {
   "display_name": "Python 3",
   "language": "python",
   "name": "python3"
  },
  "language_info": {
   "codemirror_mode": {
    "name": "ipython",
    "version": 3
   },
   "file_extension": ".py",
   "mimetype": "text/x-python",
   "name": "python",
   "nbconvert_exporter": "python",
   "pygments_lexer": "ipython3",
   "version": "3.8.5"
  }
 },
 "nbformat": 4,
 "nbformat_minor": 4
}
