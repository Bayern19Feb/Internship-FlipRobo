{
 "cells": [
  {
   "cell_type": "code",
   "execution_count": 1,
   "metadata": {},
   "outputs": [],
   "source": [
    "#import all the required libraries\n",
    "import pandas as pd\n",
    "import selenium\n",
    "from selenium import webdriver\n",
    "import time\n",
    "from selenium.common.exceptions import StaleElementReferenceException, NoSuchElementException"
   ]
  },
  {
   "cell_type": "markdown",
   "metadata": {},
   "source": [
    "### Q1)Scrape the details of most viewed videos on YouTube from Wikipedia:\n",
    "\n",
    "- Url= https://en.wikipedia.org/wiki/List_of_most-viewed_YouTube_videos\n",
    "You need to find following details:\n",
    "- A) Rank\n",
    "\n",
    "\n",
    "- B) Name\n",
    "\n",
    "\n",
    "- C) Artist\n",
    "\n",
    "\n",
    "- D) Upload date\n",
    "\n",
    "\n",
    "- E) Views"
   ]
  },
  {
   "cell_type": "code",
   "execution_count": 2,
   "metadata": {},
   "outputs": [],
   "source": [
    "# URL for the page to be scrapped\n",
    "url = \"https://en.wikipedia.org/wiki/List_of_most-viewed_YouTube_videos\""
   ]
  },
  {
   "cell_type": "code",
   "execution_count": 2,
   "metadata": {},
   "outputs": [],
   "source": [
    "# Importing all the libraries for beautiful soup\n",
    "import requests\n",
    "import bs4\n",
    "import lxml"
   ]
  },
  {
   "cell_type": "code",
   "execution_count": 4,
   "metadata": {},
   "outputs": [],
   "source": [
    "# sending a request to the page \n",
    "req = requests.get(url)"
   ]
  },
  {
   "cell_type": "code",
   "execution_count": 5,
   "metadata": {},
   "outputs": [
    {
     "data": {
      "text/plain": [
       "<Response [200]>"
      ]
     },
     "execution_count": 5,
     "metadata": {},
     "output_type": "execute_result"
    }
   ],
   "source": [
    "# The request is approved\n",
    "req"
   ]
  },
  {
   "cell_type": "code",
   "execution_count": 6,
   "metadata": {},
   "outputs": [],
   "source": [
    "# Using beautiful soup to format the html text\n",
    "soup = bs4.BeautifulSoup(req.text,'html.parser')"
   ]
  },
  {
   "cell_type": "code",
   "execution_count": 8,
   "metadata": {},
   "outputs": [],
   "source": [
    "# Searching the table in the web page using it's class name\n",
    "table_mv = soup.select('.wikitable')"
   ]
  },
  {
   "cell_type": "code",
   "execution_count": 10,
   "metadata": {},
   "outputs": [],
   "source": [
    "# Using pandas read html method to read the html\n",
    "df = pd.read_html(str(table_mv))"
   ]
  },
  {
   "cell_type": "code",
   "execution_count": 15,
   "metadata": {},
   "outputs": [],
   "source": [
    "# creating a dataframe\n",
    "df = df[0]"
   ]
  },
  {
   "cell_type": "code",
   "execution_count": 18,
   "metadata": {},
   "outputs": [],
   "source": [
    "#Code to display row and column border"
   ]
  },
  {
   "cell_type": "code",
   "execution_count": 3,
   "metadata": {},
   "outputs": [
    {
     "data": {
      "text/html": [
       "<style type=\"text/css\">\n",
       "table.dataframe td, table.dataframe th {\n",
       "    border: 1px  black solid !important;\n",
       "  color: black !important;\n",
       "}\n",
       "</style>\n"
      ],
      "text/plain": [
       "<IPython.core.display.HTML object>"
      ]
     },
     "metadata": {},
     "output_type": "display_data"
    }
   ],
   "source": [
    "%%HTML\n",
    "<style type=\"text/css\">\n",
    "table.dataframe td, table.dataframe th {\n",
    "    border: 1px  black solid !important;\n",
    "  color: black !important;\n",
    "}\n",
    "</style>"
   ]
  },
  {
   "cell_type": "code",
   "execution_count": 20,
   "metadata": {},
   "outputs": [
    {
     "data": {
      "text/html": [
       "<div>\n",
       "<style scoped>\n",
       "    .dataframe tbody tr th:only-of-type {\n",
       "        vertical-align: middle;\n",
       "    }\n",
       "\n",
       "    .dataframe tbody tr th {\n",
       "        vertical-align: top;\n",
       "    }\n",
       "\n",
       "    .dataframe thead th {\n",
       "        text-align: right;\n",
       "    }\n",
       "</style>\n",
       "<table border=\"1\" class=\"dataframe\">\n",
       "  <thead>\n",
       "    <tr style=\"text-align: right;\">\n",
       "      <th></th>\n",
       "      <th>No.</th>\n",
       "      <th>Video name</th>\n",
       "      <th>Uploader</th>\n",
       "      <th>Views (billions)</th>\n",
       "      <th>Upload date</th>\n",
       "      <th>Note</th>\n",
       "      <th>Unnamed: 6</th>\n",
       "    </tr>\n",
       "  </thead>\n",
       "  <tbody>\n",
       "    <tr>\n",
       "      <th>0</th>\n",
       "      <td>1.</td>\n",
       "      <td>\"Baby Shark Dance\"[22]</td>\n",
       "      <td>Pinkfong Kids' Songs &amp; Stories</td>\n",
       "      <td>8.74</td>\n",
       "      <td>June 17, 2016</td>\n",
       "      <td>[B]</td>\n",
       "      <td>NaN</td>\n",
       "    </tr>\n",
       "    <tr>\n",
       "      <th>1</th>\n",
       "      <td>2.</td>\n",
       "      <td>\"Despacito\"[24]</td>\n",
       "      <td>Luis Fonsi</td>\n",
       "      <td>7.39</td>\n",
       "      <td>January 12, 2017</td>\n",
       "      <td>[C]</td>\n",
       "      <td>NaN</td>\n",
       "    </tr>\n",
       "    <tr>\n",
       "      <th>2</th>\n",
       "      <td>3.</td>\n",
       "      <td>\"Johny Johny Yes Papa\"[25]</td>\n",
       "      <td>LooLoo Kids</td>\n",
       "      <td>5.43</td>\n",
       "      <td>October 8, 2016</td>\n",
       "      <td>[D]</td>\n",
       "      <td>NaN</td>\n",
       "    </tr>\n",
       "    <tr>\n",
       "      <th>3</th>\n",
       "      <td>4.</td>\n",
       "      <td>\"Shape of You\"[26]</td>\n",
       "      <td>Ed Sheeran</td>\n",
       "      <td>5.34</td>\n",
       "      <td>January 30, 2017</td>\n",
       "      <td>[E]</td>\n",
       "      <td>NaN</td>\n",
       "    </tr>\n",
       "    <tr>\n",
       "      <th>4</th>\n",
       "      <td>5.</td>\n",
       "      <td>\"See You Again\"[27]</td>\n",
       "      <td>Wiz Khalifa</td>\n",
       "      <td>5.13</td>\n",
       "      <td>April 6, 2015</td>\n",
       "      <td>[F]</td>\n",
       "      <td>NaN</td>\n",
       "    </tr>\n",
       "  </tbody>\n",
       "</table>\n",
       "</div>"
      ],
      "text/plain": [
       "  No.                  Video name                        Uploader  \\\n",
       "0  1.      \"Baby Shark Dance\"[22]  Pinkfong Kids' Songs & Stories   \n",
       "1  2.             \"Despacito\"[24]                      Luis Fonsi   \n",
       "2  3.  \"Johny Johny Yes Papa\"[25]                     LooLoo Kids   \n",
       "3  4.          \"Shape of You\"[26]                      Ed Sheeran   \n",
       "4  5.         \"See You Again\"[27]                     Wiz Khalifa   \n",
       "\n",
       "  Views (billions)       Upload date Note Unnamed: 6  \n",
       "0             8.74     June 17, 2016  [B]        NaN  \n",
       "1             7.39  January 12, 2017  [C]        NaN  \n",
       "2             5.43   October 8, 2016  [D]        NaN  \n",
       "3             5.34  January 30, 2017  [E]        NaN  \n",
       "4             5.13     April 6, 2015  [F]        NaN  "
      ]
     },
     "execution_count": 20,
     "metadata": {},
     "output_type": "execute_result"
    }
   ],
   "source": [
    "# we have some unecessary columns we need to drop them\n",
    "df.head()"
   ]
  },
  {
   "cell_type": "code",
   "execution_count": 21,
   "metadata": {},
   "outputs": [],
   "source": [
    "# We can drop the \"Note\" and \"Unnamed: 6\" column as they are of no use\n",
    "df = df.drop([\"Note\",\"Unnamed: 6\"],axis=1)"
   ]
  },
  {
   "cell_type": "code",
   "execution_count": 29,
   "metadata": {},
   "outputs": [
    {
     "data": {
      "text/html": [
       "<div>\n",
       "<style scoped>\n",
       "    .dataframe tbody tr th:only-of-type {\n",
       "        vertical-align: middle;\n",
       "    }\n",
       "\n",
       "    .dataframe tbody tr th {\n",
       "        vertical-align: top;\n",
       "    }\n",
       "\n",
       "    .dataframe thead th {\n",
       "        text-align: right;\n",
       "    }\n",
       "</style>\n",
       "<table border=\"1\" class=\"dataframe\">\n",
       "  <thead>\n",
       "    <tr style=\"text-align: right;\">\n",
       "      <th></th>\n",
       "      <th>No.</th>\n",
       "      <th>Video name</th>\n",
       "      <th>Uploader</th>\n",
       "      <th>Views (billions)</th>\n",
       "      <th>Upload date</th>\n",
       "    </tr>\n",
       "  </thead>\n",
       "  <tbody>\n",
       "    <tr>\n",
       "      <th>0</th>\n",
       "      <td>1.</td>\n",
       "      <td>\"Baby Shark Dance\"[22]</td>\n",
       "      <td>Pinkfong Kids' Songs &amp; Stories</td>\n",
       "      <td>8.74</td>\n",
       "      <td>June 17, 2016</td>\n",
       "    </tr>\n",
       "    <tr>\n",
       "      <th>1</th>\n",
       "      <td>2.</td>\n",
       "      <td>\"Despacito\"[24]</td>\n",
       "      <td>Luis Fonsi</td>\n",
       "      <td>7.39</td>\n",
       "      <td>January 12, 2017</td>\n",
       "    </tr>\n",
       "    <tr>\n",
       "      <th>2</th>\n",
       "      <td>3.</td>\n",
       "      <td>\"Johny Johny Yes Papa\"[25]</td>\n",
       "      <td>LooLoo Kids</td>\n",
       "      <td>5.43</td>\n",
       "      <td>October 8, 2016</td>\n",
       "    </tr>\n",
       "    <tr>\n",
       "      <th>3</th>\n",
       "      <td>4.</td>\n",
       "      <td>\"Shape of You\"[26]</td>\n",
       "      <td>Ed Sheeran</td>\n",
       "      <td>5.34</td>\n",
       "      <td>January 30, 2017</td>\n",
       "    </tr>\n",
       "    <tr>\n",
       "      <th>4</th>\n",
       "      <td>5.</td>\n",
       "      <td>\"See You Again\"[27]</td>\n",
       "      <td>Wiz Khalifa</td>\n",
       "      <td>5.13</td>\n",
       "      <td>April 6, 2015</td>\n",
       "    </tr>\n",
       "  </tbody>\n",
       "</table>\n",
       "</div>"
      ],
      "text/plain": [
       "  No.                  Video name                        Uploader  \\\n",
       "0  1.      \"Baby Shark Dance\"[22]  Pinkfong Kids' Songs & Stories   \n",
       "1  2.             \"Despacito\"[24]                      Luis Fonsi   \n",
       "2  3.  \"Johny Johny Yes Papa\"[25]                     LooLoo Kids   \n",
       "3  4.          \"Shape of You\"[26]                      Ed Sheeran   \n",
       "4  5.         \"See You Again\"[27]                     Wiz Khalifa   \n",
       "\n",
       "  Views (billions)       Upload date  \n",
       "0             8.74     June 17, 2016  \n",
       "1             7.39  January 12, 2017  \n",
       "2             5.43   October 8, 2016  \n",
       "3             5.34  January 30, 2017  \n",
       "4             5.13     April 6, 2015  "
      ]
     },
     "execution_count": 29,
     "metadata": {},
     "output_type": "execute_result"
    }
   ],
   "source": [
    "# Final Dataframe \n",
    "df.head()"
   ]
  },
  {
   "cell_type": "markdown",
   "metadata": {},
   "source": [
    "### Q2)Scrape the details team India’s international fixtures from bcci.tv.\n",
    "- Url = https://www.bcci.tv/.\n",
    "\n",
    "\n",
    "You need to find following details:\n",
    "- A) Match title (I.e. 1st ODI)\n",
    "\n",
    "\n",
    "- B) Series\n",
    "\n",
    "\n",
    "- C) Place\n",
    "\n",
    "\n",
    "- D) Date\n",
    "\n",
    "\n",
    "- E) Time\n",
    "Note: - From bcci.tv home page you have reach to the international fixture page through code."
   ]
  },
  {
   "cell_type": "code",
   "execution_count": 71,
   "metadata": {},
   "outputs": [],
   "source": [
    "# Executing the chromedriver.exe file\n",
    "driver = webdriver.Chrome(r\"C:\\Users\\charl\\Desktop\\Study\\DataTrained\\Internship\\Selenium\\driver\\chromedriver.exe\")                                       "
   ]
  },
  {
   "cell_type": "code",
   "execution_count": 92,
   "metadata": {},
   "outputs": [],
   "source": [
    "# URL of the website \n",
    "url = \"https://www.bcci.tv/\""
   ]
  },
  {
   "cell_type": "code",
   "execution_count": 93,
   "metadata": {},
   "outputs": [],
   "source": [
    "# Using get method to proceed to the website\n",
    "driver.get(url)"
   ]
  },
  {
   "cell_type": "code",
   "execution_count": 94,
   "metadata": {},
   "outputs": [],
   "source": [
    "# clicking on the \"International\" button\n",
    "clk = driver.find_element_by_css_selector(\"body > div.navigation > div > div.navigation__menu-container > div.navigation__menu-wrapper > nav > ul > li:nth-child(1) > div.navigation__drop-down.drop-down.drop-down--reveal-on-hover > div > ul > li:nth-child(1) > a\")"
   ]
  },
  {
   "cell_type": "code",
   "execution_count": 95,
   "metadata": {},
   "outputs": [],
   "source": [
    "# Getting the href attribute for the fixtures dropdown option\n",
    "link = clk.get_attribute(\"href\")"
   ]
  },
  {
   "cell_type": "code",
   "execution_count": 96,
   "metadata": {},
   "outputs": [],
   "source": [
    "# Proceeding on the link through get() method\n",
    "driver.get(link)"
   ]
  },
  {
   "cell_type": "code",
   "execution_count": 97,
   "metadata": {},
   "outputs": [],
   "source": [
    "# Creating an empty list to append the information\n",
    "Title = []\n",
    "\n",
    "# Specifing Xpath to geth the text in html \n",
    "for i in driver.find_elements_by_xpath(\"//span[@class='u-unskewed-text fixture__format']\"):\n",
    "    \n",
    "    Title.append(i.text)"
   ]
  },
  {
   "cell_type": "code",
   "execution_count": 98,
   "metadata": {},
   "outputs": [
    {
     "data": {
      "text/plain": [
       "['TEST', 'TEST', 'TEST', 'TEST', 'TEST', 'TEST']"
      ]
     },
     "execution_count": 98,
     "metadata": {},
     "output_type": "execute_result"
    }
   ],
   "source": [
    "Title"
   ]
  },
  {
   "cell_type": "code",
   "execution_count": 99,
   "metadata": {},
   "outputs": [
    {
     "data": {
      "text/plain": [
       "6"
      ]
     },
     "execution_count": 99,
     "metadata": {},
     "output_type": "execute_result"
    }
   ],
   "source": [
    "len(Title)"
   ]
  },
  {
   "cell_type": "code",
   "execution_count": 100,
   "metadata": {},
   "outputs": [],
   "source": [
    "# Creating an empty list to append the information\n",
    "Series = []\n",
    "\n",
    "\n",
    "# Specifing Xpath to geth the text in html \n",
    "for i in driver.find_elements_by_xpath(\"//span[@class='u-unskewed-text fixture__tournament-label u-truncated']\"):\n",
    "    \n",
    "    Series.append(i.text)"
   ]
  },
  {
   "cell_type": "code",
   "execution_count": 101,
   "metadata": {},
   "outputs": [
    {
     "data": {
      "text/plain": [
       "['ICC WORLD TEST CHAMPIONSHIP',\n",
       " 'ENGLAND V INDIA 2021',\n",
       " 'ENGLAND V INDIA 2021',\n",
       " 'ENGLAND V INDIA 2021',\n",
       " 'ENGLAND V INDIA 2021',\n",
       " 'ENGLAND V INDIA 2021']"
      ]
     },
     "execution_count": 101,
     "metadata": {},
     "output_type": "execute_result"
    }
   ],
   "source": [
    "Series"
   ]
  },
  {
   "cell_type": "code",
   "execution_count": 102,
   "metadata": {},
   "outputs": [
    {
     "data": {
      "text/plain": [
       "6"
      ]
     },
     "execution_count": 102,
     "metadata": {},
     "output_type": "execute_result"
    }
   ],
   "source": [
    "len(Series)"
   ]
  },
  {
   "cell_type": "code",
   "execution_count": 103,
   "metadata": {},
   "outputs": [],
   "source": [
    "# Creating an empty list to append the information\n",
    "Place = []\n",
    "\n",
    "# Specifing Xpath to geth the text in html \n",
    "for i in driver.find_elements_by_xpath(\"//p[@class='fixture__additional-info']//span\"):\n",
    "    \n",
    "    Place.append(i.text)"
   ]
  },
  {
   "cell_type": "code",
   "execution_count": 104,
   "metadata": {},
   "outputs": [
    {
     "data": {
      "text/plain": [
       "['The Ageas Bowl, Southampton',\n",
       " 'Trent Bridge, Nottingham',\n",
       " \"Lord's, London\",\n",
       " 'Headingley, Leeds',\n",
       " 'The Oval, London',\n",
       " 'Old Trafford, Manchester']"
      ]
     },
     "execution_count": 104,
     "metadata": {},
     "output_type": "execute_result"
    }
   ],
   "source": [
    "Place"
   ]
  },
  {
   "cell_type": "code",
   "execution_count": 105,
   "metadata": {},
   "outputs": [
    {
     "data": {
      "text/plain": [
       "6"
      ]
     },
     "execution_count": 105,
     "metadata": {},
     "output_type": "execute_result"
    }
   ],
   "source": [
    "len(Place)"
   ]
  },
  {
   "cell_type": "code",
   "execution_count": 106,
   "metadata": {},
   "outputs": [],
   "source": [
    "# Creating an empty list to append the information\n",
    "Date = []\n",
    "\n",
    "# Specifing Xpath to geth the text in html \n",
    "for i in driver.find_elements_by_xpath(\"//span[@class='fixture__datetime tablet-only']//strong\"):\n",
    "    \n",
    "    Date.append(i.text)"
   ]
  },
  {
   "cell_type": "code",
   "execution_count": 107,
   "metadata": {},
   "outputs": [
    {
     "data": {
      "text/plain": [
       "['Friday 18th June',\n",
       " 'Wednesday 4th August',\n",
       " 'Thursday 12th August',\n",
       " 'Wednesday 25th August',\n",
       " 'Thursday 2nd September',\n",
       " 'Friday 10th September']"
      ]
     },
     "execution_count": 107,
     "metadata": {},
     "output_type": "execute_result"
    }
   ],
   "source": [
    "Date"
   ]
  },
  {
   "cell_type": "code",
   "execution_count": 108,
   "metadata": {},
   "outputs": [],
   "source": [
    "# Collecting the urls \n",
    "Urls = []\n",
    "\n",
    "# Specifing Xpath to geth the links in Anchor tag\n",
    "\n",
    "for i in driver.find_elements_by_xpath(\"//div[@class='page-content__inner']//a\"):\n",
    "    \n",
    "    Urls.append(i.get_attribute(\"href\"))"
   ]
  },
  {
   "cell_type": "code",
   "execution_count": 110,
   "metadata": {},
   "outputs": [],
   "source": [
    "# Creating an empty list to append the information\n",
    "Time_Note = []\n",
    "\n",
    "for link in Urls:\n",
    "    \n",
    "    driver.get(link)\n",
    "    \n",
    "    # Specifing Xpath to geth the text in html\n",
    "    \n",
    "    time = driver.find_element_by_xpath(\"//span[@class='mc-header-scorebox__ist-time']\")\n",
    "    \n",
    "    Time_Note.append(time.text)"
   ]
  },
  {
   "cell_type": "code",
   "execution_count": 111,
   "metadata": {},
   "outputs": [
    {
     "data": {
      "text/plain": [
       "['15:00 IST', '15:30 IST', '15:30 IST', '15:30 IST', '15:30 IST', '15:30 IST']"
      ]
     },
     "execution_count": 111,
     "metadata": {},
     "output_type": "execute_result"
    }
   ],
   "source": [
    "Time_Note"
   ]
  },
  {
   "cell_type": "code",
   "execution_count": 112,
   "metadata": {},
   "outputs": [
    {
     "data": {
      "text/plain": [
       "6"
      ]
     },
     "execution_count": 112,
     "metadata": {},
     "output_type": "execute_result"
    }
   ],
   "source": [
    "len(Time_Note)"
   ]
  },
  {
   "cell_type": "code",
   "execution_count": 113,
   "metadata": {},
   "outputs": [],
   "source": [
    "# Creating dataframe\n",
    "df_icc = pd.DataFrame({})\n",
    "df_icc[\"Title\"] = Title\n",
    "df_icc[\"Series\"] = Series\n",
    "df_icc[\"Place\"] = Place\n",
    "df_icc[\"Date\"] = Date\n",
    "df_icc[\"Time_Note\"] = Time_Note"
   ]
  },
  {
   "cell_type": "code",
   "execution_count": 114,
   "metadata": {},
   "outputs": [
    {
     "data": {
      "text/html": [
       "<div>\n",
       "<style scoped>\n",
       "    .dataframe tbody tr th:only-of-type {\n",
       "        vertical-align: middle;\n",
       "    }\n",
       "\n",
       "    .dataframe tbody tr th {\n",
       "        vertical-align: top;\n",
       "    }\n",
       "\n",
       "    .dataframe thead th {\n",
       "        text-align: right;\n",
       "    }\n",
       "</style>\n",
       "<table border=\"1\" class=\"dataframe\">\n",
       "  <thead>\n",
       "    <tr style=\"text-align: right;\">\n",
       "      <th></th>\n",
       "      <th>Title</th>\n",
       "      <th>Series</th>\n",
       "      <th>Place</th>\n",
       "      <th>Date</th>\n",
       "      <th>Time_Note</th>\n",
       "    </tr>\n",
       "  </thead>\n",
       "  <tbody>\n",
       "    <tr>\n",
       "      <th>0</th>\n",
       "      <td>TEST</td>\n",
       "      <td>ICC WORLD TEST CHAMPIONSHIP</td>\n",
       "      <td>The Ageas Bowl, Southampton</td>\n",
       "      <td>Friday 18th June</td>\n",
       "      <td>15:00 IST</td>\n",
       "    </tr>\n",
       "    <tr>\n",
       "      <th>1</th>\n",
       "      <td>TEST</td>\n",
       "      <td>ENGLAND V INDIA 2021</td>\n",
       "      <td>Trent Bridge, Nottingham</td>\n",
       "      <td>Wednesday 4th August</td>\n",
       "      <td>15:30 IST</td>\n",
       "    </tr>\n",
       "    <tr>\n",
       "      <th>2</th>\n",
       "      <td>TEST</td>\n",
       "      <td>ENGLAND V INDIA 2021</td>\n",
       "      <td>Lord's, London</td>\n",
       "      <td>Thursday 12th August</td>\n",
       "      <td>15:30 IST</td>\n",
       "    </tr>\n",
       "    <tr>\n",
       "      <th>3</th>\n",
       "      <td>TEST</td>\n",
       "      <td>ENGLAND V INDIA 2021</td>\n",
       "      <td>Headingley, Leeds</td>\n",
       "      <td>Wednesday 25th August</td>\n",
       "      <td>15:30 IST</td>\n",
       "    </tr>\n",
       "    <tr>\n",
       "      <th>4</th>\n",
       "      <td>TEST</td>\n",
       "      <td>ENGLAND V INDIA 2021</td>\n",
       "      <td>The Oval, London</td>\n",
       "      <td>Thursday 2nd September</td>\n",
       "      <td>15:30 IST</td>\n",
       "    </tr>\n",
       "  </tbody>\n",
       "</table>\n",
       "</div>"
      ],
      "text/plain": [
       "  Title                       Series                        Place  \\\n",
       "0  TEST  ICC WORLD TEST CHAMPIONSHIP  The Ageas Bowl, Southampton   \n",
       "1  TEST         ENGLAND V INDIA 2021     Trent Bridge, Nottingham   \n",
       "2  TEST         ENGLAND V INDIA 2021               Lord's, London   \n",
       "3  TEST         ENGLAND V INDIA 2021            Headingley, Leeds   \n",
       "4  TEST         ENGLAND V INDIA 2021             The Oval, London   \n",
       "\n",
       "                     Date  Time_Note  \n",
       "0        Friday 18th June  15:00 IST  \n",
       "1    Wednesday 4th August  15:30 IST  \n",
       "2    Thursday 12th August  15:30 IST  \n",
       "3   Wednesday 25th August  15:30 IST  \n",
       "4  Thursday 2nd September  15:30 IST  "
      ]
     },
     "execution_count": 114,
     "metadata": {},
     "output_type": "execute_result"
    }
   ],
   "source": [
    "# Final Dataframe\n",
    "df_icc.head()"
   ]
  },
  {
   "cell_type": "markdown",
   "metadata": {},
   "source": [
    "### Q)3Scrape the details of selenium exception from guru99.com.\n",
    "- Url = https://www.guru99.com/\n",
    "You need to find following details:\n",
    "- A) Name\n",
    "\n",
    "\n",
    "- B) Description\n",
    "\n",
    "\n",
    "- Note: - From guru99 home page you have to reach to selenium exception handling page through code."
   ]
  },
  {
   "cell_type": "code",
   "execution_count": 115,
   "metadata": {},
   "outputs": [],
   "source": [
    "# URL for the website\n",
    "url = \"https://www.guru99.com/\""
   ]
  },
  {
   "cell_type": "code",
   "execution_count": 116,
   "metadata": {},
   "outputs": [],
   "source": [
    "# Using driver.get() method\n",
    "driver.get(url)"
   ]
  },
  {
   "cell_type": "code",
   "execution_count": 117,
   "metadata": {},
   "outputs": [],
   "source": [
    "# Using css selector to get the link for \"Selenium\"\n",
    "clk_1 = driver.find_element_by_css_selector(\"#java_technologies > li:nth-child(3) > a\")"
   ]
  },
  {
   "cell_type": "code",
   "execution_count": 118,
   "metadata": {},
   "outputs": [],
   "source": [
    "# Using get attribute method\n",
    "link = clk_1.get_attribute(\"href\")\n",
    "\n",
    "# Proceeding to the link\n",
    "driver.get(link)"
   ]
  },
  {
   "cell_type": "code",
   "execution_count": 119,
   "metadata": {},
   "outputs": [],
   "source": [
    "# Using css selector to get the link for Selenium Exception Handling (Common Exceptions List)\n",
    "link_2 = driver.find_element_by_css_selector(\"#g-mainbar > div > div > div > div > div > div > div:nth-child(3) > table:nth-child(25) > tbody > tr:nth-child(34) > td.responsivetable > a\")"
   ]
  },
  {
   "cell_type": "code",
   "execution_count": 120,
   "metadata": {},
   "outputs": [],
   "source": [
    "# Using get attribute method\n",
    "link_t = link_2.get_attribute(\"href\")\n",
    "\n",
    "# Proceeding to the link\n",
    "driver.get(link_t)"
   ]
  },
  {
   "cell_type": "code",
   "execution_count": 124,
   "metadata": {},
   "outputs": [
    {
     "data": {
      "text/plain": [
       "'https://www.guru99.com/exception-handling-selenium.html'"
      ]
     },
     "execution_count": 124,
     "metadata": {},
     "output_type": "execute_result"
    }
   ],
   "source": [
    "# Using Beautful soup to get the table\n",
    "link_t"
   ]
  },
  {
   "cell_type": "code",
   "execution_count": 127,
   "metadata": {},
   "outputs": [],
   "source": [
    "# sending a request to the page \n",
    "req = requests.get(link_t)"
   ]
  },
  {
   "cell_type": "code",
   "execution_count": 128,
   "metadata": {},
   "outputs": [
    {
     "data": {
      "text/plain": [
       "<Response [200]>"
      ]
     },
     "execution_count": 128,
     "metadata": {},
     "output_type": "execute_result"
    }
   ],
   "source": [
    "# the request is approved\n",
    "req"
   ]
  },
  {
   "cell_type": "code",
   "execution_count": 129,
   "metadata": {},
   "outputs": [],
   "source": [
    "# Using beautiful soup to format the html text\n",
    "\n",
    "soup = bs4.BeautifulSoup(req.text,'html.parser')"
   ]
  },
  {
   "cell_type": "code",
   "execution_count": 130,
   "metadata": {},
   "outputs": [],
   "source": [
    "# Searching the table in the web page using it's class name\n",
    "\n",
    "table_guru = soup.select('.table.table-striped')"
   ]
  },
  {
   "cell_type": "code",
   "execution_count": 133,
   "metadata": {},
   "outputs": [],
   "source": [
    "# Using pandas read html method to read the html\n",
    "df_guru = pd.read_html(str(table_guru))"
   ]
  },
  {
   "cell_type": "code",
   "execution_count": 141,
   "metadata": {},
   "outputs": [],
   "source": [
    "# Creating dataframe\n",
    "df = df_guru[0]"
   ]
  },
  {
   "cell_type": "code",
   "execution_count": 143,
   "metadata": {
    "scrolled": true
   },
   "outputs": [],
   "source": [
    "# Renaming the columns\n",
    "df.columns = [\"Exception name\",\"Description\"]"
   ]
  },
  {
   "cell_type": "code",
   "execution_count": 147,
   "metadata": {},
   "outputs": [],
   "source": [
    "# Dropping unecessary information\n",
    "df = df.drop(0,axis=0)"
   ]
  },
  {
   "cell_type": "code",
   "execution_count": 148,
   "metadata": {},
   "outputs": [
    {
     "data": {
      "text/html": [
       "<div>\n",
       "<style scoped>\n",
       "    .dataframe tbody tr th:only-of-type {\n",
       "        vertical-align: middle;\n",
       "    }\n",
       "\n",
       "    .dataframe tbody tr th {\n",
       "        vertical-align: top;\n",
       "    }\n",
       "\n",
       "    .dataframe thead th {\n",
       "        text-align: right;\n",
       "    }\n",
       "</style>\n",
       "<table border=\"1\" class=\"dataframe\">\n",
       "  <thead>\n",
       "    <tr style=\"text-align: right;\">\n",
       "      <th></th>\n",
       "      <th>Exception name</th>\n",
       "      <th>Description</th>\n",
       "    </tr>\n",
       "  </thead>\n",
       "  <tbody>\n",
       "    <tr>\n",
       "      <th>1</th>\n",
       "      <td>ElementNotVisibleException</td>\n",
       "      <td>This type of Selenium exception occurs when an...</td>\n",
       "    </tr>\n",
       "    <tr>\n",
       "      <th>2</th>\n",
       "      <td>ElementNotSelectableException</td>\n",
       "      <td>This Selenium exception occurs when an element...</td>\n",
       "    </tr>\n",
       "    <tr>\n",
       "      <th>3</th>\n",
       "      <td>NoSuchElementException</td>\n",
       "      <td>This Exception occurs if an element could not ...</td>\n",
       "    </tr>\n",
       "    <tr>\n",
       "      <th>4</th>\n",
       "      <td>NoSuchFrameException</td>\n",
       "      <td>This Exception occurs if the frame target to b...</td>\n",
       "    </tr>\n",
       "    <tr>\n",
       "      <th>5</th>\n",
       "      <td>NoAlertPresentException</td>\n",
       "      <td>This Exception occurs when you switch to no pr...</td>\n",
       "    </tr>\n",
       "  </tbody>\n",
       "</table>\n",
       "</div>"
      ],
      "text/plain": [
       "                  Exception name  \\\n",
       "1     ElementNotVisibleException   \n",
       "2  ElementNotSelectableException   \n",
       "3         NoSuchElementException   \n",
       "4           NoSuchFrameException   \n",
       "5        NoAlertPresentException   \n",
       "\n",
       "                                         Description  \n",
       "1  This type of Selenium exception occurs when an...  \n",
       "2  This Selenium exception occurs when an element...  \n",
       "3  This Exception occurs if an element could not ...  \n",
       "4  This Exception occurs if the frame target to b...  \n",
       "5  This Exception occurs when you switch to no pr...  "
      ]
     },
     "execution_count": 148,
     "metadata": {},
     "output_type": "execute_result"
    }
   ],
   "source": [
    "df.head()"
   ]
  },
  {
   "cell_type": "markdown",
   "metadata": {},
   "source": [
    "### Q4)Scrape the details of State-wise GDP of India from statisticstime.com.\n",
    "-- Url = http://statisticstimes.com/\n",
    "You have to find following details:\n",
    "- A) Rank\n",
    "- B) State\n",
    "- C) GSDP(18-19)\n",
    "- D) GSDP(17-18)\n",
    "- E) Share(2017)\n",
    "- F) GDP($ billion)\n",
    "\n",
    "\n",
    "Note: - From statisticstimes home page you have to reach to economy page through code."
   ]
  },
  {
   "cell_type": "code",
   "execution_count": 6,
   "metadata": {},
   "outputs": [],
   "source": [
    "# Url for statistic times\n",
    "url = \"http://statisticstimes.com/\""
   ]
  },
  {
   "cell_type": "code",
   "execution_count": 7,
   "metadata": {},
   "outputs": [],
   "source": [
    "# proceeding to the link\n",
    "driver.get(url)"
   ]
  },
  {
   "cell_type": "code",
   "execution_count": 8,
   "metadata": {},
   "outputs": [],
   "source": [
    "# Link for economy dropdown option\n",
    "link = driver.find_element_by_css_selector(\"#top > div.navbar > div:nth-child(2) > div > a:nth-child(3)\")"
   ]
  },
  {
   "cell_type": "code",
   "execution_count": 9,
   "metadata": {},
   "outputs": [],
   "source": [
    "# Link for economy option\n",
    "eco = link.get_attribute(\"href\")"
   ]
  },
  {
   "cell_type": "code",
   "execution_count": 10,
   "metadata": {},
   "outputs": [],
   "source": [
    "# Proceeding to the link\n",
    "driver.get(eco)"
   ]
  },
  {
   "cell_type": "code",
   "execution_count": 11,
   "metadata": {},
   "outputs": [],
   "source": [
    "# getting the link for state wise GDP distribution\n",
    "link2 = driver.find_element_by_css_selector(\"body > div:nth-child(2) > div:nth-child(5) > div:nth-child(2) > ul > li:nth-child(1) > a\")"
   ]
  },
  {
   "cell_type": "code",
   "execution_count": 12,
   "metadata": {},
   "outputs": [],
   "source": [
    "# Saving the link in states variable\n",
    "states = link2.get_attribute(\"href\")"
   ]
  },
  {
   "cell_type": "code",
   "execution_count": 13,
   "metadata": {},
   "outputs": [],
   "source": [
    "# Proceeding to the link\n",
    "driver.get(states)"
   ]
  },
  {
   "cell_type": "code",
   "execution_count": 15,
   "metadata": {},
   "outputs": [],
   "source": [
    "# Using requests method to get the permission from the web page\n",
    "req = requests.get(states)"
   ]
  },
  {
   "cell_type": "code",
   "execution_count": 16,
   "metadata": {},
   "outputs": [
    {
     "data": {
      "text/plain": [
       "<Response [200]>"
      ]
     },
     "execution_count": 16,
     "metadata": {},
     "output_type": "execute_result"
    }
   ],
   "source": [
    "# Permission granted\n",
    "req"
   ]
  },
  {
   "cell_type": "code",
   "execution_count": 17,
   "metadata": {},
   "outputs": [],
   "source": [
    "soup = bs4.BeautifulSoup(req.text,\"html.parser\")"
   ]
  },
  {
   "cell_type": "code",
   "execution_count": 19,
   "metadata": {},
   "outputs": [],
   "source": [
    "# Searching the table in the web page using it's class name\n",
    "table_GDP = soup.select('#table_id')"
   ]
  },
  {
   "cell_type": "code",
   "execution_count": 20,
   "metadata": {},
   "outputs": [
    {
     "data": {
      "text/plain": [
       "[<table class=\"display\" id=\"table_id\" style=\"width:890px;display:table;border:1px solid #0000FF;\">\n",
       " <caption style=\"caption-side:top\">GSDP</caption>\n",
       " <thead>\n",
       " <tr><th rowspan=\"2\" style=\"background-color:#993366\">Rank</th>\n",
       " <th rowspan=\"2\" style=\"background-color:#b33c00\">State</th>\n",
       " <th colspan=\"2\" style=\"background-color:#00e64d\">GSDP (Cr INR at Current prices)</th>\n",
       " <th style=\"background-color:#9932CC\">Share</th><th style=\"background-color:#DEB887\">GDP ($billion)</th>\n",
       " <th colspan=\"2\" style=\"background-color:#1E90FF\">GSDP (Cr INR at 2011-12 prices)</th></tr>\n",
       " <tr style=\"background-color:#a3a375\"><th>19-20</th><th>18-19</th>\n",
       " <th>18-19</th><th>2019</th><th>19-20</th><th>18-19</th></tr>\n",
       " </thead>\n",
       " <tbody>\n",
       " <tr><td class=\"data1\">1</td><td class=\"name\">Maharashtra</td>\n",
       " <td class=\"data\">-</td>\n",
       " <td class=\"data\">2,632,792</td>\n",
       " <td class=\"data\">13.94%</td>\n",
       " <td class=\"data\">399.921</td>\n",
       " <td class=\"data\">-</td>\n",
       " <td class=\"data\">2,039,074</td>\n",
       " </tr><tr><td class=\"data1\">2</td><td class=\"name\">Tamil Nadu</td>\n",
       " <td class=\"data\">1,845,853</td>\n",
       " <td class=\"data\">1,630,208</td>\n",
       " <td class=\"data\">8.63%</td>\n",
       " <td class=\"data\">247.629</td>\n",
       " <td class=\"data\">1,312,929</td>\n",
       " <td class=\"data\">1,215,307</td>\n",
       " </tr><tr><td class=\"data1\">3</td><td class=\"name\">Uttar Pradesh</td>\n",
       " <td class=\"data\">1,687,818</td>\n",
       " <td class=\"data\">1,584,764</td>\n",
       " <td class=\"data\">8.39%</td>\n",
       " <td class=\"data\">240.726</td>\n",
       " <td class=\"data\">1,166,817</td>\n",
       " <td class=\"data\">1,123,982</td>\n",
       " </tr><tr><td class=\"data1\">4</td><td class=\"name\">Gujarat</td>\n",
       " <td class=\"data\">-</td>\n",
       " <td class=\"data\">1,502,899</td>\n",
       " <td class=\"data\">7.96%</td>\n",
       " <td class=\"data\">228.290</td>\n",
       " <td class=\"data\">-</td>\n",
       " <td class=\"data\">1,186,379</td>\n",
       " </tr><tr><td class=\"data1\">5</td><td class=\"name\">Karnataka</td>\n",
       " <td class=\"data\">1,631,977</td>\n",
       " <td class=\"data\">1,493,127</td>\n",
       " <td class=\"data\">7.91%</td>\n",
       " <td class=\"data\">226.806</td>\n",
       " <td class=\"data\">1,156,039</td>\n",
       " <td class=\"data\">1,091,077</td>\n",
       " </tr><tr><td class=\"data1\">6</td><td class=\"name\">West Bengal</td>\n",
       " <td class=\"data\">1,253,832</td>\n",
       " <td class=\"data\">1,089,898</td>\n",
       " <td class=\"data\">5.77%</td>\n",
       " <td class=\"data\">165.556</td>\n",
       " <td class=\"data\">793,223</td>\n",
       " <td class=\"data\">739,525</td>\n",
       " </tr><tr><td class=\"data1\">7</td><td class=\"name\">Rajasthan</td>\n",
       " <td class=\"data\">1,020,989</td>\n",
       " <td class=\"data\">942,586</td>\n",
       " <td class=\"data\">4.99%</td>\n",
       " <td class=\"data\">143.179</td>\n",
       " <td class=\"data\">711,627</td>\n",
       " <td class=\"data\">677,428</td>\n",
       " </tr><tr><td class=\"data1\">8</td><td class=\"name\">Andhra Pradesh</td>\n",
       " <td class=\"data\">972,782</td>\n",
       " <td class=\"data\">862,957</td>\n",
       " <td class=\"data\">4.57%</td>\n",
       " <td class=\"data\">131.083</td>\n",
       " <td class=\"data\">672,018</td>\n",
       " <td class=\"data\">621,301</td>\n",
       " </tr><tr><td class=\"data1\">9</td><td class=\"name\">Telangana</td>\n",
       " <td class=\"data\">969,604</td>\n",
       " <td class=\"data\">861,031</td>\n",
       " <td class=\"data\">4.56%</td>\n",
       " <td class=\"data\">130.791</td>\n",
       " <td class=\"data\">663,258</td>\n",
       " <td class=\"data\">612,828</td>\n",
       " </tr><tr><td class=\"data1\">10</td><td class=\"name\">Madhya Pradesh</td>\n",
       " <td class=\"data\">906,672</td>\n",
       " <td class=\"data\">809,592</td>\n",
       " <td class=\"data\">4.29%</td>\n",
       " <td class=\"data\">122.977</td>\n",
       " <td class=\"data\">561,801</td>\n",
       " <td class=\"data\">522,009</td>\n",
       " </tr><tr><td class=\"data1\">11</td><td class=\"name\">Kerala</td>\n",
       " <td class=\"data\">-</td>\n",
       " <td class=\"data\">781,653</td>\n",
       " <td class=\"data\">4.14%</td>\n",
       " <td class=\"data\">118.733</td>\n",
       " <td class=\"data\">-</td>\n",
       " <td class=\"data\">559,412</td>\n",
       " </tr><tr><td class=\"data1\">12</td><td class=\"name\">Delhi</td>\n",
       " <td class=\"data\">856,112</td>\n",
       " <td class=\"data\">774,870</td>\n",
       " <td class=\"data\">4.10%</td>\n",
       " <td class=\"data\">117.703</td>\n",
       " <td class=\"data\">634,408</td>\n",
       " <td class=\"data\">590,569</td>\n",
       " </tr><tr><td class=\"data1\">13</td><td class=\"name\">Haryana</td>\n",
       " <td class=\"data\">831,610</td>\n",
       " <td class=\"data\">734,163</td>\n",
       " <td class=\"data\">3.89%</td>\n",
       " <td class=\"data\">111.519</td>\n",
       " <td class=\"data\">572,240</td>\n",
       " <td class=\"data\">531,085</td>\n",
       " </tr><tr><td class=\"data1\">14</td><td class=\"name\">Bihar</td>\n",
       " <td class=\"data\">611,804</td>\n",
       " <td class=\"data\">530,363</td>\n",
       " <td class=\"data\">2.81%</td>\n",
       " <td class=\"data\">80.562</td>\n",
       " <td class=\"data\">414,977</td>\n",
       " <td class=\"data\">375,651</td>\n",
       " </tr><tr><td class=\"data1\">15</td><td class=\"name\">Punjab</td>\n",
       " <td class=\"data\">574,760</td>\n",
       " <td class=\"data\">526,376</td>\n",
       " <td class=\"data\">2.79%</td>\n",
       " <td class=\"data\">79.957</td>\n",
       " <td class=\"data\">418,868</td>\n",
       " <td class=\"data\">397,669</td>\n",
       " </tr><tr><td class=\"data1\">16</td><td class=\"name\">Odisha</td>\n",
       " <td class=\"data\">521,275</td>\n",
       " <td class=\"data\">487,805</td>\n",
       " <td class=\"data\">2.58%</td>\n",
       " <td class=\"data\">74.098</td>\n",
       " <td class=\"data\">396,499</td>\n",
       " <td class=\"data\">376,877</td>\n",
       " </tr><tr><td class=\"data1\">17</td><td class=\"name\">Assam</td>\n",
       " <td class=\"data\">-</td>\n",
       " <td class=\"data\">315,881</td>\n",
       " <td class=\"data\">1.67%</td>\n",
       " <td class=\"data\">47.982</td>\n",
       " <td class=\"data\">-</td>\n",
       " <td class=\"data\">234,048</td>\n",
       " </tr><tr><td class=\"data1\">18</td><td class=\"name\">Chhattisgarh</td>\n",
       " <td class=\"data\">329,180</td>\n",
       " <td class=\"data\">304,063</td>\n",
       " <td class=\"data\">1.61%</td>\n",
       " <td class=\"data\">46.187</td>\n",
       " <td class=\"data\">243,477</td>\n",
       " <td class=\"data\">231,182</td>\n",
       " </tr><tr><td class=\"data1\">19</td><td class=\"name\">Jharkhand</td>\n",
       " <td class=\"data\">328,598</td>\n",
       " <td class=\"data\">297,204</td>\n",
       " <td class=\"data\">1.57%</td>\n",
       " <td class=\"data\">45.145</td>\n",
       " <td class=\"data\">240,036</td>\n",
       " <td class=\"data\">224,986</td>\n",
       " </tr><tr><td class=\"data1\">20</td><td class=\"name\">Uttarakhand</td>\n",
       " <td class=\"data\">-</td>\n",
       " <td class=\"data\">245,895</td>\n",
       " <td class=\"data\">1.30%</td>\n",
       " <td class=\"data\">37.351</td>\n",
       " <td class=\"data\">-</td>\n",
       " <td class=\"data\">193,273</td>\n",
       " </tr><tr><td class=\"data1\">21</td><td class=\"name\">Jammu &amp; Kashmir</td>\n",
       " <td class=\"data\">-</td>\n",
       " <td class=\"data\">155,956</td>\n",
       " <td class=\"data\">0.83%</td>\n",
       " <td class=\"data\">23.690</td>\n",
       " <td class=\"data\">-</td>\n",
       " <td class=\"data\">112,755</td>\n",
       " </tr><tr><td class=\"data1\">22</td><td class=\"name\">Himachal Pradesh</td>\n",
       " <td class=\"data\">165,472</td>\n",
       " <td class=\"data\">153,845</td>\n",
       " <td class=\"data\">0.81%</td>\n",
       " <td class=\"data\">23.369</td>\n",
       " <td class=\"data\">124,403</td>\n",
       " <td class=\"data\">117,851</td>\n",
       " </tr><tr><td class=\"data1\">23</td><td class=\"name\">Goa</td>\n",
       " <td class=\"data\">80,449</td>\n",
       " <td class=\"data\">73,170</td>\n",
       " <td class=\"data\">0.39%</td>\n",
       " <td class=\"data\">11.115</td>\n",
       " <td class=\"data\">63,408</td>\n",
       " <td class=\"data\">57,787</td>\n",
       " </tr><tr><td class=\"data1\">24</td><td class=\"name\">Tripura</td>\n",
       " <td class=\"data\">55,984</td>\n",
       " <td class=\"data\">49,845</td>\n",
       " <td class=\"data\">0.26%</td>\n",
       " <td class=\"data\">7.571</td>\n",
       " <td class=\"data\">40,583</td>\n",
       " <td class=\"data\">36,963</td>\n",
       " </tr><tr><td class=\"data1\">25</td><td class=\"name\">Chandigarh</td>\n",
       " <td class=\"data\">-</td>\n",
       " <td class=\"data\">42,114</td>\n",
       " <td class=\"data\">0.22%</td>\n",
       " <td class=\"data\">6.397</td>\n",
       " <td class=\"data\">-</td>\n",
       " <td class=\"data\">31,192</td>\n",
       " </tr><tr><td class=\"data1\">26</td><td class=\"name\">Puducherry</td>\n",
       " <td class=\"data\">38,253</td>\n",
       " <td class=\"data\">34,433</td>\n",
       " <td class=\"data\">0.18%</td>\n",
       " <td class=\"data\">5.230</td>\n",
       " <td class=\"data\">25,093</td>\n",
       " <td class=\"data\">23,013</td>\n",
       " </tr><tr><td class=\"data1\">27</td><td class=\"name\">Meghalaya</td>\n",
       " <td class=\"data\">36,572</td>\n",
       " <td class=\"data\">33,481</td>\n",
       " <td class=\"data\">0.18%</td>\n",
       " <td class=\"data\">5.086</td>\n",
       " <td class=\"data\">26,695</td>\n",
       " <td class=\"data\">24,682</td>\n",
       " </tr><tr><td class=\"data1\">28</td><td class=\"name\">Sikkim</td>\n",
       " <td class=\"data\">32,496</td>\n",
       " <td class=\"data\">28,723</td>\n",
       " <td class=\"data\">0.15%</td>\n",
       " <td class=\"data\">4.363</td>\n",
       " <td class=\"data\">20,017</td>\n",
       " <td class=\"data\">18,722</td>\n",
       " </tr><tr><td class=\"data1\">29</td><td class=\"name\">Manipur</td>\n",
       " <td class=\"data\">31,790</td>\n",
       " <td class=\"data\">27,870</td>\n",
       " <td class=\"data\">0.15%</td>\n",
       " <td class=\"data\">4.233</td>\n",
       " <td class=\"data\">20,673</td>\n",
       " <td class=\"data\">19,300</td>\n",
       " </tr><tr><td class=\"data1\">30</td><td class=\"name\">Nagaland</td>\n",
       " <td class=\"data\">-</td>\n",
       " <td class=\"data\">27,283</td>\n",
       " <td class=\"data\">0.14%</td>\n",
       " <td class=\"data\">4.144</td>\n",
       " <td class=\"data\">-</td>\n",
       " <td class=\"data\">17,647</td>\n",
       " </tr><tr><td class=\"data1\">31</td><td class=\"name\">Arunachal Pradesh</td>\n",
       " <td class=\"data\">-</td>\n",
       " <td class=\"data\">24,603</td>\n",
       " <td class=\"data\">0.13%</td>\n",
       " <td class=\"data\">3.737</td>\n",
       " <td class=\"data\">-</td>\n",
       " <td class=\"data\">16,676</td>\n",
       " </tr><tr><td class=\"data1\">32</td><td class=\"name\">Mizoram</td>\n",
       " <td class=\"data\">26,503</td>\n",
       " <td class=\"data\">22,287</td>\n",
       " <td class=\"data\">0.12%</td>\n",
       " <td class=\"data\">3.385</td>\n",
       " <td class=\"data\">18,797</td>\n",
       " <td class=\"data\">16,478</td>\n",
       " </tr><tr><td class=\"data1\">33</td><td class=\"name\">Andaman &amp; Nicobar Islands</td>\n",
       " <td class=\"data\">-</td><td class=\"data\">-</td><td class=\"data\">-</td>\n",
       " <td class=\"data\">-</td><td class=\"data\">-</td><td class=\"data\">-</td></tr>\n",
       " </tbody>\n",
       " <tfoot>\n",
       " <tr style=\"background-color:#66FFC2\"><td class=\"data1\"></td><td class=\"name\">India</td>\n",
       " <td class=\"data\">20,351,013</td>\n",
       " <td class=\"data\">18,886,957</td>\n",
       " <td class=\"data\"></td><td class=\"data\">2,869</td>\n",
       " <td class=\"data\">14,569,268</td>\n",
       " <td class=\"data\">14,003,316</td>\n",
       " </tr>\n",
       " </tfoot>\n",
       " </table>]"
      ]
     },
     "execution_count": 20,
     "metadata": {},
     "output_type": "execute_result"
    }
   ],
   "source": [
    "table_GDP"
   ]
  },
  {
   "cell_type": "code",
   "execution_count": 21,
   "metadata": {},
   "outputs": [],
   "source": [
    "# Using pandas read html method to read the html\n",
    "df = pd.read_html(str(table_GDP))"
   ]
  },
  {
   "cell_type": "code",
   "execution_count": 23,
   "metadata": {},
   "outputs": [],
   "source": [
    "# Saving the dataframe as df\n",
    "df = df[0]"
   ]
  },
  {
   "cell_type": "code",
   "execution_count": 27,
   "metadata": {},
   "outputs": [
    {
     "data": {
      "text/html": [
       "<div>\n",
       "<style scoped>\n",
       "    .dataframe tbody tr th:only-of-type {\n",
       "        vertical-align: middle;\n",
       "    }\n",
       "\n",
       "    .dataframe tbody tr th {\n",
       "        vertical-align: top;\n",
       "    }\n",
       "\n",
       "    .dataframe thead tr th {\n",
       "        text-align: left;\n",
       "    }\n",
       "</style>\n",
       "<table border=\"1\" class=\"dataframe\">\n",
       "  <thead>\n",
       "    <tr>\n",
       "      <th></th>\n",
       "      <th>Rank</th>\n",
       "      <th>State</th>\n",
       "      <th colspan=\"2\" halign=\"left\">GSDP (Cr INR at Current prices)</th>\n",
       "      <th>Share</th>\n",
       "      <th>GDP ($billion)</th>\n",
       "      <th colspan=\"2\" halign=\"left\">GSDP (Cr INR at 2011-12 prices)</th>\n",
       "    </tr>\n",
       "    <tr>\n",
       "      <th></th>\n",
       "      <th>Rank</th>\n",
       "      <th>State</th>\n",
       "      <th>19-20</th>\n",
       "      <th>18-19</th>\n",
       "      <th>18-19</th>\n",
       "      <th>2019</th>\n",
       "      <th>19-20</th>\n",
       "      <th>18-19</th>\n",
       "    </tr>\n",
       "  </thead>\n",
       "  <tbody>\n",
       "    <tr>\n",
       "      <th>0</th>\n",
       "      <td>1.0</td>\n",
       "      <td>Maharashtra</td>\n",
       "      <td>-</td>\n",
       "      <td>2632792</td>\n",
       "      <td>13.94%</td>\n",
       "      <td>399.921</td>\n",
       "      <td>-</td>\n",
       "      <td>2039074</td>\n",
       "    </tr>\n",
       "    <tr>\n",
       "      <th>1</th>\n",
       "      <td>2.0</td>\n",
       "      <td>Tamil Nadu</td>\n",
       "      <td>1845853</td>\n",
       "      <td>1630208</td>\n",
       "      <td>8.63%</td>\n",
       "      <td>247.629</td>\n",
       "      <td>1312929</td>\n",
       "      <td>1215307</td>\n",
       "    </tr>\n",
       "    <tr>\n",
       "      <th>2</th>\n",
       "      <td>3.0</td>\n",
       "      <td>Uttar Pradesh</td>\n",
       "      <td>1687818</td>\n",
       "      <td>1584764</td>\n",
       "      <td>8.39%</td>\n",
       "      <td>240.726</td>\n",
       "      <td>1166817</td>\n",
       "      <td>1123982</td>\n",
       "    </tr>\n",
       "    <tr>\n",
       "      <th>3</th>\n",
       "      <td>4.0</td>\n",
       "      <td>Gujarat</td>\n",
       "      <td>-</td>\n",
       "      <td>1502899</td>\n",
       "      <td>7.96%</td>\n",
       "      <td>228.290</td>\n",
       "      <td>-</td>\n",
       "      <td>1186379</td>\n",
       "    </tr>\n",
       "    <tr>\n",
       "      <th>4</th>\n",
       "      <td>5.0</td>\n",
       "      <td>Karnataka</td>\n",
       "      <td>1631977</td>\n",
       "      <td>1493127</td>\n",
       "      <td>7.91%</td>\n",
       "      <td>226.806</td>\n",
       "      <td>1156039</td>\n",
       "      <td>1091077</td>\n",
       "    </tr>\n",
       "  </tbody>\n",
       "</table>\n",
       "</div>"
      ],
      "text/plain": [
       "  Rank          State GSDP (Cr INR at Current prices)            Share  \\\n",
       "  Rank          State                           19-20    18-19   18-19   \n",
       "0  1.0    Maharashtra                               -  2632792  13.94%   \n",
       "1  2.0     Tamil Nadu                         1845853  1630208   8.63%   \n",
       "2  3.0  Uttar Pradesh                         1687818  1584764   8.39%   \n",
       "3  4.0        Gujarat                               -  1502899   7.96%   \n",
       "4  5.0      Karnataka                         1631977  1493127   7.91%   \n",
       "\n",
       "  GDP ($billion) GSDP (Cr INR at 2011-12 prices)           \n",
       "            2019                           19-20    18-19  \n",
       "0        399.921                               -  2039074  \n",
       "1        247.629                         1312929  1215307  \n",
       "2        240.726                         1166817  1123982  \n",
       "3        228.290                               -  1186379  \n",
       "4        226.806                         1156039  1091077  "
      ]
     },
     "execution_count": 27,
     "metadata": {},
     "output_type": "execute_result"
    }
   ],
   "source": [
    "# Final Dataframe\n",
    "df.head()"
   ]
  },
  {
   "cell_type": "markdown",
   "metadata": {},
   "source": [
    "### Q5)Scrape the details of trending repositories on Github.com.\n",
    "Url = https://github.com/\n",
    "You have to find the following details:\n",
    "- A) Repository title\n",
    "\n",
    "\n",
    "- B) Repository description\n",
    "\n",
    "\n",
    "- C) Contributors count\n",
    "\n",
    "\n",
    "- D) Language used"
   ]
  },
  {
   "cell_type": "code",
   "execution_count": 14,
   "metadata": {},
   "outputs": [],
   "source": [
    "# URL of the website to be scrapped\n",
    "url = \"https://github.com/\""
   ]
  },
  {
   "cell_type": "code",
   "execution_count": 15,
   "metadata": {},
   "outputs": [],
   "source": [
    "# using .get() method to open the url\n",
    "driver.get(url)"
   ]
  },
  {
   "cell_type": "code",
   "execution_count": 16,
   "metadata": {},
   "outputs": [],
   "source": [
    "# Using Css selectors to find and click the explore button\n",
    "link = driver.find_element_by_css_selector(\"body > div.position-relative.js-header-wrapper > header > div > div.HeaderMenu.HeaderMenu--logged-out.position-fixed.top-0.right-0.bottom-0.height-fit.position-lg-relative.d-lg-flex.flex-justify-between.flex-items-center.flex-auto > nav > ul > li:nth-child(4) > details > div > ul:nth-child(1) > li > a\")"
   ]
  },
  {
   "cell_type": "code",
   "execution_count": 17,
   "metadata": {},
   "outputs": [],
   "source": [
    "# Getting the attribute href to get the link of the page\n",
    "explore = link.get_attribute(\"href\")"
   ]
  },
  {
   "cell_type": "code",
   "execution_count": 18,
   "metadata": {},
   "outputs": [],
   "source": [
    "# Clicking the explore link\n",
    "driver.get(explore)"
   ]
  },
  {
   "cell_type": "code",
   "execution_count": 19,
   "metadata": {},
   "outputs": [],
   "source": [
    "# Using css selector to find the trending button link\n",
    "trend = driver.find_element_by_css_selector(\"#js-pjax-container > div.site-subnav.color-bg-primary.site-subnav-sticky.js-sticky > nav > div > a:nth-child(4)\")"
   ]
  },
  {
   "cell_type": "code",
   "execution_count": 20,
   "metadata": {},
   "outputs": [],
   "source": [
    "# Saving the link in trending variable\n",
    "trending = trend.get_attribute('href')"
   ]
  },
  {
   "cell_type": "code",
   "execution_count": 21,
   "metadata": {},
   "outputs": [],
   "source": [
    "# clicking on the trending link\n",
    "driver.get(trending)"
   ]
  },
  {
   "cell_type": "code",
   "execution_count": 22,
   "metadata": {},
   "outputs": [],
   "source": [
    "# Creating an empty list to collect the urls\n",
    "urls = []\n",
    "\n",
    "# Using x path to get all the urls of the page\n",
    "for i in driver.find_elements_by_xpath(\"//h1[@class='h3 lh-condensed']//a\"):\n",
    "    \n",
    "    urls.append(i.get_attribute('href'))"
   ]
  },
  {
   "cell_type": "code",
   "execution_count": 23,
   "metadata": {},
   "outputs": [
    {
     "data": {
      "text/plain": [
       "['https://github.com/PaperMC/Paper',\n",
       " 'https://github.com/hasura/graphql-engine',\n",
       " 'https://github.com/neovim/neovim',\n",
       " 'https://github.com/udacity/nd064_course_1',\n",
       " 'https://github.com/alpinejs/alpine',\n",
       " 'https://github.com/madMAx43v3r/chia-plotter',\n",
       " 'https://github.com/iptv-org/iptv',\n",
       " 'https://github.com/zzanehip/The-OldOS-Project',\n",
       " 'https://github.com/ytdl-org/youtube-dl',\n",
       " 'https://github.com/biancangming/wtv',\n",
       " 'https://github.com/maziarraissi/Applied-Deep-Learning',\n",
       " 'https://github.com/jwasham/coding-interview-university',\n",
       " 'https://github.com/chrxh/alien',\n",
       " 'https://github.com/the-hyp0cr1t3/DSA-Training-2021',\n",
       " 'https://github.com/wuzhi04/MyActions',\n",
       " 'https://github.com/yangtingxiao/QuantumultX',\n",
       " 'https://github.com/MuriungiPatrick/Bootstrap-5-portfolio-template',\n",
       " 'https://github.com/ashishpatel26/500-AI-Machine-learning-Deep-learning-Computer-vision-NLP-Projects-with-code',\n",
       " 'https://github.com/jina-ai/jina',\n",
       " 'https://github.com/EbookFoundation/free-programming-books',\n",
       " 'https://github.com/hlissner/doom-emacs',\n",
       " 'https://github.com/drawrowfly/tiktok-scraper',\n",
       " 'https://github.com/Genymobile/scrcpy',\n",
       " 'https://github.com/atom/atom',\n",
       " 'https://github.com/nushell/nushell']"
      ]
     },
     "execution_count": 23,
     "metadata": {},
     "output_type": "execute_result"
    }
   ],
   "source": [
    "# URLS from the page\n",
    "urls"
   ]
  },
  {
   "cell_type": "code",
   "execution_count": 24,
   "metadata": {},
   "outputs": [],
   "source": [
    "# Empty list for title\n",
    "Title = []\n",
    "\n",
    "# Empty list for Description\n",
    "Description = []\n",
    "\n",
    "# Empty list for Contributors \n",
    "Contributors = []\n",
    "\n",
    "# Empty list for Language\n",
    "Language = []\n",
    "\n",
    "# Iterating through the urls \n",
    "for link in urls:\n",
    "    \n",
    "    # Clicking each individual url\n",
    "    driver.get(link)\n",
    "    \n",
    "    # Using try catch exception handling\n",
    "    try:\n",
    "        \n",
    "        # Using css selector to find all the Github titles\n",
    "        title = driver.find_element_by_css_selector(\"#js-repo-pjax-container > div.color-bg-secondary.pt-3.hide-full-screen.mb-5 > div.d-flex.mb-3.px-3.px-md-4.px-lg-5 > div > h1 > span.author.flex-self-stretch > a\")\n",
    "        \n",
    "        Title.append(title.text)\n",
    "        \n",
    "    except NoSuchElementException:\n",
    "        \n",
    "        # If no elements found then appending an \"-\"\n",
    "        Title.append(\"-\")\n",
    "        \n",
    "    try:\n",
    "        # Using X path to find all the Github Descreptions\n",
    "        des = driver.find_element_by_xpath(\"//div[@id='readme']\")\n",
    "        \n",
    "        Description.append(des.text)\n",
    "        \n",
    "    except NoSuchElementException:\n",
    "        \n",
    "        # If no elements found then appending an \"-\"\n",
    "        Description.append(\"-\")\n",
    "    \n",
    "    try:\n",
    "        \n",
    "        # Using Css selector to find all the Github Contributors\n",
    "        con = driver.find_element_by_css_selector(\"#repo-content-pjax-container > div > div.gutter-condensed.gutter-lg.flex-column.flex-md-row.d-flex > div.flex-shrink-0.col-12.col-md-3 > div > div:nth-child(3) > div > h2 > a > span\")\n",
    "        \n",
    "        Contributors.append(con.text)\n",
    "        \n",
    "    except NoSuchElementException:\n",
    "        \n",
    "        # If no elements found then appending an \"-\"\n",
    "        Contributors.append(\"-\")\n",
    "        \n",
    "    try:\n",
    "        \n",
    "        # Using Css selector to find all the Github Languages\n",
    "        lan = driver.find_element_by_css_selector(\"#repo-content-pjax-container > div > div.gutter-condensed.gutter-lg.flex-column.flex-md-row.d-flex > div.flex-shrink-0.col-12.col-md-3 > div > div:nth-child(4) > div > ul\")\n",
    "        \n",
    "        Language.append(lan.text)\n",
    "        \n",
    "    except NoSuchElementException:\n",
    "        \n",
    "        # If no elements found then appending an \"-\"\n",
    "        Language.append(\"-\")"
   ]
  },
  {
   "cell_type": "code",
   "execution_count": 29,
   "metadata": {},
   "outputs": [],
   "source": [
    "Lang = Language"
   ]
  },
  {
   "cell_type": "code",
   "execution_count": 41,
   "metadata": {},
   "outputs": [],
   "source": [
    "# Replacing all the \"\\n\" with space in Language\n",
    "Language = [x.replace('\\n', ' ') for x in Lang]"
   ]
  },
  {
   "cell_type": "code",
   "execution_count": 38,
   "metadata": {},
   "outputs": [],
   "source": [
    "# Replacing all the \"\\n\" with space in description\n",
    "Des = [x.replace('\\n', '') for x in Description]"
   ]
  },
  {
   "cell_type": "code",
   "execution_count": 33,
   "metadata": {},
   "outputs": [
    {
     "name": "stdout",
     "output_type": "stream",
     "text": [
      "25\n",
      "25\n",
      "25\n",
      "25\n"
     ]
    }
   ],
   "source": [
    "# Printing the lengths of all the lists\n",
    "print(len(Title))\n",
    "print(len(Description))\n",
    "print(len(Contributors))\n",
    "print(len(Language))"
   ]
  },
  {
   "cell_type": "code",
   "execution_count": 42,
   "metadata": {},
   "outputs": [],
   "source": [
    "# Creating dataframe\n",
    "df_git = pd.DataFrame({})\n",
    "df_git[\"Title\"] = Title\n",
    "df_git[\"Series\"] = Des\n",
    "df_git[\"Place\"] = Contributors\n",
    "df_git[\"Date\"] = Language"
   ]
  },
  {
   "cell_type": "code",
   "execution_count": 43,
   "metadata": {},
   "outputs": [
    {
     "data": {
      "text/html": [
       "<div>\n",
       "<style scoped>\n",
       "    .dataframe tbody tr th:only-of-type {\n",
       "        vertical-align: middle;\n",
       "    }\n",
       "\n",
       "    .dataframe tbody tr th {\n",
       "        vertical-align: top;\n",
       "    }\n",
       "\n",
       "    .dataframe thead th {\n",
       "        text-align: right;\n",
       "    }\n",
       "</style>\n",
       "<table border=\"1\" class=\"dataframe\">\n",
       "  <thead>\n",
       "    <tr style=\"text-align: right;\">\n",
       "      <th></th>\n",
       "      <th>Title</th>\n",
       "      <th>Series</th>\n",
       "      <th>Place</th>\n",
       "      <th>Date</th>\n",
       "    </tr>\n",
       "  </thead>\n",
       "  <tbody>\n",
       "    <tr>\n",
       "      <th>0</th>\n",
       "      <td>PaperMC</td>\n",
       "      <td>README.mdPaperHigh performance Spigot fork tha...</td>\n",
       "      <td>245</td>\n",
       "      <td>Shell 77.9% Java 22.1%</td>\n",
       "    </tr>\n",
       "    <tr>\n",
       "      <th>1</th>\n",
       "      <td>hasura</td>\n",
       "      <td>README.mdHasura GraphQL EngineHasura GraphQL E...</td>\n",
       "      <td></td>\n",
       "      <td></td>\n",
       "    </tr>\n",
       "    <tr>\n",
       "      <th>2</th>\n",
       "      <td>neovim</td>\n",
       "      <td>README.mdDocumentation | Chat | TwitterNeovim ...</td>\n",
       "      <td>-</td>\n",
       "      <td>-</td>\n",
       "    </tr>\n",
       "    <tr>\n",
       "      <th>3</th>\n",
       "      <td>udacity</td>\n",
       "      <td>README.mdnd064_C1</td>\n",
       "      <td></td>\n",
       "      <td>-</td>\n",
       "    </tr>\n",
       "    <tr>\n",
       "      <th>4</th>\n",
       "      <td>alpinejs</td>\n",
       "      <td>README.mdAlpine V3Go to the Alpine docs for mo...</td>\n",
       "      <td>-</td>\n",
       "      <td>-</td>\n",
       "    </tr>\n",
       "  </tbody>\n",
       "</table>\n",
       "</div>"
      ],
      "text/plain": [
       "      Title                                             Series Place  \\\n",
       "0   PaperMC  README.mdPaperHigh performance Spigot fork tha...   245   \n",
       "1    hasura  README.mdHasura GraphQL EngineHasura GraphQL E...         \n",
       "2    neovim  README.mdDocumentation | Chat | TwitterNeovim ...     -   \n",
       "3   udacity                                  README.mdnd064_C1         \n",
       "4  alpinejs  README.mdAlpine V3Go to the Alpine docs for mo...     -   \n",
       "\n",
       "                     Date  \n",
       "0  Shell 77.9% Java 22.1%  \n",
       "1                          \n",
       "2                       -  \n",
       "3                       -  \n",
       "4                       -  "
      ]
     },
     "execution_count": 43,
     "metadata": {},
     "output_type": "execute_result"
    }
   ],
   "source": [
    "# Final Dataframe\n",
    "df_git.head()"
   ]
  },
  {
   "cell_type": "markdown",
   "metadata": {},
   "source": [
    "### Q6) Scrape the details of top 100 songs on billiboard.com.\n",
    "Url = https://www.billboard.com/\n",
    "You have to find the following details:\n",
    "- A) Song name\n",
    "- B) Artist name\n",
    "- C) Last week rank\n",
    "- D) Peak rank\n",
    "- E) Weeks on board\n",
    "Note: - From the home page you have to click on the charts option then hot 100-page link through code."
   ]
  },
  {
   "cell_type": "code",
   "execution_count": 72,
   "metadata": {},
   "outputs": [],
   "source": [
    "# URL of the website\n",
    "url = \"https://www.billboard.com/\""
   ]
  },
  {
   "cell_type": "code",
   "execution_count": 73,
   "metadata": {},
   "outputs": [],
   "source": [
    "# Using get method to proceed to the page\n",
    "driver.get(url)"
   ]
  },
  {
   "cell_type": "code",
   "execution_count": 74,
   "metadata": {},
   "outputs": [],
   "source": [
    "# Getting the top 100 link using css selector\n",
    "link = driver.find_element_by_css_selector(\"#root > div.sticky.header__sticky > div.header__sticky__child > nav > ul > li:nth-child(3) > a\")"
   ]
  },
  {
   "cell_type": "code",
   "execution_count": 75,
   "metadata": {},
   "outputs": [],
   "source": [
    "# Saving the link in top_100\n",
    "top_100 = link.get_attribute(\"href\")"
   ]
  },
  {
   "cell_type": "code",
   "execution_count": 76,
   "metadata": {},
   "outputs": [],
   "source": [
    "# Going to the top 100 link\n",
    "driver.get(top_100)"
   ]
  },
  {
   "cell_type": "code",
   "execution_count": 77,
   "metadata": {},
   "outputs": [],
   "source": [
    "# Empty list for Names\n",
    "Name = []\n",
    "\n",
    "# Empty list for Artists\n",
    "Artist = []\n",
    "\n",
    "# Empty list for Last Week rank\n",
    "L_W_K = []\n",
    "\n",
    "# Empty list for Peak\n",
    "Peak = []\n",
    "\n",
    "# Empty list for Weeks on Board\n",
    "Weeks_On_Board_Note = []\n",
    "\n",
    "\n",
    "# X path to find all the song Names\n",
    "for i in driver.find_elements_by_xpath(\"//span[@class='chart-element__information__song text--truncate color--primary']\"):\n",
    "    \n",
    "    Name.append(i.text)\n",
    "    \n",
    "\n",
    "# X path to find all the Artists Name   \n",
    "for j in driver.find_elements_by_xpath(\"//span[@class='chart-element__information__artist text--truncate color--secondary']\"):\n",
    "    \n",
    "    Artist.append(j.text)\n",
    "\n",
    "# X path to find all the Last Week rank    \n",
    "for k in driver.find_elements_by_xpath(\"//div[@class='chart-element__meta text--center color--secondary text--last']\"):\n",
    "    \n",
    "    L_W_K.append(k.text)\n",
    "    \n",
    "# X path to find all the Peaks \n",
    "for l in driver.find_elements_by_xpath(\"//div[@class='chart-element__meta text--center color--secondary text--peak']\"):\n",
    "    \n",
    "    Peak.append(l.text)\n",
    "    \n",
    "# X path to find all the weeks on board\n",
    "for M in driver.find_elements_by_xpath(\"//div[@class='chart-element__meta text--center color--secondary text--week']\"):\n",
    "    \n",
    "    Weeks_On_Board_Note.append(M.text)"
   ]
  },
  {
   "cell_type": "code",
   "execution_count": 83,
   "metadata": {},
   "outputs": [],
   "source": [
    "# Creating dataframe\n",
    "df_100 = pd.DataFrame({})\n",
    "df_100[\"Name\"] = Name\n",
    "df_100[\"Artist\"] = Artist\n",
    "df_100[\"Last Week Rank\"] = L_W_K\n",
    "df_100[\"Peak\"] = Peak\n",
    "df_100[\"Weeks On Board Note\"] = Weeks_On_Board_Note"
   ]
  },
  {
   "cell_type": "code",
   "execution_count": 84,
   "metadata": {},
   "outputs": [
    {
     "data": {
      "text/html": [
       "<div>\n",
       "<style scoped>\n",
       "    .dataframe tbody tr th:only-of-type {\n",
       "        vertical-align: middle;\n",
       "    }\n",
       "\n",
       "    .dataframe tbody tr th {\n",
       "        vertical-align: top;\n",
       "    }\n",
       "\n",
       "    .dataframe thead th {\n",
       "        text-align: right;\n",
       "    }\n",
       "</style>\n",
       "<table border=\"1\" class=\"dataframe\">\n",
       "  <thead>\n",
       "    <tr style=\"text-align: right;\">\n",
       "      <th></th>\n",
       "      <th>Name</th>\n",
       "      <th>Artist</th>\n",
       "      <th>Last Week Rank</th>\n",
       "      <th>Peak</th>\n",
       "      <th>Weeks On Board Note</th>\n",
       "    </tr>\n",
       "  </thead>\n",
       "  <tbody>\n",
       "    <tr>\n",
       "      <th>0</th>\n",
       "      <td>Butter</td>\n",
       "      <td>BTS</td>\n",
       "      <td>1</td>\n",
       "      <td>1</td>\n",
       "      <td>2</td>\n",
       "    </tr>\n",
       "    <tr>\n",
       "      <th>1</th>\n",
       "      <td>Good 4 U</td>\n",
       "      <td>Olivia Rodrigo</td>\n",
       "      <td>2</td>\n",
       "      <td>1</td>\n",
       "      <td>3</td>\n",
       "    </tr>\n",
       "    <tr>\n",
       "      <th>2</th>\n",
       "      <td>Levitating</td>\n",
       "      <td>Dua Lipa Featuring DaBaby</td>\n",
       "      <td>4</td>\n",
       "      <td>2</td>\n",
       "      <td>35</td>\n",
       "    </tr>\n",
       "    <tr>\n",
       "      <th>3</th>\n",
       "      <td>Leave The Door Open</td>\n",
       "      <td>Silk Sonic (Bruno Mars &amp; Anderson .Paak)</td>\n",
       "      <td>5</td>\n",
       "      <td>1</td>\n",
       "      <td>13</td>\n",
       "    </tr>\n",
       "    <tr>\n",
       "      <th>4</th>\n",
       "      <td>Save Your Tears</td>\n",
       "      <td>The Weeknd &amp; Ariana Grande</td>\n",
       "      <td>7</td>\n",
       "      <td>1</td>\n",
       "      <td>25</td>\n",
       "    </tr>\n",
       "  </tbody>\n",
       "</table>\n",
       "</div>"
      ],
      "text/plain": [
       "                  Name                                    Artist  \\\n",
       "0               Butter                                       BTS   \n",
       "1             Good 4 U                            Olivia Rodrigo   \n",
       "2           Levitating                 Dua Lipa Featuring DaBaby   \n",
       "3  Leave The Door Open  Silk Sonic (Bruno Mars & Anderson .Paak)   \n",
       "4      Save Your Tears                The Weeknd & Ariana Grande   \n",
       "\n",
       "  Last Week Rank Peak Weeks On Board Note  \n",
       "0              1    1                   2  \n",
       "1              2    1                   3  \n",
       "2              4    2                  35  \n",
       "3              5    1                  13  \n",
       "4              7    1                  25  "
      ]
     },
     "execution_count": 84,
     "metadata": {},
     "output_type": "execute_result"
    }
   ],
   "source": [
    "# Final Dataframe\n",
    "df_100.head()"
   ]
  },
  {
   "cell_type": "markdown",
   "metadata": {},
   "source": [
    "### Q7)Scrape the details of Data science recruiters from naukri.com.\n",
    "Url = https://www.naukri.com/\n",
    "You have to find the following details:\n",
    "\n",
    "- A) Name\n",
    "\n",
    "- B) Designation\n",
    "\n",
    "- C) Company\n",
    "\n",
    "- D) Skills they hire for\n",
    "\n",
    "- E) Location\n",
    "Note: - From naukri.com homepage click on the recruiters"
   ]
  },
  {
   "cell_type": "code",
   "execution_count": 85,
   "metadata": {},
   "outputs": [],
   "source": [
    "# Url of page\n",
    "url = \"https://www.naukri.com/\""
   ]
  },
  {
   "cell_type": "code",
   "execution_count": 86,
   "metadata": {},
   "outputs": [],
   "source": [
    "# Going to the url\n",
    "driver.get(url)"
   ]
  },
  {
   "cell_type": "code",
   "execution_count": 87,
   "metadata": {},
   "outputs": [],
   "source": [
    "# Getting the recruiters\n",
    "link = driver.find_element_by_css_selector(\"#root > div.headGNBWrap.initial.fixed > div > ul.midSec.menu > li:nth-child(2) > a\")"
   ]
  },
  {
   "cell_type": "code",
   "execution_count": 88,
   "metadata": {},
   "outputs": [],
   "source": [
    "# Saving the url in a variable\n",
    "rec = link.get_attribute(\"href\")"
   ]
  },
  {
   "cell_type": "code",
   "execution_count": 90,
   "metadata": {},
   "outputs": [],
   "source": [
    "# Going to the url\n",
    "driver.get(rec)"
   ]
  },
  {
   "cell_type": "code",
   "execution_count": 93,
   "metadata": {},
   "outputs": [],
   "source": [
    "# Locating the search bar\n",
    "search_bar = driver.find_element_by_class_name(\"sugInp\")"
   ]
  },
  {
   "cell_type": "code",
   "execution_count": 94,
   "metadata": {},
   "outputs": [],
   "source": [
    "# Searching Data Science in search bar\n",
    "search_bar.send_keys(\"Data science\")"
   ]
  },
  {
   "cell_type": "code",
   "execution_count": 95,
   "metadata": {},
   "outputs": [],
   "source": [
    "# Loacting and clicking the search button\n",
    "search_btn = driver.find_element_by_css_selector(\"#qsbFormBtn\").click()"
   ]
  },
  {
   "cell_type": "code",
   "execution_count": 98,
   "metadata": {},
   "outputs": [],
   "source": [
    "# Empty list for Names\n",
    "Name = []\n",
    "\n",
    "# Empty list for Designation\n",
    "Designation = []\n",
    "\n",
    "# Empty list for Skills\n",
    "Skills = []\n",
    "\n",
    "\n",
    "# Defining the X path for Names\n",
    "for i in driver.find_elements_by_xpath(\"//span[@class='fl ellipsis']\"):\n",
    "    \n",
    "    Name.append(i.text)\n",
    "    \n",
    "# Defining the X path for Designation    \n",
    "for j in driver.find_elements_by_xpath(\"//span[@class='ellipsis clr']\"):\n",
    "    \n",
    "    Designation.append(j.text)\n",
    "    \n",
    "# Defining the X path for Skills\n",
    "for l in driver.find_elements_by_xpath(\"//div[@class='hireSec highlightable']\"):\n",
    "    \n",
    "    Skills.append(l.text)"
   ]
  },
  {
   "cell_type": "code",
   "execution_count": 105,
   "metadata": {},
   "outputs": [],
   "source": [
    "# Collecting the urls for individual items in order to find Company and location\n",
    "Urls = []\n",
    "\n",
    "# Defining the X path to collect urls\n",
    "for url in driver.find_elements_by_xpath(\"//div[@class='recImg mid_pImg_Silht']//a\"):\n",
    "    \n",
    "    Urls.append(url.get_attribute('href'))"
   ]
  },
  {
   "cell_type": "code",
   "execution_count": 107,
   "metadata": {},
   "outputs": [
    {
     "data": {
      "text/plain": [
       "50"
      ]
     },
     "execution_count": 107,
     "metadata": {},
     "output_type": "execute_result"
    }
   ],
   "source": [
    "# Length of urls\n",
    "len(Urls)"
   ]
  },
  {
   "cell_type": "code",
   "execution_count": 108,
   "metadata": {},
   "outputs": [],
   "source": [
    "# EMpty list for companies\n",
    "Company = []\n",
    "\n",
    "# Empty list for location\n",
    "Location = []\n",
    "\n",
    "# Iterating through the urls \n",
    "for link in Urls:\n",
    "    \n",
    "    # Clicking each individual url\n",
    "    driver.get(link)\n",
    "    \n",
    "    # Using try catch exception handling\n",
    "    try:\n",
    "        \n",
    "        # Using css selector to find all the Github titles\n",
    "        com = driver.find_element_by_css_selector(\"body > div.wrap > div.wrpSp.oh > div.frame.oh > div.rFrame.fl.infoWrapper > div:nth-child(4) > a\")\n",
    "        \n",
    "        Company.append(com.text)\n",
    "        \n",
    "    except NoSuchElementException:\n",
    "        \n",
    "        # If no elements found then appending an \"-\"\n",
    "        Company.append(\"-\")\n",
    "        \n",
    "    try:\n",
    "        # Using X path to find all the Github Descreptions\n",
    "        loc = driver.find_element_by_css_selector(\"body > div.wrap > div.wrpSp.oh > div.frame.oh > div.rFrame.fl.infoWrapper > div:nth-child(5) > a\")\n",
    "        \n",
    "        Location.append(loc.text)\n",
    "        \n",
    "    except NoSuchElementException:\n",
    "        \n",
    "        # If no elements found then appending an \"-\"\n",
    "        Location.append(\"-\")"
   ]
  },
  {
   "cell_type": "code",
   "execution_count": 112,
   "metadata": {},
   "outputs": [
    {
     "name": "stdout",
     "output_type": "stream",
     "text": [
      "50\n",
      "50\n",
      "50\n",
      "50\n",
      "50\n"
     ]
    }
   ],
   "source": [
    "# Length of all the lists\n",
    "print(len(Name))\n",
    "print(len(Designation))\n",
    "print(len(Skills))\n",
    "print(len(Company))\n",
    "print(len(Location))"
   ]
  },
  {
   "cell_type": "code",
   "execution_count": 113,
   "metadata": {},
   "outputs": [],
   "source": [
    "# Creating dataframe\n",
    "df_DS = pd.DataFrame({})\n",
    "df_DS[\"Name\"] = Name\n",
    "df_DS[\"Designation\"] = Designation\n",
    "df_DS[\"Skills\"] = Skills\n",
    "df_DS[\"Company\"] = Company\n",
    "df_DS[\"Location\"] = Location"
   ]
  },
  {
   "cell_type": "code",
   "execution_count": 114,
   "metadata": {},
   "outputs": [
    {
     "data": {
      "text/html": [
       "<div>\n",
       "<style scoped>\n",
       "    .dataframe tbody tr th:only-of-type {\n",
       "        vertical-align: middle;\n",
       "    }\n",
       "\n",
       "    .dataframe tbody tr th {\n",
       "        vertical-align: top;\n",
       "    }\n",
       "\n",
       "    .dataframe thead th {\n",
       "        text-align: right;\n",
       "    }\n",
       "</style>\n",
       "<table border=\"1\" class=\"dataframe\">\n",
       "  <thead>\n",
       "    <tr style=\"text-align: right;\">\n",
       "      <th></th>\n",
       "      <th>Name</th>\n",
       "      <th>Designation</th>\n",
       "      <th>Skills</th>\n",
       "      <th>Company</th>\n",
       "      <th>Location</th>\n",
       "    </tr>\n",
       "  </thead>\n",
       "  <tbody>\n",
       "    <tr>\n",
       "      <th>0</th>\n",
       "      <td>Aakash Harit</td>\n",
       "      <td>HR Manager</td>\n",
       "      <td>Classic ASP Developer, Internet Marketing Prof...</td>\n",
       "      <td>Data Science Network</td>\n",
       "      <td>Delhi</td>\n",
       "    </tr>\n",
       "    <tr>\n",
       "      <th>1</th>\n",
       "      <td>shravan Kumar Gaddam</td>\n",
       "      <td>Company Recruiter</td>\n",
       "      <td>.Net, Java, Data Science, Linux Administration...</td>\n",
       "      <td>Shore Infotech India Pvt. Ltd</td>\n",
       "      <td>Hyderabad / Secunderabad</td>\n",
       "    </tr>\n",
       "    <tr>\n",
       "      <th>2</th>\n",
       "      <td>MARSIAN Technologies LLP</td>\n",
       "      <td>Company HR</td>\n",
       "      <td>Data Science, Artificial Intelligence, Machine...</td>\n",
       "      <td>MARSIAN Technologies LLP</td>\n",
       "      <td>Pune</td>\n",
       "    </tr>\n",
       "    <tr>\n",
       "      <th>3</th>\n",
       "      <td>Anik Agrawal</td>\n",
       "      <td>Company Recruiter</td>\n",
       "      <td>Mean Stack, javascript, angularjs, mongodb, We...</td>\n",
       "      <td>Enerlytics Software Solutions Pvt Ltd</td>\n",
       "      <td>Ahmedabad</td>\n",
       "    </tr>\n",
       "    <tr>\n",
       "      <th>4</th>\n",
       "      <td>subhas patel</td>\n",
       "      <td>Founder CEO</td>\n",
       "      <td>Hadoop, Spark, Digital Strategy, Data Architec...</td>\n",
       "      <td>LibraryXProject</td>\n",
       "      <td>UK - (london)</td>\n",
       "    </tr>\n",
       "  </tbody>\n",
       "</table>\n",
       "</div>"
      ],
      "text/plain": [
       "                       Name        Designation  \\\n",
       "0              Aakash Harit         HR Manager   \n",
       "1      shravan Kumar Gaddam  Company Recruiter   \n",
       "2  MARSIAN Technologies LLP         Company HR   \n",
       "3              Anik Agrawal  Company Recruiter   \n",
       "4              subhas patel        Founder CEO   \n",
       "\n",
       "                                              Skills  \\\n",
       "0  Classic ASP Developer, Internet Marketing Prof...   \n",
       "1  .Net, Java, Data Science, Linux Administration...   \n",
       "2  Data Science, Artificial Intelligence, Machine...   \n",
       "3  Mean Stack, javascript, angularjs, mongodb, We...   \n",
       "4  Hadoop, Spark, Digital Strategy, Data Architec...   \n",
       "\n",
       "                                 Company                  Location  \n",
       "0                   Data Science Network                     Delhi  \n",
       "1          Shore Infotech India Pvt. Ltd  Hyderabad / Secunderabad  \n",
       "2               MARSIAN Technologies LLP                      Pune  \n",
       "3  Enerlytics Software Solutions Pvt Ltd                 Ahmedabad  \n",
       "4                        LibraryXProject             UK - (london)  "
      ]
     },
     "execution_count": 114,
     "metadata": {},
     "output_type": "execute_result"
    }
   ],
   "source": [
    "# Final Dataframe\n",
    "df_DS.head()"
   ]
  },
  {
   "cell_type": "markdown",
   "metadata": {},
   "source": [
    "### Q8)Scrape the details of Highest selling novels.\n",
    "Url = https://www.theguardian.com/news/datablog/2012/aug/09/best-selling-books-all-time-fifty-shades-grey-compare/\n",
    "You have to find the following details:\n",
    "- A) Book name\n",
    "- B) Author name\n",
    "- C) Volumes sold\n",
    "- D) Publisher\n",
    "- E) Genre"
   ]
  },
  {
   "cell_type": "code",
   "execution_count": 115,
   "metadata": {},
   "outputs": [],
   "source": [
    "# Url for the page\n",
    "url = \"https://www.theguardian.com/news/datablog/2012/aug/09/best-selling-books-all-time-fifty-shades-grey-compare/\""
   ]
  },
  {
   "cell_type": "code",
   "execution_count": 116,
   "metadata": {},
   "outputs": [],
   "source": [
    "# Using get method to proceed to the page\n",
    "driver.get(url)"
   ]
  },
  {
   "cell_type": "code",
   "execution_count": 117,
   "metadata": {},
   "outputs": [],
   "source": [
    "# Using get method to get the permission \n",
    "req = requests.get(url)"
   ]
  },
  {
   "cell_type": "code",
   "execution_count": 118,
   "metadata": {},
   "outputs": [
    {
     "data": {
      "text/plain": [
       "<Response [200]>"
      ]
     },
     "execution_count": 118,
     "metadata": {},
     "output_type": "execute_result"
    }
   ],
   "source": [
    "# Permission granted\n",
    "req"
   ]
  },
  {
   "cell_type": "code",
   "execution_count": 119,
   "metadata": {},
   "outputs": [],
   "source": [
    "# Using beautiful soup to beautify the html \n",
    "soup = bs4.BeautifulSoup(req.text,\"html.parser\")"
   ]
  },
  {
   "cell_type": "code",
   "execution_count": 121,
   "metadata": {},
   "outputs": [],
   "source": [
    "# Using class name to search the table\n",
    "table_books = soup.select(\".in-article.sortable\")"
   ]
  },
  {
   "cell_type": "code",
   "execution_count": 123,
   "metadata": {},
   "outputs": [],
   "source": [
    "# Using pandas read html method to read the html\n",
    "df_table = pd.read_html(str(table_books))"
   ]
  },
  {
   "cell_type": "code",
   "execution_count": 125,
   "metadata": {},
   "outputs": [],
   "source": [
    "# Storing it in a df variable\n",
    "df = df_table[0]"
   ]
  },
  {
   "cell_type": "code",
   "execution_count": 126,
   "metadata": {},
   "outputs": [
    {
     "data": {
      "text/html": [
       "<div>\n",
       "<style scoped>\n",
       "    .dataframe tbody tr th:only-of-type {\n",
       "        vertical-align: middle;\n",
       "    }\n",
       "\n",
       "    .dataframe tbody tr th {\n",
       "        vertical-align: top;\n",
       "    }\n",
       "\n",
       "    .dataframe thead th {\n",
       "        text-align: right;\n",
       "    }\n",
       "</style>\n",
       "<table border=\"1\" class=\"dataframe\">\n",
       "  <thead>\n",
       "    <tr style=\"text-align: right;\">\n",
       "      <th></th>\n",
       "      <th>Rank</th>\n",
       "      <th>Title</th>\n",
       "      <th>Author</th>\n",
       "      <th>Volume Sales</th>\n",
       "      <th>Publisher</th>\n",
       "      <th>Genre</th>\n",
       "    </tr>\n",
       "  </thead>\n",
       "  <tbody>\n",
       "    <tr>\n",
       "      <th>0</th>\n",
       "      <td>1</td>\n",
       "      <td>Da Vinci Code,The</td>\n",
       "      <td>Brown, Dan</td>\n",
       "      <td>5094805</td>\n",
       "      <td>Transworld</td>\n",
       "      <td>Crime, Thriller &amp; Adventure</td>\n",
       "    </tr>\n",
       "    <tr>\n",
       "      <th>1</th>\n",
       "      <td>2</td>\n",
       "      <td>Harry Potter and the Deathly Hallows</td>\n",
       "      <td>Rowling, J.K.</td>\n",
       "      <td>4475152</td>\n",
       "      <td>Bloomsbury</td>\n",
       "      <td>Children's Fiction</td>\n",
       "    </tr>\n",
       "    <tr>\n",
       "      <th>2</th>\n",
       "      <td>3</td>\n",
       "      <td>Harry Potter and the Philosopher's Stone</td>\n",
       "      <td>Rowling, J.K.</td>\n",
       "      <td>4200654</td>\n",
       "      <td>Bloomsbury</td>\n",
       "      <td>Children's Fiction</td>\n",
       "    </tr>\n",
       "    <tr>\n",
       "      <th>3</th>\n",
       "      <td>4</td>\n",
       "      <td>Harry Potter and the Order of the Phoenix</td>\n",
       "      <td>Rowling, J.K.</td>\n",
       "      <td>4179479</td>\n",
       "      <td>Bloomsbury</td>\n",
       "      <td>Children's Fiction</td>\n",
       "    </tr>\n",
       "    <tr>\n",
       "      <th>4</th>\n",
       "      <td>5</td>\n",
       "      <td>Fifty Shades of Grey</td>\n",
       "      <td>James, E. L.</td>\n",
       "      <td>3758936</td>\n",
       "      <td>Random House</td>\n",
       "      <td>Romance &amp; Sagas</td>\n",
       "    </tr>\n",
       "  </tbody>\n",
       "</table>\n",
       "</div>"
      ],
      "text/plain": [
       "  Rank                                      Title         Author Volume Sales  \\\n",
       "0    1                          Da Vinci Code,The     Brown, Dan      5094805   \n",
       "1    2       Harry Potter and the Deathly Hallows  Rowling, J.K.      4475152   \n",
       "2    3   Harry Potter and the Philosopher's Stone  Rowling, J.K.      4200654   \n",
       "3    4  Harry Potter and the Order of the Phoenix  Rowling, J.K.      4179479   \n",
       "4    5                       Fifty Shades of Grey   James, E. L.      3758936   \n",
       "\n",
       "      Publisher                        Genre  \n",
       "0    Transworld  Crime, Thriller & Adventure  \n",
       "1    Bloomsbury           Children's Fiction  \n",
       "2    Bloomsbury           Children's Fiction  \n",
       "3    Bloomsbury           Children's Fiction  \n",
       "4  Random House              Romance & Sagas  "
      ]
     },
     "execution_count": 126,
     "metadata": {},
     "output_type": "execute_result"
    }
   ],
   "source": [
    "#Final Dataframe\n",
    "df.head()"
   ]
  },
  {
   "cell_type": "markdown",
   "metadata": {},
   "source": [
    "### Q9)Scrape the details most watched tv series of all time from imdb.com.\n",
    "Url = https://www.imdb.com/list/ls095964455/\n",
    "You have to find the following details:\n",
    "- A) Name\n",
    "- B) Year span\n",
    "- C) Genre\n",
    "- D) Run time\n",
    "- E) Ratings\n",
    "- F) Votes"
   ]
  },
  {
   "cell_type": "code",
   "execution_count": 128,
   "metadata": {},
   "outputs": [],
   "source": [
    "# The url of the page\n",
    "url = \"https://www.imdb.com/list/ls095964455/\""
   ]
  },
  {
   "cell_type": "code",
   "execution_count": 129,
   "metadata": {},
   "outputs": [],
   "source": [
    "# Using .get() method to get in url\n",
    "driver.get(url)"
   ]
  },
  {
   "cell_type": "code",
   "execution_count": 130,
   "metadata": {},
   "outputs": [],
   "source": [
    "# Empty list for Name\n",
    "Name = []\n",
    "# Empty list for Year Span\n",
    "Year_span = []\n",
    "# Empty list for Genre\n",
    "Genre = []\n",
    "# Empty list for Run Time\n",
    "Run_time = []\n",
    "# Empty list for Tating\n",
    "Ratings = []\n",
    "# Empty list for Votes\n",
    "Votes = []\n",
    "\n",
    "# X path for Name\n",
    "for i in driver.find_elements_by_xpath(\"//h3[@class='lister-item-header']//a\"):\n",
    "    \n",
    "    Name.append(i.text)\n",
    "\n",
    "# X path for Year soan    \n",
    "for j in driver.find_elements_by_xpath(\"//span[@class='lister-item-year text-muted unbold']\"):\n",
    "    \n",
    "    Year_span.append(j.text)\n",
    "\n",
    "# Empty list for Genre \n",
    "for k in driver.find_elements_by_xpath(\"//span[@class='genre']\"):\n",
    "    \n",
    "    Genre.append(k.text)\n",
    "# Empty list for Run Time    \n",
    "for l in driver.find_elements_by_xpath(\"//span[@class='runtime']\"):\n",
    "    \n",
    "    Run_time.append(l.text)\n",
    "# Empty list for Ratings    \n",
    "for m in driver.find_elements_by_xpath(\"//div[@class='ipl-rating-star small']//span[2]\"):\n",
    "    \n",
    "    Ratings.append(m.text)\n",
    "# Empty list for Votes    \n",
    "for n in driver.find_elements_by_xpath(\"//p[@class='text-muted text-small'][3]//span[2]\"):\n",
    "    \n",
    "    Votes.append(n.text)"
   ]
  },
  {
   "cell_type": "code",
   "execution_count": 137,
   "metadata": {},
   "outputs": [
    {
     "name": "stdout",
     "output_type": "stream",
     "text": [
      "100\n",
      "100\n",
      "100\n",
      "100\n",
      "100\n",
      "100\n"
     ]
    }
   ],
   "source": [
    "# Printing the lengths of lists\n",
    "print(len(Name))\n",
    "\n",
    "print(len(Year_span))\n",
    "\n",
    "print(len(Genre))\n",
    "\n",
    "print(len(Run_time))\n",
    "\n",
    "print(len(Ratings))\n",
    "\n",
    "print(len(Votes))"
   ]
  },
  {
   "cell_type": "code",
   "execution_count": 138,
   "metadata": {},
   "outputs": [],
   "source": [
    "# Creating dataframe\n",
    "df_TS = pd.DataFrame({})\n",
    "df_TS[\"Name\"] = Name\n",
    "df_TS[\"Year_span\"] = Year_span\n",
    "df_TS[\"Genre\"] = Genre\n",
    "df_TS[\"Run_time\"] = Run_time\n",
    "df_TS[\"Ratings\"] = Ratings\n",
    "df_TS[\"Votes\"] = Votes"
   ]
  },
  {
   "cell_type": "code",
   "execution_count": 139,
   "metadata": {},
   "outputs": [
    {
     "data": {
      "text/html": [
       "<div>\n",
       "<style scoped>\n",
       "    .dataframe tbody tr th:only-of-type {\n",
       "        vertical-align: middle;\n",
       "    }\n",
       "\n",
       "    .dataframe tbody tr th {\n",
       "        vertical-align: top;\n",
       "    }\n",
       "\n",
       "    .dataframe thead th {\n",
       "        text-align: right;\n",
       "    }\n",
       "</style>\n",
       "<table border=\"1\" class=\"dataframe\">\n",
       "  <thead>\n",
       "    <tr style=\"text-align: right;\">\n",
       "      <th></th>\n",
       "      <th>Name</th>\n",
       "      <th>Year_span</th>\n",
       "      <th>Genre</th>\n",
       "      <th>Run_time</th>\n",
       "      <th>Ratings</th>\n",
       "      <th>Votes</th>\n",
       "    </tr>\n",
       "  </thead>\n",
       "  <tbody>\n",
       "    <tr>\n",
       "      <th>0</th>\n",
       "      <td>Game of Thrones</td>\n",
       "      <td>(2011–2019)</td>\n",
       "      <td>Action, Adventure, Drama</td>\n",
       "      <td>57 min</td>\n",
       "      <td>9.3</td>\n",
       "      <td>1,822,591</td>\n",
       "    </tr>\n",
       "    <tr>\n",
       "      <th>1</th>\n",
       "      <td>Stranger Things</td>\n",
       "      <td>(2016– )</td>\n",
       "      <td>Drama, Fantasy, Horror</td>\n",
       "      <td>51 min</td>\n",
       "      <td>8.7</td>\n",
       "      <td>863,354</td>\n",
       "    </tr>\n",
       "    <tr>\n",
       "      <th>2</th>\n",
       "      <td>The Walking Dead</td>\n",
       "      <td>(2010–2022)</td>\n",
       "      <td>Drama, Horror, Thriller</td>\n",
       "      <td>44 min</td>\n",
       "      <td>8.2</td>\n",
       "      <td>874,287</td>\n",
       "    </tr>\n",
       "    <tr>\n",
       "      <th>3</th>\n",
       "      <td>13 Reasons Why</td>\n",
       "      <td>(2017–2020)</td>\n",
       "      <td>Drama, Mystery, Thriller</td>\n",
       "      <td>60 min</td>\n",
       "      <td>7.6</td>\n",
       "      <td>262,623</td>\n",
       "    </tr>\n",
       "    <tr>\n",
       "      <th>4</th>\n",
       "      <td>The 100</td>\n",
       "      <td>(2014–2020)</td>\n",
       "      <td>Drama, Mystery, Sci-Fi</td>\n",
       "      <td>43 min</td>\n",
       "      <td>7.6</td>\n",
       "      <td>223,935</td>\n",
       "    </tr>\n",
       "  </tbody>\n",
       "</table>\n",
       "</div>"
      ],
      "text/plain": [
       "               Name    Year_span                     Genre Run_time Ratings  \\\n",
       "0   Game of Thrones  (2011–2019)  Action, Adventure, Drama   57 min     9.3   \n",
       "1   Stranger Things     (2016– )    Drama, Fantasy, Horror   51 min     8.7   \n",
       "2  The Walking Dead  (2010–2022)   Drama, Horror, Thriller   44 min     8.2   \n",
       "3    13 Reasons Why  (2017–2020)  Drama, Mystery, Thriller   60 min     7.6   \n",
       "4           The 100  (2014–2020)    Drama, Mystery, Sci-Fi   43 min     7.6   \n",
       "\n",
       "       Votes  \n",
       "0  1,822,591  \n",
       "1    863,354  \n",
       "2    874,287  \n",
       "3    262,623  \n",
       "4    223,935  "
      ]
     },
     "execution_count": 139,
     "metadata": {},
     "output_type": "execute_result"
    }
   ],
   "source": [
    "# Final Dataframe\n",
    "df_TS.head()"
   ]
  },
  {
   "cell_type": "markdown",
   "metadata": {},
   "source": [
    "### Q10. Details of Datasets from UCI machine learning repositories.\n",
    "Url = https://archive.ics.uci.edu/\n",
    "You have to find the following details:\n",
    "- A) Dataset name\n",
    "- B) Data type\n",
    "- C) Task\n",
    "- D) Attribute type\n",
    "- E) No of instances\n",
    "- F) No of attribute\n",
    "- G) Year\n",
    "Note: - from the home page you have to go to the Show All Dataset page through code."
   ]
  },
  {
   "cell_type": "code",
   "execution_count": 140,
   "metadata": {},
   "outputs": [],
   "source": [
    "# Url for the UCI website\n",
    "url = \"https://archive.ics.uci.edu/\""
   ]
  },
  {
   "cell_type": "code",
   "execution_count": 141,
   "metadata": {},
   "outputs": [],
   "source": [
    "# Proceeding to the url\n",
    "driver.get(url)"
   ]
  },
  {
   "cell_type": "code",
   "execution_count": 142,
   "metadata": {},
   "outputs": [],
   "source": [
    "# Going to the get data set link\n",
    "link = driver.find_element_by_css_selector(\"body > table:nth-child(1) > tbody > tr > td:nth-child(2) > span:nth-child(5) > a\")"
   ]
  },
  {
   "cell_type": "code",
   "execution_count": 144,
   "metadata": {},
   "outputs": [],
   "source": [
    "# Saving the link in get_ds\n",
    "get_ds = link.get_attribute(\"href\")"
   ]
  },
  {
   "cell_type": "code",
   "execution_count": 145,
   "metadata": {},
   "outputs": [],
   "source": [
    "# Proceeding to the link\n",
    "driver.get(get_ds)"
   ]
  },
  {
   "cell_type": "code",
   "execution_count": 146,
   "metadata": {},
   "outputs": [],
   "source": [
    "# Using requests.get() to ask for permission\n",
    "req = requests.get(get_ds)"
   ]
  },
  {
   "cell_type": "code",
   "execution_count": 147,
   "metadata": {},
   "outputs": [
    {
     "data": {
      "text/plain": [
       "<Response [200]>"
      ]
     },
     "execution_count": 147,
     "metadata": {},
     "output_type": "execute_result"
    }
   ],
   "source": [
    "# The request is granted\n",
    "req"
   ]
  },
  {
   "cell_type": "code",
   "execution_count": 149,
   "metadata": {},
   "outputs": [],
   "source": [
    "# Using beautiful soup to beautify the text\n",
    "soup = bs4.BeautifulSoup(req.text,\"html.parser\")"
   ]
  },
  {
   "cell_type": "code",
   "execution_count": 156,
   "metadata": {},
   "outputs": [],
   "source": [
    "# Searching the table tag\n",
    "table = soup.select(\"table\")"
   ]
  },
  {
   "cell_type": "code",
   "execution_count": 161,
   "metadata": {},
   "outputs": [],
   "source": [
    "# Saving the table \n",
    "table = table[1]"
   ]
  },
  {
   "cell_type": "code",
   "execution_count": 162,
   "metadata": {},
   "outputs": [],
   "source": [
    "# Using pandas read html method to read the html\n",
    "df_data = pd.read_html(str(table))"
   ]
  },
  {
   "cell_type": "code",
   "execution_count": 172,
   "metadata": {},
   "outputs": [],
   "source": [
    "df_data = df_data[4]"
   ]
  },
  {
   "cell_type": "code",
   "execution_count": 175,
   "metadata": {},
   "outputs": [],
   "source": [
    "# Renaming the columns\n",
    "df_data.columns = [\"Name\",\"Data Types\",\"Default Task\",\"Attribute Types\",\"Instances\",\"Attributes\",\"Year\"]                                "
   ]
  },
  {
   "cell_type": "code",
   "execution_count": 178,
   "metadata": {},
   "outputs": [],
   "source": [
    "# Drooping the unecessary rows\n",
    "df_UCI = df_data.drop(0,axis=0)"
   ]
  },
  {
   "cell_type": "code",
   "execution_count": 179,
   "metadata": {},
   "outputs": [
    {
     "data": {
      "text/html": [
       "<div>\n",
       "<style scoped>\n",
       "    .dataframe tbody tr th:only-of-type {\n",
       "        vertical-align: middle;\n",
       "    }\n",
       "\n",
       "    .dataframe tbody tr th {\n",
       "        vertical-align: top;\n",
       "    }\n",
       "\n",
       "    .dataframe thead th {\n",
       "        text-align: right;\n",
       "    }\n",
       "</style>\n",
       "<table border=\"1\" class=\"dataframe\">\n",
       "  <thead>\n",
       "    <tr style=\"text-align: right;\">\n",
       "      <th></th>\n",
       "      <th>Name</th>\n",
       "      <th>Data Types</th>\n",
       "      <th>Default Task</th>\n",
       "      <th>Attribute Types</th>\n",
       "      <th>Instances</th>\n",
       "      <th>Attributes</th>\n",
       "      <th>Year</th>\n",
       "    </tr>\n",
       "  </thead>\n",
       "  <tbody>\n",
       "    <tr>\n",
       "      <th>1</th>\n",
       "      <td>Abalone</td>\n",
       "      <td>Multivariate</td>\n",
       "      <td>Classification</td>\n",
       "      <td>Categorical, Integer, Real</td>\n",
       "      <td>4177</td>\n",
       "      <td>8</td>\n",
       "      <td>1995</td>\n",
       "    </tr>\n",
       "    <tr>\n",
       "      <th>2</th>\n",
       "      <td>Adult</td>\n",
       "      <td>Multivariate</td>\n",
       "      <td>Classification</td>\n",
       "      <td>Categorical, Integer</td>\n",
       "      <td>48842</td>\n",
       "      <td>14</td>\n",
       "      <td>1996</td>\n",
       "    </tr>\n",
       "    <tr>\n",
       "      <th>3</th>\n",
       "      <td>Annealing</td>\n",
       "      <td>Multivariate</td>\n",
       "      <td>Classification</td>\n",
       "      <td>Categorical, Integer, Real</td>\n",
       "      <td>798</td>\n",
       "      <td>38</td>\n",
       "      <td>NaN</td>\n",
       "    </tr>\n",
       "    <tr>\n",
       "      <th>4</th>\n",
       "      <td>Anonymous Microsoft Web Data</td>\n",
       "      <td>NaN</td>\n",
       "      <td>Recommender-Systems</td>\n",
       "      <td>Categorical</td>\n",
       "      <td>37711</td>\n",
       "      <td>294</td>\n",
       "      <td>1998</td>\n",
       "    </tr>\n",
       "    <tr>\n",
       "      <th>5</th>\n",
       "      <td>Arrhythmia</td>\n",
       "      <td>Multivariate</td>\n",
       "      <td>Classification</td>\n",
       "      <td>Categorical, Integer, Real</td>\n",
       "      <td>452</td>\n",
       "      <td>279</td>\n",
       "      <td>1998</td>\n",
       "    </tr>\n",
       "  </tbody>\n",
       "</table>\n",
       "</div>"
      ],
      "text/plain": [
       "                           Name    Data Types         Default Task  \\\n",
       "1                       Abalone  Multivariate       Classification   \n",
       "2                         Adult  Multivariate       Classification   \n",
       "3                     Annealing  Multivariate       Classification   \n",
       "4  Anonymous Microsoft Web Data           NaN  Recommender-Systems   \n",
       "5                    Arrhythmia  Multivariate       Classification   \n",
       "\n",
       "              Attribute Types Instances Attributes  Year  \n",
       "1  Categorical, Integer, Real      4177          8  1995  \n",
       "2        Categorical, Integer     48842         14  1996  \n",
       "3  Categorical, Integer, Real       798         38   NaN  \n",
       "4                 Categorical     37711        294  1998  \n",
       "5  Categorical, Integer, Real       452        279  1998  "
      ]
     },
     "execution_count": 179,
     "metadata": {},
     "output_type": "execute_result"
    }
   ],
   "source": [
    "# FInal dataframe\n",
    "df_UCI.head()"
   ]
  }
 ],
 "metadata": {
  "kernelspec": {
   "display_name": "Python 3",
   "language": "python",
   "name": "python3"
  },
  "language_info": {
   "codemirror_mode": {
    "name": "ipython",
    "version": 3
   },
   "file_extension": ".py",
   "mimetype": "text/x-python",
   "name": "python",
   "nbconvert_exporter": "python",
   "pygments_lexer": "ipython3",
   "version": "3.8.8"
  }
 },
 "nbformat": 4,
 "nbformat_minor": 4
}
